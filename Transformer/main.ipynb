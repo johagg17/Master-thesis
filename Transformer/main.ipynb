{
 "cells": [
  {
   "cell_type": "code",
   "execution_count": 1,
   "metadata": {},
   "outputs": [],
   "source": [
    "import torch \n",
    "import torch.nn as nn\n",
    "\n",
    "from Transformer_test import *"
   ]
  },
  {
   "cell_type": "code",
   "execution_count": 2,
   "metadata": {},
   "outputs": [
    {
     "name": "stdout",
     "output_type": "stream",
     "text": [
      "cpu\n"
     ]
    }
   ],
   "source": [
    "if __name__ == \"__main__\":\n",
    "    device = torch.device(\"cuda\" if torch.cuda.is_available() else \"cpu\")\n",
    "    print(device)\n",
    "\n",
    "    x = torch.tensor([[1, 5, 6, 4, 3, 9, 5, 2, 0], [1, 8, 7, 3, 4, 5, 6, 7, 2]]).to(\n",
    "        device\n",
    "    )\n",
    "    trg = torch.tensor([[1, 7, 4, 3, 5, 9, 2, 0], [1, 5, 6, 2, 4, 7, 6, 2]]).to(device)\n",
    "\n",
    "    src_pad_idx = 0\n",
    "    trg_pad_idx = 0\n",
    "    src_vocab_size = 10\n",
    "    trg_vocab_size = 10\n",
    "    \n",
    "    model = Transformer(src_vocab_size, trg_vocab_size, src_pad_idx, trg_pad_idx, device=device).to(\n",
    "        device\n",
    "    )"
   ]
  },
  {
   "cell_type": "code",
   "execution_count": 3,
   "metadata": {},
   "outputs": [
    {
     "name": "stdout",
     "output_type": "stream",
     "text": [
      "torch.Size([2, 7, 10])\n"
     ]
    }
   ],
   "source": [
    "out = model(x, trg[:, :-1])\n",
    "print(out.shape)"
   ]
  },
  {
   "cell_type": "code",
   "execution_count": 4,
   "metadata": {},
   "outputs": [
    {
     "data": {
      "text/plain": [
       "tensor([[[ 0.5271, -0.3930,  0.4112, -0.5230, -0.0097, -1.5568,  0.2834,\n",
       "          -0.8691,  0.4850,  0.5808],\n",
       "         [ 0.6460,  0.1069, -0.5819, -0.2524,  0.4672, -0.9562,  0.1807,\n",
       "          -0.9847, -0.0730,  0.2659],\n",
       "         [ 0.8827, -0.0174, -0.0484, -0.0566,  0.6784, -0.5381,  0.4217,\n",
       "          -0.2036, -0.1064,  0.3261],\n",
       "         [ 1.3476, -0.5475, -0.0082,  0.0886, -0.6297,  0.5282, -0.0906,\n",
       "           0.4840,  0.2778,  0.5437],\n",
       "         [ 1.2206, -1.2007,  0.3690,  0.1978, -0.0803, -0.5372, -0.0975,\n",
       "          -0.4947, -0.4411,  0.3841],\n",
       "         [ 0.1007, -0.3963,  0.3708,  0.9573,  0.2993,  0.1485, -0.1998,\n",
       "          -0.7305,  0.9046,  1.4958],\n",
       "         [ 0.4049, -0.6210, -0.0120,  0.1264,  1.0196,  0.3063,  0.0365,\n",
       "          -0.1431, -0.1125,  0.8486]],\n",
       "\n",
       "        [[ 0.5487, -0.2594,  0.0887, -0.4659, -0.0371, -1.4968,  0.4651,\n",
       "          -1.2122,  0.3050,  0.4580],\n",
       "         [ 0.5874, -0.3663, -0.1341,  0.2101,  0.5368, -0.9742, -0.0228,\n",
       "          -1.2538, -0.4355,  0.5012],\n",
       "         [ 0.7220, -0.2083, -0.1422,  0.8043,  0.1581, -0.2388, -0.0452,\n",
       "          -0.2947, -0.3809,  0.7293],\n",
       "         [ 0.1512, -0.5268, -0.4653,  0.7807, -0.0627,  0.8266,  0.0395,\n",
       "          -0.4366, -0.0762,  0.8111],\n",
       "         [ 1.4211, -0.6626, -0.6079, -0.3739,  0.3294, -0.6614, -0.2485,\n",
       "           0.2703, -0.7611,  0.1521],\n",
       "         [ 0.4694,  0.0546, -0.6642,  0.6097, -0.0936, -0.3882,  0.1457,\n",
       "          -0.9061,  0.1082,  0.7249],\n",
       "         [ 1.0762, -0.3388, -0.1225,  0.1212,  0.1560, -0.1699, -0.0993,\n",
       "          -0.0216, -0.5457,  0.8594]]], grad_fn=<AddBackward0>)"
      ]
     },
     "execution_count": 4,
     "metadata": {},
     "output_type": "execute_result"
    }
   ],
   "source": [
    "out"
   ]
  },
  {
   "cell_type": "code",
   "execution_count": null,
   "metadata": {},
   "outputs": [],
   "source": []
  }
 ],
 "metadata": {
  "kernelspec": {
   "display_name": "Python 3",
   "language": "python",
   "name": "python3"
  },
  "language_info": {
   "codemirror_mode": {
    "name": "ipython",
    "version": 3
   },
   "file_extension": ".py",
   "mimetype": "text/x-python",
   "name": "python",
   "nbconvert_exporter": "python",
   "pygments_lexer": "ipython3",
   "version": "3.8.5"
  }
 },
 "nbformat": 4,
 "nbformat_minor": 4
}
