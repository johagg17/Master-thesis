{
 "cells": [
  {
   "cell_type": "code",
   "execution_count": 1,
   "id": "5fe25c0d",
   "metadata": {},
   "outputs": [],
   "source": [
    "from utils.dataset import EHRDataset\n",
    "from model.tokenizer import EHRTokenizer"
   ]
  },
  {
   "cell_type": "code",
   "execution_count": 2,
   "id": "d87adf4a",
   "metadata": {},
   "outputs": [],
   "source": [
    "path = 'C:/Users/Johan/Documents/Skola/MasterThesis/Master-thesis/pre-processing/combined-csv-files.csv'"
   ]
  },
  {
   "cell_type": "code",
   "execution_count": 3,
   "id": "ad935274",
   "metadata": {},
   "outputs": [],
   "source": [
    "import pandas as pd"
   ]
  },
  {
   "cell_type": "code",
   "execution_count": 4,
   "id": "a25e14a0",
   "metadata": {},
   "outputs": [],
   "source": [
    "tokenizer = EHRTokenizer('pp')"
   ]
  },
  {
   "cell_type": "code",
   "execution_count": 5,
   "id": "f5496f02",
   "metadata": {},
   "outputs": [],
   "source": [
    "dataset = EHRDataset(pd.read_csv(path), tokenizer=tokenizer)"
   ]
  },
  {
   "cell_type": "code",
   "execution_count": 6,
   "id": "59c810a4",
   "metadata": {},
   "outputs": [],
   "source": [
    "from torch.utils.data import DataLoader"
   ]
  },
  {
   "cell_type": "code",
   "execution_count": 7,
   "id": "ab6b8698",
   "metadata": {},
   "outputs": [],
   "source": [
    "train = DataLoader(dataset=dataset, batch_size=1, shuffle=False)"
   ]
  },
  {
   "cell_type": "code",
   "execution_count": 8,
   "id": "dccb6129",
   "metadata": {},
   "outputs": [
    {
     "data": {
      "text/plain": [
       "<torch.utils.data.dataloader.DataLoader at 0x26acfda9dc8>"
      ]
     },
     "execution_count": 8,
     "metadata": {},
     "output_type": "execute_result"
    }
   ],
   "source": [
    "train"
   ]
  },
  {
   "cell_type": "code",
   "execution_count": 9,
   "id": "4377e7f7",
   "metadata": {},
   "outputs": [
    {
     "data": {
      "text/plain": [
       "107904"
      ]
     },
     "execution_count": 9,
     "metadata": {},
     "output_type": "execute_result"
    }
   ],
   "source": [
    "len(train)"
   ]
  },
  {
   "cell_type": "code",
   "execution_count": 10,
   "id": "2064d486",
   "metadata": {},
   "outputs": [],
   "source": [
    "iter_dataloader = iter(train)"
   ]
  },
  {
   "cell_type": "code",
   "execution_count": 11,
   "id": "8dc0e5de",
   "metadata": {
    "scrolled": true
   },
   "outputs": [
    {
     "name": "stdout",
     "output_type": "stream",
     "text": [
      "[1, 17731, 17731, 17731, 17731, 17731, 17731, 17731, 17731, 17731, 17731, 17731, 17731, 17731, 17731, 3, 0, 0, 0, 0, 0, 0, 0, 0, 0, 0, 0, 0, 0, 0, 0, 0, 0, 0, 0, 0, 0, 0, 0, 0, 0, 0, 0, 0, 0, 0, 0, 0, 0, 0, 0, 0, 0, 0, 0, 0, 0, 0, 0, 0, 0, 0, 0, 0]\n"
     ]
    },
    {
     "data": {
      "text/plain": [
       "[tensor([[    1, 17731, 17731, 17731, 17731, 17731, 17731, 17731, 17731, 17731,\n",
       "          17731, 17731, 17731, 17731, 17731,     3,     0,     0,     0,     0,\n",
       "              0,     0,     0,     0,     0,     0,     0,     0,     0,     0,\n",
       "              0,     0,     0,     0,     0,     0,     0,     0,     0,     0,\n",
       "              0,     0,     0,     0,     0,     0,     0,     0,     0,     0,\n",
       "              0,     0,     0,     0,     0,     0,     0,     0,     0,     0,\n",
       "              0,     0,     0,     0]]),\n",
       " tensor([[    1,  6389,  6301, 15616,  6567,   742, 15618, 12368,  7409,  3448,\n",
       "           8830, 15625,  6403,  6923,  9099,     3,     0,     0,     0,     0,\n",
       "              0,     0,     0,     0,     0,     0,     0,     0,     0,     0,\n",
       "              0,     0,     0,     0,     0,     0,     0,     0,     0,     0,\n",
       "              0,     0,     0,     0,     0,     0,     0,     0,     0,     0,\n",
       "              0,     0,     0,     0,     0,     0,     0,     0,     0,     0,\n",
       "              0,     0,     0,     0]])]"
      ]
     },
     "execution_count": 11,
     "metadata": {},
     "output_type": "execute_result"
    }
   ],
   "source": [
    "next(iter_dataloader)"
   ]
  },
  {
   "cell_type": "code",
   "execution_count": 14,
   "id": "6b834a1f",
   "metadata": {},
   "outputs": [],
   "source": [
    "from model.tokenizer import EHRTokenizer"
   ]
  },
  {
   "cell_type": "code",
   "execution_count": 2,
   "id": "454fb5ab",
   "metadata": {},
   "outputs": [
    {
     "name": "stdout",
     "output_type": "stream",
     "text": [
      "<model.tokenizer.Voc object at 0x0000025BC5B9B288>\n"
     ]
    }
   ],
   "source": [
    "tokenizer = EHRTokenizer('pa')"
   ]
  },
  {
   "cell_type": "code",
   "execution_count": 3,
   "id": "81b240aa",
   "metadata": {},
   "outputs": [],
   "source": [
    "spectokens = ['[PAD]', '[CLS]', '[MASK]']"
   ]
  },
  {
   "cell_type": "code",
   "execution_count": 4,
   "id": "21958fef",
   "metadata": {},
   "outputs": [],
   "source": [
    "tokens = tokenizer.convert_tokens_to_ids(spectokens)"
   ]
  },
  {
   "cell_type": "code",
   "execution_count": 5,
   "id": "a5b8cd95",
   "metadata": {},
   "outputs": [
    {
     "data": {
      "text/plain": [
       "['[PAD]', '[CLS]', '[MASK]']"
      ]
     },
     "execution_count": 5,
     "metadata": {},
     "output_type": "execute_result"
    }
   ],
   "source": [
    "tokenizer.convert_ids_to_tokens(tokens)"
   ]
  },
  {
   "cell_type": "code",
   "execution_count": 6,
   "id": "9796ccae",
   "metadata": {},
   "outputs": [],
   "source": [
    "spectokens = ['[CLS]', 'Y92009', 81, '[SEP]']"
   ]
  },
  {
   "cell_type": "code",
   "execution_count": 8,
   "id": "12c69eea",
   "metadata": {},
   "outputs": [],
   "source": [
    "tokens = tokenizer.convert_tokens_to_ids(spectokens)"
   ]
  },
  {
   "cell_type": "code",
   "execution_count": 9,
   "id": "c9a8befb",
   "metadata": {},
   "outputs": [
    {
     "data": {
      "text/plain": [
       "['[CLS]', 'Y92009', 81, '[SEP]']"
      ]
     },
     "execution_count": 9,
     "metadata": {},
     "output_type": "execute_result"
    }
   ],
   "source": [
    "tokenizer.convert_ids_to_tokens(tokens)"
   ]
  },
  {
   "cell_type": "code",
   "execution_count": 3,
   "id": "f004e696",
   "metadata": {},
   "outputs": [],
   "source": [
    "from pytorch_pretrained_bert import BertTokenizer, BertModel, BertForMaskedLM"
   ]
  },
  {
   "cell_type": "code",
   "execution_count": 4,
   "id": "29355d6a",
   "metadata": {},
   "outputs": [
    {
     "name": "stderr",
     "output_type": "stream",
     "text": [
      "\n",
      "  0%|                                                                                        | 0/231508 [00:00<?, ?B/s]\u001b[A\n",
      "  8%|██████                                                                  | 19456/231508 [00:00<00:01, 158220.08B/s]\u001b[A\n",
      "100%|███████████████████████████████████████████████████████████████████████| 231508/231508 [00:00<00:00, 756538.53B/s]\u001b[A\n"
     ]
    }
   ],
   "source": [
    "tokenizer = BertTokenizer.from_pretrained('bert-base-uncased')"
   ]
  },
  {
   "cell_type": "code",
   "execution_count": 6,
   "id": "c8c3da65",
   "metadata": {},
   "outputs": [],
   "source": [
    "text = 'My name is slim shade and I am an aspiring AI Engineer. I am an aspiring AI Engineer. My name is Slim'"
   ]
  },
  {
   "cell_type": "code",
   "execution_count": 11,
   "id": "fe3f7244",
   "metadata": {},
   "outputs": [],
   "source": [
    "tokens = tokenizer.tokenize(text)"
   ]
  },
  {
   "cell_type": "code",
   "execution_count": 14,
   "id": "aaf6f53e",
   "metadata": {},
   "outputs": [
    {
     "data": {
      "text/plain": [
       "[2026,\n",
       " 2171,\n",
       " 2003,\n",
       " 11754,\n",
       " 8703,\n",
       " 1998,\n",
       " 1045,\n",
       " 2572,\n",
       " 2019,\n",
       " 22344,\n",
       " 9932,\n",
       " 3992,\n",
       " 1012,\n",
       " 1045,\n",
       " 2572,\n",
       " 2019,\n",
       " 22344,\n",
       " 9932,\n",
       " 3992,\n",
       " 1012,\n",
       " 2026,\n",
       " 2171,\n",
       " 2003,\n",
       " 11754]"
      ]
     },
     "execution_count": 14,
     "metadata": {},
     "output_type": "execute_result"
    }
   ],
   "source": [
    "tokenizer.convert_tokens_to_ids(tokens)"
   ]
  },
  {
   "cell_type": "code",
   "execution_count": null,
   "id": "ba446aff",
   "metadata": {},
   "outputs": [],
   "source": []
  }
 ],
 "metadata": {
  "kernelspec": {
   "display_name": "Python 3 (ipykernel)",
   "language": "python",
   "name": "python3"
  },
  "language_info": {
   "codemirror_mode": {
    "name": "ipython",
    "version": 3
   },
   "file_extension": ".py",
   "mimetype": "text/x-python",
   "name": "python",
   "nbconvert_exporter": "python",
   "pygments_lexer": "ipython3",
   "version": "3.7.11"
  }
 },
 "nbformat": 4,
 "nbformat_minor": 5
}
