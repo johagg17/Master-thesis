{
 "cells": [
  {
   "cell_type": "code",
   "execution_count": 1,
   "id": "5fe25c0d",
   "metadata": {},
   "outputs": [],
   "source": [
    "from utils.dataset import EHRDataset\n",
    "from model.tokenizer import EHRTokenizer"
   ]
  },
  {
   "cell_type": "code",
   "execution_count": 2,
   "id": "79beeea4",
   "metadata": {},
   "outputs": [
    {
     "name": "stderr",
     "output_type": "stream",
     "text": [
      "To use data.metrics please install scikit-learn. See https://scikit-learn.org/stable/index.html\n"
     ]
    }
   ],
   "source": [
    "from transformers import BertTokenizer"
   ]
  },
  {
   "cell_type": "code",
   "execution_count": 2,
   "id": "d87adf4a",
   "metadata": {},
   "outputs": [],
   "source": [
    "path = 'C:/Users/Johan/Documents/Skola/MasterThesis/Master-thesis/pre-processing/combined-csv-files.csv'"
   ]
  },
  {
   "cell_type": "code",
   "execution_count": 3,
   "id": "ad935274",
   "metadata": {},
   "outputs": [],
   "source": [
    "import pandas as pd"
   ]
  },
  {
   "cell_type": "code",
   "execution_count": 4,
   "id": "a25e14a0",
   "metadata": {},
   "outputs": [],
   "source": [
    "tokenizer = EHRTokenizer('pp')"
   ]
  },
  {
   "cell_type": "code",
   "execution_count": 5,
   "id": "f5496f02",
   "metadata": {},
   "outputs": [],
   "source": [
    "dataset = EHRDataset(pd.read_csv(path), tokenizer=tokenizer)"
   ]
  },
  {
   "cell_type": "code",
   "execution_count": 6,
   "id": "59c810a4",
   "metadata": {},
   "outputs": [],
   "source": [
    "from torch.utils.data import DataLoader"
   ]
  },
  {
   "cell_type": "code",
   "execution_count": 7,
   "id": "ab6b8698",
   "metadata": {},
   "outputs": [],
   "source": [
    "train = DataLoader(dataset=dataset, batch_size=1, shuffle=False)"
   ]
  },
  {
   "cell_type": "code",
   "execution_count": 8,
   "id": "dccb6129",
   "metadata": {},
   "outputs": [
    {
     "data": {
      "text/plain": [
       "<torch.utils.data.dataloader.DataLoader at 0x20ebb555088>"
      ]
     },
     "execution_count": 8,
     "metadata": {},
     "output_type": "execute_result"
    }
   ],
   "source": [
    "train"
   ]
  },
  {
   "cell_type": "code",
   "execution_count": 9,
   "id": "4377e7f7",
   "metadata": {},
   "outputs": [
    {
     "data": {
      "text/plain": [
       "107904"
      ]
     },
     "execution_count": 9,
     "metadata": {},
     "output_type": "execute_result"
    }
   ],
   "source": [
    "len(train)"
   ]
  },
  {
   "cell_type": "code",
   "execution_count": 27,
   "id": "2064d486",
   "metadata": {},
   "outputs": [],
   "source": [
    "iter_dataloader = iter(train)"
   ]
  },
  {
   "cell_type": "code",
   "execution_count": 35,
   "id": "8dc0e5de",
   "metadata": {
    "scrolled": true
   },
   "outputs": [
    {
     "data": {
      "text/plain": [
       "[tensor([[    1, 17731,     3, 17731, 17731, 17731, 17731,     3]]),\n",
       " tensor([[    1,  3448,     3,  6389,  3448, 14944, 16007,     3]])]"
      ]
     },
     "execution_count": 35,
     "metadata": {},
     "output_type": "execute_result"
    }
   ],
   "source": [
    "next(iter_dataloader)"
   ]
  },
  {
   "cell_type": "code",
   "execution_count": 14,
   "id": "6b834a1f",
   "metadata": {},
   "outputs": [],
   "source": [
    "from model.tokenizer import EHRTokenizer"
   ]
  },
  {
   "cell_type": "code",
   "execution_count": 2,
   "id": "454fb5ab",
   "metadata": {},
   "outputs": [
    {
     "name": "stdout",
     "output_type": "stream",
     "text": [
      "<model.tokenizer.Voc object at 0x0000025BC5B9B288>\n"
     ]
    }
   ],
   "source": [
    "tokenizer = EHRTokenizer('pa')"
   ]
  },
  {
   "cell_type": "code",
   "execution_count": 3,
   "id": "81b240aa",
   "metadata": {},
   "outputs": [],
   "source": [
    "spectokens = ['[PAD]', '[CLS]', '[MASK]']"
   ]
  },
  {
   "cell_type": "code",
   "execution_count": 4,
   "id": "21958fef",
   "metadata": {},
   "outputs": [],
   "source": [
    "tokens = tokenizer.convert_tokens_to_ids(spectokens)"
   ]
  },
  {
   "cell_type": "code",
   "execution_count": 5,
   "id": "a5b8cd95",
   "metadata": {},
   "outputs": [
    {
     "data": {
      "text/plain": [
       "['[PAD]', '[CLS]', '[MASK]']"
      ]
     },
     "execution_count": 5,
     "metadata": {},
     "output_type": "execute_result"
    }
   ],
   "source": [
    "tokenizer.convert_ids_to_tokens(tokens)"
   ]
  },
  {
   "cell_type": "code",
   "execution_count": 6,
   "id": "9796ccae",
   "metadata": {},
   "outputs": [],
   "source": [
    "spectokens = ['[CLS]', 'Y92009', 81, '[SEP]']"
   ]
  },
  {
   "cell_type": "code",
   "execution_count": 8,
   "id": "12c69eea",
   "metadata": {},
   "outputs": [],
   "source": [
    "tokens = tokenizer.convert_tokens_to_ids(spectokens)"
   ]
  },
  {
   "cell_type": "code",
   "execution_count": 9,
   "id": "c9a8befb",
   "metadata": {},
   "outputs": [
    {
     "data": {
      "text/plain": [
       "['[CLS]', 'Y92009', 81, '[SEP]']"
      ]
     },
     "execution_count": 9,
     "metadata": {},
     "output_type": "execute_result"
    }
   ],
   "source": [
    "tokenizer.convert_ids_to_tokens(tokens)"
   ]
  },
  {
   "cell_type": "code",
   "execution_count": null,
   "id": "f004e696",
   "metadata": {},
   "outputs": [],
   "source": []
  }
 ],
 "metadata": {
  "kernelspec": {
   "display_name": "Python 3 (ipykernel)",
   "language": "python",
   "name": "python3"
  },
  "language_info": {
   "codemirror_mode": {
    "name": "ipython",
    "version": 3
   },
   "file_extension": ".py",
   "mimetype": "text/x-python",
   "name": "python",
   "nbconvert_exporter": "python",
   "pygments_lexer": "ipython3",
   "version": "3.7.11"
  }
 },
 "nbformat": 4,
 "nbformat_minor": 5
}
