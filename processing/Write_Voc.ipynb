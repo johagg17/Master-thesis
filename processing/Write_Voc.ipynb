{
 "cells": [
  {
   "cell_type": "code",
   "execution_count": 1,
   "id": "c6826fca-d604-4240-9d6f-708c3f43b12e",
   "metadata": {},
   "outputs": [
    {
     "name": "stderr",
     "output_type": "stream",
     "text": [
      "/var/local/home/linler17/.conda/envs/masterenv/lib/python3.7/site-packages/tqdm/auto.py:22: TqdmWarning: IProgress not found. Please update jupyter and ipywidgets. See https://ipywidgets.readthedocs.io/en/stable/user_install.html\n",
      "  from .autonotebook import tqdm as notebook_tqdm\n"
     ]
    }
   ],
   "source": [
    "import sys\n",
    "sys.path.insert(1, '../')\n",
    "from utils.packages import *"
   ]
  },
  {
   "cell_type": "code",
   "execution_count": 63,
   "id": "2cf48044-6b31-483a-aa51-9f848244a9b7",
   "metadata": {},
   "outputs": [],
   "source": [
    "data_path = 'data/datasets/synthea/Smaller_cohorts/'\n",
    "save_path = 'data/vocabularies/Synthea/Small_cohorts/'"
   ]
  },
  {
   "cell_type": "code",
   "execution_count": 64,
   "id": "623588b5-e0b9-4010-97cb-c0b3ff74661f",
   "metadata": {},
   "outputs": [],
   "source": [
    "dataset = pd.read_parquet(data_path + 'synthea_processed.parquet')"
   ]
  },
  {
   "cell_type": "markdown",
   "id": "27ab536f-ccaf-4d8f-915e-46f07a0cb38d",
   "metadata": {},
   "source": [
    "#### Vocabulary for MLM"
   ]
  },
  {
   "cell_type": "code",
   "execution_count": 65,
   "id": "8ed70bee-631c-4fc5-a7c6-b8a8da7a15be",
   "metadata": {},
   "outputs": [],
   "source": [
    "ages = dataset['age'].tolist()\n",
    "file_path = save_path + 'age.npy'\n",
    "write_age_to_file(ages, file_path)"
   ]
  },
  {
   "cell_type": "code",
   "execution_count": 68,
   "id": "405bb3ff-6403-4a1d-b7ae-c9b9ac5ad7e5",
   "metadata": {},
   "outputs": [],
   "source": [
    "diagnos_codes = dataset['diagnos_code'].tolist()\n",
    "med_codes = dataset['medication_code'].tolist()\n",
    "proc_codes = dataset['procedure_code'].tolist()\n",
    "diagnos_codes.extend(med_codes)\n",
    "diagnos_codes.extend(proc_codes)\n",
    "file_path = save_path + 'diagnosis_med_proccodes.npy'\n",
    "write_codes_to_file(diagnos_codes, file_path)"
   ]
  },
  {
   "cell_type": "markdown",
   "id": "46857ae6-09e0-4b8b-b7f3-ff060e2a5cf8",
   "metadata": {
    "tags": []
   },
   "source": [
    "#### Vocabulary for NextVisit"
   ]
  },
  {
   "cell_type": "code",
   "execution_count": 69,
   "id": "099c44d1-53d4-4893-8052-efd9312094b7",
   "metadata": {},
   "outputs": [],
   "source": [
    "diagnos_codes = dataset['diagnos_code']"
   ]
  },
  {
   "cell_type": "code",
   "execution_count": 70,
   "id": "fbf575b1-d943-4652-8fb2-a6d7dcd6946b",
   "metadata": {},
   "outputs": [],
   "source": [
    "lastvisitdiagnoses = diagnos_codes.apply(lambda x: x[-1])"
   ]
  },
  {
   "cell_type": "code",
   "execution_count": 71,
   "id": "1cf81dc9-14aa-4002-b79e-ddbb7be70d90",
   "metadata": {},
   "outputs": [],
   "source": [
    "last_visitcodes = lastvisitdiagnoses.tolist()"
   ]
  },
  {
   "cell_type": "code",
   "execution_count": 72,
   "id": "fde75dd7-3abe-4300-a5c5-5bf58f48e539",
   "metadata": {},
   "outputs": [],
   "source": [
    "all_labels = []\n",
    "for code in last_visitcodes:\n",
    "    all_labels.extend(code)\n",
    "np.save(save_path + 'labeldiagnosiscode.npy',np.array(list(set(all_labels))))"
   ]
  },
  {
   "cell_type": "code",
   "execution_count": null,
   "id": "bdedfc73-a37d-45df-a099-ee116c1d2cd9",
   "metadata": {},
   "outputs": [],
   "source": []
  }
 ],
 "metadata": {
  "kernelspec": {
   "display_name": "Python 3",
   "language": "python",
   "name": "python3"
  },
  "language_info": {
   "codemirror_mode": {
    "name": "ipython",
    "version": 3
   },
   "file_extension": ".py",
   "mimetype": "text/x-python",
   "name": "python",
   "nbconvert_exporter": "python",
   "pygments_lexer": "ipython3",
   "version": "3.7.11"
  }
 },
 "nbformat": 4,
 "nbformat_minor": 5
}
