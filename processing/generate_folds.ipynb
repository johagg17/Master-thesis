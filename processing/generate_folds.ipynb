{
 "cells": [
  {
   "cell_type": "code",
   "execution_count": 8,
   "id": "00e399d7-af92-4af8-adb0-14e8107765c4",
   "metadata": {},
   "outputs": [],
   "source": [
    "## File for generating 3 folds for readmission and nextvisittask\n",
    "from sklearn.model_selection import KFold"
   ]
  },
  {
   "cell_type": "code",
   "execution_count": 3,
   "id": "2e5bea33-26ad-41af-9461-cc51a03d5a67",
   "metadata": {},
   "outputs": [],
   "source": [
    "n_folds = 3"
   ]
  },
  {
   "cell_type": "code",
   "execution_count": 4,
   "id": "229b563d-a3fa-4a37-bf70-1c454eed612c",
   "metadata": {},
   "outputs": [
    {
     "name": "stderr",
     "output_type": "stream",
     "text": [
      "/var/local/home/linler17/.conda/envs/masterenv/lib/python3.7/site-packages/tqdm/auto.py:22: TqdmWarning: IProgress not found. Please update jupyter and ipywidgets. See https://ipywidgets.readthedocs.io/en/stable/user_install.html\n",
      "  from .autonotebook import tqdm as notebook_tqdm\n"
     ]
    }
   ],
   "source": [
    "import sys\n",
    "sys.path.insert(1, '../')\n",
    "from utils.packages import *"
   ]
  },
  {
   "cell_type": "code",
   "execution_count": 11,
   "id": "e47c97c4-7bf4-417e-be01-206e898c5b4e",
   "metadata": {},
   "outputs": [],
   "source": [
    "def fix_length(data, visit_label):\n",
    "    df = data.copy()\n",
    "    df['hadm_id'] = df['hadm_id'].apply(lambda x: x[:visit_label])\n",
    "    df['medication_code'] = df['medication_code'].apply(lambda x: x[:visit_label])\n",
    "    df['diagnos_code'] = df['diagnos_code'].apply(lambda x: x[:visit_label])\n",
    "    df['procedure_code'] = df['procedure_code'].apply(lambda x: x[:visit_label])\n",
    "    \n",
    "    return df"
   ]
  },
  {
   "cell_type": "markdown",
   "id": "e78a47a5-c039-4bb5-b643-0a3df7b1428d",
   "metadata": {},
   "source": [
    "## Readmission"
   ]
  },
  {
   "cell_type": "markdown",
   "id": "82ed157c-06e1-4d64-a71a-56c3dac81b00",
   "metadata": {},
   "source": [
    "#### MIMIC"
   ]
  },
  {
   "cell_type": "code",
   "execution_count": 56,
   "id": "e66b2c37-7393-47b6-a14a-73e697fc4820",
   "metadata": {},
   "outputs": [],
   "source": [
    "labelvisit = 10"
   ]
  },
  {
   "cell_type": "code",
   "execution_count": 57,
   "id": "ba50fc63-c1f3-4f81-a9e8-8c9d80d87ac2",
   "metadata": {},
   "outputs": [],
   "source": [
    "data_path = '../data/datasets/MIMIC/mimic_done3.parquet'\n",
    "save_path = '../data/cross_val/MIMIC/readmission_visit{}'.format(labelvisit) "
   ]
  },
  {
   "cell_type": "code",
   "execution_count": 58,
   "id": "1fc889f9-336d-4d80-8a11-c00b5f14d3fa",
   "metadata": {},
   "outputs": [],
   "source": [
    "df = pd.read_parquet(data_path).rename(columns={'ccsr':'diagnos_code', 'ndc':'medication_code', 'procedure_ccsr':'procedure_code'})\n",
    "df['age'] =df['age'].apply(lambda x: list(map(int, x)))\n",
    "df = df[df['hadm_id'].map(len) >= labelvisit]\n",
    "df = fix_length(df, labelvisit)"
   ]
  },
  {
   "cell_type": "code",
   "execution_count": 59,
   "id": "2577a9ef-bb4c-46f2-87ae-1ca12f6f4eee",
   "metadata": {},
   "outputs": [],
   "source": [
    "kfold = KFold(n_splits=3, shuffle=True)\n",
    "\n",
    "for fold_idx, (train_idx, test_idx) in enumerate(kfold.split(df)):\n",
    "    train, test = df.iloc[train_idx, :], df.iloc[test_idx, :]\n",
    "    train.to_parquet(save_path + '/fold{}/train.parquet'.format(fold_idx + 1))\n",
    "    test.to_parquet(save_path + '/fold{}/test.parquet'.format(fold_idx + 1))"
   ]
  },
  {
   "cell_type": "markdown",
   "id": "5ea52dd3-699b-4555-bd3f-d84907f25634",
   "metadata": {},
   "source": [
    "#### Synthea"
   ]
  },
  {
   "cell_type": "code",
   "execution_count": 46,
   "id": "8b80d17a-b2be-451a-b37a-78ce3baca861",
   "metadata": {},
   "outputs": [],
   "source": [
    "labelvisit = 10"
   ]
  },
  {
   "cell_type": "code",
   "execution_count": 47,
   "id": "ade0bbdf-28e9-4cb7-8336-65ae2b7c1ab2",
   "metadata": {},
   "outputs": [],
   "source": [
    "data_path = '../data/datasets/Synthea/Final_cohorts/synthea_done.parquet'\n",
    "save_path = '../data/cross_val/Synthea/readmission_visit{}'.format(labelvisit) "
   ]
  },
  {
   "cell_type": "code",
   "execution_count": 48,
   "id": "05596f98-14b5-42a6-90b1-27f098fd742b",
   "metadata": {},
   "outputs": [],
   "source": [
    "df_synth = pd.read_parquet(data_path)\n",
    "df_synth = df_synth[df_synth['hadm_id'].map(len) >= labelvisit]\n",
    "df_synth = fix_length(df_synth, labelvisit)"
   ]
  },
  {
   "cell_type": "code",
   "execution_count": 89,
   "id": "73910900-9e8e-499a-b342-9935a26259e7",
   "metadata": {},
   "outputs": [
    {
     "name": "stdout",
     "output_type": "stream",
     "text": [
      "[     2      4      5 ... 348174 348175 348176]\n",
      "[     0      1      3 ... 348173 348175 348176]\n",
      "[     0      1      2 ... 348172 348173 348174]\n"
     ]
    }
   ],
   "source": [
    "kfold = KFold(n_splits=3, shuffle=True)\n",
    "\n",
    "for fold_idx, (train_idx, test_idx) in enumerate(kfold.split(df_synth)):\n",
    "    print(train_idx)\n",
    "    train, test = df_synth.iloc[train_idx, :], df_synth.iloc[test_idx, :]\n",
    "    train.to_parquet(save_path + '/fold{}/train.parquet'.format(fold_idx + 1))\n",
    "    test.to_parquet(save_path + '/fold{}/test.parquet'.format(fold_idx + 1))"
   ]
  },
  {
   "cell_type": "code",
   "execution_count": 87,
   "id": "55da75f3-23da-4e26-bba0-ba6bf6750518",
   "metadata": {},
   "outputs": [],
   "source": [
    "train1 = pd.read_parquet(save_path + '/fold{}/train.parquet'.format(1))\n",
    "train2 = pd.read_parquet(save_path + '/fold{}/train.parquet'.format(2))"
   ]
  },
  {
   "cell_type": "markdown",
   "id": "559914f0-b6fa-4aaa-97a8-0289219a26c4",
   "metadata": {},
   "source": [
    "## NextVisit"
   ]
  },
  {
   "cell_type": "markdown",
   "id": "a6c17c87-01fc-4e94-a7b0-83e1e4d9cf03",
   "metadata": {},
   "source": [
    "#### MIMIC"
   ]
  },
  {
   "cell_type": "code",
   "execution_count": 73,
   "id": "4aee6f9c-ea89-4331-9897-7a1868c082bf",
   "metadata": {},
   "outputs": [],
   "source": [
    "nextvisitlabel = 5"
   ]
  },
  {
   "cell_type": "code",
   "execution_count": 74,
   "id": "b5cda95d-efd1-42a0-adf4-caea434220f1",
   "metadata": {},
   "outputs": [],
   "source": [
    "data_path = '../data/datasets/MIMIC/mimic_done3.parquet'\n",
    "save_path = '../data/cross_val/MIMIC/nextvisit{}'.format(nextvisitlabel) "
   ]
  },
  {
   "cell_type": "code",
   "execution_count": 75,
   "id": "d49d396a-8326-436e-8c09-f07178014a09",
   "metadata": {},
   "outputs": [],
   "source": [
    "df = pd.read_parquet(data_path).rename(columns={'ccsr':'diagnos_code', 'ndc':'medication_code', 'procedure_ccsr':'procedure_code'})\n",
    "df['age'] =df['age'].apply(lambda x: list(map(int, x)))\n",
    "df = df[df['hadm_id'].map(len) >= nextvisitlabel]\n",
    "df = fix_length(df, nextvisitlabel)"
   ]
  },
  {
   "cell_type": "code",
   "execution_count": 76,
   "id": "c509959e-5f14-4bb6-94b2-cb0dbc40472f",
   "metadata": {},
   "outputs": [],
   "source": [
    "kfold = KFold(n_splits=3, shuffle=True)\n",
    "\n",
    "for fold_idx, (train_idx, test_idx) in enumerate(kfold.split(df)):\n",
    "    train, test = df.iloc[train_idx, :], df.iloc[test_idx, :]\n",
    "    train.to_parquet(save_path + '/fold{}/train.parquet'.format(fold_idx + 1))\n",
    "    test.to_parquet(save_path + '/fold{}/test.parquet'.format(fold_idx + 1))\n",
    "    \n",
    "    totdata = pd.concat([train, test])\n",
    "    label_codes = totdata['diagnos_code'].apply(lambda x: x[-1]).tolist()\n",
    "    label_codes = np.concatenate(label_codes, axis=0)\n",
    "    \n",
    "    np.save(save_path + '/fold{}/Nextvisit_{}_labelcodes_fold{}.npy'.format(fold_idx + 1, nextvisitlabel, fold_idx), label_codes)"
   ]
  },
  {
   "cell_type": "code",
   "execution_count": null,
   "id": "ce5a1679-f2b8-416a-9964-805b30a050fc",
   "metadata": {},
   "outputs": [],
   "source": [
    "label_codes = data['diagnos_code'].apply(lambda x: x[-1]).tolist()\n",
    "label_codes = np.concatenate(label_codes, axis=0)"
   ]
  },
  {
   "cell_type": "markdown",
   "id": "76e7a7e0-a2bf-49f6-89c3-233c01f485df",
   "metadata": {},
   "source": [
    "#### Synthea"
   ]
  },
  {
   "cell_type": "code",
   "execution_count": 77,
   "id": "4205b030-eecd-4c91-b050-27e64eb56274",
   "metadata": {},
   "outputs": [],
   "source": [
    "nextvisitlabel = 5"
   ]
  },
  {
   "cell_type": "code",
   "execution_count": 78,
   "id": "84700bc5-c81b-4b1f-aaac-affcd9bf105a",
   "metadata": {},
   "outputs": [],
   "source": [
    "data_path = '../data/datasets/Synthea/Final_cohorts/synthea_done.parquet'\n",
    "save_path = '../data/cross_val/Synthea/nextvisit{}'.format(nextvisitlabel) "
   ]
  },
  {
   "cell_type": "code",
   "execution_count": 79,
   "id": "e1e7f1c1-1bb9-415c-bb2e-de767c256247",
   "metadata": {},
   "outputs": [],
   "source": [
    "df_synth = pd.read_parquet(data_path)\n",
    "df_synth = df_synth[df_synth['hadm_id'].map(len) >= nextvisitlabel]\n",
    "df_synth = fix_length(df_synth, nextvisitlabel)"
   ]
  },
  {
   "cell_type": "code",
   "execution_count": 80,
   "id": "09874878-6bf1-4043-874f-f01a19876529",
   "metadata": {},
   "outputs": [],
   "source": [
    "kfold = KFold(n_splits=3, shuffle=True)\n",
    "\n",
    "for fold_idx, (train_idx, test_idx) in enumerate(kfold.split(df_synth)):\n",
    "    train, test = df_synth.iloc[train_idx, :], df_synth.iloc[test_idx, :]\n",
    "    train.to_parquet(save_path + '/fold{}/train.parquet'.format(fold_idx + 1))\n",
    "    test.to_parquet(save_path + '/fold{}/test.parquet'.format(fold_idx + 1))\n",
    "    \n",
    "    totdata = pd.concat([train, test])\n",
    "    label_codes = totdata['diagnos_code'].apply(lambda x: x[-1]).tolist()\n",
    "    label_codes = np.concatenate(label_codes, axis=0)\n",
    "    \n",
    "    np.save(save_path + '/fold{}/Nextvisit_{}_labelcodes_fold{}.npy'.format(fold_idx + 1, nextvisitlabel, fold_idx), label_codes)"
   ]
  },
  {
   "cell_type": "code",
   "execution_count": null,
   "id": "41d546d7-9a84-4eb0-933f-e7f2a7dcc382",
   "metadata": {},
   "outputs": [],
   "source": []
  }
 ],
 "metadata": {
  "kernelspec": {
   "display_name": "Python 3 (ipykernel)",
   "language": "python",
   "name": "python3"
  },
  "language_info": {
   "codemirror_mode": {
    "name": "ipython",
    "version": 3
   },
   "file_extension": ".py",
   "mimetype": "text/x-python",
   "name": "python",
   "nbconvert_exporter": "python",
   "pygments_lexer": "ipython3",
   "version": "3.7.11"
  }
 },
 "nbformat": 4,
 "nbformat_minor": 5
}
