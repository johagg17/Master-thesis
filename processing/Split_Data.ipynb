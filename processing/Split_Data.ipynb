{
 "cells": [
  {
   "cell_type": "code",
   "execution_count": 5,
   "id": "547d26cb-fd6d-481c-9107-7a6bbb8e953f",
   "metadata": {},
   "outputs": [],
   "source": [
    "import sys\n",
    "sys.path.insert(1, '../')\n",
    "from utils.packages import *"
   ]
  },
  {
   "cell_type": "code",
   "execution_count": 17,
   "id": "32eebf3e-6d4f-4ab3-b465-b557f209f682",
   "metadata": {},
   "outputs": [],
   "source": [
    "data_path = '../data/datasets/synthea/All_cohorts/synthea_processed_all_patients.parquet'\n",
    "save_path = '../data/datasets/synthea/All_cohorts'"
   ]
  },
  {
   "cell_type": "code",
   "execution_count": 18,
   "id": "52a2cf0e-5739-4306-a254-1cc45a757360",
   "metadata": {},
   "outputs": [],
   "source": [
    "df = pd.read_parquet(data_path)"
   ]
  },
  {
   "cell_type": "code",
   "execution_count": 19,
   "id": "08043610-4227-45e0-92a3-e8248dffa388",
   "metadata": {},
   "outputs": [],
   "source": [
    "train, val, test = train_test_val_split(df)"
   ]
  },
  {
   "cell_type": "code",
   "execution_count": 20,
   "id": "28a89d99-137b-44d0-b89f-39dd0ac9ac3f",
   "metadata": {},
   "outputs": [],
   "source": [
    "train = pd.concat([train, val])"
   ]
  },
  {
   "cell_type": "code",
   "execution_count": 22,
   "id": "bd191fd5-c321-4569-b136-db6028363ef0",
   "metadata": {},
   "outputs": [],
   "source": [
    "train.to_parquet(save_path + '/train.parquet')\n",
    "test.to_parquet(save_path + '/test.parquet')"
   ]
  }
 ],
 "metadata": {
  "kernelspec": {
   "display_name": "Python 3",
   "language": "python",
   "name": "python3"
  },
  "language_info": {
   "codemirror_mode": {
    "name": "ipython",
    "version": 3
   },
   "file_extension": ".py",
   "mimetype": "text/x-python",
   "name": "python",
   "nbconvert_exporter": "python",
   "pygments_lexer": "ipython3",
   "version": "3.7.11"
  }
 },
 "nbformat": 4,
 "nbformat_minor": 5
}
