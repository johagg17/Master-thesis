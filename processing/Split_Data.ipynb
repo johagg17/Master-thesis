{
 "cells": [
  {
   "cell_type": "code",
   "execution_count": 1,
   "id": "547d26cb-fd6d-481c-9107-7a6bbb8e953f",
   "metadata": {},
   "outputs": [
    {
     "name": "stderr",
     "output_type": "stream",
     "text": [
      "/var/local/home/linler17/.conda/envs/masterenv/lib/python3.7/site-packages/tqdm/auto.py:22: TqdmWarning: IProgress not found. Please update jupyter and ipywidgets. See https://ipywidgets.readthedocs.io/en/stable/user_install.html\n",
      "  from .autonotebook import tqdm as notebook_tqdm\n"
     ]
    }
   ],
   "source": [
    "import sys\n",
    "sys.path.insert(1, '../')\n",
    "from utils.packages import *"
   ]
  },
  {
   "cell_type": "code",
   "execution_count": 3,
   "id": "32eebf3e-6d4f-4ab3-b465-b557f209f682",
   "metadata": {},
   "outputs": [],
   "source": [
    "data_path = '../data/datasets/Synthea/synthea_done.parquet'\n",
    "save_path = '../data/datasets/Synthea'"
   ]
  },
  {
   "cell_type": "code",
   "execution_count": 5,
   "id": "52a2cf0e-5739-4306-a254-1cc45a757360",
   "metadata": {},
   "outputs": [],
   "source": [
    "df = pd.read_parquet(data_path)"
   ]
  },
  {
   "cell_type": "code",
   "execution_count": 6,
   "id": "08043610-4227-45e0-92a3-e8248dffa388",
   "metadata": {},
   "outputs": [],
   "source": [
    "train, val, test = train_test_val_split(df)"
   ]
  },
  {
   "cell_type": "code",
   "execution_count": 7,
   "id": "bd191fd5-c321-4569-b136-db6028363ef0",
   "metadata": {},
   "outputs": [],
   "source": [
    "train.to_parquet(save_path + '/train.parquet')\n",
    "val.to_parquet(save_path + '/val.parquet')\n",
    "test.to_parquet(save_path + '/test.parquet')"
   ]
  },
  {
   "cell_type": "code",
   "execution_count": 9,
   "id": "29a1da42-1d31-4da6-a97c-6bcd10808c34",
   "metadata": {},
   "outputs": [],
   "source": [
    "stats_path = '../data/train_stats/Synthea/'\n",
    "path = stats_path + 'dd_cond_probs.empirical.p'"
   ]
  },
  {
   "cell_type": "code",
   "execution_count": 11,
   "id": "c3a77a00-f233-4859-9f02-4fa0394853a3",
   "metadata": {},
   "outputs": [],
   "source": [
    "dd = pickle.load(open(path, 'rb'))"
   ]
  },
  {
   "cell_type": "code",
   "execution_count": null,
   "id": "5431ceaf-6b8f-4c97-b2c2-d4c316f40c76",
   "metadata": {},
   "outputs": [],
   "source": []
  }
 ],
 "metadata": {
  "kernelspec": {
   "display_name": "Python 3",
   "language": "python",
   "name": "python3"
  },
  "language_info": {
   "codemirror_mode": {
    "name": "ipython",
    "version": 3
   },
   "file_extension": ".py",
   "mimetype": "text/x-python",
   "name": "python",
   "nbconvert_exporter": "python",
   "pygments_lexer": "ipython3",
   "version": "3.7.11"
  }
 },
 "nbformat": 4,
 "nbformat_minor": 5
}
