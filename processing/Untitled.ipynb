{
 "cells": [
  {
   "cell_type": "code",
   "execution_count": 1,
   "id": "9dc3d95a-8589-4c8b-92bc-e77bc1f2f88f",
   "metadata": {},
   "outputs": [],
   "source": [
    "## Chunk the dataset into two chunks"
   ]
  },
  {
   "cell_type": "code",
   "execution_count": 1,
   "id": "7256783a-600f-44f2-8e49-2fd1d4e475d5",
   "metadata": {},
   "outputs": [],
   "source": [
    "import pandas as pd"
   ]
  },
  {
   "cell_type": "code",
   "execution_count": 5,
   "id": "10f32201-f61d-46d0-90bc-2b7da02e4a94",
   "metadata": {},
   "outputs": [],
   "source": [
    "path_patients = '../data/datasets/readmission_data_synthea'"
   ]
  },
  {
   "cell_type": "code",
   "execution_count": 6,
   "id": "ae265561-2942-41c2-82ed-8815e46eee25",
   "metadata": {},
   "outputs": [],
   "source": [
    "dataset = pd.read_parquet(path_patients)"
   ]
  },
  {
   "cell_type": "code",
   "execution_count": 7,
   "id": "d0253784-9637-4b8b-bc59-30014c056136",
   "metadata": {},
   "outputs": [],
   "source": [
    "l = len(dataset)"
   ]
  },
  {
   "cell_type": "code",
   "execution_count": 8,
   "id": "7ad25b9e-9d0f-475b-af09-9a49da6f274d",
   "metadata": {},
   "outputs": [],
   "source": [
    "first_half = dataset[:l//2]"
   ]
  },
  {
   "cell_type": "code",
   "execution_count": 9,
   "id": "63c4db67-a8fb-4f29-91ba-f4a8819246aa",
   "metadata": {},
   "outputs": [],
   "source": [
    "second_half = dataset[l//2:]"
   ]
  },
  {
   "cell_type": "code",
   "execution_count": 11,
   "id": "b7a9b046-42d0-4849-b5f7-058970158718",
   "metadata": {},
   "outputs": [
    {
     "data": {
      "text/plain": [
       "(309495, 309495)"
      ]
     },
     "execution_count": 11,
     "metadata": {},
     "output_type": "execute_result"
    }
   ],
   "source": [
    "len(first_half), len(second_half)"
   ]
  },
  {
   "cell_type": "code",
   "execution_count": 13,
   "id": "31f7be04-033f-4083-87f7-0991a33e0360",
   "metadata": {},
   "outputs": [],
   "source": [
    "first_half.to_parquet(path_patients + '1')"
   ]
  },
  {
   "cell_type": "code",
   "execution_count": 14,
   "id": "0012edb6-a70a-4b4d-a687-4511512d5197",
   "metadata": {},
   "outputs": [],
   "source": [
    "second_half.to_parquet(path_patients + '2')"
   ]
  },
  {
   "cell_type": "code",
   "execution_count": 2,
   "id": "6f67025d-af6a-4c27-ab08-ceb420908387",
   "metadata": {},
   "outputs": [],
   "source": [
    "prior1 = pd.read_parquet('../data/datasets/prior_table_1')"
   ]
  },
  {
   "cell_type": "code",
   "execution_count": 3,
   "id": "42a1f378-7281-4769-901f-8cfb88133367",
   "metadata": {},
   "outputs": [],
   "source": [
    "prior2 = pd.read_parquet('../data/datasets/prior_table_2')"
   ]
  },
  {
   "cell_type": "code",
   "execution_count": 4,
   "id": "8a1f50f9-5043-4819-9b7e-7d3efffa1cd3",
   "metadata": {},
   "outputs": [
    {
     "data": {
      "text/plain": [
       "552064"
      ]
     },
     "execution_count": 4,
     "metadata": {},
     "output_type": "execute_result"
    }
   ],
   "source": [
    "len(prior1) + len(prior2)"
   ]
  },
  {
   "cell_type": "code",
   "execution_count": 7,
   "id": "ba2c415f-6c94-40f8-84c8-1b86150e1c91",
   "metadata": {},
   "outputs": [],
   "source": [
    "finaldata = pd.concat([prior1, prior2])"
   ]
  },
  {
   "cell_type": "code",
   "execution_count": 8,
   "id": "578c73de-1177-4c5c-a699-f987419742d4",
   "metadata": {},
   "outputs": [
    {
     "data": {
      "text/plain": [
       "552064"
      ]
     },
     "execution_count": 8,
     "metadata": {},
     "output_type": "execute_result"
    }
   ],
   "source": [
    "len(finaldata)"
   ]
  },
  {
   "cell_type": "code",
   "execution_count": 10,
   "id": "8ba9cd27-68b0-4aa0-a639-9c9fc3eae1e4",
   "metadata": {},
   "outputs": [],
   "source": [
    "finaldata.to_parquet('../data/datasets/synthea_with_prior_values')"
   ]
  },
  {
   "cell_type": "code",
   "execution_count": null,
   "id": "450fea79-106e-4c8b-8c6f-ae9e75d2cac1",
   "metadata": {},
   "outputs": [],
   "source": []
  }
 ],
 "metadata": {
  "kernelspec": {
   "display_name": "Python 3 (ipykernel)",
   "language": "python",
   "name": "python3"
  },
  "language_info": {
   "codemirror_mode": {
    "name": "ipython",
    "version": 3
   },
   "file_extension": ".py",
   "mimetype": "text/x-python",
   "name": "python",
   "nbconvert_exporter": "python",
   "pygments_lexer": "ipython3",
   "version": "3.7.11"
  }
 },
 "nbformat": 4,
 "nbformat_minor": 5
}
