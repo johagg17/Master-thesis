{
 "cells": [
  {
   "cell_type": "code",
   "execution_count": 1,
   "id": "cf0362cd-6b82-4ef9-bf1f-614212483a44",
   "metadata": {},
   "outputs": [
    {
     "name": "stderr",
     "output_type": "stream",
     "text": [
      "/var/local/home/linler17/.conda/envs/masterenv/lib/python3.7/site-packages/tqdm/auto.py:22: TqdmWarning: IProgress not found. Please update jupyter and ipywidgets. See https://ipywidgets.readthedocs.io/en/stable/user_install.html\n",
      "  from .autonotebook import tqdm as notebook_tqdm\n"
     ]
    }
   ],
   "source": [
    "import sys\n",
    "sys.path.insert(1, '../')\n",
    "from utils.packages import *"
   ]
  },
  {
   "cell_type": "code",
   "execution_count": 52,
   "id": "80e72593-e37b-4688-a8ef-ef7b9286ec50",
   "metadata": {},
   "outputs": [],
   "source": [
    "dataset = 'Synthea'\n",
    "readmlabel = 6\n",
    "modelname = 'CondBEHRT_dm'\n",
    "foldpath = '../data/cross_val/{}/readmission_visit{}'.format(dataset, readmlabel)"
   ]
  },
  {
   "cell_type": "code",
   "execution_count": 53,
   "id": "83f82677-6381-484c-8f73-cc9e7dbbdd71",
   "metadata": {},
   "outputs": [],
   "source": [
    "folds = 3\n",
    "\n",
    "aucallfolds = 0\n",
    "aucprallfold = 0\n",
    "\n",
    "for fold in range(folds):\n",
    "    fullpath = foldpath + '/fold{}'.format(fold + 1)\n",
    "    \n",
    "    aucp = fullpath + '/auc_{}.txt'.format(modelname)\n",
    "    aucpr = fullpath + '/aucpr_{}.txt'.format(modelname)\n",
    "    \n",
    "    with open(aucp, 'r') as f:\n",
    "        value = f.read().replace(' ', '').split(',') \n",
    "        #print(float(value[0].replace(' ', '')))\n",
    "        aucavg = sum([float(avg) for avg in value[:-1]]) / len(value[:-1])\n",
    "    \n",
    "    with open(aucpr, 'r') as f:\n",
    "        value = f.read().replace(' ', '').split(',')\n",
    "        aucpravg = sum([float(avg) for avg in value[:-1]]) / len(value[:-1])\n",
    "    \n",
    "    aucallfolds += aucavg / folds\n",
    "    aucprallfold += aucpravg / folds\n",
    "    "
   ]
  },
  {
   "cell_type": "code",
   "execution_count": 54,
   "id": "ce2ec7cb-76b8-401a-a1f7-c4ddd686ff70",
   "metadata": {},
   "outputs": [
    {
     "data": {
      "text/plain": [
       "(0.6504632074320714, 0.158081695499424)"
      ]
     },
     "execution_count": 54,
     "metadata": {},
     "output_type": "execute_result"
    }
   ],
   "source": [
    "aucallfolds, aucprallfold"
   ]
  },
  {
   "cell_type": "code",
   "execution_count": null,
   "id": "7089682d-c8c6-466a-9ebb-7f5425ce8765",
   "metadata": {},
   "outputs": [],
   "source": []
  }
 ],
 "metadata": {
  "kernelspec": {
   "display_name": "Python 3 (ipykernel)",
   "language": "python",
   "name": "python3"
  },
  "language_info": {
   "codemirror_mode": {
    "name": "ipython",
    "version": 3
   },
   "file_extension": ".py",
   "mimetype": "text/x-python",
   "name": "python",
   "nbconvert_exporter": "python",
   "pygments_lexer": "ipython3",
   "version": "3.7.11"
  }
 },
 "nbformat": 4,
 "nbformat_minor": 5
}
