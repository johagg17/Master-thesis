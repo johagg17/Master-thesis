{
 "cells": [
  {
   "cell_type": "code",
   "execution_count": 8,
   "id": "cf0362cd-6b82-4ef9-bf1f-614212483a44",
   "metadata": {},
   "outputs": [
    {
     "name": "stderr",
     "output_type": "stream",
     "text": [
      "/var/local/home/linler17/.conda/envs/masterenv/lib/python3.7/site-packages/tqdm/auto.py:22: TqdmWarning: IProgress not found. Please update jupyter and ipywidgets. See https://ipywidgets.readthedocs.io/en/stable/user_install.html\n",
      "  from .autonotebook import tqdm as notebook_tqdm\n"
     ]
    }
   ],
   "source": [
    "import sys\n",
    "sys.path.insert(1, '../')\n",
    "from utils.packages import *"
   ]
  },
  {
   "cell_type": "code",
   "execution_count": 15,
   "id": "80e72593-e37b-4688-a8ef-ef7b9286ec50",
   "metadata": {},
   "outputs": [],
   "source": [
    "dataset = 'MIMIC'\n",
    "readmlabel = 10\n",
    "modelname = 'CondBEHRT_-m'\n",
    "foldpath = '../data/cross_val/{}/readmission_visit{}'.format(dataset, readmlabel)\n",
    "#foldpath = '../data/cross_val/{}/nextvisit{}'.format(dataset, 5)"
   ]
  },
  {
   "cell_type": "code",
   "execution_count": 16,
   "id": "83f82677-6381-484c-8f73-cc9e7dbbdd71",
   "metadata": {},
   "outputs": [],
   "source": [
    "folds = 3\n",
    "\n",
    "aucallfolds = 0\n",
    "aucprallfold = 0\n",
    "\n",
    "aucarray = []\n",
    "aucprarray = []\n",
    "for fold in range(folds):\n",
    "    fullpath = foldpath + '/fold{}'.format(fold + 1)\n",
    "    \n",
    "    aucp = fullpath + '/auc_{}.txt'.format(modelname)\n",
    "    aucpr = fullpath + '/aucpr_{}.txt'.format(modelname)\n",
    "    \n",
    "    with open(aucp, 'r') as f:\n",
    "        value = f.read().replace(' ', '').split(',') \n",
    "        #print(float(value[0].replace(' ', '')))\n",
    "        aucavg = sum([float(avg) for avg in value[:-1]]) / len(value[:-1])\n",
    "    \n",
    "    with open(aucpr, 'r') as f:\n",
    "        value = f.read().replace(' ', '').split(',')\n",
    "        aucpravg = sum([float(avg) for avg in value[:-1]]) / len(value[:-1])\n",
    "    \n",
    "    aucarray.append(aucavg)\n",
    "    aucprarray.append(aucpravg)\n",
    "    \n",
    "    aucallfolds += aucavg / folds\n",
    "    aucprallfold += aucpravg / folds\n",
    "    "
   ]
  },
  {
   "cell_type": "code",
   "execution_count": 17,
   "id": "ce2ec7cb-76b8-401a-a1f7-c4ddd686ff70",
   "metadata": {},
   "outputs": [
    {
     "data": {
      "text/plain": [
       "(0.4917975286566941, 0.3414176562673586)"
      ]
     },
     "execution_count": 17,
     "metadata": {},
     "output_type": "execute_result"
    }
   ],
   "source": [
    "aucallfolds, aucprallfold"
   ]
  },
  {
   "cell_type": "code",
   "execution_count": 18,
   "id": "7089682d-c8c6-466a-9ebb-7f5425ce8765",
   "metadata": {},
   "outputs": [],
   "source": [
    "aucmean = np.mean(aucarray)\n",
    "aucstdv = np.std(aucarray)\n",
    "\n",
    "aucprmean = np.mean(aucprarray)\n",
    "aucprstdv = np.std(aucprarray)"
   ]
  },
  {
   "cell_type": "code",
   "execution_count": 19,
   "id": "78d5d23e-a6f0-4649-9226-302d1aa2a3e6",
   "metadata": {},
   "outputs": [
    {
     "data": {
      "text/plain": [
       "(0.49179752865669407, 0.030793185985923326)"
      ]
     },
     "execution_count": 19,
     "metadata": {},
     "output_type": "execute_result"
    }
   ],
   "source": [
    "aucmean, aucstdv"
   ]
  },
  {
   "cell_type": "code",
   "execution_count": 20,
   "id": "8a581e21-00b9-4596-a9ba-0a8295771d14",
   "metadata": {},
   "outputs": [
    {
     "data": {
      "text/plain": [
       "(0.34141765626735854, 0.011511500344189034)"
      ]
     },
     "execution_count": 20,
     "metadata": {},
     "output_type": "execute_result"
    }
   ],
   "source": [
    "aucprmean, aucprstdv"
   ]
  },
  {
   "cell_type": "code",
   "execution_count": null,
   "id": "6c5fef31-4182-4b68-818d-721e6263a49e",
   "metadata": {},
   "outputs": [],
   "source": []
  },
  {
   "cell_type": "code",
   "execution_count": null,
   "id": "fd1fbd02-0a57-4793-81ae-81fcdd60ab51",
   "metadata": {},
   "outputs": [],
   "source": []
  }
 ],
 "metadata": {
  "kernelspec": {
   "display_name": "Python 3 (ipykernel)",
   "language": "python",
   "name": "python3"
  },
  "language_info": {
   "codemirror_mode": {
    "name": "ipython",
    "version": 3
   },
   "file_extension": ".py",
   "mimetype": "text/x-python",
   "name": "python",
   "nbconvert_exporter": "python",
   "pygments_lexer": "ipython3",
   "version": "3.7.11"
  }
 },
 "nbformat": 4,
 "nbformat_minor": 5
}
