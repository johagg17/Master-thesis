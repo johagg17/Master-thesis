{
 "cells": [
  {
   "cell_type": "code",
   "execution_count": 1,
   "id": "9852916e",
   "metadata": {},
   "outputs": [],
   "source": [
    "from patient_extraction import PatientProcessor\n",
    "import dask.dataframe as dd"
   ]
  },
  {
   "cell_type": "code",
   "execution_count": 2,
   "id": "f847e84f",
   "metadata": {},
   "outputs": [],
   "source": [
    "parent_path = 'D:\\skolaÅr5\\MasterThesis\\mimic-iv-1.0'.replace('\\\\', '/') \n",
    "\n",
    "\n",
    "patients_f = parent_path + '/core/patients.csv'\n",
    "admission_f = parent_path + '/core/admissions.csv'\n",
    "pat_diagnos = parent_path + '/hosp/diagnoses_icd.csv'\n",
    "meaning_diagnos = parent_path + '/hosp/d_icd_diagnoses.csv'\n"
   ]
  },
  {
   "cell_type": "code",
   "execution_count": 3,
   "id": "e2a99d26",
   "metadata": {},
   "outputs": [],
   "source": [
    "config = {\n",
    "        'id_age': patients_f, \n",
    "        'pat_adm':admission_f,\n",
    "        'pat_diagnose_icd': pat_diagnos, \n",
    "        'diagnos_meaning': meaning_diagnos,\n",
    "        }"
   ]
  },
  {
   "cell_type": "code",
   "execution_count": 4,
   "id": "d7865bd0",
   "metadata": {},
   "outputs": [
    {
     "data": {
      "text/plain": [
       "<patient_extraction.PatientProcessor at 0x245d088dc08>"
      ]
     },
     "execution_count": 4,
     "metadata": {},
     "output_type": "execute_result"
    }
   ],
   "source": [
    "PatientProcessor(parent_path, **config)#.write_data('test')"
   ]
  },
  {
   "cell_type": "code",
   "execution_count": 14,
   "id": "47e88c2b",
   "metadata": {},
   "outputs": [],
   "source": [
    "path = 'C:/Users/Johan/Documents/Skola/MasterThesis/Master-thesis/pre-processing/age_voc.npy'"
   ]
  },
  {
   "cell_type": "code",
   "execution_count": 15,
   "id": "bf8c1417",
   "metadata": {},
   "outputs": [],
   "source": [
    "import numpy as np"
   ]
  },
  {
   "cell_type": "code",
   "execution_count": 17,
   "id": "d685584c",
   "metadata": {},
   "outputs": [
    {
     "data": {
      "text/plain": [
       "array([31, 85, 65, 53, 78, 34, 81, 28, 76, 27, 26, 44, 91, 22, 47, 52, 86,\n",
       "       40, 20, 57, 54, 48, 19, 64, 41, 43, 37, 61, 88, 72, 35, 55, 59, 23,\n",
       "       39, 49, 84, 87, 51, 69, 63, 77, 50, 45, 38, 82, 80, 73, 25, 24, 70,\n",
       "       62, 29, 21, 60, 32, 75, 56, 58, 33, 83, 68, 71, 42, 79, 30, 66, 46,\n",
       "       67,  0, 18, 74, 36, 89])"
      ]
     },
     "execution_count": 17,
     "metadata": {},
     "output_type": "execute_result"
    }
   ],
   "source": [
    "data = np.load(path)\n",
    "data"
   ]
  },
  {
   "cell_type": "code",
   "execution_count": 5,
   "id": "c58be7c5",
   "metadata": {},
   "outputs": [],
   "source": [
    "path = 'C:/Users/Johan/Documents/Skola/MasterThesis/Master-thesis/pre-processing/combined-csv-files.csv'"
   ]
  },
  {
   "cell_type": "code",
   "execution_count": 10,
   "id": "dce7a93a",
   "metadata": {},
   "outputs": [
    {
     "data": {
      "text/plain": [
       "'C:/Users/Johan/Documents/Skola/MasterThesis/Master-thesis/pre-processing/combined-csv-files.csv'"
      ]
     },
     "execution_count": 10,
     "metadata": {},
     "output_type": "execute_result"
    }
   ],
   "source": [
    "path"
   ]
  },
  {
   "cell_type": "code",
   "execution_count": 13,
   "id": "d03f3f29",
   "metadata": {},
   "outputs": [],
   "source": [
    "df = dd.read_csv(path, dtype={'subject_id': 'object'})  "
   ]
  },
  {
   "cell_type": "code",
   "execution_count": 14,
   "id": "560a846c",
   "metadata": {},
   "outputs": [
    {
     "data": {
      "text/plain": [
       "107904"
      ]
     },
     "execution_count": 14,
     "metadata": {},
     "output_type": "execute_result"
    }
   ],
   "source": [
    "len(df)"
   ]
  },
  {
   "cell_type": "code",
   "execution_count": 15,
   "id": "54b98c94",
   "metadata": {},
   "outputs": [
    {
     "data": {
      "text/html": [
       "<div>\n",
       "<style scoped>\n",
       "    .dataframe tbody tr th:only-of-type {\n",
       "        vertical-align: middle;\n",
       "    }\n",
       "\n",
       "    .dataframe tbody tr th {\n",
       "        vertical-align: top;\n",
       "    }\n",
       "\n",
       "    .dataframe thead th {\n",
       "        text-align: right;\n",
       "    }\n",
       "</style>\n",
       "<table border=\"1\" class=\"dataframe\">\n",
       "  <thead>\n",
       "    <tr style=\"text-align: right;\">\n",
       "      <th></th>\n",
       "      <th>subject_id</th>\n",
       "      <th>icd_code</th>\n",
       "      <th>age</th>\n",
       "    </tr>\n",
       "  </thead>\n",
       "  <tbody>\n",
       "    <tr>\n",
       "      <th>0</th>\n",
       "      <td>10028314</td>\n",
       "      <td>Z3800,P2912,Z23,Q620,Z051,Z412,P284,P928,P590,...</td>\n",
       "      <td>0,0,0,0,0,0,0,0,0,0,0,0,0,0,SEP</td>\n",
       "    </tr>\n",
       "    <tr>\n",
       "      <th>1</th>\n",
       "      <td>10052351</td>\n",
       "      <td>R0789,F10129,SEP</td>\n",
       "      <td>56,56,SEP</td>\n",
       "    </tr>\n",
       "    <tr>\n",
       "      <th>2</th>\n",
       "      <td>10092012</td>\n",
       "      <td>Z051,Z23,Z3800,SEP</td>\n",
       "      <td>0,0,0,SEP</td>\n",
       "    </tr>\n",
       "    <tr>\n",
       "      <th>3</th>\n",
       "      <td>10092020</td>\n",
       "      <td>Z87891,Z8546,Z7901,G4089,I4820,Z8673,E872,M255...</td>\n",
       "      <td>69,69,69,69,69,69,69,69,SEP</td>\n",
       "    </tr>\n",
       "    <tr>\n",
       "      <th>4</th>\n",
       "      <td>10126895</td>\n",
       "      <td>Z30430,O80,Z3A39,Z370,SEP</td>\n",
       "      <td>24,24,24,24,SEP</td>\n",
       "    </tr>\n",
       "  </tbody>\n",
       "</table>\n",
       "</div>"
      ],
      "text/plain": [
       "  subject_id                                           icd_code  \\\n",
       "0   10028314  Z3800,P2912,Z23,Q620,Z051,Z412,P284,P928,P590,...   \n",
       "1   10052351                                   R0789,F10129,SEP   \n",
       "2   10092012                                 Z051,Z23,Z3800,SEP   \n",
       "3   10092020  Z87891,Z8546,Z7901,G4089,I4820,Z8673,E872,M255...   \n",
       "4   10126895                          Z30430,O80,Z3A39,Z370,SEP   \n",
       "\n",
       "                               age  \n",
       "0  0,0,0,0,0,0,0,0,0,0,0,0,0,0,SEP  \n",
       "1                        56,56,SEP  \n",
       "2                        0,0,0,SEP  \n",
       "3      69,69,69,69,69,69,69,69,SEP  \n",
       "4                  24,24,24,24,SEP  "
      ]
     },
     "execution_count": 15,
     "metadata": {},
     "output_type": "execute_result"
    }
   ],
   "source": [
    "df.head()"
   ]
  },
  {
   "cell_type": "code",
   "execution_count": 31,
   "id": "1a6ae842",
   "metadata": {},
   "outputs": [],
   "source": [
    "patients = {}\n",
    "\n",
    "for patient_id in df['subject_id'].unique():\n",
    "    patient_data = df[df['subject_id'] == patient_id]\n",
    "    patient = []\n",
    "    age = list(patient_data['age'])[0].split(',')#.split(',')\n",
    "    icd_code = list(patient_data['icd_code'])[0].split(',')\n",
    "        \n",
    "   # print(age)\n",
    "    #print(icd_code)\n",
    "    adm_age = []\n",
    "    for age_ in age:\n",
    "        if age_ == 'SEP':\n",
    "            patient.append(adm_age)\n",
    "            adm_age = []\n",
    "        else:\n",
    "            adm_age.append(age_)\n",
    "    patients[patient_id] = patient   \n",
    "    \n",
    "    break"
   ]
  },
  {
   "cell_type": "code",
   "execution_count": 32,
   "id": "8ea1a915",
   "metadata": {},
   "outputs": [
    {
     "data": {
      "text/plain": [
       "{'10028314': [['0',\n",
       "   '0',\n",
       "   '0',\n",
       "   '0',\n",
       "   '0',\n",
       "   '0',\n",
       "   '0',\n",
       "   '0',\n",
       "   '0',\n",
       "   '0',\n",
       "   '0',\n",
       "   '0',\n",
       "   '0',\n",
       "   '0']]}"
      ]
     },
     "execution_count": 32,
     "metadata": {},
     "output_type": "execute_result"
    }
   ],
   "source": [
    "patients"
   ]
  },
  {
   "cell_type": "code",
   "execution_count": null,
   "id": "e2dfbe25",
   "metadata": {},
   "outputs": [],
   "source": []
  }
 ],
 "metadata": {
  "kernelspec": {
   "display_name": "Python 3 (ipykernel)",
   "language": "python",
   "name": "python3"
  },
  "language_info": {
   "codemirror_mode": {
    "name": "ipython",
    "version": 3
   },
   "file_extension": ".py",
   "mimetype": "text/x-python",
   "name": "python",
   "nbconvert_exporter": "python",
   "pygments_lexer": "ipython3",
   "version": "3.7.11"
  }
 },
 "nbformat": 4,
 "nbformat_minor": 5
}
