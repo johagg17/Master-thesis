{
 "cells": [
  {
   "cell_type": "code",
   "execution_count": 1,
   "id": "a4e9cd4a",
   "metadata": {},
   "outputs": [],
   "source": [
    "from patient_extraction import *"
   ]
  },
  {
   "cell_type": "code",
   "execution_count": 2,
   "id": "05924c13",
   "metadata": {},
   "outputs": [],
   "source": [
    "parent_path = 'D:\\skolaÅr5\\MasterThesis\\mimic-iv-1.0'"
   ]
  },
  {
   "cell_type": "code",
   "execution_count": 3,
   "id": "5cd2938d",
   "metadata": {},
   "outputs": [],
   "source": [
    "df = PatientProcessor(parent_path)"
   ]
  },
  {
   "cell_type": "code",
   "execution_count": 4,
   "id": "7b43b0e9",
   "metadata": {},
   "outputs": [],
   "source": [
    "data = df.getData()"
   ]
  },
  {
   "cell_type": "code",
   "execution_count": 5,
   "id": "8ad42a45",
   "metadata": {},
   "outputs": [
    {
     "name": "stdout",
     "output_type": "stream",
     "text": [
      "+----------+--------------------+--------------------+\n",
      "|subject_id|            icd_code|                 age|\n",
      "+----------+--------------------+--------------------+\n",
      "|  10028314|[Z3800, P2912, Z2...|[0, 0, 0, 0, 0, 0...|\n",
      "|  10052351|[R0789, F10129, SEP]|        [56, 56, 56]|\n",
      "|  10092012|[Z051, Z23, Z3800...|        [0, 0, 0, 0]|\n",
      "|  10092020|[Z87891, Z8546, Z...|[69, 69, 69, 69, ...|\n",
      "|  10126895|[Z30430, O80, Z3A...|[24, 24, 24, 24, 24]|\n",
      "|  10145339|[P551, SEP, Z3800...|     [0, 0, 0, 0, 0]|\n",
      "|  10150136|[D72829, R0682, K...|[61, 61, 61, 61, ...|\n",
      "|  10188507|[P590, SEP, Z3800...|[0, 0, 0, 0, 0, 0...|\n",
      "|  10229726|[I959, D150, R471...|[63, 63, 63, 63, ...|\n",
      "|  10236661|[A047, B961, N390...|[79, 79, 79, 79, ...|\n",
      "|  10246179|[Z915, F411, R458...|[20, 20, 20, 20, ...|\n",
      "|  10249110|[R109, D649, D695...|[51, 51, 51, 51, ...|\n",
      "|  10266640|[Z3800, Z051, Q65...|     [0, 0, 0, 0, 0]|\n",
      "|  10275889|[Z23, Z3801, P030...|        [0, 0, 0, 0]|\n",
      "|  10296904|[Z390, SEP, O701,...|[28, 28, 28, 28, ...|\n",
      "|  10301630|[F17290, E785, I2...|[57, 57, 57, 57, ...|\n",
      "|  10302680|[D62, I8510, Z854...|[48, 48, 48, 48, ...|\n",
      "|  10365752|[Z7902, R0789, E8...|[59, 59, 59, 59, ...|\n",
      "|  10367068|[B600, I10, D598,...|[48, 48, 48, 48, 48]|\n",
      "|  10377202|    [Z590, R51, SEP]|        [40, 40, 40]|\n",
      "+----------+--------------------+--------------------+\n",
      "only showing top 20 rows\n",
      "\n"
     ]
    }
   ],
   "source": [
    "data.show()"
   ]
  },
  {
   "cell_type": "code",
   "execution_count": 6,
   "id": "10d57528",
   "metadata": {},
   "outputs": [],
   "source": [
    "data.coalesce(1).write.parquet(\"dataframe.parquet\")"
   ]
  },
  {
   "cell_type": "code",
   "execution_count": 7,
   "id": "cad9c60c",
   "metadata": {},
   "outputs": [],
   "source": [
    "import pandas as pd"
   ]
  },
  {
   "cell_type": "code",
   "execution_count": 9,
   "id": "af403b2c",
   "metadata": {},
   "outputs": [
    {
     "data": {
      "text/html": [
       "<div>\n",
       "<style scoped>\n",
       "    .dataframe tbody tr th:only-of-type {\n",
       "        vertical-align: middle;\n",
       "    }\n",
       "\n",
       "    .dataframe tbody tr th {\n",
       "        vertical-align: top;\n",
       "    }\n",
       "\n",
       "    .dataframe thead th {\n",
       "        text-align: right;\n",
       "    }\n",
       "</style>\n",
       "<table border=\"1\" class=\"dataframe\">\n",
       "  <thead>\n",
       "    <tr style=\"text-align: right;\">\n",
       "      <th></th>\n",
       "      <th>subject_id</th>\n",
       "      <th>icd_code</th>\n",
       "      <th>age</th>\n",
       "    </tr>\n",
       "  </thead>\n",
       "  <tbody>\n",
       "    <tr>\n",
       "      <th>0</th>\n",
       "      <td>10028314</td>\n",
       "      <td>[Z3800, P2912, Z23, Q620, Z051, Z412, P284, P9...</td>\n",
       "      <td>[0, 0, 0, 0, 0, 0, 0, 0, 0, 0, 0, 0, 0, 0, 0]</td>\n",
       "    </tr>\n",
       "    <tr>\n",
       "      <th>1</th>\n",
       "      <td>10052351</td>\n",
       "      <td>[R0789, F10129, SEP]</td>\n",
       "      <td>[56, 56, 56]</td>\n",
       "    </tr>\n",
       "    <tr>\n",
       "      <th>2</th>\n",
       "      <td>10092012</td>\n",
       "      <td>[Z051, Z23, Z3800, SEP]</td>\n",
       "      <td>[0, 0, 0, 0]</td>\n",
       "    </tr>\n",
       "    <tr>\n",
       "      <th>3</th>\n",
       "      <td>10092020</td>\n",
       "      <td>[Z87891, Z8546, Z7901, G4089, I4820, Z8673, E8...</td>\n",
       "      <td>[69, 69, 69, 69, 69, 69, 69, 69, 69]</td>\n",
       "    </tr>\n",
       "    <tr>\n",
       "      <th>4</th>\n",
       "      <td>10126895</td>\n",
       "      <td>[Z30430, O80, Z3A39, Z370, SEP]</td>\n",
       "      <td>[24, 24, 24, 24, 24]</td>\n",
       "    </tr>\n",
       "    <tr>\n",
       "      <th>...</th>\n",
       "      <td>...</td>\n",
       "      <td>...</td>\n",
       "      <td>...</td>\n",
       "    </tr>\n",
       "    <tr>\n",
       "      <th>107699</th>\n",
       "      <td>19837828</td>\n",
       "      <td>[Z3800, Z23, SEP]</td>\n",
       "      <td>[0, 0, 0]</td>\n",
       "    </tr>\n",
       "    <tr>\n",
       "      <th>107700</th>\n",
       "      <td>19910693</td>\n",
       "      <td>[I2510, D638, Z8619, J440, I739, I10, R0902, Z...</td>\n",
       "      <td>[64, 64, 64, 64, 64, 64, 64, 64, 64, 64, 64, 6...</td>\n",
       "    </tr>\n",
       "    <tr>\n",
       "      <th>107701</th>\n",
       "      <td>19963063</td>\n",
       "      <td>[O081, D62, Z3A01, O99011, K661, O00102, SEP]</td>\n",
       "      <td>[35, 35, 35, 35, 35, 35, 35]</td>\n",
       "    </tr>\n",
       "    <tr>\n",
       "      <th>107702</th>\n",
       "      <td>19979982</td>\n",
       "      <td>[Y92239, I70201, M109, Z006, N400, I120, I2510...</td>\n",
       "      <td>[83, 83, 83, 83, 83, 83, 83, 83, 83, 83, 83, 8...</td>\n",
       "    </tr>\n",
       "    <tr>\n",
       "      <th>107703</th>\n",
       "      <td>19989437</td>\n",
       "      <td>[I214, I25119, F17200, J9811, R0902, Z8249, J9...</td>\n",
       "      <td>[38, 38, 38, 38, 38, 38, 38, 38]</td>\n",
       "    </tr>\n",
       "  </tbody>\n",
       "</table>\n",
       "<p>107704 rows × 3 columns</p>\n",
       "</div>"
      ],
      "text/plain": [
       "        subject_id                                           icd_code  \\\n",
       "0         10028314  [Z3800, P2912, Z23, Q620, Z051, Z412, P284, P9...   \n",
       "1         10052351                               [R0789, F10129, SEP]   \n",
       "2         10092012                            [Z051, Z23, Z3800, SEP]   \n",
       "3         10092020  [Z87891, Z8546, Z7901, G4089, I4820, Z8673, E8...   \n",
       "4         10126895                    [Z30430, O80, Z3A39, Z370, SEP]   \n",
       "...            ...                                                ...   \n",
       "107699    19837828                                  [Z3800, Z23, SEP]   \n",
       "107700    19910693  [I2510, D638, Z8619, J440, I739, I10, R0902, Z...   \n",
       "107701    19963063      [O081, D62, Z3A01, O99011, K661, O00102, SEP]   \n",
       "107702    19979982  [Y92239, I70201, M109, Z006, N400, I120, I2510...   \n",
       "107703    19989437  [I214, I25119, F17200, J9811, R0902, Z8249, J9...   \n",
       "\n",
       "                                                      age  \n",
       "0           [0, 0, 0, 0, 0, 0, 0, 0, 0, 0, 0, 0, 0, 0, 0]  \n",
       "1                                            [56, 56, 56]  \n",
       "2                                            [0, 0, 0, 0]  \n",
       "3                    [69, 69, 69, 69, 69, 69, 69, 69, 69]  \n",
       "4                                    [24, 24, 24, 24, 24]  \n",
       "...                                                   ...  \n",
       "107699                                          [0, 0, 0]  \n",
       "107700  [64, 64, 64, 64, 64, 64, 64, 64, 64, 64, 64, 6...  \n",
       "107701                       [35, 35, 35, 35, 35, 35, 35]  \n",
       "107702  [83, 83, 83, 83, 83, 83, 83, 83, 83, 83, 83, 8...  \n",
       "107703                   [38, 38, 38, 38, 38, 38, 38, 38]  \n",
       "\n",
       "[107704 rows x 3 columns]"
      ]
     },
     "execution_count": 9,
     "metadata": {},
     "output_type": "execute_result"
    }
   ],
   "source": [
    "pd.read_parquet(r'C:\\Users\\Johan\\Documents\\Skola\\MasterThesis\\Master-thesis\\pre-processing\\dataframe.parquet')"
   ]
  },
  {
   "cell_type": "code",
   "execution_count": null,
   "id": "22bdb4d6",
   "metadata": {},
   "outputs": [],
   "source": []
  }
 ],
 "metadata": {
  "kernelspec": {
   "display_name": "Python 3 (ipykernel)",
   "language": "python",
   "name": "python3"
  },
  "language_info": {
   "codemirror_mode": {
    "name": "ipython",
    "version": 3
   },
   "file_extension": ".py",
   "mimetype": "text/x-python",
   "name": "python",
   "nbconvert_exporter": "python",
   "pygments_lexer": "ipython3",
   "version": "3.7.11"
  }
 },
 "nbformat": 4,
 "nbformat_minor": 5
}
