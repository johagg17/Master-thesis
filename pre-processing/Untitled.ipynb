{
 "cells": [
  {
   "cell_type": "markdown",
   "id": "1ca0b76b",
   "metadata": {},
   "source": [
    "text.replace(\"\\\\\", \"/\")"
   ]
  },
  {
   "cell_type": "code",
   "execution_count": 1,
   "id": "28f20bd4",
   "metadata": {},
   "outputs": [],
   "source": [
    "from pyspark import SparkContext, SparkConf\n",
    "from pyspark.sql import SparkSession"
   ]
  },
  {
   "cell_type": "code",
   "execution_count": null,
   "id": "00508e8d",
   "metadata": {},
   "outputs": [],
   "source": []
  },
  {
   "cell_type": "code",
   "execution_count": 2,
   "id": "804fe137",
   "metadata": {
    "scrolled": false
   },
   "outputs": [],
   "source": [
    "spark = SparkSession \\\n",
    "    .builder \\\n",
    "    .appName(\"Python Spark SQL basic example\") \\\n",
    "    .config(\"spark.some.config.option\", \"some-value\") \\\n",
    "    .getOrCreate()"
   ]
  },
  {
   "cell_type": "code",
   "execution_count": 3,
   "id": "8f0735e5",
   "metadata": {},
   "outputs": [
    {
     "data": {
      "text/html": [
       "\n",
       "            <div>\n",
       "                <p><b>SparkSession - in-memory</b></p>\n",
       "                \n",
       "        <div>\n",
       "            <p><b>SparkContext</b></p>\n",
       "\n",
       "            <p><a href=\"http://192.168.0.32:4040\">Spark UI</a></p>\n",
       "\n",
       "            <dl>\n",
       "              <dt>Version</dt>\n",
       "                <dd><code>v2.4.7</code></dd>\n",
       "              <dt>Master</dt>\n",
       "                <dd><code>local[*]</code></dd>\n",
       "              <dt>AppName</dt>\n",
       "                <dd><code>Python Spark SQL basic example</code></dd>\n",
       "            </dl>\n",
       "        </div>\n",
       "        \n",
       "            </div>\n",
       "        "
      ],
      "text/plain": [
       "<pyspark.sql.session.SparkSession at 0x211eb853248>"
      ]
     },
     "execution_count": 3,
     "metadata": {},
     "output_type": "execute_result"
    }
   ],
   "source": [
    "spark"
   ]
  },
  {
   "cell_type": "code",
   "execution_count": 81,
   "id": "3f6eef13",
   "metadata": {},
   "outputs": [],
   "source": [
    "parent_path = 'D:/skolaÅr5/MasterThesis/mimic-iv-1.0/'"
   ]
  },
  {
   "cell_type": "code",
   "execution_count": 82,
   "id": "4d6da158",
   "metadata": {},
   "outputs": [],
   "source": [
    "codes_icd_path = parent_path + '/hosp/diagnoses_icd.csv'\n",
    "diagnose_codes_icd = spark.read.load(codes_icd_path, format=\"csv\", sep=\",\", inferSchema=\"true\", header=\"true\")"
   ]
  },
  {
   "cell_type": "code",
   "execution_count": 83,
   "id": "7a7f5bac",
   "metadata": {},
   "outputs": [],
   "source": [
    "diagnoses_codes_path = parent_path + '/hosp/d_icd_diagnoses.csv'\n",
    "diagnoses_codes = spark.read.load(diagnoses_codes_path,  format=\"csv\", sep=\",\", inferSchema=\"true\", header=\"true\").dropDuplicates() "
   ]
  },
  {
   "cell_type": "code",
   "execution_count": 84,
   "id": "d67d58cc",
   "metadata": {},
   "outputs": [],
   "source": [
    "#diagnose_codes_icd.select('subject_id').distinct().count()"
   ]
  },
  {
   "cell_type": "code",
   "execution_count": null,
   "id": "bc7d6a4b",
   "metadata": {},
   "outputs": [],
   "source": []
  },
  {
   "cell_type": "code",
   "execution_count": 85,
   "id": "5569c6f2",
   "metadata": {},
   "outputs": [],
   "source": [
    "patients_path = parent_path + '/core/patients.csv'\n",
    "patients = spark.read.load(patients_path,  format=\"csv\", sep=\",\", inferSchema=\"true\", header=\"true\")  "
   ]
  },
  {
   "cell_type": "code",
   "execution_count": 86,
   "id": "3dd6f339",
   "metadata": {},
   "outputs": [],
   "source": [
    "admission_path = parent_path + '/core/admissions.csv'\n",
    "admissions = spark.read.load(admission_path,  format=\"csv\", sep=\",\", inferSchema=\"true\", header=\"true\")  "
   ]
  },
  {
   "cell_type": "code",
   "execution_count": 87,
   "id": "78de1197",
   "metadata": {},
   "outputs": [],
   "source": [
    "#admissions.select('subject_id').distinct().count()"
   ]
  },
  {
   "cell_type": "code",
   "execution_count": 88,
   "id": "01593b1e",
   "metadata": {},
   "outputs": [],
   "source": [
    "admissions_ = admissions.withColumnRenamed('subject_id', 'subject_id2')\n",
    "patients_admissions = patients.join(admissions_, patients.subject_id == admissions_.subject_id2, 'inner').drop('subject_id2')"
   ]
  },
  {
   "cell_type": "code",
   "execution_count": 89,
   "id": "61add39f",
   "metadata": {},
   "outputs": [],
   "source": [
    "from pyspark.sql.functions import udf,col"
   ]
  },
  {
   "cell_type": "code",
   "execution_count": 90,
   "id": "4a93a372",
   "metadata": {},
   "outputs": [],
   "source": [
    "diagnoses_codes_ = diagnoses_codes.withColumnRenamed('icd_code', 'code').withColumnRenamed('icd_version', 'version')\n",
    "\n",
    "patients_diagnoses = diagnose_codes_icd.join(diagnoses_codes_, (diagnose_codes_icd.icd_code == diagnoses_codes_.code) & (diagnose_codes_icd.icd_version == diagnoses_codes_.version), \"inner\").drop('code', 'version')"
   ]
  },
  {
   "cell_type": "code",
   "execution_count": 91,
   "id": "f3dc87ce",
   "metadata": {},
   "outputs": [],
   "source": [
    "patients_diagnoses = patients_diagnoses.withColumnRenamed('subject_id', 'sub2').withColumnRenamed('hadm_id', 'h_id')"
   ]
  },
  {
   "cell_type": "code",
   "execution_count": 92,
   "id": "74a00858",
   "metadata": {},
   "outputs": [],
   "source": [
    "final_data = patients_admissions.join(patients_diagnoses, ((patients_admissions.subject_id == patients_diagnoses.sub2) & (patients_admissions.hadm_id == patients_diagnoses.h_id)) , 'inner').drop('sub2', 'h_id')"
   ]
  },
  {
   "cell_type": "code",
   "execution_count": 93,
   "id": "a1d1558e",
   "metadata": {},
   "outputs": [
    {
     "name": "stdout",
     "output_type": "stream",
     "text": [
      "+----------+------+----------+-----------+-----------------+-------------------+--------+-------------------+-------------------+-------------------+-----------------+--------------------+------------------+---------+--------+--------------+---------+-------------------+-------------------+--------------------+-------+--------+-----------+--------------------+\n",
      "|subject_id|gender|anchor_age|anchor_year|anchor_year_group|                dod| hadm_id|          admittime|          dischtime|          deathtime|   admission_type|  admission_location|discharge_location|insurance|language|marital_status|ethnicity|          edregtime|          edouttime|hospital_expire_flag|seq_num|icd_code|icd_version|          long_title|\n",
      "+----------+------+----------+-----------+-----------------+-------------------+--------+-------------------+-------------------+-------------------+-----------------+--------------------+------------------+---------+--------+--------------+---------+-------------------+-------------------+--------------------+-------+--------+-----------+--------------------+\n",
      "|  10003637|     M|        57|       2145|      2014 - 2016|               null|23487925|2146-01-22 23:08:00|2146-01-26 14:02:00|               null|OBSERVATION ADMIT|      EMERGENCY ROOM|  HOME HEALTH CARE|    Other| ENGLISH|      DIVORCED|    OTHER|2146-01-22 11:12:00|2146-01-23 00:33:00|                   0|      2|   I2582|         10|Chronic total occ...|\n",
      "|  10003637|     M|        57|       2145|      2014 - 2016|               null|23487925|2146-01-22 23:08:00|2146-01-26 14:02:00|               null|OBSERVATION ADMIT|      EMERGENCY ROOM|  HOME HEALTH CARE|    Other| ENGLISH|      DIVORCED|    OTHER|2146-01-22 11:12:00|2146-01-23 00:33:00|                   0|      5|    I252|         10|Old myocardial in...|\n",
      "|  10003637|     M|        57|       2145|      2014 - 2016|               null|23487925|2146-01-22 23:08:00|2146-01-26 14:02:00|               null|OBSERVATION ADMIT|      EMERGENCY ROOM|  HOME HEALTH CARE|    Other| ENGLISH|      DIVORCED|    OTHER|2146-01-22 11:12:00|2146-01-23 00:33:00|                   0|      1|    K611|         10|      Rectal abscess|\n",
      "|  10003637|     M|        57|       2145|      2014 - 2016|               null|23487925|2146-01-22 23:08:00|2146-01-26 14:02:00|               null|OBSERVATION ADMIT|      EMERGENCY ROOM|  HOME HEALTH CARE|    Other| ENGLISH|      DIVORCED|    OTHER|2146-01-22 11:12:00|2146-01-23 00:33:00|                   0|      4|   I2510|         10|Atherosclerotic h...|\n",
      "|  10003637|     M|        57|       2145|      2014 - 2016|               null|23487925|2146-01-22 23:08:00|2146-01-26 14:02:00|               null|OBSERVATION ADMIT|      EMERGENCY ROOM|  HOME HEALTH CARE|    Other| ENGLISH|      DIVORCED|    OTHER|2146-01-22 11:12:00|2146-01-23 00:33:00|                   0|      3|    I509|         10|Heart failure, un...|\n",
      "|  10003637|     M|        57|       2145|      2014 - 2016|               null|23487925|2146-01-22 23:08:00|2146-01-26 14:02:00|               null|OBSERVATION ADMIT|      EMERGENCY ROOM|  HOME HEALTH CARE|    Other| ENGLISH|      DIVORCED|    OTHER|2146-01-22 11:12:00|2146-01-23 00:33:00|                   0|      7|    Z951|         10|Presence of aorto...|\n",
      "|  10003637|     M|        57|       2145|      2014 - 2016|               null|23487925|2146-01-22 23:08:00|2146-01-26 14:02:00|               null|OBSERVATION ADMIT|      EMERGENCY ROOM|  HOME HEALTH CARE|    Other| ENGLISH|      DIVORCED|    OTHER|2146-01-22 11:12:00|2146-01-23 00:33:00|                   0|      6|    Z950|         10|Presence of cardi...|\n",
      "|  10003637|     M|        57|       2145|      2014 - 2016|               null|23487925|2146-01-22 23:08:00|2146-01-26 14:02:00|               null|OBSERVATION ADMIT|      EMERGENCY ROOM|  HOME HEALTH CARE|    Other| ENGLISH|      DIVORCED|    OTHER|2146-01-22 11:12:00|2146-01-23 00:33:00|                   0|      8|   Z8673|         10|Personal history ...|\n",
      "|  10003637|     M|        57|       2145|      2014 - 2016|               null|23487925|2146-01-22 23:08:00|2146-01-26 14:02:00|               null|OBSERVATION ADMIT|      EMERGENCY ROOM|  HOME HEALTH CARE|    Other| ENGLISH|      DIVORCED|    OTHER|2146-01-22 11:12:00|2146-01-23 00:33:00|                   0|     11|  F17210|         10|Nicotine dependen...|\n",
      "|  10003637|     M|        57|       2145|      2014 - 2016|               null|23487925|2146-01-22 23:08:00|2146-01-26 14:02:00|               null|OBSERVATION ADMIT|      EMERGENCY ROOM|  HOME HEALTH CARE|    Other| ENGLISH|      DIVORCED|    OTHER|2146-01-22 11:12:00|2146-01-23 00:33:00|                   0|      9|    E785|         10|Hyperlipidemia, u...|\n",
      "|  10003637|     M|        57|       2145|      2014 - 2016|               null|23487925|2146-01-22 23:08:00|2146-01-26 14:02:00|               null|OBSERVATION ADMIT|      EMERGENCY ROOM|  HOME HEALTH CARE|    Other| ENGLISH|      DIVORCED|    OTHER|2146-01-22 11:12:00|2146-01-23 00:33:00|                   0|     10|    I255|         10|Ischemic cardiomy...|\n",
      "|  10004720|     M|        61|       2183|      2014 - 2016|2186-11-17 00:00:00|22081550|2186-11-12 18:01:00|2186-11-17 18:30:00|2186-11-17 18:30:00|         EW EMER.|INFORMATION NOT A...|              DIED| Medicare| ENGLISH|        SINGLE|    WHITE|2186-11-12 16:09:00|2186-11-12 19:55:00|                   1|      6|    I959|         10|Hypotension, unsp...|\n",
      "|  10004720|     M|        61|       2183|      2014 - 2016|2186-11-17 00:00:00|22081550|2186-11-12 18:01:00|2186-11-17 18:30:00|2186-11-17 18:30:00|         EW EMER.|INFORMATION NOT A...|              DIED| Medicare| ENGLISH|        SINGLE|    WHITE|2186-11-12 16:09:00|2186-11-12 19:55:00|                   1|     24|    L570|         10|   Actinic keratosis|\n",
      "|  10004720|     M|        61|       2183|      2014 - 2016|2186-11-17 00:00:00|22081550|2186-11-12 18:01:00|2186-11-17 18:30:00|2186-11-17 18:30:00|         EW EMER.|INFORMATION NOT A...|              DIED| Medicare| ENGLISH|        SINGLE|    WHITE|2186-11-12 16:09:00|2186-11-12 19:55:00|                   1|      4|   Z8674|         10|Personal history ...|\n",
      "|  10004720|     M|        61|       2183|      2014 - 2016|2186-11-17 00:00:00|22081550|2186-11-12 18:01:00|2186-11-17 18:30:00|2186-11-17 18:30:00|         EW EMER.|INFORMATION NOT A...|              DIED| Medicare| ENGLISH|        SINGLE|    WHITE|2186-11-12 16:09:00|2186-11-12 19:55:00|                   1|     10|    Y848|         10|Other medical pro...|\n",
      "|  10004720|     M|        61|       2183|      2014 - 2016|2186-11-17 00:00:00|22081550|2186-11-12 18:01:00|2186-11-17 18:30:00|2186-11-17 18:30:00|         EW EMER.|INFORMATION NOT A...|              DIED| Medicare| ENGLISH|        SINGLE|    WHITE|2186-11-12 16:09:00|2186-11-12 19:55:00|                   1|      9|    D638|         10|Anemia in other c...|\n",
      "|  10004720|     M|        61|       2183|      2014 - 2016|2186-11-17 00:00:00|22081550|2186-11-12 18:01:00|2186-11-17 18:30:00|2186-11-17 18:30:00|         EW EMER.|INFORMATION NOT A...|              DIED| Medicare| ENGLISH|        SINGLE|    WHITE|2186-11-12 16:09:00|2186-11-12 19:55:00|                   1|     28|   Z7902|         10|Long term (curren...|\n",
      "|  10004720|     M|        61|       2183|      2014 - 2016|2186-11-17 00:00:00|22081550|2186-11-12 18:01:00|2186-11-17 18:30:00|2186-11-17 18:30:00|         EW EMER.|INFORMATION NOT A...|              DIED| Medicare| ENGLISH|        SINGLE|    WHITE|2186-11-12 16:09:00|2186-11-12 19:55:00|                   1|     20|    H269|         10|Unspecified cataract|\n",
      "|  10004720|     M|        61|       2183|      2014 - 2016|2186-11-17 00:00:00|22081550|2186-11-12 18:01:00|2186-11-17 18:30:00|2186-11-17 18:30:00|         EW EMER.|INFORMATION NOT A...|              DIED| Medicare| ENGLISH|        SINGLE|    WHITE|2186-11-12 16:09:00|2186-11-12 19:55:00|                   1|     16| S42291D|         10|Other displaced f...|\n",
      "|  10004720|     M|        61|       2183|      2014 - 2016|2186-11-17 00:00:00|22081550|2186-11-12 18:01:00|2186-11-17 18:30:00|2186-11-17 18:30:00|         EW EMER.|INFORMATION NOT A...|              DIED| Medicare| ENGLISH|        SINGLE|    WHITE|2186-11-12 16:09:00|2186-11-12 19:55:00|                   1|     12|     Z66|         10|  Do not resuscitate|\n",
      "+----------+------+----------+-----------+-----------------+-------------------+--------+-------------------+-------------------+-------------------+-----------------+--------------------+------------------+---------+--------+--------------+---------+-------------------+-------------------+--------------------+-------+--------+-----------+--------------------+\n",
      "only showing top 20 rows\n",
      "\n"
     ]
    }
   ],
   "source": [
    "final_data.show()"
   ]
  },
  {
   "cell_type": "code",
   "execution_count": 94,
   "id": "f322c16d",
   "metadata": {},
   "outputs": [],
   "source": [
    "needed_columns = set(['subject_id', 'anchor_age', 'hadm_id', 'admittime', 'dischtime', 'icd_code', 'icd_version', 'long_title'])"
   ]
  },
  {
   "cell_type": "code",
   "execution_count": 95,
   "id": "4cc5c3ed",
   "metadata": {},
   "outputs": [],
   "source": [
    "columns_ = [c for c in final_data.columns if c not in needed_columns]"
   ]
  },
  {
   "cell_type": "code",
   "execution_count": 96,
   "id": "23bf8956",
   "metadata": {},
   "outputs": [
    {
     "data": {
      "text/plain": [
       "['gender',\n",
       " 'anchor_year',\n",
       " 'anchor_year_group',\n",
       " 'dod',\n",
       " 'deathtime',\n",
       " 'admission_type',\n",
       " 'admission_location',\n",
       " 'discharge_location',\n",
       " 'insurance',\n",
       " 'language',\n",
       " 'marital_status',\n",
       " 'ethnicity',\n",
       " 'edregtime',\n",
       " 'edouttime',\n",
       " 'hospital_expire_flag',\n",
       " 'seq_num']"
      ]
     },
     "execution_count": 96,
     "metadata": {},
     "output_type": "execute_result"
    }
   ],
   "source": [
    "columns_"
   ]
  },
  {
   "cell_type": "code",
   "execution_count": 97,
   "id": "270e90e6",
   "metadata": {},
   "outputs": [],
   "source": [
    "new = final_data.drop(*columns_).na.drop()"
   ]
  },
  {
   "cell_type": "code",
   "execution_count": 98,
   "id": "53f9a26e",
   "metadata": {},
   "outputs": [
    {
     "name": "stdout",
     "output_type": "stream",
     "text": [
      "+----------+----------+--------+-------------------+-------------------+--------+-----------+--------------------+\n",
      "|subject_id|anchor_age| hadm_id|          admittime|          dischtime|icd_code|icd_version|          long_title|\n",
      "+----------+----------+--------+-------------------+-------------------+--------+-----------+--------------------+\n",
      "|  10003637|        57|23487925|2146-01-22 23:08:00|2146-01-26 14:02:00|   I2582|         10|Chronic total occ...|\n",
      "|  10003637|        57|23487925|2146-01-22 23:08:00|2146-01-26 14:02:00|    I252|         10|Old myocardial in...|\n",
      "|  10003637|        57|23487925|2146-01-22 23:08:00|2146-01-26 14:02:00|    K611|         10|      Rectal abscess|\n",
      "|  10003637|        57|23487925|2146-01-22 23:08:00|2146-01-26 14:02:00|   I2510|         10|Atherosclerotic h...|\n",
      "|  10003637|        57|23487925|2146-01-22 23:08:00|2146-01-26 14:02:00|    I509|         10|Heart failure, un...|\n",
      "|  10003637|        57|23487925|2146-01-22 23:08:00|2146-01-26 14:02:00|    Z951|         10|Presence of aorto...|\n",
      "|  10003637|        57|23487925|2146-01-22 23:08:00|2146-01-26 14:02:00|    Z950|         10|Presence of cardi...|\n",
      "|  10003637|        57|23487925|2146-01-22 23:08:00|2146-01-26 14:02:00|   Z8673|         10|Personal history ...|\n",
      "|  10003637|        57|23487925|2146-01-22 23:08:00|2146-01-26 14:02:00|  F17210|         10|Nicotine dependen...|\n",
      "|  10003637|        57|23487925|2146-01-22 23:08:00|2146-01-26 14:02:00|    E785|         10|Hyperlipidemia, u...|\n",
      "|  10003637|        57|23487925|2146-01-22 23:08:00|2146-01-26 14:02:00|    I255|         10|Ischemic cardiomy...|\n",
      "|  10004720|        61|22081550|2186-11-12 18:01:00|2186-11-17 18:30:00|    I959|         10|Hypotension, unsp...|\n",
      "|  10004720|        61|22081550|2186-11-12 18:01:00|2186-11-17 18:30:00|    L570|         10|   Actinic keratosis|\n",
      "|  10004720|        61|22081550|2186-11-12 18:01:00|2186-11-17 18:30:00|   Z8674|         10|Personal history ...|\n",
      "|  10004720|        61|22081550|2186-11-12 18:01:00|2186-11-17 18:30:00|    Y848|         10|Other medical pro...|\n",
      "|  10004720|        61|22081550|2186-11-12 18:01:00|2186-11-17 18:30:00|    D638|         10|Anemia in other c...|\n",
      "|  10004720|        61|22081550|2186-11-12 18:01:00|2186-11-17 18:30:00|   Z7902|         10|Long term (curren...|\n",
      "|  10004720|        61|22081550|2186-11-12 18:01:00|2186-11-17 18:30:00|    H269|         10|Unspecified cataract|\n",
      "|  10004720|        61|22081550|2186-11-12 18:01:00|2186-11-17 18:30:00| S42291D|         10|Other displaced f...|\n",
      "|  10004720|        61|22081550|2186-11-12 18:01:00|2186-11-17 18:30:00|     Z66|         10|  Do not resuscitate|\n",
      "+----------+----------+--------+-------------------+-------------------+--------+-----------+--------------------+\n",
      "only showing top 20 rows\n",
      "\n"
     ]
    }
   ],
   "source": [
    "new.show()"
   ]
  },
  {
   "cell_type": "code",
   "execution_count": 100,
   "id": "dd9f3357",
   "metadata": {},
   "outputs": [],
   "source": [
    "new1 = new.select('subject_id', 'anchor_age','hadm_id' ,'icd_code', 'icd_version').filter('icd_version == 10')"
   ]
  },
  {
   "cell_type": "code",
   "execution_count": 101,
   "id": "77411990",
   "metadata": {},
   "outputs": [
    {
     "name": "stdout",
     "output_type": "stream",
     "text": [
      "+----------+----------+--------+--------+-----------+\n",
      "|subject_id|anchor_age| hadm_id|icd_code|icd_version|\n",
      "+----------+----------+--------+--------+-----------+\n",
      "|  10003637|        57|23487925|   I2582|         10|\n",
      "|  10003637|        57|23487925|    I252|         10|\n",
      "|  10003637|        57|23487925|    K611|         10|\n",
      "|  10003637|        57|23487925|   I2510|         10|\n",
      "|  10003637|        57|23487925|    I509|         10|\n",
      "|  10003637|        57|23487925|    Z951|         10|\n",
      "|  10003637|        57|23487925|    Z950|         10|\n",
      "|  10003637|        57|23487925|   Z8673|         10|\n",
      "|  10003637|        57|23487925|  F17210|         10|\n",
      "|  10003637|        57|23487925|    E785|         10|\n",
      "|  10003637|        57|23487925|    I255|         10|\n",
      "|  10004720|        61|22081550|    I959|         10|\n",
      "|  10004720|        61|22081550|    L570|         10|\n",
      "|  10004720|        61|22081550|   Z8674|         10|\n",
      "|  10004720|        61|22081550|    Y848|         10|\n",
      "|  10004720|        61|22081550|    D638|         10|\n",
      "|  10004720|        61|22081550|   Z7902|         10|\n",
      "|  10004720|        61|22081550|    H269|         10|\n",
      "|  10004720|        61|22081550| S42291D|         10|\n",
      "|  10004720|        61|22081550|     Z66|         10|\n",
      "+----------+----------+--------+--------+-----------+\n",
      "only showing top 20 rows\n",
      "\n"
     ]
    }
   ],
   "source": [
    "new1.show()"
   ]
  },
  {
   "cell_type": "markdown",
   "id": "08e89f95",
   "metadata": {},
   "source": [
    "# BEHRT "
   ]
  },
  {
   "cell_type": "code",
   "execution_count": 102,
   "id": "a625870a",
   "metadata": {},
   "outputs": [],
   "source": [
    "import pyspark.sql.functions as F\n",
    "from pyspark.sql import Window"
   ]
  },
  {
   "cell_type": "code",
   "execution_count": 103,
   "id": "8450ab7b",
   "metadata": {},
   "outputs": [],
   "source": [
    "new2 = new1.groupby(['subject_id', 'hadm_id']).agg(F.collect_list('icd_code').alias('icd_code'), F.collect_list('anchor_age').alias('age'))"
   ]
  },
  {
   "cell_type": "code",
   "execution_count": 104,
   "id": "93026b93",
   "metadata": {},
   "outputs": [
    {
     "name": "stdout",
     "output_type": "stream",
     "text": [
      "+----------+--------+--------------------+--------------------+\n",
      "|subject_id| hadm_id|            icd_code|                 age|\n",
      "+----------+--------+--------------------+--------------------+\n",
      "|  10003637|23487925|[I2582, I252, K61...|[57, 57, 57, 57, ...|\n",
      "|  10004720|22081550|[I959, L570, Z867...|[61, 61, 61, 61, ...|\n",
      "|  10006457|23963539|[Z87891, I69351, ...|[57, 57, 57, 57, ...|\n",
      "|  10022373|22567635|[G893, E039, R197...|[60, 60, 60, 60, ...|\n",
      "|  10027100|28267047|[B1920, F19129, F...|        [46, 46, 46]|\n",
      "|  10051043|26948064|[R42, I63542, I63...|[60, 60, 60, 60, ...|\n",
      "|  10059041|22386234|[Z7902, I10, Z966...|[65, 65, 65, 65, ...|\n",
      "|  10066102|21912366|[T18128A, K209, N...|[82, 82, 82, 82, ...|\n",
      "|  10071930|29524322|        [Z23, Z3800]|              [0, 0]|\n",
      "|  10122428|25017197|[I10, Z7902, M415...|[84, 84, 84, 84, ...|\n",
      "|  10124189|23921797|[F17290, K8510, I...|[18, 18, 18, 18, 18]|\n",
      "|  10124544|29966384|[K5790, F0280, G3...|[91, 91, 91, 91, ...|\n",
      "|  10138124|21798709|[I2782, I201, Z79...|[68, 68, 68, 68, 68]|\n",
      "|  10142339|24862655|[F1120, K7469, Z6...|[27, 27, 27, 27, ...|\n",
      "|  10144359|22065166|[R740, Y929, E162...|[51, 51, 51, 51, ...|\n",
      "|  10144872|26114999|[F419, C7931, Z68...|[52, 52, 52, 52, ...|\n",
      "|  10145540|28792447|[K5090, K7290, D6...|[21, 21, 21, 21, ...|\n",
      "|  10157454|27280709|[I5033, I313, N17...|[62, 62, 62, 62, ...|\n",
      "|  10159049|21618714|[Z8673, Z7902, R4...|[83, 83, 83, 83, 83]|\n",
      "|  10168722|25403630|[G936, A4150, I10...|[74, 74, 74, 74, ...|\n",
      "+----------+--------+--------------------+--------------------+\n",
      "only showing top 20 rows\n",
      "\n"
     ]
    }
   ],
   "source": [
    "new2.show()"
   ]
  },
  {
   "cell_type": "code",
   "execution_count": 105,
   "id": "1550ab87",
   "metadata": {},
   "outputs": [],
   "source": [
    "new4 = new2.groupby(['subject_id']).agg(F.collect_list('icd_code').alias('icd_code'), F.collect_list('age').alias('age'))"
   ]
  },
  {
   "cell_type": "code",
   "execution_count": 109,
   "id": "dcc2752c",
   "metadata": {},
   "outputs": [
    {
     "name": "stdout",
     "output_type": "stream",
     "text": [
      "+----------+--------------------+--------------------+\n",
      "|subject_id|            icd_code|                 age|\n",
      "+----------+--------------------+--------------------+\n",
      "|  10028314|[[Z3800, P2912, Z...|[[0, 0, 0, 0, 0, ...|\n",
      "|  10052351|   [[R0789, F10129]]|          [[56, 56]]|\n",
      "|  10092012|[[Z051, Z23, Z3800]]|         [[0, 0, 0]]|\n",
      "|  10092020|[[Z87891, Z8546, ...|[[69, 69, 69, 69,...|\n",
      "|  10126895|[[Z30430, O80, Z3...|  [[24, 24, 24, 24]]|\n",
      "|  10145339|[[Z3800, Z23], [P...|       [[0, 0], [0]]|\n",
      "|  10150136|[[D72829, R0682, ...|[[61, 61, 61, 61,...|\n",
      "|  10188507|[[P590], [Z3800, ...| [[0], [0, 0, 0, 0]]|\n",
      "|  10229726|[[G7000, R7989, M...|[[63, 63, 63, 63,...|\n",
      "|  10236661|[[K5730, F22, G40...|[[79, 79, 79, 79,...|\n",
      "|  10246179|[[R45851, F17210,...|[[20, 20, 20, 20,...|\n",
      "|  10249110|[[I8510, Z8673, E...|[[51, 51, 51, 51,...|\n",
      "|  10266640|[[Z3800, Z051, Q6...|      [[0, 0, 0, 0]]|\n",
      "|  10275889|[[Z23, Z3801, P030]]|         [[0, 0, 0]]|\n",
      "|  10296904|[[Z390], [O701, E...|[[28], [28, 28, 2...|\n",
      "|  10301630|[[F17290, E785, I...|[[57, 57, 57, 57,...|\n",
      "|  10302680|[[Y92230, F17210,...|[[48, 48, 48, 48,...|\n",
      "|  10365752|[[Z7902, R0789, E...|[[59, 59, 59, 59,...|\n",
      "|  10367068|[[B600, I10, D598...|  [[48, 48, 48, 48]]|\n",
      "|  10377202|       [[Z590, R51]]|          [[40, 40]]|\n",
      "+----------+--------------------+--------------------+\n",
      "only showing top 20 rows\n",
      "\n"
     ]
    }
   ],
   "source": [
    "new4.show()"
   ]
  },
  {
   "cell_type": "markdown",
   "id": "937ea67a",
   "metadata": {},
   "source": [
    "### Test "
   ]
  },
  {
   "cell_type": "code",
   "execution_count": null,
   "id": "74d21767",
   "metadata": {},
   "outputs": [],
   "source": [
    "new2 = new1.groupby(['subject_id', 'hadm_id']).agg(F.collect_list('icd_code').alias('icd_code'), F.collect_list('anchor_age').alias('age'))"
   ]
  },
  {
   "cell_type": "code",
   "execution_count": null,
   "id": "f976820e",
   "metadata": {},
   "outputs": [],
   "source": []
  },
  {
   "cell_type": "code",
   "execution_count": 120,
   "id": "6a50488d",
   "metadata": {},
   "outputs": [],
   "source": [
    "new3 = new2.withColumn(\"icd_code\",F.concat(F.col('icd_code'), F.array(F.lit('SEP')))).withColumn('age', F.concat(F.col('age'), F.array(F.lit('SEP'))))"
   ]
  },
  {
   "cell_type": "code",
   "execution_count": 124,
   "id": "5551cb94",
   "metadata": {},
   "outputs": [],
   "source": [
    "new4 = new3.withColumn('icd_code', F.concat_ws(\",\", F.col('icd_code')))\n",
    "new4 = new4.withColumn('age', F.concat_ws(\",\", F.col('age')))"
   ]
  },
  {
   "cell_type": "code",
   "execution_count": 133,
   "id": "42c1ff3e",
   "metadata": {},
   "outputs": [],
   "source": [
    "new5 = new4.groupby(['subject_id']).agg(F.collect_list('icd_code').alias('icd_code'), F.collect_list('age').alias('age'))\\\n",
    ".withColumn('icd_code', F.concat_ws(',', F.col('icd_code'))).withColumn('age', F.concat_ws(',', F.col('age')))"
   ]
  },
  {
   "cell_type": "code",
   "execution_count": 134,
   "id": "19e3ca03",
   "metadata": {},
   "outputs": [
    {
     "name": "stdout",
     "output_type": "stream",
     "text": [
      "+----------+--------------------+--------------------+\n",
      "|subject_id|            icd_code|                 age|\n",
      "+----------+--------------------+--------------------+\n",
      "|  10028314|Z3800,P2912,Z23,Q...|0,0,0,0,0,0,0,0,0...|\n",
      "|  10052351|    R0789,F10129,SEP|           56,56,SEP|\n",
      "|  10092012|  Z051,Z23,Z3800,SEP|           0,0,0,SEP|\n",
      "|  10092020|Z87891,Z8546,Z790...|69,69,69,69,69,69...|\n",
      "|  10126895|Z30430,O80,Z3A39,...|     24,24,24,24,SEP|\n",
      "|  10145339|Z3800,Z23,SEP,P55...|       0,0,SEP,0,SEP|\n",
      "|  10150136|D72829,R0682,K298...|61,61,61,61,61,61...|\n",
      "|  10188507|P590,SEP,Z3800,P5...|   0,SEP,0,0,0,0,SEP|\n",
      "|  10229726|G7000,R7989,M2137...|63,63,63,63,63,63...|\n",
      "|  10236661|K5730,F22,G40209,...|79,79,79,79,79,79...|\n",
      "|  10246179|R45851,F17210,F41...|20,20,20,20,20,SE...|\n",
      "|  10249110|I8510,Z8673,E46,F...|51,51,51,51,51,51...|\n",
      "|  10266640|Z3800,Z051,Q6502,...|         0,0,0,0,SEP|\n",
      "|  10275889|  Z23,Z3801,P030,SEP|           0,0,0,SEP|\n",
      "|  10296904|Z390,SEP,O701,E03...|28,SEP,28,28,28,2...|\n",
      "|  10301630|F17290,E785,I2510...|57,57,57,57,57,57...|\n",
      "|  10302680|Y92230,F17210,N18...|48,48,48,48,48,48...|\n",
      "|  10365752|Z7902,R0789,E871,...|59,59,59,59,59,59...|\n",
      "|  10367068|B600,I10,D598,R16...|     48,48,48,48,SEP|\n",
      "|  10377202|        Z590,R51,SEP|           40,40,SEP|\n",
      "+----------+--------------------+--------------------+\n",
      "only showing top 20 rows\n",
      "\n"
     ]
    }
   ],
   "source": [
    "new5.show()"
   ]
  },
  {
   "cell_type": "code",
   "execution_count": 131,
   "id": "6904fd2f",
   "metadata": {},
   "outputs": [
    {
     "name": "stdout",
     "output_type": "stream",
     "text": [
      "+----------+--------+--------------------+---------------+\n",
      "|subject_id| hadm_id|            icd_code|            age|\n",
      "+----------+--------+--------------------+---------------+\n",
      "|  10367068|29462361|B600,I10,D598,R16...|48,48,48,48,SEP|\n",
      "+----------+--------+--------------------+---------------+\n",
      "\n"
     ]
    }
   ],
   "source": [
    "new4.filter('subject_id == 10367068').show()"
   ]
  },
  {
   "cell_type": "code",
   "execution_count": 132,
   "id": "79af0019",
   "metadata": {},
   "outputs": [
    {
     "data": {
      "text/plain": [
       "[Row(subject_id=10145339, icd_code=['Z3800,Z23,SEP', 'P551,SEP'], age=['0,0,SEP', '0,SEP'])]"
      ]
     },
     "execution_count": 132,
     "metadata": {},
     "output_type": "execute_result"
    }
   ],
   "source": [
    "new5.filter('subject_id == 10145339').collect()"
   ]
  },
  {
   "cell_type": "code",
   "execution_count": 121,
   "id": "731cc3a2",
   "metadata": {},
   "outputs": [
    {
     "name": "stdout",
     "output_type": "stream",
     "text": [
      "+----------+--------+--------------------+--------------------+\n",
      "|subject_id| hadm_id|            icd_code|                 age|\n",
      "+----------+--------+--------------------+--------------------+\n",
      "|  10003637|23487925|[I2582, I252, K61...|[57, 57, 57, 57, ...|\n",
      "|  10004720|22081550|[I959, L570, Z867...|[61, 61, 61, 61, ...|\n",
      "|  10006457|23963539|[Z87891, I69351, ...|[57, 57, 57, 57, ...|\n",
      "|  10022373|22567635|[G893, E039, R197...|[60, 60, 60, 60, ...|\n",
      "|  10027100|28267047|[B1920, F19129, F...|   [46, 46, 46, SEP]|\n",
      "|  10051043|26948064|[R42, I63542, I63...|[60, 60, 60, 60, ...|\n",
      "|  10059041|22386234|[Z7902, I10, Z966...|[65, 65, 65, 65, ...|\n",
      "|  10066102|21912366|[T18128A, K209, N...|[82, 82, 82, 82, ...|\n",
      "|  10071930|29524322|   [Z23, Z3800, SEP]|         [0, 0, SEP]|\n",
      "|  10122428|25017197|[I10, Z7902, M415...|[84, 84, 84, 84, ...|\n",
      "|  10124189|23921797|[F17290, K8510, I...|[18, 18, 18, 18, ...|\n",
      "|  10124544|29966384|[K5790, F0280, G3...|[91, 91, 91, 91, ...|\n",
      "|  10138124|21798709|[I2782, I201, Z79...|[68, 68, 68, 68, ...|\n",
      "|  10142339|24862655|[F1120, K7469, Z6...|[27, 27, 27, 27, ...|\n",
      "|  10144359|22065166|[R740, Y929, E162...|[51, 51, 51, 51, ...|\n",
      "|  10144872|26114999|[F419, C7931, Z68...|[52, 52, 52, 52, ...|\n",
      "|  10145540|28792447|[K5090, K7290, D6...|[21, 21, 21, 21, ...|\n",
      "|  10157454|27280709|[I5033, I313, N17...|[62, 62, 62, 62, ...|\n",
      "|  10159049|21618714|[Z8673, Z7902, R4...|[83, 83, 83, 83, ...|\n",
      "|  10168722|25403630|[G936, A4150, I10...|[74, 74, 74, 74, ...|\n",
      "+----------+--------+--------------------+--------------------+\n",
      "only showing top 20 rows\n",
      "\n"
     ]
    }
   ],
   "source": [
    "new3.show()"
   ]
  },
  {
   "cell_type": "code",
   "execution_count": 107,
   "id": "ccc400a9",
   "metadata": {},
   "outputs": [
    {
     "data": {
      "text/plain": [
       "107704"
      ]
     },
     "execution_count": 107,
     "metadata": {},
     "output_type": "execute_result"
    }
   ],
   "source": [
    "new4.select('subject_id').count()"
   ]
  },
  {
   "cell_type": "code",
   "execution_count": null,
   "id": "a43946ce",
   "metadata": {},
   "outputs": [],
   "source": []
  },
  {
   "cell_type": "code",
   "execution_count": 136,
   "id": "4ec5375d",
   "metadata": {},
   "outputs": [],
   "source": [
    "dd = spark.read.load('dataset.csv',  format=\"csv\", sep=\",\", inferSchema=\"true\", header=\"true\")  "
   ]
  },
  {
   "cell_type": "code",
   "execution_count": 137,
   "id": "d2f050e1",
   "metadata": {},
   "outputs": [
    {
     "name": "stdout",
     "output_type": "stream",
     "text": [
      "+----------+--------------------+--------------------+\n",
      "|subject_id|            icd_code|                 age|\n",
      "+----------+--------------------+--------------------+\n",
      "|  10002559| 462,78060,34831,SEP|        21,21,21,SEP|\n",
      "|  10012942|34600,80701,4011,...|45,45,45,45,45,45...|\n",
      "|  10028314|Z3800,P2912,Z23,Q...|0,0,0,0,0,0,0,0,0...|\n",
      "|  10052351|    R0789,F10129,SEP|           56,56,SEP|\n",
      "|  10066704|     30500,78097,SEP|           19,19,SEP|\n",
      "|  10076765|76528,V3000,77081...|0,0,0,0,0,0,0,0,0...|\n",
      "|  10085296|      V3000,V053,SEP|             0,0,SEP|\n",
      "|  10092012|  Z051,Z23,Z3800,SEP|           0,0,0,SEP|\n",
      "|  10092020|Z87891,Z8546,Z790...|69,69,69,69,69,69...|\n",
      "|  10116201|2102,V1582,5272,0...|  57,57,57,57,57,SEP|\n",
      "|  10117508|V103,E8490,V0751,...|30,30,30,30,30,30...|\n",
      "|  10126895|Z30430,O80,Z3A39,...|     24,24,24,24,SEP|\n",
      "|  10128450|     78901,78702,SEP|           24,24,SEP|\n",
      "|  10129784|79099,30520,2713,...|  24,24,24,24,24,SEP|\n",
      "|  10132888|2760,34982,49121,...|89,89,89,89,89,89...|\n",
      "|  10138810|75739,V3000,V053,SEP|           0,0,0,SEP|\n",
      "|  10145339|P551,SEP,Z3800,Z2...|       0,SEP,0,0,SEP|\n",
      "|  10149538|34590,0340,V1087,SEP|        22,22,22,SEP|\n",
      "|  10150136|D72829,R0682,K298...|61,61,61,61,61,61...|\n",
      "|  10172042|41401,4019,2724,V...|31,31,31,31,31,31...|\n",
      "+----------+--------------------+--------------------+\n",
      "only showing top 20 rows\n",
      "\n"
     ]
    }
   ],
   "source": [
    "dd.show()"
   ]
  },
  {
   "cell_type": "code",
   "execution_count": null,
   "id": "fcb2600a",
   "metadata": {},
   "outputs": [],
   "source": []
  }
 ],
 "metadata": {
  "kernelspec": {
   "display_name": "Python 3 (ipykernel)",
   "language": "python",
   "name": "python3"
  },
  "language_info": {
   "codemirror_mode": {
    "name": "ipython",
    "version": 3
   },
   "file_extension": ".py",
   "mimetype": "text/x-python",
   "name": "python",
   "nbconvert_exporter": "python",
   "pygments_lexer": "ipython3",
   "version": "3.7.11"
  }
 },
 "nbformat": 4,
 "nbformat_minor": 5
}
