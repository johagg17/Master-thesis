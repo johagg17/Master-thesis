{
 "cells": [
  {
   "cell_type": "markdown",
   "id": "1ca0b76b",
   "metadata": {},
   "source": [
    "text.replace(\"\\\\\", \"/\")"
   ]
  },
  {
   "cell_type": "code",
   "execution_count": 1,
   "id": "28f20bd4",
   "metadata": {},
   "outputs": [],
   "source": [
    "from pyspark import SparkContext, SparkConf\n",
    "from pyspark.sql import SparkSession"
   ]
  },
  {
   "cell_type": "code",
   "execution_count": null,
   "id": "00508e8d",
   "metadata": {},
   "outputs": [],
   "source": []
  },
  {
   "cell_type": "code",
   "execution_count": 2,
   "id": "804fe137",
   "metadata": {
    "scrolled": false
   },
   "outputs": [],
   "source": [
    "spark = SparkSession \\\n",
    "    .builder \\\n",
    "    .appName(\"Python Spark SQL basic example\") \\\n",
    "    .config(\"spark.some.config.option\", \"some-value\") \\\n",
    "    .getOrCreate()"
   ]
  },
  {
   "cell_type": "code",
   "execution_count": 3,
   "id": "8f0735e5",
   "metadata": {},
   "outputs": [
    {
     "data": {
      "text/html": [
       "\n",
       "            <div>\n",
       "                <p><b>SparkSession - in-memory</b></p>\n",
       "                \n",
       "        <div>\n",
       "            <p><b>SparkContext</b></p>\n",
       "\n",
       "            <p><a href=\"http://192.168.0.32:4040\">Spark UI</a></p>\n",
       "\n",
       "            <dl>\n",
       "              <dt>Version</dt>\n",
       "                <dd><code>v3.0.2</code></dd>\n",
       "              <dt>Master</dt>\n",
       "                <dd><code>local[*]</code></dd>\n",
       "              <dt>AppName</dt>\n",
       "                <dd><code>Python Spark SQL basic example</code></dd>\n",
       "            </dl>\n",
       "        </div>\n",
       "        \n",
       "            </div>\n",
       "        "
      ],
      "text/plain": [
       "<pyspark.sql.session.SparkSession at 0x2dbd729cb08>"
      ]
     },
     "execution_count": 3,
     "metadata": {},
     "output_type": "execute_result"
    }
   ],
   "source": [
    "spark"
   ]
  },
  {
   "cell_type": "code",
   "execution_count": 6,
   "id": "3f6eef13",
   "metadata": {},
   "outputs": [],
   "source": [
    "parent_path = 'D:/skolaÅr5/MasterThesis/mimic-iv-1.0/'"
   ]
  },
  {
   "cell_type": "code",
   "execution_count": 7,
   "id": "4d6da158",
   "metadata": {},
   "outputs": [],
   "source": [
    "codes_icd_path = parent_path + '/hosp/diagnoses_icd.csv'\n",
    "diagnose_codes_icd = spark.read.load(codes_icd_path, format=\"csv\", sep=\",\", inferSchema=\"true\", header=\"true\")"
   ]
  },
  {
   "cell_type": "code",
   "execution_count": 8,
   "id": "7a7f5bac",
   "metadata": {},
   "outputs": [],
   "source": [
    "diagnoses_codes_path = parent_path + '/hosp/d_icd_diagnoses.csv'\n",
    "diagnoses_codes = spark.read.load(diagnoses_codes_path,  format=\"csv\", sep=\",\", inferSchema=\"true\", header=\"true\")  "
   ]
  },
  {
   "cell_type": "code",
   "execution_count": 9,
   "id": "5569c6f2",
   "metadata": {},
   "outputs": [],
   "source": [
    "patients_path = parent_path + '/core/patients.csv'\n",
    "patients = spark.read.load(patients_path,  format=\"csv\", sep=\",\", inferSchema=\"true\", header=\"true\")  "
   ]
  },
  {
   "cell_type": "code",
   "execution_count": 10,
   "id": "3dd6f339",
   "metadata": {},
   "outputs": [],
   "source": [
    "admission_path = parent_path + '/core/admissions.csv'\n",
    "admissions = spark.read.load(admission_path,  format=\"csv\", sep=\",\", inferSchema=\"true\", header=\"true\")  "
   ]
  },
  {
   "cell_type": "code",
   "execution_count": 11,
   "id": "01593b1e",
   "metadata": {},
   "outputs": [],
   "source": [
    "admissions_ = admissions.withColumnRenamed('subject_id', 'subject_id2')\n",
    "patients_admissions = patients.join(admissions_, patients.subject_id == admissions_.subject_id2, 'inner').drop('subject_id2')"
   ]
  },
  {
   "cell_type": "code",
   "execution_count": 12,
   "id": "61add39f",
   "metadata": {},
   "outputs": [],
   "source": [
    "from pyspark.sql.functions import udf,col"
   ]
  },
  {
   "cell_type": "code",
   "execution_count": 13,
   "id": "4a93a372",
   "metadata": {},
   "outputs": [],
   "source": [
    "diagnoses_codes_ = diagnoses_codes.withColumnRenamed('icd_code', 'code').withColumnRenamed('icd_version', 'version')\n",
    "\n",
    "patients_diagnoses = diagnose_codes_icd.join(diagnoses_codes_, (diagnose_codes_icd.icd_code == diagnoses_codes_.code) & (diagnose_codes_icd.icd_version == diagnoses_codes_.version), \"inner\").drop('code', 'version')"
   ]
  },
  {
   "cell_type": "code",
   "execution_count": 14,
   "id": "f3dc87ce",
   "metadata": {},
   "outputs": [],
   "source": [
    "patients_diagnoses = patients_diagnoses.withColumnRenamed('subject_id', 'sub2').withColumnRenamed('hadm_id', 'h_id')"
   ]
  },
  {
   "cell_type": "code",
   "execution_count": 15,
   "id": "74a00858",
   "metadata": {},
   "outputs": [],
   "source": [
    "final_data = patients_admissions.join(patients_diagnoses, ((patients_admissions.subject_id == patients_diagnoses.sub2) & (patients_admissions.hadm_id == patients_diagnoses.h_id)) , 'inner').drop('sub2', 'h_id')"
   ]
  },
  {
   "cell_type": "code",
   "execution_count": 16,
   "id": "a1d1558e",
   "metadata": {},
   "outputs": [
    {
     "name": "stdout",
     "output_type": "stream",
     "text": [
      "+----------+------+----------+-----------+-----------------+----------+--------+-------------------+-------------------+-------------------+-----------------+--------------------+------------------+---------+--------+--------------+---------+-------------------+-------------------+--------------------+-------+--------+-----------+--------------------+\n",
      "|subject_id|gender|anchor_age|anchor_year|anchor_year_group|       dod| hadm_id|          admittime|          dischtime|          deathtime|   admission_type|  admission_location|discharge_location|insurance|language|marital_status|ethnicity|          edregtime|          edouttime|hospital_expire_flag|seq_num|icd_code|icd_version|          long_title|\n",
      "+----------+------+----------+-----------+-----------------+----------+--------+-------------------+-------------------+-------------------+-----------------+--------------------+------------------+---------+--------+--------------+---------+-------------------+-------------------+--------------------+-------+--------+-----------+--------------------+\n",
      "|  10003637|     M|        57|       2145|      2014 - 2016|      null|23487925|2146-01-22 23:08:00|2146-01-26 14:02:00|               null|OBSERVATION ADMIT|      EMERGENCY ROOM|  HOME HEALTH CARE|    Other| ENGLISH|      DIVORCED|    OTHER|2146-01-22 11:12:00|2146-01-23 00:33:00|                   0|      2|   I2582|         10|Chronic total occ...|\n",
      "|  10003637|     M|        57|       2145|      2014 - 2016|      null|23487925|2146-01-22 23:08:00|2146-01-26 14:02:00|               null|OBSERVATION ADMIT|      EMERGENCY ROOM|  HOME HEALTH CARE|    Other| ENGLISH|      DIVORCED|    OTHER|2146-01-22 11:12:00|2146-01-23 00:33:00|                   0|      5|    I252|         10|Old myocardial in...|\n",
      "|  10003637|     M|        57|       2145|      2014 - 2016|      null|23487925|2146-01-22 23:08:00|2146-01-26 14:02:00|               null|OBSERVATION ADMIT|      EMERGENCY ROOM|  HOME HEALTH CARE|    Other| ENGLISH|      DIVORCED|    OTHER|2146-01-22 11:12:00|2146-01-23 00:33:00|                   0|      1|    K611|         10|      Rectal abscess|\n",
      "|  10003637|     M|        57|       2145|      2014 - 2016|      null|23487925|2146-01-22 23:08:00|2146-01-26 14:02:00|               null|OBSERVATION ADMIT|      EMERGENCY ROOM|  HOME HEALTH CARE|    Other| ENGLISH|      DIVORCED|    OTHER|2146-01-22 11:12:00|2146-01-23 00:33:00|                   0|      4|   I2510|         10|Atherosclerotic h...|\n",
      "|  10003637|     M|        57|       2145|      2014 - 2016|      null|23487925|2146-01-22 23:08:00|2146-01-26 14:02:00|               null|OBSERVATION ADMIT|      EMERGENCY ROOM|  HOME HEALTH CARE|    Other| ENGLISH|      DIVORCED|    OTHER|2146-01-22 11:12:00|2146-01-23 00:33:00|                   0|      3|    I509|         10|Heart failure, un...|\n",
      "|  10003637|     M|        57|       2145|      2014 - 2016|      null|23487925|2146-01-22 23:08:00|2146-01-26 14:02:00|               null|OBSERVATION ADMIT|      EMERGENCY ROOM|  HOME HEALTH CARE|    Other| ENGLISH|      DIVORCED|    OTHER|2146-01-22 11:12:00|2146-01-23 00:33:00|                   0|      7|    Z951|         10|Presence of aorto...|\n",
      "|  10003637|     M|        57|       2145|      2014 - 2016|      null|23487925|2146-01-22 23:08:00|2146-01-26 14:02:00|               null|OBSERVATION ADMIT|      EMERGENCY ROOM|  HOME HEALTH CARE|    Other| ENGLISH|      DIVORCED|    OTHER|2146-01-22 11:12:00|2146-01-23 00:33:00|                   0|      6|    Z950|         10|Presence of cardi...|\n",
      "|  10003637|     M|        57|       2145|      2014 - 2016|      null|23487925|2146-01-22 23:08:00|2146-01-26 14:02:00|               null|OBSERVATION ADMIT|      EMERGENCY ROOM|  HOME HEALTH CARE|    Other| ENGLISH|      DIVORCED|    OTHER|2146-01-22 11:12:00|2146-01-23 00:33:00|                   0|      8|   Z8673|         10|Personal history ...|\n",
      "|  10003637|     M|        57|       2145|      2014 - 2016|      null|23487925|2146-01-22 23:08:00|2146-01-26 14:02:00|               null|OBSERVATION ADMIT|      EMERGENCY ROOM|  HOME HEALTH CARE|    Other| ENGLISH|      DIVORCED|    OTHER|2146-01-22 11:12:00|2146-01-23 00:33:00|                   0|     11|  F17210|         10|Nicotine dependen...|\n",
      "|  10003637|     M|        57|       2145|      2014 - 2016|      null|23487925|2146-01-22 23:08:00|2146-01-26 14:02:00|               null|OBSERVATION ADMIT|      EMERGENCY ROOM|  HOME HEALTH CARE|    Other| ENGLISH|      DIVORCED|    OTHER|2146-01-22 11:12:00|2146-01-23 00:33:00|                   0|      9|    E785|         10|Hyperlipidemia, u...|\n",
      "|  10003637|     M|        57|       2145|      2014 - 2016|      null|23487925|2146-01-22 23:08:00|2146-01-26 14:02:00|               null|OBSERVATION ADMIT|      EMERGENCY ROOM|  HOME HEALTH CARE|    Other| ENGLISH|      DIVORCED|    OTHER|2146-01-22 11:12:00|2146-01-23 00:33:00|                   0|     10|    I255|         10|Ischemic cardiomy...|\n",
      "|  10004720|     M|        61|       2183|      2014 - 2016|2186-11-17|22081550|2186-11-12 18:01:00|2186-11-17 18:30:00|2186-11-17 18:30:00|         EW EMER.|INFORMATION NOT A...|              DIED| Medicare| ENGLISH|        SINGLE|    WHITE|2186-11-12 16:09:00|2186-11-12 19:55:00|                   1|      6|    I959|         10|Hypotension, unsp...|\n",
      "|  10004720|     M|        61|       2183|      2014 - 2016|2186-11-17|22081550|2186-11-12 18:01:00|2186-11-17 18:30:00|2186-11-17 18:30:00|         EW EMER.|INFORMATION NOT A...|              DIED| Medicare| ENGLISH|        SINGLE|    WHITE|2186-11-12 16:09:00|2186-11-12 19:55:00|                   1|     24|    L570|         10|   Actinic keratosis|\n",
      "|  10004720|     M|        61|       2183|      2014 - 2016|2186-11-17|22081550|2186-11-12 18:01:00|2186-11-17 18:30:00|2186-11-17 18:30:00|         EW EMER.|INFORMATION NOT A...|              DIED| Medicare| ENGLISH|        SINGLE|    WHITE|2186-11-12 16:09:00|2186-11-12 19:55:00|                   1|      4|   Z8674|         10|Personal history ...|\n",
      "|  10004720|     M|        61|       2183|      2014 - 2016|2186-11-17|22081550|2186-11-12 18:01:00|2186-11-17 18:30:00|2186-11-17 18:30:00|         EW EMER.|INFORMATION NOT A...|              DIED| Medicare| ENGLISH|        SINGLE|    WHITE|2186-11-12 16:09:00|2186-11-12 19:55:00|                   1|     10|    Y848|         10|Other medical pro...|\n",
      "|  10004720|     M|        61|       2183|      2014 - 2016|2186-11-17|22081550|2186-11-12 18:01:00|2186-11-17 18:30:00|2186-11-17 18:30:00|         EW EMER.|INFORMATION NOT A...|              DIED| Medicare| ENGLISH|        SINGLE|    WHITE|2186-11-12 16:09:00|2186-11-12 19:55:00|                   1|      9|    D638|         10|Anemia in other c...|\n",
      "|  10004720|     M|        61|       2183|      2014 - 2016|2186-11-17|22081550|2186-11-12 18:01:00|2186-11-17 18:30:00|2186-11-17 18:30:00|         EW EMER.|INFORMATION NOT A...|              DIED| Medicare| ENGLISH|        SINGLE|    WHITE|2186-11-12 16:09:00|2186-11-12 19:55:00|                   1|     28|   Z7902|         10|Long term (curren...|\n",
      "|  10004720|     M|        61|       2183|      2014 - 2016|2186-11-17|22081550|2186-11-12 18:01:00|2186-11-17 18:30:00|2186-11-17 18:30:00|         EW EMER.|INFORMATION NOT A...|              DIED| Medicare| ENGLISH|        SINGLE|    WHITE|2186-11-12 16:09:00|2186-11-12 19:55:00|                   1|     20|    H269|         10|Unspecified cataract|\n",
      "|  10004720|     M|        61|       2183|      2014 - 2016|2186-11-17|22081550|2186-11-12 18:01:00|2186-11-17 18:30:00|2186-11-17 18:30:00|         EW EMER.|INFORMATION NOT A...|              DIED| Medicare| ENGLISH|        SINGLE|    WHITE|2186-11-12 16:09:00|2186-11-12 19:55:00|                   1|     16| S42291D|         10|Other displaced f...|\n",
      "|  10004720|     M|        61|       2183|      2014 - 2016|2186-11-17|22081550|2186-11-12 18:01:00|2186-11-17 18:30:00|2186-11-17 18:30:00|         EW EMER.|INFORMATION NOT A...|              DIED| Medicare| ENGLISH|        SINGLE|    WHITE|2186-11-12 16:09:00|2186-11-12 19:55:00|                   1|     12|     Z66|         10|  Do not resuscitate|\n",
      "+----------+------+----------+-----------+-----------------+----------+--------+-------------------+-------------------+-------------------+-----------------+--------------------+------------------+---------+--------+--------------+---------+-------------------+-------------------+--------------------+-------+--------+-----------+--------------------+\n",
      "only showing top 20 rows\n",
      "\n"
     ]
    }
   ],
   "source": [
    "final_data.show()"
   ]
  },
  {
   "cell_type": "code",
   "execution_count": 17,
   "id": "f322c16d",
   "metadata": {},
   "outputs": [],
   "source": [
    "needed_columns = set(['subject_id', 'age', 'hadm_id', 'icd_code', 'icd_version', 'long_title'])"
   ]
  },
  {
   "cell_type": "code",
   "execution_count": 18,
   "id": "4cc5c3ed",
   "metadata": {},
   "outputs": [],
   "source": [
    "columns_ = [c for c in final_data.columns if c not in needed_columns]"
   ]
  },
  {
   "cell_type": "code",
   "execution_count": 19,
   "id": "23bf8956",
   "metadata": {},
   "outputs": [
    {
     "data": {
      "text/plain": [
       "['gender',\n",
       " 'anchor_age',\n",
       " 'anchor_year',\n",
       " 'anchor_year_group',\n",
       " 'dod',\n",
       " 'admittime',\n",
       " 'dischtime',\n",
       " 'deathtime',\n",
       " 'admission_type',\n",
       " 'admission_location',\n",
       " 'discharge_location',\n",
       " 'insurance',\n",
       " 'language',\n",
       " 'marital_status',\n",
       " 'ethnicity',\n",
       " 'edregtime',\n",
       " 'edouttime',\n",
       " 'hospital_expire_flag',\n",
       " 'seq_num']"
      ]
     },
     "execution_count": 19,
     "metadata": {},
     "output_type": "execute_result"
    }
   ],
   "source": [
    "columns_"
   ]
  },
  {
   "cell_type": "code",
   "execution_count": 20,
   "id": "270e90e6",
   "metadata": {},
   "outputs": [],
   "source": [
    "new = final_data.drop(*columns_).na.drop()"
   ]
  },
  {
   "cell_type": "code",
   "execution_count": 3,
   "id": "53f9a26e",
   "metadata": {},
   "outputs": [
    {
     "ename": "NameError",
     "evalue": "name 'new' is not defined",
     "output_type": "error",
     "traceback": [
      "\u001b[1;31m---------------------------------------------------------------------------\u001b[0m",
      "\u001b[1;31mNameError\u001b[0m                                 Traceback (most recent call last)",
      "\u001b[1;32m<ipython-input-3-348239b1bde7>\u001b[0m in \u001b[0;36m<module>\u001b[1;34m\u001b[0m\n\u001b[1;32m----> 1\u001b[1;33m \u001b[0mnew\u001b[0m\u001b[1;33m.\u001b[0m\u001b[0mshow\u001b[0m\u001b[1;33m(\u001b[0m\u001b[1;33m)\u001b[0m\u001b[1;33m\u001b[0m\u001b[1;33m\u001b[0m\u001b[0m\n\u001b[0m",
      "\u001b[1;31mNameError\u001b[0m: name 'new' is not defined"
     ]
    }
   ],
   "source": [
    "new.show()"
   ]
  },
  {
   "cell_type": "code",
   "execution_count": 10,
   "id": "92be686d",
   "metadata": {},
   "outputs": [],
   "source": [
    "import dask.dataframe as dd"
   ]
  },
  {
   "cell_type": "code",
   "execution_count": 28,
   "id": "491a4662",
   "metadata": {},
   "outputs": [],
   "source": [
    "df = dd.read_csv('D:/skolaÅr5/MasterThesis/mimic-iv-1.0/wooo.csv', dtype={'hadm_id': 'object',\n",
    "       'icd_version': 'object',\n",
    "       'subject_id': 'object'})"
   ]
  },
  {
   "cell_type": "code",
   "execution_count": 29,
   "id": "c34c4b8a",
   "metadata": {},
   "outputs": [
    {
     "data": {
      "text/plain": [
       "Index(['subject_id', 'hadm_id', 'icd_code', 'icd_version', 'long_title'], dtype='object')"
      ]
     },
     "execution_count": 29,
     "metadata": {},
     "output_type": "execute_result"
    }
   ],
   "source": [
    "df.columns"
   ]
  },
  {
   "cell_type": "code",
   "execution_count": null,
   "id": "b7f34ade",
   "metadata": {},
   "outputs": [],
   "source": []
  },
  {
   "cell_type": "code",
   "execution_count": 30,
   "id": "3d34440f",
   "metadata": {
    "scrolled": true
   },
   "outputs": [
    {
     "data": {
      "text/html": [
       "<div>\n",
       "<style scoped>\n",
       "    .dataframe tbody tr th:only-of-type {\n",
       "        vertical-align: middle;\n",
       "    }\n",
       "\n",
       "    .dataframe tbody tr th {\n",
       "        vertical-align: top;\n",
       "    }\n",
       "\n",
       "    .dataframe thead th {\n",
       "        text-align: right;\n",
       "    }\n",
       "</style>\n",
       "<table border=\"1\" class=\"dataframe\">\n",
       "  <thead>\n",
       "    <tr style=\"text-align: right;\">\n",
       "      <th></th>\n",
       "      <th>subject_id</th>\n",
       "      <th>hadm_id</th>\n",
       "      <th>icd_code</th>\n",
       "      <th>icd_version</th>\n",
       "      <th>long_title</th>\n",
       "    </tr>\n",
       "  </thead>\n",
       "  <tbody>\n",
       "    <tr>\n",
       "      <th>0</th>\n",
       "      <td>10003637</td>\n",
       "      <td>23487925</td>\n",
       "      <td>I2582</td>\n",
       "      <td>10</td>\n",
       "      <td>Chronic total occlusion of coronary artery</td>\n",
       "    </tr>\n",
       "    <tr>\n",
       "      <th>1</th>\n",
       "      <td>10003637</td>\n",
       "      <td>23487925</td>\n",
       "      <td>I252</td>\n",
       "      <td>10</td>\n",
       "      <td>Old myocardial infarction</td>\n",
       "    </tr>\n",
       "    <tr>\n",
       "      <th>2</th>\n",
       "      <td>10003637</td>\n",
       "      <td>23487925</td>\n",
       "      <td>K611</td>\n",
       "      <td>10</td>\n",
       "      <td>Rectal abscess</td>\n",
       "    </tr>\n",
       "    <tr>\n",
       "      <th>3</th>\n",
       "      <td>10003637</td>\n",
       "      <td>23487925</td>\n",
       "      <td>I2510</td>\n",
       "      <td>10</td>\n",
       "      <td>Atherosclerotic heart disease of native corona...</td>\n",
       "    </tr>\n",
       "    <tr>\n",
       "      <th>4</th>\n",
       "      <td>10003637</td>\n",
       "      <td>23487925</td>\n",
       "      <td>I509</td>\n",
       "      <td>10</td>\n",
       "      <td>Heart failure, unspecified</td>\n",
       "    </tr>\n",
       "  </tbody>\n",
       "</table>\n",
       "</div>"
      ],
      "text/plain": [
       "  subject_id   hadm_id icd_code icd_version  \\\n",
       "0   10003637  23487925    I2582          10   \n",
       "1   10003637  23487925     I252          10   \n",
       "2   10003637  23487925     K611          10   \n",
       "3   10003637  23487925    I2510          10   \n",
       "4   10003637  23487925     I509          10   \n",
       "\n",
       "                                          long_title  \n",
       "0         Chronic total occlusion of coronary artery  \n",
       "1                          Old myocardial infarction  \n",
       "2                                     Rectal abscess  \n",
       "3  Atherosclerotic heart disease of native corona...  \n",
       "4                         Heart failure, unspecified  "
      ]
     },
     "execution_count": 30,
     "metadata": {},
     "output_type": "execute_result"
    }
   ],
   "source": [
    "df.head()"
   ]
  },
  {
   "cell_type": "code",
   "execution_count": null,
   "id": "62bbbd88",
   "metadata": {},
   "outputs": [],
   "source": []
  }
 ],
 "metadata": {
  "kernelspec": {
   "display_name": "Python 3 (ipykernel)",
   "language": "python",
   "name": "python3"
  },
  "language_info": {
   "codemirror_mode": {
    "name": "ipython",
    "version": 3
   },
   "file_extension": ".py",
   "mimetype": "text/x-python",
   "name": "python",
   "nbconvert_exporter": "python",
   "pygments_lexer": "ipython3",
   "version": "3.7.11"
  }
 },
 "nbformat": 4,
 "nbformat_minor": 5
}
