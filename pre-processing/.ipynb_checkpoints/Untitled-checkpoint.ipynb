{
 "cells": [
  {
   "cell_type": "markdown",
   "id": "1ca0b76b",
   "metadata": {},
   "source": [
    "text.replace(\"\\\\\", \"/\")"
   ]
  },
  {
   "cell_type": "code",
   "execution_count": 1,
   "id": "28f20bd4",
   "metadata": {},
   "outputs": [],
   "source": [
    "from pyspark import SparkContext, SparkConf\n",
    "from pyspark.sql import SparkSession"
   ]
  },
  {
   "cell_type": "code",
   "execution_count": null,
   "id": "00508e8d",
   "metadata": {},
   "outputs": [],
   "source": []
  },
  {
   "cell_type": "code",
   "execution_count": 2,
   "id": "804fe137",
   "metadata": {
    "scrolled": false
   },
   "outputs": [],
   "source": [
    "spark = SparkSession \\\n",
    "    .builder \\\n",
    "    .appName(\"Python Spark SQL basic example\") \\\n",
    "    .config(\"spark.some.config.option\", \"some-value\") \\\n",
    "    .getOrCreate()"
   ]
  },
  {
   "cell_type": "code",
   "execution_count": 3,
   "id": "8f0735e5",
   "metadata": {},
   "outputs": [
    {
     "data": {
      "text/html": [
       "\n",
       "            <div>\n",
       "                <p><b>SparkSession - in-memory</b></p>\n",
       "                \n",
       "        <div>\n",
       "            <p><b>SparkContext</b></p>\n",
       "\n",
       "            <p><a href=\"http://192.168.0.32:4040\">Spark UI</a></p>\n",
       "\n",
       "            <dl>\n",
       "              <dt>Version</dt>\n",
       "                <dd><code>v2.4.7</code></dd>\n",
       "              <dt>Master</dt>\n",
       "                <dd><code>local[*]</code></dd>\n",
       "              <dt>AppName</dt>\n",
       "                <dd><code>Python Spark SQL basic example</code></dd>\n",
       "            </dl>\n",
       "        </div>\n",
       "        \n",
       "            </div>\n",
       "        "
      ],
      "text/plain": [
       "<pyspark.sql.session.SparkSession at 0x195badde9c8>"
      ]
     },
     "execution_count": 3,
     "metadata": {},
     "output_type": "execute_result"
    }
   ],
   "source": [
    "spark"
   ]
  },
  {
   "cell_type": "code",
   "execution_count": 4,
   "id": "3f6eef13",
   "metadata": {},
   "outputs": [],
   "source": [
    "parent_path = 'D:/skolaÅr5/MasterThesis/mimic-iv-1.0/'"
   ]
  },
  {
   "cell_type": "code",
   "execution_count": 5,
   "id": "4d6da158",
   "metadata": {},
   "outputs": [],
   "source": [
    "codes_icd_path = parent_path + '/hosp/diagnoses_icd.csv'\n",
    "diagnose_codes_icd = spark.read.load(codes_icd_path, format=\"csv\", sep=\",\", inferSchema=\"true\", header=\"true\")"
   ]
  },
  {
   "cell_type": "code",
   "execution_count": 6,
   "id": "7a7f5bac",
   "metadata": {},
   "outputs": [],
   "source": [
    "diagnoses_codes_path = parent_path + '/hosp/d_icd_diagnoses.csv'\n",
    "diagnoses_codes = spark.read.load(diagnoses_codes_path,  format=\"csv\", sep=\",\", inferSchema=\"true\", header=\"true\")  "
   ]
  },
  {
   "cell_type": "code",
   "execution_count": 7,
   "id": "5569c6f2",
   "metadata": {},
   "outputs": [],
   "source": [
    "patients_path = parent_path + '/core/patients.csv'\n",
    "patients = spark.read.load(patients_path,  format=\"csv\", sep=\",\", inferSchema=\"true\", header=\"true\")  "
   ]
  },
  {
   "cell_type": "code",
   "execution_count": 8,
   "id": "3dd6f339",
   "metadata": {},
   "outputs": [],
   "source": [
    "admission_path = parent_path + '/core/admissions.csv'\n",
    "admissions = spark.read.load(admission_path,  format=\"csv\", sep=\",\", inferSchema=\"true\", header=\"true\")  "
   ]
  },
  {
   "cell_type": "code",
   "execution_count": 9,
   "id": "01593b1e",
   "metadata": {},
   "outputs": [],
   "source": [
    "admissions_ = admissions.withColumnRenamed('subject_id', 'subject_id2')\n",
    "patients_admissions = patients.join(admissions_, patients.subject_id == admissions_.subject_id2, 'inner').drop('subject_id2')"
   ]
  },
  {
   "cell_type": "code",
   "execution_count": 10,
   "id": "61add39f",
   "metadata": {},
   "outputs": [],
   "source": [
    "from pyspark.sql.functions import udf,col"
   ]
  },
  {
   "cell_type": "code",
   "execution_count": 11,
   "id": "4a93a372",
   "metadata": {},
   "outputs": [],
   "source": [
    "diagnoses_codes_ = diagnoses_codes.withColumnRenamed('icd_code', 'code').withColumnRenamed('icd_version', 'version')\n",
    "\n",
    "patients_diagnoses = diagnose_codes_icd.join(diagnoses_codes_, (diagnose_codes_icd.icd_code == diagnoses_codes_.code) & (diagnose_codes_icd.icd_version == diagnoses_codes_.version), \"inner\").drop('code', 'version')"
   ]
  },
  {
   "cell_type": "code",
   "execution_count": 12,
   "id": "f3dc87ce",
   "metadata": {},
   "outputs": [],
   "source": [
    "patients_diagnoses = patients_diagnoses.withColumnRenamed('subject_id', 'sub2').withColumnRenamed('hadm_id', 'h_id')"
   ]
  },
  {
   "cell_type": "code",
   "execution_count": 21,
   "id": "74a00858",
   "metadata": {},
   "outputs": [],
   "source": [
    "final_data = patients_admissions.join(patients_diagnoses, ((patients_admissions.subject_id == patients_diagnoses.sub2) & (patients_admissions.hadm_id == patients_diagnoses.h_id)) , 'inner').drop('sub2', 'h_id')"
   ]
  },
  {
   "cell_type": "code",
   "execution_count": 14,
   "id": "a1d1558e",
   "metadata": {},
   "outputs": [
    {
     "name": "stdout",
     "output_type": "stream",
     "text": [
      "+----------+------+----------+-----------+-----------------+-------------------+--------+-------------------+-------------------+-------------------+-----------------+--------------------+------------------+---------+--------+--------------+---------+-------------------+-------------------+--------------------+-------+--------+-----------+--------------------+\n",
      "|subject_id|gender|anchor_age|anchor_year|anchor_year_group|                dod| hadm_id|          admittime|          dischtime|          deathtime|   admission_type|  admission_location|discharge_location|insurance|language|marital_status|ethnicity|          edregtime|          edouttime|hospital_expire_flag|seq_num|icd_code|icd_version|          long_title|\n",
      "+----------+------+----------+-----------+-----------------+-------------------+--------+-------------------+-------------------+-------------------+-----------------+--------------------+------------------+---------+--------+--------------+---------+-------------------+-------------------+--------------------+-------+--------+-----------+--------------------+\n",
      "|  10003637|     M|        57|       2145|      2014 - 2016|               null|23487925|2146-01-22 23:08:00|2146-01-26 14:02:00|               null|OBSERVATION ADMIT|      EMERGENCY ROOM|  HOME HEALTH CARE|    Other| ENGLISH|      DIVORCED|    OTHER|2146-01-22 11:12:00|2146-01-23 00:33:00|                   0|      2|   I2582|         10|Chronic total occ...|\n",
      "|  10003637|     M|        57|       2145|      2014 - 2016|               null|23487925|2146-01-22 23:08:00|2146-01-26 14:02:00|               null|OBSERVATION ADMIT|      EMERGENCY ROOM|  HOME HEALTH CARE|    Other| ENGLISH|      DIVORCED|    OTHER|2146-01-22 11:12:00|2146-01-23 00:33:00|                   0|      5|    I252|         10|Old myocardial in...|\n",
      "|  10003637|     M|        57|       2145|      2014 - 2016|               null|23487925|2146-01-22 23:08:00|2146-01-26 14:02:00|               null|OBSERVATION ADMIT|      EMERGENCY ROOM|  HOME HEALTH CARE|    Other| ENGLISH|      DIVORCED|    OTHER|2146-01-22 11:12:00|2146-01-23 00:33:00|                   0|      1|    K611|         10|      Rectal abscess|\n",
      "|  10003637|     M|        57|       2145|      2014 - 2016|               null|23487925|2146-01-22 23:08:00|2146-01-26 14:02:00|               null|OBSERVATION ADMIT|      EMERGENCY ROOM|  HOME HEALTH CARE|    Other| ENGLISH|      DIVORCED|    OTHER|2146-01-22 11:12:00|2146-01-23 00:33:00|                   0|      4|   I2510|         10|Atherosclerotic h...|\n",
      "|  10003637|     M|        57|       2145|      2014 - 2016|               null|23487925|2146-01-22 23:08:00|2146-01-26 14:02:00|               null|OBSERVATION ADMIT|      EMERGENCY ROOM|  HOME HEALTH CARE|    Other| ENGLISH|      DIVORCED|    OTHER|2146-01-22 11:12:00|2146-01-23 00:33:00|                   0|      3|    I509|         10|Heart failure, un...|\n",
      "|  10003637|     M|        57|       2145|      2014 - 2016|               null|23487925|2146-01-22 23:08:00|2146-01-26 14:02:00|               null|OBSERVATION ADMIT|      EMERGENCY ROOM|  HOME HEALTH CARE|    Other| ENGLISH|      DIVORCED|    OTHER|2146-01-22 11:12:00|2146-01-23 00:33:00|                   0|      7|    Z951|         10|Presence of aorto...|\n",
      "|  10003637|     M|        57|       2145|      2014 - 2016|               null|23487925|2146-01-22 23:08:00|2146-01-26 14:02:00|               null|OBSERVATION ADMIT|      EMERGENCY ROOM|  HOME HEALTH CARE|    Other| ENGLISH|      DIVORCED|    OTHER|2146-01-22 11:12:00|2146-01-23 00:33:00|                   0|      6|    Z950|         10|Presence of cardi...|\n",
      "|  10003637|     M|        57|       2145|      2014 - 2016|               null|23487925|2146-01-22 23:08:00|2146-01-26 14:02:00|               null|OBSERVATION ADMIT|      EMERGENCY ROOM|  HOME HEALTH CARE|    Other| ENGLISH|      DIVORCED|    OTHER|2146-01-22 11:12:00|2146-01-23 00:33:00|                   0|      8|   Z8673|         10|Personal history ...|\n",
      "|  10003637|     M|        57|       2145|      2014 - 2016|               null|23487925|2146-01-22 23:08:00|2146-01-26 14:02:00|               null|OBSERVATION ADMIT|      EMERGENCY ROOM|  HOME HEALTH CARE|    Other| ENGLISH|      DIVORCED|    OTHER|2146-01-22 11:12:00|2146-01-23 00:33:00|                   0|     11|  F17210|         10|Nicotine dependen...|\n",
      "|  10003637|     M|        57|       2145|      2014 - 2016|               null|23487925|2146-01-22 23:08:00|2146-01-26 14:02:00|               null|OBSERVATION ADMIT|      EMERGENCY ROOM|  HOME HEALTH CARE|    Other| ENGLISH|      DIVORCED|    OTHER|2146-01-22 11:12:00|2146-01-23 00:33:00|                   0|      9|    E785|         10|Hyperlipidemia, u...|\n",
      "|  10003637|     M|        57|       2145|      2014 - 2016|               null|23487925|2146-01-22 23:08:00|2146-01-26 14:02:00|               null|OBSERVATION ADMIT|      EMERGENCY ROOM|  HOME HEALTH CARE|    Other| ENGLISH|      DIVORCED|    OTHER|2146-01-22 11:12:00|2146-01-23 00:33:00|                   0|     10|    I255|         10|Ischemic cardiomy...|\n",
      "|  10004720|     M|        61|       2183|      2014 - 2016|2186-11-17 00:00:00|22081550|2186-11-12 18:01:00|2186-11-17 18:30:00|2186-11-17 18:30:00|         EW EMER.|INFORMATION NOT A...|              DIED| Medicare| ENGLISH|        SINGLE|    WHITE|2186-11-12 16:09:00|2186-11-12 19:55:00|                   1|      6|    I959|         10|Hypotension, unsp...|\n",
      "|  10004720|     M|        61|       2183|      2014 - 2016|2186-11-17 00:00:00|22081550|2186-11-12 18:01:00|2186-11-17 18:30:00|2186-11-17 18:30:00|         EW EMER.|INFORMATION NOT A...|              DIED| Medicare| ENGLISH|        SINGLE|    WHITE|2186-11-12 16:09:00|2186-11-12 19:55:00|                   1|     24|    L570|         10|   Actinic keratosis|\n",
      "|  10004720|     M|        61|       2183|      2014 - 2016|2186-11-17 00:00:00|22081550|2186-11-12 18:01:00|2186-11-17 18:30:00|2186-11-17 18:30:00|         EW EMER.|INFORMATION NOT A...|              DIED| Medicare| ENGLISH|        SINGLE|    WHITE|2186-11-12 16:09:00|2186-11-12 19:55:00|                   1|      4|   Z8674|         10|Personal history ...|\n",
      "|  10004720|     M|        61|       2183|      2014 - 2016|2186-11-17 00:00:00|22081550|2186-11-12 18:01:00|2186-11-17 18:30:00|2186-11-17 18:30:00|         EW EMER.|INFORMATION NOT A...|              DIED| Medicare| ENGLISH|        SINGLE|    WHITE|2186-11-12 16:09:00|2186-11-12 19:55:00|                   1|     10|    Y848|         10|Other medical pro...|\n",
      "|  10004720|     M|        61|       2183|      2014 - 2016|2186-11-17 00:00:00|22081550|2186-11-12 18:01:00|2186-11-17 18:30:00|2186-11-17 18:30:00|         EW EMER.|INFORMATION NOT A...|              DIED| Medicare| ENGLISH|        SINGLE|    WHITE|2186-11-12 16:09:00|2186-11-12 19:55:00|                   1|      9|    D638|         10|Anemia in other c...|\n",
      "|  10004720|     M|        61|       2183|      2014 - 2016|2186-11-17 00:00:00|22081550|2186-11-12 18:01:00|2186-11-17 18:30:00|2186-11-17 18:30:00|         EW EMER.|INFORMATION NOT A...|              DIED| Medicare| ENGLISH|        SINGLE|    WHITE|2186-11-12 16:09:00|2186-11-12 19:55:00|                   1|     28|   Z7902|         10|Long term (curren...|\n",
      "|  10004720|     M|        61|       2183|      2014 - 2016|2186-11-17 00:00:00|22081550|2186-11-12 18:01:00|2186-11-17 18:30:00|2186-11-17 18:30:00|         EW EMER.|INFORMATION NOT A...|              DIED| Medicare| ENGLISH|        SINGLE|    WHITE|2186-11-12 16:09:00|2186-11-12 19:55:00|                   1|     20|    H269|         10|Unspecified cataract|\n",
      "|  10004720|     M|        61|       2183|      2014 - 2016|2186-11-17 00:00:00|22081550|2186-11-12 18:01:00|2186-11-17 18:30:00|2186-11-17 18:30:00|         EW EMER.|INFORMATION NOT A...|              DIED| Medicare| ENGLISH|        SINGLE|    WHITE|2186-11-12 16:09:00|2186-11-12 19:55:00|                   1|     16| S42291D|         10|Other displaced f...|\n",
      "|  10004720|     M|        61|       2183|      2014 - 2016|2186-11-17 00:00:00|22081550|2186-11-12 18:01:00|2186-11-17 18:30:00|2186-11-17 18:30:00|         EW EMER.|INFORMATION NOT A...|              DIED| Medicare| ENGLISH|        SINGLE|    WHITE|2186-11-12 16:09:00|2186-11-12 19:55:00|                   1|     12|     Z66|         10|  Do not resuscitate|\n",
      "+----------+------+----------+-----------+-----------------+-------------------+--------+-------------------+-------------------+-------------------+-----------------+--------------------+------------------+---------+--------+--------------+---------+-------------------+-------------------+--------------------+-------+--------+-----------+--------------------+\n",
      "only showing top 20 rows\n",
      "\n"
     ]
    }
   ],
   "source": [
    "final_data.show()"
   ]
  },
  {
   "cell_type": "code",
   "execution_count": 15,
   "id": "f322c16d",
   "metadata": {},
   "outputs": [],
   "source": [
    "needed_columns = set(['subject_id', 'anchor_age', 'hadm_id', 'admittime', 'dischtime', 'icd_code', 'icd_version', 'long_title'])"
   ]
  },
  {
   "cell_type": "code",
   "execution_count": 16,
   "id": "4cc5c3ed",
   "metadata": {},
   "outputs": [],
   "source": [
    "columns_ = [c for c in final_data.columns if c not in needed_columns]"
   ]
  },
  {
   "cell_type": "code",
   "execution_count": 17,
   "id": "23bf8956",
   "metadata": {},
   "outputs": [
    {
     "data": {
      "text/plain": [
       "['gender',\n",
       " 'anchor_year',\n",
       " 'anchor_year_group',\n",
       " 'dod',\n",
       " 'admittime',\n",
       " 'dischtime',\n",
       " 'deathtime',\n",
       " 'admission_type',\n",
       " 'admission_location',\n",
       " 'discharge_location',\n",
       " 'insurance',\n",
       " 'language',\n",
       " 'marital_status',\n",
       " 'ethnicity',\n",
       " 'edregtime',\n",
       " 'edouttime',\n",
       " 'hospital_expire_flag',\n",
       " 'seq_num']"
      ]
     },
     "execution_count": 17,
     "metadata": {},
     "output_type": "execute_result"
    }
   ],
   "source": [
    "columns_"
   ]
  },
  {
   "cell_type": "code",
   "execution_count": 18,
   "id": "270e90e6",
   "metadata": {},
   "outputs": [],
   "source": [
    "new = final_data.drop(*columns_).na.drop()"
   ]
  },
  {
   "cell_type": "code",
   "execution_count": 19,
   "id": "53f9a26e",
   "metadata": {},
   "outputs": [
    {
     "name": "stdout",
     "output_type": "stream",
     "text": [
      "+----------+----------+--------+--------+-----------+--------------------+\n",
      "|subject_id|anchor_age| hadm_id|icd_code|icd_version|          long_title|\n",
      "+----------+----------+--------+--------+-----------+--------------------+\n",
      "|  10003637|        57|23487925|   I2582|         10|Chronic total occ...|\n",
      "|  10003637|        57|23487925|    I252|         10|Old myocardial in...|\n",
      "|  10003637|        57|23487925|    K611|         10|      Rectal abscess|\n",
      "|  10003637|        57|23487925|   I2510|         10|Atherosclerotic h...|\n",
      "|  10003637|        57|23487925|    I509|         10|Heart failure, un...|\n",
      "|  10003637|        57|23487925|    Z951|         10|Presence of aorto...|\n",
      "|  10003637|        57|23487925|    Z950|         10|Presence of cardi...|\n",
      "|  10003637|        57|23487925|   Z8673|         10|Personal history ...|\n",
      "|  10003637|        57|23487925|  F17210|         10|Nicotine dependen...|\n",
      "|  10003637|        57|23487925|    E785|         10|Hyperlipidemia, u...|\n",
      "|  10003637|        57|23487925|    I255|         10|Ischemic cardiomy...|\n",
      "|  10004720|        61|22081550|    I959|         10|Hypotension, unsp...|\n",
      "|  10004720|        61|22081550|    L570|         10|   Actinic keratosis|\n",
      "|  10004720|        61|22081550|   Z8674|         10|Personal history ...|\n",
      "|  10004720|        61|22081550|    Y848|         10|Other medical pro...|\n",
      "|  10004720|        61|22081550|    D638|         10|Anemia in other c...|\n",
      "|  10004720|        61|22081550|   Z7902|         10|Long term (curren...|\n",
      "|  10004720|        61|22081550|    H269|         10|Unspecified cataract|\n",
      "|  10004720|        61|22081550| S42291D|         10|Other displaced f...|\n",
      "|  10004720|        61|22081550|     Z66|         10|  Do not resuscitate|\n",
      "+----------+----------+--------+--------+-----------+--------------------+\n",
      "only showing top 20 rows\n",
      "\n"
     ]
    }
   ],
   "source": [
    "new.show()"
   ]
  },
  {
   "cell_type": "code",
   "execution_count": 20,
   "id": "8e81a221",
   "metadata": {},
   "outputs": [],
   "source": [
    "new.write.option(\"header\",True).csv(\"test\")"
   ]
  },
  {
   "cell_type": "code",
   "execution_count": null,
   "id": "22811882",
   "metadata": {},
   "outputs": [],
   "source": []
  }
 ],
 "metadata": {
  "kernelspec": {
   "display_name": "Python 3 (ipykernel)",
   "language": "python",
   "name": "python3"
  },
  "language_info": {
   "codemirror_mode": {
    "name": "ipython",
    "version": 3
   },
   "file_extension": ".py",
   "mimetype": "text/x-python",
   "name": "python",
   "nbconvert_exporter": "python",
   "pygments_lexer": "ipython3",
   "version": "3.7.11"
  }
 },
 "nbformat": 4,
 "nbformat_minor": 5
}
