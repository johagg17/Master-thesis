{
 "cells": [
  {
   "cell_type": "code",
   "execution_count": 1,
   "id": "f3de34ac",
   "metadata": {},
   "outputs": [],
   "source": [
    "from patient_extraction import PatientProcessor"
   ]
  },
  {
   "cell_type": "code",
   "execution_count": 2,
   "id": "7d3ae73f",
   "metadata": {},
   "outputs": [],
   "source": [
    "parent_path = 'D:\\skolaÅr5\\MasterThesis\\mimic-iv-1.0'.replace('\\\\', '/') \n",
    "\n",
    "\n",
    "patients_f = parent_path + '/core/patients.csv'\n",
    "admission_f = parent_path + '/core/admissions.csv'\n",
    "pat_diagnos = parent_path + '/hosp/diagnoses_icd.csv'\n",
    "meaning_diagnos = parent_path + '/hosp/d_icd_diagnoses.csv'\n"
   ]
  },
  {
   "cell_type": "code",
   "execution_count": 3,
   "id": "a7c00fc6",
   "metadata": {},
   "outputs": [],
   "source": [
    "config = {\n",
    "        'id_age': patients_f, \n",
    "        'pat_adm':admission_f,\n",
    "        'pat_diagnose_icd': pat_diagnos, \n",
    "        'diagnos_meaning': meaning_diagnos,\n",
    "        }"
   ]
  },
  {
   "cell_type": "code",
   "execution_count": 4,
   "id": "e01e99fd",
   "metadata": {},
   "outputs": [],
   "source": [
    "p = PatientProcessor(parent_path = parent_path, **config)"
   ]
  },
  {
   "cell_type": "code",
   "execution_count": null,
   "id": "b491d65b",
   "metadata": {},
   "outputs": [],
   "source": []
  }
 ],
 "metadata": {
  "kernelspec": {
   "display_name": "Python 3 (ipykernel)",
   "language": "python",
   "name": "python3"
  },
  "language_info": {
   "codemirror_mode": {
    "name": "ipython",
    "version": 3
   },
   "file_extension": ".py",
   "mimetype": "text/x-python",
   "name": "python",
   "nbconvert_exporter": "python",
   "pygments_lexer": "ipython3",
   "version": "3.7.11"
  }
 },
 "nbformat": 4,
 "nbformat_minor": 5
}
