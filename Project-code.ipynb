{
 "cells": [
  {
   "cell_type": "code",
   "execution_count": 1,
   "id": "5a08eeb9",
   "metadata": {},
   "outputs": [
    {
     "name": "stdout",
     "output_type": "stream",
     "text": [
      "Hello world\n"
     ]
    }
   ],
   "source": [
    "print(\"Hello world\")"
   ]
  },
  {
   "cell_type": "code",
   "execution_count": 19,
   "id": "8724782d",
   "metadata": {},
   "outputs": [],
   "source": [
    "import pandas as pd\n",
    "import seaborn as sn"
   ]
  },
  {
   "cell_type": "markdown",
   "id": "098cde11",
   "metadata": {},
   "source": [
    "### How many patient data are we dealing with?"
   ]
  },
  {
   "cell_type": "code",
   "execution_count": 3,
   "id": "582aebb8",
   "metadata": {},
   "outputs": [],
   "source": [
    "path = 'D:\\skolaÅr5\\MasterThesis\\mimic-iv-1.0\\core\\patients.csv'"
   ]
  },
  {
   "cell_type": "code",
   "execution_count": 4,
   "id": "7d30c5a2",
   "metadata": {},
   "outputs": [],
   "source": [
    "patients_df = pd.read_csv(path)"
   ]
  },
  {
   "cell_type": "code",
   "execution_count": 8,
   "id": "53ad4f96",
   "metadata": {},
   "outputs": [
    {
     "name": "stdout",
     "output_type": "stream",
     "text": [
      "<class 'pandas.core.frame.DataFrame'>\n",
      "RangeIndex: 382278 entries, 0 to 382277\n",
      "Data columns (total 6 columns):\n",
      " #   Column             Non-Null Count   Dtype \n",
      "---  ------             --------------   ----- \n",
      " 0   subject_id         382278 non-null  int64 \n",
      " 1   gender             382278 non-null  object\n",
      " 2   anchor_age         382278 non-null  int64 \n",
      " 3   anchor_year        382278 non-null  int64 \n",
      " 4   anchor_year_group  382278 non-null  object\n",
      " 5   dod                9509 non-null    object\n",
      "dtypes: int64(3), object(3)\n",
      "memory usage: 17.5+ MB\n"
     ]
    }
   ],
   "source": [
    "patients_df.info()"
   ]
  },
  {
   "cell_type": "code",
   "execution_count": 18,
   "id": "d0c305fd",
   "metadata": {},
   "outputs": [
    {
     "data": {
      "text/plain": [
       "382278"
      ]
     },
     "execution_count": 18,
     "metadata": {},
     "output_type": "execute_result"
    }
   ],
   "source": [
    "len(patients_df['subject_id'].unique())"
   ]
  },
  {
   "cell_type": "markdown",
   "id": "e96f51a6",
   "metadata": {},
   "source": [
    "### What different anchor_year_group are in the dataset, and what is the count of each group?"
   ]
  },
  {
   "cell_type": "code",
   "execution_count": 36,
   "id": "67b9f1d3",
   "metadata": {},
   "outputs": [],
   "source": [
    "grouped_by_anchor_year = patients_df.groupby('anchor_year_group')['anchor_year'].count().reset_index(name='count')"
   ]
  },
  {
   "cell_type": "code",
   "execution_count": 38,
   "id": "80127a13",
   "metadata": {},
   "outputs": [
    {
     "data": {
      "text/html": [
       "<div>\n",
       "<style scoped>\n",
       "    .dataframe tbody tr th:only-of-type {\n",
       "        vertical-align: middle;\n",
       "    }\n",
       "\n",
       "    .dataframe tbody tr th {\n",
       "        vertical-align: top;\n",
       "    }\n",
       "\n",
       "    .dataframe thead th {\n",
       "        text-align: right;\n",
       "    }\n",
       "</style>\n",
       "<table border=\"1\" class=\"dataframe\">\n",
       "  <thead>\n",
       "    <tr style=\"text-align: right;\">\n",
       "      <th></th>\n",
       "      <th>anchor_year_group</th>\n",
       "      <th>count</th>\n",
       "    </tr>\n",
       "  </thead>\n",
       "  <tbody>\n",
       "    <tr>\n",
       "      <th>0</th>\n",
       "      <td>2008 - 2010</td>\n",
       "      <td>118616</td>\n",
       "    </tr>\n",
       "    <tr>\n",
       "      <th>1</th>\n",
       "      <td>2011 - 2013</td>\n",
       "      <td>92317</td>\n",
       "    </tr>\n",
       "    <tr>\n",
       "      <th>2</th>\n",
       "      <td>2014 - 2016</td>\n",
       "      <td>88488</td>\n",
       "    </tr>\n",
       "    <tr>\n",
       "      <th>3</th>\n",
       "      <td>2017 - 2019</td>\n",
       "      <td>82857</td>\n",
       "    </tr>\n",
       "  </tbody>\n",
       "</table>\n",
       "</div>"
      ],
      "text/plain": [
       "  anchor_year_group   count\n",
       "0       2008 - 2010  118616\n",
       "1       2011 - 2013   92317\n",
       "2       2014 - 2016   88488\n",
       "3       2017 - 2019   82857"
      ]
     },
     "execution_count": 38,
     "metadata": {},
     "output_type": "execute_result"
    }
   ],
   "source": [
    "grouped_by_anchor_year"
   ]
  },
  {
   "cell_type": "code",
   "execution_count": 37,
   "id": "f1bb2630",
   "metadata": {},
   "outputs": [
    {
     "data": {
      "text/plain": [
       "<AxesSubplot:xlabel='anchor_year_group', ylabel='count'>"
      ]
     },
     "execution_count": 37,
     "metadata": {},
     "output_type": "execute_result"
    },
    {
     "data": {
      "image/png": "[encoded data removed]",
      "text/plain": [
       "<Figure size 432x288 with 1 Axes>"
      ]
     },
     "metadata": {
      "needs_background": "light"
     },
     "output_type": "display_data"
    }
   ],
   "source": [
    "sn.barplot(x='anchor_year_group', y='count', data=grouped_by_anchor_year)"
   ]
  },
  {
   "cell_type": "code",
   "execution_count": null,
   "id": "65d7f330",
   "metadata": {},
   "outputs": [],
   "source": []
  }
 ],
 "metadata": {
  "kernelspec": {
   "display_name": "Python 3",
   "language": "python",
   "name": "python3"
  },
  "language_info": {
   "codemirror_mode": {
    "name": "ipython",
    "version": 3
   },
   "file_extension": ".py",
   "mimetype": "text/x-python",
   "name": "python",
   "nbconvert_exporter": "python",
   "pygments_lexer": "ipython3",
   "version": "3.8.8"
  }
 },
 "nbformat": 4,
 "nbformat_minor": 5
}
