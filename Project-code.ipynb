{
 "cells": [
  {
   "cell_type": "code",
   "execution_count": 1,
   "id": "7945c0de",
   "metadata": {},
   "outputs": [
    {
     "name": "stdout",
     "output_type": "stream",
     "text": [
      "Hello world\n"
     ]
    }
   ],
   "source": [
    "print(\"Hello world\")"
   ]
  },
  {
   "cell_type": "code",
   "execution_count": 19,
   "id": "f423d317",
   "metadata": {},
   "outputs": [],
   "source": [
    "import pandas as pd\n",
    "import seaborn as sn"
   ]
  },
  {
   "cell_type": "markdown",
   "id": "ad6b41b5",
   "metadata": {},
   "source": [
    "### How many patient data are we dealing with?"
   ]
  },
  {
   "cell_type": "code",
   "execution_count": 3,
   "id": "06212c3c",
   "metadata": {},
   "outputs": [],
   "source": [
    "path = 'D:\\skolaÅr5\\MasterThesis\\mimic-iv-1.0\\core\\patients.csv'"
   ]
  },
  {
   "cell_type": "code",
   "execution_count": 4,
   "id": "4adcd879",
   "metadata": {},
   "outputs": [],
   "source": [
    "patients_df = pd.read_csv(path)"
   ]
  },
  {
   "cell_type": "code",
   "execution_count": 8,
   "id": "6c0c30f5",
   "metadata": {},
   "outputs": [
    {
     "name": "stdout",
     "output_type": "stream",
     "text": [
      "<class 'pandas.core.frame.DataFrame'>\n",
      "RangeIndex: 382278 entries, 0 to 382277\n",
      "Data columns (total 6 columns):\n",
      " #   Column             Non-Null Count   Dtype \n",
      "---  ------             --------------   ----- \n",
      " 0   subject_id         382278 non-null  int64 \n",
      " 1   gender             382278 non-null  object\n",
      " 2   anchor_age         382278 non-null  int64 \n",
      " 3   anchor_year        382278 non-null  int64 \n",
      " 4   anchor_year_group  382278 non-null  object\n",
      " 5   dod                9509 non-null    object\n",
      "dtypes: int64(3), object(3)\n",
      "memory usage: 17.5+ MB\n"
     ]
    }
   ],
   "source": [
    "patients_df.info()"
   ]
  },
  {
   "cell_type": "code",
   "execution_count": 18,
   "id": "b675bf1e",
   "metadata": {},
   "outputs": [
    {
     "data": {
      "text/plain": [
       "382278"
      ]
     },
     "execution_count": 18,
     "metadata": {},
     "output_type": "execute_result"
    }
   ],
   "source": [
    "len(patients_df['subject_id'].unique())"
   ]
  },
  {
   "cell_type": "markdown",
   "id": "88e2102f",
   "metadata": {},
   "source": [
    "### What different anchor_year_group are in the dataset, and what is the count of each group?"
   ]
  },
  {
   "cell_type": "code",
   "execution_count": 36,
   "id": "8e791a77",
   "metadata": {},
   "outputs": [],
   "source": [
    "grouped_by_anchor_year = patients_df.groupby('anchor_year_group')['anchor_year'].count().reset_index(name='count')"
   ]
  },
  {
   "cell_type": "code",
   "execution_count": 38,
   "id": "90395819",
   "metadata": {},
   "outputs": [
    {
     "data": {
      "text/html": [
       "<div>\n",
       "<style scoped>\n",
       "    .dataframe tbody tr th:only-of-type {\n",
       "        vertical-align: middle;\n",
       "    }\n",
       "\n",
       "    .dataframe tbody tr th {\n",
       "        vertical-align: top;\n",
       "    }\n",
       "\n",
       "    .dataframe thead th {\n",
       "        text-align: right;\n",
       "    }\n",
       "</style>\n",
       "<table border=\"1\" class=\"dataframe\">\n",
       "  <thead>\n",
       "    <tr style=\"text-align: right;\">\n",
       "      <th></th>\n",
       "      <th>anchor_year_group</th>\n",
       "      <th>count</th>\n",
       "    </tr>\n",
       "  </thead>\n",
       "  <tbody>\n",
       "    <tr>\n",
       "      <th>0</th>\n",
       "      <td>2008 - 2010</td>\n",
       "      <td>118616</td>\n",
       "    </tr>\n",
       "    <tr>\n",
       "      <th>1</th>\n",
       "      <td>2011 - 2013</td>\n",
       "      <td>92317</td>\n",
       "    </tr>\n",
       "    <tr>\n",
       "      <th>2</th>\n",
       "      <td>2014 - 2016</td>\n",
       "      <td>88488</td>\n",
       "    </tr>\n",
       "    <tr>\n",
       "      <th>3</th>\n",
       "      <td>2017 - 2019</td>\n",
       "      <td>82857</td>\n",
       "    </tr>\n",
       "  </tbody>\n",
       "</table>\n",
       "</div>"
      ],
      "text/plain": [
       "  anchor_year_group   count\n",
       "0       2008 - 2010  118616\n",
       "1       2011 - 2013   92317\n",
       "2       2014 - 2016   88488\n",
       "3       2017 - 2019   82857"
      ]
     },
     "execution_count": 38,
     "metadata": {},
     "output_type": "execute_result"
    }
   ],
   "source": [
    "grouped_by_anchor_year"
   ]
  },
  {
   "cell_type": "code",
   "execution_count": 37,
   "id": "06d72592",
   "metadata": {},
   "outputs": [
    {
     "data": {
      "text/plain": [
       "<AxesSubplot:xlabel='anchor_year_group', ylabel='count'>"
      ]
     },
     "execution_count": 37,
     "metadata": {},
     "output_type": "execute_result"
    },
    {
     "data": {
      "image/png": "[encoded data removed]",
      "text/plain": [
       "<Figure size 432x288 with 1 Axes>"
      ]
     },
     "metadata": {
      "needs_background": "light"
     },
     "output_type": "display_data"
    }
   ],
   "source": [
    "sn.barplot(x='anchor_year_group', y='count', data=grouped_by_anchor_year)"
   ]
  },
  {
   "cell_type": "markdown",
   "id": "82a13490",
   "metadata": {},
   "source": [
    "### Find the most often occuring diagnoses"
   ]
  },
  {
   "cell_type": "code",
   "execution_count": 39,
   "id": "7a3139a8",
   "metadata": {},
   "outputs": [],
   "source": [
    "path = 'D:\\skolaÅr5\\MasterThesis\\mimic-iv-1.0\\hosp\\diagnoses_icd.csv'"
   ]
  },
  {
   "cell_type": "code",
   "execution_count": 53,
   "id": "ab992f79",
   "metadata": {},
   "outputs": [],
   "source": [
    "path2 = 'D:\\skolaÅr5\\MasterThesis\\mimic-iv-1.0\\hosp\\d_icd_diagnoses.csv'"
   ]
  },
  {
   "cell_type": "code",
   "execution_count": 40,
   "id": "59f44ad3",
   "metadata": {},
   "outputs": [],
   "source": [
    "diagnoses = pd.read_csv(path)"
   ]
  },
  {
   "cell_type": "code",
   "execution_count": 54,
   "id": "d3cce12a",
   "metadata": {},
   "outputs": [],
   "source": [
    "diagnoses_desc = pd.read_csv(path2)"
   ]
  },
  {
   "cell_type": "code",
   "execution_count": 41,
   "id": "aa4ef9fc",
   "metadata": {},
   "outputs": [
    {
     "data": {
      "text/html": [
       "<div>\n",
       "<style scoped>\n",
       "    .dataframe tbody tr th:only-of-type {\n",
       "        vertical-align: middle;\n",
       "    }\n",
       "\n",
       "    .dataframe tbody tr th {\n",
       "        vertical-align: top;\n",
       "    }\n",
       "\n",
       "    .dataframe thead th {\n",
       "        text-align: right;\n",
       "    }\n",
       "</style>\n",
       "<table border=\"1\" class=\"dataframe\">\n",
       "  <thead>\n",
       "    <tr style=\"text-align: right;\">\n",
       "      <th></th>\n",
       "      <th>subject_id</th>\n",
       "      <th>hadm_id</th>\n",
       "      <th>seq_num</th>\n",
       "      <th>icd_code</th>\n",
       "      <th>icd_version</th>\n",
       "    </tr>\n",
       "  </thead>\n",
       "  <tbody>\n",
       "    <tr>\n",
       "      <th>0</th>\n",
       "      <td>15734973</td>\n",
       "      <td>20475282</td>\n",
       "      <td>3</td>\n",
       "      <td>2825</td>\n",
       "      <td>9</td>\n",
       "    </tr>\n",
       "    <tr>\n",
       "      <th>1</th>\n",
       "      <td>15734973</td>\n",
       "      <td>20475282</td>\n",
       "      <td>2</td>\n",
       "      <td>V0251</td>\n",
       "      <td>9</td>\n",
       "    </tr>\n",
       "    <tr>\n",
       "      <th>2</th>\n",
       "      <td>15734973</td>\n",
       "      <td>20475282</td>\n",
       "      <td>5</td>\n",
       "      <td>V270</td>\n",
       "      <td>9</td>\n",
       "    </tr>\n",
       "    <tr>\n",
       "      <th>3</th>\n",
       "      <td>15734973</td>\n",
       "      <td>20475282</td>\n",
       "      <td>1</td>\n",
       "      <td>64891</td>\n",
       "      <td>9</td>\n",
       "    </tr>\n",
       "    <tr>\n",
       "      <th>4</th>\n",
       "      <td>15734973</td>\n",
       "      <td>20475282</td>\n",
       "      <td>4</td>\n",
       "      <td>66481</td>\n",
       "      <td>9</td>\n",
       "    </tr>\n",
       "    <tr>\n",
       "      <th>...</th>\n",
       "      <td>...</td>\n",
       "      <td>...</td>\n",
       "      <td>...</td>\n",
       "      <td>...</td>\n",
       "      <td>...</td>\n",
       "    </tr>\n",
       "    <tr>\n",
       "      <th>5280346</th>\n",
       "      <td>13747041</td>\n",
       "      <td>25594844</td>\n",
       "      <td>6</td>\n",
       "      <td>R531</td>\n",
       "      <td>10</td>\n",
       "    </tr>\n",
       "    <tr>\n",
       "      <th>5280347</th>\n",
       "      <td>13747041</td>\n",
       "      <td>25594844</td>\n",
       "      <td>8</td>\n",
       "      <td>R0902</td>\n",
       "      <td>10</td>\n",
       "    </tr>\n",
       "    <tr>\n",
       "      <th>5280348</th>\n",
       "      <td>13747041</td>\n",
       "      <td>25594844</td>\n",
       "      <td>4</td>\n",
       "      <td>F1120</td>\n",
       "      <td>10</td>\n",
       "    </tr>\n",
       "    <tr>\n",
       "      <th>5280349</th>\n",
       "      <td>13747041</td>\n",
       "      <td>25594844</td>\n",
       "      <td>2</td>\n",
       "      <td>J189</td>\n",
       "      <td>10</td>\n",
       "    </tr>\n",
       "    <tr>\n",
       "      <th>5280350</th>\n",
       "      <td>13747041</td>\n",
       "      <td>25594844</td>\n",
       "      <td>5</td>\n",
       "      <td>N179</td>\n",
       "      <td>10</td>\n",
       "    </tr>\n",
       "  </tbody>\n",
       "</table>\n",
       "<p>5280351 rows × 5 columns</p>\n",
       "</div>"
      ],
      "text/plain": [
       "         subject_id   hadm_id  seq_num icd_code  icd_version\n",
       "0          15734973  20475282        3     2825            9\n",
       "1          15734973  20475282        2    V0251            9\n",
       "2          15734973  20475282        5     V270            9\n",
       "3          15734973  20475282        1    64891            9\n",
       "4          15734973  20475282        4    66481            9\n",
       "...             ...       ...      ...      ...          ...\n",
       "5280346    13747041  25594844        6     R531           10\n",
       "5280347    13747041  25594844        8    R0902           10\n",
       "5280348    13747041  25594844        4    F1120           10\n",
       "5280349    13747041  25594844        2     J189           10\n",
       "5280350    13747041  25594844        5     N179           10\n",
       "\n",
       "[5280351 rows x 5 columns]"
      ]
     },
     "execution_count": 41,
     "metadata": {},
     "output_type": "execute_result"
    }
   ],
   "source": [
    "diagnoses"
   ]
  },
  {
   "cell_type": "code",
   "execution_count": 55,
   "id": "8a7ae592",
   "metadata": {},
   "outputs": [
    {
     "data": {
      "text/html": [
       "<div>\n",
       "<style scoped>\n",
       "    .dataframe tbody tr th:only-of-type {\n",
       "        vertical-align: middle;\n",
       "    }\n",
       "\n",
       "    .dataframe tbody tr th {\n",
       "        vertical-align: top;\n",
       "    }\n",
       "\n",
       "    .dataframe thead th {\n",
       "        text-align: right;\n",
       "    }\n",
       "</style>\n",
       "<table border=\"1\" class=\"dataframe\">\n",
       "  <thead>\n",
       "    <tr style=\"text-align: right;\">\n",
       "      <th></th>\n",
       "      <th>icd_code</th>\n",
       "      <th>icd_version</th>\n",
       "      <th>long_title</th>\n",
       "    </tr>\n",
       "  </thead>\n",
       "  <tbody>\n",
       "    <tr>\n",
       "      <th>0</th>\n",
       "      <td>0010</td>\n",
       "      <td>9</td>\n",
       "      <td>Cholera due to vibrio cholerae</td>\n",
       "    </tr>\n",
       "    <tr>\n",
       "      <th>1</th>\n",
       "      <td>0011</td>\n",
       "      <td>9</td>\n",
       "      <td>Cholera due to vibrio cholerae el tor</td>\n",
       "    </tr>\n",
       "    <tr>\n",
       "      <th>2</th>\n",
       "      <td>0019</td>\n",
       "      <td>9</td>\n",
       "      <td>Cholera, unspecified</td>\n",
       "    </tr>\n",
       "    <tr>\n",
       "      <th>3</th>\n",
       "      <td>0020</td>\n",
       "      <td>9</td>\n",
       "      <td>Typhoid fever</td>\n",
       "    </tr>\n",
       "    <tr>\n",
       "      <th>4</th>\n",
       "      <td>0021</td>\n",
       "      <td>9</td>\n",
       "      <td>Paratyphoid fever A</td>\n",
       "    </tr>\n",
       "    <tr>\n",
       "      <th>...</th>\n",
       "      <td>...</td>\n",
       "      <td>...</td>\n",
       "      <td>...</td>\n",
       "    </tr>\n",
       "    <tr>\n",
       "      <th>109770</th>\n",
       "      <td>Z9989</td>\n",
       "      <td>10</td>\n",
       "      <td>Dependence on other enabling machines and devices</td>\n",
       "    </tr>\n",
       "    <tr>\n",
       "      <th>109771</th>\n",
       "      <td>2880</td>\n",
       "      <td>9</td>\n",
       "      <td>Diseases of white blood cells</td>\n",
       "    </tr>\n",
       "    <tr>\n",
       "      <th>109772</th>\n",
       "      <td>7800</td>\n",
       "      <td>9</td>\n",
       "      <td>Alteration of consciousness</td>\n",
       "    </tr>\n",
       "    <tr>\n",
       "      <th>109773</th>\n",
       "      <td>V127</td>\n",
       "      <td>9</td>\n",
       "      <td>Personal history of digestive disease</td>\n",
       "    </tr>\n",
       "    <tr>\n",
       "      <th>109774</th>\n",
       "      <td>V581</td>\n",
       "      <td>9</td>\n",
       "      <td>Encounter for antineoplastic chemotherapy and ...</td>\n",
       "    </tr>\n",
       "  </tbody>\n",
       "</table>\n",
       "<p>109775 rows × 3 columns</p>\n",
       "</div>"
      ],
      "text/plain": [
       "       icd_code  icd_version  \\\n",
       "0          0010            9   \n",
       "1          0011            9   \n",
       "2          0019            9   \n",
       "3          0020            9   \n",
       "4          0021            9   \n",
       "...         ...          ...   \n",
       "109770    Z9989           10   \n",
       "109771     2880            9   \n",
       "109772     7800            9   \n",
       "109773     V127            9   \n",
       "109774     V581            9   \n",
       "\n",
       "                                               long_title  \n",
       "0                          Cholera due to vibrio cholerae  \n",
       "1                   Cholera due to vibrio cholerae el tor  \n",
       "2                                    Cholera, unspecified  \n",
       "3                                           Typhoid fever  \n",
       "4                                     Paratyphoid fever A  \n",
       "...                                                   ...  \n",
       "109770  Dependence on other enabling machines and devices  \n",
       "109771                      Diseases of white blood cells  \n",
       "109772                        Alteration of consciousness  \n",
       "109773              Personal history of digestive disease  \n",
       "109774  Encounter for antineoplastic chemotherapy and ...  \n",
       "\n",
       "[109775 rows x 3 columns]"
      ]
     },
     "execution_count": 55,
     "metadata": {},
     "output_type": "execute_result"
    }
   ],
   "source": [
    "diagnoses_desc"
   ]
  },
  {
   "cell_type": "code",
   "execution_count": 46,
   "id": "4c013d60",
   "metadata": {},
   "outputs": [],
   "source": [
    "icd_codes = diagnoses.groupby('icd_code')['subject_id'].count().reset_index(name='count')"
   ]
  },
  {
   "cell_type": "code",
   "execution_count": 56,
   "id": "dfc1f51f",
   "metadata": {},
   "outputs": [],
   "source": [
    "top10 = icd_codes.sort_values(by='count', ascending=False)[:10]"
   ]
  },
  {
   "cell_type": "code",
   "execution_count": 57,
   "id": "2be82e57",
   "metadata": {},
   "outputs": [
    {
     "data": {
      "text/html": [
       "<div>\n",
       "<style scoped>\n",
       "    .dataframe tbody tr th:only-of-type {\n",
       "        vertical-align: middle;\n",
       "    }\n",
       "\n",
       "    .dataframe tbody tr th {\n",
       "        vertical-align: top;\n",
       "    }\n",
       "\n",
       "    .dataframe thead th {\n",
       "        text-align: right;\n",
       "    }\n",
       "</style>\n",
       "<table border=\"1\" class=\"dataframe\">\n",
       "  <thead>\n",
       "    <tr style=\"text-align: right;\">\n",
       "      <th></th>\n",
       "      <th>icd_code</th>\n",
       "      <th>count</th>\n",
       "    </tr>\n",
       "  </thead>\n",
       "  <tbody>\n",
       "    <tr>\n",
       "      <th>2821</th>\n",
       "      <td>4019</td>\n",
       "      <td>104080</td>\n",
       "    </tr>\n",
       "    <tr>\n",
       "      <th>1349</th>\n",
       "      <td>2724</td>\n",
       "      <td>68215</td>\n",
       "    </tr>\n",
       "    <tr>\n",
       "      <th>12773</th>\n",
       "      <td>I10</td>\n",
       "      <td>54696</td>\n",
       "    </tr>\n",
       "    <tr>\n",
       "      <th>10158</th>\n",
       "      <td>E785</td>\n",
       "      <td>51097</td>\n",
       "    </tr>\n",
       "    <tr>\n",
       "      <th>3573</th>\n",
       "      <td>53081</td>\n",
       "      <td>49593</td>\n",
       "    </tr>\n",
       "    <tr>\n",
       "      <th>1202</th>\n",
       "      <td>25000</td>\n",
       "      <td>43705</td>\n",
       "    </tr>\n",
       "    <tr>\n",
       "      <th>26962</th>\n",
       "      <td>Z87891</td>\n",
       "      <td>40803</td>\n",
       "    </tr>\n",
       "    <tr>\n",
       "      <th>2968</th>\n",
       "      <td>42731</td>\n",
       "      <td>37337</td>\n",
       "    </tr>\n",
       "    <tr>\n",
       "      <th>1904</th>\n",
       "      <td>311</td>\n",
       "      <td>36905</td>\n",
       "    </tr>\n",
       "    <tr>\n",
       "      <th>2979</th>\n",
       "      <td>4280</td>\n",
       "      <td>36891</td>\n",
       "    </tr>\n",
       "  </tbody>\n",
       "</table>\n",
       "</div>"
      ],
      "text/plain": [
       "      icd_code   count\n",
       "2821      4019  104080\n",
       "1349      2724   68215\n",
       "12773      I10   54696\n",
       "10158     E785   51097\n",
       "3573     53081   49593\n",
       "1202     25000   43705\n",
       "26962   Z87891   40803\n",
       "2968     42731   37337\n",
       "1904       311   36905\n",
       "2979      4280   36891"
      ]
     },
     "execution_count": 57,
     "metadata": {},
     "output_type": "execute_result"
    }
   ],
   "source": [
    "top10"
   ]
  },
  {
   "cell_type": "code",
   "execution_count": 68,
   "id": "ff8d0eb2",
   "metadata": {},
   "outputs": [],
   "source": [
    "top10['title'] = top10['icd_code'].apply(lambda x: diagnoses_desc[diagnoses_desc.icd_code == x]['long_title'].iloc[0])"
   ]
  },
  {
   "cell_type": "code",
   "execution_count": 69,
   "id": "67b3dfbe",
   "metadata": {},
   "outputs": [
    {
     "data": {
      "text/html": [
       "<div>\n",
       "<style scoped>\n",
       "    .dataframe tbody tr th:only-of-type {\n",
       "        vertical-align: middle;\n",
       "    }\n",
       "\n",
       "    .dataframe tbody tr th {\n",
       "        vertical-align: top;\n",
       "    }\n",
       "\n",
       "    .dataframe thead th {\n",
       "        text-align: right;\n",
       "    }\n",
       "</style>\n",
       "<table border=\"1\" class=\"dataframe\">\n",
       "  <thead>\n",
       "    <tr style=\"text-align: right;\">\n",
       "      <th></th>\n",
       "      <th>icd_code</th>\n",
       "      <th>count</th>\n",
       "      <th>title</th>\n",
       "    </tr>\n",
       "  </thead>\n",
       "  <tbody>\n",
       "    <tr>\n",
       "      <th>2821</th>\n",
       "      <td>4019</td>\n",
       "      <td>104080</td>\n",
       "      <td>Unspecified essential hypertension</td>\n",
       "    </tr>\n",
       "    <tr>\n",
       "      <th>1349</th>\n",
       "      <td>2724</td>\n",
       "      <td>68215</td>\n",
       "      <td>Other and unspecified hyperlipidemia</td>\n",
       "    </tr>\n",
       "    <tr>\n",
       "      <th>12773</th>\n",
       "      <td>I10</td>\n",
       "      <td>54696</td>\n",
       "      <td>Essential (primary) hypertension</td>\n",
       "    </tr>\n",
       "    <tr>\n",
       "      <th>10158</th>\n",
       "      <td>E785</td>\n",
       "      <td>51097</td>\n",
       "      <td>Hyperlipidemia, unspecified</td>\n",
       "    </tr>\n",
       "    <tr>\n",
       "      <th>3573</th>\n",
       "      <td>53081</td>\n",
       "      <td>49593</td>\n",
       "      <td>Esophageal reflux</td>\n",
       "    </tr>\n",
       "    <tr>\n",
       "      <th>1202</th>\n",
       "      <td>25000</td>\n",
       "      <td>43705</td>\n",
       "      <td>Diabetes mellitus without mention of complicat...</td>\n",
       "    </tr>\n",
       "    <tr>\n",
       "      <th>26962</th>\n",
       "      <td>Z87891</td>\n",
       "      <td>40803</td>\n",
       "      <td>Personal history of nicotine dependence</td>\n",
       "    </tr>\n",
       "    <tr>\n",
       "      <th>2968</th>\n",
       "      <td>42731</td>\n",
       "      <td>37337</td>\n",
       "      <td>Atrial fibrillation</td>\n",
       "    </tr>\n",
       "    <tr>\n",
       "      <th>1904</th>\n",
       "      <td>311</td>\n",
       "      <td>36905</td>\n",
       "      <td>Depressive disorder, not elsewhere classified</td>\n",
       "    </tr>\n",
       "    <tr>\n",
       "      <th>2979</th>\n",
       "      <td>4280</td>\n",
       "      <td>36891</td>\n",
       "      <td>Congestive heart failure, unspecified</td>\n",
       "    </tr>\n",
       "  </tbody>\n",
       "</table>\n",
       "</div>"
      ],
      "text/plain": [
       "      icd_code   count                                              title\n",
       "2821      4019  104080                 Unspecified essential hypertension\n",
       "1349      2724   68215               Other and unspecified hyperlipidemia\n",
       "12773      I10   54696                   Essential (primary) hypertension\n",
       "10158     E785   51097                        Hyperlipidemia, unspecified\n",
       "3573     53081   49593                                  Esophageal reflux\n",
       "1202     25000   43705  Diabetes mellitus without mention of complicat...\n",
       "26962   Z87891   40803            Personal history of nicotine dependence\n",
       "2968     42731   37337                                Atrial fibrillation\n",
       "1904       311   36905      Depressive disorder, not elsewhere classified\n",
       "2979      4280   36891              Congestive heart failure, unspecified"
      ]
     },
     "execution_count": 69,
     "metadata": {},
     "output_type": "execute_result"
    }
   ],
   "source": [
    "top10"
   ]
  },
  {
   "cell_type": "code",
   "execution_count": 71,
   "id": "edaef44c",
   "metadata": {},
   "outputs": [
    {
     "data": {
      "text/plain": [
       "<AxesSubplot:xlabel='count', ylabel='title'>"
      ]
     },
     "execution_count": 71,
     "metadata": {},
     "output_type": "execute_result"
    },
    {
     "data": {
      "image/png": "[encoded data removed]",
      "text/plain": [
       "<Figure size 432x288 with 1 Axes>"
      ]
     },
     "metadata": {
      "needs_background": "light"
     },
     "output_type": "display_data"
    }
   ],
   "source": [
    "sn.barplot(y='title', x='count', data=top10)"
   ]
  },
  {
   "cell_type": "code",
   "execution_count": null,
   "id": "9a3f897d",
   "metadata": {},
   "outputs": [],
   "source": []
  }
 ],
 "metadata": {
  "kernelspec": {
   "display_name": "Python 3",
   "language": "python",
   "name": "python3"
  },
  "language_info": {
   "codemirror_mode": {
    "name": "ipython",
    "version": 3
   },
   "file_extension": ".py",
   "mimetype": "text/x-python",
   "name": "python",
   "nbconvert_exporter": "python",
   "pygments_lexer": "ipython3",
   "version": "3.8.8"
  }
 },
 "nbformat": 4,
 "nbformat_minor": 5
}
