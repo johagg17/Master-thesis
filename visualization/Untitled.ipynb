{
 "cells": [
  {
   "cell_type": "markdown",
   "id": "7659c695-b7f8-4559-a891-0c418f21fb42",
   "metadata": {
    "tags": []
   },
   "source": [
    "### Patient trajectory"
   ]
  },
  {
   "cell_type": "markdown",
   "id": "2666bfa7-6dee-4543-b36c-f9ae14ae7b08",
   "metadata": {},
   "source": [
    "#### Import libraries"
   ]
  },
  {
   "cell_type": "code",
   "execution_count": 1,
   "id": "e9b73f27-d817-49f3-8dc8-88800c976041",
   "metadata": {},
   "outputs": [],
   "source": [
    "import pandas as pd\n",
    "from pyspark import SparkContext, SparkConf\n",
    "from pyspark.sql import SparkSession\n",
    "from pyspark.sql.functions import udf,col\n",
    "import pyspark.sql.functions as F\n",
    "import numpy as np\n",
    "from pyspark.sql import Window"
   ]
  },
  {
   "cell_type": "markdown",
   "id": "1225613b-ed32-4d9c-af04-2ab11576430c",
   "metadata": {
    "tags": []
   },
   "source": [
    "#### Initiate spark"
   ]
  },
  {
   "cell_type": "code",
   "execution_count": 2,
   "id": "a90f2908-a342-407c-a2c9-e30f42a4ee22",
   "metadata": {},
   "outputs": [
    {
     "data": {
      "text/html": [
       "\n",
       "            <div>\n",
       "                <p><b>SparkSession - in-memory</b></p>\n",
       "                \n",
       "        <div>\n",
       "            <p><b>SparkContext</b></p>\n",
       "\n",
       "            <p><a href=\"http://192.168.0.32:4040\">Spark UI</a></p>\n",
       "\n",
       "            <dl>\n",
       "              <dt>Version</dt>\n",
       "                <dd><code>v2.4.7</code></dd>\n",
       "              <dt>Master</dt>\n",
       "                <dd><code>local[*]</code></dd>\n",
       "              <dt>AppName</dt>\n",
       "                <dd><code>Python Spark SQL basic example</code></dd>\n",
       "            </dl>\n",
       "        </div>\n",
       "        \n",
       "            </div>\n",
       "        "
      ],
      "text/plain": [
       "<pyspark.sql.session.SparkSession at 0x15887dc6ac8>"
      ]
     },
     "execution_count": 2,
     "metadata": {},
     "output_type": "execute_result"
    }
   ],
   "source": [
    "spark = SparkSession \\\n",
    "            .builder \\\n",
    "            .appName(\"Python Spark SQL basic example\") \\\n",
    "            .config(\"spark.some.config.option\", \"some-value\") \\\n",
    "            .getOrCreate()\n",
    "spark"
   ]
  },
  {
   "cell_type": "code",
   "execution_count": 3,
   "id": "d1539379-d1c3-455f-ab5b-54e14327ac78",
   "metadata": {},
   "outputs": [],
   "source": [
    "path_to_data = r'D:\\skolaÅr5\\MasterThesis\\mimic-iv-1.0'"
   ]
  },
  {
   "cell_type": "markdown",
   "id": "61a526c6-2cfb-4e40-bbb5-5416364e1354",
   "metadata": {
    "tags": []
   },
   "source": [
    "#### Read Patient and Admission table"
   ]
  },
  {
   "cell_type": "code",
   "execution_count": 4,
   "id": "8ec20627-a849-46e5-b938-d32d823c6be6",
   "metadata": {},
   "outputs": [],
   "source": [
    "df_pat = pd.read_csv(path_to_data  + r'\\core\\patients.csv')\n",
    "df_adm = pd.read_csv(path_to_data + r'\\core\\admissions.csv')"
   ]
  },
  {
   "cell_type": "markdown",
   "id": "c85fa5b0-a657-4bf4-9f45-84867f80b601",
   "metadata": {
    "tags": []
   },
   "source": [
    "##### Merge pat and adm"
   ]
  },
  {
   "cell_type": "code",
   "execution_count": 5,
   "id": "3eb5b41d-8aed-43e1-b93a-16f0861cb2cd",
   "metadata": {},
   "outputs": [],
   "source": [
    "df_patadm = pd.merge(df_pat, df_adm, on=['subject_id'], how='inner')"
   ]
  },
  {
   "cell_type": "code",
   "execution_count": 6,
   "id": "ebe57e41-3f54-4909-9aa4-e2da6adf1699",
   "metadata": {},
   "outputs": [
    {
     "data": {
      "text/html": [
       "<div>\n",
       "<style scoped>\n",
       "    .dataframe tbody tr th:only-of-type {\n",
       "        vertical-align: middle;\n",
       "    }\n",
       "\n",
       "    .dataframe tbody tr th {\n",
       "        vertical-align: top;\n",
       "    }\n",
       "\n",
       "    .dataframe thead th {\n",
       "        text-align: right;\n",
       "    }\n",
       "</style>\n",
       "<table border=\"1\" class=\"dataframe\">\n",
       "  <thead>\n",
       "    <tr style=\"text-align: right;\">\n",
       "      <th></th>\n",
       "      <th>subject_id</th>\n",
       "      <th>gender</th>\n",
       "      <th>anchor_age</th>\n",
       "      <th>anchor_year</th>\n",
       "      <th>anchor_year_group</th>\n",
       "      <th>dod</th>\n",
       "      <th>hadm_id</th>\n",
       "      <th>admittime</th>\n",
       "      <th>dischtime</th>\n",
       "      <th>deathtime</th>\n",
       "      <th>admission_type</th>\n",
       "      <th>admission_location</th>\n",
       "      <th>discharge_location</th>\n",
       "      <th>insurance</th>\n",
       "      <th>language</th>\n",
       "      <th>marital_status</th>\n",
       "      <th>ethnicity</th>\n",
       "      <th>edregtime</th>\n",
       "      <th>edouttime</th>\n",
       "      <th>hospital_expire_flag</th>\n",
       "    </tr>\n",
       "  </thead>\n",
       "  <tbody>\n",
       "    <tr>\n",
       "      <th>0</th>\n",
       "      <td>10002723</td>\n",
       "      <td>F</td>\n",
       "      <td>0</td>\n",
       "      <td>2128</td>\n",
       "      <td>2017 - 2019</td>\n",
       "      <td>NaN</td>\n",
       "      <td>26724970</td>\n",
       "      <td>2128-06-10 15:29:00</td>\n",
       "      <td>2128-06-12 14:20:00</td>\n",
       "      <td>NaN</td>\n",
       "      <td>ELECTIVE</td>\n",
       "      <td>NaN</td>\n",
       "      <td>HOME</td>\n",
       "      <td>Other</td>\n",
       "      <td>ENGLISH</td>\n",
       "      <td>NaN</td>\n",
       "      <td>WHITE</td>\n",
       "      <td>NaN</td>\n",
       "      <td>NaN</td>\n",
       "      <td>0</td>\n",
       "    </tr>\n",
       "    <tr>\n",
       "      <th>1</th>\n",
       "      <td>10002723</td>\n",
       "      <td>F</td>\n",
       "      <td>0</td>\n",
       "      <td>2128</td>\n",
       "      <td>2017 - 2019</td>\n",
       "      <td>NaN</td>\n",
       "      <td>20429365</td>\n",
       "      <td>2128-06-13 14:15:00</td>\n",
       "      <td>2128-06-14 18:37:00</td>\n",
       "      <td>NaN</td>\n",
       "      <td>DIRECT EMER.</td>\n",
       "      <td>CLINIC REFERRAL</td>\n",
       "      <td>HOME</td>\n",
       "      <td>Medicaid</td>\n",
       "      <td>ENGLISH</td>\n",
       "      <td>NaN</td>\n",
       "      <td>WHITE</td>\n",
       "      <td>NaN</td>\n",
       "      <td>NaN</td>\n",
       "      <td>0</td>\n",
       "    </tr>\n",
       "  </tbody>\n",
       "</table>\n",
       "</div>"
      ],
      "text/plain": [
       "   subject_id gender  anchor_age  anchor_year anchor_year_group  dod  \\\n",
       "0    10002723      F           0         2128       2017 - 2019  NaN   \n",
       "1    10002723      F           0         2128       2017 - 2019  NaN   \n",
       "\n",
       "    hadm_id            admittime            dischtime deathtime  \\\n",
       "0  26724970  2128-06-10 15:29:00  2128-06-12 14:20:00       NaN   \n",
       "1  20429365  2128-06-13 14:15:00  2128-06-14 18:37:00       NaN   \n",
       "\n",
       "  admission_type admission_location discharge_location insurance language  \\\n",
       "0       ELECTIVE                NaN               HOME     Other  ENGLISH   \n",
       "1   DIRECT EMER.    CLINIC REFERRAL               HOME  Medicaid  ENGLISH   \n",
       "\n",
       "  marital_status ethnicity edregtime edouttime  hospital_expire_flag  \n",
       "0            NaN     WHITE       NaN       NaN                     0  \n",
       "1            NaN     WHITE       NaN       NaN                     0  "
      ]
     },
     "execution_count": 6,
     "metadata": {},
     "output_type": "execute_result"
    }
   ],
   "source": [
    "df_patadm.head(2)"
   ]
  },
  {
   "cell_type": "markdown",
   "id": "d5788370-1457-4ed1-afae-6532b915aed0",
   "metadata": {
    "tags": []
   },
   "source": [
    "##### For visualization purposes, select 1 patient, which have at least 3 admissions*"
   ]
  },
  {
   "cell_type": "code",
   "execution_count": 140,
   "id": "368bde05-4e18-4aa0-b6ec-9236dbb08674",
   "metadata": {},
   "outputs": [],
   "source": [
    "admissions = df_patadm.groupby(['subject_id']).size().reset_index(name='count')\n",
    "patient_id = 10020740 #14489052 #admissions[admissions['count'] == 6].sample(1)['subject_id'].tolist()[0]"
   ]
  },
  {
   "cell_type": "code",
   "execution_count": 141,
   "id": "928e4387-afed-48db-b417-0b9c450c92c6",
   "metadata": {},
   "outputs": [
    {
     "data": {
      "text/plain": [
       "10020740"
      ]
     },
     "execution_count": 141,
     "metadata": {},
     "output_type": "execute_result"
    }
   ],
   "source": [
    "patient_id"
   ]
  },
  {
   "cell_type": "markdown",
   "id": "d0028e78-850a-49ba-a4c2-ee24e5bcbf41",
   "metadata": {
    "tags": []
   },
   "source": [
    "##### How many admissions did this patient have?"
   ]
  },
  {
   "cell_type": "code",
   "execution_count": 142,
   "id": "bb8c2367-b676-40c0-b115-e52ad1d7ba4d",
   "metadata": {},
   "outputs": [
    {
     "data": {
      "text/plain": [
       "5"
      ]
     },
     "execution_count": 142,
     "metadata": {},
     "output_type": "execute_result"
    }
   ],
   "source": [
    "len(df_patadm[df_patadm['subject_id'] == patient_id])"
   ]
  },
  {
   "cell_type": "markdown",
   "id": "33ab64a1-c3ec-46b7-b70a-1cb2503960b2",
   "metadata": {
    "tags": []
   },
   "source": [
    "#### Analyze patient in-depth"
   ]
  },
  {
   "cell_type": "markdown",
   "id": "cf5284a5-1ea4-4266-ab20-dfce170646ef",
   "metadata": {
    "tags": []
   },
   "source": [
    "##### Gather all admissions"
   ]
  },
  {
   "cell_type": "code",
   "execution_count": 143,
   "id": "40eae544-6c5d-4717-85f3-0525bef12422",
   "metadata": {},
   "outputs": [],
   "source": [
    "patientadm = df_adm[df_adm['subject_id'] == patient_id]"
   ]
  },
  {
   "cell_type": "code",
   "execution_count": 144,
   "id": "780d9d56-ab9d-481e-9a73-55b27b4d23df",
   "metadata": {},
   "outputs": [
    {
     "data": {
      "text/html": [
       "<div>\n",
       "<style scoped>\n",
       "    .dataframe tbody tr th:only-of-type {\n",
       "        vertical-align: middle;\n",
       "    }\n",
       "\n",
       "    .dataframe tbody tr th {\n",
       "        vertical-align: top;\n",
       "    }\n",
       "\n",
       "    .dataframe thead th {\n",
       "        text-align: right;\n",
       "    }\n",
       "</style>\n",
       "<table border=\"1\" class=\"dataframe\">\n",
       "  <thead>\n",
       "    <tr style=\"text-align: right;\">\n",
       "      <th></th>\n",
       "      <th>subject_id</th>\n",
       "      <th>hadm_id</th>\n",
       "      <th>admittime</th>\n",
       "      <th>dischtime</th>\n",
       "      <th>deathtime</th>\n",
       "      <th>admission_type</th>\n",
       "      <th>admission_location</th>\n",
       "      <th>discharge_location</th>\n",
       "      <th>insurance</th>\n",
       "      <th>language</th>\n",
       "      <th>marital_status</th>\n",
       "      <th>ethnicity</th>\n",
       "      <th>edregtime</th>\n",
       "      <th>edouttime</th>\n",
       "      <th>hospital_expire_flag</th>\n",
       "    </tr>\n",
       "  </thead>\n",
       "  <tbody>\n",
       "    <tr>\n",
       "      <th>339050</th>\n",
       "      <td>10020740</td>\n",
       "      <td>23199774</td>\n",
       "      <td>2150-09-15 14:09:00</td>\n",
       "      <td>2150-09-15 17:09:00</td>\n",
       "      <td>NaN</td>\n",
       "      <td>EU OBSERVATION</td>\n",
       "      <td>EMERGENCY ROOM</td>\n",
       "      <td>NaN</td>\n",
       "      <td>Other</td>\n",
       "      <td>ENGLISH</td>\n",
       "      <td>SINGLE</td>\n",
       "      <td>WHITE</td>\n",
       "      <td>2150-09-15 09:31:00</td>\n",
       "      <td>2150-09-15 17:09:00</td>\n",
       "      <td>0</td>\n",
       "    </tr>\n",
       "    <tr>\n",
       "      <th>343169</th>\n",
       "      <td>10020740</td>\n",
       "      <td>23143086</td>\n",
       "      <td>2151-01-15 15:25:00</td>\n",
       "      <td>2151-01-16 02:38:00</td>\n",
       "      <td>NaN</td>\n",
       "      <td>EU OBSERVATION</td>\n",
       "      <td>EMERGENCY ROOM</td>\n",
       "      <td>NaN</td>\n",
       "      <td>Other</td>\n",
       "      <td>ENGLISH</td>\n",
       "      <td>SINGLE</td>\n",
       "      <td>WHITE</td>\n",
       "      <td>2151-01-15 11:47:00</td>\n",
       "      <td>2151-01-16 02:38:00</td>\n",
       "      <td>0</td>\n",
       "    </tr>\n",
       "  </tbody>\n",
       "</table>\n",
       "</div>"
      ],
      "text/plain": [
       "        subject_id   hadm_id            admittime            dischtime  \\\n",
       "339050    10020740  23199774  2150-09-15 14:09:00  2150-09-15 17:09:00   \n",
       "343169    10020740  23143086  2151-01-15 15:25:00  2151-01-16 02:38:00   \n",
       "\n",
       "       deathtime  admission_type admission_location discharge_location  \\\n",
       "339050       NaN  EU OBSERVATION     EMERGENCY ROOM                NaN   \n",
       "343169       NaN  EU OBSERVATION     EMERGENCY ROOM                NaN   \n",
       "\n",
       "       insurance language marital_status ethnicity            edregtime  \\\n",
       "339050     Other  ENGLISH         SINGLE     WHITE  2150-09-15 09:31:00   \n",
       "343169     Other  ENGLISH         SINGLE     WHITE  2151-01-15 11:47:00   \n",
       "\n",
       "                  edouttime  hospital_expire_flag  \n",
       "339050  2150-09-15 17:09:00                     0  \n",
       "343169  2151-01-16 02:38:00                     0  "
      ]
     },
     "execution_count": 144,
     "metadata": {},
     "output_type": "execute_result"
    }
   ],
   "source": [
    "patientadm.head(2)"
   ]
  },
  {
   "cell_type": "markdown",
   "id": "8fda5ad4-7f6f-48e0-9457-01004cbec750",
   "metadata": {
    "tags": []
   },
   "source": [
    "##### Drop unc columns"
   ]
  },
  {
   "cell_type": "code",
   "execution_count": 145,
   "id": "5fec8044-4acc-4f9f-9d6e-3510dd0ea2d3",
   "metadata": {},
   "outputs": [
    {
     "name": "stderr",
     "output_type": "stream",
     "text": [
      "C:\\Users\\Johan\\anaconda3\\envs\\spark_env\\lib\\site-packages\\pandas\\core\\frame.py:4913: SettingWithCopyWarning:\n",
      "\n",
      "\n",
      "A value is trying to be set on a copy of a slice from a DataFrame\n",
      "\n",
      "See the caveats in the documentation: https://pandas.pydata.org/pandas-docs/stable/user_guide/indexing.html#returning-a-view-versus-a-copy\n",
      "\n"
     ]
    }
   ],
   "source": [
    "patientadm.drop(columns=['hospital_expire_flag', 'deathtime', 'edregtime', 'edouttime', 'ethnicity', 'marital_status', 'insurance', 'discharge_location', 'admission_location', 'language'], inplace=True)"
   ]
  },
  {
   "cell_type": "code",
   "execution_count": 146,
   "id": "cdfbd6b0-f4e2-4d4a-97c4-f710b39d7563",
   "metadata": {},
   "outputs": [
    {
     "data": {
      "text/html": [
       "<div>\n",
       "<style scoped>\n",
       "    .dataframe tbody tr th:only-of-type {\n",
       "        vertical-align: middle;\n",
       "    }\n",
       "\n",
       "    .dataframe tbody tr th {\n",
       "        vertical-align: top;\n",
       "    }\n",
       "\n",
       "    .dataframe thead th {\n",
       "        text-align: right;\n",
       "    }\n",
       "</style>\n",
       "<table border=\"1\" class=\"dataframe\">\n",
       "  <thead>\n",
       "    <tr style=\"text-align: right;\">\n",
       "      <th></th>\n",
       "      <th>subject_id</th>\n",
       "      <th>hadm_id</th>\n",
       "      <th>admittime</th>\n",
       "      <th>dischtime</th>\n",
       "      <th>admission_type</th>\n",
       "    </tr>\n",
       "  </thead>\n",
       "  <tbody>\n",
       "    <tr>\n",
       "      <th>339050</th>\n",
       "      <td>10020740</td>\n",
       "      <td>23199774</td>\n",
       "      <td>2150-09-15 14:09:00</td>\n",
       "      <td>2150-09-15 17:09:00</td>\n",
       "      <td>EU OBSERVATION</td>\n",
       "    </tr>\n",
       "    <tr>\n",
       "      <th>343169</th>\n",
       "      <td>10020740</td>\n",
       "      <td>23143086</td>\n",
       "      <td>2151-01-15 15:25:00</td>\n",
       "      <td>2151-01-16 02:38:00</td>\n",
       "      <td>EU OBSERVATION</td>\n",
       "    </tr>\n",
       "    <tr>\n",
       "      <th>348372</th>\n",
       "      <td>10020740</td>\n",
       "      <td>29820177</td>\n",
       "      <td>2150-07-09 22:09:00</td>\n",
       "      <td>2150-07-12 18:00:00</td>\n",
       "      <td>DIRECT OBSERVATION</td>\n",
       "    </tr>\n",
       "    <tr>\n",
       "      <th>364765</th>\n",
       "      <td>10020740</td>\n",
       "      <td>25826145</td>\n",
       "      <td>2150-06-03 20:12:00</td>\n",
       "      <td>2150-06-07 15:05:00</td>\n",
       "      <td>EW EMER.</td>\n",
       "    </tr>\n",
       "    <tr>\n",
       "      <th>380135</th>\n",
       "      <td>10020740</td>\n",
       "      <td>23831430</td>\n",
       "      <td>2150-03-11 15:34:00</td>\n",
       "      <td>2150-04-25 13:50:00</td>\n",
       "      <td>URGENT</td>\n",
       "    </tr>\n",
       "  </tbody>\n",
       "</table>\n",
       "</div>"
      ],
      "text/plain": [
       "        subject_id   hadm_id            admittime            dischtime  \\\n",
       "339050    10020740  23199774  2150-09-15 14:09:00  2150-09-15 17:09:00   \n",
       "343169    10020740  23143086  2151-01-15 15:25:00  2151-01-16 02:38:00   \n",
       "348372    10020740  29820177  2150-07-09 22:09:00  2150-07-12 18:00:00   \n",
       "364765    10020740  25826145  2150-06-03 20:12:00  2150-06-07 15:05:00   \n",
       "380135    10020740  23831430  2150-03-11 15:34:00  2150-04-25 13:50:00   \n",
       "\n",
       "            admission_type  \n",
       "339050      EU OBSERVATION  \n",
       "343169      EU OBSERVATION  \n",
       "348372  DIRECT OBSERVATION  \n",
       "364765            EW EMER.  \n",
       "380135              URGENT  "
      ]
     },
     "execution_count": 146,
     "metadata": {},
     "output_type": "execute_result"
    }
   ],
   "source": [
    "patientadm"
   ]
  },
  {
   "cell_type": "markdown",
   "id": "fdc4b0e0-6397-4c02-b98a-0660bc5a3cf3",
   "metadata": {},
   "source": [
    "##### Get diagnoses (ICD-9) for each admission"
   ]
  },
  {
   "cell_type": "code",
   "execution_count": 147,
   "id": "4177e632-437c-46d0-ab06-48a0cb845d7a",
   "metadata": {},
   "outputs": [],
   "source": [
    "df_diagnoses = pd.read_csv(path_to_data + '\\hosp\\d_icd_diagnoses.csv')\n",
    "df_diagnoses = df_diagnoses[df_diagnoses['icd_version'] == 9]"
   ]
  },
  {
   "cell_type": "code",
   "execution_count": 148,
   "id": "44018918-67db-4358-bbf1-cd454b47207c",
   "metadata": {},
   "outputs": [
    {
     "data": {
      "text/html": [
       "<div>\n",
       "<style scoped>\n",
       "    .dataframe tbody tr th:only-of-type {\n",
       "        vertical-align: middle;\n",
       "    }\n",
       "\n",
       "    .dataframe tbody tr th {\n",
       "        vertical-align: top;\n",
       "    }\n",
       "\n",
       "    .dataframe thead th {\n",
       "        text-align: right;\n",
       "    }\n",
       "</style>\n",
       "<table border=\"1\" class=\"dataframe\">\n",
       "  <thead>\n",
       "    <tr style=\"text-align: right;\">\n",
       "      <th></th>\n",
       "      <th>icd_code</th>\n",
       "      <th>icd_version</th>\n",
       "      <th>long_title</th>\n",
       "    </tr>\n",
       "  </thead>\n",
       "  <tbody>\n",
       "    <tr>\n",
       "      <th>0</th>\n",
       "      <td>0010</td>\n",
       "      <td>9</td>\n",
       "      <td>Cholera due to vibrio cholerae</td>\n",
       "    </tr>\n",
       "    <tr>\n",
       "      <th>1</th>\n",
       "      <td>0011</td>\n",
       "      <td>9</td>\n",
       "      <td>Cholera due to vibrio cholerae el tor</td>\n",
       "    </tr>\n",
       "    <tr>\n",
       "      <th>2</th>\n",
       "      <td>0019</td>\n",
       "      <td>9</td>\n",
       "      <td>Cholera, unspecified</td>\n",
       "    </tr>\n",
       "    <tr>\n",
       "      <th>3</th>\n",
       "      <td>0020</td>\n",
       "      <td>9</td>\n",
       "      <td>Typhoid fever</td>\n",
       "    </tr>\n",
       "    <tr>\n",
       "      <th>4</th>\n",
       "      <td>0021</td>\n",
       "      <td>9</td>\n",
       "      <td>Paratyphoid fever A</td>\n",
       "    </tr>\n",
       "    <tr>\n",
       "      <th>...</th>\n",
       "      <td>...</td>\n",
       "      <td>...</td>\n",
       "      <td>...</td>\n",
       "    </tr>\n",
       "    <tr>\n",
       "      <th>102805</th>\n",
       "      <td>V9199</td>\n",
       "      <td>9</td>\n",
       "      <td>Other specified multiple gestation, unable to ...</td>\n",
       "    </tr>\n",
       "    <tr>\n",
       "      <th>109771</th>\n",
       "      <td>2880</td>\n",
       "      <td>9</td>\n",
       "      <td>Diseases of white blood cells</td>\n",
       "    </tr>\n",
       "    <tr>\n",
       "      <th>109772</th>\n",
       "      <td>7800</td>\n",
       "      <td>9</td>\n",
       "      <td>Alteration of consciousness</td>\n",
       "    </tr>\n",
       "    <tr>\n",
       "      <th>109773</th>\n",
       "      <td>V127</td>\n",
       "      <td>9</td>\n",
       "      <td>Personal history of digestive disease</td>\n",
       "    </tr>\n",
       "    <tr>\n",
       "      <th>109774</th>\n",
       "      <td>V581</td>\n",
       "      <td>9</td>\n",
       "      <td>Encounter for antineoplastic chemotherapy and ...</td>\n",
       "    </tr>\n",
       "  </tbody>\n",
       "</table>\n",
       "<p>14666 rows × 3 columns</p>\n",
       "</div>"
      ],
      "text/plain": [
       "       icd_code  icd_version  \\\n",
       "0          0010            9   \n",
       "1          0011            9   \n",
       "2          0019            9   \n",
       "3          0020            9   \n",
       "4          0021            9   \n",
       "...         ...          ...   \n",
       "102805    V9199            9   \n",
       "109771     2880            9   \n",
       "109772     7800            9   \n",
       "109773     V127            9   \n",
       "109774     V581            9   \n",
       "\n",
       "                                               long_title  \n",
       "0                          Cholera due to vibrio cholerae  \n",
       "1                   Cholera due to vibrio cholerae el tor  \n",
       "2                                    Cholera, unspecified  \n",
       "3                                           Typhoid fever  \n",
       "4                                     Paratyphoid fever A  \n",
       "...                                                   ...  \n",
       "102805  Other specified multiple gestation, unable to ...  \n",
       "109771                      Diseases of white blood cells  \n",
       "109772                        Alteration of consciousness  \n",
       "109773              Personal history of digestive disease  \n",
       "109774  Encounter for antineoplastic chemotherapy and ...  \n",
       "\n",
       "[14666 rows x 3 columns]"
      ]
     },
     "execution_count": 148,
     "metadata": {},
     "output_type": "execute_result"
    }
   ],
   "source": [
    "df_diagnoses"
   ]
  },
  {
   "cell_type": "code",
   "execution_count": 149,
   "id": "e7e061a5-3b7d-496b-b061-96e734b1ac40",
   "metadata": {},
   "outputs": [],
   "source": [
    "df_patdiagnoses = pd.read_csv(path_to_data + '\\hosp\\diagnoses_icd.csv')\n",
    "df_patdiagnoses = df_patdiagnoses[df_patdiagnoses['icd_version']==9]\n",
    "df_patdiagnoses = pd.merge(df_patdiagnoses, df_diagnoses, on=['icd_code'], how='inner')\n",
    "df_patdiagnoses = df_patdiagnoses[df_patdiagnoses['subject_id'] == patient_id]\n",
    "df_patdiagnoses.drop(columns=['icd_version_y'], inplace=True)"
   ]
  },
  {
   "cell_type": "code",
   "execution_count": 150,
   "id": "bf123a34-bf8f-4f22-b2cd-ca64ac0bd9bd",
   "metadata": {},
   "outputs": [
    {
     "data": {
      "text/html": [
       "<div>\n",
       "<style scoped>\n",
       "    .dataframe tbody tr th:only-of-type {\n",
       "        vertical-align: middle;\n",
       "    }\n",
       "\n",
       "    .dataframe tbody tr th {\n",
       "        vertical-align: top;\n",
       "    }\n",
       "\n",
       "    .dataframe thead th {\n",
       "        text-align: right;\n",
       "    }\n",
       "</style>\n",
       "<table border=\"1\" class=\"dataframe\">\n",
       "  <thead>\n",
       "    <tr style=\"text-align: right;\">\n",
       "      <th></th>\n",
       "      <th>subject_id</th>\n",
       "      <th>hadm_id</th>\n",
       "      <th>seq_num</th>\n",
       "      <th>icd_code</th>\n",
       "      <th>icd_version_x</th>\n",
       "      <th>long_title</th>\n",
       "    </tr>\n",
       "  </thead>\n",
       "  <tbody>\n",
       "    <tr>\n",
       "      <th>29497</th>\n",
       "      <td>10020740</td>\n",
       "      <td>23199774</td>\n",
       "      <td>6</td>\n",
       "      <td>7840</td>\n",
       "      <td>9</td>\n",
       "      <td>Headache</td>\n",
       "    </tr>\n",
       "    <tr>\n",
       "      <th>173121</th>\n",
       "      <td>10020740</td>\n",
       "      <td>25826145</td>\n",
       "      <td>12</td>\n",
       "      <td>5680</td>\n",
       "      <td>9</td>\n",
       "      <td>Peritoneal adhesions (postoperative) (postinfe...</td>\n",
       "    </tr>\n",
       "    <tr>\n",
       "      <th>307043</th>\n",
       "      <td>10020740</td>\n",
       "      <td>25826145</td>\n",
       "      <td>9</td>\n",
       "      <td>29570</td>\n",
       "      <td>9</td>\n",
       "      <td>Schizoaffective disorder, unspecified</td>\n",
       "    </tr>\n",
       "    <tr>\n",
       "      <th>307081</th>\n",
       "      <td>10020740</td>\n",
       "      <td>29820177</td>\n",
       "      <td>6</td>\n",
       "      <td>29570</td>\n",
       "      <td>9</td>\n",
       "      <td>Schizoaffective disorder, unspecified</td>\n",
       "    </tr>\n",
       "    <tr>\n",
       "      <th>307127</th>\n",
       "      <td>10020740</td>\n",
       "      <td>23199774</td>\n",
       "      <td>2</td>\n",
       "      <td>29570</td>\n",
       "      <td>9</td>\n",
       "      <td>Schizoaffective disorder, unspecified</td>\n",
       "    </tr>\n",
       "  </tbody>\n",
       "</table>\n",
       "</div>"
      ],
      "text/plain": [
       "        subject_id   hadm_id  seq_num icd_code  icd_version_x  \\\n",
       "29497     10020740  23199774        6     7840              9   \n",
       "173121    10020740  25826145       12     5680              9   \n",
       "307043    10020740  25826145        9    29570              9   \n",
       "307081    10020740  29820177        6    29570              9   \n",
       "307127    10020740  23199774        2    29570              9   \n",
       "\n",
       "                                               long_title  \n",
       "29497                                            Headache  \n",
       "173121  Peritoneal adhesions (postoperative) (postinfe...  \n",
       "307043              Schizoaffective disorder, unspecified  \n",
       "307081              Schizoaffective disorder, unspecified  \n",
       "307127              Schizoaffective disorder, unspecified  "
      ]
     },
     "execution_count": 150,
     "metadata": {},
     "output_type": "execute_result"
    }
   ],
   "source": [
    "df_patdiagnoses.head()"
   ]
  },
  {
   "cell_type": "code",
   "execution_count": 151,
   "id": "3917048f-b99b-4fce-b671-8f694664fb33",
   "metadata": {},
   "outputs": [],
   "source": [
    "patientadms = pd.merge(df_patdiagnoses, patientadm, on=['subject_id', 'hadm_id'], how='inner')"
   ]
  },
  {
   "cell_type": "code",
   "execution_count": 152,
   "id": "de89c95f-4138-4bc3-b1bc-2b4e49b2f214",
   "metadata": {},
   "outputs": [],
   "source": [
    "patientadms.sort_values(by='admittime', inplace=True)"
   ]
  },
  {
   "cell_type": "code",
   "execution_count": 153,
   "id": "c317caaa-0dd6-4ef1-8c9f-ac94c12dd567",
   "metadata": {},
   "outputs": [
    {
     "data": {
      "text/html": [
       "<div>\n",
       "<style scoped>\n",
       "    .dataframe tbody tr th:only-of-type {\n",
       "        vertical-align: middle;\n",
       "    }\n",
       "\n",
       "    .dataframe tbody tr th {\n",
       "        vertical-align: top;\n",
       "    }\n",
       "\n",
       "    .dataframe thead th {\n",
       "        text-align: right;\n",
       "    }\n",
       "</style>\n",
       "<table border=\"1\" class=\"dataframe\">\n",
       "  <thead>\n",
       "    <tr style=\"text-align: right;\">\n",
       "      <th></th>\n",
       "      <th>subject_id</th>\n",
       "      <th>hadm_id</th>\n",
       "      <th>seq_num</th>\n",
       "      <th>icd_code</th>\n",
       "      <th>icd_version_x</th>\n",
       "      <th>long_title</th>\n",
       "      <th>admittime</th>\n",
       "      <th>dischtime</th>\n",
       "      <th>admission_type</th>\n",
       "    </tr>\n",
       "  </thead>\n",
       "  <tbody>\n",
       "    <tr>\n",
       "      <th>57</th>\n",
       "      <td>10020740</td>\n",
       "      <td>23831430</td>\n",
       "      <td>24</td>\n",
       "      <td>78720</td>\n",
       "      <td>9</td>\n",
       "      <td>Dysphagia, unspecified</td>\n",
       "      <td>2150-03-11 15:34:00</td>\n",
       "      <td>2150-04-25 13:50:00</td>\n",
       "      <td>URGENT</td>\n",
       "    </tr>\n",
       "    <tr>\n",
       "      <th>54</th>\n",
       "      <td>10020740</td>\n",
       "      <td>23831430</td>\n",
       "      <td>7</td>\n",
       "      <td>2760</td>\n",
       "      <td>9</td>\n",
       "      <td>Hyperosmolality and/or hypernatremia</td>\n",
       "      <td>2150-03-11 15:34:00</td>\n",
       "      <td>2150-04-25 13:50:00</td>\n",
       "      <td>URGENT</td>\n",
       "    </tr>\n",
       "    <tr>\n",
       "      <th>56</th>\n",
       "      <td>10020740</td>\n",
       "      <td>23831430</td>\n",
       "      <td>1</td>\n",
       "      <td>03842</td>\n",
       "      <td>9</td>\n",
       "      <td>Septicemia due to escherichia coli [E. coli]</td>\n",
       "      <td>2150-03-11 15:34:00</td>\n",
       "      <td>2150-04-25 13:50:00</td>\n",
       "      <td>URGENT</td>\n",
       "    </tr>\n",
       "    <tr>\n",
       "      <th>53</th>\n",
       "      <td>10020740</td>\n",
       "      <td>23831430</td>\n",
       "      <td>6</td>\n",
       "      <td>2639</td>\n",
       "      <td>9</td>\n",
       "      <td>Unspecified protein-calorie malnutrition</td>\n",
       "      <td>2150-03-11 15:34:00</td>\n",
       "      <td>2150-04-25 13:50:00</td>\n",
       "      <td>URGENT</td>\n",
       "    </tr>\n",
       "    <tr>\n",
       "      <th>52</th>\n",
       "      <td>10020740</td>\n",
       "      <td>23831430</td>\n",
       "      <td>12</td>\n",
       "      <td>99591</td>\n",
       "      <td>9</td>\n",
       "      <td>Sepsis</td>\n",
       "      <td>2150-03-11 15:34:00</td>\n",
       "      <td>2150-04-25 13:50:00</td>\n",
       "      <td>URGENT</td>\n",
       "    </tr>\n",
       "  </tbody>\n",
       "</table>\n",
       "</div>"
      ],
      "text/plain": [
       "    subject_id   hadm_id  seq_num icd_code  icd_version_x  \\\n",
       "57    10020740  23831430       24    78720              9   \n",
       "54    10020740  23831430        7     2760              9   \n",
       "56    10020740  23831430        1    03842              9   \n",
       "53    10020740  23831430        6     2639              9   \n",
       "52    10020740  23831430       12    99591              9   \n",
       "\n",
       "                                      long_title            admittime  \\\n",
       "57                        Dysphagia, unspecified  2150-03-11 15:34:00   \n",
       "54          Hyperosmolality and/or hypernatremia  2150-03-11 15:34:00   \n",
       "56  Septicemia due to escherichia coli [E. coli]  2150-03-11 15:34:00   \n",
       "53      Unspecified protein-calorie malnutrition  2150-03-11 15:34:00   \n",
       "52                                        Sepsis  2150-03-11 15:34:00   \n",
       "\n",
       "              dischtime admission_type  \n",
       "57  2150-04-25 13:50:00         URGENT  \n",
       "54  2150-04-25 13:50:00         URGENT  \n",
       "56  2150-04-25 13:50:00         URGENT  \n",
       "53  2150-04-25 13:50:00         URGENT  \n",
       "52  2150-04-25 13:50:00         URGENT  "
      ]
     },
     "execution_count": 153,
     "metadata": {},
     "output_type": "execute_result"
    }
   ],
   "source": [
    "patientadms.head()"
   ]
  },
  {
   "cell_type": "code",
   "execution_count": 154,
   "id": "132816c5-3bd9-4494-9b3c-8fe432786cae",
   "metadata": {},
   "outputs": [],
   "source": [
    "patientadms['admittime'] = pd.to_datetime(patientadms['admittime'])\n",
    "patientadms['dischtime'] = pd.to_datetime(patientadms['dischtime'])"
   ]
  },
  {
   "cell_type": "code",
   "execution_count": 155,
   "id": "a0acbc55-e18f-4074-859b-aae750cc35c9",
   "metadata": {},
   "outputs": [],
   "source": [
    "patientadms['time_stay'] = abs(patientadms['admittime'] - patientadms['dischtime']).apply(lambda x: x.days)"
   ]
  },
  {
   "cell_type": "code",
   "execution_count": 156,
   "id": "8b6c5574-5b94-4708-b6c5-9d1377f41d6f",
   "metadata": {},
   "outputs": [
    {
     "data": {
      "text/html": [
       "<div>\n",
       "<style scoped>\n",
       "    .dataframe tbody tr th:only-of-type {\n",
       "        vertical-align: middle;\n",
       "    }\n",
       "\n",
       "    .dataframe tbody tr th {\n",
       "        vertical-align: top;\n",
       "    }\n",
       "\n",
       "    .dataframe thead th {\n",
       "        text-align: right;\n",
       "    }\n",
       "</style>\n",
       "<table border=\"1\" class=\"dataframe\">\n",
       "  <thead>\n",
       "    <tr style=\"text-align: right;\">\n",
       "      <th></th>\n",
       "      <th>subject_id</th>\n",
       "      <th>hadm_id</th>\n",
       "      <th>seq_num</th>\n",
       "      <th>icd_code</th>\n",
       "      <th>icd_version_x</th>\n",
       "      <th>long_title</th>\n",
       "      <th>admittime</th>\n",
       "      <th>dischtime</th>\n",
       "      <th>admission_type</th>\n",
       "      <th>time_stay</th>\n",
       "    </tr>\n",
       "  </thead>\n",
       "  <tbody>\n",
       "    <tr>\n",
       "      <th>57</th>\n",
       "      <td>10020740</td>\n",
       "      <td>23831430</td>\n",
       "      <td>24</td>\n",
       "      <td>78720</td>\n",
       "      <td>9</td>\n",
       "      <td>Dysphagia, unspecified</td>\n",
       "      <td>2150-03-11 15:34:00</td>\n",
       "      <td>2150-04-25 13:50:00</td>\n",
       "      <td>URGENT</td>\n",
       "      <td>44</td>\n",
       "    </tr>\n",
       "    <tr>\n",
       "      <th>54</th>\n",
       "      <td>10020740</td>\n",
       "      <td>23831430</td>\n",
       "      <td>7</td>\n",
       "      <td>2760</td>\n",
       "      <td>9</td>\n",
       "      <td>Hyperosmolality and/or hypernatremia</td>\n",
       "      <td>2150-03-11 15:34:00</td>\n",
       "      <td>2150-04-25 13:50:00</td>\n",
       "      <td>URGENT</td>\n",
       "      <td>44</td>\n",
       "    </tr>\n",
       "  </tbody>\n",
       "</table>\n",
       "</div>"
      ],
      "text/plain": [
       "    subject_id   hadm_id  seq_num icd_code  icd_version_x  \\\n",
       "57    10020740  23831430       24    78720              9   \n",
       "54    10020740  23831430        7     2760              9   \n",
       "\n",
       "                              long_title           admittime  \\\n",
       "57                Dysphagia, unspecified 2150-03-11 15:34:00   \n",
       "54  Hyperosmolality and/or hypernatremia 2150-03-11 15:34:00   \n",
       "\n",
       "             dischtime admission_type  time_stay  \n",
       "57 2150-04-25 13:50:00         URGENT         44  \n",
       "54 2150-04-25 13:50:00         URGENT         44  "
      ]
     },
     "execution_count": 156,
     "metadata": {},
     "output_type": "execute_result"
    }
   ],
   "source": [
    "patientadms.head(2)"
   ]
  },
  {
   "cell_type": "markdown",
   "id": "f6e1c05d-dee6-4558-8294-69f157271f5e",
   "metadata": {},
   "source": [
    "##### Get prescriptions for each admission"
   ]
  },
  {
   "cell_type": "code",
   "execution_count": 157,
   "id": "f9dd37e5-0dc8-41cd-8697-b776c5becf2e",
   "metadata": {},
   "outputs": [
    {
     "name": "stderr",
     "output_type": "stream",
     "text": [
      "C:\\Users\\Johan\\anaconda3\\envs\\spark_env\\lib\\site-packages\\IPython\\core\\interactiveshell.py:3444: DtypeWarning:\n",
      "\n",
      "Columns (7) have mixed types.Specify dtype option on import or set low_memory=False.\n",
      "\n"
     ]
    }
   ],
   "source": [
    "df_prescriptions = pd.read_csv(path_to_data + '\\hosp\\prescriptions.csv')"
   ]
  },
  {
   "cell_type": "code",
   "execution_count": 158,
   "id": "dc50762c-0da3-409f-b154-08d00d19c9cb",
   "metadata": {},
   "outputs": [
    {
     "data": {
      "text/html": [
       "<div>\n",
       "<style scoped>\n",
       "    .dataframe tbody tr th:only-of-type {\n",
       "        vertical-align: middle;\n",
       "    }\n",
       "\n",
       "    .dataframe tbody tr th {\n",
       "        vertical-align: top;\n",
       "    }\n",
       "\n",
       "    .dataframe thead th {\n",
       "        text-align: right;\n",
       "    }\n",
       "</style>\n",
       "<table border=\"1\" class=\"dataframe\">\n",
       "  <thead>\n",
       "    <tr style=\"text-align: right;\">\n",
       "      <th></th>\n",
       "      <th>subject_id</th>\n",
       "      <th>hadm_id</th>\n",
       "      <th>pharmacy_id</th>\n",
       "      <th>starttime</th>\n",
       "      <th>stoptime</th>\n",
       "      <th>drug_type</th>\n",
       "      <th>drug</th>\n",
       "      <th>gsn</th>\n",
       "      <th>ndc</th>\n",
       "      <th>prod_strength</th>\n",
       "      <th>form_rx</th>\n",
       "      <th>dose_val_rx</th>\n",
       "      <th>dose_unit_rx</th>\n",
       "      <th>form_val_disp</th>\n",
       "      <th>form_unit_disp</th>\n",
       "      <th>doses_per_24_hrs</th>\n",
       "      <th>route</th>\n",
       "    </tr>\n",
       "  </thead>\n",
       "  <tbody>\n",
       "    <tr>\n",
       "      <th>0</th>\n",
       "      <td>17868682</td>\n",
       "      <td>22726960</td>\n",
       "      <td>73313910</td>\n",
       "      <td>2160-01-07 08:00:00</td>\n",
       "      <td>2160-01-07 21:00:00</td>\n",
       "      <td>MAIN</td>\n",
       "      <td>BuPROPion (Sustained Release)</td>\n",
       "      <td>046238</td>\n",
       "      <td>591083960.0</td>\n",
       "      <td>150mg SR Tablet</td>\n",
       "      <td>NaN</td>\n",
       "      <td>300</td>\n",
       "      <td>mg</td>\n",
       "      <td>2</td>\n",
       "      <td>TAB</td>\n",
       "      <td>1.0</td>\n",
       "      <td>PO</td>\n",
       "    </tr>\n",
       "  </tbody>\n",
       "</table>\n",
       "</div>"
      ],
      "text/plain": [
       "   subject_id   hadm_id  pharmacy_id            starttime  \\\n",
       "0    17868682  22726960     73313910  2160-01-07 08:00:00   \n",
       "\n",
       "              stoptime drug_type                           drug     gsn  \\\n",
       "0  2160-01-07 21:00:00      MAIN  BuPROPion (Sustained Release)  046238   \n",
       "\n",
       "           ndc    prod_strength form_rx dose_val_rx dose_unit_rx  \\\n",
       "0  591083960.0  150mg SR Tablet     NaN         300           mg   \n",
       "\n",
       "  form_val_disp form_unit_disp  doses_per_24_hrs route  \n",
       "0             2            TAB               1.0    PO  "
      ]
     },
     "execution_count": 158,
     "metadata": {},
     "output_type": "execute_result"
    }
   ],
   "source": [
    "df_prescriptions.head(1)"
   ]
  },
  {
   "cell_type": "code",
   "execution_count": 159,
   "id": "04424c7e-6db0-4299-98f0-8083bdb6f017",
   "metadata": {},
   "outputs": [
    {
     "data": {
      "text/plain": [
       "10020740"
      ]
     },
     "execution_count": 159,
     "metadata": {},
     "output_type": "execute_result"
    }
   ],
   "source": [
    "patient_id"
   ]
  },
  {
   "cell_type": "code",
   "execution_count": 160,
   "id": "6962ebbd-0967-4b3a-b0b9-9aa2ae08098f",
   "metadata": {},
   "outputs": [],
   "source": [
    "df_patpresc = df_prescriptions[df_prescriptions['subject_id'] == patient_id]"
   ]
  },
  {
   "cell_type": "markdown",
   "id": "a0d16a98-f2f7-4df0-971f-64700f9bf735",
   "metadata": {
    "tags": []
   },
   "source": [
    "##### Get labevents for each admission"
   ]
  },
  {
   "cell_type": "code",
   "execution_count": 161,
   "id": "b21de614-2109-4d56-a886-ef5911286cb9",
   "metadata": {},
   "outputs": [],
   "source": [
    "#df_labevents = spark.read.load(path_to_data + '\\hosp\\labevents.csv', format=\"csv\", sep=\",\", inferSchema=\"true\", header=\"true\")"
   ]
  },
  {
   "cell_type": "code",
   "execution_count": 162,
   "id": "438a718f-b6c6-4264-8df2-3c3c477bc06c",
   "metadata": {},
   "outputs": [],
   "source": [
    "#df_labevents.show(2)"
   ]
  },
  {
   "cell_type": "markdown",
   "id": "0ff8118a-cff0-4797-8fa0-606d32cebec8",
   "metadata": {},
   "source": [
    "##### Get procedures for each admission"
   ]
  },
  {
   "cell_type": "code",
   "execution_count": 163,
   "id": "6a4a620a-80dc-4dc4-8a6d-f038fa30d6e0",
   "metadata": {},
   "outputs": [],
   "source": [
    "df_procedures = pd.read_csv(path_to_data + '\\hosp\\procedures_icd.csv')\n",
    "df_icd_procedures = pd.read_csv(path_to_data + '\\hosp\\d_icd_procedures.csv')"
   ]
  },
  {
   "cell_type": "code",
   "execution_count": 164,
   "id": "f54dd78b-6a5d-48fc-b7d5-7e68c4bfd71d",
   "metadata": {},
   "outputs": [],
   "source": [
    "df_procedurespat = df_procedures[df_procedures['subject_id'] == patient_id]\n",
    "df_icd_procedures[df_icd_procedures['icd_version'] == 9]\n",
    "\n",
    "df_procedurespat = pd.merge(df_procedurespat, df_icd_procedures, on='icd_code')\n",
    "df_procedurespat.drop(columns=['icd_version_x'], inplace=True)"
   ]
  },
  {
   "cell_type": "code",
   "execution_count": 165,
   "id": "a743af61-50b2-4501-bf19-55e664ba93f9",
   "metadata": {},
   "outputs": [
    {
     "data": {
      "text/html": [
       "<div>\n",
       "<style scoped>\n",
       "    .dataframe tbody tr th:only-of-type {\n",
       "        vertical-align: middle;\n",
       "    }\n",
       "\n",
       "    .dataframe tbody tr th {\n",
       "        vertical-align: top;\n",
       "    }\n",
       "\n",
       "    .dataframe thead th {\n",
       "        text-align: right;\n",
       "    }\n",
       "</style>\n",
       "<table border=\"1\" class=\"dataframe\">\n",
       "  <thead>\n",
       "    <tr style=\"text-align: right;\">\n",
       "      <th></th>\n",
       "      <th>subject_id</th>\n",
       "      <th>hadm_id</th>\n",
       "      <th>seq_num</th>\n",
       "      <th>chartdate</th>\n",
       "      <th>icd_code</th>\n",
       "      <th>icd_version_y</th>\n",
       "      <th>long_title</th>\n",
       "    </tr>\n",
       "  </thead>\n",
       "  <tbody>\n",
       "    <tr>\n",
       "      <th>0</th>\n",
       "      <td>10020740</td>\n",
       "      <td>23831430</td>\n",
       "      <td>12</td>\n",
       "      <td>2150-04-20</td>\n",
       "      <td>9427</td>\n",
       "      <td>9</td>\n",
       "      <td>Other electroshock therapy</td>\n",
       "    </tr>\n",
       "    <tr>\n",
       "      <th>1</th>\n",
       "      <td>10020740</td>\n",
       "      <td>23831430</td>\n",
       "      <td>6</td>\n",
       "      <td>2150-03-27</td>\n",
       "      <td>9427</td>\n",
       "      <td>9</td>\n",
       "      <td>Other electroshock therapy</td>\n",
       "    </tr>\n",
       "    <tr>\n",
       "      <th>2</th>\n",
       "      <td>10020740</td>\n",
       "      <td>23831430</td>\n",
       "      <td>7</td>\n",
       "      <td>2150-04-01</td>\n",
       "      <td>9427</td>\n",
       "      <td>9</td>\n",
       "      <td>Other electroshock therapy</td>\n",
       "    </tr>\n",
       "    <tr>\n",
       "      <th>3</th>\n",
       "      <td>10020740</td>\n",
       "      <td>23831430</td>\n",
       "      <td>8</td>\n",
       "      <td>2150-04-03</td>\n",
       "      <td>9427</td>\n",
       "      <td>9</td>\n",
       "      <td>Other electroshock therapy</td>\n",
       "    </tr>\n",
       "    <tr>\n",
       "      <th>4</th>\n",
       "      <td>10020740</td>\n",
       "      <td>23831430</td>\n",
       "      <td>9</td>\n",
       "      <td>2150-04-06</td>\n",
       "      <td>9427</td>\n",
       "      <td>9</td>\n",
       "      <td>Other electroshock therapy</td>\n",
       "    </tr>\n",
       "  </tbody>\n",
       "</table>\n",
       "</div>"
      ],
      "text/plain": [
       "   subject_id   hadm_id  seq_num   chartdate icd_code  icd_version_y  \\\n",
       "0    10020740  23831430       12  2150-04-20     9427              9   \n",
       "1    10020740  23831430        6  2150-03-27     9427              9   \n",
       "2    10020740  23831430        7  2150-04-01     9427              9   \n",
       "3    10020740  23831430        8  2150-04-03     9427              9   \n",
       "4    10020740  23831430        9  2150-04-06     9427              9   \n",
       "\n",
       "                   long_title  \n",
       "0  Other electroshock therapy  \n",
       "1  Other electroshock therapy  \n",
       "2  Other electroshock therapy  \n",
       "3  Other electroshock therapy  \n",
       "4  Other electroshock therapy  "
      ]
     },
     "execution_count": 165,
     "metadata": {},
     "output_type": "execute_result"
    }
   ],
   "source": [
    "df_procedurespat.head()"
   ]
  },
  {
   "cell_type": "markdown",
   "id": "85cc799e-8e1f-44ff-97d6-6cdd4842e028",
   "metadata": {},
   "source": [
    "##### Get ICU stays for each admission"
   ]
  },
  {
   "cell_type": "code",
   "execution_count": 166,
   "id": "ccb4e46c-2aa7-490b-a1c2-c63367c4f611",
   "metadata": {},
   "outputs": [
    {
     "data": {
      "text/html": [
       "<div>\n",
       "<style scoped>\n",
       "    .dataframe tbody tr th:only-of-type {\n",
       "        vertical-align: middle;\n",
       "    }\n",
       "\n",
       "    .dataframe tbody tr th {\n",
       "        vertical-align: top;\n",
       "    }\n",
       "\n",
       "    .dataframe thead th {\n",
       "        text-align: right;\n",
       "    }\n",
       "</style>\n",
       "<table border=\"1\" class=\"dataframe\">\n",
       "  <thead>\n",
       "    <tr style=\"text-align: right;\">\n",
       "      <th></th>\n",
       "      <th>subject_id</th>\n",
       "      <th>hadm_id</th>\n",
       "      <th>stay_id</th>\n",
       "      <th>first_careunit</th>\n",
       "      <th>last_careunit</th>\n",
       "      <th>intime</th>\n",
       "      <th>outtime</th>\n",
       "      <th>los</th>\n",
       "    </tr>\n",
       "  </thead>\n",
       "  <tbody>\n",
       "    <tr>\n",
       "      <th>0</th>\n",
       "      <td>17867402</td>\n",
       "      <td>24528534</td>\n",
       "      <td>31793211</td>\n",
       "      <td>Trauma SICU (TSICU)</td>\n",
       "      <td>Trauma SICU (TSICU)</td>\n",
       "      <td>2154-03-03 04:11:00</td>\n",
       "      <td>2154-03-04 18:16:56</td>\n",
       "      <td>1.587454</td>\n",
       "    </tr>\n",
       "    <tr>\n",
       "      <th>1</th>\n",
       "      <td>14435996</td>\n",
       "      <td>28960964</td>\n",
       "      <td>31983544</td>\n",
       "      <td>Trauma SICU (TSICU)</td>\n",
       "      <td>Trauma SICU (TSICU)</td>\n",
       "      <td>2150-06-19 17:57:00</td>\n",
       "      <td>2150-06-22 18:33:54</td>\n",
       "      <td>3.025625</td>\n",
       "    </tr>\n",
       "    <tr>\n",
       "      <th>2</th>\n",
       "      <td>17609946</td>\n",
       "      <td>27385897</td>\n",
       "      <td>33183475</td>\n",
       "      <td>Trauma SICU (TSICU)</td>\n",
       "      <td>Trauma SICU (TSICU)</td>\n",
       "      <td>2138-02-05 18:54:00</td>\n",
       "      <td>2138-02-15 12:42:05</td>\n",
       "      <td>9.741725</td>\n",
       "    </tr>\n",
       "    <tr>\n",
       "      <th>3</th>\n",
       "      <td>18966770</td>\n",
       "      <td>23483021</td>\n",
       "      <td>34131444</td>\n",
       "      <td>Trauma SICU (TSICU)</td>\n",
       "      <td>Trauma SICU (TSICU)</td>\n",
       "      <td>2123-10-25 10:35:00</td>\n",
       "      <td>2123-10-25 18:59:47</td>\n",
       "      <td>0.350544</td>\n",
       "    </tr>\n",
       "    <tr>\n",
       "      <th>4</th>\n",
       "      <td>12776735</td>\n",
       "      <td>20817525</td>\n",
       "      <td>34547665</td>\n",
       "      <td>Neuro Stepdown</td>\n",
       "      <td>Neuro Stepdown</td>\n",
       "      <td>2200-07-12 00:33:00</td>\n",
       "      <td>2200-07-13 16:44:40</td>\n",
       "      <td>1.674769</td>\n",
       "    </tr>\n",
       "  </tbody>\n",
       "</table>\n",
       "</div>"
      ],
      "text/plain": [
       "   subject_id   hadm_id   stay_id       first_careunit        last_careunit  \\\n",
       "0    17867402  24528534  31793211  Trauma SICU (TSICU)  Trauma SICU (TSICU)   \n",
       "1    14435996  28960964  31983544  Trauma SICU (TSICU)  Trauma SICU (TSICU)   \n",
       "2    17609946  27385897  33183475  Trauma SICU (TSICU)  Trauma SICU (TSICU)   \n",
       "3    18966770  23483021  34131444  Trauma SICU (TSICU)  Trauma SICU (TSICU)   \n",
       "4    12776735  20817525  34547665       Neuro Stepdown       Neuro Stepdown   \n",
       "\n",
       "                intime              outtime       los  \n",
       "0  2154-03-03 04:11:00  2154-03-04 18:16:56  1.587454  \n",
       "1  2150-06-19 17:57:00  2150-06-22 18:33:54  3.025625  \n",
       "2  2138-02-05 18:54:00  2138-02-15 12:42:05  9.741725  \n",
       "3  2123-10-25 10:35:00  2123-10-25 18:59:47  0.350544  \n",
       "4  2200-07-12 00:33:00  2200-07-13 16:44:40  1.674769  "
      ]
     },
     "execution_count": 166,
     "metadata": {},
     "output_type": "execute_result"
    }
   ],
   "source": [
    "df_icustays = pd.read_csv(path_to_data + '\\icu\\icustays.csv')\n",
    "df_icustays.head()"
   ]
  },
  {
   "cell_type": "code",
   "execution_count": 167,
   "id": "6e8d7377-02cc-4788-b4f4-df326705f7f7",
   "metadata": {},
   "outputs": [],
   "source": [
    "df_paticustatys = df_icustays[df_icustays['subject_id'] == patient_id]"
   ]
  },
  {
   "cell_type": "markdown",
   "id": "2b040695-6fa3-4b91-a958-8b2a13e42f19",
   "metadata": {},
   "source": [
    "##### Get procedures during icu stays for each admission"
   ]
  },
  {
   "cell_type": "code",
   "execution_count": 168,
   "id": "93bdc4d6-a2d4-4c49-b5d3-62327d0f63d4",
   "metadata": {},
   "outputs": [
    {
     "data": {
      "text/html": [
       "<div>\n",
       "<style scoped>\n",
       "    .dataframe tbody tr th:only-of-type {\n",
       "        vertical-align: middle;\n",
       "    }\n",
       "\n",
       "    .dataframe tbody tr th {\n",
       "        vertical-align: top;\n",
       "    }\n",
       "\n",
       "    .dataframe thead th {\n",
       "        text-align: right;\n",
       "    }\n",
       "</style>\n",
       "<table border=\"1\" class=\"dataframe\">\n",
       "  <thead>\n",
       "    <tr style=\"text-align: right;\">\n",
       "      <th></th>\n",
       "      <th>subject_id</th>\n",
       "      <th>hadm_id</th>\n",
       "      <th>stay_id</th>\n",
       "      <th>starttime</th>\n",
       "      <th>endtime</th>\n",
       "      <th>storetime</th>\n",
       "      <th>itemid</th>\n",
       "      <th>value</th>\n",
       "      <th>valueuom</th>\n",
       "      <th>location</th>\n",
       "      <th>...</th>\n",
       "      <th>patientweight</th>\n",
       "      <th>totalamount</th>\n",
       "      <th>totalamountuom</th>\n",
       "      <th>isopenbag</th>\n",
       "      <th>continueinnextdept</th>\n",
       "      <th>cancelreason</th>\n",
       "      <th>statusdescription</th>\n",
       "      <th>comments_date</th>\n",
       "      <th>originalamount</th>\n",
       "      <th>originalrate</th>\n",
       "    </tr>\n",
       "  </thead>\n",
       "  <tbody>\n",
       "    <tr>\n",
       "      <th>0</th>\n",
       "      <td>15693895</td>\n",
       "      <td>21203492</td>\n",
       "      <td>30500789</td>\n",
       "      <td>2147-06-05 11:25:00</td>\n",
       "      <td>2147-06-05 11:26:00</td>\n",
       "      <td>2147-06-06 11:25:00</td>\n",
       "      <td>225399</td>\n",
       "      <td>1.0</td>\n",
       "      <td>None</td>\n",
       "      <td>NaN</td>\n",
       "      <td>...</td>\n",
       "      <td>80.0</td>\n",
       "      <td>NaN</td>\n",
       "      <td>NaN</td>\n",
       "      <td>0</td>\n",
       "      <td>0</td>\n",
       "      <td>0</td>\n",
       "      <td>FinishedRunning</td>\n",
       "      <td>NaN</td>\n",
       "      <td>1.0</td>\n",
       "      <td>0</td>\n",
       "    </tr>\n",
       "    <tr>\n",
       "      <th>1</th>\n",
       "      <td>15693895</td>\n",
       "      <td>21203492</td>\n",
       "      <td>30500789</td>\n",
       "      <td>2147-06-05 22:00:00</td>\n",
       "      <td>2147-06-05 22:01:00</td>\n",
       "      <td>2147-06-06 11:25:00</td>\n",
       "      <td>224385</td>\n",
       "      <td>1.0</td>\n",
       "      <td>None</td>\n",
       "      <td>NaN</td>\n",
       "      <td>...</td>\n",
       "      <td>80.0</td>\n",
       "      <td>NaN</td>\n",
       "      <td>NaN</td>\n",
       "      <td>0</td>\n",
       "      <td>0</td>\n",
       "      <td>0</td>\n",
       "      <td>FinishedRunning</td>\n",
       "      <td>NaN</td>\n",
       "      <td>1.0</td>\n",
       "      <td>0</td>\n",
       "    </tr>\n",
       "    <tr>\n",
       "      <th>2</th>\n",
       "      <td>12481680</td>\n",
       "      <td>26876606</td>\n",
       "      <td>30863119</td>\n",
       "      <td>2141-01-23 12:00:00</td>\n",
       "      <td>2141-01-23 18:33:00</td>\n",
       "      <td>2141-01-23 18:33:51.14</td>\n",
       "      <td>224275</td>\n",
       "      <td>393.0</td>\n",
       "      <td>min</td>\n",
       "      <td>NaN</td>\n",
       "      <td>...</td>\n",
       "      <td>123.0</td>\n",
       "      <td>NaN</td>\n",
       "      <td>NaN</td>\n",
       "      <td>1</td>\n",
       "      <td>0</td>\n",
       "      <td>0</td>\n",
       "      <td>FinishedRunning</td>\n",
       "      <td>NaN</td>\n",
       "      <td>393.0</td>\n",
       "      <td>1</td>\n",
       "    </tr>\n",
       "    <tr>\n",
       "      <th>3</th>\n",
       "      <td>12481680</td>\n",
       "      <td>26876606</td>\n",
       "      <td>30863119</td>\n",
       "      <td>2141-01-23 12:00:00</td>\n",
       "      <td>2141-01-23 18:33:00</td>\n",
       "      <td>2141-01-23 18:33:51.14</td>\n",
       "      <td>224275</td>\n",
       "      <td>393.0</td>\n",
       "      <td>min</td>\n",
       "      <td>NaN</td>\n",
       "      <td>...</td>\n",
       "      <td>123.0</td>\n",
       "      <td>NaN</td>\n",
       "      <td>NaN</td>\n",
       "      <td>1</td>\n",
       "      <td>0</td>\n",
       "      <td>0</td>\n",
       "      <td>FinishedRunning</td>\n",
       "      <td>NaN</td>\n",
       "      <td>393.0</td>\n",
       "      <td>1</td>\n",
       "    </tr>\n",
       "    <tr>\n",
       "      <th>4</th>\n",
       "      <td>15614172</td>\n",
       "      <td>27424463</td>\n",
       "      <td>33484414</td>\n",
       "      <td>2153-07-29 18:13:00</td>\n",
       "      <td>2153-07-31 01:25:00</td>\n",
       "      <td>2153-07-31 01:26:00</td>\n",
       "      <td>224277</td>\n",
       "      <td>1872.0</td>\n",
       "      <td>min</td>\n",
       "      <td>RL Post Forearm</td>\n",
       "      <td>...</td>\n",
       "      <td>71.6</td>\n",
       "      <td>NaN</td>\n",
       "      <td>NaN</td>\n",
       "      <td>1</td>\n",
       "      <td>1</td>\n",
       "      <td>0</td>\n",
       "      <td>FinishedRunning</td>\n",
       "      <td>NaN</td>\n",
       "      <td>1872.0</td>\n",
       "      <td>1</td>\n",
       "    </tr>\n",
       "  </tbody>\n",
       "</table>\n",
       "<p>5 rows × 26 columns</p>\n",
       "</div>"
      ],
      "text/plain": [
       "   subject_id   hadm_id   stay_id            starttime              endtime  \\\n",
       "0    15693895  21203492  30500789  2147-06-05 11:25:00  2147-06-05 11:26:00   \n",
       "1    15693895  21203492  30500789  2147-06-05 22:00:00  2147-06-05 22:01:00   \n",
       "2    12481680  26876606  30863119  2141-01-23 12:00:00  2141-01-23 18:33:00   \n",
       "3    12481680  26876606  30863119  2141-01-23 12:00:00  2141-01-23 18:33:00   \n",
       "4    15614172  27424463  33484414  2153-07-29 18:13:00  2153-07-31 01:25:00   \n",
       "\n",
       "                storetime  itemid   value valueuom         location  ...  \\\n",
       "0     2147-06-06 11:25:00  225399     1.0     None              NaN  ...   \n",
       "1     2147-06-06 11:25:00  224385     1.0     None              NaN  ...   \n",
       "2  2141-01-23 18:33:51.14  224275   393.0      min              NaN  ...   \n",
       "3  2141-01-23 18:33:51.14  224275   393.0      min              NaN  ...   \n",
       "4     2153-07-31 01:26:00  224277  1872.0      min  RL Post Forearm  ...   \n",
       "\n",
       "  patientweight  totalamount  totalamountuom isopenbag  continueinnextdept  \\\n",
       "0          80.0          NaN             NaN         0                   0   \n",
       "1          80.0          NaN             NaN         0                   0   \n",
       "2         123.0          NaN             NaN         1                   0   \n",
       "3         123.0          NaN             NaN         1                   0   \n",
       "4          71.6          NaN             NaN         1                   1   \n",
       "\n",
       "  cancelreason  statusdescription  comments_date  originalamount  originalrate  \n",
       "0            0    FinishedRunning            NaN             1.0             0  \n",
       "1            0    FinishedRunning            NaN             1.0             0  \n",
       "2            0    FinishedRunning            NaN           393.0             1  \n",
       "3            0    FinishedRunning            NaN           393.0             1  \n",
       "4            0    FinishedRunning            NaN          1872.0             1  \n",
       "\n",
       "[5 rows x 26 columns]"
      ]
     },
     "execution_count": 168,
     "metadata": {},
     "output_type": "execute_result"
    }
   ],
   "source": [
    "df_procicu = pd.read_csv(path_to_data + '\\icu\\procedureevents.csv')\n",
    "df_procicu.head()"
   ]
  },
  {
   "cell_type": "code",
   "execution_count": 169,
   "id": "133b7d61-a49e-4849-a21c-0526d5778149",
   "metadata": {},
   "outputs": [
    {
     "data": {
      "text/html": [
       "<div>\n",
       "<style scoped>\n",
       "    .dataframe tbody tr th:only-of-type {\n",
       "        vertical-align: middle;\n",
       "    }\n",
       "\n",
       "    .dataframe tbody tr th {\n",
       "        vertical-align: top;\n",
       "    }\n",
       "\n",
       "    .dataframe thead th {\n",
       "        text-align: right;\n",
       "    }\n",
       "</style>\n",
       "<table border=\"1\" class=\"dataframe\">\n",
       "  <thead>\n",
       "    <tr style=\"text-align: right;\">\n",
       "      <th></th>\n",
       "      <th>subject_id</th>\n",
       "      <th>hadm_id</th>\n",
       "      <th>stay_id</th>\n",
       "      <th>starttime</th>\n",
       "      <th>endtime</th>\n",
       "      <th>storetime</th>\n",
       "      <th>itemid</th>\n",
       "      <th>value</th>\n",
       "      <th>valueuom</th>\n",
       "      <th>location</th>\n",
       "      <th>...</th>\n",
       "      <th>patientweight</th>\n",
       "      <th>totalamount</th>\n",
       "      <th>totalamountuom</th>\n",
       "      <th>isopenbag</th>\n",
       "      <th>continueinnextdept</th>\n",
       "      <th>cancelreason</th>\n",
       "      <th>statusdescription</th>\n",
       "      <th>comments_date</th>\n",
       "      <th>originalamount</th>\n",
       "      <th>originalrate</th>\n",
       "    </tr>\n",
       "  </thead>\n",
       "  <tbody>\n",
       "    <tr>\n",
       "      <th>503778</th>\n",
       "      <td>10020740</td>\n",
       "      <td>23831430</td>\n",
       "      <td>35026312</td>\n",
       "      <td>2150-03-11 15:45:00</td>\n",
       "      <td>2150-03-12 18:15:00</td>\n",
       "      <td>2150-03-12 18:35:00</td>\n",
       "      <td>225792</td>\n",
       "      <td>1590.0</td>\n",
       "      <td>min</td>\n",
       "      <td>NaN</td>\n",
       "      <td>...</td>\n",
       "      <td>1.0</td>\n",
       "      <td>NaN</td>\n",
       "      <td>NaN</td>\n",
       "      <td>1</td>\n",
       "      <td>0</td>\n",
       "      <td>0</td>\n",
       "      <td>FinishedRunning</td>\n",
       "      <td>NaN</td>\n",
       "      <td>1590.0</td>\n",
       "      <td>1</td>\n",
       "    </tr>\n",
       "    <tr>\n",
       "      <th>503779</th>\n",
       "      <td>10020740</td>\n",
       "      <td>23831430</td>\n",
       "      <td>35026312</td>\n",
       "      <td>2150-03-11 16:00:00</td>\n",
       "      <td>2150-03-12 22:32:00</td>\n",
       "      <td>2150-03-12 22:33:00</td>\n",
       "      <td>224275</td>\n",
       "      <td>1832.0</td>\n",
       "      <td>min</td>\n",
       "      <td>Left Accessory Basilic</td>\n",
       "      <td>...</td>\n",
       "      <td>1.0</td>\n",
       "      <td>NaN</td>\n",
       "      <td>NaN</td>\n",
       "      <td>1</td>\n",
       "      <td>0</td>\n",
       "      <td>0</td>\n",
       "      <td>FinishedRunning</td>\n",
       "      <td>NaN</td>\n",
       "      <td>1832.0</td>\n",
       "      <td>1</td>\n",
       "    </tr>\n",
       "    <tr>\n",
       "      <th>503780</th>\n",
       "      <td>10020740</td>\n",
       "      <td>23831430</td>\n",
       "      <td>35026312</td>\n",
       "      <td>2150-03-11 16:00:00</td>\n",
       "      <td>2150-03-19 02:17:00</td>\n",
       "      <td>2150-03-19 02:17:50.33</td>\n",
       "      <td>224264</td>\n",
       "      <td>10697.0</td>\n",
       "      <td>min</td>\n",
       "      <td>NaN</td>\n",
       "      <td>...</td>\n",
       "      <td>1.0</td>\n",
       "      <td>NaN</td>\n",
       "      <td>NaN</td>\n",
       "      <td>1</td>\n",
       "      <td>0</td>\n",
       "      <td>0</td>\n",
       "      <td>FinishedRunning</td>\n",
       "      <td>NaN</td>\n",
       "      <td>10697.0</td>\n",
       "      <td>1</td>\n",
       "    </tr>\n",
       "    <tr>\n",
       "      <th>503781</th>\n",
       "      <td>10020740</td>\n",
       "      <td>23831430</td>\n",
       "      <td>35026312</td>\n",
       "      <td>2150-03-11 16:15:00</td>\n",
       "      <td>2150-03-11 16:16:00</td>\n",
       "      <td>2150-03-11 16:34:00</td>\n",
       "      <td>225459</td>\n",
       "      <td>1.0</td>\n",
       "      <td>None</td>\n",
       "      <td>NaN</td>\n",
       "      <td>...</td>\n",
       "      <td>1.0</td>\n",
       "      <td>NaN</td>\n",
       "      <td>NaN</td>\n",
       "      <td>0</td>\n",
       "      <td>0</td>\n",
       "      <td>0</td>\n",
       "      <td>FinishedRunning</td>\n",
       "      <td>NaN</td>\n",
       "      <td>1.0</td>\n",
       "      <td>0</td>\n",
       "    </tr>\n",
       "    <tr>\n",
       "      <th>503782</th>\n",
       "      <td>10020740</td>\n",
       "      <td>23831430</td>\n",
       "      <td>35026312</td>\n",
       "      <td>2150-03-11 16:53:00</td>\n",
       "      <td>2150-03-11 16:54:00</td>\n",
       "      <td>2150-03-11 16:53:00</td>\n",
       "      <td>225966</td>\n",
       "      <td>1.0</td>\n",
       "      <td>None</td>\n",
       "      <td>NaN</td>\n",
       "      <td>...</td>\n",
       "      <td>1.0</td>\n",
       "      <td>NaN</td>\n",
       "      <td>NaN</td>\n",
       "      <td>0</td>\n",
       "      <td>0</td>\n",
       "      <td>0</td>\n",
       "      <td>FinishedRunning</td>\n",
       "      <td>NaN</td>\n",
       "      <td>1.0</td>\n",
       "      <td>0</td>\n",
       "    </tr>\n",
       "  </tbody>\n",
       "</table>\n",
       "<p>5 rows × 26 columns</p>\n",
       "</div>"
      ],
      "text/plain": [
       "        subject_id   hadm_id   stay_id            starttime  \\\n",
       "503778    10020740  23831430  35026312  2150-03-11 15:45:00   \n",
       "503779    10020740  23831430  35026312  2150-03-11 16:00:00   \n",
       "503780    10020740  23831430  35026312  2150-03-11 16:00:00   \n",
       "503781    10020740  23831430  35026312  2150-03-11 16:15:00   \n",
       "503782    10020740  23831430  35026312  2150-03-11 16:53:00   \n",
       "\n",
       "                    endtime               storetime  itemid    value valueuom  \\\n",
       "503778  2150-03-12 18:15:00     2150-03-12 18:35:00  225792   1590.0      min   \n",
       "503779  2150-03-12 22:32:00     2150-03-12 22:33:00  224275   1832.0      min   \n",
       "503780  2150-03-19 02:17:00  2150-03-19 02:17:50.33  224264  10697.0      min   \n",
       "503781  2150-03-11 16:16:00     2150-03-11 16:34:00  225459      1.0     None   \n",
       "503782  2150-03-11 16:54:00     2150-03-11 16:53:00  225966      1.0     None   \n",
       "\n",
       "                      location  ... patientweight  totalamount  \\\n",
       "503778                     NaN  ...           1.0          NaN   \n",
       "503779  Left Accessory Basilic  ...           1.0          NaN   \n",
       "503780                     NaN  ...           1.0          NaN   \n",
       "503781                     NaN  ...           1.0          NaN   \n",
       "503782                     NaN  ...           1.0          NaN   \n",
       "\n",
       "        totalamountuom isopenbag  continueinnextdept cancelreason  \\\n",
       "503778             NaN         1                   0            0   \n",
       "503779             NaN         1                   0            0   \n",
       "503780             NaN         1                   0            0   \n",
       "503781             NaN         0                   0            0   \n",
       "503782             NaN         0                   0            0   \n",
       "\n",
       "        statusdescription  comments_date  originalamount  originalrate  \n",
       "503778    FinishedRunning            NaN          1590.0             1  \n",
       "503779    FinishedRunning            NaN          1832.0             1  \n",
       "503780    FinishedRunning            NaN         10697.0             1  \n",
       "503781    FinishedRunning            NaN             1.0             0  \n",
       "503782    FinishedRunning            NaN             1.0             0  \n",
       "\n",
       "[5 rows x 26 columns]"
      ]
     },
     "execution_count": 169,
     "metadata": {},
     "output_type": "execute_result"
    }
   ],
   "source": [
    "df_procicupat = df_procicu[df_procicu['subject_id'] == patient_id]\n",
    "df_procicupat.head()"
   ]
  },
  {
   "cell_type": "markdown",
   "id": "5b62adea-7fe0-49a0-8820-6532fadc26e1",
   "metadata": {},
   "source": [
    "##### Get chartevents from icu stays for each admission"
   ]
  },
  {
   "cell_type": "code",
   "execution_count": 38,
   "id": "7d663a32-9220-4dc9-b9fd-de5c18a3f4d5",
   "metadata": {},
   "outputs": [],
   "source": [
    "#df_chartevents = spark.read.load(path_to_data + '\\icu\\chartevents.csv', format=\"csv\", sep=\",\", inferSchema=\"true\", header=\"true\")"
   ]
  },
  {
   "cell_type": "code",
   "execution_count": 132,
   "id": "08d5d32c-43c8-4551-ae29-3e7bab46fb01",
   "metadata": {},
   "outputs": [],
   "source": [
    "#df_charteventspat = df_chartevents.filter(col('subject_id') == patient_id)"
   ]
  },
  {
   "cell_type": "markdown",
   "id": "3de9c5a5-25c8-459a-ba54-cc61b9135f7a",
   "metadata": {
    "tags": []
   },
   "source": [
    "### Patient Journey"
   ]
  },
  {
   "cell_type": "code",
   "execution_count": 170,
   "id": "663f37fe-b468-4f9c-8d60-f39e4c38a3ed",
   "metadata": {},
   "outputs": [],
   "source": [
    "from datetime import date"
   ]
  },
  {
   "cell_type": "code",
   "execution_count": 171,
   "id": "01a1dba6-9d46-4f14-9d4a-659278d8cb34",
   "metadata": {},
   "outputs": [],
   "source": [
    "admissiontypes = patientadms['admission_type'].unique()\n",
    "patientadms['adm_date'] = patientadms['admittime'].apply(lambda x: date(x.year, x.month, x.day))\n",
    "patientadms['disch_date'] = patientadms['dischtime'].apply(lambda x: date(x.year, x.month, x.day))"
   ]
  },
  {
   "cell_type": "code",
   "execution_count": 172,
   "id": "8c26e58e-4e8d-4796-aa60-204db4ad2368",
   "metadata": {},
   "outputs": [],
   "source": [
    "uniqueadm = patientadms['hadm_id'].unique()"
   ]
  },
  {
   "cell_type": "code",
   "execution_count": 173,
   "id": "26dbb8ab-acfa-4518-867e-3636b907a5a0",
   "metadata": {},
   "outputs": [],
   "source": [
    "admissions = patientadms.drop_duplicates('hadm_id')\n",
    "admdates = admissions['adm_date'].tolist()\n",
    "discdates = admissions['disch_date'].tolist()\n",
    "admissiontype = admissions['admission_type'].tolist()"
   ]
  },
  {
   "cell_type": "code",
   "execution_count": 174,
   "id": "bbdfc7c6-7caf-4502-8ecf-825503236f89",
   "metadata": {},
   "outputs": [
    {
     "data": {
      "text/plain": [
       "['URGENT',\n",
       " 'EW EMER.',\n",
       " 'DIRECT OBSERVATION',\n",
       " 'EU OBSERVATION',\n",
       " 'EU OBSERVATION']"
      ]
     },
     "execution_count": 174,
     "metadata": {},
     "output_type": "execute_result"
    }
   ],
   "source": [
    "admissiontype"
   ]
  },
  {
   "cell_type": "code",
   "execution_count": 175,
   "id": "0ee1266a-37d2-4f74-8a5d-3a53f46ca807",
   "metadata": {},
   "outputs": [],
   "source": [
    "adm_disc = []\n",
    "for idx, (admtime, dischtime) in enumerate(zip(admdates, discdates)):\n",
    "    adm_disc.append(admtime)\n",
    "    adm_disc.append(dischtime)    "
   ]
  },
  {
   "cell_type": "code",
   "execution_count": 210,
   "id": "4207dd36-8fdc-49c7-80a5-b628c0efa2b0",
   "metadata": {},
   "outputs": [
    {
     "data": {
      "text/plain": [
       "Text(0.5, 1.0, 'Admissions for patient 10020740')"
      ]
     },
     "execution_count": 210,
     "metadata": {},
     "output_type": "execute_result"
    },
    {
     "data": {
      "image/png": "[encoded data removed]",
      "text/plain": [
       "<Figure size 720x360 with 1 Axes>"
      ]
     },
     "metadata": {},
     "output_type": "display_data"
    }
   ],
   "source": [
    "import matplotlib.pyplot as plt\n",
    "import numpy as np\n",
    "\n",
    "import matplotlib.pyplot as plt\n",
    "from datetime import date\n",
    "import numpy as np\n",
    "# reference: https://mentalitch.com/key-events-in-rock-and-roll-history/\n",
    "dates = admdates #[date(1954, 7, 19), date(1959, 2, 3), date(1964, 2, 9), date(1965, 7, 25), date(1967, 6, 1), date(1969, 8, 15)]\n",
    "#dates = [date(x.year, x.date, x.days) for x in patientadms['admittime'].unique()[:3]]\n",
    "#print(dates)\n",
    "\n",
    "\n",
    "min_date = date(admdates[0].year, admdates[0].month - 1, admdates[0].day) #date(np.min(dates).year - 2, np.min(dates).month, np.min(dates).day)\n",
    "max_date = date(admdates[-1].year, admdates[-1].month + 1, admdates[-1].day) #date(np.max(dates).year + 2, np.max(dates).month, np.max(dates).day)\n",
    " \n",
    "labels = admissiontype# ['EW EMER', 'EW EMER', 'EW EMER', 'EW EMER']\n",
    "# labels with associated dates\n",
    "labels = ['{0:%d %b %Y}:\\n{1}'.format(d, l) for l, d in zip (labels, dates)]\n",
    "\n",
    "fig, ax = plt.subplots(figsize=(10, 5), constrained_layout=True)\n",
    "ax.set_ylim(-1, 1.75)\n",
    "ax.set_xlim(min_date, max_date)\n",
    "ax.axhline(0, xmin=0.05, xmax=0.95, c='deeppink', zorder=1)\n",
    "\n",
    "# For admtime\n",
    "ax.scatter(dates, np.zeros(len(dates)), s=120, c='palevioletred', zorder=2)\n",
    "ax.scatter(dates, np.zeros(len(dates)), s=30, c='darkmagenta', zorder=3)\n",
    "\n",
    "\n",
    "label_offsets = np.zeros(len(dates))\n",
    "label_offsets[::2] = 0.35\n",
    "label_offsets[1::2] = -0.9\n",
    "\n",
    "for i, (l, d) in enumerate(zip(labels, dates)):\n",
    "    ax.text(d, label_offsets[i], l, ha='center', rotation=45,fontfamily='serif', fontweight='bold', color='royalblue',fontsize=13)\n",
    "\n",
    "\n",
    "stems = np.zeros(len(dates))\n",
    "stems[::2] = 0.3\n",
    "stems[1::2] = -0.3   \n",
    "markerline, stemline, baseline = ax.stem(dates, stems, use_line_collection=True)\n",
    "plt.setp(markerline, marker=',', color='darkmagenta')\n",
    "plt.setp(stemline, color='darkmagenta')\n",
    "#\n",
    "# hide lines around chart\n",
    "for spine in [\"left\", \"top\", \"right\", \"bottom\"]:\n",
    "    ax.spines[spine].set_visible(False)\n",
    "ax.set_xticks([])\n",
    "ax.set_yticks([])\n",
    " \n",
    "ax.set_title('Admissions for patient {}'.format(patient_id), fontweight=\"bold\", fontfamily='serif', fontsize=20, color='royalblue')"
   ]
  },
  {
   "cell_type": "code",
   "execution_count": 196,
   "id": "d2f5820b-625f-4e77-ba3f-dbd0503ea5b2",
   "metadata": {},
   "outputs": [
    {
     "ename": "AttributeError",
     "evalue": "'Figure' object has no attribute 'savefig'",
     "output_type": "error",
     "traceback": [
      "\u001b[1;31m---------------------------------------------------------------------------\u001b[0m",
      "\u001b[1;31mAttributeError\u001b[0m                            Traceback (most recent call last)",
      "\u001b[1;32m~\\AppData\\Local\\Temp/ipykernel_21896/1811995761.py\u001b[0m in \u001b[0;36m<module>\u001b[1;34m\u001b[0m\n\u001b[1;32m----> 1\u001b[1;33m \u001b[0mfig\u001b[0m\u001b[1;33m.\u001b[0m\u001b[0msavefig\u001b[0m\u001b[1;33m(\u001b[0m\u001b[1;34m'admissions.png'\u001b[0m\u001b[1;33m)\u001b[0m\u001b[1;33m\u001b[0m\u001b[1;33m\u001b[0m\u001b[0m\n\u001b[0m",
      "\u001b[1;31mAttributeError\u001b[0m: 'Figure' object has no attribute 'savefig'"
     ]
    }
   ],
   "source": [
    "#fig.savefig('admissions.png')"
   ]
  },
  {
   "cell_type": "markdown",
   "id": "570c5c5e-bfbf-42a3-a715-81bd38ac14d8",
   "metadata": {},
   "source": [
    "#### Received diagnoses\n"
   ]
  },
  {
   "cell_type": "code",
   "execution_count": 233,
   "id": "edae4a29-f39e-4e00-bb58-3f17b94946b8",
   "metadata": {},
   "outputs": [
    {
     "data": {
      "text/html": [
       "<div>\n",
       "<style scoped>\n",
       "    .dataframe tbody tr th:only-of-type {\n",
       "        vertical-align: middle;\n",
       "    }\n",
       "\n",
       "    .dataframe tbody tr th {\n",
       "        vertical-align: top;\n",
       "    }\n",
       "\n",
       "    .dataframe thead th {\n",
       "        text-align: right;\n",
       "    }\n",
       "</style>\n",
       "<table border=\"1\" class=\"dataframe\">\n",
       "  <thead>\n",
       "    <tr style=\"text-align: right;\">\n",
       "      <th></th>\n",
       "      <th>hadm_id</th>\n",
       "      <th>icd_code</th>\n",
       "      <th>long_title</th>\n",
       "    </tr>\n",
       "  </thead>\n",
       "  <tbody>\n",
       "    <tr>\n",
       "      <th>57</th>\n",
       "      <td>23831430</td>\n",
       "      <td>78720</td>\n",
       "      <td>Dysphagia, unspecified</td>\n",
       "    </tr>\n",
       "    <tr>\n",
       "      <th>54</th>\n",
       "      <td>23831430</td>\n",
       "      <td>2760</td>\n",
       "      <td>Hyperosmolality and/or hypernatremia</td>\n",
       "    </tr>\n",
       "    <tr>\n",
       "      <th>56</th>\n",
       "      <td>23831430</td>\n",
       "      <td>03842</td>\n",
       "      <td>Septicemia due to escherichia coli [E. coli]</td>\n",
       "    </tr>\n",
       "    <tr>\n",
       "      <th>53</th>\n",
       "      <td>23831430</td>\n",
       "      <td>2639</td>\n",
       "      <td>Unspecified protein-calorie malnutrition</td>\n",
       "    </tr>\n",
       "    <tr>\n",
       "      <th>52</th>\n",
       "      <td>23831430</td>\n",
       "      <td>99591</td>\n",
       "      <td>Sepsis</td>\n",
       "    </tr>\n",
       "  </tbody>\n",
       "</table>\n",
       "</div>"
      ],
      "text/plain": [
       "     hadm_id icd_code                                    long_title\n",
       "57  23831430    78720                        Dysphagia, unspecified\n",
       "54  23831430     2760          Hyperosmolality and/or hypernatremia\n",
       "56  23831430    03842  Septicemia due to escherichia coli [E. coli]\n",
       "53  23831430     2639      Unspecified protein-calorie malnutrition\n",
       "52  23831430    99591                                        Sepsis"
      ]
     },
     "execution_count": 233,
     "metadata": {},
     "output_type": "execute_result"
    }
   ],
   "source": [
    "patientadms[['hadm_id' ,'icd_code', 'long_title']].head()"
   ]
  },
  {
   "cell_type": "code",
   "execution_count": 236,
   "id": "a0f028f8-5c42-4db5-b5b3-3adfe455abdb",
   "metadata": {},
   "outputs": [],
   "source": [
    "admissions = patientadms['hadm_id'].unique().tolist()"
   ]
  },
  {
   "cell_type": "code",
   "execution_count": 237,
   "id": "906f8189-788b-402a-ad2e-b3178021a92c",
   "metadata": {},
   "outputs": [
    {
     "data": {
      "text/plain": [
       "[23831430, 25826145, 29820177, 23199774, 23143086]"
      ]
     },
     "execution_count": 237,
     "metadata": {},
     "output_type": "execute_result"
    }
   ],
   "source": [
    "admissions "
   ]
  },
  {
   "cell_type": "code",
   "execution_count": null,
   "id": "4985c002-caeb-4d75-8b34-4a8928623d49",
   "metadata": {},
   "outputs": [],
   "source": [
    "patientadms1 = patientadms[['hadm_id']]"
   ]
  },
  {
   "cell_type": "code",
   "execution_count": 238,
   "id": "7b426b07-2d1c-4507-bb9f-91ce63286da2",
   "metadata": {},
   "outputs": [],
   "source": [
    "#diagnoses_peradmission = patientadms.groupby(['hadm_id']).size().reset_index(name='count')"
   ]
  },
  {
   "cell_type": "code",
   "execution_count": 239,
   "id": "81de5951-5efb-4bd0-a259-83b8b02b1260",
   "metadata": {},
   "outputs": [],
   "source": [
    "#import seaborn as sns"
   ]
  },
  {
   "cell_type": "code",
   "execution_count": 240,
   "id": "91514fd0-9d38-46c6-8fc4-b83aada400e9",
   "metadata": {},
   "outputs": [],
   "source": [
    "#fig, ax = plt.subplots(figsize=(6, 6))\n",
    "#sns.countplot(x='hadm_id', data=patientadms, order = patientadms['hadm_id'].value_counts().index)"
   ]
  },
  {
   "cell_type": "code",
   "execution_count": 298,
   "id": "e6de1c1c-f624-43d8-9f29-d60e8884298f",
   "metadata": {},
   "outputs": [],
   "source": [
    "adm1data = patientadms[patientadms['hadm_id'] == 23143086]"
   ]
  },
  {
   "cell_type": "code",
   "execution_count": 299,
   "id": "1e79f241-36aa-4182-bce2-1d613880fb5f",
   "metadata": {},
   "outputs": [
    {
     "data": {
      "text/html": [
       "<div>\n",
       "<style scoped>\n",
       "    .dataframe tbody tr th:only-of-type {\n",
       "        vertical-align: middle;\n",
       "    }\n",
       "\n",
       "    .dataframe tbody tr th {\n",
       "        vertical-align: top;\n",
       "    }\n",
       "\n",
       "    .dataframe thead th {\n",
       "        text-align: right;\n",
       "    }\n",
       "</style>\n",
       "<table border=\"1\" class=\"dataframe\">\n",
       "  <thead>\n",
       "    <tr style=\"text-align: right;\">\n",
       "      <th></th>\n",
       "      <th>subject_id</th>\n",
       "      <th>hadm_id</th>\n",
       "      <th>seq_num</th>\n",
       "      <th>icd_code</th>\n",
       "      <th>icd_version_x</th>\n",
       "      <th>long_title</th>\n",
       "      <th>admittime</th>\n",
       "      <th>dischtime</th>\n",
       "      <th>admission_type</th>\n",
       "      <th>time_stay</th>\n",
       "      <th>adm_date</th>\n",
       "      <th>disch_date</th>\n",
       "    </tr>\n",
       "  </thead>\n",
       "  <tbody>\n",
       "    <tr>\n",
       "      <th>64</th>\n",
       "      <td>10020740</td>\n",
       "      <td>23143086</td>\n",
       "      <td>2</td>\n",
       "      <td>25000</td>\n",
       "      <td>9</td>\n",
       "      <td>Diabetes mellitus without mention of complicat...</td>\n",
       "      <td>2151-01-15 15:25:00</td>\n",
       "      <td>2151-01-16 02:38:00</td>\n",
       "      <td>EU OBSERVATION</td>\n",
       "      <td>0</td>\n",
       "      <td>2151-01-15</td>\n",
       "      <td>2151-01-16</td>\n",
       "    </tr>\n",
       "    <tr>\n",
       "      <th>65</th>\n",
       "      <td>10020740</td>\n",
       "      <td>23143086</td>\n",
       "      <td>3</td>\n",
       "      <td>V5867</td>\n",
       "      <td>9</td>\n",
       "      <td>Long-term (current) use of insulin</td>\n",
       "      <td>2151-01-15 15:25:00</td>\n",
       "      <td>2151-01-16 02:38:00</td>\n",
       "      <td>EU OBSERVATION</td>\n",
       "      <td>0</td>\n",
       "      <td>2151-01-15</td>\n",
       "      <td>2151-01-16</td>\n",
       "    </tr>\n",
       "    <tr>\n",
       "      <th>66</th>\n",
       "      <td>10020740</td>\n",
       "      <td>23143086</td>\n",
       "      <td>1</td>\n",
       "      <td>29574</td>\n",
       "      <td>9</td>\n",
       "      <td>Schizoaffective disorder, chronic with acute e...</td>\n",
       "      <td>2151-01-15 15:25:00</td>\n",
       "      <td>2151-01-16 02:38:00</td>\n",
       "      <td>EU OBSERVATION</td>\n",
       "      <td>0</td>\n",
       "      <td>2151-01-15</td>\n",
       "      <td>2151-01-16</td>\n",
       "    </tr>\n",
       "  </tbody>\n",
       "</table>\n",
       "</div>"
      ],
      "text/plain": [
       "    subject_id   hadm_id  seq_num icd_code  icd_version_x  \\\n",
       "64    10020740  23143086        2    25000              9   \n",
       "65    10020740  23143086        3    V5867              9   \n",
       "66    10020740  23143086        1    29574              9   \n",
       "\n",
       "                                           long_title           admittime  \\\n",
       "64  Diabetes mellitus without mention of complicat... 2151-01-15 15:25:00   \n",
       "65                 Long-term (current) use of insulin 2151-01-15 15:25:00   \n",
       "66  Schizoaffective disorder, chronic with acute e... 2151-01-15 15:25:00   \n",
       "\n",
       "             dischtime  admission_type  time_stay    adm_date  disch_date  \n",
       "64 2151-01-16 02:38:00  EU OBSERVATION          0  2151-01-15  2151-01-16  \n",
       "65 2151-01-16 02:38:00  EU OBSERVATION          0  2151-01-15  2151-01-16  \n",
       "66 2151-01-16 02:38:00  EU OBSERVATION          0  2151-01-15  2151-01-16  "
      ]
     },
     "execution_count": 299,
     "metadata": {},
     "output_type": "execute_result"
    }
   ],
   "source": [
    "adm1data"
   ]
  },
  {
   "cell_type": "code",
   "execution_count": 300,
   "id": "9d87ec48-a5d1-4598-ba5e-9bc8fe604b8c",
   "metadata": {},
   "outputs": [],
   "source": [
    "cols = ['icd_code', 'long_title', 'seq_num']"
   ]
  },
  {
   "cell_type": "code",
   "execution_count": 301,
   "id": "d8f32f39-f382-44a6-b8fd-2e60149ae589",
   "metadata": {},
   "outputs": [],
   "source": [
    "adm1datashort = adm1data.iloc[:10]"
   ]
  },
  {
   "cell_type": "code",
   "execution_count": 302,
   "id": "0df09807-1e73-4f82-a9fe-32c99e8d3b0a",
   "metadata": {},
   "outputs": [
    {
     "data": {
      "application/vnd.plotly.v1+json": {
       "config": {
        "plotlyServerURL": "https://plot.ly"
       },
       "data": [
        {
         "cells": {
          "align": "left",
          "fill": {
           "color": "lavender"
          },
          "values": [
           [
            "25000",
            "V5867",
            "29574"
           ],
           [
            "Diabetes mellitus without mention of complication, type II or unspecified type, not stated as uncontrolled",
            "Long-term (current) use of insulin",
            "Schizoaffective disorder, chronic with acute exacerbation"
           ],
           [
            2,
            3,
            1
           ]
          ]
         },
         "header": {
          "align": "left",
          "fill": {
           "color": "paleturquoise"
          },
          "values": [
           "icd_code",
           "long_title",
           "seq_num"
          ]
         },
         "type": "table"
        }
       ],
       "layout": {
        "height": 700,
        "template": {
         "data": {
          "bar": [
           {
            "error_x": {
             "color": "#2a3f5f"
            },
            "error_y": {
             "color": "#2a3f5f"
            },
            "marker": {
             "line": {
              "color": "#E5ECF6",
              "width": 0.5
             },
             "pattern": {
              "fillmode": "overlay",
              "size": 10,
              "solidity": 0.2
             }
            },
            "type": "bar"
           }
          ],
          "barpolar": [
           {
            "marker": {
             "line": {
              "color": "#E5ECF6",
              "width": 0.5
             },
             "pattern": {
              "fillmode": "overlay",
              "size": 10,
              "solidity": 0.2
             }
            },
            "type": "barpolar"
           }
          ],
          "carpet": [
           {
            "aaxis": {
             "endlinecolor": "#2a3f5f",
             "gridcolor": "white",
             "linecolor": "white",
             "minorgridcolor": "white",
             "startlinecolor": "#2a3f5f"
            },
            "baxis": {
             "endlinecolor": "#2a3f5f",
             "gridcolor": "white",
             "linecolor": "white",
             "minorgridcolor": "white",
             "startlinecolor": "#2a3f5f"
            },
            "type": "carpet"
           }
          ],
          "choropleth": [
           {
            "colorbar": {
             "outlinewidth": 0,
             "ticks": ""
            },
            "type": "choropleth"
           }
          ],
          "contour": [
           {
            "colorbar": {
             "outlinewidth": 0,
             "ticks": ""
            },
            "colorscale": [
             [
              0,
              "#0d0887"
             ],
             [
              0.1111111111111111,
              "#46039f"
             ],
             [
              0.2222222222222222,
              "#7201a8"
             ],
             [
              0.3333333333333333,
              "#9c179e"
             ],
             [
              0.4444444444444444,
              "#bd3786"
             ],
             [
              0.5555555555555556,
              "#d8576b"
             ],
             [
              0.6666666666666666,
              "#ed7953"
             ],
             [
              0.7777777777777778,
              "#fb9f3a"
             ],
             [
              0.8888888888888888,
              "#fdca26"
             ],
             [
              1,
              "#f0f921"
             ]
            ],
            "type": "contour"
           }
          ],
          "contourcarpet": [
           {
            "colorbar": {
             "outlinewidth": 0,
             "ticks": ""
            },
            "type": "contourcarpet"
           }
          ],
          "heatmap": [
           {
            "colorbar": {
             "outlinewidth": 0,
             "ticks": ""
            },
            "colorscale": [
             [
              0,
              "#0d0887"
             ],
             [
              0.1111111111111111,
              "#46039f"
             ],
             [
              0.2222222222222222,
              "#7201a8"
             ],
             [
              0.3333333333333333,
              "#9c179e"
             ],
             [
              0.4444444444444444,
              "#bd3786"
             ],
             [
              0.5555555555555556,
              "#d8576b"
             ],
             [
              0.6666666666666666,
              "#ed7953"
             ],
             [
              0.7777777777777778,
              "#fb9f3a"
             ],
             [
              0.8888888888888888,
              "#fdca26"
             ],
             [
              1,
              "#f0f921"
             ]
            ],
            "type": "heatmap"
           }
          ],
          "heatmapgl": [
           {
            "colorbar": {
             "outlinewidth": 0,
             "ticks": ""
            },
            "colorscale": [
             [
              0,
              "#0d0887"
             ],
             [
              0.1111111111111111,
              "#46039f"
             ],
             [
              0.2222222222222222,
              "#7201a8"
             ],
             [
              0.3333333333333333,
              "#9c179e"
             ],
             [
              0.4444444444444444,
              "#bd3786"
             ],
             [
              0.5555555555555556,
              "#d8576b"
             ],
             [
              0.6666666666666666,
              "#ed7953"
             ],
             [
              0.7777777777777778,
              "#fb9f3a"
             ],
             [
              0.8888888888888888,
              "#fdca26"
             ],
             [
              1,
              "#f0f921"
             ]
            ],
            "type": "heatmapgl"
           }
          ],
          "histogram": [
           {
            "marker": {
             "pattern": {
              "fillmode": "overlay",
              "size": 10,
              "solidity": 0.2
             }
            },
            "type": "histogram"
           }
          ],
          "histogram2d": [
           {
            "colorbar": {
             "outlinewidth": 0,
             "ticks": ""
            },
            "colorscale": [
             [
              0,
              "#0d0887"
             ],
             [
              0.1111111111111111,
              "#46039f"
             ],
             [
              0.2222222222222222,
              "#7201a8"
             ],
             [
              0.3333333333333333,
              "#9c179e"
             ],
             [
              0.4444444444444444,
              "#bd3786"
             ],
             [
              0.5555555555555556,
              "#d8576b"
             ],
             [
              0.6666666666666666,
              "#ed7953"
             ],
             [
              0.7777777777777778,
              "#fb9f3a"
             ],
             [
              0.8888888888888888,
              "#fdca26"
             ],
             [
              1,
              "#f0f921"
             ]
            ],
            "type": "histogram2d"
           }
          ],
          "histogram2dcontour": [
           {
            "colorbar": {
             "outlinewidth": 0,
             "ticks": ""
            },
            "colorscale": [
             [
              0,
              "#0d0887"
             ],
             [
              0.1111111111111111,
              "#46039f"
             ],
             [
              0.2222222222222222,
              "#7201a8"
             ],
             [
              0.3333333333333333,
              "#9c179e"
             ],
             [
              0.4444444444444444,
              "#bd3786"
             ],
             [
              0.5555555555555556,
              "#d8576b"
             ],
             [
              0.6666666666666666,
              "#ed7953"
             ],
             [
              0.7777777777777778,
              "#fb9f3a"
             ],
             [
              0.8888888888888888,
              "#fdca26"
             ],
             [
              1,
              "#f0f921"
             ]
            ],
            "type": "histogram2dcontour"
           }
          ],
          "mesh3d": [
           {
            "colorbar": {
             "outlinewidth": 0,
             "ticks": ""
            },
            "type": "mesh3d"
           }
          ],
          "parcoords": [
           {
            "line": {
             "colorbar": {
              "outlinewidth": 0,
              "ticks": ""
             }
            },
            "type": "parcoords"
           }
          ],
          "pie": [
           {
            "automargin": true,
            "type": "pie"
           }
          ],
          "scatter": [
           {
            "marker": {
             "colorbar": {
              "outlinewidth": 0,
              "ticks": ""
             }
            },
            "type": "scatter"
           }
          ],
          "scatter3d": [
           {
            "line": {
             "colorbar": {
              "outlinewidth": 0,
              "ticks": ""
             }
            },
            "marker": {
             "colorbar": {
              "outlinewidth": 0,
              "ticks": ""
             }
            },
            "type": "scatter3d"
           }
          ],
          "scattercarpet": [
           {
            "marker": {
             "colorbar": {
              "outlinewidth": 0,
              "ticks": ""
             }
            },
            "type": "scattercarpet"
           }
          ],
          "scattergeo": [
           {
            "marker": {
             "colorbar": {
              "outlinewidth": 0,
              "ticks": ""
             }
            },
            "type": "scattergeo"
           }
          ],
          "scattergl": [
           {
            "marker": {
             "colorbar": {
              "outlinewidth": 0,
              "ticks": ""
             }
            },
            "type": "scattergl"
           }
          ],
          "scattermapbox": [
           {
            "marker": {
             "colorbar": {
              "outlinewidth": 0,
              "ticks": ""
             }
            },
            "type": "scattermapbox"
           }
          ],
          "scatterpolar": [
           {
            "marker": {
             "colorbar": {
              "outlinewidth": 0,
              "ticks": ""
             }
            },
            "type": "scatterpolar"
           }
          ],
          "scatterpolargl": [
           {
            "marker": {
             "colorbar": {
              "outlinewidth": 0,
              "ticks": ""
             }
            },
            "type": "scatterpolargl"
           }
          ],
          "scatterternary": [
           {
            "marker": {
             "colorbar": {
              "outlinewidth": 0,
              "ticks": ""
             }
            },
            "type": "scatterternary"
           }
          ],
          "surface": [
           {
            "colorbar": {
             "outlinewidth": 0,
             "ticks": ""
            },
            "colorscale": [
             [
              0,
              "#0d0887"
             ],
             [
              0.1111111111111111,
              "#46039f"
             ],
             [
              0.2222222222222222,
              "#7201a8"
             ],
             [
              0.3333333333333333,
              "#9c179e"
             ],
             [
              0.4444444444444444,
              "#bd3786"
             ],
             [
              0.5555555555555556,
              "#d8576b"
             ],
             [
              0.6666666666666666,
              "#ed7953"
             ],
             [
              0.7777777777777778,
              "#fb9f3a"
             ],
             [
              0.8888888888888888,
              "#fdca26"
             ],
             [
              1,
              "#f0f921"
             ]
            ],
            "type": "surface"
           }
          ],
          "table": [
           {
            "cells": {
             "fill": {
              "color": "#EBF0F8"
             },
             "line": {
              "color": "white"
             }
            },
            "header": {
             "fill": {
              "color": "#C8D4E3"
             },
             "line": {
              "color": "white"
             }
            },
            "type": "table"
           }
          ]
         },
         "layout": {
          "annotationdefaults": {
           "arrowcolor": "#2a3f5f",
           "arrowhead": 0,
           "arrowwidth": 1
          },
          "autotypenumbers": "strict",
          "coloraxis": {
           "colorbar": {
            "outlinewidth": 0,
            "ticks": ""
           }
          },
          "colorscale": {
           "diverging": [
            [
             0,
             "#8e0152"
            ],
            [
             0.1,
             "#c51b7d"
            ],
            [
             0.2,
             "#de77ae"
            ],
            [
             0.3,
             "#f1b6da"
            ],
            [
             0.4,
             "#fde0ef"
            ],
            [
             0.5,
             "#f7f7f7"
            ],
            [
             0.6,
             "#e6f5d0"
            ],
            [
             0.7,
             "#b8e186"
            ],
            [
             0.8,
             "#7fbc41"
            ],
            [
             0.9,
             "#4d9221"
            ],
            [
             1,
             "#276419"
            ]
           ],
           "sequential": [
            [
             0,
             "#0d0887"
            ],
            [
             0.1111111111111111,
             "#46039f"
            ],
            [
             0.2222222222222222,
             "#7201a8"
            ],
            [
             0.3333333333333333,
             "#9c179e"
            ],
            [
             0.4444444444444444,
             "#bd3786"
            ],
            [
             0.5555555555555556,
             "#d8576b"
            ],
            [
             0.6666666666666666,
             "#ed7953"
            ],
            [
             0.7777777777777778,
             "#fb9f3a"
            ],
            [
             0.8888888888888888,
             "#fdca26"
            ],
            [
             1,
             "#f0f921"
            ]
           ],
           "sequentialminus": [
            [
             0,
             "#0d0887"
            ],
            [
             0.1111111111111111,
             "#46039f"
            ],
            [
             0.2222222222222222,
             "#7201a8"
            ],
            [
             0.3333333333333333,
             "#9c179e"
            ],
            [
             0.4444444444444444,
             "#bd3786"
            ],
            [
             0.5555555555555556,
             "#d8576b"
            ],
            [
             0.6666666666666666,
             "#ed7953"
            ],
            [
             0.7777777777777778,
             "#fb9f3a"
            ],
            [
             0.8888888888888888,
             "#fdca26"
            ],
            [
             1,
             "#f0f921"
            ]
           ]
          },
          "colorway": [
           "#636efa",
           "#EF553B",
           "#00cc96",
           "#ab63fa",
           "#FFA15A",
           "#19d3f3",
           "#FF6692",
           "#B6E880",
           "#FF97FF",
           "#FECB52"
          ],
          "font": {
           "color": "#2a3f5f"
          },
          "geo": {
           "bgcolor": "white",
           "lakecolor": "white",
           "landcolor": "#E5ECF6",
           "showlakes": true,
           "showland": true,
           "subunitcolor": "white"
          },
          "hoverlabel": {
           "align": "left"
          },
          "hovermode": "closest",
          "mapbox": {
           "style": "light"
          },
          "paper_bgcolor": "white",
          "plot_bgcolor": "#E5ECF6",
          "polar": {
           "angularaxis": {
            "gridcolor": "white",
            "linecolor": "white",
            "ticks": ""
           },
           "bgcolor": "#E5ECF6",
           "radialaxis": {
            "gridcolor": "white",
            "linecolor": "white",
            "ticks": ""
           }
          },
          "scene": {
           "xaxis": {
            "backgroundcolor": "#E5ECF6",
            "gridcolor": "white",
            "gridwidth": 2,
            "linecolor": "white",
            "showbackground": true,
            "ticks": "",
            "zerolinecolor": "white"
           },
           "yaxis": {
            "backgroundcolor": "#E5ECF6",
            "gridcolor": "white",
            "gridwidth": 2,
            "linecolor": "white",
            "showbackground": true,
            "ticks": "",
            "zerolinecolor": "white"
           },
           "zaxis": {
            "backgroundcolor": "#E5ECF6",
            "gridcolor": "white",
            "gridwidth": 2,
            "linecolor": "white",
            "showbackground": true,
            "ticks": "",
            "zerolinecolor": "white"
           }
          },
          "shapedefaults": {
           "line": {
            "color": "#2a3f5f"
           }
          },
          "ternary": {
           "aaxis": {
            "gridcolor": "white",
            "linecolor": "white",
            "ticks": ""
           },
           "baxis": {
            "gridcolor": "white",
            "linecolor": "white",
            "ticks": ""
           },
           "bgcolor": "#E5ECF6",
           "caxis": {
            "gridcolor": "white",
            "linecolor": "white",
            "ticks": ""
           }
          },
          "title": {
           "x": 0.05
          },
          "xaxis": {
           "automargin": true,
           "gridcolor": "white",
           "linecolor": "white",
           "ticks": "",
           "title": {
            "standoff": 15
           },
           "zerolinecolor": "white",
           "zerolinewidth": 2
          },
          "yaxis": {
           "automargin": true,
           "gridcolor": "white",
           "linecolor": "white",
           "ticks": "",
           "title": {
            "standoff": 15
           },
           "zerolinecolor": "white",
           "zerolinewidth": 2
          }
         }
        },
        "width": 700
       }
      },
      "image/png": "[encoded data removed]",
      "text/html": [
       "<div>                            <div id=\"e8c091c4-b83d-49d7-a267-f07576c40c5a\" class=\"plotly-graph-div\" style=\"height:700px; width:700px;\"></div>            <script type=\"text/javascript\">                require([\"plotly\"], function(Plotly) {                    window.PLOTLYENV=window.PLOTLYENV || {};                                    if (document.getElementById(\"e8c091c4-b83d-49d7-a267-f07576c40c5a\")) {                    Plotly.newPlot(                        \"e8c091c4-b83d-49d7-a267-f07576c40c5a\",                        [{\"cells\":{\"align\":\"left\",\"fill\":{\"color\":\"lavender\"},\"values\":[[\"25000\",\"V5867\",\"29574\"],[\"Diabetes mellitus without mention of complication, type II or unspecified type, not stated as uncontrolled\",\"Long-term (current) use of insulin\",\"Schizoaffective disorder, chronic with acute exacerbation\"],[2,3,1]]},\"header\":{\"align\":\"left\",\"fill\":{\"color\":\"paleturquoise\"},\"values\":[\"icd_code\",\"long_title\",\"seq_num\"]},\"type\":\"table\"}],                        {\"template\":{\"data\":{\"bar\":[{\"error_x\":{\"color\":\"#2a3f5f\"},\"error_y\":{\"color\":\"#2a3f5f\"},\"marker\":{\"line\":{\"color\":\"#E5ECF6\",\"width\":0.5},\"pattern\":{\"fillmode\":\"overlay\",\"size\":10,\"solidity\":0.2}},\"type\":\"bar\"}],\"barpolar\":[{\"marker\":{\"line\":{\"color\":\"#E5ECF6\",\"width\":0.5},\"pattern\":{\"fillmode\":\"overlay\",\"size\":10,\"solidity\":0.2}},\"type\":\"barpolar\"}],\"carpet\":[{\"aaxis\":{\"endlinecolor\":\"#2a3f5f\",\"gridcolor\":\"white\",\"linecolor\":\"white\",\"minorgridcolor\":\"white\",\"startlinecolor\":\"#2a3f5f\"},\"baxis\":{\"endlinecolor\":\"#2a3f5f\",\"gridcolor\":\"white\",\"linecolor\":\"white\",\"minorgridcolor\":\"white\",\"startlinecolor\":\"#2a3f5f\"},\"type\":\"carpet\"}],\"choropleth\":[{\"colorbar\":{\"outlinewidth\":0,\"ticks\":\"\"},\"type\":\"choropleth\"}],\"contour\":[{\"colorbar\":{\"outlinewidth\":0,\"ticks\":\"\"},\"colorscale\":[[0.0,\"#0d0887\"],[0.1111111111111111,\"#46039f\"],[0.2222222222222222,\"#7201a8\"],[0.3333333333333333,\"#9c179e\"],[0.4444444444444444,\"#bd3786\"],[0.5555555555555556,\"#d8576b\"],[0.6666666666666666,\"#ed7953\"],[0.7777777777777778,\"#fb9f3a\"],[0.8888888888888888,\"#fdca26\"],[1.0,\"#f0f921\"]],\"type\":\"contour\"}],\"contourcarpet\":[{\"colorbar\":{\"outlinewidth\":0,\"ticks\":\"\"},\"type\":\"contourcarpet\"}],\"heatmap\":[{\"colorbar\":{\"outlinewidth\":0,\"ticks\":\"\"},\"colorscale\":[[0.0,\"#0d0887\"],[0.1111111111111111,\"#46039f\"],[0.2222222222222222,\"#7201a8\"],[0.3333333333333333,\"#9c179e\"],[0.4444444444444444,\"#bd3786\"],[0.5555555555555556,\"#d8576b\"],[0.6666666666666666,\"#ed7953\"],[0.7777777777777778,\"#fb9f3a\"],[0.8888888888888888,\"#fdca26\"],[1.0,\"#f0f921\"]],\"type\":\"heatmap\"}],\"heatmapgl\":[{\"colorbar\":{\"outlinewidth\":0,\"ticks\":\"\"},\"colorscale\":[[0.0,\"#0d0887\"],[0.1111111111111111,\"#46039f\"],[0.2222222222222222,\"#7201a8\"],[0.3333333333333333,\"#9c179e\"],[0.4444444444444444,\"#bd3786\"],[0.5555555555555556,\"#d8576b\"],[0.6666666666666666,\"#ed7953\"],[0.7777777777777778,\"#fb9f3a\"],[0.8888888888888888,\"#fdca26\"],[1.0,\"#f0f921\"]],\"type\":\"heatmapgl\"}],\"histogram\":[{\"marker\":{\"pattern\":{\"fillmode\":\"overlay\",\"size\":10,\"solidity\":0.2}},\"type\":\"histogram\"}],\"histogram2d\":[{\"colorbar\":{\"outlinewidth\":0,\"ticks\":\"\"},\"colorscale\":[[0.0,\"#0d0887\"],[0.1111111111111111,\"#46039f\"],[0.2222222222222222,\"#7201a8\"],[0.3333333333333333,\"#9c179e\"],[0.4444444444444444,\"#bd3786\"],[0.5555555555555556,\"#d8576b\"],[0.6666666666666666,\"#ed7953\"],[0.7777777777777778,\"#fb9f3a\"],[0.8888888888888888,\"#fdca26\"],[1.0,\"#f0f921\"]],\"type\":\"histogram2d\"}],\"histogram2dcontour\":[{\"colorbar\":{\"outlinewidth\":0,\"ticks\":\"\"},\"colorscale\":[[0.0,\"#0d0887\"],[0.1111111111111111,\"#46039f\"],[0.2222222222222222,\"#7201a8\"],[0.3333333333333333,\"#9c179e\"],[0.4444444444444444,\"#bd3786\"],[0.5555555555555556,\"#d8576b\"],[0.6666666666666666,\"#ed7953\"],[0.7777777777777778,\"#fb9f3a\"],[0.8888888888888888,\"#fdca26\"],[1.0,\"#f0f921\"]],\"type\":\"histogram2dcontour\"}],\"mesh3d\":[{\"colorbar\":{\"outlinewidth\":0,\"ticks\":\"\"},\"type\":\"mesh3d\"}],\"parcoords\":[{\"line\":{\"colorbar\":{\"outlinewidth\":0,\"ticks\":\"\"}},\"type\":\"parcoords\"}],\"pie\":[{\"automargin\":true,\"type\":\"pie\"}],\"scatter\":[{\"marker\":{\"colorbar\":{\"outlinewidth\":0,\"ticks\":\"\"}},\"type\":\"scatter\"}],\"scatter3d\":[{\"line\":{\"colorbar\":{\"outlinewidth\":0,\"ticks\":\"\"}},\"marker\":{\"colorbar\":{\"outlinewidth\":0,\"ticks\":\"\"}},\"type\":\"scatter3d\"}],\"scattercarpet\":[{\"marker\":{\"colorbar\":{\"outlinewidth\":0,\"ticks\":\"\"}},\"type\":\"scattercarpet\"}],\"scattergeo\":[{\"marker\":{\"colorbar\":{\"outlinewidth\":0,\"ticks\":\"\"}},\"type\":\"scattergeo\"}],\"scattergl\":[{\"marker\":{\"colorbar\":{\"outlinewidth\":0,\"ticks\":\"\"}},\"type\":\"scattergl\"}],\"scattermapbox\":[{\"marker\":{\"colorbar\":{\"outlinewidth\":0,\"ticks\":\"\"}},\"type\":\"scattermapbox\"}],\"scatterpolar\":[{\"marker\":{\"colorbar\":{\"outlinewidth\":0,\"ticks\":\"\"}},\"type\":\"scatterpolar\"}],\"scatterpolargl\":[{\"marker\":{\"colorbar\":{\"outlinewidth\":0,\"ticks\":\"\"}},\"type\":\"scatterpolargl\"}],\"scatterternary\":[{\"marker\":{\"colorbar\":{\"outlinewidth\":0,\"ticks\":\"\"}},\"type\":\"scatterternary\"}],\"surface\":[{\"colorbar\":{\"outlinewidth\":0,\"ticks\":\"\"},\"colorscale\":[[0.0,\"#0d0887\"],[0.1111111111111111,\"#46039f\"],[0.2222222222222222,\"#7201a8\"],[0.3333333333333333,\"#9c179e\"],[0.4444444444444444,\"#bd3786\"],[0.5555555555555556,\"#d8576b\"],[0.6666666666666666,\"#ed7953\"],[0.7777777777777778,\"#fb9f3a\"],[0.8888888888888888,\"#fdca26\"],[1.0,\"#f0f921\"]],\"type\":\"surface\"}],\"table\":[{\"cells\":{\"fill\":{\"color\":\"#EBF0F8\"},\"line\":{\"color\":\"white\"}},\"header\":{\"fill\":{\"color\":\"#C8D4E3\"},\"line\":{\"color\":\"white\"}},\"type\":\"table\"}]},\"layout\":{\"annotationdefaults\":{\"arrowcolor\":\"#2a3f5f\",\"arrowhead\":0,\"arrowwidth\":1},\"autotypenumbers\":\"strict\",\"coloraxis\":{\"colorbar\":{\"outlinewidth\":0,\"ticks\":\"\"}},\"colorscale\":{\"diverging\":[[0,\"#8e0152\"],[0.1,\"#c51b7d\"],[0.2,\"#de77ae\"],[0.3,\"#f1b6da\"],[0.4,\"#fde0ef\"],[0.5,\"#f7f7f7\"],[0.6,\"#e6f5d0\"],[0.7,\"#b8e186\"],[0.8,\"#7fbc41\"],[0.9,\"#4d9221\"],[1,\"#276419\"]],\"sequential\":[[0.0,\"#0d0887\"],[0.1111111111111111,\"#46039f\"],[0.2222222222222222,\"#7201a8\"],[0.3333333333333333,\"#9c179e\"],[0.4444444444444444,\"#bd3786\"],[0.5555555555555556,\"#d8576b\"],[0.6666666666666666,\"#ed7953\"],[0.7777777777777778,\"#fb9f3a\"],[0.8888888888888888,\"#fdca26\"],[1.0,\"#f0f921\"]],\"sequentialminus\":[[0.0,\"#0d0887\"],[0.1111111111111111,\"#46039f\"],[0.2222222222222222,\"#7201a8\"],[0.3333333333333333,\"#9c179e\"],[0.4444444444444444,\"#bd3786\"],[0.5555555555555556,\"#d8576b\"],[0.6666666666666666,\"#ed7953\"],[0.7777777777777778,\"#fb9f3a\"],[0.8888888888888888,\"#fdca26\"],[1.0,\"#f0f921\"]]},\"colorway\":[\"#636efa\",\"#EF553B\",\"#00cc96\",\"#ab63fa\",\"#FFA15A\",\"#19d3f3\",\"#FF6692\",\"#B6E880\",\"#FF97FF\",\"#FECB52\"],\"font\":{\"color\":\"#2a3f5f\"},\"geo\":{\"bgcolor\":\"white\",\"lakecolor\":\"white\",\"landcolor\":\"#E5ECF6\",\"showlakes\":true,\"showland\":true,\"subunitcolor\":\"white\"},\"hoverlabel\":{\"align\":\"left\"},\"hovermode\":\"closest\",\"mapbox\":{\"style\":\"light\"},\"paper_bgcolor\":\"white\",\"plot_bgcolor\":\"#E5ECF6\",\"polar\":{\"angularaxis\":{\"gridcolor\":\"white\",\"linecolor\":\"white\",\"ticks\":\"\"},\"bgcolor\":\"#E5ECF6\",\"radialaxis\":{\"gridcolor\":\"white\",\"linecolor\":\"white\",\"ticks\":\"\"}},\"scene\":{\"xaxis\":{\"backgroundcolor\":\"#E5ECF6\",\"gridcolor\":\"white\",\"gridwidth\":2,\"linecolor\":\"white\",\"showbackground\":true,\"ticks\":\"\",\"zerolinecolor\":\"white\"},\"yaxis\":{\"backgroundcolor\":\"#E5ECF6\",\"gridcolor\":\"white\",\"gridwidth\":2,\"linecolor\":\"white\",\"showbackground\":true,\"ticks\":\"\",\"zerolinecolor\":\"white\"},\"zaxis\":{\"backgroundcolor\":\"#E5ECF6\",\"gridcolor\":\"white\",\"gridwidth\":2,\"linecolor\":\"white\",\"showbackground\":true,\"ticks\":\"\",\"zerolinecolor\":\"white\"}},\"shapedefaults\":{\"line\":{\"color\":\"#2a3f5f\"}},\"ternary\":{\"aaxis\":{\"gridcolor\":\"white\",\"linecolor\":\"white\",\"ticks\":\"\"},\"baxis\":{\"gridcolor\":\"white\",\"linecolor\":\"white\",\"ticks\":\"\"},\"bgcolor\":\"#E5ECF6\",\"caxis\":{\"gridcolor\":\"white\",\"linecolor\":\"white\",\"ticks\":\"\"}},\"title\":{\"x\":0.05},\"xaxis\":{\"automargin\":true,\"gridcolor\":\"white\",\"linecolor\":\"white\",\"ticks\":\"\",\"title\":{\"standoff\":15},\"zerolinecolor\":\"white\",\"zerolinewidth\":2},\"yaxis\":{\"automargin\":true,\"gridcolor\":\"white\",\"linecolor\":\"white\",\"ticks\":\"\",\"title\":{\"standoff\":15},\"zerolinecolor\":\"white\",\"zerolinewidth\":2}}},\"width\":700,\"height\":700},                        {\"responsive\": true}                    ).then(function(){\n",
       "                            \n",
       "var gd = document.getElementById('e8c091c4-b83d-49d7-a267-f07576c40c5a');\n",
       "var x = new MutationObserver(function (mutations, observer) {{\n",
       "        var display = window.getComputedStyle(gd).display;\n",
       "        if (!display || display === 'none') {{\n",
       "            console.log([gd, 'removed!']);\n",
       "            Plotly.purge(gd);\n",
       "            observer.disconnect();\n",
       "        }}\n",
       "}});\n",
       "\n",
       "// Listen for the removal of the full notebook cells\n",
       "var notebookContainer = gd.closest('#notebook-container');\n",
       "if (notebookContainer) {{\n",
       "    x.observe(notebookContainer, {childList: true});\n",
       "}}\n",
       "\n",
       "// Listen for the clearing of the current output cell\n",
       "var outputEl = gd.closest('.output');\n",
       "if (outputEl) {{\n",
       "    x.observe(outputEl, {childList: true});\n",
       "}}\n",
       "\n",
       "                        })                };                });            </script>        </div>"
      ]
     },
     "metadata": {},
     "output_type": "display_data"
    }
   ],
   "source": [
    "fig = go.Figure(data=[go.Table(\n",
    "    header=dict(values=cols,\n",
    "                fill_color='paleturquoise',\n",
    "                align='left'),\n",
    "    cells=dict(values=[adm1datashort.icd_code, adm1datashort.long_title, adm1datashort.seq_num],\n",
    "               fill_color='lavender',\n",
    "               align='left'))\n",
    "])\n",
    "fig.update_layout(width=700, height=700)\n",
    "fig.show()"
   ]
  },
  {
   "cell_type": "markdown",
   "id": "24249683-0140-4ee4-8bf6-375fc42adbfb",
   "metadata": {},
   "source": [
    "#### Received prescriptions"
   ]
  },
  {
   "cell_type": "code",
   "execution_count": 303,
   "id": "07509229-49f0-40e7-bbe8-46cf443635fb",
   "metadata": {},
   "outputs": [
    {
     "data": {
      "text/html": [
       "<div>\n",
       "<style scoped>\n",
       "    .dataframe tbody tr th:only-of-type {\n",
       "        vertical-align: middle;\n",
       "    }\n",
       "\n",
       "    .dataframe tbody tr th {\n",
       "        vertical-align: top;\n",
       "    }\n",
       "\n",
       "    .dataframe thead th {\n",
       "        text-align: right;\n",
       "    }\n",
       "</style>\n",
       "<table border=\"1\" class=\"dataframe\">\n",
       "  <thead>\n",
       "    <tr style=\"text-align: right;\">\n",
       "      <th></th>\n",
       "      <th>subject_id</th>\n",
       "      <th>hadm_id</th>\n",
       "      <th>pharmacy_id</th>\n",
       "      <th>starttime</th>\n",
       "      <th>stoptime</th>\n",
       "      <th>drug_type</th>\n",
       "      <th>drug</th>\n",
       "      <th>gsn</th>\n",
       "      <th>ndc</th>\n",
       "      <th>prod_strength</th>\n",
       "      <th>form_rx</th>\n",
       "      <th>dose_val_rx</th>\n",
       "      <th>dose_unit_rx</th>\n",
       "      <th>form_val_disp</th>\n",
       "      <th>form_unit_disp</th>\n",
       "      <th>doses_per_24_hrs</th>\n",
       "      <th>route</th>\n",
       "    </tr>\n",
       "  </thead>\n",
       "  <tbody>\n",
       "    <tr>\n",
       "      <th>13868803</th>\n",
       "      <td>10020740</td>\n",
       "      <td>23831430</td>\n",
       "      <td>18201238</td>\n",
       "      <td>2150-03-20 08:00:00</td>\n",
       "      <td>2150-03-21 11:00:00</td>\n",
       "      <td>BASE</td>\n",
       "      <td>Iso-Osmotic Dextrose</td>\n",
       "      <td>NaN</td>\n",
       "      <td>0.0</td>\n",
       "      <td>200ml Bag</td>\n",
       "      <td>NaN</td>\n",
       "      <td>200</td>\n",
       "      <td>mL</td>\n",
       "      <td>200</td>\n",
       "      <td>mL</td>\n",
       "      <td>2.0</td>\n",
       "      <td>IV</td>\n",
       "    </tr>\n",
       "    <tr>\n",
       "      <th>13869427</th>\n",
       "      <td>10020740</td>\n",
       "      <td>23831430</td>\n",
       "      <td>81671301</td>\n",
       "      <td>2150-03-24 12:00:00</td>\n",
       "      <td>2150-03-26 04:00:00</td>\n",
       "      <td>BASE</td>\n",
       "      <td>Iso-Osmotic Dextrose</td>\n",
       "      <td>NaN</td>\n",
       "      <td>0.0</td>\n",
       "      <td>100ml Bag</td>\n",
       "      <td>NaN</td>\n",
       "      <td>100</td>\n",
       "      <td>mL</td>\n",
       "      <td>100</td>\n",
       "      <td>mL</td>\n",
       "      <td>3.0</td>\n",
       "      <td>IV</td>\n",
       "    </tr>\n",
       "    <tr>\n",
       "      <th>13869639</th>\n",
       "      <td>10020740</td>\n",
       "      <td>23831430</td>\n",
       "      <td>18201238</td>\n",
       "      <td>2150-03-20 08:00:00</td>\n",
       "      <td>2150-03-21 11:00:00</td>\n",
       "      <td>MAIN</td>\n",
       "      <td>Vancomycin</td>\n",
       "      <td>043952</td>\n",
       "      <td>338355248.0</td>\n",
       "      <td>1g Frozen Bag</td>\n",
       "      <td>NaN</td>\n",
       "      <td>1000</td>\n",
       "      <td>mg</td>\n",
       "      <td>1</td>\n",
       "      <td>BAG</td>\n",
       "      <td>2.0</td>\n",
       "      <td>IV</td>\n",
       "    </tr>\n",
       "    <tr>\n",
       "      <th>13869901</th>\n",
       "      <td>10020740</td>\n",
       "      <td>23831430</td>\n",
       "      <td>4571809</td>\n",
       "      <td>2150-03-11 18:00:00</td>\n",
       "      <td>2150-03-23 21:00:00</td>\n",
       "      <td>MAIN</td>\n",
       "      <td>Sodium Chloride 0.9%  Flush</td>\n",
       "      <td>NaN</td>\n",
       "      <td>0.0</td>\n",
       "      <td>10 mL Syringe</td>\n",
       "      <td>NaN</td>\n",
       "      <td>10</td>\n",
       "      <td>mL</td>\n",
       "      <td>1</td>\n",
       "      <td>SYR</td>\n",
       "      <td>1.0</td>\n",
       "      <td>IV</td>\n",
       "    </tr>\n",
       "    <tr>\n",
       "      <th>13869902</th>\n",
       "      <td>10020740</td>\n",
       "      <td>23831430</td>\n",
       "      <td>39956701</td>\n",
       "      <td>2150-03-11 18:00:00</td>\n",
       "      <td>2150-03-11 19:00:00</td>\n",
       "      <td>MAIN</td>\n",
       "      <td>Fentanyl Citrate</td>\n",
       "      <td>041384</td>\n",
       "      <td>409909332.0</td>\n",
       "      <td>100mcg/2mL Amp</td>\n",
       "      <td>NaN</td>\n",
       "      <td>25-100</td>\n",
       "      <td>mcg</td>\n",
       "      <td>0.5-2</td>\n",
       "      <td>mL</td>\n",
       "      <td>NaN</td>\n",
       "      <td>IV</td>\n",
       "    </tr>\n",
       "  </tbody>\n",
       "</table>\n",
       "</div>"
      ],
      "text/plain": [
       "          subject_id   hadm_id  pharmacy_id            starttime  \\\n",
       "13868803    10020740  23831430     18201238  2150-03-20 08:00:00   \n",
       "13869427    10020740  23831430     81671301  2150-03-24 12:00:00   \n",
       "13869639    10020740  23831430     18201238  2150-03-20 08:00:00   \n",
       "13869901    10020740  23831430      4571809  2150-03-11 18:00:00   \n",
       "13869902    10020740  23831430     39956701  2150-03-11 18:00:00   \n",
       "\n",
       "                     stoptime drug_type                         drug     gsn  \\\n",
       "13868803  2150-03-21 11:00:00      BASE         Iso-Osmotic Dextrose     NaN   \n",
       "13869427  2150-03-26 04:00:00      BASE         Iso-Osmotic Dextrose     NaN   \n",
       "13869639  2150-03-21 11:00:00      MAIN                   Vancomycin  043952   \n",
       "13869901  2150-03-23 21:00:00      MAIN  Sodium Chloride 0.9%  Flush     NaN   \n",
       "13869902  2150-03-11 19:00:00      MAIN             Fentanyl Citrate  041384   \n",
       "\n",
       "                  ndc   prod_strength form_rx dose_val_rx dose_unit_rx  \\\n",
       "13868803          0.0       200ml Bag     NaN         200           mL   \n",
       "13869427          0.0       100ml Bag     NaN         100           mL   \n",
       "13869639  338355248.0   1g Frozen Bag     NaN        1000           mg   \n",
       "13869901          0.0   10 mL Syringe     NaN          10           mL   \n",
       "13869902  409909332.0  100mcg/2mL Amp     NaN      25-100          mcg   \n",
       "\n",
       "         form_val_disp form_unit_disp  doses_per_24_hrs route  \n",
       "13868803           200             mL               2.0    IV  \n",
       "13869427           100             mL               3.0    IV  \n",
       "13869639             1            BAG               2.0    IV  \n",
       "13869901             1            SYR               1.0    IV  \n",
       "13869902         0.5-2             mL               NaN    IV  "
      ]
     },
     "execution_count": 303,
     "metadata": {},
     "output_type": "execute_result"
    }
   ],
   "source": [
    "df_patpresc.head(5)"
   ]
  },
  {
   "cell_type": "code",
   "execution_count": 219,
   "id": "e0cd9bf5-52fc-4842-adcb-361b54e8a536",
   "metadata": {},
   "outputs": [
    {
     "data": {
      "text/plain": [
       "<AxesSubplot:xlabel='hadm_id', ylabel='count'>"
      ]
     },
     "execution_count": 219,
     "metadata": {},
     "output_type": "execute_result"
    },
    {
     "data": {
      "image/png": "[encoded data removed]",
      "text/plain": [
       "<Figure size 432x432 with 1 Axes>"
      ]
     },
     "metadata": {
      "needs_background": "light"
     },
     "output_type": "display_data"
    }
   ],
   "source": [
    "fig, ax = plt.subplots(figsize=(6, 6))\n",
    "sns.countplot(x='hadm_id', data=df_patpresc, order = df_patpresc['hadm_id'].value_counts().index)"
   ]
  },
  {
   "cell_type": "code",
   "execution_count": 370,
   "id": "7b3bf2a1-3258-43ed-97bc-0de7490a24be",
   "metadata": {},
   "outputs": [
    {
     "data": {
      "text/plain": [
       "[23831430, 25826145, 29820177, 23199774, 23143086]"
      ]
     },
     "execution_count": 370,
     "metadata": {},
     "output_type": "execute_result"
    }
   ],
   "source": [
    "#adm_id = patientadms['hadm_id'].sample(n=1).iloc[0]\n",
    "admissions"
   ]
  },
  {
   "cell_type": "code",
   "execution_count": 420,
   "id": "4a0a3fd5-13b8-4ab3-83e0-73097b7ce829",
   "metadata": {},
   "outputs": [],
   "source": [
    "adm_id = 23143086"
   ]
  },
  {
   "cell_type": "code",
   "execution_count": 421,
   "id": "84bbeb9a-f84e-49af-9bcf-14187a2ec5c0",
   "metadata": {},
   "outputs": [],
   "source": [
    "#df_patpresc[df_patpresc['hadm_id'] == adm_id].head(3)"
   ]
  },
  {
   "cell_type": "code",
   "execution_count": 422,
   "id": "f19b5500-1ec2-4ef4-b833-d43d37385e55",
   "metadata": {},
   "outputs": [],
   "source": [
    "df_patpresc_adm = df_patpresc[df_patpresc['hadm_id'] == adm_id]"
   ]
  },
  {
   "cell_type": "code",
   "execution_count": 423,
   "id": "61d08e9f-c285-425e-8a81-ee4e68e3904d",
   "metadata": {},
   "outputs": [],
   "source": [
    "import plotly.graph_objs as go"
   ]
  },
  {
   "cell_type": "code",
   "execution_count": 424,
   "id": "369d1400-861e-4422-b81f-288722dd1a27",
   "metadata": {},
   "outputs": [
    {
     "data": {
      "text/html": [
       "<div>\n",
       "<style scoped>\n",
       "    .dataframe tbody tr th:only-of-type {\n",
       "        vertical-align: middle;\n",
       "    }\n",
       "\n",
       "    .dataframe tbody tr th {\n",
       "        vertical-align: top;\n",
       "    }\n",
       "\n",
       "    .dataframe thead th {\n",
       "        text-align: right;\n",
       "    }\n",
       "</style>\n",
       "<table border=\"1\" class=\"dataframe\">\n",
       "  <thead>\n",
       "    <tr style=\"text-align: right;\">\n",
       "      <th></th>\n",
       "      <th>subject_id</th>\n",
       "      <th>hadm_id</th>\n",
       "      <th>pharmacy_id</th>\n",
       "      <th>starttime</th>\n",
       "      <th>stoptime</th>\n",
       "      <th>drug_type</th>\n",
       "      <th>drug</th>\n",
       "      <th>gsn</th>\n",
       "      <th>ndc</th>\n",
       "      <th>prod_strength</th>\n",
       "      <th>form_rx</th>\n",
       "      <th>dose_val_rx</th>\n",
       "      <th>dose_unit_rx</th>\n",
       "      <th>form_val_disp</th>\n",
       "      <th>form_unit_disp</th>\n",
       "      <th>doses_per_24_hrs</th>\n",
       "      <th>route</th>\n",
       "    </tr>\n",
       "  </thead>\n",
       "  <tbody>\n",
       "  </tbody>\n",
       "</table>\n",
       "</div>"
      ],
      "text/plain": [
       "Empty DataFrame\n",
       "Columns: [subject_id, hadm_id, pharmacy_id, starttime, stoptime, drug_type, drug, gsn, ndc, prod_strength, form_rx, dose_val_rx, dose_unit_rx, form_val_disp, form_unit_disp, doses_per_24_hrs, route]\n",
       "Index: []"
      ]
     },
     "execution_count": 424,
     "metadata": {},
     "output_type": "execute_result"
    }
   ],
   "source": [
    "df_patpresc_adm.head(3)"
   ]
  },
  {
   "cell_type": "code",
   "execution_count": 407,
   "id": "57dc1113-a346-4787-85e5-f7986938c5fe",
   "metadata": {},
   "outputs": [],
   "source": [
    "import random"
   ]
  },
  {
   "cell_type": "code",
   "execution_count": 413,
   "id": "20028190-6a74-4098-b389-33b235eee01d",
   "metadata": {},
   "outputs": [],
   "source": [
    "#uniquedrugs = random.sample(df_patpresc_adm['drug'].unique().tolist(), 5)"
   ]
  },
  {
   "cell_type": "code",
   "execution_count": 414,
   "id": "407ccb23-f08c-4edd-b023-ac3d9758b1b3",
   "metadata": {},
   "outputs": [
    {
     "data": {
      "text/plain": [
       "['Glucagon',\n",
       " 'Glucose Gel',\n",
       " 'MetFORMIN (Glucophage)',\n",
       " 'Vial',\n",
       " 'Lorazepam',\n",
       " 'Senna',\n",
       " 'DiphenhydrAMINE',\n",
       " 'Acetaminophen IV',\n",
       " 'Pantoprazole',\n",
       " 'Acetaminophen']"
      ]
     },
     "execution_count": 414,
     "metadata": {},
     "output_type": "execute_result"
    }
   ],
   "source": [
    "uniquedrugs"
   ]
  },
  {
   "cell_type": "code",
   "execution_count": 415,
   "id": "4b087086-9436-4f2f-8bc7-56586de0354f",
   "metadata": {},
   "outputs": [
    {
     "data": {
      "text/plain": [
       "['Glucagon',\n",
       " 'Glucose Gel',\n",
       " 'MetFORMIN (Glucophage)',\n",
       " 'Vial',\n",
       " 'Lorazepam',\n",
       " 'Senna',\n",
       " 'DiphenhydrAMINE',\n",
       " 'Acetaminophen IV',\n",
       " 'Pantoprazole',\n",
       " 'Acetaminophen']"
      ]
     },
     "execution_count": 415,
     "metadata": {},
     "output_type": "execute_result"
    }
   ],
   "source": [
    "uniquedrugs"
   ]
  },
  {
   "cell_type": "code",
   "execution_count": 417,
   "id": "ccd7332c-467d-4b98-b727-35d5b8977ac0",
   "metadata": {},
   "outputs": [],
   "source": [
    "uniquedrugs = random.sample(df_patpresc_adm['drug'].unique().tolist(), 10)\n",
    "df_patpresc_admunq = df_patpresc_adm[df_patpresc_adm['drug'].isin(uniquedrugs)]"
   ]
  },
  {
   "cell_type": "code",
   "execution_count": 419,
   "id": "4aeeef00-ca7e-4253-bdf7-682ab23e9f18",
   "metadata": {},
   "outputs": [
    {
     "data": {
      "application/vnd.plotly.v1+json": {
       "config": {
        "plotlyServerURL": "https://plot.ly"
       },
       "data": [
        {
         "alignmentgroup": "True",
         "base": [
          "2150-06-03 20:00:00"
         ],
         "hovertemplate": "drug=Heparin<br>starttime=%{base}<br>stoptime=%{x}<br>prod_strength=%{y}<extra></extra>",
         "legendgroup": "Heparin",
         "marker": {
          "color": "#636efa"
         },
         "name": "Heparin",
         "offsetgroup": "Heparin",
         "orientation": "h",
         "showlegend": true,
         "textposition": "auto",
         "type": "bar",
         "width": 0.08,
         "x": [
          342000000
         ],
         "xaxis": "x",
         "y": [
          "5000 Units / mL- 1mL Vial"
         ],
         "yaxis": "y"
        },
        {
         "alignmentgroup": "True",
         "base": [
          "2150-06-03 21:00:00"
         ],
         "hovertemplate": "drug=Sodium Chloride 0.9%  Flush<br>starttime=%{base}<br>stoptime=%{x}<br>prod_strength=%{y}<extra></extra>",
         "legendgroup": "Sodium Chloride 0.9%  Flush",
         "marker": {
          "color": "#EF553B"
         },
         "name": "Sodium Chloride 0.9%  Flush",
         "offsetgroup": "Sodium Chloride 0.9%  Flush",
         "orientation": "h",
         "showlegend": true,
         "textposition": "auto",
         "type": "bar",
         "width": 0.08,
         "x": [
          338400000
         ],
         "xaxis": "x",
         "y": [
          "10 mL Syringe"
         ],
         "yaxis": "y"
        },
        {
         "alignmentgroup": "True",
         "base": [
          "2150-06-03 21:00:00"
         ],
         "hovertemplate": "drug=Dextrose 50%<br>starttime=%{base}<br>stoptime=%{x}<br>prod_strength=%{y}<extra></extra>",
         "legendgroup": "Dextrose 50%",
         "marker": {
          "color": "#00cc96"
         },
         "name": "Dextrose 50%",
         "offsetgroup": "Dextrose 50%",
         "orientation": "h",
         "showlegend": true,
         "textposition": "auto",
         "type": "bar",
         "width": 0.08,
         "x": [
          338400000
         ],
         "xaxis": "x",
         "y": [
          "25 g / 50 mL Syringe"
         ],
         "yaxis": "y"
        },
        {
         "alignmentgroup": "True",
         "base": [
          "2150-06-03 21:00:00"
         ],
         "hovertemplate": "drug=Glucose Gel<br>starttime=%{base}<br>stoptime=%{x}<br>prod_strength=%{y}<extra></extra>",
         "legendgroup": "Glucose Gel",
         "marker": {
          "color": "#ab63fa"
         },
         "name": "Glucose Gel",
         "offsetgroup": "Glucose Gel",
         "orientation": "h",
         "showlegend": true,
         "textposition": "auto",
         "type": "bar",
         "width": 0.08,
         "x": [
          338400000
         ],
         "xaxis": "x",
         "y": [
          "15 g Tube"
         ],
         "yaxis": "y"
        },
        {
         "alignmentgroup": "True",
         "base": [
          "2150-06-04 02:00:00",
          "2150-06-04 02:00:00",
          "2150-06-04 02:00:00"
         ],
         "hovertemplate": "drug=Bag<br>starttime=%{base}<br>stoptime=%{x}<br>prod_strength=%{y}<extra></extra>",
         "legendgroup": "Bag",
         "marker": {
          "color": "#FFA15A"
         },
         "name": "Bag",
         "offsetgroup": "Bag",
         "orientation": "h",
         "showlegend": true,
         "textposition": "auto",
         "type": "bar",
         "width": 0.08,
         "x": [
          68400000,
          68400000,
          68400000
         ],
         "xaxis": "x",
         "y": [
          "50 mL Bag",
          "50 mL Bag",
          "50 mL Bag"
         ],
         "yaxis": "y"
        },
        {
         "alignmentgroup": "True",
         "base": [
          "2150-06-04 08:00:00",
          "2150-06-04 08:00:00"
         ],
         "hovertemplate": "drug=Acetaminophen<br>starttime=%{base}<br>stoptime=%{x}<br>prod_strength=%{y}<extra></extra>",
         "legendgroup": "Acetaminophen",
         "marker": {
          "color": "#19d3f3"
         },
         "name": "Acetaminophen",
         "offsetgroup": "Acetaminophen",
         "orientation": "h",
         "showlegend": true,
         "textposition": "auto",
         "type": "bar",
         "width": 0.08,
         "x": [
          298800000,
          298800000
         ],
         "xaxis": "x",
         "y": [
          "325mg Tablet",
          "650mg UD Cup"
         ],
         "yaxis": "y"
        },
        {
         "alignmentgroup": "True",
         "base": [
          "2150-06-04 08:00:00"
         ],
         "hovertemplate": "drug=Lorazepam<br>starttime=%{base}<br>stoptime=%{x}<br>prod_strength=%{y}<extra></extra>",
         "legendgroup": "Lorazepam",
         "marker": {
          "color": "#FF6692"
         },
         "name": "Lorazepam",
         "offsetgroup": "Lorazepam",
         "orientation": "h",
         "showlegend": true,
         "textposition": "auto",
         "type": "bar",
         "width": 0.08,
         "x": [
          298800000
         ],
         "xaxis": "x",
         "y": [
          "1mg Tablet"
         ],
         "yaxis": "y"
        },
        {
         "alignmentgroup": "True",
         "base": [
          "2150-06-04 22:00:00"
         ],
         "hovertemplate": "drug=D5 1/2NS<br>starttime=%{base}<br>stoptime=%{x}<br>prod_strength=%{y}<extra></extra>",
         "legendgroup": "D5 1/2NS",
         "marker": {
          "color": "#B6E880"
         },
         "name": "D5 1/2NS",
         "offsetgroup": "D5 1/2NS",
         "orientation": "h",
         "showlegend": true,
         "textposition": "auto",
         "type": "bar",
         "width": 0.08,
         "x": [
          108000000
         ],
         "xaxis": "x",
         "y": [
          "1000mL Bag"
         ],
         "yaxis": "y"
        },
        {
         "alignmentgroup": "True",
         "base": [
          "2150-06-06 15:00:00",
          "2150-06-08 08:00:00"
         ],
         "hovertemplate": "drug=Bisacodyl<br>starttime=%{base}<br>stoptime=%{x}<br>prod_strength=%{y}<extra></extra>",
         "legendgroup": "Bisacodyl",
         "marker": {
          "color": "#FF97FF"
         },
         "name": "Bisacodyl",
         "offsetgroup": "Bisacodyl",
         "orientation": "h",
         "showlegend": true,
         "textposition": "auto",
         "type": "bar",
         "width": 0.08,
         "x": [
          100800000,
          -46800000
         ],
         "xaxis": "x",
         "y": [
          "10mg Suppository",
          "10mg Suppository"
         ],
         "yaxis": "y"
        },
        {
         "alignmentgroup": "True",
         "base": [
          "2150-06-06 20:00:00"
         ],
         "hovertemplate": "drug=MetFORMIN (Glucophage)<br>starttime=%{base}<br>stoptime=%{x}<br>prod_strength=%{y}<extra></extra>",
         "legendgroup": "MetFORMIN (Glucophage)",
         "marker": {
          "color": "#FECB52"
         },
         "name": "MetFORMIN (Glucophage)",
         "offsetgroup": "MetFORMIN (Glucophage)",
         "orientation": "h",
         "showlegend": true,
         "textposition": "auto",
         "type": "bar",
         "width": 0.08,
         "x": [
          82800000
         ],
         "xaxis": "x",
         "y": [
          "500mg Tablet"
         ],
         "yaxis": "y"
        }
       ],
       "layout": {
        "barmode": "overlay",
        "height": 500,
        "legend": {
         "title": {
          "text": "Drug type"
         },
         "tracegroupgap": 0
        },
        "template": {
         "data": {
          "bar": [
           {
            "error_x": {
             "color": "#2a3f5f"
            },
            "error_y": {
             "color": "#2a3f5f"
            },
            "marker": {
             "line": {
              "color": "#E5ECF6",
              "width": 0.5
             },
             "pattern": {
              "fillmode": "overlay",
              "size": 10,
              "solidity": 0.2
             }
            },
            "type": "bar"
           }
          ],
          "barpolar": [
           {
            "marker": {
             "line": {
              "color": "#E5ECF6",
              "width": 0.5
             },
             "pattern": {
              "fillmode": "overlay",
              "size": 10,
              "solidity": 0.2
             }
            },
            "type": "barpolar"
           }
          ],
          "carpet": [
           {
            "aaxis": {
             "endlinecolor": "#2a3f5f",
             "gridcolor": "white",
             "linecolor": "white",
             "minorgridcolor": "white",
             "startlinecolor": "#2a3f5f"
            },
            "baxis": {
             "endlinecolor": "#2a3f5f",
             "gridcolor": "white",
             "linecolor": "white",
             "minorgridcolor": "white",
             "startlinecolor": "#2a3f5f"
            },
            "type": "carpet"
           }
          ],
          "choropleth": [
           {
            "colorbar": {
             "outlinewidth": 0,
             "ticks": ""
            },
            "type": "choropleth"
           }
          ],
          "contour": [
           {
            "colorbar": {
             "outlinewidth": 0,
             "ticks": ""
            },
            "colorscale": [
             [
              0,
              "#0d0887"
             ],
             [
              0.1111111111111111,
              "#46039f"
             ],
             [
              0.2222222222222222,
              "#7201a8"
             ],
             [
              0.3333333333333333,
              "#9c179e"
             ],
             [
              0.4444444444444444,
              "#bd3786"
             ],
             [
              0.5555555555555556,
              "#d8576b"
             ],
             [
              0.6666666666666666,
              "#ed7953"
             ],
             [
              0.7777777777777778,
              "#fb9f3a"
             ],
             [
              0.8888888888888888,
              "#fdca26"
             ],
             [
              1,
              "#f0f921"
             ]
            ],
            "type": "contour"
           }
          ],
          "contourcarpet": [
           {
            "colorbar": {
             "outlinewidth": 0,
             "ticks": ""
            },
            "type": "contourcarpet"
           }
          ],
          "heatmap": [
           {
            "colorbar": {
             "outlinewidth": 0,
             "ticks": ""
            },
            "colorscale": [
             [
              0,
              "#0d0887"
             ],
             [
              0.1111111111111111,
              "#46039f"
             ],
             [
              0.2222222222222222,
              "#7201a8"
             ],
             [
              0.3333333333333333,
              "#9c179e"
             ],
             [
              0.4444444444444444,
              "#bd3786"
             ],
             [
              0.5555555555555556,
              "#d8576b"
             ],
             [
              0.6666666666666666,
              "#ed7953"
             ],
             [
              0.7777777777777778,
              "#fb9f3a"
             ],
             [
              0.8888888888888888,
              "#fdca26"
             ],
             [
              1,
              "#f0f921"
             ]
            ],
            "type": "heatmap"
           }
          ],
          "heatmapgl": [
           {
            "colorbar": {
             "outlinewidth": 0,
             "ticks": ""
            },
            "colorscale": [
             [
              0,
              "#0d0887"
             ],
             [
              0.1111111111111111,
              "#46039f"
             ],
             [
              0.2222222222222222,
              "#7201a8"
             ],
             [
              0.3333333333333333,
              "#9c179e"
             ],
             [
              0.4444444444444444,
              "#bd3786"
             ],
             [
              0.5555555555555556,
              "#d8576b"
             ],
             [
              0.6666666666666666,
              "#ed7953"
             ],
             [
              0.7777777777777778,
              "#fb9f3a"
             ],
             [
              0.8888888888888888,
              "#fdca26"
             ],
             [
              1,
              "#f0f921"
             ]
            ],
            "type": "heatmapgl"
           }
          ],
          "histogram": [
           {
            "marker": {
             "pattern": {
              "fillmode": "overlay",
              "size": 10,
              "solidity": 0.2
             }
            },
            "type": "histogram"
           }
          ],
          "histogram2d": [
           {
            "colorbar": {
             "outlinewidth": 0,
             "ticks": ""
            },
            "colorscale": [
             [
              0,
              "#0d0887"
             ],
             [
              0.1111111111111111,
              "#46039f"
             ],
             [
              0.2222222222222222,
              "#7201a8"
             ],
             [
              0.3333333333333333,
              "#9c179e"
             ],
             [
              0.4444444444444444,
              "#bd3786"
             ],
             [
              0.5555555555555556,
              "#d8576b"
             ],
             [
              0.6666666666666666,
              "#ed7953"
             ],
             [
              0.7777777777777778,
              "#fb9f3a"
             ],
             [
              0.8888888888888888,
              "#fdca26"
             ],
             [
              1,
              "#f0f921"
             ]
            ],
            "type": "histogram2d"
           }
          ],
          "histogram2dcontour": [
           {
            "colorbar": {
             "outlinewidth": 0,
             "ticks": ""
            },
            "colorscale": [
             [
              0,
              "#0d0887"
             ],
             [
              0.1111111111111111,
              "#46039f"
             ],
             [
              0.2222222222222222,
              "#7201a8"
             ],
             [
              0.3333333333333333,
              "#9c179e"
             ],
             [
              0.4444444444444444,
              "#bd3786"
             ],
             [
              0.5555555555555556,
              "#d8576b"
             ],
             [
              0.6666666666666666,
              "#ed7953"
             ],
             [
              0.7777777777777778,
              "#fb9f3a"
             ],
             [
              0.8888888888888888,
              "#fdca26"
             ],
             [
              1,
              "#f0f921"
             ]
            ],
            "type": "histogram2dcontour"
           }
          ],
          "mesh3d": [
           {
            "colorbar": {
             "outlinewidth": 0,
             "ticks": ""
            },
            "type": "mesh3d"
           }
          ],
          "parcoords": [
           {
            "line": {
             "colorbar": {
              "outlinewidth": 0,
              "ticks": ""
             }
            },
            "type": "parcoords"
           }
          ],
          "pie": [
           {
            "automargin": true,
            "type": "pie"
           }
          ],
          "scatter": [
           {
            "marker": {
             "colorbar": {
              "outlinewidth": 0,
              "ticks": ""
             }
            },
            "type": "scatter"
           }
          ],
          "scatter3d": [
           {
            "line": {
             "colorbar": {
              "outlinewidth": 0,
              "ticks": ""
             }
            },
            "marker": {
             "colorbar": {
              "outlinewidth": 0,
              "ticks": ""
             }
            },
            "type": "scatter3d"
           }
          ],
          "scattercarpet": [
           {
            "marker": {
             "colorbar": {
              "outlinewidth": 0,
              "ticks": ""
             }
            },
            "type": "scattercarpet"
           }
          ],
          "scattergeo": [
           {
            "marker": {
             "colorbar": {
              "outlinewidth": 0,
              "ticks": ""
             }
            },
            "type": "scattergeo"
           }
          ],
          "scattergl": [
           {
            "marker": {
             "colorbar": {
              "outlinewidth": 0,
              "ticks": ""
             }
            },
            "type": "scattergl"
           }
          ],
          "scattermapbox": [
           {
            "marker": {
             "colorbar": {
              "outlinewidth": 0,
              "ticks": ""
             }
            },
            "type": "scattermapbox"
           }
          ],
          "scatterpolar": [
           {
            "marker": {
             "colorbar": {
              "outlinewidth": 0,
              "ticks": ""
             }
            },
            "type": "scatterpolar"
           }
          ],
          "scatterpolargl": [
           {
            "marker": {
             "colorbar": {
              "outlinewidth": 0,
              "ticks": ""
             }
            },
            "type": "scatterpolargl"
           }
          ],
          "scatterternary": [
           {
            "marker": {
             "colorbar": {
              "outlinewidth": 0,
              "ticks": ""
             }
            },
            "type": "scatterternary"
           }
          ],
          "surface": [
           {
            "colorbar": {
             "outlinewidth": 0,
             "ticks": ""
            },
            "colorscale": [
             [
              0,
              "#0d0887"
             ],
             [
              0.1111111111111111,
              "#46039f"
             ],
             [
              0.2222222222222222,
              "#7201a8"
             ],
             [
              0.3333333333333333,
              "#9c179e"
             ],
             [
              0.4444444444444444,
              "#bd3786"
             ],
             [
              0.5555555555555556,
              "#d8576b"
             ],
             [
              0.6666666666666666,
              "#ed7953"
             ],
             [
              0.7777777777777778,
              "#fb9f3a"
             ],
             [
              0.8888888888888888,
              "#fdca26"
             ],
             [
              1,
              "#f0f921"
             ]
            ],
            "type": "surface"
           }
          ],
          "table": [
           {
            "cells": {
             "fill": {
              "color": "#EBF0F8"
             },
             "line": {
              "color": "white"
             }
            },
            "header": {
             "fill": {
              "color": "#C8D4E3"
             },
             "line": {
              "color": "white"
             }
            },
            "type": "table"
           }
          ]
         },
         "layout": {
          "annotationdefaults": {
           "arrowcolor": "#2a3f5f",
           "arrowhead": 0,
           "arrowwidth": 1
          },
          "autotypenumbers": "strict",
          "coloraxis": {
           "colorbar": {
            "outlinewidth": 0,
            "ticks": ""
           }
          },
          "colorscale": {
           "diverging": [
            [
             0,
             "#8e0152"
            ],
            [
             0.1,
             "#c51b7d"
            ],
            [
             0.2,
             "#de77ae"
            ],
            [
             0.3,
             "#f1b6da"
            ],
            [
             0.4,
             "#fde0ef"
            ],
            [
             0.5,
             "#f7f7f7"
            ],
            [
             0.6,
             "#e6f5d0"
            ],
            [
             0.7,
             "#b8e186"
            ],
            [
             0.8,
             "#7fbc41"
            ],
            [
             0.9,
             "#4d9221"
            ],
            [
             1,
             "#276419"
            ]
           ],
           "sequential": [
            [
             0,
             "#0d0887"
            ],
            [
             0.1111111111111111,
             "#46039f"
            ],
            [
             0.2222222222222222,
             "#7201a8"
            ],
            [
             0.3333333333333333,
             "#9c179e"
            ],
            [
             0.4444444444444444,
             "#bd3786"
            ],
            [
             0.5555555555555556,
             "#d8576b"
            ],
            [
             0.6666666666666666,
             "#ed7953"
            ],
            [
             0.7777777777777778,
             "#fb9f3a"
            ],
            [
             0.8888888888888888,
             "#fdca26"
            ],
            [
             1,
             "#f0f921"
            ]
           ],
           "sequentialminus": [
            [
             0,
             "#0d0887"
            ],
            [
             0.1111111111111111,
             "#46039f"
            ],
            [
             0.2222222222222222,
             "#7201a8"
            ],
            [
             0.3333333333333333,
             "#9c179e"
            ],
            [
             0.4444444444444444,
             "#bd3786"
            ],
            [
             0.5555555555555556,
             "#d8576b"
            ],
            [
             0.6666666666666666,
             "#ed7953"
            ],
            [
             0.7777777777777778,
             "#fb9f3a"
            ],
            [
             0.8888888888888888,
             "#fdca26"
            ],
            [
             1,
             "#f0f921"
            ]
           ]
          },
          "colorway": [
           "#636efa",
           "#EF553B",
           "#00cc96",
           "#ab63fa",
           "#FFA15A",
           "#19d3f3",
           "#FF6692",
           "#B6E880",
           "#FF97FF",
           "#FECB52"
          ],
          "font": {
           "color": "#2a3f5f"
          },
          "geo": {
           "bgcolor": "white",
           "lakecolor": "white",
           "landcolor": "#E5ECF6",
           "showlakes": true,
           "showland": true,
           "subunitcolor": "white"
          },
          "hoverlabel": {
           "align": "left"
          },
          "hovermode": "closest",
          "mapbox": {
           "style": "light"
          },
          "paper_bgcolor": "white",
          "plot_bgcolor": "#E5ECF6",
          "polar": {
           "angularaxis": {
            "gridcolor": "white",
            "linecolor": "white",
            "ticks": ""
           },
           "bgcolor": "#E5ECF6",
           "radialaxis": {
            "gridcolor": "white",
            "linecolor": "white",
            "ticks": ""
           }
          },
          "scene": {
           "xaxis": {
            "backgroundcolor": "#E5ECF6",
            "gridcolor": "white",
            "gridwidth": 2,
            "linecolor": "white",
            "showbackground": true,
            "ticks": "",
            "zerolinecolor": "white"
           },
           "yaxis": {
            "backgroundcolor": "#E5ECF6",
            "gridcolor": "white",
            "gridwidth": 2,
            "linecolor": "white",
            "showbackground": true,
            "ticks": "",
            "zerolinecolor": "white"
           },
           "zaxis": {
            "backgroundcolor": "#E5ECF6",
            "gridcolor": "white",
            "gridwidth": 2,
            "linecolor": "white",
            "showbackground": true,
            "ticks": "",
            "zerolinecolor": "white"
           }
          },
          "shapedefaults": {
           "line": {
            "color": "#2a3f5f"
           }
          },
          "ternary": {
           "aaxis": {
            "gridcolor": "white",
            "linecolor": "white",
            "ticks": ""
           },
           "baxis": {
            "gridcolor": "white",
            "linecolor": "white",
            "ticks": ""
           },
           "bgcolor": "#E5ECF6",
           "caxis": {
            "gridcolor": "white",
            "linecolor": "white",
            "ticks": ""
           }
          },
          "title": {
           "x": 0.05
          },
          "xaxis": {
           "automargin": true,
           "gridcolor": "white",
           "linecolor": "white",
           "ticks": "",
           "title": {
            "standoff": 15
           },
           "zerolinecolor": "white",
           "zerolinewidth": 2
          },
          "yaxis": {
           "automargin": true,
           "gridcolor": "white",
           "linecolor": "white",
           "ticks": "",
           "title": {
            "standoff": 15
           },
           "zerolinecolor": "white",
           "zerolinewidth": 2
          }
         }
        },
        "title": {
         "text": "Prescriptions during admission 25826145"
        },
        "width": 1000,
        "xaxis": {
         "anchor": "y",
         "domain": [
          0,
          1
         ],
         "range": [
          "2150-06-03 20:00:00",
          "2150-06-07 19:00:00"
         ],
         "title": {
          "text": "Time"
         },
         "type": "date"
        },
        "yaxis": {
         "anchor": "x",
         "autorange": true,
         "domain": [
          0,
          1
         ],
         "range": [
          10.5,
          -0.5
         ],
         "title": {
          "text": "Dose"
         },
         "type": "category"
        }
       }
      },
      "image/png": "[encoded data removed]",
      "text/html": [
       "<div>                            <div id=\"1dad02da-c73f-4436-b58f-e3ed6ab93083\" class=\"plotly-graph-div\" style=\"height:500px; width:1000px;\"></div>            <script type=\"text/javascript\">                require([\"plotly\"], function(Plotly) {                    window.PLOTLYENV=window.PLOTLYENV || {};                                    if (document.getElementById(\"1dad02da-c73f-4436-b58f-e3ed6ab93083\")) {                    Plotly.newPlot(                        \"1dad02da-c73f-4436-b58f-e3ed6ab93083\",                        [{\"alignmentgroup\":\"True\",\"base\":[\"2150-06-03 20:00:00\"],\"hovertemplate\":\"drug=Heparin<br>starttime=%{base}<br>stoptime=%{x}<br>prod_strength=%{y}<extra></extra>\",\"legendgroup\":\"Heparin\",\"marker\":{\"color\":\"#636efa\"},\"name\":\"Heparin\",\"offsetgroup\":\"Heparin\",\"orientation\":\"h\",\"showlegend\":true,\"textposition\":\"auto\",\"x\":[342000000.0],\"xaxis\":\"x\",\"y\":[\"5000 Units / mL- 1mL Vial\"],\"yaxis\":\"y\",\"type\":\"bar\",\"width\":0.08},{\"alignmentgroup\":\"True\",\"base\":[\"2150-06-03 21:00:00\"],\"hovertemplate\":\"drug=Sodium Chloride 0.9%  Flush<br>starttime=%{base}<br>stoptime=%{x}<br>prod_strength=%{y}<extra></extra>\",\"legendgroup\":\"Sodium Chloride 0.9%  Flush\",\"marker\":{\"color\":\"#EF553B\"},\"name\":\"Sodium Chloride 0.9%  Flush\",\"offsetgroup\":\"Sodium Chloride 0.9%  Flush\",\"orientation\":\"h\",\"showlegend\":true,\"textposition\":\"auto\",\"x\":[338400000.0],\"xaxis\":\"x\",\"y\":[\"10 mL Syringe\"],\"yaxis\":\"y\",\"type\":\"bar\",\"width\":0.08},{\"alignmentgroup\":\"True\",\"base\":[\"2150-06-03 21:00:00\"],\"hovertemplate\":\"drug=Dextrose 50%<br>starttime=%{base}<br>stoptime=%{x}<br>prod_strength=%{y}<extra></extra>\",\"legendgroup\":\"Dextrose 50%\",\"marker\":{\"color\":\"#00cc96\"},\"name\":\"Dextrose 50%\",\"offsetgroup\":\"Dextrose 50%\",\"orientation\":\"h\",\"showlegend\":true,\"textposition\":\"auto\",\"x\":[338400000.0],\"xaxis\":\"x\",\"y\":[\"25 g / 50 mL Syringe\"],\"yaxis\":\"y\",\"type\":\"bar\",\"width\":0.08},{\"alignmentgroup\":\"True\",\"base\":[\"2150-06-03 21:00:00\"],\"hovertemplate\":\"drug=Glucose Gel<br>starttime=%{base}<br>stoptime=%{x}<br>prod_strength=%{y}<extra></extra>\",\"legendgroup\":\"Glucose Gel\",\"marker\":{\"color\":\"#ab63fa\"},\"name\":\"Glucose Gel\",\"offsetgroup\":\"Glucose Gel\",\"orientation\":\"h\",\"showlegend\":true,\"textposition\":\"auto\",\"x\":[338400000.0],\"xaxis\":\"x\",\"y\":[\"15 g Tube\"],\"yaxis\":\"y\",\"type\":\"bar\",\"width\":0.08},{\"alignmentgroup\":\"True\",\"base\":[\"2150-06-04 02:00:00\",\"2150-06-04 02:00:00\",\"2150-06-04 02:00:00\"],\"hovertemplate\":\"drug=Bag<br>starttime=%{base}<br>stoptime=%{x}<br>prod_strength=%{y}<extra></extra>\",\"legendgroup\":\"Bag\",\"marker\":{\"color\":\"#FFA15A\"},\"name\":\"Bag\",\"offsetgroup\":\"Bag\",\"orientation\":\"h\",\"showlegend\":true,\"textposition\":\"auto\",\"x\":[68400000.0,68400000.0,68400000.0],\"xaxis\":\"x\",\"y\":[\"50 mL Bag\",\"50 mL Bag\",\"50 mL Bag\"],\"yaxis\":\"y\",\"type\":\"bar\",\"width\":0.08},{\"alignmentgroup\":\"True\",\"base\":[\"2150-06-04 08:00:00\",\"2150-06-04 08:00:00\"],\"hovertemplate\":\"drug=Acetaminophen<br>starttime=%{base}<br>stoptime=%{x}<br>prod_strength=%{y}<extra></extra>\",\"legendgroup\":\"Acetaminophen\",\"marker\":{\"color\":\"#19d3f3\"},\"name\":\"Acetaminophen\",\"offsetgroup\":\"Acetaminophen\",\"orientation\":\"h\",\"showlegend\":true,\"textposition\":\"auto\",\"x\":[298800000.0,298800000.0],\"xaxis\":\"x\",\"y\":[\"325mg Tablet\",\"650mg UD Cup\"],\"yaxis\":\"y\",\"type\":\"bar\",\"width\":0.08},{\"alignmentgroup\":\"True\",\"base\":[\"2150-06-04 08:00:00\"],\"hovertemplate\":\"drug=Lorazepam<br>starttime=%{base}<br>stoptime=%{x}<br>prod_strength=%{y}<extra></extra>\",\"legendgroup\":\"Lorazepam\",\"marker\":{\"color\":\"#FF6692\"},\"name\":\"Lorazepam\",\"offsetgroup\":\"Lorazepam\",\"orientation\":\"h\",\"showlegend\":true,\"textposition\":\"auto\",\"x\":[298800000.0],\"xaxis\":\"x\",\"y\":[\"1mg Tablet\"],\"yaxis\":\"y\",\"type\":\"bar\",\"width\":0.08},{\"alignmentgroup\":\"True\",\"base\":[\"2150-06-04 22:00:00\"],\"hovertemplate\":\"drug=D5 1/2NS<br>starttime=%{base}<br>stoptime=%{x}<br>prod_strength=%{y}<extra></extra>\",\"legendgroup\":\"D5 1/2NS\",\"marker\":{\"color\":\"#B6E880\"},\"name\":\"D5 1/2NS\",\"offsetgroup\":\"D5 1/2NS\",\"orientation\":\"h\",\"showlegend\":true,\"textposition\":\"auto\",\"x\":[108000000.0],\"xaxis\":\"x\",\"y\":[\"1000mL Bag\"],\"yaxis\":\"y\",\"type\":\"bar\",\"width\":0.08},{\"alignmentgroup\":\"True\",\"base\":[\"2150-06-06 15:00:00\",\"2150-06-08 08:00:00\"],\"hovertemplate\":\"drug=Bisacodyl<br>starttime=%{base}<br>stoptime=%{x}<br>prod_strength=%{y}<extra></extra>\",\"legendgroup\":\"Bisacodyl\",\"marker\":{\"color\":\"#FF97FF\"},\"name\":\"Bisacodyl\",\"offsetgroup\":\"Bisacodyl\",\"orientation\":\"h\",\"showlegend\":true,\"textposition\":\"auto\",\"x\":[100800000.0,-46800000.0],\"xaxis\":\"x\",\"y\":[\"10mg Suppository\",\"10mg Suppository\"],\"yaxis\":\"y\",\"type\":\"bar\",\"width\":0.08},{\"alignmentgroup\":\"True\",\"base\":[\"2150-06-06 20:00:00\"],\"hovertemplate\":\"drug=MetFORMIN (Glucophage)<br>starttime=%{base}<br>stoptime=%{x}<br>prod_strength=%{y}<extra></extra>\",\"legendgroup\":\"MetFORMIN (Glucophage)\",\"marker\":{\"color\":\"#FECB52\"},\"name\":\"MetFORMIN (Glucophage)\",\"offsetgroup\":\"MetFORMIN (Glucophage)\",\"orientation\":\"h\",\"showlegend\":true,\"textposition\":\"auto\",\"x\":[82800000.0],\"xaxis\":\"x\",\"y\":[\"500mg Tablet\"],\"yaxis\":\"y\",\"type\":\"bar\",\"width\":0.08}],                        {\"template\":{\"data\":{\"bar\":[{\"error_x\":{\"color\":\"#2a3f5f\"},\"error_y\":{\"color\":\"#2a3f5f\"},\"marker\":{\"line\":{\"color\":\"#E5ECF6\",\"width\":0.5},\"pattern\":{\"fillmode\":\"overlay\",\"size\":10,\"solidity\":0.2}},\"type\":\"bar\"}],\"barpolar\":[{\"marker\":{\"line\":{\"color\":\"#E5ECF6\",\"width\":0.5},\"pattern\":{\"fillmode\":\"overlay\",\"size\":10,\"solidity\":0.2}},\"type\":\"barpolar\"}],\"carpet\":[{\"aaxis\":{\"endlinecolor\":\"#2a3f5f\",\"gridcolor\":\"white\",\"linecolor\":\"white\",\"minorgridcolor\":\"white\",\"startlinecolor\":\"#2a3f5f\"},\"baxis\":{\"endlinecolor\":\"#2a3f5f\",\"gridcolor\":\"white\",\"linecolor\":\"white\",\"minorgridcolor\":\"white\",\"startlinecolor\":\"#2a3f5f\"},\"type\":\"carpet\"}],\"choropleth\":[{\"colorbar\":{\"outlinewidth\":0,\"ticks\":\"\"},\"type\":\"choropleth\"}],\"contour\":[{\"colorbar\":{\"outlinewidth\":0,\"ticks\":\"\"},\"colorscale\":[[0.0,\"#0d0887\"],[0.1111111111111111,\"#46039f\"],[0.2222222222222222,\"#7201a8\"],[0.3333333333333333,\"#9c179e\"],[0.4444444444444444,\"#bd3786\"],[0.5555555555555556,\"#d8576b\"],[0.6666666666666666,\"#ed7953\"],[0.7777777777777778,\"#fb9f3a\"],[0.8888888888888888,\"#fdca26\"],[1.0,\"#f0f921\"]],\"type\":\"contour\"}],\"contourcarpet\":[{\"colorbar\":{\"outlinewidth\":0,\"ticks\":\"\"},\"type\":\"contourcarpet\"}],\"heatmap\":[{\"colorbar\":{\"outlinewidth\":0,\"ticks\":\"\"},\"colorscale\":[[0.0,\"#0d0887\"],[0.1111111111111111,\"#46039f\"],[0.2222222222222222,\"#7201a8\"],[0.3333333333333333,\"#9c179e\"],[0.4444444444444444,\"#bd3786\"],[0.5555555555555556,\"#d8576b\"],[0.6666666666666666,\"#ed7953\"],[0.7777777777777778,\"#fb9f3a\"],[0.8888888888888888,\"#fdca26\"],[1.0,\"#f0f921\"]],\"type\":\"heatmap\"}],\"heatmapgl\":[{\"colorbar\":{\"outlinewidth\":0,\"ticks\":\"\"},\"colorscale\":[[0.0,\"#0d0887\"],[0.1111111111111111,\"#46039f\"],[0.2222222222222222,\"#7201a8\"],[0.3333333333333333,\"#9c179e\"],[0.4444444444444444,\"#bd3786\"],[0.5555555555555556,\"#d8576b\"],[0.6666666666666666,\"#ed7953\"],[0.7777777777777778,\"#fb9f3a\"],[0.8888888888888888,\"#fdca26\"],[1.0,\"#f0f921\"]],\"type\":\"heatmapgl\"}],\"histogram\":[{\"marker\":{\"pattern\":{\"fillmode\":\"overlay\",\"size\":10,\"solidity\":0.2}},\"type\":\"histogram\"}],\"histogram2d\":[{\"colorbar\":{\"outlinewidth\":0,\"ticks\":\"\"},\"colorscale\":[[0.0,\"#0d0887\"],[0.1111111111111111,\"#46039f\"],[0.2222222222222222,\"#7201a8\"],[0.3333333333333333,\"#9c179e\"],[0.4444444444444444,\"#bd3786\"],[0.5555555555555556,\"#d8576b\"],[0.6666666666666666,\"#ed7953\"],[0.7777777777777778,\"#fb9f3a\"],[0.8888888888888888,\"#fdca26\"],[1.0,\"#f0f921\"]],\"type\":\"histogram2d\"}],\"histogram2dcontour\":[{\"colorbar\":{\"outlinewidth\":0,\"ticks\":\"\"},\"colorscale\":[[0.0,\"#0d0887\"],[0.1111111111111111,\"#46039f\"],[0.2222222222222222,\"#7201a8\"],[0.3333333333333333,\"#9c179e\"],[0.4444444444444444,\"#bd3786\"],[0.5555555555555556,\"#d8576b\"],[0.6666666666666666,\"#ed7953\"],[0.7777777777777778,\"#fb9f3a\"],[0.8888888888888888,\"#fdca26\"],[1.0,\"#f0f921\"]],\"type\":\"histogram2dcontour\"}],\"mesh3d\":[{\"colorbar\":{\"outlinewidth\":0,\"ticks\":\"\"},\"type\":\"mesh3d\"}],\"parcoords\":[{\"line\":{\"colorbar\":{\"outlinewidth\":0,\"ticks\":\"\"}},\"type\":\"parcoords\"}],\"pie\":[{\"automargin\":true,\"type\":\"pie\"}],\"scatter\":[{\"marker\":{\"colorbar\":{\"outlinewidth\":0,\"ticks\":\"\"}},\"type\":\"scatter\"}],\"scatter3d\":[{\"line\":{\"colorbar\":{\"outlinewidth\":0,\"ticks\":\"\"}},\"marker\":{\"colorbar\":{\"outlinewidth\":0,\"ticks\":\"\"}},\"type\":\"scatter3d\"}],\"scattercarpet\":[{\"marker\":{\"colorbar\":{\"outlinewidth\":0,\"ticks\":\"\"}},\"type\":\"scattercarpet\"}],\"scattergeo\":[{\"marker\":{\"colorbar\":{\"outlinewidth\":0,\"ticks\":\"\"}},\"type\":\"scattergeo\"}],\"scattergl\":[{\"marker\":{\"colorbar\":{\"outlinewidth\":0,\"ticks\":\"\"}},\"type\":\"scattergl\"}],\"scattermapbox\":[{\"marker\":{\"colorbar\":{\"outlinewidth\":0,\"ticks\":\"\"}},\"type\":\"scattermapbox\"}],\"scatterpolar\":[{\"marker\":{\"colorbar\":{\"outlinewidth\":0,\"ticks\":\"\"}},\"type\":\"scatterpolar\"}],\"scatterpolargl\":[{\"marker\":{\"colorbar\":{\"outlinewidth\":0,\"ticks\":\"\"}},\"type\":\"scatterpolargl\"}],\"scatterternary\":[{\"marker\":{\"colorbar\":{\"outlinewidth\":0,\"ticks\":\"\"}},\"type\":\"scatterternary\"}],\"surface\":[{\"colorbar\":{\"outlinewidth\":0,\"ticks\":\"\"},\"colorscale\":[[0.0,\"#0d0887\"],[0.1111111111111111,\"#46039f\"],[0.2222222222222222,\"#7201a8\"],[0.3333333333333333,\"#9c179e\"],[0.4444444444444444,\"#bd3786\"],[0.5555555555555556,\"#d8576b\"],[0.6666666666666666,\"#ed7953\"],[0.7777777777777778,\"#fb9f3a\"],[0.8888888888888888,\"#fdca26\"],[1.0,\"#f0f921\"]],\"type\":\"surface\"}],\"table\":[{\"cells\":{\"fill\":{\"color\":\"#EBF0F8\"},\"line\":{\"color\":\"white\"}},\"header\":{\"fill\":{\"color\":\"#C8D4E3\"},\"line\":{\"color\":\"white\"}},\"type\":\"table\"}]},\"layout\":{\"annotationdefaults\":{\"arrowcolor\":\"#2a3f5f\",\"arrowhead\":0,\"arrowwidth\":1},\"autotypenumbers\":\"strict\",\"coloraxis\":{\"colorbar\":{\"outlinewidth\":0,\"ticks\":\"\"}},\"colorscale\":{\"diverging\":[[0,\"#8e0152\"],[0.1,\"#c51b7d\"],[0.2,\"#de77ae\"],[0.3,\"#f1b6da\"],[0.4,\"#fde0ef\"],[0.5,\"#f7f7f7\"],[0.6,\"#e6f5d0\"],[0.7,\"#b8e186\"],[0.8,\"#7fbc41\"],[0.9,\"#4d9221\"],[1,\"#276419\"]],\"sequential\":[[0.0,\"#0d0887\"],[0.1111111111111111,\"#46039f\"],[0.2222222222222222,\"#7201a8\"],[0.3333333333333333,\"#9c179e\"],[0.4444444444444444,\"#bd3786\"],[0.5555555555555556,\"#d8576b\"],[0.6666666666666666,\"#ed7953\"],[0.7777777777777778,\"#fb9f3a\"],[0.8888888888888888,\"#fdca26\"],[1.0,\"#f0f921\"]],\"sequentialminus\":[[0.0,\"#0d0887\"],[0.1111111111111111,\"#46039f\"],[0.2222222222222222,\"#7201a8\"],[0.3333333333333333,\"#9c179e\"],[0.4444444444444444,\"#bd3786\"],[0.5555555555555556,\"#d8576b\"],[0.6666666666666666,\"#ed7953\"],[0.7777777777777778,\"#fb9f3a\"],[0.8888888888888888,\"#fdca26\"],[1.0,\"#f0f921\"]]},\"colorway\":[\"#636efa\",\"#EF553B\",\"#00cc96\",\"#ab63fa\",\"#FFA15A\",\"#19d3f3\",\"#FF6692\",\"#B6E880\",\"#FF97FF\",\"#FECB52\"],\"font\":{\"color\":\"#2a3f5f\"},\"geo\":{\"bgcolor\":\"white\",\"lakecolor\":\"white\",\"landcolor\":\"#E5ECF6\",\"showlakes\":true,\"showland\":true,\"subunitcolor\":\"white\"},\"hoverlabel\":{\"align\":\"left\"},\"hovermode\":\"closest\",\"mapbox\":{\"style\":\"light\"},\"paper_bgcolor\":\"white\",\"plot_bgcolor\":\"#E5ECF6\",\"polar\":{\"angularaxis\":{\"gridcolor\":\"white\",\"linecolor\":\"white\",\"ticks\":\"\"},\"bgcolor\":\"#E5ECF6\",\"radialaxis\":{\"gridcolor\":\"white\",\"linecolor\":\"white\",\"ticks\":\"\"}},\"scene\":{\"xaxis\":{\"backgroundcolor\":\"#E5ECF6\",\"gridcolor\":\"white\",\"gridwidth\":2,\"linecolor\":\"white\",\"showbackground\":true,\"ticks\":\"\",\"zerolinecolor\":\"white\"},\"yaxis\":{\"backgroundcolor\":\"#E5ECF6\",\"gridcolor\":\"white\",\"gridwidth\":2,\"linecolor\":\"white\",\"showbackground\":true,\"ticks\":\"\",\"zerolinecolor\":\"white\"},\"zaxis\":{\"backgroundcolor\":\"#E5ECF6\",\"gridcolor\":\"white\",\"gridwidth\":2,\"linecolor\":\"white\",\"showbackground\":true,\"ticks\":\"\",\"zerolinecolor\":\"white\"}},\"shapedefaults\":{\"line\":{\"color\":\"#2a3f5f\"}},\"ternary\":{\"aaxis\":{\"gridcolor\":\"white\",\"linecolor\":\"white\",\"ticks\":\"\"},\"baxis\":{\"gridcolor\":\"white\",\"linecolor\":\"white\",\"ticks\":\"\"},\"bgcolor\":\"#E5ECF6\",\"caxis\":{\"gridcolor\":\"white\",\"linecolor\":\"white\",\"ticks\":\"\"}},\"title\":{\"x\":0.05},\"xaxis\":{\"automargin\":true,\"gridcolor\":\"white\",\"linecolor\":\"white\",\"ticks\":\"\",\"title\":{\"standoff\":15},\"zerolinecolor\":\"white\",\"zerolinewidth\":2},\"yaxis\":{\"automargin\":true,\"gridcolor\":\"white\",\"linecolor\":\"white\",\"ticks\":\"\",\"title\":{\"standoff\":15},\"zerolinecolor\":\"white\",\"zerolinewidth\":2}}},\"xaxis\":{\"anchor\":\"y\",\"domain\":[0.0,1.0],\"type\":\"date\",\"range\":[\"2150-06-03 20:00:00\",\"2150-06-07 19:00:00\"],\"title\":{\"text\":\"Time\"}},\"yaxis\":{\"anchor\":\"x\",\"domain\":[0.0,1.0],\"title\":{\"text\":\"Dose\"},\"autorange\":\"reversed\"},\"legend\":{\"title\":{\"text\":\"Drug type\"},\"tracegroupgap\":0},\"title\":{\"text\":\"Prescriptions during admission 25826145\"},\"barmode\":\"overlay\",\"height\":500,\"width\":1000},                        {\"responsive\": true}                    ).then(function(){\n",
       "                            \n",
       "var gd = document.getElementById('1dad02da-c73f-4436-b58f-e3ed6ab93083');\n",
       "var x = new MutationObserver(function (mutations, observer) {{\n",
       "        var display = window.getComputedStyle(gd).display;\n",
       "        if (!display || display === 'none') {{\n",
       "            console.log([gd, 'removed!']);\n",
       "            Plotly.purge(gd);\n",
       "            observer.disconnect();\n",
       "        }}\n",
       "}});\n",
       "\n",
       "// Listen for the removal of the full notebook cells\n",
       "var notebookContainer = gd.closest('#notebook-container');\n",
       "if (notebookContainer) {{\n",
       "    x.observe(notebookContainer, {childList: true});\n",
       "}}\n",
       "\n",
       "// Listen for the clearing of the current output cell\n",
       "var outputEl = gd.closest('.output');\n",
       "if (outputEl) {{\n",
       "    x.observe(outputEl, {childList: true});\n",
       "}}\n",
       "\n",
       "                        })                };                });            </script>        </div>"
      ]
     },
     "metadata": {},
     "output_type": "display_data"
    }
   ],
   "source": [
    "fig = px.timeline(df_patpresc_admunq, x_start=\"starttime\", x_end=\"stoptime\", y='prod_strength', color='drug', width=1000, height=500, title='Prescriptions during admission {}'.format(adm_id))\n",
    "fig.update_traces(width=0.08) \n",
    "fig.update_xaxes(range=[df_patpresc_admunq['starttime'].min(), df_patpresc_admunq['stoptime'].max()])\n",
    "fig.update_yaxes(autorange=\"reversed\")\n",
    "\n",
    "fig.update_layout(\n",
    "    xaxis_title=\"Time\",\n",
    "    yaxis_title=\"Dose\",\n",
    "    legend_title=\"Drug type\",\n",
    ")\n",
    "fig.show()"
   ]
  },
  {
   "cell_type": "markdown",
   "id": "1514bcf9-0130-44b5-bc8a-894a21c7a8de",
   "metadata": {},
   "source": [
    "#### Procedures for a given admission"
   ]
  },
  {
   "cell_type": "code",
   "execution_count": 330,
   "id": "2164cf21-8d97-47ba-8b16-c35e48a76a25",
   "metadata": {},
   "outputs": [
    {
     "data": {
      "text/plain": [
       "[23831430, 25826145, 29820177, 23199774, 23143086]"
      ]
     },
     "execution_count": 330,
     "metadata": {},
     "output_type": "execute_result"
    }
   ],
   "source": [
    "admissions "
   ]
  },
  {
   "cell_type": "code",
   "execution_count": 362,
   "id": "7f7f5a9c-74f0-492c-b1e9-b9bf57ec2cdd",
   "metadata": {},
   "outputs": [],
   "source": [
    "adm_id = 25826145"
   ]
  },
  {
   "cell_type": "code",
   "execution_count": 363,
   "id": "f1014f6f-9351-4fa9-98cd-0ee759447700",
   "metadata": {},
   "outputs": [],
   "source": [
    "df_procedurespatadm = df_procedurespat[df_procedurespat['hadm_id'] == adm_id]"
   ]
  },
  {
   "cell_type": "code",
   "execution_count": 364,
   "id": "c7829347-be38-484e-8b88-8dc9b89a9c7c",
   "metadata": {},
   "outputs": [
    {
     "data": {
      "text/html": [
       "<div>\n",
       "<style scoped>\n",
       "    .dataframe tbody tr th:only-of-type {\n",
       "        vertical-align: middle;\n",
       "    }\n",
       "\n",
       "    .dataframe tbody tr th {\n",
       "        vertical-align: top;\n",
       "    }\n",
       "\n",
       "    .dataframe thead th {\n",
       "        text-align: right;\n",
       "    }\n",
       "</style>\n",
       "<table border=\"1\" class=\"dataframe\">\n",
       "  <thead>\n",
       "    <tr style=\"text-align: right;\">\n",
       "      <th></th>\n",
       "      <th>subject_id</th>\n",
       "      <th>hadm_id</th>\n",
       "      <th>seq_num</th>\n",
       "      <th>chartdate</th>\n",
       "      <th>icd_code</th>\n",
       "      <th>icd_version_y</th>\n",
       "      <th>long_title</th>\n",
       "    </tr>\n",
       "  </thead>\n",
       "  <tbody>\n",
       "    <tr>\n",
       "      <th>16</th>\n",
       "      <td>10020740</td>\n",
       "      <td>25826145</td>\n",
       "      <td>1</td>\n",
       "      <td>2150-06-03</td>\n",
       "      <td>5124</td>\n",
       "      <td>9</td>\n",
       "      <td>Laparoscopic partial cholecystectomy</td>\n",
       "    </tr>\n",
       "    <tr>\n",
       "      <th>17</th>\n",
       "      <td>10020740</td>\n",
       "      <td>25826145</td>\n",
       "      <td>2</td>\n",
       "      <td>2150-06-03</td>\n",
       "      <td>5451</td>\n",
       "      <td>9</td>\n",
       "      <td>Laparoscopic lysis of peritoneal adhesions</td>\n",
       "    </tr>\n",
       "    <tr>\n",
       "      <th>18</th>\n",
       "      <td>10020740</td>\n",
       "      <td>25826145</td>\n",
       "      <td>3</td>\n",
       "      <td>2150-06-03</td>\n",
       "      <td>5343</td>\n",
       "      <td>9</td>\n",
       "      <td>Other laparoscopic umbilical herniorrhaphy</td>\n",
       "    </tr>\n",
       "  </tbody>\n",
       "</table>\n",
       "</div>"
      ],
      "text/plain": [
       "    subject_id   hadm_id  seq_num   chartdate icd_code  icd_version_y  \\\n",
       "16    10020740  25826145        1  2150-06-03     5124              9   \n",
       "17    10020740  25826145        2  2150-06-03     5451              9   \n",
       "18    10020740  25826145        3  2150-06-03     5343              9   \n",
       "\n",
       "                                    long_title  \n",
       "16        Laparoscopic partial cholecystectomy  \n",
       "17  Laparoscopic lysis of peritoneal adhesions  \n",
       "18  Other laparoscopic umbilical herniorrhaphy  "
      ]
     },
     "execution_count": 364,
     "metadata": {},
     "output_type": "execute_result"
    }
   ],
   "source": [
    "df_procedurespatadm"
   ]
  },
  {
   "cell_type": "code",
   "execution_count": 351,
   "id": "f19bb7b3-18dc-4be8-983e-0d3a01175aa8",
   "metadata": {},
   "outputs": [],
   "source": [
    "#patientadms"
   ]
  },
  {
   "cell_type": "code",
   "execution_count": 365,
   "id": "b00f194c-1dc5-40f5-8f06-60204f14e039",
   "metadata": {},
   "outputs": [],
   "source": [
    "starttime = patientadms[patientadms['hadm_id'] == adm_id]['adm_date'].iloc[0]\n",
    "endtime = patientadms[patientadms['hadm_id'] == adm_id]['disch_date'].iloc[0]"
   ]
  },
  {
   "cell_type": "code",
   "execution_count": 366,
   "id": "4fdb7b56-65ea-4db5-91e3-17f831fa8820",
   "metadata": {},
   "outputs": [],
   "source": [
    "#patientadms.head()"
   ]
  },
  {
   "cell_type": "code",
   "execution_count": 367,
   "id": "6a5f8547-aa69-4bd9-abf1-a3a20c2a9984",
   "metadata": {},
   "outputs": [
    {
     "name": "stdout",
     "output_type": "stream",
     "text": [
      "2150-06-03 2150-06-07\n"
     ]
    }
   ],
   "source": [
    "print(starttime, endtime)"
   ]
  },
  {
   "cell_type": "code",
   "execution_count": 368,
   "id": "93dc6949-70aa-4044-91b7-08da6822ca13",
   "metadata": {},
   "outputs": [
    {
     "data": {
      "text/html": [
       "<div>\n",
       "<style scoped>\n",
       "    .dataframe tbody tr th:only-of-type {\n",
       "        vertical-align: middle;\n",
       "    }\n",
       "\n",
       "    .dataframe tbody tr th {\n",
       "        vertical-align: top;\n",
       "    }\n",
       "\n",
       "    .dataframe thead th {\n",
       "        text-align: right;\n",
       "    }\n",
       "</style>\n",
       "<table border=\"1\" class=\"dataframe\">\n",
       "  <thead>\n",
       "    <tr style=\"text-align: right;\">\n",
       "      <th></th>\n",
       "      <th>subject_id</th>\n",
       "      <th>hadm_id</th>\n",
       "      <th>seq_num</th>\n",
       "      <th>chartdate</th>\n",
       "      <th>icd_code</th>\n",
       "      <th>icd_version_y</th>\n",
       "      <th>long_title</th>\n",
       "    </tr>\n",
       "  </thead>\n",
       "  <tbody>\n",
       "    <tr>\n",
       "      <th>16</th>\n",
       "      <td>10020740</td>\n",
       "      <td>25826145</td>\n",
       "      <td>1</td>\n",
       "      <td>2150-06-03</td>\n",
       "      <td>5124</td>\n",
       "      <td>9</td>\n",
       "      <td>Laparoscopic partial cholecystectomy</td>\n",
       "    </tr>\n",
       "    <tr>\n",
       "      <th>17</th>\n",
       "      <td>10020740</td>\n",
       "      <td>25826145</td>\n",
       "      <td>2</td>\n",
       "      <td>2150-06-03</td>\n",
       "      <td>5451</td>\n",
       "      <td>9</td>\n",
       "      <td>Laparoscopic lysis of peritoneal adhesions</td>\n",
       "    </tr>\n",
       "    <tr>\n",
       "      <th>18</th>\n",
       "      <td>10020740</td>\n",
       "      <td>25826145</td>\n",
       "      <td>3</td>\n",
       "      <td>2150-06-03</td>\n",
       "      <td>5343</td>\n",
       "      <td>9</td>\n",
       "      <td>Other laparoscopic umbilical herniorrhaphy</td>\n",
       "    </tr>\n",
       "  </tbody>\n",
       "</table>\n",
       "</div>"
      ],
      "text/plain": [
       "    subject_id   hadm_id  seq_num   chartdate icd_code  icd_version_y  \\\n",
       "16    10020740  25826145        1  2150-06-03     5124              9   \n",
       "17    10020740  25826145        2  2150-06-03     5451              9   \n",
       "18    10020740  25826145        3  2150-06-03     5343              9   \n",
       "\n",
       "                                    long_title  \n",
       "16        Laparoscopic partial cholecystectomy  \n",
       "17  Laparoscopic lysis of peritoneal adhesions  \n",
       "18  Other laparoscopic umbilical herniorrhaphy  "
      ]
     },
     "execution_count": 368,
     "metadata": {},
     "output_type": "execute_result"
    }
   ],
   "source": [
    "df_procedurespatadm"
   ]
  },
  {
   "cell_type": "code",
   "execution_count": 369,
   "id": "ac426ddf-1452-4e66-bcb9-45b79ac735e4",
   "metadata": {},
   "outputs": [
    {
     "data": {
      "application/vnd.plotly.v1+json": {
       "config": {
        "plotlyServerURL": "https://plot.ly"
       },
       "data": [
        {
         "hovertemplate": "icd_code=5124<br>chartdate=%{x}<br>seq_num=%{y}<extra></extra>",
         "legendgroup": "5124",
         "marker": {
          "color": "#636efa",
          "symbol": "circle"
         },
         "mode": "markers",
         "name": "5124",
         "orientation": "v",
         "showlegend": true,
         "type": "scatter",
         "x": [
          "2150-06-03"
         ],
         "xaxis": "x",
         "y": [
          1
         ],
         "yaxis": "y"
        },
        {
         "hovertemplate": "icd_code=5451<br>chartdate=%{x}<br>seq_num=%{y}<extra></extra>",
         "legendgroup": "5451",
         "marker": {
          "color": "#EF553B",
          "symbol": "circle"
         },
         "mode": "markers",
         "name": "5451",
         "orientation": "v",
         "showlegend": true,
         "type": "scatter",
         "x": [
          "2150-06-03"
         ],
         "xaxis": "x",
         "y": [
          2
         ],
         "yaxis": "y"
        },
        {
         "hovertemplate": "icd_code=5343<br>chartdate=%{x}<br>seq_num=%{y}<extra></extra>",
         "legendgroup": "5343",
         "marker": {
          "color": "#00cc96",
          "symbol": "circle"
         },
         "mode": "markers",
         "name": "5343",
         "orientation": "v",
         "showlegend": true,
         "type": "scatter",
         "x": [
          "2150-06-03"
         ],
         "xaxis": "x",
         "y": [
          3
         ],
         "yaxis": "y"
        }
       ],
       "layout": {
        "dragmode": "pan",
        "font": {
         "color": "RebeccaPurple",
         "family": "Courier New, monospace",
         "size": 18
        },
        "height": 400,
        "legend": {
         "title": {
          "text": "Code"
         },
         "tracegroupgap": 0
        },
        "margin": {
         "t": 60
        },
        "template": {
         "data": {
          "bar": [
           {
            "error_x": {
             "color": "#2a3f5f"
            },
            "error_y": {
             "color": "#2a3f5f"
            },
            "marker": {
             "line": {
              "color": "#E5ECF6",
              "width": 0.5
             },
             "pattern": {
              "fillmode": "overlay",
              "size": 10,
              "solidity": 0.2
             }
            },
            "type": "bar"
           }
          ],
          "barpolar": [
           {
            "marker": {
             "line": {
              "color": "#E5ECF6",
              "width": 0.5
             },
             "pattern": {
              "fillmode": "overlay",
              "size": 10,
              "solidity": 0.2
             }
            },
            "type": "barpolar"
           }
          ],
          "carpet": [
           {
            "aaxis": {
             "endlinecolor": "#2a3f5f",
             "gridcolor": "white",
             "linecolor": "white",
             "minorgridcolor": "white",
             "startlinecolor": "#2a3f5f"
            },
            "baxis": {
             "endlinecolor": "#2a3f5f",
             "gridcolor": "white",
             "linecolor": "white",
             "minorgridcolor": "white",
             "startlinecolor": "#2a3f5f"
            },
            "type": "carpet"
           }
          ],
          "choropleth": [
           {
            "colorbar": {
             "outlinewidth": 0,
             "ticks": ""
            },
            "type": "choropleth"
           }
          ],
          "contour": [
           {
            "colorbar": {
             "outlinewidth": 0,
             "ticks": ""
            },
            "colorscale": [
             [
              0,
              "#0d0887"
             ],
             [
              0.1111111111111111,
              "#46039f"
             ],
             [
              0.2222222222222222,
              "#7201a8"
             ],
             [
              0.3333333333333333,
              "#9c179e"
             ],
             [
              0.4444444444444444,
              "#bd3786"
             ],
             [
              0.5555555555555556,
              "#d8576b"
             ],
             [
              0.6666666666666666,
              "#ed7953"
             ],
             [
              0.7777777777777778,
              "#fb9f3a"
             ],
             [
              0.8888888888888888,
              "#fdca26"
             ],
             [
              1,
              "#f0f921"
             ]
            ],
            "type": "contour"
           }
          ],
          "contourcarpet": [
           {
            "colorbar": {
             "outlinewidth": 0,
             "ticks": ""
            },
            "type": "contourcarpet"
           }
          ],
          "heatmap": [
           {
            "colorbar": {
             "outlinewidth": 0,
             "ticks": ""
            },
            "colorscale": [
             [
              0,
              "#0d0887"
             ],
             [
              0.1111111111111111,
              "#46039f"
             ],
             [
              0.2222222222222222,
              "#7201a8"
             ],
             [
              0.3333333333333333,
              "#9c179e"
             ],
             [
              0.4444444444444444,
              "#bd3786"
             ],
             [
              0.5555555555555556,
              "#d8576b"
             ],
             [
              0.6666666666666666,
              "#ed7953"
             ],
             [
              0.7777777777777778,
              "#fb9f3a"
             ],
             [
              0.8888888888888888,
              "#fdca26"
             ],
             [
              1,
              "#f0f921"
             ]
            ],
            "type": "heatmap"
           }
          ],
          "heatmapgl": [
           {
            "colorbar": {
             "outlinewidth": 0,
             "ticks": ""
            },
            "colorscale": [
             [
              0,
              "#0d0887"
             ],
             [
              0.1111111111111111,
              "#46039f"
             ],
             [
              0.2222222222222222,
              "#7201a8"
             ],
             [
              0.3333333333333333,
              "#9c179e"
             ],
             [
              0.4444444444444444,
              "#bd3786"
             ],
             [
              0.5555555555555556,
              "#d8576b"
             ],
             [
              0.6666666666666666,
              "#ed7953"
             ],
             [
              0.7777777777777778,
              "#fb9f3a"
             ],
             [
              0.8888888888888888,
              "#fdca26"
             ],
             [
              1,
              "#f0f921"
             ]
            ],
            "type": "heatmapgl"
           }
          ],
          "histogram": [
           {
            "marker": {
             "pattern": {
              "fillmode": "overlay",
              "size": 10,
              "solidity": 0.2
             }
            },
            "type": "histogram"
           }
          ],
          "histogram2d": [
           {
            "colorbar": {
             "outlinewidth": 0,
             "ticks": ""
            },
            "colorscale": [
             [
              0,
              "#0d0887"
             ],
             [
              0.1111111111111111,
              "#46039f"
             ],
             [
              0.2222222222222222,
              "#7201a8"
             ],
             [
              0.3333333333333333,
              "#9c179e"
             ],
             [
              0.4444444444444444,
              "#bd3786"
             ],
             [
              0.5555555555555556,
              "#d8576b"
             ],
             [
              0.6666666666666666,
              "#ed7953"
             ],
             [
              0.7777777777777778,
              "#fb9f3a"
             ],
             [
              0.8888888888888888,
              "#fdca26"
             ],
             [
              1,
              "#f0f921"
             ]
            ],
            "type": "histogram2d"
           }
          ],
          "histogram2dcontour": [
           {
            "colorbar": {
             "outlinewidth": 0,
             "ticks": ""
            },
            "colorscale": [
             [
              0,
              "#0d0887"
             ],
             [
              0.1111111111111111,
              "#46039f"
             ],
             [
              0.2222222222222222,
              "#7201a8"
             ],
             [
              0.3333333333333333,
              "#9c179e"
             ],
             [
              0.4444444444444444,
              "#bd3786"
             ],
             [
              0.5555555555555556,
              "#d8576b"
             ],
             [
              0.6666666666666666,
              "#ed7953"
             ],
             [
              0.7777777777777778,
              "#fb9f3a"
             ],
             [
              0.8888888888888888,
              "#fdca26"
             ],
             [
              1,
              "#f0f921"
             ]
            ],
            "type": "histogram2dcontour"
           }
          ],
          "mesh3d": [
           {
            "colorbar": {
             "outlinewidth": 0,
             "ticks": ""
            },
            "type": "mesh3d"
           }
          ],
          "parcoords": [
           {
            "line": {
             "colorbar": {
              "outlinewidth": 0,
              "ticks": ""
             }
            },
            "type": "parcoords"
           }
          ],
          "pie": [
           {
            "automargin": true,
            "type": "pie"
           }
          ],
          "scatter": [
           {
            "marker": {
             "colorbar": {
              "outlinewidth": 0,
              "ticks": ""
             }
            },
            "type": "scatter"
           }
          ],
          "scatter3d": [
           {
            "line": {
             "colorbar": {
              "outlinewidth": 0,
              "ticks": ""
             }
            },
            "marker": {
             "colorbar": {
              "outlinewidth": 0,
              "ticks": ""
             }
            },
            "type": "scatter3d"
           }
          ],
          "scattercarpet": [
           {
            "marker": {
             "colorbar": {
              "outlinewidth": 0,
              "ticks": ""
             }
            },
            "type": "scattercarpet"
           }
          ],
          "scattergeo": [
           {
            "marker": {
             "colorbar": {
              "outlinewidth": 0,
              "ticks": ""
             }
            },
            "type": "scattergeo"
           }
          ],
          "scattergl": [
           {
            "marker": {
             "colorbar": {
              "outlinewidth": 0,
              "ticks": ""
             }
            },
            "type": "scattergl"
           }
          ],
          "scattermapbox": [
           {
            "marker": {
             "colorbar": {
              "outlinewidth": 0,
              "ticks": ""
             }
            },
            "type": "scattermapbox"
           }
          ],
          "scatterpolar": [
           {
            "marker": {
             "colorbar": {
              "outlinewidth": 0,
              "ticks": ""
             }
            },
            "type": "scatterpolar"
           }
          ],
          "scatterpolargl": [
           {
            "marker": {
             "colorbar": {
              "outlinewidth": 0,
              "ticks": ""
             }
            },
            "type": "scatterpolargl"
           }
          ],
          "scatterternary": [
           {
            "marker": {
             "colorbar": {
              "outlinewidth": 0,
              "ticks": ""
             }
            },
            "type": "scatterternary"
           }
          ],
          "surface": [
           {
            "colorbar": {
             "outlinewidth": 0,
             "ticks": ""
            },
            "colorscale": [
             [
              0,
              "#0d0887"
             ],
             [
              0.1111111111111111,
              "#46039f"
             ],
             [
              0.2222222222222222,
              "#7201a8"
             ],
             [
              0.3333333333333333,
              "#9c179e"
             ],
             [
              0.4444444444444444,
              "#bd3786"
             ],
             [
              0.5555555555555556,
              "#d8576b"
             ],
             [
              0.6666666666666666,
              "#ed7953"
             ],
             [
              0.7777777777777778,
              "#fb9f3a"
             ],
             [
              0.8888888888888888,
              "#fdca26"
             ],
             [
              1,
              "#f0f921"
             ]
            ],
            "type": "surface"
           }
          ],
          "table": [
           {
            "cells": {
             "fill": {
              "color": "#EBF0F8"
             },
             "line": {
              "color": "white"
             }
            },
            "header": {
             "fill": {
              "color": "#C8D4E3"
             },
             "line": {
              "color": "white"
             }
            },
            "type": "table"
           }
          ]
         },
         "layout": {
          "annotationdefaults": {
           "arrowcolor": "#2a3f5f",
           "arrowhead": 0,
           "arrowwidth": 1
          },
          "autotypenumbers": "strict",
          "coloraxis": {
           "colorbar": {
            "outlinewidth": 0,
            "ticks": ""
           }
          },
          "colorscale": {
           "diverging": [
            [
             0,
             "#8e0152"
            ],
            [
             0.1,
             "#c51b7d"
            ],
            [
             0.2,
             "#de77ae"
            ],
            [
             0.3,
             "#f1b6da"
            ],
            [
             0.4,
             "#fde0ef"
            ],
            [
             0.5,
             "#f7f7f7"
            ],
            [
             0.6,
             "#e6f5d0"
            ],
            [
             0.7,
             "#b8e186"
            ],
            [
             0.8,
             "#7fbc41"
            ],
            [
             0.9,
             "#4d9221"
            ],
            [
             1,
             "#276419"
            ]
           ],
           "sequential": [
            [
             0,
             "#0d0887"
            ],
            [
             0.1111111111111111,
             "#46039f"
            ],
            [
             0.2222222222222222,
             "#7201a8"
            ],
            [
             0.3333333333333333,
             "#9c179e"
            ],
            [
             0.4444444444444444,
             "#bd3786"
            ],
            [
             0.5555555555555556,
             "#d8576b"
            ],
            [
             0.6666666666666666,
             "#ed7953"
            ],
            [
             0.7777777777777778,
             "#fb9f3a"
            ],
            [
             0.8888888888888888,
             "#fdca26"
            ],
            [
             1,
             "#f0f921"
            ]
           ],
           "sequentialminus": [
            [
             0,
             "#0d0887"
            ],
            [
             0.1111111111111111,
             "#46039f"
            ],
            [
             0.2222222222222222,
             "#7201a8"
            ],
            [
             0.3333333333333333,
             "#9c179e"
            ],
            [
             0.4444444444444444,
             "#bd3786"
            ],
            [
             0.5555555555555556,
             "#d8576b"
            ],
            [
             0.6666666666666666,
             "#ed7953"
            ],
            [
             0.7777777777777778,
             "#fb9f3a"
            ],
            [
             0.8888888888888888,
             "#fdca26"
            ],
            [
             1,
             "#f0f921"
            ]
           ]
          },
          "colorway": [
           "#636efa",
           "#EF553B",
           "#00cc96",
           "#ab63fa",
           "#FFA15A",
           "#19d3f3",
           "#FF6692",
           "#B6E880",
           "#FF97FF",
           "#FECB52"
          ],
          "font": {
           "color": "#2a3f5f"
          },
          "geo": {
           "bgcolor": "white",
           "lakecolor": "white",
           "landcolor": "#E5ECF6",
           "showlakes": true,
           "showland": true,
           "subunitcolor": "white"
          },
          "hoverlabel": {
           "align": "left"
          },
          "hovermode": "closest",
          "mapbox": {
           "style": "light"
          },
          "paper_bgcolor": "white",
          "plot_bgcolor": "#E5ECF6",
          "polar": {
           "angularaxis": {
            "gridcolor": "white",
            "linecolor": "white",
            "ticks": ""
           },
           "bgcolor": "#E5ECF6",
           "radialaxis": {
            "gridcolor": "white",
            "linecolor": "white",
            "ticks": ""
           }
          },
          "scene": {
           "xaxis": {
            "backgroundcolor": "#E5ECF6",
            "gridcolor": "white",
            "gridwidth": 2,
            "linecolor": "white",
            "showbackground": true,
            "ticks": "",
            "zerolinecolor": "white"
           },
           "yaxis": {
            "backgroundcolor": "#E5ECF6",
            "gridcolor": "white",
            "gridwidth": 2,
            "linecolor": "white",
            "showbackground": true,
            "ticks": "",
            "zerolinecolor": "white"
           },
           "zaxis": {
            "backgroundcolor": "#E5ECF6",
            "gridcolor": "white",
            "gridwidth": 2,
            "linecolor": "white",
            "showbackground": true,
            "ticks": "",
            "zerolinecolor": "white"
           }
          },
          "shapedefaults": {
           "line": {
            "color": "#2a3f5f"
           }
          },
          "ternary": {
           "aaxis": {
            "gridcolor": "white",
            "linecolor": "white",
            "ticks": ""
           },
           "baxis": {
            "gridcolor": "white",
            "linecolor": "white",
            "ticks": ""
           },
           "bgcolor": "#E5ECF6",
           "caxis": {
            "gridcolor": "white",
            "linecolor": "white",
            "ticks": ""
           }
          },
          "title": {
           "x": 0.05
          },
          "xaxis": {
           "automargin": true,
           "gridcolor": "white",
           "linecolor": "white",
           "ticks": "",
           "title": {
            "standoff": 15
           },
           "zerolinecolor": "white",
           "zerolinewidth": 2
          },
          "yaxis": {
           "automargin": true,
           "gridcolor": "white",
           "linecolor": "white",
           "ticks": "",
           "title": {
            "standoff": 15
           },
           "zerolinecolor": "white",
           "zerolinewidth": 2
          }
         }
        },
        "title": {
         "text": "Procedures during admission 25826145"
        },
        "width": 800,
        "xaxis": {
         "anchor": "y",
         "autorange": true,
         "domain": [
          0,
          1
         ],
         "range": [
          "2150-06-02 23:59:59.999",
          "2150-06-03 00:00:00.001"
         ],
         "showspikes": false,
         "title": {
          "text": "Time"
         },
         "type": "date"
        },
        "yaxis": {
         "anchor": "x",
         "autorange": true,
         "domain": [
          0,
          1
         ],
         "range": [
          0.8505747126436782,
          3.1494252873563218
         ],
         "showspikes": false,
         "title": {
          "text": "Prio"
         },
         "type": "linear"
        }
       }
      },
      "image/png": "[encoded data removed]",
      "text/html": [
       "<div>                            <div id=\"c66caa5b-156c-41cb-a5c0-0d14bc7739b7\" class=\"plotly-graph-div\" style=\"height:400px; width:800px;\"></div>            <script type=\"text/javascript\">                require([\"plotly\"], function(Plotly) {                    window.PLOTLYENV=window.PLOTLYENV || {};                                    if (document.getElementById(\"c66caa5b-156c-41cb-a5c0-0d14bc7739b7\")) {                    Plotly.newPlot(                        \"c66caa5b-156c-41cb-a5c0-0d14bc7739b7\",                        [{\"hovertemplate\":\"icd_code=5124<br>chartdate=%{x}<br>seq_num=%{y}<extra></extra>\",\"legendgroup\":\"5124\",\"marker\":{\"color\":\"#636efa\",\"symbol\":\"circle\"},\"mode\":\"markers\",\"name\":\"5124\",\"orientation\":\"v\",\"showlegend\":true,\"x\":[\"2150-06-03\"],\"xaxis\":\"x\",\"y\":[1],\"yaxis\":\"y\",\"type\":\"scatter\"},{\"hovertemplate\":\"icd_code=5451<br>chartdate=%{x}<br>seq_num=%{y}<extra></extra>\",\"legendgroup\":\"5451\",\"marker\":{\"color\":\"#EF553B\",\"symbol\":\"circle\"},\"mode\":\"markers\",\"name\":\"5451\",\"orientation\":\"v\",\"showlegend\":true,\"x\":[\"2150-06-03\"],\"xaxis\":\"x\",\"y\":[2],\"yaxis\":\"y\",\"type\":\"scatter\"},{\"hovertemplate\":\"icd_code=5343<br>chartdate=%{x}<br>seq_num=%{y}<extra></extra>\",\"legendgroup\":\"5343\",\"marker\":{\"color\":\"#00cc96\",\"symbol\":\"circle\"},\"mode\":\"markers\",\"name\":\"5343\",\"orientation\":\"v\",\"showlegend\":true,\"x\":[\"2150-06-03\"],\"xaxis\":\"x\",\"y\":[3],\"yaxis\":\"y\",\"type\":\"scatter\"}],                        {\"template\":{\"data\":{\"bar\":[{\"error_x\":{\"color\":\"#2a3f5f\"},\"error_y\":{\"color\":\"#2a3f5f\"},\"marker\":{\"line\":{\"color\":\"#E5ECF6\",\"width\":0.5},\"pattern\":{\"fillmode\":\"overlay\",\"size\":10,\"solidity\":0.2}},\"type\":\"bar\"}],\"barpolar\":[{\"marker\":{\"line\":{\"color\":\"#E5ECF6\",\"width\":0.5},\"pattern\":{\"fillmode\":\"overlay\",\"size\":10,\"solidity\":0.2}},\"type\":\"barpolar\"}],\"carpet\":[{\"aaxis\":{\"endlinecolor\":\"#2a3f5f\",\"gridcolor\":\"white\",\"linecolor\":\"white\",\"minorgridcolor\":\"white\",\"startlinecolor\":\"#2a3f5f\"},\"baxis\":{\"endlinecolor\":\"#2a3f5f\",\"gridcolor\":\"white\",\"linecolor\":\"white\",\"minorgridcolor\":\"white\",\"startlinecolor\":\"#2a3f5f\"},\"type\":\"carpet\"}],\"choropleth\":[{\"colorbar\":{\"outlinewidth\":0,\"ticks\":\"\"},\"type\":\"choropleth\"}],\"contour\":[{\"colorbar\":{\"outlinewidth\":0,\"ticks\":\"\"},\"colorscale\":[[0.0,\"#0d0887\"],[0.1111111111111111,\"#46039f\"],[0.2222222222222222,\"#7201a8\"],[0.3333333333333333,\"#9c179e\"],[0.4444444444444444,\"#bd3786\"],[0.5555555555555556,\"#d8576b\"],[0.6666666666666666,\"#ed7953\"],[0.7777777777777778,\"#fb9f3a\"],[0.8888888888888888,\"#fdca26\"],[1.0,\"#f0f921\"]],\"type\":\"contour\"}],\"contourcarpet\":[{\"colorbar\":{\"outlinewidth\":0,\"ticks\":\"\"},\"type\":\"contourcarpet\"}],\"heatmap\":[{\"colorbar\":{\"outlinewidth\":0,\"ticks\":\"\"},\"colorscale\":[[0.0,\"#0d0887\"],[0.1111111111111111,\"#46039f\"],[0.2222222222222222,\"#7201a8\"],[0.3333333333333333,\"#9c179e\"],[0.4444444444444444,\"#bd3786\"],[0.5555555555555556,\"#d8576b\"],[0.6666666666666666,\"#ed7953\"],[0.7777777777777778,\"#fb9f3a\"],[0.8888888888888888,\"#fdca26\"],[1.0,\"#f0f921\"]],\"type\":\"heatmap\"}],\"heatmapgl\":[{\"colorbar\":{\"outlinewidth\":0,\"ticks\":\"\"},\"colorscale\":[[0.0,\"#0d0887\"],[0.1111111111111111,\"#46039f\"],[0.2222222222222222,\"#7201a8\"],[0.3333333333333333,\"#9c179e\"],[0.4444444444444444,\"#bd3786\"],[0.5555555555555556,\"#d8576b\"],[0.6666666666666666,\"#ed7953\"],[0.7777777777777778,\"#fb9f3a\"],[0.8888888888888888,\"#fdca26\"],[1.0,\"#f0f921\"]],\"type\":\"heatmapgl\"}],\"histogram\":[{\"marker\":{\"pattern\":{\"fillmode\":\"overlay\",\"size\":10,\"solidity\":0.2}},\"type\":\"histogram\"}],\"histogram2d\":[{\"colorbar\":{\"outlinewidth\":0,\"ticks\":\"\"},\"colorscale\":[[0.0,\"#0d0887\"],[0.1111111111111111,\"#46039f\"],[0.2222222222222222,\"#7201a8\"],[0.3333333333333333,\"#9c179e\"],[0.4444444444444444,\"#bd3786\"],[0.5555555555555556,\"#d8576b\"],[0.6666666666666666,\"#ed7953\"],[0.7777777777777778,\"#fb9f3a\"],[0.8888888888888888,\"#fdca26\"],[1.0,\"#f0f921\"]],\"type\":\"histogram2d\"}],\"histogram2dcontour\":[{\"colorbar\":{\"outlinewidth\":0,\"ticks\":\"\"},\"colorscale\":[[0.0,\"#0d0887\"],[0.1111111111111111,\"#46039f\"],[0.2222222222222222,\"#7201a8\"],[0.3333333333333333,\"#9c179e\"],[0.4444444444444444,\"#bd3786\"],[0.5555555555555556,\"#d8576b\"],[0.6666666666666666,\"#ed7953\"],[0.7777777777777778,\"#fb9f3a\"],[0.8888888888888888,\"#fdca26\"],[1.0,\"#f0f921\"]],\"type\":\"histogram2dcontour\"}],\"mesh3d\":[{\"colorbar\":{\"outlinewidth\":0,\"ticks\":\"\"},\"type\":\"mesh3d\"}],\"parcoords\":[{\"line\":{\"colorbar\":{\"outlinewidth\":0,\"ticks\":\"\"}},\"type\":\"parcoords\"}],\"pie\":[{\"automargin\":true,\"type\":\"pie\"}],\"scatter\":[{\"marker\":{\"colorbar\":{\"outlinewidth\":0,\"ticks\":\"\"}},\"type\":\"scatter\"}],\"scatter3d\":[{\"line\":{\"colorbar\":{\"outlinewidth\":0,\"ticks\":\"\"}},\"marker\":{\"colorbar\":{\"outlinewidth\":0,\"ticks\":\"\"}},\"type\":\"scatter3d\"}],\"scattercarpet\":[{\"marker\":{\"colorbar\":{\"outlinewidth\":0,\"ticks\":\"\"}},\"type\":\"scattercarpet\"}],\"scattergeo\":[{\"marker\":{\"colorbar\":{\"outlinewidth\":0,\"ticks\":\"\"}},\"type\":\"scattergeo\"}],\"scattergl\":[{\"marker\":{\"colorbar\":{\"outlinewidth\":0,\"ticks\":\"\"}},\"type\":\"scattergl\"}],\"scattermapbox\":[{\"marker\":{\"colorbar\":{\"outlinewidth\":0,\"ticks\":\"\"}},\"type\":\"scattermapbox\"}],\"scatterpolar\":[{\"marker\":{\"colorbar\":{\"outlinewidth\":0,\"ticks\":\"\"}},\"type\":\"scatterpolar\"}],\"scatterpolargl\":[{\"marker\":{\"colorbar\":{\"outlinewidth\":0,\"ticks\":\"\"}},\"type\":\"scatterpolargl\"}],\"scatterternary\":[{\"marker\":{\"colorbar\":{\"outlinewidth\":0,\"ticks\":\"\"}},\"type\":\"scatterternary\"}],\"surface\":[{\"colorbar\":{\"outlinewidth\":0,\"ticks\":\"\"},\"colorscale\":[[0.0,\"#0d0887\"],[0.1111111111111111,\"#46039f\"],[0.2222222222222222,\"#7201a8\"],[0.3333333333333333,\"#9c179e\"],[0.4444444444444444,\"#bd3786\"],[0.5555555555555556,\"#d8576b\"],[0.6666666666666666,\"#ed7953\"],[0.7777777777777778,\"#fb9f3a\"],[0.8888888888888888,\"#fdca26\"],[1.0,\"#f0f921\"]],\"type\":\"surface\"}],\"table\":[{\"cells\":{\"fill\":{\"color\":\"#EBF0F8\"},\"line\":{\"color\":\"white\"}},\"header\":{\"fill\":{\"color\":\"#C8D4E3\"},\"line\":{\"color\":\"white\"}},\"type\":\"table\"}]},\"layout\":{\"annotationdefaults\":{\"arrowcolor\":\"#2a3f5f\",\"arrowhead\":0,\"arrowwidth\":1},\"autotypenumbers\":\"strict\",\"coloraxis\":{\"colorbar\":{\"outlinewidth\":0,\"ticks\":\"\"}},\"colorscale\":{\"diverging\":[[0,\"#8e0152\"],[0.1,\"#c51b7d\"],[0.2,\"#de77ae\"],[0.3,\"#f1b6da\"],[0.4,\"#fde0ef\"],[0.5,\"#f7f7f7\"],[0.6,\"#e6f5d0\"],[0.7,\"#b8e186\"],[0.8,\"#7fbc41\"],[0.9,\"#4d9221\"],[1,\"#276419\"]],\"sequential\":[[0.0,\"#0d0887\"],[0.1111111111111111,\"#46039f\"],[0.2222222222222222,\"#7201a8\"],[0.3333333333333333,\"#9c179e\"],[0.4444444444444444,\"#bd3786\"],[0.5555555555555556,\"#d8576b\"],[0.6666666666666666,\"#ed7953\"],[0.7777777777777778,\"#fb9f3a\"],[0.8888888888888888,\"#fdca26\"],[1.0,\"#f0f921\"]],\"sequentialminus\":[[0.0,\"#0d0887\"],[0.1111111111111111,\"#46039f\"],[0.2222222222222222,\"#7201a8\"],[0.3333333333333333,\"#9c179e\"],[0.4444444444444444,\"#bd3786\"],[0.5555555555555556,\"#d8576b\"],[0.6666666666666666,\"#ed7953\"],[0.7777777777777778,\"#fb9f3a\"],[0.8888888888888888,\"#fdca26\"],[1.0,\"#f0f921\"]]},\"colorway\":[\"#636efa\",\"#EF553B\",\"#00cc96\",\"#ab63fa\",\"#FFA15A\",\"#19d3f3\",\"#FF6692\",\"#B6E880\",\"#FF97FF\",\"#FECB52\"],\"font\":{\"color\":\"#2a3f5f\"},\"geo\":{\"bgcolor\":\"white\",\"lakecolor\":\"white\",\"landcolor\":\"#E5ECF6\",\"showlakes\":true,\"showland\":true,\"subunitcolor\":\"white\"},\"hoverlabel\":{\"align\":\"left\"},\"hovermode\":\"closest\",\"mapbox\":{\"style\":\"light\"},\"paper_bgcolor\":\"white\",\"plot_bgcolor\":\"#E5ECF6\",\"polar\":{\"angularaxis\":{\"gridcolor\":\"white\",\"linecolor\":\"white\",\"ticks\":\"\"},\"bgcolor\":\"#E5ECF6\",\"radialaxis\":{\"gridcolor\":\"white\",\"linecolor\":\"white\",\"ticks\":\"\"}},\"scene\":{\"xaxis\":{\"backgroundcolor\":\"#E5ECF6\",\"gridcolor\":\"white\",\"gridwidth\":2,\"linecolor\":\"white\",\"showbackground\":true,\"ticks\":\"\",\"zerolinecolor\":\"white\"},\"yaxis\":{\"backgroundcolor\":\"#E5ECF6\",\"gridcolor\":\"white\",\"gridwidth\":2,\"linecolor\":\"white\",\"showbackground\":true,\"ticks\":\"\",\"zerolinecolor\":\"white\"},\"zaxis\":{\"backgroundcolor\":\"#E5ECF6\",\"gridcolor\":\"white\",\"gridwidth\":2,\"linecolor\":\"white\",\"showbackground\":true,\"ticks\":\"\",\"zerolinecolor\":\"white\"}},\"shapedefaults\":{\"line\":{\"color\":\"#2a3f5f\"}},\"ternary\":{\"aaxis\":{\"gridcolor\":\"white\",\"linecolor\":\"white\",\"ticks\":\"\"},\"baxis\":{\"gridcolor\":\"white\",\"linecolor\":\"white\",\"ticks\":\"\"},\"bgcolor\":\"#E5ECF6\",\"caxis\":{\"gridcolor\":\"white\",\"linecolor\":\"white\",\"ticks\":\"\"}},\"title\":{\"x\":0.05},\"xaxis\":{\"automargin\":true,\"gridcolor\":\"white\",\"linecolor\":\"white\",\"ticks\":\"\",\"title\":{\"standoff\":15},\"zerolinecolor\":\"white\",\"zerolinewidth\":2},\"yaxis\":{\"automargin\":true,\"gridcolor\":\"white\",\"linecolor\":\"white\",\"ticks\":\"\",\"title\":{\"standoff\":15},\"zerolinecolor\":\"white\",\"zerolinewidth\":2}}},\"xaxis\":{\"anchor\":\"y\",\"domain\":[0.0,1.0],\"title\":{\"text\":\"Time\"}},\"yaxis\":{\"anchor\":\"x\",\"domain\":[0.0,1.0],\"title\":{\"text\":\"Prio\"}},\"legend\":{\"title\":{\"text\":\"Code\"},\"tracegroupgap\":0},\"margin\":{\"t\":60},\"height\":400,\"width\":800,\"font\":{\"family\":\"Courier New, monospace\",\"size\":18,\"color\":\"RebeccaPurple\"},\"title\":{\"text\":\"Procedures during admission 25826145\"}},                        {\"responsive\": true}                    ).then(function(){\n",
       "                            \n",
       "var gd = document.getElementById('c66caa5b-156c-41cb-a5c0-0d14bc7739b7');\n",
       "var x = new MutationObserver(function (mutations, observer) {{\n",
       "        var display = window.getComputedStyle(gd).display;\n",
       "        if (!display || display === 'none') {{\n",
       "            console.log([gd, 'removed!']);\n",
       "            Plotly.purge(gd);\n",
       "            observer.disconnect();\n",
       "        }}\n",
       "}});\n",
       "\n",
       "// Listen for the removal of the full notebook cells\n",
       "var notebookContainer = gd.closest('#notebook-container');\n",
       "if (notebookContainer) {{\n",
       "    x.observe(notebookContainer, {childList: true});\n",
       "}}\n",
       "\n",
       "// Listen for the clearing of the current output cell\n",
       "var outputEl = gd.closest('.output');\n",
       "if (outputEl) {{\n",
       "    x.observe(outputEl, {childList: true});\n",
       "}}\n",
       "\n",
       "                        })                };                });            </script>        </div>"
      ]
     },
     "metadata": {},
     "output_type": "display_data"
    }
   ],
   "source": [
    "fig = px.scatter(df_procedurespatadm, x=\"chartdate\", y=\"seq_num\", color='icd_code', width=800, height=400)\n",
    "\n",
    "fig.update_layout(\n",
    "    title=\"Procedures during admission {}\".format(adm_id),\n",
    "    xaxis_title=\"Time\",\n",
    "    yaxis_title=\"Prio\",\n",
    "    legend_title=\"Code\",\n",
    "    font=dict(\n",
    "        family=\"Courier New, monospace\",\n",
    "        size=18,\n",
    "        color=\"RebeccaPurple\"\n",
    "    )\n",
    ")\n",
    "fig.show()"
   ]
  },
  {
   "cell_type": "markdown",
   "id": "eeb476d8-c7c5-4964-84fb-a46330e40d96",
   "metadata": {},
   "source": [
    "#### Labevents for a given admission"
   ]
  },
  {
   "cell_type": "code",
   "execution_count": 68,
   "id": "5288192d-f254-42ec-b844-d04a89c89ffa",
   "metadata": {},
   "outputs": [],
   "source": [
    "#df_labspatient = df_labevents.filter(col('subject_id') == patient_id)"
   ]
  },
  {
   "cell_type": "code",
   "execution_count": 69,
   "id": "8d9d949e-1aeb-4305-8343-ebb3d5abcdbc",
   "metadata": {},
   "outputs": [],
   "source": [
    "#df_labspatient.show(2)"
   ]
  },
  {
   "cell_type": "markdown",
   "id": "17a22660-c190-4f7a-89a7-3bb964736049",
   "metadata": {
    "tags": []
   },
   "source": [
    "#### Admissions to the ICU for a given admission"
   ]
  },
  {
   "cell_type": "code",
   "execution_count": 425,
   "id": "bf9b4597-d826-4f0a-a2c2-ae561fe86c7c",
   "metadata": {},
   "outputs": [
    {
     "data": {
      "text/plain": [
       "[23831430, 25826145, 29820177, 23199774, 23143086]"
      ]
     },
     "execution_count": 425,
     "metadata": {},
     "output_type": "execute_result"
    }
   ],
   "source": [
    "admissions"
   ]
  },
  {
   "cell_type": "code",
   "execution_count": 444,
   "id": "77c5bf97-acff-481b-8192-3b72a8095ecb",
   "metadata": {},
   "outputs": [],
   "source": [
    "adm_id = 23143086"
   ]
  },
  {
   "cell_type": "code",
   "execution_count": 445,
   "id": "1a33b582-2558-4631-aeea-35f9531a7704",
   "metadata": {},
   "outputs": [],
   "source": [
    "df_paticustatysadm = df_paticustatys[df_paticustatys['hadm_id'] == adm_id]"
   ]
  },
  {
   "cell_type": "code",
   "execution_count": 446,
   "id": "67e36870-bb5e-48bc-85fb-e267d9a7b3a7",
   "metadata": {},
   "outputs": [],
   "source": [
    "df_paticustatysadm['intime'] = pd.to_datetime(df_paticustatysadm['intime'])\n",
    "df_paticustatysadm['outtime'] = pd.to_datetime(df_paticustatysadm['outtime'])"
   ]
  },
  {
   "cell_type": "code",
   "execution_count": 447,
   "id": "cd09d71b-5daa-4282-9c65-c7d48ddaf11a",
   "metadata": {},
   "outputs": [
    {
     "data": {
      "text/html": [
       "<div>\n",
       "<style scoped>\n",
       "    .dataframe tbody tr th:only-of-type {\n",
       "        vertical-align: middle;\n",
       "    }\n",
       "\n",
       "    .dataframe tbody tr th {\n",
       "        vertical-align: top;\n",
       "    }\n",
       "\n",
       "    .dataframe thead th {\n",
       "        text-align: right;\n",
       "    }\n",
       "</style>\n",
       "<table border=\"1\" class=\"dataframe\">\n",
       "  <thead>\n",
       "    <tr style=\"text-align: right;\">\n",
       "      <th></th>\n",
       "      <th>subject_id</th>\n",
       "      <th>hadm_id</th>\n",
       "      <th>stay_id</th>\n",
       "      <th>first_careunit</th>\n",
       "      <th>last_careunit</th>\n",
       "      <th>intime</th>\n",
       "      <th>outtime</th>\n",
       "      <th>los</th>\n",
       "    </tr>\n",
       "  </thead>\n",
       "  <tbody>\n",
       "  </tbody>\n",
       "</table>\n",
       "</div>"
      ],
      "text/plain": [
       "Empty DataFrame\n",
       "Columns: [subject_id, hadm_id, stay_id, first_careunit, last_careunit, intime, outtime, los]\n",
       "Index: []"
      ]
     },
     "execution_count": 447,
     "metadata": {},
     "output_type": "execute_result"
    }
   ],
   "source": [
    "df_paticustatysadm.head()"
   ]
  },
  {
   "cell_type": "code",
   "execution_count": 441,
   "id": "db8de1bd-6573-4080-ba3a-048a4f19a2cb",
   "metadata": {},
   "outputs": [
    {
     "data": {
      "text/plain": [
       "49784   2150-06-04 21:05:58\n",
       "Name: outtime, dtype: datetime64[ns]"
      ]
     },
     "execution_count": 441,
     "metadata": {},
     "output_type": "execute_result"
    }
   ],
   "source": [
    "df_paticustatysadm['outtime']"
   ]
  },
  {
   "cell_type": "code",
   "execution_count": 442,
   "id": "4ca0d83b-69aa-4688-b49f-38cfd2418581",
   "metadata": {},
   "outputs": [],
   "source": [
    "import plotly.express as px"
   ]
  },
  {
   "cell_type": "code",
   "execution_count": 443,
   "id": "0171c55a-752c-4520-abd3-7c428294ca61",
   "metadata": {},
   "outputs": [
    {
     "data": {
      "application/vnd.plotly.v1+json": {
       "config": {
        "plotlyServerURL": "https://plot.ly"
       },
       "data": [
        {
         "alignmentgroup": "True",
         "base": [
          "2150-06-03T20:12:32"
         ],
         "hovertemplate": "first_careunit=Trauma SICU (TSICU)<br>intime=%{base}<br>outtime=%{x}<br>los=%{y}<extra></extra>",
         "legendgroup": "Trauma SICU (TSICU)",
         "marker": {
          "color": "#636efa"
         },
         "name": "Trauma SICU (TSICU)",
         "offsetgroup": "Trauma SICU (TSICU)",
         "orientation": "h",
         "showlegend": true,
         "textposition": "auto",
         "type": "bar",
         "width": 0.08,
         "x": [
          89606000
         ],
         "xaxis": "x",
         "y": [
          1.0371064814814817
         ],
         "yaxis": "y"
        }
       ],
       "layout": {
        "autosize": false,
        "barmode": "overlay",
        "height": 300,
        "legend": {
         "title": {
          "text": "First careunit"
         },
         "tracegroupgap": 0
        },
        "margin": {
         "t": 60
        },
        "template": {
         "data": {
          "bar": [
           {
            "error_x": {
             "color": "#2a3f5f"
            },
            "error_y": {
             "color": "#2a3f5f"
            },
            "marker": {
             "line": {
              "color": "#E5ECF6",
              "width": 0.5
             },
             "pattern": {
              "fillmode": "overlay",
              "size": 10,
              "solidity": 0.2
             }
            },
            "type": "bar"
           }
          ],
          "barpolar": [
           {
            "marker": {
             "line": {
              "color": "#E5ECF6",
              "width": 0.5
             },
             "pattern": {
              "fillmode": "overlay",
              "size": 10,
              "solidity": 0.2
             }
            },
            "type": "barpolar"
           }
          ],
          "carpet": [
           {
            "aaxis": {
             "endlinecolor": "#2a3f5f",
             "gridcolor": "white",
             "linecolor": "white",
             "minorgridcolor": "white",
             "startlinecolor": "#2a3f5f"
            },
            "baxis": {
             "endlinecolor": "#2a3f5f",
             "gridcolor": "white",
             "linecolor": "white",
             "minorgridcolor": "white",
             "startlinecolor": "#2a3f5f"
            },
            "type": "carpet"
           }
          ],
          "choropleth": [
           {
            "colorbar": {
             "outlinewidth": 0,
             "ticks": ""
            },
            "type": "choropleth"
           }
          ],
          "contour": [
           {
            "colorbar": {
             "outlinewidth": 0,
             "ticks": ""
            },
            "colorscale": [
             [
              0,
              "#0d0887"
             ],
             [
              0.1111111111111111,
              "#46039f"
             ],
             [
              0.2222222222222222,
              "#7201a8"
             ],
             [
              0.3333333333333333,
              "#9c179e"
             ],
             [
              0.4444444444444444,
              "#bd3786"
             ],
             [
              0.5555555555555556,
              "#d8576b"
             ],
             [
              0.6666666666666666,
              "#ed7953"
             ],
             [
              0.7777777777777778,
              "#fb9f3a"
             ],
             [
              0.8888888888888888,
              "#fdca26"
             ],
             [
              1,
              "#f0f921"
             ]
            ],
            "type": "contour"
           }
          ],
          "contourcarpet": [
           {
            "colorbar": {
             "outlinewidth": 0,
             "ticks": ""
            },
            "type": "contourcarpet"
           }
          ],
          "heatmap": [
           {
            "colorbar": {
             "outlinewidth": 0,
             "ticks": ""
            },
            "colorscale": [
             [
              0,
              "#0d0887"
             ],
             [
              0.1111111111111111,
              "#46039f"
             ],
             [
              0.2222222222222222,
              "#7201a8"
             ],
             [
              0.3333333333333333,
              "#9c179e"
             ],
             [
              0.4444444444444444,
              "#bd3786"
             ],
             [
              0.5555555555555556,
              "#d8576b"
             ],
             [
              0.6666666666666666,
              "#ed7953"
             ],
             [
              0.7777777777777778,
              "#fb9f3a"
             ],
             [
              0.8888888888888888,
              "#fdca26"
             ],
             [
              1,
              "#f0f921"
             ]
            ],
            "type": "heatmap"
           }
          ],
          "heatmapgl": [
           {
            "colorbar": {
             "outlinewidth": 0,
             "ticks": ""
            },
            "colorscale": [
             [
              0,
              "#0d0887"
             ],
             [
              0.1111111111111111,
              "#46039f"
             ],
             [
              0.2222222222222222,
              "#7201a8"
             ],
             [
              0.3333333333333333,
              "#9c179e"
             ],
             [
              0.4444444444444444,
              "#bd3786"
             ],
             [
              0.5555555555555556,
              "#d8576b"
             ],
             [
              0.6666666666666666,
              "#ed7953"
             ],
             [
              0.7777777777777778,
              "#fb9f3a"
             ],
             [
              0.8888888888888888,
              "#fdca26"
             ],
             [
              1,
              "#f0f921"
             ]
            ],
            "type": "heatmapgl"
           }
          ],
          "histogram": [
           {
            "marker": {
             "pattern": {
              "fillmode": "overlay",
              "size": 10,
              "solidity": 0.2
             }
            },
            "type": "histogram"
           }
          ],
          "histogram2d": [
           {
            "colorbar": {
             "outlinewidth": 0,
             "ticks": ""
            },
            "colorscale": [
             [
              0,
              "#0d0887"
             ],
             [
              0.1111111111111111,
              "#46039f"
             ],
             [
              0.2222222222222222,
              "#7201a8"
             ],
             [
              0.3333333333333333,
              "#9c179e"
             ],
             [
              0.4444444444444444,
              "#bd3786"
             ],
             [
              0.5555555555555556,
              "#d8576b"
             ],
             [
              0.6666666666666666,
              "#ed7953"
             ],
             [
              0.7777777777777778,
              "#fb9f3a"
             ],
             [
              0.8888888888888888,
              "#fdca26"
             ],
             [
              1,
              "#f0f921"
             ]
            ],
            "type": "histogram2d"
           }
          ],
          "histogram2dcontour": [
           {
            "colorbar": {
             "outlinewidth": 0,
             "ticks": ""
            },
            "colorscale": [
             [
              0,
              "#0d0887"
             ],
             [
              0.1111111111111111,
              "#46039f"
             ],
             [
              0.2222222222222222,
              "#7201a8"
             ],
             [
              0.3333333333333333,
              "#9c179e"
             ],
             [
              0.4444444444444444,
              "#bd3786"
             ],
             [
              0.5555555555555556,
              "#d8576b"
             ],
             [
              0.6666666666666666,
              "#ed7953"
             ],
             [
              0.7777777777777778,
              "#fb9f3a"
             ],
             [
              0.8888888888888888,
              "#fdca26"
             ],
             [
              1,
              "#f0f921"
             ]
            ],
            "type": "histogram2dcontour"
           }
          ],
          "mesh3d": [
           {
            "colorbar": {
             "outlinewidth": 0,
             "ticks": ""
            },
            "type": "mesh3d"
           }
          ],
          "parcoords": [
           {
            "line": {
             "colorbar": {
              "outlinewidth": 0,
              "ticks": ""
             }
            },
            "type": "parcoords"
           }
          ],
          "pie": [
           {
            "automargin": true,
            "type": "pie"
           }
          ],
          "scatter": [
           {
            "marker": {
             "colorbar": {
              "outlinewidth": 0,
              "ticks": ""
             }
            },
            "type": "scatter"
           }
          ],
          "scatter3d": [
           {
            "line": {
             "colorbar": {
              "outlinewidth": 0,
              "ticks": ""
             }
            },
            "marker": {
             "colorbar": {
              "outlinewidth": 0,
              "ticks": ""
             }
            },
            "type": "scatter3d"
           }
          ],
          "scattercarpet": [
           {
            "marker": {
             "colorbar": {
              "outlinewidth": 0,
              "ticks": ""
             }
            },
            "type": "scattercarpet"
           }
          ],
          "scattergeo": [
           {
            "marker": {
             "colorbar": {
              "outlinewidth": 0,
              "ticks": ""
             }
            },
            "type": "scattergeo"
           }
          ],
          "scattergl": [
           {
            "marker": {
             "colorbar": {
              "outlinewidth": 0,
              "ticks": ""
             }
            },
            "type": "scattergl"
           }
          ],
          "scattermapbox": [
           {
            "marker": {
             "colorbar": {
              "outlinewidth": 0,
              "ticks": ""
             }
            },
            "type": "scattermapbox"
           }
          ],
          "scatterpolar": [
           {
            "marker": {
             "colorbar": {
              "outlinewidth": 0,
              "ticks": ""
             }
            },
            "type": "scatterpolar"
           }
          ],
          "scatterpolargl": [
           {
            "marker": {
             "colorbar": {
              "outlinewidth": 0,
              "ticks": ""
             }
            },
            "type": "scatterpolargl"
           }
          ],
          "scatterternary": [
           {
            "marker": {
             "colorbar": {
              "outlinewidth": 0,
              "ticks": ""
             }
            },
            "type": "scatterternary"
           }
          ],
          "surface": [
           {
            "colorbar": {
             "outlinewidth": 0,
             "ticks": ""
            },
            "colorscale": [
             [
              0,
              "#0d0887"
             ],
             [
              0.1111111111111111,
              "#46039f"
             ],
             [
              0.2222222222222222,
              "#7201a8"
             ],
             [
              0.3333333333333333,
              "#9c179e"
             ],
             [
              0.4444444444444444,
              "#bd3786"
             ],
             [
              0.5555555555555556,
              "#d8576b"
             ],
             [
              0.6666666666666666,
              "#ed7953"
             ],
             [
              0.7777777777777778,
              "#fb9f3a"
             ],
             [
              0.8888888888888888,
              "#fdca26"
             ],
             [
              1,
              "#f0f921"
             ]
            ],
            "type": "surface"
           }
          ],
          "table": [
           {
            "cells": {
             "fill": {
              "color": "#EBF0F8"
             },
             "line": {
              "color": "white"
             }
            },
            "header": {
             "fill": {
              "color": "#C8D4E3"
             },
             "line": {
              "color": "white"
             }
            },
            "type": "table"
           }
          ]
         },
         "layout": {
          "annotationdefaults": {
           "arrowcolor": "#2a3f5f",
           "arrowhead": 0,
           "arrowwidth": 1
          },
          "autotypenumbers": "strict",
          "coloraxis": {
           "colorbar": {
            "outlinewidth": 0,
            "ticks": ""
           }
          },
          "colorscale": {
           "diverging": [
            [
             0,
             "#8e0152"
            ],
            [
             0.1,
             "#c51b7d"
            ],
            [
             0.2,
             "#de77ae"
            ],
            [
             0.3,
             "#f1b6da"
            ],
            [
             0.4,
             "#fde0ef"
            ],
            [
             0.5,
             "#f7f7f7"
            ],
            [
             0.6,
             "#e6f5d0"
            ],
            [
             0.7,
             "#b8e186"
            ],
            [
             0.8,
             "#7fbc41"
            ],
            [
             0.9,
             "#4d9221"
            ],
            [
             1,
             "#276419"
            ]
           ],
           "sequential": [
            [
             0,
             "#0d0887"
            ],
            [
             0.1111111111111111,
             "#46039f"
            ],
            [
             0.2222222222222222,
             "#7201a8"
            ],
            [
             0.3333333333333333,
             "#9c179e"
            ],
            [
             0.4444444444444444,
             "#bd3786"
            ],
            [
             0.5555555555555556,
             "#d8576b"
            ],
            [
             0.6666666666666666,
             "#ed7953"
            ],
            [
             0.7777777777777778,
             "#fb9f3a"
            ],
            [
             0.8888888888888888,
             "#fdca26"
            ],
            [
             1,
             "#f0f921"
            ]
           ],
           "sequentialminus": [
            [
             0,
             "#0d0887"
            ],
            [
             0.1111111111111111,
             "#46039f"
            ],
            [
             0.2222222222222222,
             "#7201a8"
            ],
            [
             0.3333333333333333,
             "#9c179e"
            ],
            [
             0.4444444444444444,
             "#bd3786"
            ],
            [
             0.5555555555555556,
             "#d8576b"
            ],
            [
             0.6666666666666666,
             "#ed7953"
            ],
            [
             0.7777777777777778,
             "#fb9f3a"
            ],
            [
             0.8888888888888888,
             "#fdca26"
            ],
            [
             1,
             "#f0f921"
            ]
           ]
          },
          "colorway": [
           "#636efa",
           "#EF553B",
           "#00cc96",
           "#ab63fa",
           "#FFA15A",
           "#19d3f3",
           "#FF6692",
           "#B6E880",
           "#FF97FF",
           "#FECB52"
          ],
          "font": {
           "color": "#2a3f5f"
          },
          "geo": {
           "bgcolor": "white",
           "lakecolor": "white",
           "landcolor": "#E5ECF6",
           "showlakes": true,
           "showland": true,
           "subunitcolor": "white"
          },
          "hoverlabel": {
           "align": "left"
          },
          "hovermode": "closest",
          "mapbox": {
           "style": "light"
          },
          "paper_bgcolor": "white",
          "plot_bgcolor": "#E5ECF6",
          "polar": {
           "angularaxis": {
            "gridcolor": "white",
            "linecolor": "white",
            "ticks": ""
           },
           "bgcolor": "#E5ECF6",
           "radialaxis": {
            "gridcolor": "white",
            "linecolor": "white",
            "ticks": ""
           }
          },
          "scene": {
           "xaxis": {
            "backgroundcolor": "#E5ECF6",
            "gridcolor": "white",
            "gridwidth": 2,
            "linecolor": "white",
            "showbackground": true,
            "ticks": "",
            "zerolinecolor": "white"
           },
           "yaxis": {
            "backgroundcolor": "#E5ECF6",
            "gridcolor": "white",
            "gridwidth": 2,
            "linecolor": "white",
            "showbackground": true,
            "ticks": "",
            "zerolinecolor": "white"
           },
           "zaxis": {
            "backgroundcolor": "#E5ECF6",
            "gridcolor": "white",
            "gridwidth": 2,
            "linecolor": "white",
            "showbackground": true,
            "ticks": "",
            "zerolinecolor": "white"
           }
          },
          "shapedefaults": {
           "line": {
            "color": "#2a3f5f"
           }
          },
          "ternary": {
           "aaxis": {
            "gridcolor": "white",
            "linecolor": "white",
            "ticks": ""
           },
           "baxis": {
            "gridcolor": "white",
            "linecolor": "white",
            "ticks": ""
           },
           "bgcolor": "#E5ECF6",
           "caxis": {
            "gridcolor": "white",
            "linecolor": "white",
            "ticks": ""
           }
          },
          "title": {
           "x": 0.05
          },
          "xaxis": {
           "automargin": true,
           "gridcolor": "white",
           "linecolor": "white",
           "ticks": "",
           "title": {
            "standoff": 15
           },
           "zerolinecolor": "white",
           "zerolinewidth": 2
          },
          "yaxis": {
           "automargin": true,
           "gridcolor": "white",
           "linecolor": "white",
           "ticks": "",
           "title": {
            "standoff": 15
           },
           "zerolinecolor": "white",
           "zerolinewidth": 2
          }
         }
        },
        "title": {
         "text": "Procedures during admission 25826145"
        },
        "width": 1000,
        "xaxis": {
         "anchor": "y",
         "autorange": true,
         "domain": [
          0,
          1
         ],
         "range": [
          "2150-06-03 18:49:33.8889",
          "2150-06-04 22:28:56.1111"
         ],
         "title": {
          "text": "Time"
         },
         "type": "date"
        },
        "yaxis": {
         "anchor": "x",
         "autorange": true,
         "domain": [
          0,
          1
         ],
         "range": [
          1.5371064814814817,
          0.5371064814814817
         ],
         "title": {
          "text": "Length of Stay"
         },
         "type": "linear"
        }
       }
      },
      "image/png": "[encoded data removed]",
      "text/html": [
       "<div>                            <div id=\"f91d76e1-ea80-43aa-a49c-3979ea06c0c0\" class=\"plotly-graph-div\" style=\"height:300px; width:1000px;\"></div>            <script type=\"text/javascript\">                require([\"plotly\"], function(Plotly) {                    window.PLOTLYENV=window.PLOTLYENV || {};                                    if (document.getElementById(\"f91d76e1-ea80-43aa-a49c-3979ea06c0c0\")) {                    Plotly.newPlot(                        \"f91d76e1-ea80-43aa-a49c-3979ea06c0c0\",                        [{\"alignmentgroup\":\"True\",\"base\":[\"2150-06-03T20:12:32\"],\"hovertemplate\":\"first_careunit=Trauma SICU (TSICU)<br>intime=%{base}<br>outtime=%{x}<br>los=%{y}<extra></extra>\",\"legendgroup\":\"Trauma SICU (TSICU)\",\"marker\":{\"color\":\"#636efa\"},\"name\":\"Trauma SICU (TSICU)\",\"offsetgroup\":\"Trauma SICU (TSICU)\",\"orientation\":\"h\",\"showlegend\":true,\"textposition\":\"auto\",\"x\":[89606000.0],\"xaxis\":\"x\",\"y\":[1.0371064814814817],\"yaxis\":\"y\",\"type\":\"bar\",\"width\":0.08}],                        {\"template\":{\"data\":{\"bar\":[{\"error_x\":{\"color\":\"#2a3f5f\"},\"error_y\":{\"color\":\"#2a3f5f\"},\"marker\":{\"line\":{\"color\":\"#E5ECF6\",\"width\":0.5},\"pattern\":{\"fillmode\":\"overlay\",\"size\":10,\"solidity\":0.2}},\"type\":\"bar\"}],\"barpolar\":[{\"marker\":{\"line\":{\"color\":\"#E5ECF6\",\"width\":0.5},\"pattern\":{\"fillmode\":\"overlay\",\"size\":10,\"solidity\":0.2}},\"type\":\"barpolar\"}],\"carpet\":[{\"aaxis\":{\"endlinecolor\":\"#2a3f5f\",\"gridcolor\":\"white\",\"linecolor\":\"white\",\"minorgridcolor\":\"white\",\"startlinecolor\":\"#2a3f5f\"},\"baxis\":{\"endlinecolor\":\"#2a3f5f\",\"gridcolor\":\"white\",\"linecolor\":\"white\",\"minorgridcolor\":\"white\",\"startlinecolor\":\"#2a3f5f\"},\"type\":\"carpet\"}],\"choropleth\":[{\"colorbar\":{\"outlinewidth\":0,\"ticks\":\"\"},\"type\":\"choropleth\"}],\"contour\":[{\"colorbar\":{\"outlinewidth\":0,\"ticks\":\"\"},\"colorscale\":[[0.0,\"#0d0887\"],[0.1111111111111111,\"#46039f\"],[0.2222222222222222,\"#7201a8\"],[0.3333333333333333,\"#9c179e\"],[0.4444444444444444,\"#bd3786\"],[0.5555555555555556,\"#d8576b\"],[0.6666666666666666,\"#ed7953\"],[0.7777777777777778,\"#fb9f3a\"],[0.8888888888888888,\"#fdca26\"],[1.0,\"#f0f921\"]],\"type\":\"contour\"}],\"contourcarpet\":[{\"colorbar\":{\"outlinewidth\":0,\"ticks\":\"\"},\"type\":\"contourcarpet\"}],\"heatmap\":[{\"colorbar\":{\"outlinewidth\":0,\"ticks\":\"\"},\"colorscale\":[[0.0,\"#0d0887\"],[0.1111111111111111,\"#46039f\"],[0.2222222222222222,\"#7201a8\"],[0.3333333333333333,\"#9c179e\"],[0.4444444444444444,\"#bd3786\"],[0.5555555555555556,\"#d8576b\"],[0.6666666666666666,\"#ed7953\"],[0.7777777777777778,\"#fb9f3a\"],[0.8888888888888888,\"#fdca26\"],[1.0,\"#f0f921\"]],\"type\":\"heatmap\"}],\"heatmapgl\":[{\"colorbar\":{\"outlinewidth\":0,\"ticks\":\"\"},\"colorscale\":[[0.0,\"#0d0887\"],[0.1111111111111111,\"#46039f\"],[0.2222222222222222,\"#7201a8\"],[0.3333333333333333,\"#9c179e\"],[0.4444444444444444,\"#bd3786\"],[0.5555555555555556,\"#d8576b\"],[0.6666666666666666,\"#ed7953\"],[0.7777777777777778,\"#fb9f3a\"],[0.8888888888888888,\"#fdca26\"],[1.0,\"#f0f921\"]],\"type\":\"heatmapgl\"}],\"histogram\":[{\"marker\":{\"pattern\":{\"fillmode\":\"overlay\",\"size\":10,\"solidity\":0.2}},\"type\":\"histogram\"}],\"histogram2d\":[{\"colorbar\":{\"outlinewidth\":0,\"ticks\":\"\"},\"colorscale\":[[0.0,\"#0d0887\"],[0.1111111111111111,\"#46039f\"],[0.2222222222222222,\"#7201a8\"],[0.3333333333333333,\"#9c179e\"],[0.4444444444444444,\"#bd3786\"],[0.5555555555555556,\"#d8576b\"],[0.6666666666666666,\"#ed7953\"],[0.7777777777777778,\"#fb9f3a\"],[0.8888888888888888,\"#fdca26\"],[1.0,\"#f0f921\"]],\"type\":\"histogram2d\"}],\"histogram2dcontour\":[{\"colorbar\":{\"outlinewidth\":0,\"ticks\":\"\"},\"colorscale\":[[0.0,\"#0d0887\"],[0.1111111111111111,\"#46039f\"],[0.2222222222222222,\"#7201a8\"],[0.3333333333333333,\"#9c179e\"],[0.4444444444444444,\"#bd3786\"],[0.5555555555555556,\"#d8576b\"],[0.6666666666666666,\"#ed7953\"],[0.7777777777777778,\"#fb9f3a\"],[0.8888888888888888,\"#fdca26\"],[1.0,\"#f0f921\"]],\"type\":\"histogram2dcontour\"}],\"mesh3d\":[{\"colorbar\":{\"outlinewidth\":0,\"ticks\":\"\"},\"type\":\"mesh3d\"}],\"parcoords\":[{\"line\":{\"colorbar\":{\"outlinewidth\":0,\"ticks\":\"\"}},\"type\":\"parcoords\"}],\"pie\":[{\"automargin\":true,\"type\":\"pie\"}],\"scatter\":[{\"marker\":{\"colorbar\":{\"outlinewidth\":0,\"ticks\":\"\"}},\"type\":\"scatter\"}],\"scatter3d\":[{\"line\":{\"colorbar\":{\"outlinewidth\":0,\"ticks\":\"\"}},\"marker\":{\"colorbar\":{\"outlinewidth\":0,\"ticks\":\"\"}},\"type\":\"scatter3d\"}],\"scattercarpet\":[{\"marker\":{\"colorbar\":{\"outlinewidth\":0,\"ticks\":\"\"}},\"type\":\"scattercarpet\"}],\"scattergeo\":[{\"marker\":{\"colorbar\":{\"outlinewidth\":0,\"ticks\":\"\"}},\"type\":\"scattergeo\"}],\"scattergl\":[{\"marker\":{\"colorbar\":{\"outlinewidth\":0,\"ticks\":\"\"}},\"type\":\"scattergl\"}],\"scattermapbox\":[{\"marker\":{\"colorbar\":{\"outlinewidth\":0,\"ticks\":\"\"}},\"type\":\"scattermapbox\"}],\"scatterpolar\":[{\"marker\":{\"colorbar\":{\"outlinewidth\":0,\"ticks\":\"\"}},\"type\":\"scatterpolar\"}],\"scatterpolargl\":[{\"marker\":{\"colorbar\":{\"outlinewidth\":0,\"ticks\":\"\"}},\"type\":\"scatterpolargl\"}],\"scatterternary\":[{\"marker\":{\"colorbar\":{\"outlinewidth\":0,\"ticks\":\"\"}},\"type\":\"scatterternary\"}],\"surface\":[{\"colorbar\":{\"outlinewidth\":0,\"ticks\":\"\"},\"colorscale\":[[0.0,\"#0d0887\"],[0.1111111111111111,\"#46039f\"],[0.2222222222222222,\"#7201a8\"],[0.3333333333333333,\"#9c179e\"],[0.4444444444444444,\"#bd3786\"],[0.5555555555555556,\"#d8576b\"],[0.6666666666666666,\"#ed7953\"],[0.7777777777777778,\"#fb9f3a\"],[0.8888888888888888,\"#fdca26\"],[1.0,\"#f0f921\"]],\"type\":\"surface\"}],\"table\":[{\"cells\":{\"fill\":{\"color\":\"#EBF0F8\"},\"line\":{\"color\":\"white\"}},\"header\":{\"fill\":{\"color\":\"#C8D4E3\"},\"line\":{\"color\":\"white\"}},\"type\":\"table\"}]},\"layout\":{\"annotationdefaults\":{\"arrowcolor\":\"#2a3f5f\",\"arrowhead\":0,\"arrowwidth\":1},\"autotypenumbers\":\"strict\",\"coloraxis\":{\"colorbar\":{\"outlinewidth\":0,\"ticks\":\"\"}},\"colorscale\":{\"diverging\":[[0,\"#8e0152\"],[0.1,\"#c51b7d\"],[0.2,\"#de77ae\"],[0.3,\"#f1b6da\"],[0.4,\"#fde0ef\"],[0.5,\"#f7f7f7\"],[0.6,\"#e6f5d0\"],[0.7,\"#b8e186\"],[0.8,\"#7fbc41\"],[0.9,\"#4d9221\"],[1,\"#276419\"]],\"sequential\":[[0.0,\"#0d0887\"],[0.1111111111111111,\"#46039f\"],[0.2222222222222222,\"#7201a8\"],[0.3333333333333333,\"#9c179e\"],[0.4444444444444444,\"#bd3786\"],[0.5555555555555556,\"#d8576b\"],[0.6666666666666666,\"#ed7953\"],[0.7777777777777778,\"#fb9f3a\"],[0.8888888888888888,\"#fdca26\"],[1.0,\"#f0f921\"]],\"sequentialminus\":[[0.0,\"#0d0887\"],[0.1111111111111111,\"#46039f\"],[0.2222222222222222,\"#7201a8\"],[0.3333333333333333,\"#9c179e\"],[0.4444444444444444,\"#bd3786\"],[0.5555555555555556,\"#d8576b\"],[0.6666666666666666,\"#ed7953\"],[0.7777777777777778,\"#fb9f3a\"],[0.8888888888888888,\"#fdca26\"],[1.0,\"#f0f921\"]]},\"colorway\":[\"#636efa\",\"#EF553B\",\"#00cc96\",\"#ab63fa\",\"#FFA15A\",\"#19d3f3\",\"#FF6692\",\"#B6E880\",\"#FF97FF\",\"#FECB52\"],\"font\":{\"color\":\"#2a3f5f\"},\"geo\":{\"bgcolor\":\"white\",\"lakecolor\":\"white\",\"landcolor\":\"#E5ECF6\",\"showlakes\":true,\"showland\":true,\"subunitcolor\":\"white\"},\"hoverlabel\":{\"align\":\"left\"},\"hovermode\":\"closest\",\"mapbox\":{\"style\":\"light\"},\"paper_bgcolor\":\"white\",\"plot_bgcolor\":\"#E5ECF6\",\"polar\":{\"angularaxis\":{\"gridcolor\":\"white\",\"linecolor\":\"white\",\"ticks\":\"\"},\"bgcolor\":\"#E5ECF6\",\"radialaxis\":{\"gridcolor\":\"white\",\"linecolor\":\"white\",\"ticks\":\"\"}},\"scene\":{\"xaxis\":{\"backgroundcolor\":\"#E5ECF6\",\"gridcolor\":\"white\",\"gridwidth\":2,\"linecolor\":\"white\",\"showbackground\":true,\"ticks\":\"\",\"zerolinecolor\":\"white\"},\"yaxis\":{\"backgroundcolor\":\"#E5ECF6\",\"gridcolor\":\"white\",\"gridwidth\":2,\"linecolor\":\"white\",\"showbackground\":true,\"ticks\":\"\",\"zerolinecolor\":\"white\"},\"zaxis\":{\"backgroundcolor\":\"#E5ECF6\",\"gridcolor\":\"white\",\"gridwidth\":2,\"linecolor\":\"white\",\"showbackground\":true,\"ticks\":\"\",\"zerolinecolor\":\"white\"}},\"shapedefaults\":{\"line\":{\"color\":\"#2a3f5f\"}},\"ternary\":{\"aaxis\":{\"gridcolor\":\"white\",\"linecolor\":\"white\",\"ticks\":\"\"},\"baxis\":{\"gridcolor\":\"white\",\"linecolor\":\"white\",\"ticks\":\"\"},\"bgcolor\":\"#E5ECF6\",\"caxis\":{\"gridcolor\":\"white\",\"linecolor\":\"white\",\"ticks\":\"\"}},\"title\":{\"x\":0.05},\"xaxis\":{\"automargin\":true,\"gridcolor\":\"white\",\"linecolor\":\"white\",\"ticks\":\"\",\"title\":{\"standoff\":15},\"zerolinecolor\":\"white\",\"zerolinewidth\":2},\"yaxis\":{\"automargin\":true,\"gridcolor\":\"white\",\"linecolor\":\"white\",\"ticks\":\"\",\"title\":{\"standoff\":15},\"zerolinecolor\":\"white\",\"zerolinewidth\":2}}},\"xaxis\":{\"anchor\":\"y\",\"domain\":[0.0,1.0],\"type\":\"date\",\"title\":{\"text\":\"Time\"}},\"yaxis\":{\"anchor\":\"x\",\"domain\":[0.0,1.0],\"title\":{\"text\":\"Length of Stay\"},\"autorange\":\"reversed\"},\"legend\":{\"title\":{\"text\":\"First careunit\"},\"tracegroupgap\":0},\"margin\":{\"t\":60},\"barmode\":\"overlay\",\"title\":{\"text\":\"Procedures during admission 25826145\"},\"autosize\":false,\"width\":1000,\"height\":300},                        {\"responsive\": true}                    ).then(function(){\n",
       "                            \n",
       "var gd = document.getElementById('f91d76e1-ea80-43aa-a49c-3979ea06c0c0');\n",
       "var x = new MutationObserver(function (mutations, observer) {{\n",
       "        var display = window.getComputedStyle(gd).display;\n",
       "        if (!display || display === 'none') {{\n",
       "            console.log([gd, 'removed!']);\n",
       "            Plotly.purge(gd);\n",
       "            observer.disconnect();\n",
       "        }}\n",
       "}});\n",
       "\n",
       "// Listen for the removal of the full notebook cells\n",
       "var notebookContainer = gd.closest('#notebook-container');\n",
       "if (notebookContainer) {{\n",
       "    x.observe(notebookContainer, {childList: true});\n",
       "}}\n",
       "\n",
       "// Listen for the clearing of the current output cell\n",
       "var outputEl = gd.closest('.output');\n",
       "if (outputEl) {{\n",
       "    x.observe(outputEl, {childList: true});\n",
       "}}\n",
       "\n",
       "                        })                };                });            </script>        </div>"
      ]
     },
     "metadata": {},
     "output_type": "display_data"
    }
   ],
   "source": [
    "fig = px.timeline(df_paticustatysadm, x_start=\"intime\", x_end=\"outtime\",y='los', color='first_careunit')\n",
    "fig.update_yaxes(autorange=\"reversed\")\n",
    "fig.update_layout(\n",
    "    title=\"Procedures during admission {}\".format(adm_id),\n",
    "    xaxis_title=\"Time\",\n",
    "    yaxis_title=\"Length of Stay\",\n",
    "    legend_title=\"First careunit\",\n",
    "    autosize=False,\n",
    "    width=1000,\n",
    "    height=300\n",
    ")\n",
    "\n",
    "fig.update_traces(width=0.08) \n",
    "fig.show()"
   ]
  },
  {
   "cell_type": "markdown",
   "id": "80f3003d-9c44-4061-870b-5b8104709b47",
   "metadata": {},
   "source": [
    "#### Procedures within ICU stays for a given admission"
   ]
  },
  {
   "cell_type": "code",
   "execution_count": 76,
   "id": "320badbd-0307-4a75-bfac-ebfa381c3542",
   "metadata": {},
   "outputs": [],
   "source": [
    "df_items = pd.read_csv(path_to_data + '\\icu\\d_items.csv')"
   ]
  },
  {
   "cell_type": "code",
   "execution_count": 77,
   "id": "87d63c3f-7b07-4a75-996d-bb62ecea4228",
   "metadata": {},
   "outputs": [
    {
     "data": {
      "text/html": [
       "<div>\n",
       "<style scoped>\n",
       "    .dataframe tbody tr th:only-of-type {\n",
       "        vertical-align: middle;\n",
       "    }\n",
       "\n",
       "    .dataframe tbody tr th {\n",
       "        vertical-align: top;\n",
       "    }\n",
       "\n",
       "    .dataframe thead th {\n",
       "        text-align: right;\n",
       "    }\n",
       "</style>\n",
       "<table border=\"1\" class=\"dataframe\">\n",
       "  <thead>\n",
       "    <tr style=\"text-align: right;\">\n",
       "      <th></th>\n",
       "      <th>itemid</th>\n",
       "      <th>label</th>\n",
       "      <th>abbreviation</th>\n",
       "      <th>linksto</th>\n",
       "      <th>category</th>\n",
       "      <th>unitname</th>\n",
       "      <th>param_type</th>\n",
       "      <th>lownormalvalue</th>\n",
       "      <th>highnormalvalue</th>\n",
       "    </tr>\n",
       "  </thead>\n",
       "  <tbody>\n",
       "    <tr>\n",
       "      <th>0</th>\n",
       "      <td>220003</td>\n",
       "      <td>ICU Admission date</td>\n",
       "      <td>ICU Admission date</td>\n",
       "      <td>datetimeevents</td>\n",
       "      <td>ADT</td>\n",
       "      <td>NaN</td>\n",
       "      <td>Date and time</td>\n",
       "      <td>NaN</td>\n",
       "      <td>NaN</td>\n",
       "    </tr>\n",
       "    <tr>\n",
       "      <th>1</th>\n",
       "      <td>220045</td>\n",
       "      <td>Heart Rate</td>\n",
       "      <td>HR</td>\n",
       "      <td>chartevents</td>\n",
       "      <td>Routine Vital Signs</td>\n",
       "      <td>bpm</td>\n",
       "      <td>Numeric</td>\n",
       "      <td>NaN</td>\n",
       "      <td>NaN</td>\n",
       "    </tr>\n",
       "    <tr>\n",
       "      <th>2</th>\n",
       "      <td>220046</td>\n",
       "      <td>Heart rate Alarm - High</td>\n",
       "      <td>HR Alarm - High</td>\n",
       "      <td>chartevents</td>\n",
       "      <td>Alarms</td>\n",
       "      <td>bpm</td>\n",
       "      <td>Numeric</td>\n",
       "      <td>NaN</td>\n",
       "      <td>NaN</td>\n",
       "    </tr>\n",
       "    <tr>\n",
       "      <th>3</th>\n",
       "      <td>220047</td>\n",
       "      <td>Heart Rate Alarm - Low</td>\n",
       "      <td>HR Alarm - Low</td>\n",
       "      <td>chartevents</td>\n",
       "      <td>Alarms</td>\n",
       "      <td>bpm</td>\n",
       "      <td>Numeric</td>\n",
       "      <td>NaN</td>\n",
       "      <td>NaN</td>\n",
       "    </tr>\n",
       "    <tr>\n",
       "      <th>4</th>\n",
       "      <td>220048</td>\n",
       "      <td>Heart Rhythm</td>\n",
       "      <td>Heart Rhythm</td>\n",
       "      <td>chartevents</td>\n",
       "      <td>Routine Vital Signs</td>\n",
       "      <td>NaN</td>\n",
       "      <td>Text</td>\n",
       "      <td>NaN</td>\n",
       "      <td>NaN</td>\n",
       "    </tr>\n",
       "    <tr>\n",
       "      <th>...</th>\n",
       "      <td>...</td>\n",
       "      <td>...</td>\n",
       "      <td>...</td>\n",
       "      <td>...</td>\n",
       "      <td>...</td>\n",
       "      <td>...</td>\n",
       "      <td>...</td>\n",
       "      <td>...</td>\n",
       "      <td>...</td>\n",
       "    </tr>\n",
       "    <tr>\n",
       "      <th>3856</th>\n",
       "      <td>229355</td>\n",
       "      <td>Absolute Neutrophil Count</td>\n",
       "      <td>Absolute Neutrophil Count</td>\n",
       "      <td>chartevents</td>\n",
       "      <td>Labs</td>\n",
       "      <td>None</td>\n",
       "      <td>Numeric</td>\n",
       "      <td>NaN</td>\n",
       "      <td>NaN</td>\n",
       "    </tr>\n",
       "    <tr>\n",
       "      <th>3857</th>\n",
       "      <td>229453</td>\n",
       "      <td>Exam-GI/GU</td>\n",
       "      <td>Exam-GI/GU</td>\n",
       "      <td>chartevents</td>\n",
       "      <td>MD Progress Note</td>\n",
       "      <td>NaN</td>\n",
       "      <td>Text</td>\n",
       "      <td>NaN</td>\n",
       "      <td>NaN</td>\n",
       "    </tr>\n",
       "    <tr>\n",
       "      <th>3858</th>\n",
       "      <td>229604</td>\n",
       "      <td>Therapeutic Bed</td>\n",
       "      <td>Therapeutic Bed</td>\n",
       "      <td>chartevents</td>\n",
       "      <td>Treatments</td>\n",
       "      <td>NaN</td>\n",
       "      <td>Text</td>\n",
       "      <td>NaN</td>\n",
       "      <td>NaN</td>\n",
       "    </tr>\n",
       "    <tr>\n",
       "      <th>3859</th>\n",
       "      <td>229709</td>\n",
       "      <td>Angiotensin II (Giapreza)</td>\n",
       "      <td>Angiotensin II (Giapreza)</td>\n",
       "      <td>inputevents</td>\n",
       "      <td>Medications</td>\n",
       "      <td>mg</td>\n",
       "      <td>Solution</td>\n",
       "      <td>NaN</td>\n",
       "      <td>NaN</td>\n",
       "    </tr>\n",
       "    <tr>\n",
       "      <th>3860</th>\n",
       "      <td>229836</td>\n",
       "      <td>Low Speed Limit (VAD)</td>\n",
       "      <td>Low Speed Limit (VAD)</td>\n",
       "      <td>chartevents</td>\n",
       "      <td>Durable VAD</td>\n",
       "      <td>NaN</td>\n",
       "      <td>Text</td>\n",
       "      <td>NaN</td>\n",
       "      <td>NaN</td>\n",
       "    </tr>\n",
       "  </tbody>\n",
       "</table>\n",
       "<p>3861 rows × 9 columns</p>\n",
       "</div>"
      ],
      "text/plain": [
       "      itemid                      label               abbreviation  \\\n",
       "0     220003         ICU Admission date         ICU Admission date   \n",
       "1     220045                 Heart Rate                         HR   \n",
       "2     220046    Heart rate Alarm - High            HR Alarm - High   \n",
       "3     220047     Heart Rate Alarm - Low             HR Alarm - Low   \n",
       "4     220048               Heart Rhythm               Heart Rhythm   \n",
       "...      ...                        ...                        ...   \n",
       "3856  229355  Absolute Neutrophil Count  Absolute Neutrophil Count   \n",
       "3857  229453                 Exam-GI/GU                 Exam-GI/GU   \n",
       "3858  229604            Therapeutic Bed            Therapeutic Bed   \n",
       "3859  229709  Angiotensin II (Giapreza)  Angiotensin II (Giapreza)   \n",
       "3860  229836      Low Speed Limit (VAD)      Low Speed Limit (VAD)   \n",
       "\n",
       "             linksto             category unitname     param_type  \\\n",
       "0     datetimeevents                  ADT      NaN  Date and time   \n",
       "1        chartevents  Routine Vital Signs      bpm        Numeric   \n",
       "2        chartevents               Alarms      bpm        Numeric   \n",
       "3        chartevents               Alarms      bpm        Numeric   \n",
       "4        chartevents  Routine Vital Signs      NaN           Text   \n",
       "...              ...                  ...      ...            ...   \n",
       "3856     chartevents                 Labs     None        Numeric   \n",
       "3857     chartevents     MD Progress Note      NaN           Text   \n",
       "3858     chartevents           Treatments      NaN           Text   \n",
       "3859     inputevents          Medications       mg       Solution   \n",
       "3860     chartevents          Durable VAD      NaN           Text   \n",
       "\n",
       "      lownormalvalue  highnormalvalue  \n",
       "0                NaN              NaN  \n",
       "1                NaN              NaN  \n",
       "2                NaN              NaN  \n",
       "3                NaN              NaN  \n",
       "4                NaN              NaN  \n",
       "...              ...              ...  \n",
       "3856             NaN              NaN  \n",
       "3857             NaN              NaN  \n",
       "3858             NaN              NaN  \n",
       "3859             NaN              NaN  \n",
       "3860             NaN              NaN  \n",
       "\n",
       "[3861 rows x 9 columns]"
      ]
     },
     "execution_count": 77,
     "metadata": {},
     "output_type": "execute_result"
    }
   ],
   "source": [
    "df_items"
   ]
  },
  {
   "cell_type": "code",
   "execution_count": 78,
   "id": "1d61755a-6f3b-4baa-a88f-cf49c7c0e984",
   "metadata": {},
   "outputs": [
    {
     "data": {
      "text/html": [
       "<div>\n",
       "<style scoped>\n",
       "    .dataframe tbody tr th:only-of-type {\n",
       "        vertical-align: middle;\n",
       "    }\n",
       "\n",
       "    .dataframe tbody tr th {\n",
       "        vertical-align: top;\n",
       "    }\n",
       "\n",
       "    .dataframe thead th {\n",
       "        text-align: right;\n",
       "    }\n",
       "</style>\n",
       "<table border=\"1\" class=\"dataframe\">\n",
       "  <thead>\n",
       "    <tr style=\"text-align: right;\">\n",
       "      <th></th>\n",
       "      <th>itemid</th>\n",
       "      <th>label</th>\n",
       "      <th>abbreviation</th>\n",
       "      <th>linksto</th>\n",
       "      <th>category</th>\n",
       "      <th>unitname</th>\n",
       "      <th>param_type</th>\n",
       "      <th>lownormalvalue</th>\n",
       "      <th>highnormalvalue</th>\n",
       "    </tr>\n",
       "  </thead>\n",
       "  <tbody>\n",
       "    <tr>\n",
       "      <th>444</th>\n",
       "      <td>224274</td>\n",
       "      <td>22 Gauge</td>\n",
       "      <td>22 Gauge</td>\n",
       "      <td>procedureevents</td>\n",
       "      <td>Access Lines - Peripheral</td>\n",
       "      <td>None</td>\n",
       "      <td>Processes</td>\n",
       "      <td>NaN</td>\n",
       "      <td>NaN</td>\n",
       "    </tr>\n",
       "  </tbody>\n",
       "</table>\n",
       "</div>"
      ],
      "text/plain": [
       "     itemid     label abbreviation          linksto  \\\n",
       "444  224274  22 Gauge     22 Gauge  procedureevents   \n",
       "\n",
       "                      category unitname param_type  lownormalvalue  \\\n",
       "444  Access Lines - Peripheral     None  Processes             NaN   \n",
       "\n",
       "     highnormalvalue  \n",
       "444              NaN  "
      ]
     },
     "execution_count": 78,
     "metadata": {},
     "output_type": "execute_result"
    }
   ],
   "source": [
    "df_items[df_items['itemid'] == 224274]"
   ]
  },
  {
   "cell_type": "code",
   "execution_count": 79,
   "id": "c3b000f9-fc65-402b-b44b-cad0a646e1fe",
   "metadata": {},
   "outputs": [],
   "source": [
    "df_procicupatadm = df_procicupat[df_procicupat['hadm_id'] == adm_id] "
   ]
  },
  {
   "cell_type": "code",
   "execution_count": 80,
   "id": "b55bf83b-4e5a-47ce-b131-0994246e815f",
   "metadata": {},
   "outputs": [
    {
     "data": {
      "text/html": [
       "<div>\n",
       "<style scoped>\n",
       "    .dataframe tbody tr th:only-of-type {\n",
       "        vertical-align: middle;\n",
       "    }\n",
       "\n",
       "    .dataframe tbody tr th {\n",
       "        vertical-align: top;\n",
       "    }\n",
       "\n",
       "    .dataframe thead th {\n",
       "        text-align: right;\n",
       "    }\n",
       "</style>\n",
       "<table border=\"1\" class=\"dataframe\">\n",
       "  <thead>\n",
       "    <tr style=\"text-align: right;\">\n",
       "      <th></th>\n",
       "      <th>subject_id</th>\n",
       "      <th>hadm_id</th>\n",
       "      <th>stay_id</th>\n",
       "      <th>starttime</th>\n",
       "      <th>endtime</th>\n",
       "      <th>storetime</th>\n",
       "      <th>itemid</th>\n",
       "      <th>value</th>\n",
       "      <th>valueuom</th>\n",
       "      <th>location</th>\n",
       "      <th>...</th>\n",
       "      <th>patientweight</th>\n",
       "      <th>totalamount</th>\n",
       "      <th>totalamountuom</th>\n",
       "      <th>isopenbag</th>\n",
       "      <th>continueinnextdept</th>\n",
       "      <th>cancelreason</th>\n",
       "      <th>statusdescription</th>\n",
       "      <th>comments_date</th>\n",
       "      <th>originalamount</th>\n",
       "      <th>originalrate</th>\n",
       "    </tr>\n",
       "  </thead>\n",
       "  <tbody>\n",
       "  </tbody>\n",
       "</table>\n",
       "<p>0 rows × 26 columns</p>\n",
       "</div>"
      ],
      "text/plain": [
       "Empty DataFrame\n",
       "Columns: [subject_id, hadm_id, stay_id, starttime, endtime, storetime, itemid, value, valueuom, location, locationcategory, orderid, linkorderid, ordercategoryname, secondaryordercategoryname, ordercategorydescription, patientweight, totalamount, totalamountuom, isopenbag, continueinnextdept, cancelreason, statusdescription, comments_date, originalamount, originalrate]\n",
       "Index: []\n",
       "\n",
       "[0 rows x 26 columns]"
      ]
     },
     "execution_count": 80,
     "metadata": {},
     "output_type": "execute_result"
    }
   ],
   "source": [
    "df_procicupatadm.head()"
   ]
  },
  {
   "cell_type": "code",
   "execution_count": 81,
   "id": "df385e06-8200-4f14-b030-f0cb797dde11",
   "metadata": {},
   "outputs": [],
   "source": [
    "df_procicupatadm['itemid'] = df_procicupatadm['itemid'].apply(lambda x: str(x))\n",
    "df_procicupatadm['stay_id'] = df_procicupatadm['stay_id'].apply(lambda x: str(x))"
   ]
  },
  {
   "cell_type": "code",
   "execution_count": 82,
   "id": "d585e0a2-8e4b-4dda-bd8b-67217d238b97",
   "metadata": {},
   "outputs": [
    {
     "data": {
      "application/vnd.plotly.v1+json": {
       "config": {
        "plotlyServerURL": "https://plot.ly"
       },
       "data": [],
       "layout": {
        "autosize": false,
        "barmode": "overlay",
        "coloraxis": {
         "colorbar": {
          "title": {
           "text": "stay_id"
          }
         },
         "colorscale": [
          [
           0,
           "#0d0887"
          ],
          [
           0.1111111111111111,
           "#46039f"
          ],
          [
           0.2222222222222222,
           "#7201a8"
          ],
          [
           0.3333333333333333,
           "#9c179e"
          ],
          [
           0.4444444444444444,
           "#bd3786"
          ],
          [
           0.5555555555555556,
           "#d8576b"
          ],
          [
           0.6666666666666666,
           "#ed7953"
          ],
          [
           0.7777777777777778,
           "#fb9f3a"
          ],
          [
           0.8888888888888888,
           "#fdca26"
          ],
          [
           1,
           "#f0f921"
          ]
         ]
        },
        "height": 300,
        "legend": {
         "title": {
          "text": "ICU stay ID"
         },
         "tracegroupgap": 0
        },
        "template": {
         "data": {
          "bar": [
           {
            "error_x": {
             "color": "#2a3f5f"
            },
            "error_y": {
             "color": "#2a3f5f"
            },
            "marker": {
             "line": {
              "color": "#E5ECF6",
              "width": 0.5
             },
             "pattern": {
              "fillmode": "overlay",
              "size": 10,
              "solidity": 0.2
             }
            },
            "type": "bar"
           }
          ],
          "barpolar": [
           {
            "marker": {
             "line": {
              "color": "#E5ECF6",
              "width": 0.5
             },
             "pattern": {
              "fillmode": "overlay",
              "size": 10,
              "solidity": 0.2
             }
            },
            "type": "barpolar"
           }
          ],
          "carpet": [
           {
            "aaxis": {
             "endlinecolor": "#2a3f5f",
             "gridcolor": "white",
             "linecolor": "white",
             "minorgridcolor": "white",
             "startlinecolor": "#2a3f5f"
            },
            "baxis": {
             "endlinecolor": "#2a3f5f",
             "gridcolor": "white",
             "linecolor": "white",
             "minorgridcolor": "white",
             "startlinecolor": "#2a3f5f"
            },
            "type": "carpet"
           }
          ],
          "choropleth": [
           {
            "colorbar": {
             "outlinewidth": 0,
             "ticks": ""
            },
            "type": "choropleth"
           }
          ],
          "contour": [
           {
            "colorbar": {
             "outlinewidth": 0,
             "ticks": ""
            },
            "colorscale": [
             [
              0,
              "#0d0887"
             ],
             [
              0.1111111111111111,
              "#46039f"
             ],
             [
              0.2222222222222222,
              "#7201a8"
             ],
             [
              0.3333333333333333,
              "#9c179e"
             ],
             [
              0.4444444444444444,
              "#bd3786"
             ],
             [
              0.5555555555555556,
              "#d8576b"
             ],
             [
              0.6666666666666666,
              "#ed7953"
             ],
             [
              0.7777777777777778,
              "#fb9f3a"
             ],
             [
              0.8888888888888888,
              "#fdca26"
             ],
             [
              1,
              "#f0f921"
             ]
            ],
            "type": "contour"
           }
          ],
          "contourcarpet": [
           {
            "colorbar": {
             "outlinewidth": 0,
             "ticks": ""
            },
            "type": "contourcarpet"
           }
          ],
          "heatmap": [
           {
            "colorbar": {
             "outlinewidth": 0,
             "ticks": ""
            },
            "colorscale": [
             [
              0,
              "#0d0887"
             ],
             [
              0.1111111111111111,
              "#46039f"
             ],
             [
              0.2222222222222222,
              "#7201a8"
             ],
             [
              0.3333333333333333,
              "#9c179e"
             ],
             [
              0.4444444444444444,
              "#bd3786"
             ],
             [
              0.5555555555555556,
              "#d8576b"
             ],
             [
              0.6666666666666666,
              "#ed7953"
             ],
             [
              0.7777777777777778,
              "#fb9f3a"
             ],
             [
              0.8888888888888888,
              "#fdca26"
             ],
             [
              1,
              "#f0f921"
             ]
            ],
            "type": "heatmap"
           }
          ],
          "heatmapgl": [
           {
            "colorbar": {
             "outlinewidth": 0,
             "ticks": ""
            },
            "colorscale": [
             [
              0,
              "#0d0887"
             ],
             [
              0.1111111111111111,
              "#46039f"
             ],
             [
              0.2222222222222222,
              "#7201a8"
             ],
             [
              0.3333333333333333,
              "#9c179e"
             ],
             [
              0.4444444444444444,
              "#bd3786"
             ],
             [
              0.5555555555555556,
              "#d8576b"
             ],
             [
              0.6666666666666666,
              "#ed7953"
             ],
             [
              0.7777777777777778,
              "#fb9f3a"
             ],
             [
              0.8888888888888888,
              "#fdca26"
             ],
             [
              1,
              "#f0f921"
             ]
            ],
            "type": "heatmapgl"
           }
          ],
          "histogram": [
           {
            "marker": {
             "pattern": {
              "fillmode": "overlay",
              "size": 10,
              "solidity": 0.2
             }
            },
            "type": "histogram"
           }
          ],
          "histogram2d": [
           {
            "colorbar": {
             "outlinewidth": 0,
             "ticks": ""
            },
            "colorscale": [
             [
              0,
              "#0d0887"
             ],
             [
              0.1111111111111111,
              "#46039f"
             ],
             [
              0.2222222222222222,
              "#7201a8"
             ],
             [
              0.3333333333333333,
              "#9c179e"
             ],
             [
              0.4444444444444444,
              "#bd3786"
             ],
             [
              0.5555555555555556,
              "#d8576b"
             ],
             [
              0.6666666666666666,
              "#ed7953"
             ],
             [
              0.7777777777777778,
              "#fb9f3a"
             ],
             [
              0.8888888888888888,
              "#fdca26"
             ],
             [
              1,
              "#f0f921"
             ]
            ],
            "type": "histogram2d"
           }
          ],
          "histogram2dcontour": [
           {
            "colorbar": {
             "outlinewidth": 0,
             "ticks": ""
            },
            "colorscale": [
             [
              0,
              "#0d0887"
             ],
             [
              0.1111111111111111,
              "#46039f"
             ],
             [
              0.2222222222222222,
              "#7201a8"
             ],
             [
              0.3333333333333333,
              "#9c179e"
             ],
             [
              0.4444444444444444,
              "#bd3786"
             ],
             [
              0.5555555555555556,
              "#d8576b"
             ],
             [
              0.6666666666666666,
              "#ed7953"
             ],
             [
              0.7777777777777778,
              "#fb9f3a"
             ],
             [
              0.8888888888888888,
              "#fdca26"
             ],
             [
              1,
              "#f0f921"
             ]
            ],
            "type": "histogram2dcontour"
           }
          ],
          "mesh3d": [
           {
            "colorbar": {
             "outlinewidth": 0,
             "ticks": ""
            },
            "type": "mesh3d"
           }
          ],
          "parcoords": [
           {
            "line": {
             "colorbar": {
              "outlinewidth": 0,
              "ticks": ""
             }
            },
            "type": "parcoords"
           }
          ],
          "pie": [
           {
            "automargin": true,
            "type": "pie"
           }
          ],
          "scatter": [
           {
            "marker": {
             "colorbar": {
              "outlinewidth": 0,
              "ticks": ""
             }
            },
            "type": "scatter"
           }
          ],
          "scatter3d": [
           {
            "line": {
             "colorbar": {
              "outlinewidth": 0,
              "ticks": ""
             }
            },
            "marker": {
             "colorbar": {
              "outlinewidth": 0,
              "ticks": ""
             }
            },
            "type": "scatter3d"
           }
          ],
          "scattercarpet": [
           {
            "marker": {
             "colorbar": {
              "outlinewidth": 0,
              "ticks": ""
             }
            },
            "type": "scattercarpet"
           }
          ],
          "scattergeo": [
           {
            "marker": {
             "colorbar": {
              "outlinewidth": 0,
              "ticks": ""
             }
            },
            "type": "scattergeo"
           }
          ],
          "scattergl": [
           {
            "marker": {
             "colorbar": {
              "outlinewidth": 0,
              "ticks": ""
             }
            },
            "type": "scattergl"
           }
          ],
          "scattermapbox": [
           {
            "marker": {
             "colorbar": {
              "outlinewidth": 0,
              "ticks": ""
             }
            },
            "type": "scattermapbox"
           }
          ],
          "scatterpolar": [
           {
            "marker": {
             "colorbar": {
              "outlinewidth": 0,
              "ticks": ""
             }
            },
            "type": "scatterpolar"
           }
          ],
          "scatterpolargl": [
           {
            "marker": {
             "colorbar": {
              "outlinewidth": 0,
              "ticks": ""
             }
            },
            "type": "scatterpolargl"
           }
          ],
          "scatterternary": [
           {
            "marker": {
             "colorbar": {
              "outlinewidth": 0,
              "ticks": ""
             }
            },
            "type": "scatterternary"
           }
          ],
          "surface": [
           {
            "colorbar": {
             "outlinewidth": 0,
             "ticks": ""
            },
            "colorscale": [
             [
              0,
              "#0d0887"
             ],
             [
              0.1111111111111111,
              "#46039f"
             ],
             [
              0.2222222222222222,
              "#7201a8"
             ],
             [
              0.3333333333333333,
              "#9c179e"
             ],
             [
              0.4444444444444444,
              "#bd3786"
             ],
             [
              0.5555555555555556,
              "#d8576b"
             ],
             [
              0.6666666666666666,
              "#ed7953"
             ],
             [
              0.7777777777777778,
              "#fb9f3a"
             ],
             [
              0.8888888888888888,
              "#fdca26"
             ],
             [
              1,
              "#f0f921"
             ]
            ],
            "type": "surface"
           }
          ],
          "table": [
           {
            "cells": {
             "fill": {
              "color": "#EBF0F8"
             },
             "line": {
              "color": "white"
             }
            },
            "header": {
             "fill": {
              "color": "#C8D4E3"
             },
             "line": {
              "color": "white"
             }
            },
            "type": "table"
           }
          ]
         },
         "layout": {
          "annotationdefaults": {
           "arrowcolor": "#2a3f5f",
           "arrowhead": 0,
           "arrowwidth": 1
          },
          "autotypenumbers": "strict",
          "coloraxis": {
           "colorbar": {
            "outlinewidth": 0,
            "ticks": ""
           }
          },
          "colorscale": {
           "diverging": [
            [
             0,
             "#8e0152"
            ],
            [
             0.1,
             "#c51b7d"
            ],
            [
             0.2,
             "#de77ae"
            ],
            [
             0.3,
             "#f1b6da"
            ],
            [
             0.4,
             "#fde0ef"
            ],
            [
             0.5,
             "#f7f7f7"
            ],
            [
             0.6,
             "#e6f5d0"
            ],
            [
             0.7,
             "#b8e186"
            ],
            [
             0.8,
             "#7fbc41"
            ],
            [
             0.9,
             "#4d9221"
            ],
            [
             1,
             "#276419"
            ]
           ],
           "sequential": [
            [
             0,
             "#0d0887"
            ],
            [
             0.1111111111111111,
             "#46039f"
            ],
            [
             0.2222222222222222,
             "#7201a8"
            ],
            [
             0.3333333333333333,
             "#9c179e"
            ],
            [
             0.4444444444444444,
             "#bd3786"
            ],
            [
             0.5555555555555556,
             "#d8576b"
            ],
            [
             0.6666666666666666,
             "#ed7953"
            ],
            [
             0.7777777777777778,
             "#fb9f3a"
            ],
            [
             0.8888888888888888,
             "#fdca26"
            ],
            [
             1,
             "#f0f921"
            ]
           ],
           "sequentialminus": [
            [
             0,
             "#0d0887"
            ],
            [
             0.1111111111111111,
             "#46039f"
            ],
            [
             0.2222222222222222,
             "#7201a8"
            ],
            [
             0.3333333333333333,
             "#9c179e"
            ],
            [
             0.4444444444444444,
             "#bd3786"
            ],
            [
             0.5555555555555556,
             "#d8576b"
            ],
            [
             0.6666666666666666,
             "#ed7953"
            ],
            [
             0.7777777777777778,
             "#fb9f3a"
            ],
            [
             0.8888888888888888,
             "#fdca26"
            ],
            [
             1,
             "#f0f921"
            ]
           ]
          },
          "colorway": [
           "#636efa",
           "#EF553B",
           "#00cc96",
           "#ab63fa",
           "#FFA15A",
           "#19d3f3",
           "#FF6692",
           "#B6E880",
           "#FF97FF",
           "#FECB52"
          ],
          "font": {
           "color": "#2a3f5f"
          },
          "geo": {
           "bgcolor": "white",
           "lakecolor": "white",
           "landcolor": "#E5ECF6",
           "showlakes": true,
           "showland": true,
           "subunitcolor": "white"
          },
          "hoverlabel": {
           "align": "left"
          },
          "hovermode": "closest",
          "mapbox": {
           "style": "light"
          },
          "paper_bgcolor": "white",
          "plot_bgcolor": "#E5ECF6",
          "polar": {
           "angularaxis": {
            "gridcolor": "white",
            "linecolor": "white",
            "ticks": ""
           },
           "bgcolor": "#E5ECF6",
           "radialaxis": {
            "gridcolor": "white",
            "linecolor": "white",
            "ticks": ""
           }
          },
          "scene": {
           "xaxis": {
            "backgroundcolor": "#E5ECF6",
            "gridcolor": "white",
            "gridwidth": 2,
            "linecolor": "white",
            "showbackground": true,
            "ticks": "",
            "zerolinecolor": "white"
           },
           "yaxis": {
            "backgroundcolor": "#E5ECF6",
            "gridcolor": "white",
            "gridwidth": 2,
            "linecolor": "white",
            "showbackground": true,
            "ticks": "",
            "zerolinecolor": "white"
           },
           "zaxis": {
            "backgroundcolor": "#E5ECF6",
            "gridcolor": "white",
            "gridwidth": 2,
            "linecolor": "white",
            "showbackground": true,
            "ticks": "",
            "zerolinecolor": "white"
           }
          },
          "shapedefaults": {
           "line": {
            "color": "#2a3f5f"
           }
          },
          "ternary": {
           "aaxis": {
            "gridcolor": "white",
            "linecolor": "white",
            "ticks": ""
           },
           "baxis": {
            "gridcolor": "white",
            "linecolor": "white",
            "ticks": ""
           },
           "bgcolor": "#E5ECF6",
           "caxis": {
            "gridcolor": "white",
            "linecolor": "white",
            "ticks": ""
           }
          },
          "title": {
           "x": 0.05
          },
          "xaxis": {
           "automargin": true,
           "gridcolor": "white",
           "linecolor": "white",
           "ticks": "",
           "title": {
            "standoff": 15
           },
           "zerolinecolor": "white",
           "zerolinewidth": 2
          },
          "yaxis": {
           "automargin": true,
           "gridcolor": "white",
           "linecolor": "white",
           "ticks": "",
           "title": {
            "standoff": 15
           },
           "zerolinecolor": "white",
           "zerolinewidth": 2
          }
         }
        },
        "title": {
         "text": "Procedures during ICU stay"
        },
        "width": 1000,
        "xaxis": {
         "anchor": "y",
         "autorange": true,
         "domain": [
          0,
          1
         ],
         "range": [
          946684800000,
          978307200000
         ],
         "title": {
          "text": "Time"
         },
         "type": "date"
        },
        "yaxis": {
         "anchor": "x",
         "autorange": "reversed",
         "domain": [
          0,
          1
         ],
         "range": [
          -1,
          4
         ],
         "title": {
          "text": "Procedure ID"
         }
        }
       }
      },
      "image/png": "[encoded data removed]",
      "text/html": [
       "<div>                            <div id=\"eaeb9ce7-dbfa-47a5-8152-64b316a3ddf0\" class=\"plotly-graph-div\" style=\"height:300px; width:1000px;\"></div>            <script type=\"text/javascript\">                require([\"plotly\"], function(Plotly) {                    window.PLOTLYENV=window.PLOTLYENV || {};                                    if (document.getElementById(\"eaeb9ce7-dbfa-47a5-8152-64b316a3ddf0\")) {                    Plotly.newPlot(                        \"eaeb9ce7-dbfa-47a5-8152-64b316a3ddf0\",                        [],                        {\"template\":{\"data\":{\"bar\":[{\"error_x\":{\"color\":\"#2a3f5f\"},\"error_y\":{\"color\":\"#2a3f5f\"},\"marker\":{\"line\":{\"color\":\"#E5ECF6\",\"width\":0.5},\"pattern\":{\"fillmode\":\"overlay\",\"size\":10,\"solidity\":0.2}},\"type\":\"bar\"}],\"barpolar\":[{\"marker\":{\"line\":{\"color\":\"#E5ECF6\",\"width\":0.5},\"pattern\":{\"fillmode\":\"overlay\",\"size\":10,\"solidity\":0.2}},\"type\":\"barpolar\"}],\"carpet\":[{\"aaxis\":{\"endlinecolor\":\"#2a3f5f\",\"gridcolor\":\"white\",\"linecolor\":\"white\",\"minorgridcolor\":\"white\",\"startlinecolor\":\"#2a3f5f\"},\"baxis\":{\"endlinecolor\":\"#2a3f5f\",\"gridcolor\":\"white\",\"linecolor\":\"white\",\"minorgridcolor\":\"white\",\"startlinecolor\":\"#2a3f5f\"},\"type\":\"carpet\"}],\"choropleth\":[{\"colorbar\":{\"outlinewidth\":0,\"ticks\":\"\"},\"type\":\"choropleth\"}],\"contour\":[{\"colorbar\":{\"outlinewidth\":0,\"ticks\":\"\"},\"colorscale\":[[0.0,\"#0d0887\"],[0.1111111111111111,\"#46039f\"],[0.2222222222222222,\"#7201a8\"],[0.3333333333333333,\"#9c179e\"],[0.4444444444444444,\"#bd3786\"],[0.5555555555555556,\"#d8576b\"],[0.6666666666666666,\"#ed7953\"],[0.7777777777777778,\"#fb9f3a\"],[0.8888888888888888,\"#fdca26\"],[1.0,\"#f0f921\"]],\"type\":\"contour\"}],\"contourcarpet\":[{\"colorbar\":{\"outlinewidth\":0,\"ticks\":\"\"},\"type\":\"contourcarpet\"}],\"heatmap\":[{\"colorbar\":{\"outlinewidth\":0,\"ticks\":\"\"},\"colorscale\":[[0.0,\"#0d0887\"],[0.1111111111111111,\"#46039f\"],[0.2222222222222222,\"#7201a8\"],[0.3333333333333333,\"#9c179e\"],[0.4444444444444444,\"#bd3786\"],[0.5555555555555556,\"#d8576b\"],[0.6666666666666666,\"#ed7953\"],[0.7777777777777778,\"#fb9f3a\"],[0.8888888888888888,\"#fdca26\"],[1.0,\"#f0f921\"]],\"type\":\"heatmap\"}],\"heatmapgl\":[{\"colorbar\":{\"outlinewidth\":0,\"ticks\":\"\"},\"colorscale\":[[0.0,\"#0d0887\"],[0.1111111111111111,\"#46039f\"],[0.2222222222222222,\"#7201a8\"],[0.3333333333333333,\"#9c179e\"],[0.4444444444444444,\"#bd3786\"],[0.5555555555555556,\"#d8576b\"],[0.6666666666666666,\"#ed7953\"],[0.7777777777777778,\"#fb9f3a\"],[0.8888888888888888,\"#fdca26\"],[1.0,\"#f0f921\"]],\"type\":\"heatmapgl\"}],\"histogram\":[{\"marker\":{\"pattern\":{\"fillmode\":\"overlay\",\"size\":10,\"solidity\":0.2}},\"type\":\"histogram\"}],\"histogram2d\":[{\"colorbar\":{\"outlinewidth\":0,\"ticks\":\"\"},\"colorscale\":[[0.0,\"#0d0887\"],[0.1111111111111111,\"#46039f\"],[0.2222222222222222,\"#7201a8\"],[0.3333333333333333,\"#9c179e\"],[0.4444444444444444,\"#bd3786\"],[0.5555555555555556,\"#d8576b\"],[0.6666666666666666,\"#ed7953\"],[0.7777777777777778,\"#fb9f3a\"],[0.8888888888888888,\"#fdca26\"],[1.0,\"#f0f921\"]],\"type\":\"histogram2d\"}],\"histogram2dcontour\":[{\"colorbar\":{\"outlinewidth\":0,\"ticks\":\"\"},\"colorscale\":[[0.0,\"#0d0887\"],[0.1111111111111111,\"#46039f\"],[0.2222222222222222,\"#7201a8\"],[0.3333333333333333,\"#9c179e\"],[0.4444444444444444,\"#bd3786\"],[0.5555555555555556,\"#d8576b\"],[0.6666666666666666,\"#ed7953\"],[0.7777777777777778,\"#fb9f3a\"],[0.8888888888888888,\"#fdca26\"],[1.0,\"#f0f921\"]],\"type\":\"histogram2dcontour\"}],\"mesh3d\":[{\"colorbar\":{\"outlinewidth\":0,\"ticks\":\"\"},\"type\":\"mesh3d\"}],\"parcoords\":[{\"line\":{\"colorbar\":{\"outlinewidth\":0,\"ticks\":\"\"}},\"type\":\"parcoords\"}],\"pie\":[{\"automargin\":true,\"type\":\"pie\"}],\"scatter\":[{\"marker\":{\"colorbar\":{\"outlinewidth\":0,\"ticks\":\"\"}},\"type\":\"scatter\"}],\"scatter3d\":[{\"line\":{\"colorbar\":{\"outlinewidth\":0,\"ticks\":\"\"}},\"marker\":{\"colorbar\":{\"outlinewidth\":0,\"ticks\":\"\"}},\"type\":\"scatter3d\"}],\"scattercarpet\":[{\"marker\":{\"colorbar\":{\"outlinewidth\":0,\"ticks\":\"\"}},\"type\":\"scattercarpet\"}],\"scattergeo\":[{\"marker\":{\"colorbar\":{\"outlinewidth\":0,\"ticks\":\"\"}},\"type\":\"scattergeo\"}],\"scattergl\":[{\"marker\":{\"colorbar\":{\"outlinewidth\":0,\"ticks\":\"\"}},\"type\":\"scattergl\"}],\"scattermapbox\":[{\"marker\":{\"colorbar\":{\"outlinewidth\":0,\"ticks\":\"\"}},\"type\":\"scattermapbox\"}],\"scatterpolar\":[{\"marker\":{\"colorbar\":{\"outlinewidth\":0,\"ticks\":\"\"}},\"type\":\"scatterpolar\"}],\"scatterpolargl\":[{\"marker\":{\"colorbar\":{\"outlinewidth\":0,\"ticks\":\"\"}},\"type\":\"scatterpolargl\"}],\"scatterternary\":[{\"marker\":{\"colorbar\":{\"outlinewidth\":0,\"ticks\":\"\"}},\"type\":\"scatterternary\"}],\"surface\":[{\"colorbar\":{\"outlinewidth\":0,\"ticks\":\"\"},\"colorscale\":[[0.0,\"#0d0887\"],[0.1111111111111111,\"#46039f\"],[0.2222222222222222,\"#7201a8\"],[0.3333333333333333,\"#9c179e\"],[0.4444444444444444,\"#bd3786\"],[0.5555555555555556,\"#d8576b\"],[0.6666666666666666,\"#ed7953\"],[0.7777777777777778,\"#fb9f3a\"],[0.8888888888888888,\"#fdca26\"],[1.0,\"#f0f921\"]],\"type\":\"surface\"}],\"table\":[{\"cells\":{\"fill\":{\"color\":\"#EBF0F8\"},\"line\":{\"color\":\"white\"}},\"header\":{\"fill\":{\"color\":\"#C8D4E3\"},\"line\":{\"color\":\"white\"}},\"type\":\"table\"}]},\"layout\":{\"annotationdefaults\":{\"arrowcolor\":\"#2a3f5f\",\"arrowhead\":0,\"arrowwidth\":1},\"autotypenumbers\":\"strict\",\"coloraxis\":{\"colorbar\":{\"outlinewidth\":0,\"ticks\":\"\"}},\"colorscale\":{\"diverging\":[[0,\"#8e0152\"],[0.1,\"#c51b7d\"],[0.2,\"#de77ae\"],[0.3,\"#f1b6da\"],[0.4,\"#fde0ef\"],[0.5,\"#f7f7f7\"],[0.6,\"#e6f5d0\"],[0.7,\"#b8e186\"],[0.8,\"#7fbc41\"],[0.9,\"#4d9221\"],[1,\"#276419\"]],\"sequential\":[[0.0,\"#0d0887\"],[0.1111111111111111,\"#46039f\"],[0.2222222222222222,\"#7201a8\"],[0.3333333333333333,\"#9c179e\"],[0.4444444444444444,\"#bd3786\"],[0.5555555555555556,\"#d8576b\"],[0.6666666666666666,\"#ed7953\"],[0.7777777777777778,\"#fb9f3a\"],[0.8888888888888888,\"#fdca26\"],[1.0,\"#f0f921\"]],\"sequentialminus\":[[0.0,\"#0d0887\"],[0.1111111111111111,\"#46039f\"],[0.2222222222222222,\"#7201a8\"],[0.3333333333333333,\"#9c179e\"],[0.4444444444444444,\"#bd3786\"],[0.5555555555555556,\"#d8576b\"],[0.6666666666666666,\"#ed7953\"],[0.7777777777777778,\"#fb9f3a\"],[0.8888888888888888,\"#fdca26\"],[1.0,\"#f0f921\"]]},\"colorway\":[\"#636efa\",\"#EF553B\",\"#00cc96\",\"#ab63fa\",\"#FFA15A\",\"#19d3f3\",\"#FF6692\",\"#B6E880\",\"#FF97FF\",\"#FECB52\"],\"font\":{\"color\":\"#2a3f5f\"},\"geo\":{\"bgcolor\":\"white\",\"lakecolor\":\"white\",\"landcolor\":\"#E5ECF6\",\"showlakes\":true,\"showland\":true,\"subunitcolor\":\"white\"},\"hoverlabel\":{\"align\":\"left\"},\"hovermode\":\"closest\",\"mapbox\":{\"style\":\"light\"},\"paper_bgcolor\":\"white\",\"plot_bgcolor\":\"#E5ECF6\",\"polar\":{\"angularaxis\":{\"gridcolor\":\"white\",\"linecolor\":\"white\",\"ticks\":\"\"},\"bgcolor\":\"#E5ECF6\",\"radialaxis\":{\"gridcolor\":\"white\",\"linecolor\":\"white\",\"ticks\":\"\"}},\"scene\":{\"xaxis\":{\"backgroundcolor\":\"#E5ECF6\",\"gridcolor\":\"white\",\"gridwidth\":2,\"linecolor\":\"white\",\"showbackground\":true,\"ticks\":\"\",\"zerolinecolor\":\"white\"},\"yaxis\":{\"backgroundcolor\":\"#E5ECF6\",\"gridcolor\":\"white\",\"gridwidth\":2,\"linecolor\":\"white\",\"showbackground\":true,\"ticks\":\"\",\"zerolinecolor\":\"white\"},\"zaxis\":{\"backgroundcolor\":\"#E5ECF6\",\"gridcolor\":\"white\",\"gridwidth\":2,\"linecolor\":\"white\",\"showbackground\":true,\"ticks\":\"\",\"zerolinecolor\":\"white\"}},\"shapedefaults\":{\"line\":{\"color\":\"#2a3f5f\"}},\"ternary\":{\"aaxis\":{\"gridcolor\":\"white\",\"linecolor\":\"white\",\"ticks\":\"\"},\"baxis\":{\"gridcolor\":\"white\",\"linecolor\":\"white\",\"ticks\":\"\"},\"bgcolor\":\"#E5ECF6\",\"caxis\":{\"gridcolor\":\"white\",\"linecolor\":\"white\",\"ticks\":\"\"}},\"title\":{\"x\":0.05},\"xaxis\":{\"automargin\":true,\"gridcolor\":\"white\",\"linecolor\":\"white\",\"ticks\":\"\",\"title\":{\"standoff\":15},\"zerolinecolor\":\"white\",\"zerolinewidth\":2},\"yaxis\":{\"automargin\":true,\"gridcolor\":\"white\",\"linecolor\":\"white\",\"ticks\":\"\",\"title\":{\"standoff\":15},\"zerolinecolor\":\"white\",\"zerolinewidth\":2}}},\"xaxis\":{\"anchor\":\"y\",\"domain\":[0.0,1.0],\"type\":\"date\",\"title\":{\"text\":\"Time\"}},\"yaxis\":{\"anchor\":\"x\",\"domain\":[0.0,1.0],\"title\":{\"text\":\"Procedure ID\"},\"autorange\":\"reversed\"},\"coloraxis\":{\"colorbar\":{\"title\":{\"text\":\"stay_id\"}},\"colorscale\":[[0.0,\"#0d0887\"],[0.1111111111111111,\"#46039f\"],[0.2222222222222222,\"#7201a8\"],[0.3333333333333333,\"#9c179e\"],[0.4444444444444444,\"#bd3786\"],[0.5555555555555556,\"#d8576b\"],[0.6666666666666666,\"#ed7953\"],[0.7777777777777778,\"#fb9f3a\"],[0.8888888888888888,\"#fdca26\"],[1.0,\"#f0f921\"]]},\"legend\":{\"tracegroupgap\":0,\"title\":{\"text\":\"ICU stay ID\"}},\"title\":{\"text\":\"Procedures during ICU stay\"},\"barmode\":\"overlay\",\"autosize\":false,\"width\":1000,\"height\":300},                        {\"responsive\": true}                    ).then(function(){\n",
       "                            \n",
       "var gd = document.getElementById('eaeb9ce7-dbfa-47a5-8152-64b316a3ddf0');\n",
       "var x = new MutationObserver(function (mutations, observer) {{\n",
       "        var display = window.getComputedStyle(gd).display;\n",
       "        if (!display || display === 'none') {{\n",
       "            console.log([gd, 'removed!']);\n",
       "            Plotly.purge(gd);\n",
       "            observer.disconnect();\n",
       "        }}\n",
       "}});\n",
       "\n",
       "// Listen for the removal of the full notebook cells\n",
       "var notebookContainer = gd.closest('#notebook-container');\n",
       "if (notebookContainer) {{\n",
       "    x.observe(notebookContainer, {childList: true});\n",
       "}}\n",
       "\n",
       "// Listen for the clearing of the current output cell\n",
       "var outputEl = gd.closest('.output');\n",
       "if (outputEl) {{\n",
       "    x.observe(outputEl, {childList: true});\n",
       "}}\n",
       "\n",
       "                        })                };                });            </script>        </div>"
      ]
     },
     "metadata": {},
     "output_type": "display_data"
    }
   ],
   "source": [
    "fig = px.timeline(df_procicupatadm, x_start=\"starttime\", x_end=\"endtime\", y='itemid', color='stay_id', title='Procedures during ICU stay')\n",
    "fig.update_yaxes(autorange=\"reversed\")\n",
    "fig.update_layout(\n",
    "    xaxis_title=\"Time\",\n",
    "    yaxis_title=\"Procedure ID\",\n",
    "    legend_title=\"ICU stay ID\",\n",
    "    autosize=False,\n",
    "    width=1000,\n",
    "    height=300\n",
    ")\n",
    "fig.show()"
   ]
  },
  {
   "cell_type": "markdown",
   "id": "53b59073-d720-4ffb-b272-af8a2345b942",
   "metadata": {},
   "source": [
    "#### Chartevents within ICU for a given admission"
   ]
  },
  {
   "cell_type": "code",
   "execution_count": 83,
   "id": "a1c72486-459a-4788-b918-d0bc2a14a55d",
   "metadata": {},
   "outputs": [],
   "source": [
    "df_charteventspatpd = df_charteventspat.toPandas()"
   ]
  },
  {
   "cell_type": "code",
   "execution_count": 84,
   "id": "8aef95b3-7bc9-4192-8346-36ea4c51b4aa",
   "metadata": {},
   "outputs": [],
   "source": [
    "df_charteventspatpdadm = df_charteventspatpd[df_charteventspatpd['hadm_id'] == adm_id]"
   ]
  },
  {
   "cell_type": "code",
   "execution_count": 85,
   "id": "af0d8b0c-a185-445b-ba90-9017a79ff532",
   "metadata": {},
   "outputs": [],
   "source": [
    "df_charteventspatpdadmitms = pd.merge(df_charteventspatpdadm, df_items, on='itemid', how='inner')"
   ]
  },
  {
   "cell_type": "markdown",
   "id": "5850a46a-3ad9-4125-aa5e-94e3b74df491",
   "metadata": {},
   "source": [
    "##### Create day, month, hour columns"
   ]
  },
  {
   "cell_type": "code",
   "execution_count": 86,
   "id": "2d335d9c-b64d-41c3-9117-f20fe6b3d1cc",
   "metadata": {},
   "outputs": [],
   "source": [
    "df_charteventspatpdadmitms['charttime'] = pd.to_datetime(df_charteventspatpdadmitms['charttime'])"
   ]
  },
  {
   "cell_type": "code",
   "execution_count": 87,
   "id": "91765998-e4bc-4a7f-afae-f1686b9dea58",
   "metadata": {},
   "outputs": [],
   "source": [
    "df_charteventspatpdadmitms['day'] = df_charteventspatpdadmitms['charttime'].apply(lambda x: x.day)\n",
    "df_charteventspatpdadmitms['month'] = df_charteventspatpdadmitms['charttime'].apply(lambda x: x.month)\n",
    "df_charteventspatpdadmitms['hour'] = df_charteventspatpdadmitms['charttime'].apply(lambda x: x.hour)"
   ]
  },
  {
   "cell_type": "code",
   "execution_count": 88,
   "id": "c5fc61be-2bcf-481c-b1bf-9f2dd48fc6e0",
   "metadata": {},
   "outputs": [],
   "source": [
    "df_charteventspatpdadmitmsheart = df_charteventspatpdadmitms[df_charteventspatpdadmitms['label'] == 'Heart Rate']"
   ]
  },
  {
   "cell_type": "code",
   "execution_count": 89,
   "id": "8b17dc14-0a51-4429-8aab-d9b1c3457076",
   "metadata": {},
   "outputs": [],
   "source": [
    "df_charteventspatpdadmitmsheart['day'] = df_charteventspatpdadmitmsheart['charttime'].apply(lambda x: x.day)"
   ]
  },
  {
   "cell_type": "code",
   "execution_count": 90,
   "id": "03a56fbb-72ce-4c27-beb6-7f0726a4e47e",
   "metadata": {},
   "outputs": [
    {
     "data": {
      "text/html": [
       "<div>\n",
       "<style scoped>\n",
       "    .dataframe tbody tr th:only-of-type {\n",
       "        vertical-align: middle;\n",
       "    }\n",
       "\n",
       "    .dataframe tbody tr th {\n",
       "        vertical-align: top;\n",
       "    }\n",
       "\n",
       "    .dataframe thead th {\n",
       "        text-align: right;\n",
       "    }\n",
       "</style>\n",
       "<table border=\"1\" class=\"dataframe\">\n",
       "  <thead>\n",
       "    <tr style=\"text-align: right;\">\n",
       "      <th></th>\n",
       "      <th>subject_id</th>\n",
       "      <th>hadm_id</th>\n",
       "      <th>stay_id</th>\n",
       "      <th>charttime</th>\n",
       "      <th>storetime</th>\n",
       "      <th>value</th>\n",
       "      <th>valuenum</th>\n",
       "      <th>valueuom</th>\n",
       "      <th>warning</th>\n",
       "      <th>itemid</th>\n",
       "      <th>...</th>\n",
       "      <th>abbreviation</th>\n",
       "      <th>linksto</th>\n",
       "      <th>category</th>\n",
       "      <th>unitname</th>\n",
       "      <th>param_type</th>\n",
       "      <th>lownormalvalue</th>\n",
       "      <th>highnormalvalue</th>\n",
       "      <th>day</th>\n",
       "      <th>month</th>\n",
       "      <th>hour</th>\n",
       "    </tr>\n",
       "  </thead>\n",
       "  <tbody>\n",
       "  </tbody>\n",
       "</table>\n",
       "<p>0 rows × 21 columns</p>\n",
       "</div>"
      ],
      "text/plain": [
       "Empty DataFrame\n",
       "Columns: [subject_id, hadm_id, stay_id, charttime, storetime, value, valuenum, valueuom, warning, itemid, label, abbreviation, linksto, category, unitname, param_type, lownormalvalue, highnormalvalue, day, month, hour]\n",
       "Index: []\n",
       "\n",
       "[0 rows x 21 columns]"
      ]
     },
     "execution_count": 90,
     "metadata": {},
     "output_type": "execute_result"
    }
   ],
   "source": [
    "df_charteventspatpdadmitmsheart.head()"
   ]
  },
  {
   "cell_type": "code",
   "execution_count": 91,
   "id": "044e1f9c-8cb7-4856-a915-d6061498b052",
   "metadata": {},
   "outputs": [],
   "source": [
    "df_charteventspatpdadmitmsheart = df_charteventspatpdadmitmsheart[df_charteventspatpdadmitmsheart['day'] == 26]"
   ]
  },
  {
   "cell_type": "code",
   "execution_count": 92,
   "id": "5db917c4-e3d8-49a0-8985-942068b31e62",
   "metadata": {},
   "outputs": [
    {
     "data": {
      "text/html": [
       "<div>\n",
       "<style scoped>\n",
       "    .dataframe tbody tr th:only-of-type {\n",
       "        vertical-align: middle;\n",
       "    }\n",
       "\n",
       "    .dataframe tbody tr th {\n",
       "        vertical-align: top;\n",
       "    }\n",
       "\n",
       "    .dataframe thead th {\n",
       "        text-align: right;\n",
       "    }\n",
       "</style>\n",
       "<table border=\"1\" class=\"dataframe\">\n",
       "  <thead>\n",
       "    <tr style=\"text-align: right;\">\n",
       "      <th></th>\n",
       "      <th>subject_id</th>\n",
       "      <th>hadm_id</th>\n",
       "      <th>stay_id</th>\n",
       "      <th>charttime</th>\n",
       "      <th>storetime</th>\n",
       "      <th>value</th>\n",
       "      <th>valuenum</th>\n",
       "      <th>valueuom</th>\n",
       "      <th>warning</th>\n",
       "      <th>itemid</th>\n",
       "      <th>...</th>\n",
       "      <th>abbreviation</th>\n",
       "      <th>linksto</th>\n",
       "      <th>category</th>\n",
       "      <th>unitname</th>\n",
       "      <th>param_type</th>\n",
       "      <th>lownormalvalue</th>\n",
       "      <th>highnormalvalue</th>\n",
       "      <th>day</th>\n",
       "      <th>month</th>\n",
       "      <th>hour</th>\n",
       "    </tr>\n",
       "  </thead>\n",
       "  <tbody>\n",
       "  </tbody>\n",
       "</table>\n",
       "<p>0 rows × 21 columns</p>\n",
       "</div>"
      ],
      "text/plain": [
       "Empty DataFrame\n",
       "Columns: [subject_id, hadm_id, stay_id, charttime, storetime, value, valuenum, valueuom, warning, itemid, label, abbreviation, linksto, category, unitname, param_type, lownormalvalue, highnormalvalue, day, month, hour]\n",
       "Index: []\n",
       "\n",
       "[0 rows x 21 columns]"
      ]
     },
     "execution_count": 92,
     "metadata": {},
     "output_type": "execute_result"
    }
   ],
   "source": [
    "df_charteventspatpdadmitms"
   ]
  },
  {
   "cell_type": "markdown",
   "id": "fc8f65d7-0498-41d1-8923-d650a361bd0f",
   "metadata": {},
   "source": [
    "##### Sample a random date"
   ]
  },
  {
   "cell_type": "code",
   "execution_count": 93,
   "id": "920ebe34-8db8-4840-a3f5-479848680375",
   "metadata": {},
   "outputs": [
    {
     "ename": "ValueError",
     "evalue": "a must be greater than 0 unless no samples are taken",
     "output_type": "error",
     "traceback": [
      "\u001b[1;31m---------------------------------------------------------------------------\u001b[0m",
      "\u001b[1;31mValueError\u001b[0m                                Traceback (most recent call last)",
      "\u001b[1;32m~\\AppData\\Local\\Temp/ipykernel_21896/3991636762.py\u001b[0m in \u001b[0;36m<module>\u001b[1;34m\u001b[0m\n\u001b[1;32m----> 1\u001b[1;33m \u001b[0mdf_charteventrandom\u001b[0m \u001b[1;33m=\u001b[0m \u001b[0mdf_charteventspatpdadmitms\u001b[0m\u001b[1;33m.\u001b[0m\u001b[0msample\u001b[0m\u001b[1;33m(\u001b[0m\u001b[0mn\u001b[0m\u001b[1;33m=\u001b[0m\u001b[1;36m1\u001b[0m\u001b[1;33m)\u001b[0m\u001b[1;33m[\u001b[0m\u001b[1;33m[\u001b[0m\u001b[1;34m'month'\u001b[0m\u001b[1;33m,\u001b[0m \u001b[1;34m'hour'\u001b[0m\u001b[1;33m,\u001b[0m \u001b[1;34m'day'\u001b[0m\u001b[1;33m]\u001b[0m\u001b[1;33m]\u001b[0m\u001b[1;33m\u001b[0m\u001b[1;33m\u001b[0m\u001b[0m\n\u001b[0m",
      "\u001b[1;32m~\\anaconda3\\envs\\spark_env\\lib\\site-packages\\pandas\\core\\generic.py\u001b[0m in \u001b[0;36msample\u001b[1;34m(self, n, frac, replace, weights, random_state, axis, ignore_index)\u001b[0m\n\u001b[0;32m   5363\u001b[0m             )\n\u001b[0;32m   5364\u001b[0m \u001b[1;33m\u001b[0m\u001b[0m\n\u001b[1;32m-> 5365\u001b[1;33m         \u001b[0mlocs\u001b[0m \u001b[1;33m=\u001b[0m \u001b[0mrs\u001b[0m\u001b[1;33m.\u001b[0m\u001b[0mchoice\u001b[0m\u001b[1;33m(\u001b[0m\u001b[0maxis_length\u001b[0m\u001b[1;33m,\u001b[0m \u001b[0msize\u001b[0m\u001b[1;33m=\u001b[0m\u001b[0mn\u001b[0m\u001b[1;33m,\u001b[0m \u001b[0mreplace\u001b[0m\u001b[1;33m=\u001b[0m\u001b[0mreplace\u001b[0m\u001b[1;33m,\u001b[0m \u001b[0mp\u001b[0m\u001b[1;33m=\u001b[0m\u001b[0mweights\u001b[0m\u001b[1;33m)\u001b[0m\u001b[1;33m\u001b[0m\u001b[1;33m\u001b[0m\u001b[0m\n\u001b[0m\u001b[0;32m   5366\u001b[0m         \u001b[0mresult\u001b[0m \u001b[1;33m=\u001b[0m \u001b[0mself\u001b[0m\u001b[1;33m.\u001b[0m\u001b[0mtake\u001b[0m\u001b[1;33m(\u001b[0m\u001b[0mlocs\u001b[0m\u001b[1;33m,\u001b[0m \u001b[0maxis\u001b[0m\u001b[1;33m=\u001b[0m\u001b[0maxis\u001b[0m\u001b[1;33m)\u001b[0m\u001b[1;33m\u001b[0m\u001b[1;33m\u001b[0m\u001b[0m\n\u001b[0;32m   5367\u001b[0m         \u001b[1;32mif\u001b[0m \u001b[0mignore_index\u001b[0m\u001b[1;33m:\u001b[0m\u001b[1;33m\u001b[0m\u001b[1;33m\u001b[0m\u001b[0m\n",
      "\u001b[1;32mmtrand.pyx\u001b[0m in \u001b[0;36mnumpy.random.mtrand.RandomState.choice\u001b[1;34m()\u001b[0m\n",
      "\u001b[1;31mValueError\u001b[0m: a must be greater than 0 unless no samples are taken"
     ]
    }
   ],
   "source": [
    "df_charteventrandom = df_charteventspatpdadmitms.sample(n=1)[['month', 'hour', 'day']]"
   ]
  },
  {
   "cell_type": "code",
   "execution_count": null,
   "id": "9e8fab52-1ea9-4d56-bbee-8e7db077cfda",
   "metadata": {},
   "outputs": [],
   "source": [
    "month, hour, day = df_charteventrandom.iloc[0]"
   ]
  },
  {
   "cell_type": "code",
   "execution_count": null,
   "id": "af65d12e-fc20-47e3-89f3-abc43a7c6a53",
   "metadata": {},
   "outputs": [],
   "source": [
    "print(month, hour, day)"
   ]
  },
  {
   "cell_type": "code",
   "execution_count": null,
   "id": "280a877e-a9dc-4d32-ada5-78f0de6089f4",
   "metadata": {},
   "outputs": [],
   "source": [
    "charts = df_charteventspatpdadmitms[(df_charteventspatpdadmitms['day'] == day) & (df_charteventspatpdadmitms['month'] == month)]"
   ]
  },
  {
   "cell_type": "code",
   "execution_count": null,
   "id": "ac749c94-ae38-4652-838f-1810b16f50a8",
   "metadata": {},
   "outputs": [],
   "source": [
    "charts[charts['param_type'] == 'Numeric']['label'].unique()"
   ]
  },
  {
   "cell_type": "code",
   "execution_count": null,
   "id": "9fe82684-d885-4dbb-b689-119da08ce315",
   "metadata": {},
   "outputs": [],
   "source": [
    "charts = charts[charts['label'].isin(['Heart Rate', 'Respiratory Rate'])]"
   ]
  },
  {
   "cell_type": "code",
   "execution_count": null,
   "id": "8690c7c3-c74d-4350-a735-a7393d212447",
   "metadata": {},
   "outputs": [],
   "source": [
    "charts.head()"
   ]
  },
  {
   "cell_type": "code",
   "execution_count": null,
   "id": "5aa8ddbf-3cc8-49f8-a3f8-930b9dac98a4",
   "metadata": {},
   "outputs": [],
   "source": [
    "fig = px.scatter(charts, x='charttime', y=\"value\", color='label')\n",
    "#fig.update_yaxes(autorange=\"reversed\")\n",
    "fig.update_layout(\n",
    "    xaxis_title=\"Time\",\n",
    "    yaxis_title=\"Value\",\n",
    "    legend_title=\"Type\",\n",
    "    autosize=False,\n",
    "    width=1000,\n",
    "    height=500\n",
    ")\n",
    "fig.show()"
   ]
  },
  {
   "cell_type": "markdown",
   "id": "0fe00dc1-0e2b-4d78-ae1d-c0a5e776dd1b",
   "metadata": {},
   "source": [
    "### Test, Remove later"
   ]
  },
  {
   "cell_type": "code",
   "execution_count": null,
   "id": "d10c1d84-027a-43ad-8f28-262f2f8e4856",
   "metadata": {},
   "outputs": [],
   "source": [
    "admissions"
   ]
  },
  {
   "cell_type": "code",
   "execution_count": 94,
   "id": "f1e4dba8-b731-40db-b645-a864fc2fc3fa",
   "metadata": {},
   "outputs": [],
   "source": [
    "patientadmwithicu = pd.merge(df_adm, df_icustays, on=['subject_id', 'hadm_id'], how='inner')"
   ]
  },
  {
   "cell_type": "code",
   "execution_count": 95,
   "id": "a9efcca3-f25c-4b6a-bbbe-e64eb05d9226",
   "metadata": {},
   "outputs": [
    {
     "data": {
      "text/html": [
       "<div>\n",
       "<style scoped>\n",
       "    .dataframe tbody tr th:only-of-type {\n",
       "        vertical-align: middle;\n",
       "    }\n",
       "\n",
       "    .dataframe tbody tr th {\n",
       "        vertical-align: top;\n",
       "    }\n",
       "\n",
       "    .dataframe thead th {\n",
       "        text-align: right;\n",
       "    }\n",
       "</style>\n",
       "<table border=\"1\" class=\"dataframe\">\n",
       "  <thead>\n",
       "    <tr style=\"text-align: right;\">\n",
       "      <th></th>\n",
       "      <th>subject_id</th>\n",
       "      <th>hadm_id</th>\n",
       "      <th>admittime</th>\n",
       "      <th>dischtime</th>\n",
       "      <th>deathtime</th>\n",
       "      <th>admission_type</th>\n",
       "      <th>admission_location</th>\n",
       "      <th>discharge_location</th>\n",
       "      <th>insurance</th>\n",
       "      <th>language</th>\n",
       "      <th>...</th>\n",
       "      <th>ethnicity</th>\n",
       "      <th>edregtime</th>\n",
       "      <th>edouttime</th>\n",
       "      <th>hospital_expire_flag</th>\n",
       "      <th>stay_id</th>\n",
       "      <th>first_careunit</th>\n",
       "      <th>last_careunit</th>\n",
       "      <th>intime</th>\n",
       "      <th>outtime</th>\n",
       "      <th>los</th>\n",
       "    </tr>\n",
       "  </thead>\n",
       "  <tbody>\n",
       "    <tr>\n",
       "      <th>0</th>\n",
       "      <td>17275231</td>\n",
       "      <td>23654078</td>\n",
       "      <td>2147-03-19 18:47:00</td>\n",
       "      <td>2147-03-23 12:55:00</td>\n",
       "      <td>NaN</td>\n",
       "      <td>EW EMER.</td>\n",
       "      <td>EMERGENCY ROOM</td>\n",
       "      <td>HOME</td>\n",
       "      <td>Medicare</td>\n",
       "      <td>ENGLISH</td>\n",
       "      <td>...</td>\n",
       "      <td>WHITE</td>\n",
       "      <td>2147-03-19 16:18:00</td>\n",
       "      <td>2147-03-19 20:40:00</td>\n",
       "      <td>0</td>\n",
       "      <td>36243138</td>\n",
       "      <td>Medical/Surgical Intensive Care Unit (MICU/SICU)</td>\n",
       "      <td>Medical/Surgical Intensive Care Unit (MICU/SICU)</td>\n",
       "      <td>2147-03-20 00:40:44</td>\n",
       "      <td>2147-03-21 21:54:24</td>\n",
       "      <td>1.884491</td>\n",
       "    </tr>\n",
       "    <tr>\n",
       "      <th>1</th>\n",
       "      <td>10222255</td>\n",
       "      <td>28200985</td>\n",
       "      <td>2120-11-20 20:25:00</td>\n",
       "      <td>2120-11-22 13:00:00</td>\n",
       "      <td>NaN</td>\n",
       "      <td>EU OBSERVATION</td>\n",
       "      <td>TRANSFER FROM HOSPITAL</td>\n",
       "      <td>NaN</td>\n",
       "      <td>Other</td>\n",
       "      <td>ENGLISH</td>\n",
       "      <td>...</td>\n",
       "      <td>WHITE</td>\n",
       "      <td>2120-11-20 18:07:00</td>\n",
       "      <td>2120-11-21 20:25:00</td>\n",
       "      <td>0</td>\n",
       "      <td>30847801</td>\n",
       "      <td>Neuro Intermediate</td>\n",
       "      <td>Neuro Intermediate</td>\n",
       "      <td>2120-11-21 20:01:06</td>\n",
       "      <td>2120-11-22 13:44:58</td>\n",
       "      <td>0.738796</td>\n",
       "    </tr>\n",
       "    <tr>\n",
       "      <th>2</th>\n",
       "      <td>14485852</td>\n",
       "      <td>28712010</td>\n",
       "      <td>2113-10-31 00:23:00</td>\n",
       "      <td>2113-11-04 16:50:00</td>\n",
       "      <td>NaN</td>\n",
       "      <td>EW EMER.</td>\n",
       "      <td>EMERGENCY ROOM</td>\n",
       "      <td>NaN</td>\n",
       "      <td>Other</td>\n",
       "      <td>ENGLISH</td>\n",
       "      <td>...</td>\n",
       "      <td>WHITE</td>\n",
       "      <td>2113-10-30 19:48:00</td>\n",
       "      <td>2113-10-31 05:10:00</td>\n",
       "      <td>0</td>\n",
       "      <td>37142417</td>\n",
       "      <td>Medical/Surgical Intensive Care Unit (MICU/SICU)</td>\n",
       "      <td>Medical/Surgical Intensive Care Unit (MICU/SICU)</td>\n",
       "      <td>2113-10-31 05:10:00</td>\n",
       "      <td>2113-11-03 17:21:15</td>\n",
       "      <td>3.507812</td>\n",
       "    </tr>\n",
       "    <tr>\n",
       "      <th>3</th>\n",
       "      <td>18709254</td>\n",
       "      <td>23758948</td>\n",
       "      <td>2195-10-12 01:31:00</td>\n",
       "      <td>2195-10-12 13:51:00</td>\n",
       "      <td>NaN</td>\n",
       "      <td>EU OBSERVATION</td>\n",
       "      <td>EMERGENCY ROOM</td>\n",
       "      <td>NaN</td>\n",
       "      <td>Medicaid</td>\n",
       "      <td>ENGLISH</td>\n",
       "      <td>...</td>\n",
       "      <td>ASIAN</td>\n",
       "      <td>2195-10-11 18:40:00</td>\n",
       "      <td>2195-10-12 02:47:00</td>\n",
       "      <td>0</td>\n",
       "      <td>32363600</td>\n",
       "      <td>Medical/Surgical Intensive Care Unit (MICU/SICU)</td>\n",
       "      <td>Medical/Surgical Intensive Care Unit (MICU/SICU)</td>\n",
       "      <td>2195-10-12 01:32:04</td>\n",
       "      <td>2195-10-12 13:51:32</td>\n",
       "      <td>0.513519</td>\n",
       "    </tr>\n",
       "    <tr>\n",
       "      <th>4</th>\n",
       "      <td>19119203</td>\n",
       "      <td>21682799</td>\n",
       "      <td>2115-04-01 02:12:00</td>\n",
       "      <td>2115-04-01 15:55:00</td>\n",
       "      <td>NaN</td>\n",
       "      <td>EU OBSERVATION</td>\n",
       "      <td>WALK-IN/SELF REFERRAL</td>\n",
       "      <td>NaN</td>\n",
       "      <td>Other</td>\n",
       "      <td>ENGLISH</td>\n",
       "      <td>...</td>\n",
       "      <td>WHITE</td>\n",
       "      <td>2115-03-31 15:35:00</td>\n",
       "      <td>2115-04-01 03:49:00</td>\n",
       "      <td>0</td>\n",
       "      <td>32710648</td>\n",
       "      <td>Neuro Intermediate</td>\n",
       "      <td>Neuro Intermediate</td>\n",
       "      <td>2115-04-01 03:49:00</td>\n",
       "      <td>2115-04-01 16:27:20</td>\n",
       "      <td>0.526620</td>\n",
       "    </tr>\n",
       "    <tr>\n",
       "      <th>...</th>\n",
       "      <td>...</td>\n",
       "      <td>...</td>\n",
       "      <td>...</td>\n",
       "      <td>...</td>\n",
       "      <td>...</td>\n",
       "      <td>...</td>\n",
       "      <td>...</td>\n",
       "      <td>...</td>\n",
       "      <td>...</td>\n",
       "      <td>...</td>\n",
       "      <td>...</td>\n",
       "      <td>...</td>\n",
       "      <td>...</td>\n",
       "      <td>...</td>\n",
       "      <td>...</td>\n",
       "      <td>...</td>\n",
       "      <td>...</td>\n",
       "      <td>...</td>\n",
       "      <td>...</td>\n",
       "      <td>...</td>\n",
       "      <td>...</td>\n",
       "    </tr>\n",
       "    <tr>\n",
       "      <th>76535</th>\n",
       "      <td>15886883</td>\n",
       "      <td>24364504</td>\n",
       "      <td>2121-12-26 18:08:00</td>\n",
       "      <td>2121-12-29 12:05:00</td>\n",
       "      <td>NaN</td>\n",
       "      <td>EW EMER.</td>\n",
       "      <td>EMERGENCY ROOM</td>\n",
       "      <td>HOME</td>\n",
       "      <td>Medicare</td>\n",
       "      <td>ENGLISH</td>\n",
       "      <td>...</td>\n",
       "      <td>WHITE</td>\n",
       "      <td>2121-12-26 14:25:00</td>\n",
       "      <td>2121-12-26 19:33:00</td>\n",
       "      <td>0</td>\n",
       "      <td>34520253</td>\n",
       "      <td>Medical/Surgical Intensive Care Unit (MICU/SICU)</td>\n",
       "      <td>Medical/Surgical Intensive Care Unit (MICU/SICU)</td>\n",
       "      <td>2121-12-26 19:33:00</td>\n",
       "      <td>2121-12-27 16:24:17</td>\n",
       "      <td>0.868947</td>\n",
       "    </tr>\n",
       "    <tr>\n",
       "      <th>76536</th>\n",
       "      <td>11084272</td>\n",
       "      <td>25138318</td>\n",
       "      <td>2135-11-03 08:00:00</td>\n",
       "      <td>2135-11-07 14:26:00</td>\n",
       "      <td>NaN</td>\n",
       "      <td>SURGICAL SAME DAY ADMISSION</td>\n",
       "      <td>PHYSICIAN REFERRAL</td>\n",
       "      <td>HOME HEALTH CARE</td>\n",
       "      <td>Other</td>\n",
       "      <td>ENGLISH</td>\n",
       "      <td>...</td>\n",
       "      <td>OTHER</td>\n",
       "      <td>NaN</td>\n",
       "      <td>NaN</td>\n",
       "      <td>0</td>\n",
       "      <td>34366965</td>\n",
       "      <td>Cardiac Vascular Intensive Care Unit (CVICU)</td>\n",
       "      <td>Cardiac Vascular Intensive Care Unit (CVICU)</td>\n",
       "      <td>2135-11-03 09:40:31</td>\n",
       "      <td>2135-11-04 13:57:11</td>\n",
       "      <td>1.178241</td>\n",
       "    </tr>\n",
       "    <tr>\n",
       "      <th>76537</th>\n",
       "      <td>16992782</td>\n",
       "      <td>26171387</td>\n",
       "      <td>2169-07-18 23:32:00</td>\n",
       "      <td>2169-07-20 12:30:00</td>\n",
       "      <td>NaN</td>\n",
       "      <td>EW EMER.</td>\n",
       "      <td>EMERGENCY ROOM</td>\n",
       "      <td>HOME</td>\n",
       "      <td>Medicare</td>\n",
       "      <td>ENGLISH</td>\n",
       "      <td>...</td>\n",
       "      <td>WHITE</td>\n",
       "      <td>2169-07-18 16:40:00</td>\n",
       "      <td>2169-07-19 00:09:00</td>\n",
       "      <td>0</td>\n",
       "      <td>38034330</td>\n",
       "      <td>Surgical Intensive Care Unit (SICU)</td>\n",
       "      <td>Surgical Intensive Care Unit (SICU)</td>\n",
       "      <td>2169-07-19 00:09:00</td>\n",
       "      <td>2169-07-19 13:10:40</td>\n",
       "      <td>0.542824</td>\n",
       "    </tr>\n",
       "    <tr>\n",
       "      <th>76538</th>\n",
       "      <td>18073598</td>\n",
       "      <td>29623448</td>\n",
       "      <td>2152-02-20 10:13:00</td>\n",
       "      <td>2152-04-02 14:30:00</td>\n",
       "      <td>NaN</td>\n",
       "      <td>EW EMER.</td>\n",
       "      <td>EMERGENCY ROOM</td>\n",
       "      <td>REHAB</td>\n",
       "      <td>Other</td>\n",
       "      <td>ENGLISH</td>\n",
       "      <td>...</td>\n",
       "      <td>WHITE</td>\n",
       "      <td>2152-02-20 09:17:00</td>\n",
       "      <td>2152-02-20 10:10:00</td>\n",
       "      <td>0</td>\n",
       "      <td>36729728</td>\n",
       "      <td>Trauma SICU (TSICU)</td>\n",
       "      <td>Trauma SICU (TSICU)</td>\n",
       "      <td>2152-02-20 10:13:58</td>\n",
       "      <td>2152-03-03 21:38:48</td>\n",
       "      <td>12.475579</td>\n",
       "    </tr>\n",
       "    <tr>\n",
       "      <th>76539</th>\n",
       "      <td>11211939</td>\n",
       "      <td>24981356</td>\n",
       "      <td>2147-08-02 15:49:00</td>\n",
       "      <td>2147-08-05 16:30:00</td>\n",
       "      <td>NaN</td>\n",
       "      <td>EW EMER.</td>\n",
       "      <td>EMERGENCY ROOM</td>\n",
       "      <td>HOME HEALTH CARE</td>\n",
       "      <td>Medicare</td>\n",
       "      <td>?</td>\n",
       "      <td>...</td>\n",
       "      <td>WHITE</td>\n",
       "      <td>2147-08-02 14:27:00</td>\n",
       "      <td>2147-08-02 17:38:00</td>\n",
       "      <td>0</td>\n",
       "      <td>35332313</td>\n",
       "      <td>Coronary Care Unit (CCU)</td>\n",
       "      <td>Coronary Care Unit (CCU)</td>\n",
       "      <td>2147-08-02 20:19:12</td>\n",
       "      <td>2147-08-03 14:26:17</td>\n",
       "      <td>0.754919</td>\n",
       "    </tr>\n",
       "  </tbody>\n",
       "</table>\n",
       "<p>76540 rows × 21 columns</p>\n",
       "</div>"
      ],
      "text/plain": [
       "       subject_id   hadm_id            admittime            dischtime  \\\n",
       "0        17275231  23654078  2147-03-19 18:47:00  2147-03-23 12:55:00   \n",
       "1        10222255  28200985  2120-11-20 20:25:00  2120-11-22 13:00:00   \n",
       "2        14485852  28712010  2113-10-31 00:23:00  2113-11-04 16:50:00   \n",
       "3        18709254  23758948  2195-10-12 01:31:00  2195-10-12 13:51:00   \n",
       "4        19119203  21682799  2115-04-01 02:12:00  2115-04-01 15:55:00   \n",
       "...           ...       ...                  ...                  ...   \n",
       "76535    15886883  24364504  2121-12-26 18:08:00  2121-12-29 12:05:00   \n",
       "76536    11084272  25138318  2135-11-03 08:00:00  2135-11-07 14:26:00   \n",
       "76537    16992782  26171387  2169-07-18 23:32:00  2169-07-20 12:30:00   \n",
       "76538    18073598  29623448  2152-02-20 10:13:00  2152-04-02 14:30:00   \n",
       "76539    11211939  24981356  2147-08-02 15:49:00  2147-08-05 16:30:00   \n",
       "\n",
       "      deathtime               admission_type      admission_location  \\\n",
       "0           NaN                     EW EMER.          EMERGENCY ROOM   \n",
       "1           NaN               EU OBSERVATION  TRANSFER FROM HOSPITAL   \n",
       "2           NaN                     EW EMER.          EMERGENCY ROOM   \n",
       "3           NaN               EU OBSERVATION          EMERGENCY ROOM   \n",
       "4           NaN               EU OBSERVATION   WALK-IN/SELF REFERRAL   \n",
       "...         ...                          ...                     ...   \n",
       "76535       NaN                     EW EMER.          EMERGENCY ROOM   \n",
       "76536       NaN  SURGICAL SAME DAY ADMISSION      PHYSICIAN REFERRAL   \n",
       "76537       NaN                     EW EMER.          EMERGENCY ROOM   \n",
       "76538       NaN                     EW EMER.          EMERGENCY ROOM   \n",
       "76539       NaN                     EW EMER.          EMERGENCY ROOM   \n",
       "\n",
       "      discharge_location insurance language  ... ethnicity  \\\n",
       "0                   HOME  Medicare  ENGLISH  ...     WHITE   \n",
       "1                    NaN     Other  ENGLISH  ...     WHITE   \n",
       "2                    NaN     Other  ENGLISH  ...     WHITE   \n",
       "3                    NaN  Medicaid  ENGLISH  ...     ASIAN   \n",
       "4                    NaN     Other  ENGLISH  ...     WHITE   \n",
       "...                  ...       ...      ...  ...       ...   \n",
       "76535               HOME  Medicare  ENGLISH  ...     WHITE   \n",
       "76536   HOME HEALTH CARE     Other  ENGLISH  ...     OTHER   \n",
       "76537               HOME  Medicare  ENGLISH  ...     WHITE   \n",
       "76538              REHAB     Other  ENGLISH  ...     WHITE   \n",
       "76539   HOME HEALTH CARE  Medicare        ?  ...     WHITE   \n",
       "\n",
       "                 edregtime            edouttime hospital_expire_flag  \\\n",
       "0      2147-03-19 16:18:00  2147-03-19 20:40:00                    0   \n",
       "1      2120-11-20 18:07:00  2120-11-21 20:25:00                    0   \n",
       "2      2113-10-30 19:48:00  2113-10-31 05:10:00                    0   \n",
       "3      2195-10-11 18:40:00  2195-10-12 02:47:00                    0   \n",
       "4      2115-03-31 15:35:00  2115-04-01 03:49:00                    0   \n",
       "...                    ...                  ...                  ...   \n",
       "76535  2121-12-26 14:25:00  2121-12-26 19:33:00                    0   \n",
       "76536                  NaN                  NaN                    0   \n",
       "76537  2169-07-18 16:40:00  2169-07-19 00:09:00                    0   \n",
       "76538  2152-02-20 09:17:00  2152-02-20 10:10:00                    0   \n",
       "76539  2147-08-02 14:27:00  2147-08-02 17:38:00                    0   \n",
       "\n",
       "        stay_id                                    first_careunit  \\\n",
       "0      36243138  Medical/Surgical Intensive Care Unit (MICU/SICU)   \n",
       "1      30847801                                Neuro Intermediate   \n",
       "2      37142417  Medical/Surgical Intensive Care Unit (MICU/SICU)   \n",
       "3      32363600  Medical/Surgical Intensive Care Unit (MICU/SICU)   \n",
       "4      32710648                                Neuro Intermediate   \n",
       "...         ...                                               ...   \n",
       "76535  34520253  Medical/Surgical Intensive Care Unit (MICU/SICU)   \n",
       "76536  34366965      Cardiac Vascular Intensive Care Unit (CVICU)   \n",
       "76537  38034330               Surgical Intensive Care Unit (SICU)   \n",
       "76538  36729728                               Trauma SICU (TSICU)   \n",
       "76539  35332313                          Coronary Care Unit (CCU)   \n",
       "\n",
       "                                          last_careunit               intime  \\\n",
       "0      Medical/Surgical Intensive Care Unit (MICU/SICU)  2147-03-20 00:40:44   \n",
       "1                                    Neuro Intermediate  2120-11-21 20:01:06   \n",
       "2      Medical/Surgical Intensive Care Unit (MICU/SICU)  2113-10-31 05:10:00   \n",
       "3      Medical/Surgical Intensive Care Unit (MICU/SICU)  2195-10-12 01:32:04   \n",
       "4                                    Neuro Intermediate  2115-04-01 03:49:00   \n",
       "...                                                 ...                  ...   \n",
       "76535  Medical/Surgical Intensive Care Unit (MICU/SICU)  2121-12-26 19:33:00   \n",
       "76536      Cardiac Vascular Intensive Care Unit (CVICU)  2135-11-03 09:40:31   \n",
       "76537               Surgical Intensive Care Unit (SICU)  2169-07-19 00:09:00   \n",
       "76538                               Trauma SICU (TSICU)  2152-02-20 10:13:58   \n",
       "76539                          Coronary Care Unit (CCU)  2147-08-02 20:19:12   \n",
       "\n",
       "                   outtime        los  \n",
       "0      2147-03-21 21:54:24   1.884491  \n",
       "1      2120-11-22 13:44:58   0.738796  \n",
       "2      2113-11-03 17:21:15   3.507812  \n",
       "3      2195-10-12 13:51:32   0.513519  \n",
       "4      2115-04-01 16:27:20   0.526620  \n",
       "...                    ...        ...  \n",
       "76535  2121-12-27 16:24:17   0.868947  \n",
       "76536  2135-11-04 13:57:11   1.178241  \n",
       "76537  2169-07-19 13:10:40   0.542824  \n",
       "76538  2152-03-03 21:38:48  12.475579  \n",
       "76539  2147-08-03 14:26:17   0.754919  \n",
       "\n",
       "[76540 rows x 21 columns]"
      ]
     },
     "execution_count": 95,
     "metadata": {},
     "output_type": "execute_result"
    }
   ],
   "source": [
    "patientadmwithicu"
   ]
  },
  {
   "cell_type": "code",
   "execution_count": 96,
   "id": "95e11bf3-c353-47e1-a2a0-76885752c08e",
   "metadata": {},
   "outputs": [],
   "source": [
    "icustayscount = patientadmwithicu.groupby(['subject_id']).size().reset_index(name='count')"
   ]
  },
  {
   "cell_type": "code",
   "execution_count": 99,
   "id": "c985be21-461c-47ba-ac66-29e643926b91",
   "metadata": {},
   "outputs": [
    {
     "data": {
      "text/html": [
       "<div>\n",
       "<style scoped>\n",
       "    .dataframe tbody tr th:only-of-type {\n",
       "        vertical-align: middle;\n",
       "    }\n",
       "\n",
       "    .dataframe tbody tr th {\n",
       "        vertical-align: top;\n",
       "    }\n",
       "\n",
       "    .dataframe thead th {\n",
       "        text-align: right;\n",
       "    }\n",
       "</style>\n",
       "<table border=\"1\" class=\"dataframe\">\n",
       "  <thead>\n",
       "    <tr style=\"text-align: right;\">\n",
       "      <th></th>\n",
       "      <th>subject_id</th>\n",
       "      <th>count</th>\n",
       "    </tr>\n",
       "  </thead>\n",
       "  <tbody>\n",
       "    <tr>\n",
       "      <th>23</th>\n",
       "      <td>10004401</td>\n",
       "      <td>7</td>\n",
       "    </tr>\n",
       "    <tr>\n",
       "      <th>122</th>\n",
       "      <td>10020740</td>\n",
       "      <td>5</td>\n",
       "    </tr>\n",
       "    <tr>\n",
       "      <th>174</th>\n",
       "      <td>10030753</td>\n",
       "      <td>8</td>\n",
       "    </tr>\n",
       "    <tr>\n",
       "      <th>239</th>\n",
       "      <td>10047682</td>\n",
       "      <td>5</td>\n",
       "    </tr>\n",
       "    <tr>\n",
       "      <th>250</th>\n",
       "      <td>10049041</td>\n",
       "      <td>6</td>\n",
       "    </tr>\n",
       "    <tr>\n",
       "      <th>...</th>\n",
       "      <td>...</td>\n",
       "      <td>...</td>\n",
       "    </tr>\n",
       "    <tr>\n",
       "      <th>53000</th>\n",
       "      <td>19970491</td>\n",
       "      <td>8</td>\n",
       "    </tr>\n",
       "    <tr>\n",
       "      <th>53089</th>\n",
       "      <td>19989918</td>\n",
       "      <td>8</td>\n",
       "    </tr>\n",
       "    <tr>\n",
       "      <th>53096</th>\n",
       "      <td>19991135</td>\n",
       "      <td>5</td>\n",
       "    </tr>\n",
       "    <tr>\n",
       "      <th>53130</th>\n",
       "      <td>19997293</td>\n",
       "      <td>5</td>\n",
       "    </tr>\n",
       "    <tr>\n",
       "      <th>53137</th>\n",
       "      <td>19998330</td>\n",
       "      <td>6</td>\n",
       "    </tr>\n",
       "  </tbody>\n",
       "</table>\n",
       "<p>1129 rows × 2 columns</p>\n",
       "</div>"
      ],
      "text/plain": [
       "       subject_id  count\n",
       "23       10004401      7\n",
       "122      10020740      5\n",
       "174      10030753      8\n",
       "239      10047682      5\n",
       "250      10049041      6\n",
       "...           ...    ...\n",
       "53000    19970491      8\n",
       "53089    19989918      8\n",
       "53096    19991135      5\n",
       "53130    19997293      5\n",
       "53137    19998330      6\n",
       "\n",
       "[1129 rows x 2 columns]"
      ]
     },
     "execution_count": 99,
     "metadata": {},
     "output_type": "execute_result"
    }
   ],
   "source": [
    "icustayscount[icustayscount['count'] > 4]"
   ]
  },
  {
   "cell_type": "code",
   "execution_count": null,
   "id": "df8b6076-a9bf-4f6e-a091-299b74f2d5c6",
   "metadata": {},
   "outputs": [],
   "source": []
  },
  {
   "cell_type": "code",
   "execution_count": null,
   "id": "c680a206-9022-406d-8c4e-7f65d27d6b59",
   "metadata": {},
   "outputs": [],
   "source": []
  }
 ],
 "metadata": {
  "kernelspec": {
   "display_name": "Python 3 (ipykernel)",
   "language": "python",
   "name": "python3"
  },
  "language_info": {
   "codemirror_mode": {
    "name": "ipython",
    "version": 3
   },
   "file_extension": ".py",
   "mimetype": "text/x-python",
   "name": "python",
   "nbconvert_exporter": "python",
   "pygments_lexer": "ipython3",
   "version": "3.7.12"
  }
 },
 "nbformat": 4,
 "nbformat_minor": 5
}
