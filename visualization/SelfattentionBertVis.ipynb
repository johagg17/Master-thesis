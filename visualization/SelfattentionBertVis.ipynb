{
 "cells": [
  {
   "cell_type": "code",
   "execution_count": 1,
   "id": "e38432ad-f4dd-4434-8d7e-83701c1f26ed",
   "metadata": {},
   "outputs": [],
   "source": [
    "from bertviz import model_view"
   ]
  },
  {
   "cell_type": "code",
   "execution_count": 2,
   "id": "3a6b5887-b541-4525-9de0-e62e10ae4700",
   "metadata": {},
   "outputs": [],
   "source": [
    "def load_model(path, model):\n",
    "    # load pretrained model and update weights\n",
    "    pretrained_dict = torch.load(path)\n",
    "    model_dict = model.state_dict()\n",
    "    # 1. filter out unnecessary keys\n",
    "    pretrained_dict = {k: v for k, v in pretrained_dict.items() if k in model_dict}\n",
    "    # 2. overwrite entries in the existing state dict\n",
    "    model_dict.update(pretrained_dict)\n",
    "    # 3. load the new state dict\n",
    "    model.load_state_dict(model_dict)\n",
    "    return model"
   ]
  },
  {
   "cell_type": "code",
   "execution_count": 19,
   "id": "b7d7bc62-5a3c-478b-8cd3-1122c10cf53d",
   "metadata": {},
   "outputs": [],
   "source": [
    "import sys\n",
    "sys.path.insert(1, '../')\n",
    "from utils.dataset import EHRDatasetCodePrediction\n",
    "from model.tokenizer import EHRTokenizer\n",
    "import torch\n",
    "from utils.dataset import EHRDataset\n",
    "from torch import nn\n",
    "import matplotlib.pyplot as plt\n",
    "import pytorch_pretrained_bert as Bert\n",
    "from torch.utils.data import DataLoader\n",
    "from model.model import *\n",
    "import seaborn as sns\n",
    "from utils.config import BertConfig\n",
    "from model.model2 import *\n",
    "from model.trainer import PatientTrajectoryPredictor\n",
    "import pytorch_lightning as pl\n",
    "import pandas as pd\n",
    "import warnings\n",
    "warnings.filterwarnings('ignore')"
   ]
  },
  {
   "cell_type": "code",
   "execution_count": 4,
   "id": "a1c95b8d-ce6a-4a19-8256-bf12964695fc",
   "metadata": {},
   "outputs": [],
   "source": [
    "tokenizer = EHRTokenizer(task='ccsr')"
   ]
  },
  {
   "cell_type": "code",
   "execution_count": 5,
   "id": "c563746d-ffbc-4624-9c30-f465ffb11328",
   "metadata": {},
   "outputs": [],
   "source": [
    "path = '../processing/readmission_data_ccsr_'\n",
    "data = pd.read_parquet(path)"
   ]
  },
  {
   "cell_type": "code",
   "execution_count": 6,
   "id": "7b62818a-87a4-42b1-9886-f3188c520c45",
   "metadata": {},
   "outputs": [],
   "source": [
    "model_config = {\n",
    "    'vocab_size': len(tokenizer.getVoc('code').keys()), # number of disease + symbols for word embedding\n",
    "    'hidden_size': 300, # word embedding and seg embedding hidden size\n",
    "    'seg_vocab_size': 2, # number of vocab for seg embedding\n",
    "    'age_vocab_size': len(tokenizer.getVoc('age').keys()), # number of vocab for age embedding,\n",
    "    'gender_vocab_size': 3,\n",
    "    'max_position_embeddings': 32, # maximum number of tokens\n",
    "    'hidden_dropout_prob': 0.1, # dropout rate\n",
    "    'num_hidden_layers': 6, # number of multi-head attention layers required\n",
    "    'num_attention_heads': 12, # number of attention heads\n",
    "    'attention_probs_dropout_prob': 0.1, # multi-head attention dropout rate\n",
    "    'intermediate_size': 300, # the size of the \"intermediate\" layer in the transformer encoder\n",
    "    'hidden_act': 'gelu', # The non-linear activation function in the encoder and the pooler \"gelu\", 'relu', 'swish' are supported\n",
    "    'initializer_range': 0.02, # parameter weight initializer range\n",
    "}"
   ]
  },
  {
   "cell_type": "code",
   "execution_count": 7,
   "id": "0585f423-0b33-40e5-9cbc-94a134d517f3",
   "metadata": {},
   "outputs": [],
   "source": [
    "class BertConfig(Bert.modeling.BertConfig):\n",
    "    def __init__(self, config):\n",
    "        super(BertConfig, self).__init__(\n",
    "            vocab_size_or_config_json_file=config.get('vocab_size'),\n",
    "            hidden_size=config['hidden_size'],\n",
    "            num_hidden_layers=config.get('num_hidden_layers'),\n",
    "            num_attention_heads=config.get('num_attention_heads'),\n",
    "            intermediate_size=config.get('intermediate_size'),\n",
    "            hidden_act=config.get('hidden_act'),\n",
    "            hidden_dropout_prob=config.get('hidden_dropout_prob'),\n",
    "            attention_probs_dropout_prob=config.get('attention_probs_dropout_prob'),\n",
    "            max_position_embeddings = config.get('max_position_embeddings'),\n",
    "            initializer_range=config.get('initializer_range'),\n",
    "        )\n",
    "        self.seg_vocab_size = config.get('seg_vocab_size')\n",
    "        self.age_vocab_size = config.get('age_vocab_size')\n",
    "        self.gender_vocab_size = config.get('gender_vocab_size')"
   ]
  },
  {
   "cell_type": "markdown",
   "id": "1eb29d59-d37d-45a3-9678-b72530162392",
   "metadata": {},
   "source": [
    "### Visualize attention for Masked Language Modeling"
   ]
  },
  {
   "cell_type": "code",
   "execution_count": 8,
   "id": "9ea48185-788e-4307-96d4-c8ed682132e2",
   "metadata": {},
   "outputs": [],
   "source": [
    "bert_config = BertConfig(model_config)\n",
    "model = BertForMaskedLM(bert_config) \n",
    "PATH = \"../saved_models/MLM/deep_notsuffled\"\n",
    "model = load_model(PATH, model)"
   ]
  },
  {
   "cell_type": "code",
   "execution_count": 32,
   "id": "d65255c8-d588-445d-a262-1b31fc40f65b",
   "metadata": {},
   "outputs": [],
   "source": [
    "data['len'] = data['hadm_id'].apply(lambda x: len(x))"
   ]
  },
  {
   "cell_type": "code",
   "execution_count": 40,
   "id": "34923ec5-2d67-4c59-bc48-912c8cffe666",
   "metadata": {},
   "outputs": [],
   "source": [
    "patient = data[data['len'] == 3]\n",
    "patient = patient[patient['subject_id'] == 10215056]"
   ]
  },
  {
   "cell_type": "code",
   "execution_count": 41,
   "id": "ac3c83cb-09be-48df-b8dc-b2c4e262bebc",
   "metadata": {},
   "outputs": [
    {
     "data": {
      "text/html": [
       "<div>\n",
       "<style scoped>\n",
       "    .dataframe tbody tr th:only-of-type {\n",
       "        vertical-align: middle;\n",
       "    }\n",
       "\n",
       "    .dataframe tbody tr th {\n",
       "        vertical-align: top;\n",
       "    }\n",
       "\n",
       "    .dataframe thead th {\n",
       "        text-align: right;\n",
       "    }\n",
       "</style>\n",
       "<table border=\"1\" class=\"dataframe\">\n",
       "  <thead>\n",
       "    <tr style=\"text-align: right;\">\n",
       "      <th></th>\n",
       "      <th>subject_id</th>\n",
       "      <th>label</th>\n",
       "      <th>icd_code</th>\n",
       "      <th>ccsr</th>\n",
       "      <th>age</th>\n",
       "      <th>alcohol_abuse</th>\n",
       "      <th>tobacco_abuse</th>\n",
       "      <th>ndc</th>\n",
       "      <th>hadm_id</th>\n",
       "      <th>gender</th>\n",
       "      <th>len</th>\n",
       "    </tr>\n",
       "  </thead>\n",
       "  <tbody>\n",
       "    <tr>\n",
       "      <th>20</th>\n",
       "      <td>10215056</td>\n",
       "      <td>[0, 0, 0]</td>\n",
       "      <td>[[M545, M179, R791, E119, K219, F341, Z86718, ...</td>\n",
       "      <td>[[MUS038, MUS006, SYM017, END002, DIG004, MBD0...</td>\n",
       "      <td>[58.0, 62.0, 65.0]</td>\n",
       "      <td>[0, 0, 0]</td>\n",
       "      <td>[0, 1, 0]</td>\n",
       "      <td>[[56017275, 51079081120, 93521193, 45064165, 8...</td>\n",
       "      <td>[26393320, 26394582, 20975745]</td>\n",
       "      <td>F</td>\n",
       "      <td>3</td>\n",
       "    </tr>\n",
       "  </tbody>\n",
       "</table>\n",
       "</div>"
      ],
      "text/plain": [
       "    subject_id      label                                           icd_code  \\\n",
       "20    10215056  [0, 0, 0]  [[M545, M179, R791, E119, K219, F341, Z86718, ...   \n",
       "\n",
       "                                                 ccsr                 age  \\\n",
       "20  [[MUS038, MUS006, SYM017, END002, DIG004, MBD0...  [58.0, 62.0, 65.0]   \n",
       "\n",
       "   alcohol_abuse tobacco_abuse  \\\n",
       "20     [0, 0, 0]     [0, 1, 0]   \n",
       "\n",
       "                                                  ndc  \\\n",
       "20  [[56017275, 51079081120, 93521193, 45064165, 8...   \n",
       "\n",
       "                           hadm_id gender  len  \n",
       "20  [26393320, 26394582, 20975745]      F    3  "
      ]
     },
     "execution_count": 41,
     "metadata": {},
     "output_type": "execute_result"
    }
   ],
   "source": [
    "patient"
   ]
  },
  {
   "cell_type": "code",
   "execution_count": 63,
   "id": "10e61a0c-e40c-426e-a797-18c6ebdad58a",
   "metadata": {},
   "outputs": [],
   "source": [
    "#patientd = EHRDataset(patient, max_len=64, tokenizer=tokenizer) "
   ]
  },
  {
   "cell_type": "code",
   "execution_count": 64,
   "id": "b792c16d-6dec-46c4-b6e1-aafbdfcea60f",
   "metadata": {},
   "outputs": [],
   "source": [
    "#loader = torch.utils.data.DataLoader(patientd, batch_size=1, shuffle=True, num_workers=4)"
   ]
  },
  {
   "cell_type": "code",
   "execution_count": 65,
   "id": "dca7549a-5077-47ec-a631-15ad8c283606",
   "metadata": {},
   "outputs": [
    {
     "name": "stdout",
     "output_type": "stream",
     "text": [
      "[tensor([[16, 16, 16,  1,  1,  1,  1,  1,  1,  1,  1,  1,  1,  1,  1,  1,  1,  1,\n",
      "          1,  1,  1,  1,  1,  1,  1,  1,  1,  1,  1,  1,  1,  1,  1,  1,  1,  1,\n",
      "          1,  4,  4,  4,  4,  4,  4,  4,  4,  4,  4,  4,  4,  4,  4,  4,  4,  4,\n",
      "          4,  4,  4,  4,  4,  4,  4,  4,  4,  4]]), tensor([[1, 1, 1, 1, 1, 1, 1, 1, 1, 1, 1, 1, 1, 1, 1, 1, 1, 1, 1, 1, 1, 1, 1, 1,\n",
      "         1, 1, 1, 1, 1, 1, 1, 1, 1, 1, 1, 1, 1, 1, 1, 1, 1, 1, 1, 1, 1, 1, 1, 1,\n",
      "         1, 1, 1, 1, 1, 1, 1, 1, 1, 1, 1, 1, 1, 1, 1, 1]]), tensor([[517,  40, 519,  80,  64,  11, 140,  23,  16, 518,  51,  86, 518,  89,\n",
      "          33,  39,  74, 518,  10, 142, 117, 143, 144,  11,  68, 145,  38,  39,\n",
      "          39, 180,  25,  25, 518,  34, 146,  38, 519, 518,  75,  11, 141, 518,\n",
      "          80,  25,  39,  39,  74,  33,  27, 139,  16,  25,  78,  25,  31, 518,\n",
      "         518,  86,  19, 148, 149,  93,  40, 519]]), tensor([[0, 0, 0, 1, 1, 1, 1, 1, 1, 1, 1, 1, 1, 1, 1, 1, 1, 1, 1, 1, 1, 1, 1, 1,\n",
      "         1, 1, 1, 1, 1, 1, 1, 1, 1, 1, 1, 1, 1, 2, 2, 2, 2, 2, 2, 2, 2, 2, 2, 2,\n",
      "         2, 2, 2, 2, 2, 2, 2, 2, 2, 2, 2, 2, 2, 2, 2, 2]]), tensor([[0, 0, 0, 1, 1, 1, 1, 1, 1, 1, 1, 1, 1, 1, 1, 1, 1, 1, 1, 1, 1, 1, 1, 1,\n",
      "         1, 1, 1, 1, 1, 1, 1, 1, 1, 1, 1, 1, 1, 0, 0, 0, 0, 0, 0, 0, 0, 0, 0, 0,\n",
      "         0, 0, 0, 0, 0, 0, 0, 0, 0, 0, 0, 0, 0, 0, 0, 0]]), tensor([[1, 1, 1, 1, 1, 1, 1, 1, 1, 1, 1, 1, 1, 1, 1, 1, 1, 1, 1, 1, 1, 1, 1, 1,\n",
      "         1, 1, 1, 1, 1, 1, 1, 1, 1, 1, 1, 1, 1, 1, 1, 1, 1, 1, 1, 1, 1, 1, 1, 1,\n",
      "         1, 1, 1, 1, 1, 1, 1, 1, 1, 1, 1, 1, 1, 1, 1, 1]]), tensor([[ -1,  -1,  -1,  -1,  -1,  -1,  -1, 141,  -1,  78,  -1,  -1,  27,  -1,\n",
      "          -1,  -1,  -1,  23,  -1,  -1,  -1,  -1,  -1,  -1,  -1,  -1,  -1,  -1,\n",
      "          -1,  39,  -1,  -1,  69,  -1,  -1,  -1,  -1,  29,  -1,  -1,  -1,  40,\n",
      "          -1,  -1,  -1,  -1,  -1,  -1,  -1,  -1,  -1,  -1,  -1,  -1,  -1,  10,\n",
      "         147,  -1,  -1,  -1,  -1,  -1,  -1,  -1]]), tensor([[10215056]])]\n"
     ]
    }
   ],
   "source": [
    "#batch = next(iter(loader))\n",
    "#print(batch)\n",
    "#age_ids, gender_ids, input_ids, posi_ids, segment_ids, attMask, masked_label, _ = batch"
   ]
  },
  {
   "cell_type": "code",
   "execution_count": 58,
   "id": "bd26970d-84fe-4eff-89cd-44e22a0d83c2",
   "metadata": {},
   "outputs": [
    {
     "data": {
      "text/plain": [
       "tensor([[4, 4, 4]])"
      ]
     },
     "execution_count": 58,
     "metadata": {},
     "output_type": "execute_result"
    }
   ],
   "source": [
    "age_ids"
   ]
  },
  {
   "cell_type": "code",
   "execution_count": null,
   "id": "6b398419-477b-4588-9024-b23514bf20d9",
   "metadata": {},
   "outputs": [],
   "source": []
  }
 ],
 "metadata": {
  "kernelspec": {
   "display_name": "Python 3 (ipykernel)",
   "language": "python",
   "name": "python3"
  },
  "language_info": {
   "codemirror_mode": {
    "name": "ipython",
    "version": 3
   },
   "file_extension": ".py",
   "mimetype": "text/x-python",
   "name": "python",
   "nbconvert_exporter": "python",
   "pygments_lexer": "ipython3",
   "version": "3.7.11"
  }
 },
 "nbformat": 4,
 "nbformat_minor": 5
}
