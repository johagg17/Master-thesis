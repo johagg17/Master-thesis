{
 "cells": [
  {
   "cell_type": "code",
   "execution_count": 1,
   "id": "0d53fbbd-1065-4eda-bb28-41431adad190",
   "metadata": {},
   "outputs": [
    {
     "name": "stderr",
     "output_type": "stream",
     "text": [
      "/var/local/home/linler17/.conda/envs/masterenv/lib/python3.7/site-packages/tqdm/auto.py:22: TqdmWarning: IProgress not found. Please update jupyter and ipywidgets. See https://ipywidgets.readthedocs.io/en/stable/user_install.html\n",
      "  from .autonotebook import tqdm as notebook_tqdm\n"
     ]
    }
   ],
   "source": [
    "import sys\n",
    "sys.path.insert(1, '../')\n",
    "from utils.packages import *"
   ]
  },
  {
   "cell_type": "markdown",
   "id": "570984fd-64d1-4c6f-94f7-e3d703b691ae",
   "metadata": {},
   "source": [
    "## Synthea"
   ]
  },
  {
   "cell_type": "code",
   "execution_count": 29,
   "id": "7b732a7f-7a23-4c1d-960e-b190bc37b670",
   "metadata": {},
   "outputs": [],
   "source": [
    "global_params = {\n",
    "    'max_seq_len': 64,\n",
    "    'gradient_accumulation_steps': 1\n",
    "}\n",
    "\n",
    "optim_param = {\n",
    "    'lr': 3e-5,\n",
    "    'warmup_proportion': 0.1,\n",
    "    'weight_decay': 0.01\n",
    "}\n",
    "\n",
    "train_params = {\n",
    "    'batch_size': 10,\n",
    "    'use_cuda': True,\n",
    "    'max_len_seq': global_params['max_seq_len'],\n",
    "    'device': 'cuda' #change this to run on cuda #'cuda:0'\n",
    "}\n",
    "\n",
    "dataset_name = 'Synthea/Final_cohorts/'\n",
    "\n",
    "feature_types = {'diagnosis':True, 'medications':True, 'procedures':True}\n",
    "\n",
    "if (feature_types['diagnosis'] and feature_types['medications'] and not (feature_types['procedures'])):\n",
    "    print(\"Do only use diagnosis\")\n",
    "    code_voc = 'MLM_diagnosmedcodes.npy'\n",
    "    age_voc = 'MLM_age.npy'\n",
    "\n",
    "elif (feature_types['diagnosis'] and not feature_types['medications']):\n",
    "    code_voc = 'MLM_diagnoscodes.npy'\n",
    "    age_voc = 'MLM_age.npy'\n",
    "\n",
    "else:\n",
    "    code_voc = 'MLM_diagnosproccodes.npy'\n",
    "    age_voc = 'MLM_age.npy'\n",
    "\n",
    "files = {'code':'../data/vocabularies/' + dataset_name + code_voc,\n",
    "             'age':'../data/vocabularies/' + dataset_name + age_voc,\n",
    "        }\n",
    "\n",
    "tokenizer = EHRTokenizer(task='MLM', filenames=files)\n",
    "\n",
    "model_config = {\n",
    "        'vocab_size': len(tokenizer.getVoc('code').keys()), # number of disease + symbols for word embedding\n",
    "        'hidden_size': 288, #tune.choice([100, 150, 288]), #288, # word embedding and seg embedding hidden size\n",
    "        'seg_vocab_size': 2, # number of vocab for seg embedding\n",
    "        'age_vocab_size': len(tokenizer.getVoc('age').keys()), # number of vocab for age embedding,\n",
    "        'gender_vocab_size': 3,\n",
    "        'max_position_embeddings': train_params['max_len_seq'], # maximum number of tokens\n",
    "        'hidden_dropout_prob': 0.1, # dropout rate\n",
    "        'num_hidden_layers': 6, #4, # number of multi-head attention layers required\n",
    "        'num_attention_heads': 12, # number of attention heads\n",
    "        'attention_probs_dropout_prob': 0.1, # multi-head attention dropout rate\n",
    "        'intermediate_size': 512, # the size of the \"intermediate\" layer in the transformer encoder\n",
    "        'hidden_act': 'gelu', # The non-linear activation function in the encoder and the pooler \"gelu\", 'relu', 'swish' are supported\n",
    "        'initializer_range': 0.02, # parameter weight initializer range\n",
    "        'use_prior':False,\n",
    "        'reg':0.1,\n",
    "        'age':True,\n",
    "        'gender':False,\n",
    "        'epochs':20,\n",
    "    }"
   ]
  },
  {
   "cell_type": "code",
   "execution_count": 30,
   "id": "7d38a181-f8d1-4e68-922e-cf34e7914159",
   "metadata": {},
   "outputs": [],
   "source": [
    "stats_path = '../data/train_stats/Synthea/'\n",
    "condfiles = {'dd':stats_path + 'dd_cond_probs.empirical.p', \n",
    "             'dp':stats_path + 'dp_cond_probs.empirical.p',\n",
    "             'dm':stats_path + 'dm_cond_probs.empirical.p',\n",
    "             'pp':stats_path + 'pp_cond_probs.empirical.p', \n",
    "             'pd':stats_path + 'pd_cond_probs.empirical.p',\n",
    "             'pm':stats_path + 'pd_cond_probs.empirical.p',\n",
    "             'mm':stats_path + 'mm_cond_probs.empirical.p', \n",
    "             'md':stats_path + 'md_cond_probs.empirical.p',\n",
    "             'mp':stats_path + 'mp_cond_probs.empirical.p',\n",
    "            }"
   ]
  },
  {
   "cell_type": "code",
   "execution_count": 31,
   "id": "618eabb5-9603-42b8-ba36-8dada2606c61",
   "metadata": {},
   "outputs": [
    {
     "name": "stdout",
     "output_type": "stream",
     "text": [
      "Use diagnosis: True\n",
      "Use medications: True\n",
      "Use procedures: True\n",
      "Transforming data\n",
      "Saving data\n"
     ]
    }
   ],
   "source": [
    "folderpath = '../data/pytorch_datasets/' + dataset_name\n",
    "path='../data/datasets/' + dataset_name\n",
    "train = pd.read_parquet(path + 'train.parquet')\n",
    "traind = EHRDataset(train, max_len=train_params['max_len_seq'], feature_types=feature_types, conditional_files=condfiles, save_folder=folderpath, tokenizer=tokenizer, run_type='vizontology_dmp')"
   ]
  },
  {
   "cell_type": "code",
   "execution_count": 36,
   "id": "fad8dc35-ee6b-4ee4-bc03-11960098e555",
   "metadata": {},
   "outputs": [],
   "source": [
    "trainloader = torch.utils.data.DataLoader(traind, batch_size=1, shuffle=True)"
   ]
  },
  {
   "cell_type": "code",
   "execution_count": 33,
   "id": "42275578-9c70-4ac5-89f5-fb4caaebabcf",
   "metadata": {},
   "outputs": [],
   "source": [
    "dm_path = condfiles['dm']"
   ]
  },
  {
   "cell_type": "code",
   "execution_count": 59,
   "id": "997e1001-f125-4bb7-9fec-4d4fedf66268",
   "metadata": {},
   "outputs": [],
   "source": [
    "md_path = condfiles['md']"
   ]
  },
  {
   "cell_type": "code",
   "execution_count": 66,
   "id": "5f217db4-2b86-463f-acd7-91130b489f62",
   "metadata": {},
   "outputs": [],
   "source": [
    "mp_path = condfiles['mp']"
   ]
  },
  {
   "cell_type": "code",
   "execution_count": 70,
   "id": "599d955e-0ee0-44f7-bd4f-d0302942e948",
   "metadata": {},
   "outputs": [],
   "source": [
    "dd_path= condfiles['dd']"
   ]
  },
  {
   "cell_type": "code",
   "execution_count": 71,
   "id": "cd077cfe-f55b-4c5f-9ffa-9418746da183",
   "metadata": {},
   "outputs": [],
   "source": [
    "dm = pickle.load(open(dm_path, 'rb'))\n",
    "md = pickle.load(open(md_path, 'rb'))\n",
    "mp = pickle.load(open(mp_path, 'rb'))\n",
    "dd = pickle.load(open(dd_path, 'rb'))"
   ]
  },
  {
   "cell_type": "code",
   "execution_count": 47,
   "id": "692d703f-27ee-4757-9b50-105839e78ec5",
   "metadata": {},
   "outputs": [],
   "source": [
    "patient= next(iter(trainloader))"
   ]
  },
  {
   "cell_type": "code",
   "execution_count": 48,
   "id": "be4980f4-f74b-4d53-8a9d-eb57ed221655",
   "metadata": {},
   "outputs": [],
   "source": [
    "age, gender, code, position, segment, mask, label, prior_guide, tokens = patient"
   ]
  },
  {
   "cell_type": "code",
   "execution_count": 49,
   "id": "cd8a7f33-003d-4533-bb0c-09edf4a59bfc",
   "metadata": {},
   "outputs": [],
   "source": [
    "sentence = tokenizer.convert_ids_to_tokens(tokens.numpy().squeeze(), 'code')"
   ]
  },
  {
   "cell_type": "code",
   "execution_count": 50,
   "id": "6fffcf70-c2e6-4abf-a9aa-2dd50bbd7675",
   "metadata": {},
   "outputs": [],
   "source": [
    "firstvist = []\n",
    "\n",
    "for token in sentence:\n",
    "    if token == '[CLS]':\n",
    "        continue\n",
    "    \n",
    "    if token == '[SEP]':\n",
    "        break\n",
    "    firstvist.append(token)"
   ]
  },
  {
   "cell_type": "code",
   "execution_count": 51,
   "id": "372ef25f-f155-4e3d-a241-50967e2f9414",
   "metadata": {},
   "outputs": [
    {
     "data": {
      "text/plain": [
       "['59621000',\n",
       " '224299000',\n",
       " '160904001',\n",
       " '423315002',\n",
       " '73595000',\n",
       " '314076',\n",
       " '428211000124100',\n",
       " '710824005',\n",
       " '454711000124102',\n",
       " '763302001',\n",
       " '171207006']"
      ]
     },
     "execution_count": 51,
     "metadata": {},
     "output_type": "execute_result"
    }
   ],
   "source": [
    "firstvist"
   ]
  },
  {
   "cell_type": "code",
   "execution_count": 65,
   "id": "8f7d8ec9-444c-4f1d-9fdf-dd9b53c3c546",
   "metadata": {},
   "outputs": [
    {
     "data": {
      "text/plain": [
       "0.6458539615758532"
      ]
     },
     "execution_count": 65,
     "metadata": {},
     "output_type": "execute_result"
    }
   ],
   "source": [
    "dm['0, 423315002,314076']"
   ]
  },
  {
   "cell_type": "code",
   "execution_count": 69,
   "id": "63060ac5-1c53-4ee3-ae49-ebc5780a4a9c",
   "metadata": {},
   "outputs": [
    {
     "data": {
      "text/plain": [
       "0.11168784033525"
      ]
     },
     "execution_count": 69,
     "metadata": {},
     "output_type": "execute_result"
    }
   ],
   "source": [
    "mp['0, 314076,763302001']"
   ]
  },
  {
   "cell_type": "code",
   "execution_count": 52,
   "id": "8713f559-d209-40f6-af2a-5b83ca6d3b23",
   "metadata": {},
   "outputs": [
    {
     "name": "stdout",
     "output_type": "stream",
     "text": [
      "0, 44054006,308136\n"
     ]
    }
   ],
   "source": [
    "for key in dm:\n",
    "    print(key)\n",
    "    break"
   ]
  },
  {
   "cell_type": "markdown",
   "id": "00c11c28-d607-49fa-8a03-f96d82a6362f",
   "metadata": {},
   "source": [
    "Codes:\n",
    "\n",
    "59621000: Essential hypertension\n",
    "\n",
    "224299000: Received higher education\n",
    "\n",
    "160904001:  Finding of job details \n",
    "\n",
    "423315002: Limited social contact\n",
    "\n",
    "73595000: Stress \n",
    "\n",
    "314076: lisinopril 10 MG Oral Tablet\n",
    "\n",
    "428211000124100: Assessment of substance use\n",
    "\n",
    "710824005: Assessment of health and social care needs\n",
    "\n",
    "454711000124102: Depression screening \n",
    "\n",
    "763302001: Alcohol Use Disorders Identification Test\n",
    "\n",
    "171207006: Depression screening \n",
    "\n",
    "\n",
    "\n"
   ]
  },
  {
   "cell_type": "markdown",
   "id": "1715e2f1-77ab-44a9-81c1-46b293979cff",
   "metadata": {},
   "source": [
    "## MIMIC"
   ]
  },
  {
   "cell_type": "code",
   "execution_count": 2,
   "id": "7372940f-e399-422d-9456-3084d83043ce",
   "metadata": {},
   "outputs": [],
   "source": [
    "global_params = {\n",
    "    'max_seq_len': 64,\n",
    "    'gradient_accumulation_steps': 1\n",
    "}\n",
    "\n",
    "optim_param = {\n",
    "    'lr': 3e-5,\n",
    "    'warmup_proportion': 0.1,\n",
    "    'weight_decay': 0.01\n",
    "}\n",
    "\n",
    "train_params = {\n",
    "    'batch_size': 10,\n",
    "    'use_cuda': True,\n",
    "    'max_len_seq': global_params['max_seq_len'],\n",
    "    'device': 'cuda' #change this to run on cuda #'cuda:0'\n",
    "}\n",
    "\n",
    "dataset_name = 'MIMIC/'\n",
    "\n",
    "feature_types = {'diagnosis':True, 'medications':True, 'procedures':True}\n",
    "\n",
    "if (feature_types['diagnosis'] and feature_types['medications'] and not (feature_types['procedures'])):\n",
    "    print(\"Do only use diagnosis\")\n",
    "    code_voc = 'MLM_diagnosmedcodes.npy'\n",
    "    age_voc = 'MLM_age.npy'\n",
    "\n",
    "elif (feature_types['diagnosis'] and not feature_types['medications']):\n",
    "    code_voc = 'MLM_diagnoscodes.npy'\n",
    "    age_voc = 'MLM_age.npy'\n",
    "\n",
    "else:\n",
    "    code_voc = 'MLM_diagnosproccodes.npy'\n",
    "    age_voc = 'MLM_age.npy'\n",
    "\n",
    "files = {'code':'../data/vocabularies/' + dataset_name + code_voc,\n",
    "             'age':'../data/vocabularies/' + dataset_name + age_voc,\n",
    "        }\n",
    "\n",
    "tokenizer = EHRTokenizer(task='MLM', filenames=files)\n",
    "\n",
    "model_config = {\n",
    "        'vocab_size': len(tokenizer.getVoc('code').keys()), # number of disease + symbols for word embedding\n",
    "        'hidden_size': 288, #tune.choice([100, 150, 288]), #288, # word embedding and seg embedding hidden size\n",
    "        'seg_vocab_size': 2, # number of vocab for seg embedding\n",
    "        'age_vocab_size': len(tokenizer.getVoc('age').keys()), # number of vocab for age embedding,\n",
    "        'gender_vocab_size': 3,\n",
    "        'max_position_embeddings': train_params['max_len_seq'], # maximum number of tokens\n",
    "        'hidden_dropout_prob': 0.1, # dropout rate\n",
    "        'num_hidden_layers': 6, #4, # number of multi-head attention layers required\n",
    "        'num_attention_heads': 12, # number of attention heads\n",
    "        'attention_probs_dropout_prob': 0.1, # multi-head attention dropout rate\n",
    "        'intermediate_size': 512, # the size of the \"intermediate\" layer in the transformer encoder\n",
    "        'hidden_act': 'gelu', # The non-linear activation function in the encoder and the pooler \"gelu\", 'relu', 'swish' are supported\n",
    "        'initializer_range': 0.02, # parameter weight initializer range\n",
    "        'use_prior':False,\n",
    "        'reg':0.1,\n",
    "        'age':True,\n",
    "        'gender':False,\n",
    "        'epochs':20,\n",
    "    }"
   ]
  },
  {
   "cell_type": "code",
   "execution_count": 3,
   "id": "bcd44e44-fcb4-4871-8f5a-4c6bce59726b",
   "metadata": {},
   "outputs": [],
   "source": [
    "stats_path = '../data/train_stats/MIMIC2/'\n",
    "condfiles = {'dd':stats_path + 'dd_cond_probs.empirical.p', \n",
    "             'dp':stats_path + 'dp_cond_probs.empirical.p',\n",
    "             'dm':stats_path + 'dm_cond_probs.empirical.p',\n",
    "             'pp':stats_path + 'pp_cond_probs.empirical.p', \n",
    "             'pd':stats_path + 'pd_cond_probs.empirical.p',\n",
    "             'pm':stats_path + 'pd_cond_probs.empirical.p',\n",
    "             'mm':stats_path + 'mm_cond_probs.empirical.p', \n",
    "             'md':stats_path + 'md_cond_probs.empirical.p',\n",
    "             'mp':stats_path + 'mp_cond_probs.empirical.p',\n",
    "            }"
   ]
  },
  {
   "cell_type": "code",
   "execution_count": 4,
   "id": "7d6a45e1-9c10-4e5b-a142-6625cf4500b8",
   "metadata": {},
   "outputs": [
    {
     "name": "stdout",
     "output_type": "stream",
     "text": [
      "Use diagnosis: True\n",
      "Use medications: True\n",
      "Use procedures: True\n",
      "Transforming data\n",
      "Saving data\n"
     ]
    }
   ],
   "source": [
    "folderpath = '../data/pytorch_datasets/' + dataset_name\n",
    "path='../data/datasets/' + dataset_name\n",
    "train = pd.read_parquet(path + 'train.parquet')\n",
    "traind = EHRDataset(train, max_len=train_params['max_len_seq'], feature_types=feature_types, conditional_files=condfiles, save_folder=folderpath, tokenizer=tokenizer, run_type='vizontology_dmp')"
   ]
  },
  {
   "cell_type": "code",
   "execution_count": 5,
   "id": "266f89ab-8db1-45e3-ab96-064c5f2c1385",
   "metadata": {},
   "outputs": [],
   "source": [
    "trainloader = torch.utils.data.DataLoader(traind, batch_size=1, shuffle=True)"
   ]
  },
  {
   "cell_type": "code",
   "execution_count": 6,
   "id": "f3a5de00-d369-496b-98e2-f2cc31aa11ec",
   "metadata": {},
   "outputs": [],
   "source": [
    "dm_path = condfiles['dm']\n",
    "md_path = condfiles['md']\n",
    "mp_path = condfiles['mp']"
   ]
  },
  {
   "cell_type": "code",
   "execution_count": 7,
   "id": "dd9933a4-446c-4400-b2f8-f38345663d7c",
   "metadata": {},
   "outputs": [],
   "source": [
    "dm = pickle.load(open(dm_path, 'rb'))\n",
    "md = pickle.load(open(md_path, 'rb'))\n",
    "mp = pickle.load(open(mp_path, 'rb'))"
   ]
  },
  {
   "cell_type": "code",
   "execution_count": 11,
   "id": "0d640074-d153-48e5-a0ea-ad9dac179245",
   "metadata": {},
   "outputs": [],
   "source": [
    "patient= next(iter(trainloader))"
   ]
  },
  {
   "cell_type": "code",
   "execution_count": 12,
   "id": "9a744e95-34ff-49de-b039-00a1aed66e70",
   "metadata": {},
   "outputs": [],
   "source": [
    "age, gender, code, position, segment, mask, label, prior_guide, tokens = patient\n",
    "sentence = tokenizer.convert_ids_to_tokens(tokens.numpy().squeeze(), 'code')\n",
    "firstvist = []\n",
    "\n",
    "for token in sentence:\n",
    "    if token == '[CLS]':\n",
    "        continue\n",
    "    \n",
    "    if token == '[SEP]':\n",
    "        break\n",
    "    firstvist.append(token)"
   ]
  },
  {
   "cell_type": "code",
   "execution_count": 13,
   "id": "c10d22ce-c17b-4e75-98ce-a3ce98302920",
   "metadata": {},
   "outputs": [
    {
     "data": {
      "text/plain": [
       "['END013',\n",
       " 'INJ030',\n",
       " 'CIR007',\n",
       " 'DIG004',\n",
       " 'FAC016',\n",
       " 'NVS006',\n",
       " 'END010',\n",
       " 'END011',\n",
       " 'SYM013',\n",
       " 'INJ028',\n",
       " 'INJ028',\n",
       " 'EXT027',\n",
       " 'FAC021',\n",
       " 'FAC021',\n",
       " 'FAC009',\n",
       " '2244',\n",
       " '0550',\n",
       " '3065',\n",
       " '7510',\n",
       " '0492',\n",
       " '0004',\n",
       " '1988',\n",
       " '6729',\n",
       " '6277',\n",
       " '0426',\n",
       " '4943',\n",
       " '0615',\n",
       " '0262',\n",
       " '0659',\n",
       " '0054',\n",
       " '1985',\n",
       " '0421',\n",
       " '6235',\n",
       " '0703',\n",
       " '4902',\n",
       " 'CAR024']"
      ]
     },
     "execution_count": 13,
     "metadata": {},
     "output_type": "execute_result"
    }
   ],
   "source": [
    "firstvist"
   ]
  },
  {
   "cell_type": "code",
   "execution_count": 20,
   "id": "b11c4c10-e5c5-4956-8e24-0ac960ed43b9",
   "metadata": {},
   "outputs": [
    {
     "data": {
      "text/plain": [
       "0.08882037741244973"
      ]
     },
     "execution_count": 20,
     "metadata": {},
     "output_type": "execute_result"
    }
   ],
   "source": [
    "dm['0, DIG004,3065']"
   ]
  },
  {
   "cell_type": "code",
   "execution_count": 22,
   "id": "dde69b51-56bb-452f-a6cc-217e4255b5c7",
   "metadata": {},
   "outputs": [
    {
     "data": {
      "text/plain": [
       "0.42889701614229647"
      ]
     },
     "execution_count": 22,
     "metadata": {},
     "output_type": "execute_result"
    }
   ],
   "source": [
    "mp['0, 3065,CAR024']"
   ]
  },
  {
   "cell_type": "markdown",
   "id": "6c0a1563-1181-4d7b-93ab-f9226afe2715",
   "metadata": {},
   "source": [
    "Codes:\n",
    "\n",
    "END013: Pituitary disorders \n",
    "\n",
    "INJ030: Drug induced or toxic related condition\n",
    "\n",
    "CIR007: Essential hypertension\n",
    "\n",
    "DIG004: Esophageal disorders\n",
    "\n",
    "NVS006: Other specified hereditary and degenerative nervous system conditions\n",
    "\n",
    "2244: Febuxostat\n",
    "\n",
    "3065: Fenofibrate\n",
    "\n",
    "7510: Naproxen Sodium\n",
    "\n",
    "6729: Magnesium Sulfate\n",
    "\n",
    "CAR024: Venous and arterial catheter placement"
   ]
  },
  {
   "cell_type": "code",
   "execution_count": null,
   "id": "0cd93e4a-f117-405b-ab59-935616b588c1",
   "metadata": {},
   "outputs": [],
   "source": []
  }
 ],
 "metadata": {
  "kernelspec": {
   "display_name": "Python 3 (ipykernel)",
   "language": "python",
   "name": "python3"
  },
  "language_info": {
   "codemirror_mode": {
    "name": "ipython",
    "version": 3
   },
   "file_extension": ".py",
   "mimetype": "text/x-python",
   "name": "python",
   "nbconvert_exporter": "python",
   "pygments_lexer": "ipython3",
   "version": "3.7.11"
  }
 },
 "nbformat": 4,
 "nbformat_minor": 5
}
