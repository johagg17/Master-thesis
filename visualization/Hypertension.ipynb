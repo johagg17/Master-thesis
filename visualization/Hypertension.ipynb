{
 "cells": [
  {
   "cell_type": "markdown",
   "id": "a056a4a1-dbd4-4a54-8426-5a73ee4a01c4",
   "metadata": {
    "tags": []
   },
   "source": [
    "#### Synthea"
   ]
  },
  {
   "cell_type": "markdown",
   "id": "ee975114-74eb-4227-808a-52e2c22154cf",
   "metadata": {
    "tags": []
   },
   "source": [
    "##### Process"
   ]
  },
  {
   "cell_type": "code",
   "execution_count": 485,
   "id": "bf2262a9-fe31-4889-839d-74596eafe0ef",
   "metadata": {},
   "outputs": [],
   "source": [
    "import plotly.graph_objects as go\n",
    "import pandas as pd\n",
    "import matplotlib.pyplot as plt\n",
    "from sklearn.manifold import TSNE\n",
    "import seaborn as sns\n",
    "from sklearn.metrics import classification_report\n",
    "\n",
    "import sys\n",
    "sys.path.insert(1, '../')\n",
    "from utils.packages import *\n",
    "\n",
    "def load_model(path, model):\n",
    "    # load pretrained model and update weights\n",
    "    pretrained_dict = torch.load(path)\n",
    "    model_dict = model.state_dict()\n",
    "    # 1. filter out unnecessary keys\n",
    "    pretrained_dict = {k: v for k, v in pretrained_dict.items() if k in model_dict}\n",
    "    # 2. overwrite entries in the existing state dict\n",
    "    model_dict.update(pretrained_dict)\n",
    "    # 3. load the new state dict\n",
    "    model.load_state_dict(model_dict)\n",
    "    return model\n",
    "\n",
    "global_params = {\n",
    "    'max_seq_len': 64,\n",
    "    'gradient_accumulation_steps': 1\n",
    "}\n",
    "\n",
    "optim_param = {\n",
    "    'lr': 3e-5,\n",
    "    'warmup_proportion': 0.1,\n",
    "    'weight_decay': 0.01\n",
    "}\n",
    "\n",
    "train_params = {\n",
    "    'batch_size': 10,\n",
    "    'use_cuda': True,\n",
    "    'max_len_seq': global_params['max_seq_len'],\n",
    "    'device': 'cuda' #change this to run on cuda #'cuda:0'\n",
    "}\n",
    "\n",
    "dataset_name = 'Synthea/Final_cohorts/'\n",
    "\n",
    "feature_types = {'diagnosis':True, 'medications':True, 'procedures':True}\n",
    "\n",
    "if (feature_types['diagnosis'] and feature_types['medications'] and not (feature_types['procedures'])):\n",
    "    print(\"Do only use diagnosis\")\n",
    "    code_voc = 'MLM_diagnosmedcodes.npy'\n",
    "    age_voc = 'MLM_age.npy'\n",
    "\n",
    "elif (feature_types['diagnosis'] and not feature_types['medications']):\n",
    "    code_voc = 'MLM_diagnoscodes.npy'\n",
    "    age_voc = 'MLM_age.npy'\n",
    "\n",
    "else:\n",
    "    code_voc = 'MLM_diagnosproccodes.npy'\n",
    "    age_voc = 'MLM_age.npy'\n",
    "\n",
    "files = {'code':'../data/vocabularies/' + dataset_name + code_voc,\n",
    "             'age':'../data/vocabularies/' + dataset_name + age_voc,\n",
    "        }\n",
    "\n",
    "tokenizer = EHRTokenizer(task='MLM', filenames=files)\n",
    "\n",
    "model_config = {\n",
    "        'vocab_size': len(tokenizer.getVoc('code').keys()), # number of disease + symbols for word embedding\n",
    "        'hidden_size': 288, #tune.choice([100, 150, 288]), #288, # word embedding and seg embedding hidden size\n",
    "        'seg_vocab_size': 2, # number of vocab for seg embedding\n",
    "        'age_vocab_size': len(tokenizer.getVoc('age').keys()), # number of vocab for age embedding,\n",
    "        'gender_vocab_size': 3,\n",
    "        'max_position_embeddings': train_params['max_len_seq'], # maximum number of tokens\n",
    "        'hidden_dropout_prob': 0.1, # dropout rate\n",
    "        'num_hidden_layers': 6, #4, # number of multi-head attention layers required\n",
    "        'num_attention_heads': 12, # number of attention heads\n",
    "        'attention_probs_dropout_prob': 0.1, # multi-head attention dropout rate\n",
    "        'intermediate_size': 512, # the size of the \"intermediate\" layer in the transformer encoder\n",
    "        'hidden_act': 'gelu', # The non-linear activation function in the encoder and the pooler \"gelu\", 'relu', 'swish' are supported\n",
    "        'initializer_range': 0.02, # parameter weight initializer range\n",
    "        'use_prior':True,\n",
    "        'reg':0.1,\n",
    "        'age':True,\n",
    "        'gender':True,\n",
    "        'epochs':20,\n",
    "    }\n",
    "\n",
    "stats_path = '../data/train_stats/Synthea/'\n",
    "condfiles = {'dd':stats_path + 'dd_cond_probs.empirical.p', \n",
    "             'dp':stats_path + 'dp_cond_probs.empirical.p',\n",
    "             'dm':stats_path + 'dm_cond_probs.empirical.p',\n",
    "             'pp':stats_path + 'pp_cond_probs.empirical.p', \n",
    "             'pd':stats_path + 'pd_cond_probs.empirical.p',\n",
    "             'pm':stats_path + 'pd_cond_probs.empirical.p',\n",
    "             'mm':stats_path + 'mm_cond_probs.empirical.p', \n",
    "             'md':stats_path + 'md_cond_probs.empirical.p',\n",
    "             'mp':stats_path + 'mp_cond_probs.empirical.p',\n",
    "            }"
   ]
  },
  {
   "cell_type": "code",
   "execution_count": 486,
   "id": "7397374d-0c58-4b32-8222-9ebb5ffa47c1",
   "metadata": {},
   "outputs": [
    {
     "data": {
      "text/plain": [
       "'../data/datasets/Synthea/Final_cohorts/'"
      ]
     },
     "execution_count": 486,
     "metadata": {},
     "output_type": "execute_result"
    }
   ],
   "source": [
    "path='../data/datasets/' + dataset_name\n",
    "path"
   ]
  },
  {
   "cell_type": "code",
   "execution_count": 487,
   "id": "0fb3cdf7-b999-4f63-80ab-00b3f716e4d5",
   "metadata": {},
   "outputs": [],
   "source": [
    "#train = pd.read_parquet(path + 'train.parquet')\n",
    "#val = pd.read_parquet(path + 'val.parquet')\n",
    "test = pd.read_parquet(path + 'test.parquet')\n",
    "#all_data = pd.concat([train, val, test])"
   ]
  },
  {
   "cell_type": "code",
   "execution_count": 488,
   "id": "ebca8823-6e95-4c88-86b1-d6dd790f7e58",
   "metadata": {},
   "outputs": [],
   "source": [
    "diagnosmap = pd.read_csv('../data/mapping_data/Synthea/unique_conds.csv')\n",
    "diagnosmap['CODE'] = diagnosmap['CODE'].map(str)\n",
    "\n",
    "medmap = pd.read_csv('../data/mapping_data/Synthea/synthea_medication_description.csv').rename(columns={'Unnamed: 0':'CODE', '0':'DESCRIPTION'})\n",
    "medmap['CODE'] = medmap['CODE'].map(str)\n",
    "\n",
    "procmap = pd.read_csv('../data/mapping_data/Synthea/synthea_procedure_description.csv').rename(columns={'Unnamed: 0':'CODE', '0':'DESCRIPTION'})\n",
    "procmap['CODE'] = procmap['CODE'].map(str)\n"
   ]
  },
  {
   "cell_type": "code",
   "execution_count": 489,
   "id": "e19fcf89-7d54-434b-bf93-6eef823a0a81",
   "metadata": {},
   "outputs": [],
   "source": [
    "diagnosmapdict = dict(zip(diagnosmap.CODE,diagnosmap.DESCRIPTION))\n",
    "medmapdict = dict(zip(medmap.CODE,medmap.DESCRIPTION))\n",
    "procmapdict = dict(zip(procmap.CODE,procmap.DESCRIPTION))"
   ]
  },
  {
   "cell_type": "code",
   "execution_count": 492,
   "id": "55e6b901-85d0-4508-a237-1a5e1a59a475",
   "metadata": {},
   "outputs": [],
   "source": [
    "hypertensioncode = int(diagnosmap[diagnosmap['DESCRIPTION'].isin(['Hypertension', 'hypertension'])]['CODE'].iloc[0])\n",
    "test['diagnos_flatten'] = test['diagnos_code'].apply(lambda x: np.concatenate(x))\n",
    "test['hypercode'] = test['diagnos_flatten'].apply(lambda x: True if hypertensioncode in x else False)\n",
    "hypertensionpatients = test[test['hypercode'] == True]"
   ]
  },
  {
   "cell_type": "code",
   "execution_count": 493,
   "id": "ad2b9a29-97d7-46f6-81cd-6b91027c83e6",
   "metadata": {},
   "outputs": [
    {
     "name": "stdout",
     "output_type": "stream",
     "text": [
      "Use diagnosis: True\n",
      "Use medications: True\n",
      "Use procedures: True\n",
      "Loading data\n"
     ]
    }
   ],
   "source": [
    "folderpath = '../data/pytorch_datasets/' + dataset_name\n",
    "hypertensionpatientsdataset = EHRDataset(hypertensionpatients, max_len=train_params['max_len_seq'], run_type='Hypertension_synthea', save_folder=folderpath,feature_types=feature_types, conditional_files=condfiles, tokenizer=tokenizer)\n",
    "hypertensionloader = torch.utils.data.DataLoader(hypertensionpatientsdataset, batch_size=1, pin_memory=True, shuffle=True)"
   ]
  },
  {
   "cell_type": "code",
   "execution_count": 494,
   "id": "dc25b096-fe16-40fb-9042-a819f661b52b",
   "metadata": {},
   "outputs": [
    {
     "name": "stderr",
     "output_type": "stream",
     "text": [
      "t_total value of -1 results in schedule not being applied\n"
     ]
    }
   ],
   "source": [
    "conf = BertConfig(model_config)\n",
    "model = BertForMaskedLM(conf)\n",
    "PATH = \"../saved_models/MLM/CondBEHRT_synthea\"\n",
    "model = load_model(PATH, model)\n",
    "params = list(model.named_parameters())\n",
    "optim = adam(params, optim_param)"
   ]
  },
  {
   "cell_type": "markdown",
   "id": "2544f8d0-c1c1-4b69-a8d6-e6b522fa2296",
   "metadata": {
    "tags": []
   },
   "source": [
    "##### Attention"
   ]
  },
  {
   "cell_type": "markdown",
   "id": "8dfc6354-d302-4566-95dd-268f3758d797",
   "metadata": {},
   "source": [
    "###### Example"
   ]
  },
  {
   "cell_type": "code",
   "execution_count": 495,
   "id": "904c49cc-2dea-4678-abcd-9b62c7c513eb",
   "metadata": {},
   "outputs": [],
   "source": [
    "iterr = iter(hypertensionloader)"
   ]
  },
  {
   "cell_type": "code",
   "execution_count": 504,
   "id": "f5d155df-60e6-4873-83ac-88d5ff651f08",
   "metadata": {},
   "outputs": [],
   "source": [
    "with torch.no_grad():\n",
    "    model.eval()\n",
    "    datapoint = next(iterr)\n",
    "    age, gender, code, position, segment, mask, label, prior_guide, tokens = datapoint\n",
    "\n",
    "    loss, preds, labels, attention_scores, sequence_outputs = model(code, age_ids=age, gender_ids=gender, seg_ids=segment, posi_ids=position, attention_mask=mask, labels=label, prior_guide=prior_guide)\n",
    "    sentence = tokenizer.convert_ids_to_tokens(tokens.numpy().squeeze(), 'code')\n",
    "    lastatt = attention_scores[-1]\n",
    "    averagedlastatt = ((lastatt.sum(dim=1) / lastatt.shape[1])[0]).detach().numpy()"
   ]
  },
  {
   "cell_type": "code",
   "execution_count": 505,
   "id": "2b4188e0-3e4f-4a0e-b0bb-809c402177c5",
   "metadata": {},
   "outputs": [
    {
     "data": {
      "text/plain": [
       "<Figure size 648x648 with 0 Axes>"
      ]
     },
     "metadata": {},
     "output_type": "display_data"
    },
    {
     "data": {
      "image/png": "[encoded data removed]",
      "text/plain": [
       "<Figure size 720x720 with 2 Axes>"
      ]
     },
     "metadata": {
      "needs_background": "light"
     },
     "output_type": "display_data"
    }
   ],
   "source": [
    "sentence_conv = []\n",
    "    \n",
    "for s in sentence:\n",
    "    if s == '[CLS]' or s == '[SEP]':\n",
    "        sentence_conv.append(s)\n",
    "        continue\n",
    "\n",
    "    if s =='[PAD]':\n",
    "        #sentence_conv.append(s)\n",
    "        continue\n",
    "\n",
    "    if s in diagnosmapdict:\n",
    "        sentence_conv.append(diagnosmapdict[s])\n",
    "\n",
    "    elif s in medmapdict:\n",
    "        sentence_conv.append(medmapdict[s])\n",
    "\n",
    "    elif s in procmapdict:\n",
    "        sentence_conv.append(procmapdict[s])\n",
    "    else:\n",
    "        sentence_conv.append(s)\n",
    "        \n",
    "f, ax = plt.subplots(figsize = (len(sentence_conv),len(sentence_conv)))\n",
    "map1 = lastatt[0][1].detach().numpy() #((layer.sum(dim=1) / layer.shape[1])[0]).detach().numpy()\n",
    "map1 = map1[:len(sentence_conv), :len(sentence_conv)]\n",
    "#print(map1)\n",
    "plt.clf()\n",
    "f=plt.figure(figsize=(10,10))\n",
    "ax = f.add_subplot(1,1,1)\n",
    "#i=ax.imshow(map1,interpolation='nearest',cmap='gray')\n",
    "sns.heatmap(map1, annot=False, linewidths=1, fmt=\"f\", ax=ax, xticklabels = sentence_conv, yticklabels = sentence_conv, vmax=map1.max(), vmin=map1.min(), cmap='gray')\n",
    "ax.set_yticks(range(len(sentence_conv)))\n",
    "ax.set_yticklabels(sentence_conv, fontsize=15)\n",
    "ax.set_xticks(range(len(sentence_conv)))\n",
    "ax.set_xticklabels(sentence_conv,rotation=90, fontsize=15)\n",
    "ax.set_xlabel('key', fontsize=15)\n",
    "ax.set_ylabel('query', fontsize=15)\n",
    "ax.grid(linewidth = 0.8)"
   ]
  },
  {
   "cell_type": "markdown",
   "id": "fffc8913-2dd6-4193-93c5-3f73b1fb382f",
   "metadata": {
    "tags": []
   },
   "source": [
    "###### Average"
   ]
  },
  {
   "cell_type": "code",
   "execution_count": 468,
   "id": "37da5c63-15fd-4f01-9519-04d8d5265fb1",
   "metadata": {},
   "outputs": [],
   "source": [
    "token_combs = {}\n",
    "with torch.no_grad():\n",
    "    model.eval()\n",
    "    for idx, batch in enumerate(hypertensionloader):\n",
    "        if idx == 5:\n",
    "            break\n",
    "        age, gender, code, position, segment, mask, label, prior_guide, tokens = batch\n",
    "        loss, preds, labels, attention_scores, sequence_outputs = model(code, age_ids=age, gender_ids=gender, seg_ids=segment, posi_ids=position, attention_mask=mask, labels=label, prior_guide=prior_guide)\n",
    "        sentence = tokenizer.convert_ids_to_tokens(tokens.numpy().squeeze(), 'code')\n",
    "        seq_out = sequence_outputs[-1]\n",
    "        lastattentionscores = attention_scores[-1]\n",
    "        \n",
    "        averagedheads = (lastattentionscores.sum(dim=1) / lastattentionscores.shape[1])[0]\n",
    "        \n",
    "        dontlookattokens = set(['[CLS]', '[SEP]', '[PAD]'])\n",
    "        for idx1, token1 in enumerate(sentence):\n",
    "            if token1 in dontlookattokens:\n",
    "                continue\n",
    "            for idx2, token2 in enumerate(sentence):\n",
    "                if token2 in dontlookattokens:\n",
    "                    continue\n",
    "                comb = token1 + ',' + token2\n",
    "                prob = averagedheads[idx1, idx2]\n",
    "                if comb not in token_combs:\n",
    "                    token_combs[comb] = (prob.item(), 1)\n",
    "                else:\n",
    "                    new_prob = prob.item() + token_combs[comb][0]\n",
    "                    numtimes = token_combs[comb][1] + 1\n",
    "                    token_combs[comb] = (new_prob, numtimes)\n",
    "        #seq = torch.cat((seq, seq_out), 0)"
   ]
  },
  {
   "cell_type": "code",
   "execution_count": 466,
   "id": "7923ae2f-0c63-4220-9fb8-8f3bc93f76b9",
   "metadata": {},
   "outputs": [
    {
     "data": {
      "application/vnd.plotly.v1+json": {
       "config": {
        "plotlyServerURL": "https://plot.ly"
       },
       "data": [
        {
         "cells": {
          "align": "center",
          "font": {
           "color": "black",
           "size": 11
          },
          "values": [
           [
            "Only received primary school education (finding)",
            "Only received primary school education (finding)",
            "Part-time employment (finding)",
            "Hypertension",
            "Body mass index 30+ - obesity (finding)"
           ],
           [
            "Hypertension",
            "Only received primary school education (finding)",
            "Only received primary school education (finding)",
            "Only received primary school education (finding)",
            "Only received primary school education (finding)"
           ],
           [
            0.04545683041214943,
            0.04545649513602257,
            0.04545647775133451,
            0.0454564243555069,
            0.04545636102557182
           ]
          ]
         },
         "header": {
          "align": "center",
          "fill": {
           "color": "white"
          },
          "font": {
           "color": "black",
           "size": 12
          },
          "line": {
           "color": "white"
          },
          "values": [
           "<b>Condition1</b>",
           "<b>Condition2</b>",
           "<b>Attention</b>"
          ]
         },
         "type": "table"
        }
       ],
       "layout": {
        "autosize": true,
        "template": {
         "data": {
          "bar": [
           {
            "error_x": {
             "color": "#2a3f5f"
            },
            "error_y": {
             "color": "#2a3f5f"
            },
            "marker": {
             "line": {
              "color": "#E5ECF6",
              "width": 0.5
             },
             "pattern": {
              "fillmode": "overlay",
              "size": 10,
              "solidity": 0.2
             }
            },
            "type": "bar"
           }
          ],
          "barpolar": [
           {
            "marker": {
             "line": {
              "color": "#E5ECF6",
              "width": 0.5
             },
             "pattern": {
              "fillmode": "overlay",
              "size": 10,
              "solidity": 0.2
             }
            },
            "type": "barpolar"
           }
          ],
          "carpet": [
           {
            "aaxis": {
             "endlinecolor": "#2a3f5f",
             "gridcolor": "white",
             "linecolor": "white",
             "minorgridcolor": "white",
             "startlinecolor": "#2a3f5f"
            },
            "baxis": {
             "endlinecolor": "#2a3f5f",
             "gridcolor": "white",
             "linecolor": "white",
             "minorgridcolor": "white",
             "startlinecolor": "#2a3f5f"
            },
            "type": "carpet"
           }
          ],
          "choropleth": [
           {
            "colorbar": {
             "outlinewidth": 0,
             "ticks": ""
            },
            "type": "choropleth"
           }
          ],
          "contour": [
           {
            "colorbar": {
             "outlinewidth": 0,
             "ticks": ""
            },
            "colorscale": [
             [
              0,
              "#0d0887"
             ],
             [
              0.1111111111111111,
              "#46039f"
             ],
             [
              0.2222222222222222,
              "#7201a8"
             ],
             [
              0.3333333333333333,
              "#9c179e"
             ],
             [
              0.4444444444444444,
              "#bd3786"
             ],
             [
              0.5555555555555556,
              "#d8576b"
             ],
             [
              0.6666666666666666,
              "#ed7953"
             ],
             [
              0.7777777777777778,
              "#fb9f3a"
             ],
             [
              0.8888888888888888,
              "#fdca26"
             ],
             [
              1,
              "#f0f921"
             ]
            ],
            "type": "contour"
           }
          ],
          "contourcarpet": [
           {
            "colorbar": {
             "outlinewidth": 0,
             "ticks": ""
            },
            "type": "contourcarpet"
           }
          ],
          "heatmap": [
           {
            "colorbar": {
             "outlinewidth": 0,
             "ticks": ""
            },
            "colorscale": [
             [
              0,
              "#0d0887"
             ],
             [
              0.1111111111111111,
              "#46039f"
             ],
             [
              0.2222222222222222,
              "#7201a8"
             ],
             [
              0.3333333333333333,
              "#9c179e"
             ],
             [
              0.4444444444444444,
              "#bd3786"
             ],
             [
              0.5555555555555556,
              "#d8576b"
             ],
             [
              0.6666666666666666,
              "#ed7953"
             ],
             [
              0.7777777777777778,
              "#fb9f3a"
             ],
             [
              0.8888888888888888,
              "#fdca26"
             ],
             [
              1,
              "#f0f921"
             ]
            ],
            "type": "heatmap"
           }
          ],
          "heatmapgl": [
           {
            "colorbar": {
             "outlinewidth": 0,
             "ticks": ""
            },
            "colorscale": [
             [
              0,
              "#0d0887"
             ],
             [
              0.1111111111111111,
              "#46039f"
             ],
             [
              0.2222222222222222,
              "#7201a8"
             ],
             [
              0.3333333333333333,
              "#9c179e"
             ],
             [
              0.4444444444444444,
              "#bd3786"
             ],
             [
              0.5555555555555556,
              "#d8576b"
             ],
             [
              0.6666666666666666,
              "#ed7953"
             ],
             [
              0.7777777777777778,
              "#fb9f3a"
             ],
             [
              0.8888888888888888,
              "#fdca26"
             ],
             [
              1,
              "#f0f921"
             ]
            ],
            "type": "heatmapgl"
           }
          ],
          "histogram": [
           {
            "marker": {
             "pattern": {
              "fillmode": "overlay",
              "size": 10,
              "solidity": 0.2
             }
            },
            "type": "histogram"
           }
          ],
          "histogram2d": [
           {
            "colorbar": {
             "outlinewidth": 0,
             "ticks": ""
            },
            "colorscale": [
             [
              0,
              "#0d0887"
             ],
             [
              0.1111111111111111,
              "#46039f"
             ],
             [
              0.2222222222222222,
              "#7201a8"
             ],
             [
              0.3333333333333333,
              "#9c179e"
             ],
             [
              0.4444444444444444,
              "#bd3786"
             ],
             [
              0.5555555555555556,
              "#d8576b"
             ],
             [
              0.6666666666666666,
              "#ed7953"
             ],
             [
              0.7777777777777778,
              "#fb9f3a"
             ],
             [
              0.8888888888888888,
              "#fdca26"
             ],
             [
              1,
              "#f0f921"
             ]
            ],
            "type": "histogram2d"
           }
          ],
          "histogram2dcontour": [
           {
            "colorbar": {
             "outlinewidth": 0,
             "ticks": ""
            },
            "colorscale": [
             [
              0,
              "#0d0887"
             ],
             [
              0.1111111111111111,
              "#46039f"
             ],
             [
              0.2222222222222222,
              "#7201a8"
             ],
             [
              0.3333333333333333,
              "#9c179e"
             ],
             [
              0.4444444444444444,
              "#bd3786"
             ],
             [
              0.5555555555555556,
              "#d8576b"
             ],
             [
              0.6666666666666666,
              "#ed7953"
             ],
             [
              0.7777777777777778,
              "#fb9f3a"
             ],
             [
              0.8888888888888888,
              "#fdca26"
             ],
             [
              1,
              "#f0f921"
             ]
            ],
            "type": "histogram2dcontour"
           }
          ],
          "mesh3d": [
           {
            "colorbar": {
             "outlinewidth": 0,
             "ticks": ""
            },
            "type": "mesh3d"
           }
          ],
          "parcoords": [
           {
            "line": {
             "colorbar": {
              "outlinewidth": 0,
              "ticks": ""
             }
            },
            "type": "parcoords"
           }
          ],
          "pie": [
           {
            "automargin": true,
            "type": "pie"
           }
          ],
          "scatter": [
           {
            "fillpattern": {
             "fillmode": "overlay",
             "size": 10,
             "solidity": 0.2
            },
            "type": "scatter"
           }
          ],
          "scatter3d": [
           {
            "line": {
             "colorbar": {
              "outlinewidth": 0,
              "ticks": ""
             }
            },
            "marker": {
             "colorbar": {
              "outlinewidth": 0,
              "ticks": ""
             }
            },
            "type": "scatter3d"
           }
          ],
          "scattercarpet": [
           {
            "marker": {
             "colorbar": {
              "outlinewidth": 0,
              "ticks": ""
             }
            },
            "type": "scattercarpet"
           }
          ],
          "scattergeo": [
           {
            "marker": {
             "colorbar": {
              "outlinewidth": 0,
              "ticks": ""
             }
            },
            "type": "scattergeo"
           }
          ],
          "scattergl": [
           {
            "marker": {
             "colorbar": {
              "outlinewidth": 0,
              "ticks": ""
             }
            },
            "type": "scattergl"
           }
          ],
          "scattermapbox": [
           {
            "marker": {
             "colorbar": {
              "outlinewidth": 0,
              "ticks": ""
             }
            },
            "type": "scattermapbox"
           }
          ],
          "scatterpolar": [
           {
            "marker": {
             "colorbar": {
              "outlinewidth": 0,
              "ticks": ""
             }
            },
            "type": "scatterpolar"
           }
          ],
          "scatterpolargl": [
           {
            "marker": {
             "colorbar": {
              "outlinewidth": 0,
              "ticks": ""
             }
            },
            "type": "scatterpolargl"
           }
          ],
          "scatterternary": [
           {
            "marker": {
             "colorbar": {
              "outlinewidth": 0,
              "ticks": ""
             }
            },
            "type": "scatterternary"
           }
          ],
          "surface": [
           {
            "colorbar": {
             "outlinewidth": 0,
             "ticks": ""
            },
            "colorscale": [
             [
              0,
              "#0d0887"
             ],
             [
              0.1111111111111111,
              "#46039f"
             ],
             [
              0.2222222222222222,
              "#7201a8"
             ],
             [
              0.3333333333333333,
              "#9c179e"
             ],
             [
              0.4444444444444444,
              "#bd3786"
             ],
             [
              0.5555555555555556,
              "#d8576b"
             ],
             [
              0.6666666666666666,
              "#ed7953"
             ],
             [
              0.7777777777777778,
              "#fb9f3a"
             ],
             [
              0.8888888888888888,
              "#fdca26"
             ],
             [
              1,
              "#f0f921"
             ]
            ],
            "type": "surface"
           }
          ],
          "table": [
           {
            "cells": {
             "fill": {
              "color": "#EBF0F8"
             },
             "line": {
              "color": "white"
             }
            },
            "header": {
             "fill": {
              "color": "#C8D4E3"
             },
             "line": {
              "color": "white"
             }
            },
            "type": "table"
           }
          ]
         },
         "layout": {
          "annotationdefaults": {
           "arrowcolor": "#2a3f5f",
           "arrowhead": 0,
           "arrowwidth": 1
          },
          "autotypenumbers": "strict",
          "coloraxis": {
           "colorbar": {
            "outlinewidth": 0,
            "ticks": ""
           }
          },
          "colorscale": {
           "diverging": [
            [
             0,
             "#8e0152"
            ],
            [
             0.1,
             "#c51b7d"
            ],
            [
             0.2,
             "#de77ae"
            ],
            [
             0.3,
             "#f1b6da"
            ],
            [
             0.4,
             "#fde0ef"
            ],
            [
             0.5,
             "#f7f7f7"
            ],
            [
             0.6,
             "#e6f5d0"
            ],
            [
             0.7,
             "#b8e186"
            ],
            [
             0.8,
             "#7fbc41"
            ],
            [
             0.9,
             "#4d9221"
            ],
            [
             1,
             "#276419"
            ]
           ],
           "sequential": [
            [
             0,
             "#0d0887"
            ],
            [
             0.1111111111111111,
             "#46039f"
            ],
            [
             0.2222222222222222,
             "#7201a8"
            ],
            [
             0.3333333333333333,
             "#9c179e"
            ],
            [
             0.4444444444444444,
             "#bd3786"
            ],
            [
             0.5555555555555556,
             "#d8576b"
            ],
            [
             0.6666666666666666,
             "#ed7953"
            ],
            [
             0.7777777777777778,
             "#fb9f3a"
            ],
            [
             0.8888888888888888,
             "#fdca26"
            ],
            [
             1,
             "#f0f921"
            ]
           ],
           "sequentialminus": [
            [
             0,
             "#0d0887"
            ],
            [
             0.1111111111111111,
             "#46039f"
            ],
            [
             0.2222222222222222,
             "#7201a8"
            ],
            [
             0.3333333333333333,
             "#9c179e"
            ],
            [
             0.4444444444444444,
             "#bd3786"
            ],
            [
             0.5555555555555556,
             "#d8576b"
            ],
            [
             0.6666666666666666,
             "#ed7953"
            ],
            [
             0.7777777777777778,
             "#fb9f3a"
            ],
            [
             0.8888888888888888,
             "#fdca26"
            ],
            [
             1,
             "#f0f921"
            ]
           ]
          },
          "colorway": [
           "#636efa",
           "#EF553B",
           "#00cc96",
           "#ab63fa",
           "#FFA15A",
           "#19d3f3",
           "#FF6692",
           "#B6E880",
           "#FF97FF",
           "#FECB52"
          ],
          "font": {
           "color": "#2a3f5f"
          },
          "geo": {
           "bgcolor": "white",
           "lakecolor": "white",
           "landcolor": "#E5ECF6",
           "showlakes": true,
           "showland": true,
           "subunitcolor": "white"
          },
          "hoverlabel": {
           "align": "left"
          },
          "hovermode": "closest",
          "mapbox": {
           "style": "light"
          },
          "paper_bgcolor": "white",
          "plot_bgcolor": "#E5ECF6",
          "polar": {
           "angularaxis": {
            "gridcolor": "white",
            "linecolor": "white",
            "ticks": ""
           },
           "bgcolor": "#E5ECF6",
           "radialaxis": {
            "gridcolor": "white",
            "linecolor": "white",
            "ticks": ""
           }
          },
          "scene": {
           "xaxis": {
            "backgroundcolor": "#E5ECF6",
            "gridcolor": "white",
            "gridwidth": 2,
            "linecolor": "white",
            "showbackground": true,
            "ticks": "",
            "zerolinecolor": "white"
           },
           "yaxis": {
            "backgroundcolor": "#E5ECF6",
            "gridcolor": "white",
            "gridwidth": 2,
            "linecolor": "white",
            "showbackground": true,
            "ticks": "",
            "zerolinecolor": "white"
           },
           "zaxis": {
            "backgroundcolor": "#E5ECF6",
            "gridcolor": "white",
            "gridwidth": 2,
            "linecolor": "white",
            "showbackground": true,
            "ticks": "",
            "zerolinecolor": "white"
           }
          },
          "shapedefaults": {
           "line": {
            "color": "#2a3f5f"
           }
          },
          "ternary": {
           "aaxis": {
            "gridcolor": "white",
            "linecolor": "white",
            "ticks": ""
           },
           "baxis": {
            "gridcolor": "white",
            "linecolor": "white",
            "ticks": ""
           },
           "bgcolor": "#E5ECF6",
           "caxis": {
            "gridcolor": "white",
            "linecolor": "white",
            "ticks": ""
           }
          },
          "title": {
           "x": 0.05
          },
          "xaxis": {
           "automargin": true,
           "gridcolor": "white",
           "linecolor": "white",
           "ticks": "",
           "title": {
            "standoff": 15
           },
           "zerolinecolor": "white",
           "zerolinewidth": 2
          },
          "yaxis": {
           "automargin": true,
           "gridcolor": "white",
           "linecolor": "white",
           "ticks": "",
           "title": {
            "standoff": 15
           },
           "zerolinecolor": "white",
           "zerolinewidth": 2
          }
         }
        }
       }
      },
      "image/png": "[encoded data removed]",
      "text/html": [
       "<div>                            <div id=\"7d440ce8-4491-4821-8af4-4462c839e5d9\" class=\"plotly-graph-div\" style=\"height:525px; width:100%;\"></div>            <script type=\"text/javascript\">                require([\"plotly\"], function(Plotly) {                    window.PLOTLYENV=window.PLOTLYENV || {};                                    if (document.getElementById(\"7d440ce8-4491-4821-8af4-4462c839e5d9\")) {                    Plotly.newPlot(                        \"7d440ce8-4491-4821-8af4-4462c839e5d9\",                        [{\"cells\":{\"align\":\"center\",\"font\":{\"color\":\"black\",\"size\":11},\"values\":[[\"Only received primary school education (finding)\",\"Only received primary school education (finding)\",\"Part-time employment (finding)\",\"Hypertension\",\"Body mass index 30+ - obesity (finding)\"],[\"Hypertension\",\"Only received primary school education (finding)\",\"Only received primary school education (finding)\",\"Only received primary school education (finding)\",\"Only received primary school education (finding)\"],[0.04545683041214943,0.04545649513602257,0.04545647775133451,0.0454564243555069,0.04545636102557182]]},\"header\":{\"align\":\"center\",\"fill\":{\"color\":\"white\"},\"font\":{\"color\":\"black\",\"size\":12},\"line\":{\"color\":\"white\"},\"values\":[\"<b>Condition1</b>\",\"<b>Condition2</b>\",\"<b>Attention</b>\"]},\"type\":\"table\"}],                        {\"template\":{\"data\":{\"histogram2dcontour\":[{\"type\":\"histogram2dcontour\",\"colorbar\":{\"outlinewidth\":0,\"ticks\":\"\"},\"colorscale\":[[0.0,\"#0d0887\"],[0.1111111111111111,\"#46039f\"],[0.2222222222222222,\"#7201a8\"],[0.3333333333333333,\"#9c179e\"],[0.4444444444444444,\"#bd3786\"],[0.5555555555555556,\"#d8576b\"],[0.6666666666666666,\"#ed7953\"],[0.7777777777777778,\"#fb9f3a\"],[0.8888888888888888,\"#fdca26\"],[1.0,\"#f0f921\"]]}],\"choropleth\":[{\"type\":\"choropleth\",\"colorbar\":{\"outlinewidth\":0,\"ticks\":\"\"}}],\"histogram2d\":[{\"type\":\"histogram2d\",\"colorbar\":{\"outlinewidth\":0,\"ticks\":\"\"},\"colorscale\":[[0.0,\"#0d0887\"],[0.1111111111111111,\"#46039f\"],[0.2222222222222222,\"#7201a8\"],[0.3333333333333333,\"#9c179e\"],[0.4444444444444444,\"#bd3786\"],[0.5555555555555556,\"#d8576b\"],[0.6666666666666666,\"#ed7953\"],[0.7777777777777778,\"#fb9f3a\"],[0.8888888888888888,\"#fdca26\"],[1.0,\"#f0f921\"]]}],\"heatmap\":[{\"type\":\"heatmap\",\"colorbar\":{\"outlinewidth\":0,\"ticks\":\"\"},\"colorscale\":[[0.0,\"#0d0887\"],[0.1111111111111111,\"#46039f\"],[0.2222222222222222,\"#7201a8\"],[0.3333333333333333,\"#9c179e\"],[0.4444444444444444,\"#bd3786\"],[0.5555555555555556,\"#d8576b\"],[0.6666666666666666,\"#ed7953\"],[0.7777777777777778,\"#fb9f3a\"],[0.8888888888888888,\"#fdca26\"],[1.0,\"#f0f921\"]]}],\"heatmapgl\":[{\"type\":\"heatmapgl\",\"colorbar\":{\"outlinewidth\":0,\"ticks\":\"\"},\"colorscale\":[[0.0,\"#0d0887\"],[0.1111111111111111,\"#46039f\"],[0.2222222222222222,\"#7201a8\"],[0.3333333333333333,\"#9c179e\"],[0.4444444444444444,\"#bd3786\"],[0.5555555555555556,\"#d8576b\"],[0.6666666666666666,\"#ed7953\"],[0.7777777777777778,\"#fb9f3a\"],[0.8888888888888888,\"#fdca26\"],[1.0,\"#f0f921\"]]}],\"contourcarpet\":[{\"type\":\"contourcarpet\",\"colorbar\":{\"outlinewidth\":0,\"ticks\":\"\"}}],\"contour\":[{\"type\":\"contour\",\"colorbar\":{\"outlinewidth\":0,\"ticks\":\"\"},\"colorscale\":[[0.0,\"#0d0887\"],[0.1111111111111111,\"#46039f\"],[0.2222222222222222,\"#7201a8\"],[0.3333333333333333,\"#9c179e\"],[0.4444444444444444,\"#bd3786\"],[0.5555555555555556,\"#d8576b\"],[0.6666666666666666,\"#ed7953\"],[0.7777777777777778,\"#fb9f3a\"],[0.8888888888888888,\"#fdca26\"],[1.0,\"#f0f921\"]]}],\"surface\":[{\"type\":\"surface\",\"colorbar\":{\"outlinewidth\":0,\"ticks\":\"\"},\"colorscale\":[[0.0,\"#0d0887\"],[0.1111111111111111,\"#46039f\"],[0.2222222222222222,\"#7201a8\"],[0.3333333333333333,\"#9c179e\"],[0.4444444444444444,\"#bd3786\"],[0.5555555555555556,\"#d8576b\"],[0.6666666666666666,\"#ed7953\"],[0.7777777777777778,\"#fb9f3a\"],[0.8888888888888888,\"#fdca26\"],[1.0,\"#f0f921\"]]}],\"mesh3d\":[{\"type\":\"mesh3d\",\"colorbar\":{\"outlinewidth\":0,\"ticks\":\"\"}}],\"scatter\":[{\"fillpattern\":{\"fillmode\":\"overlay\",\"size\":10,\"solidity\":0.2},\"type\":\"scatter\"}],\"parcoords\":[{\"type\":\"parcoords\",\"line\":{\"colorbar\":{\"outlinewidth\":0,\"ticks\":\"\"}}}],\"scatterpolargl\":[{\"type\":\"scatterpolargl\",\"marker\":{\"colorbar\":{\"outlinewidth\":0,\"ticks\":\"\"}}}],\"bar\":[{\"error_x\":{\"color\":\"#2a3f5f\"},\"error_y\":{\"color\":\"#2a3f5f\"},\"marker\":{\"line\":{\"color\":\"#E5ECF6\",\"width\":0.5},\"pattern\":{\"fillmode\":\"overlay\",\"size\":10,\"solidity\":0.2}},\"type\":\"bar\"}],\"scattergeo\":[{\"type\":\"scattergeo\",\"marker\":{\"colorbar\":{\"outlinewidth\":0,\"ticks\":\"\"}}}],\"scatterpolar\":[{\"type\":\"scatterpolar\",\"marker\":{\"colorbar\":{\"outlinewidth\":0,\"ticks\":\"\"}}}],\"histogram\":[{\"marker\":{\"pattern\":{\"fillmode\":\"overlay\",\"size\":10,\"solidity\":0.2}},\"type\":\"histogram\"}],\"scattergl\":[{\"type\":\"scattergl\",\"marker\":{\"colorbar\":{\"outlinewidth\":0,\"ticks\":\"\"}}}],\"scatter3d\":[{\"type\":\"scatter3d\",\"line\":{\"colorbar\":{\"outlinewidth\":0,\"ticks\":\"\"}},\"marker\":{\"colorbar\":{\"outlinewidth\":0,\"ticks\":\"\"}}}],\"scattermapbox\":[{\"type\":\"scattermapbox\",\"marker\":{\"colorbar\":{\"outlinewidth\":0,\"ticks\":\"\"}}}],\"scatterternary\":[{\"type\":\"scatterternary\",\"marker\":{\"colorbar\":{\"outlinewidth\":0,\"ticks\":\"\"}}}],\"scattercarpet\":[{\"type\":\"scattercarpet\",\"marker\":{\"colorbar\":{\"outlinewidth\":0,\"ticks\":\"\"}}}],\"carpet\":[{\"aaxis\":{\"endlinecolor\":\"#2a3f5f\",\"gridcolor\":\"white\",\"linecolor\":\"white\",\"minorgridcolor\":\"white\",\"startlinecolor\":\"#2a3f5f\"},\"baxis\":{\"endlinecolor\":\"#2a3f5f\",\"gridcolor\":\"white\",\"linecolor\":\"white\",\"minorgridcolor\":\"white\",\"startlinecolor\":\"#2a3f5f\"},\"type\":\"carpet\"}],\"table\":[{\"cells\":{\"fill\":{\"color\":\"#EBF0F8\"},\"line\":{\"color\":\"white\"}},\"header\":{\"fill\":{\"color\":\"#C8D4E3\"},\"line\":{\"color\":\"white\"}},\"type\":\"table\"}],\"barpolar\":[{\"marker\":{\"line\":{\"color\":\"#E5ECF6\",\"width\":0.5},\"pattern\":{\"fillmode\":\"overlay\",\"size\":10,\"solidity\":0.2}},\"type\":\"barpolar\"}],\"pie\":[{\"automargin\":true,\"type\":\"pie\"}]},\"layout\":{\"autotypenumbers\":\"strict\",\"colorway\":[\"#636efa\",\"#EF553B\",\"#00cc96\",\"#ab63fa\",\"#FFA15A\",\"#19d3f3\",\"#FF6692\",\"#B6E880\",\"#FF97FF\",\"#FECB52\"],\"font\":{\"color\":\"#2a3f5f\"},\"hovermode\":\"closest\",\"hoverlabel\":{\"align\":\"left\"},\"paper_bgcolor\":\"white\",\"plot_bgcolor\":\"#E5ECF6\",\"polar\":{\"bgcolor\":\"#E5ECF6\",\"angularaxis\":{\"gridcolor\":\"white\",\"linecolor\":\"white\",\"ticks\":\"\"},\"radialaxis\":{\"gridcolor\":\"white\",\"linecolor\":\"white\",\"ticks\":\"\"}},\"ternary\":{\"bgcolor\":\"#E5ECF6\",\"aaxis\":{\"gridcolor\":\"white\",\"linecolor\":\"white\",\"ticks\":\"\"},\"baxis\":{\"gridcolor\":\"white\",\"linecolor\":\"white\",\"ticks\":\"\"},\"caxis\":{\"gridcolor\":\"white\",\"linecolor\":\"white\",\"ticks\":\"\"}},\"coloraxis\":{\"colorbar\":{\"outlinewidth\":0,\"ticks\":\"\"}},\"colorscale\":{\"sequential\":[[0.0,\"#0d0887\"],[0.1111111111111111,\"#46039f\"],[0.2222222222222222,\"#7201a8\"],[0.3333333333333333,\"#9c179e\"],[0.4444444444444444,\"#bd3786\"],[0.5555555555555556,\"#d8576b\"],[0.6666666666666666,\"#ed7953\"],[0.7777777777777778,\"#fb9f3a\"],[0.8888888888888888,\"#fdca26\"],[1.0,\"#f0f921\"]],\"sequentialminus\":[[0.0,\"#0d0887\"],[0.1111111111111111,\"#46039f\"],[0.2222222222222222,\"#7201a8\"],[0.3333333333333333,\"#9c179e\"],[0.4444444444444444,\"#bd3786\"],[0.5555555555555556,\"#d8576b\"],[0.6666666666666666,\"#ed7953\"],[0.7777777777777778,\"#fb9f3a\"],[0.8888888888888888,\"#fdca26\"],[1.0,\"#f0f921\"]],\"diverging\":[[0,\"#8e0152\"],[0.1,\"#c51b7d\"],[0.2,\"#de77ae\"],[0.3,\"#f1b6da\"],[0.4,\"#fde0ef\"],[0.5,\"#f7f7f7\"],[0.6,\"#e6f5d0\"],[0.7,\"#b8e186\"],[0.8,\"#7fbc41\"],[0.9,\"#4d9221\"],[1,\"#276419\"]]},\"xaxis\":{\"gridcolor\":\"white\",\"linecolor\":\"white\",\"ticks\":\"\",\"title\":{\"standoff\":15},\"zerolinecolor\":\"white\",\"automargin\":true,\"zerolinewidth\":2},\"yaxis\":{\"gridcolor\":\"white\",\"linecolor\":\"white\",\"ticks\":\"\",\"title\":{\"standoff\":15},\"zerolinecolor\":\"white\",\"automargin\":true,\"zerolinewidth\":2},\"scene\":{\"xaxis\":{\"backgroundcolor\":\"#E5ECF6\",\"gridcolor\":\"white\",\"linecolor\":\"white\",\"showbackground\":true,\"ticks\":\"\",\"zerolinecolor\":\"white\",\"gridwidth\":2},\"yaxis\":{\"backgroundcolor\":\"#E5ECF6\",\"gridcolor\":\"white\",\"linecolor\":\"white\",\"showbackground\":true,\"ticks\":\"\",\"zerolinecolor\":\"white\",\"gridwidth\":2},\"zaxis\":{\"backgroundcolor\":\"#E5ECF6\",\"gridcolor\":\"white\",\"linecolor\":\"white\",\"showbackground\":true,\"ticks\":\"\",\"zerolinecolor\":\"white\",\"gridwidth\":2}},\"shapedefaults\":{\"line\":{\"color\":\"#2a3f5f\"}},\"annotationdefaults\":{\"arrowcolor\":\"#2a3f5f\",\"arrowhead\":0,\"arrowwidth\":1},\"geo\":{\"bgcolor\":\"white\",\"landcolor\":\"#E5ECF6\",\"subunitcolor\":\"white\",\"showland\":true,\"showlakes\":true,\"lakecolor\":\"white\"},\"title\":{\"x\":0.05},\"mapbox\":{\"style\":\"light\"}}}},                        {\"responsive\": true}                    ).then(function(){\n",
       "                            \n",
       "var gd = document.getElementById('7d440ce8-4491-4821-8af4-4462c839e5d9');\n",
       "var x = new MutationObserver(function (mutations, observer) {{\n",
       "        var display = window.getComputedStyle(gd).display;\n",
       "        if (!display || display === 'none') {{\n",
       "            console.log([gd, 'removed!']);\n",
       "            Plotly.purge(gd);\n",
       "            observer.disconnect();\n",
       "        }}\n",
       "}});\n",
       "\n",
       "// Listen for the removal of the full notebook cells\n",
       "var notebookContainer = gd.closest('#notebook-container');\n",
       "if (notebookContainer) {{\n",
       "    x.observe(notebookContainer, {childList: true});\n",
       "}}\n",
       "\n",
       "// Listen for the clearing of the current output cell\n",
       "var outputEl = gd.closest('.output');\n",
       "if (outputEl) {{\n",
       "    x.observe(outputEl, {childList: true});\n",
       "}}\n",
       "\n",
       "                        })                };                });            </script>        </div>"
      ]
     },
     "metadata": {},
     "output_type": "display_data"
    }
   ],
   "source": [
    "from operator import itemgetter\n",
    "finalcombs = dict([(k, v / n) for k, (v, n) in token_combs.items()])\n",
    "N = 5\n",
    "res = dict(sorted(finalcombs.items(), key = itemgetter(1), reverse = True)[:N])\n",
    "\n",
    "newrep = {'Condition1':[], 'Condition2':[], 'Attention': []}\n",
    "for key, prob in res.items():\n",
    "    code1, code2 = key.split(',')\n",
    "    \n",
    "    if code1 in diagnosmapdict:\n",
    "        code1desc = diagnosmapdict[code1]\n",
    "    elif code1 in medmapdict:\n",
    "        code1desc = medmapdict[code1]\n",
    "    else:\n",
    "      #  print(code1)\n",
    "        code1desc = procmapdict[code1]\n",
    "    \n",
    "    if code2 in diagnosmapdict:\n",
    "        code2desc = diagnosmapdict[code2]\n",
    "    elif code2 in medmapdict:\n",
    "        code2desc = medmapdict[code2]\n",
    "    else:\n",
    "        code2desc = procmapdict[int(code2)]\n",
    "        \n",
    "    newrep['Condition1'].append(code1desc)\n",
    "    newrep['Condition2'].append(code2desc)\n",
    "    newrep['Attention'].append(prob)\n",
    "df = pd.DataFrame(newrep)\n",
    "fig = go.Figure(data=[go.Table(\n",
    "  header=dict(\n",
    "    values=[\"<b>Condition1</b>\", \"<b>Condition2</b>\", \"<b>Attention</b>\"],\n",
    "    line_color='white', fill_color='white',\n",
    "    align='center', font=dict(color='black', size=12)\n",
    "  ),\n",
    "  cells=dict(\n",
    "    values=[df.Condition1, df.Condition2, df.Attention],\n",
    "    align='center', font=dict(color='black', size=11)\n",
    "  ))\n",
    "])\n",
    "\n",
    "fig.show()"
   ]
  },
  {
   "cell_type": "markdown",
   "id": "f9939197-1175-46a0-849e-bbde61c8bfcd",
   "metadata": {},
   "source": [
    "#### MIMIC"
   ]
  },
  {
   "cell_type": "markdown",
   "id": "bb49b08e-e26d-458e-af3e-54405e777bf2",
   "metadata": {
    "tags": []
   },
   "source": [
    "##### Processing"
   ]
  },
  {
   "cell_type": "code",
   "execution_count": 506,
   "id": "07f42cdd-e22b-4981-bc10-95a2cd6113ec",
   "metadata": {},
   "outputs": [],
   "source": [
    "import plotly.graph_objects as go\n",
    "import pandas as pd\n",
    "import matplotlib.pyplot as plt\n",
    "from sklearn.manifold import TSNE\n",
    "import seaborn as sns\n",
    "from sklearn.metrics import classification_report\n",
    "\n",
    "import sys\n",
    "sys.path.insert(1, '../')\n",
    "from utils.packages import *\n",
    "\n",
    "def load_model(path, model):\n",
    "    # load pretrained model and update weights\n",
    "    pretrained_dict = torch.load(path)\n",
    "    model_dict = model.state_dict()\n",
    "    # 1. filter out unnecessary keys\n",
    "    pretrained_dict = {k: v for k, v in pretrained_dict.items() if k in model_dict}\n",
    "    # 2. overwrite entries in the existing state dict\n",
    "    model_dict.update(pretrained_dict)\n",
    "    # 3. load the new state dict\n",
    "    model.load_state_dict(model_dict)\n",
    "    return model\n",
    "\n",
    "global_params = {\n",
    "    'max_seq_len': 64,\n",
    "    'gradient_accumulation_steps': 1\n",
    "}\n",
    "\n",
    "optim_param = {\n",
    "    'lr': 3e-5,\n",
    "    'warmup_proportion': 0.1,\n",
    "    'weight_decay': 0.01\n",
    "}\n",
    "\n",
    "train_params = {\n",
    "    'batch_size': 10,\n",
    "    'use_cuda': True,\n",
    "    'max_len_seq': global_params['max_seq_len'],\n",
    "    'device': 'cuda' #change this to run on cuda #'cuda:0'\n",
    "}\n",
    "\n",
    "dataset_name = 'MIMIC/'\n",
    "\n",
    "feature_types = {'diagnosis':True, 'medications':True, 'procedures':True}\n",
    "\n",
    "if (feature_types['diagnosis'] and feature_types['medications'] and not (feature_types['procedures'])):\n",
    "    print(\"Do only use diagnosis\")\n",
    "    code_voc = 'MLM_diagnosmedcodes.npy'\n",
    "    age_voc = 'MLM_age.npy'\n",
    "\n",
    "elif (feature_types['diagnosis'] and not feature_types['medications']):\n",
    "    code_voc = 'MLM_diagnoscodes.npy'\n",
    "    age_voc = 'MLM_age.npy'\n",
    "\n",
    "else:\n",
    "    code_voc = 'MLM_diagnosproccodes.npy'\n",
    "    age_voc = 'MLM_age.npy'\n",
    "\n",
    "files = {'code':'../data/vocabularies/' + dataset_name + code_voc,\n",
    "             'age':'../data/vocabularies/' + dataset_name + age_voc,\n",
    "        }\n",
    "\n",
    "tokenizer = EHRTokenizer(task='MLM', filenames=files)\n",
    "\n",
    "model_config = {\n",
    "        'vocab_size': len(tokenizer.getVoc('code').keys()), # number of disease + symbols for word embedding\n",
    "        'hidden_size': 288, #tune.choice([100, 150, 288]), #288, # word embedding and seg embedding hidden size\n",
    "        'seg_vocab_size': 2, # number of vocab for seg embedding\n",
    "        'age_vocab_size': len(tokenizer.getVoc('age').keys()), # number of vocab for age embedding,\n",
    "        'gender_vocab_size': 3,\n",
    "        'max_position_embeddings': train_params['max_len_seq'], # maximum number of tokens\n",
    "        'hidden_dropout_prob': 0.1, # dropout rate\n",
    "        'num_hidden_layers': 6, #4, # number of multi-head attention layers required\n",
    "        'num_attention_heads': 12, # number of attention heads\n",
    "        'attention_probs_dropout_prob': 0.1, # multi-head attention dropout rate\n",
    "        'intermediate_size': 512, # the size of the \"intermediate\" layer in the transformer encoder\n",
    "        'hidden_act': 'gelu', # The non-linear activation function in the encoder and the pooler \"gelu\", 'relu', 'swish' are supported\n",
    "        'initializer_range': 0.02, # parameter weight initializer range\n",
    "        'use_prior':True,\n",
    "        'reg':0.1,\n",
    "        'age':True,\n",
    "        'gender':True,\n",
    "        'epochs':20,\n",
    "    }\n",
    "\n",
    "stats_path = '../data/train_stats/MIMIC2/'\n",
    "condfiles = {'dd':stats_path + 'dd_cond_probs.empirical.p', \n",
    "             'dp':stats_path + 'dp_cond_probs.empirical.p',\n",
    "             'dm':stats_path + 'dm_cond_probs.empirical.p',\n",
    "             'pp':stats_path + 'pp_cond_probs.empirical.p', \n",
    "             'pd':stats_path + 'pd_cond_probs.empirical.p',\n",
    "             'pm':stats_path + 'pd_cond_probs.empirical.p',\n",
    "             'mm':stats_path + 'mm_cond_probs.empirical.p', \n",
    "             'md':stats_path + 'md_cond_probs.empirical.p',\n",
    "             'mp':stats_path + 'mp_cond_probs.empirical.p',\n",
    "            }"
   ]
  },
  {
   "cell_type": "code",
   "execution_count": 507,
   "id": "b08b0e7b-9ec6-4cb5-be97-cff36c85c4b6",
   "metadata": {},
   "outputs": [
    {
     "data": {
      "text/plain": [
       "'../data/datasets/MIMIC/'"
      ]
     },
     "execution_count": 507,
     "metadata": {},
     "output_type": "execute_result"
    }
   ],
   "source": [
    "path='../data/datasets/' + dataset_name\n",
    "path"
   ]
  },
  {
   "cell_type": "code",
   "execution_count": 508,
   "id": "3b678938-1b64-44f5-9319-eb0184fad232",
   "metadata": {},
   "outputs": [],
   "source": [
    "#train = pd.read_parquet(path + 'train.parquet')\n",
    "#val = pd.read_parquet(path + 'val.parquet')\n",
    "test = pd.read_parquet(path + 'test.parquet')\n",
    "#all_dataMIMIC = pd.concat([train, val, test])"
   ]
  },
  {
   "cell_type": "code",
   "execution_count": 509,
   "id": "296d16a6-ca6b-4662-a936-bc18c84d3075",
   "metadata": {},
   "outputs": [],
   "source": [
    "mimicdiagcodes = pd.read_excel(\"../data/mapping_data/MIMIC/findccsrcodes.xlsx\", 'CCSR_Categories').rename(columns={'Searchable list of CCSR categories, v2022.1':'CODE', 'Unnamed: 1':'DESCRIPTION'})\n",
    "mimicdiagcodes['CODE'] = mimicdiagcodes['CODE'].apply(lambda x: str(x))\n",
    "\n",
    "mimicmeds = pd.read_csv(\"../data/mapping_data/MIMIC/ndc_descriptions.csv\").rename(columns={'Unnamed: 0':'CODE', '0':'DESCRIPTION'})\n",
    "mimicmeds['CODE'] = mimicmeds['CODE'].apply(lambda x: int(x))\n",
    "\n",
    "mimicprocs = pd.read_csv(\"../data/mapping_data/MIMIC/PRCCSR.CSV\").rename(columns={\"'PRCCSR'\":'CODE', \"'PRCCSR DESCRIPTION'\":'DESCRIPTION'})\n",
    "mimicprocs['CODE'] = mimicprocs['CODE'].apply(lambda x: str(x.replace(\"'\", \"\")))"
   ]
  },
  {
   "cell_type": "code",
   "execution_count": 510,
   "id": "3aed013d-4725-46f4-927e-1aa8741b19ab",
   "metadata": {},
   "outputs": [],
   "source": [
    "mimicdiagcodesdict = dict(zip(mimicdiagcodes.CODE,mimicdiagcodes.DESCRIPTION))\n",
    "mimicmedsdict = dict(zip(mimicmeds.CODE,mimicmeds.DESCRIPTION))\n",
    "mimicprocdict = dict(zip(mimicprocs.CODE,mimicprocs.DESCRIPTION))"
   ]
  },
  {
   "cell_type": "code",
   "execution_count": 511,
   "id": "10f7a75f-9141-4c70-9c39-eebfb39136de",
   "metadata": {},
   "outputs": [],
   "source": [
    "mimichypercodes = mimicdiagcodes[mimicdiagcodes['DESCRIPTION'].str.contains('Hypertension|hypertension')]['CODE'].tolist()"
   ]
  },
  {
   "cell_type": "code",
   "execution_count": 514,
   "id": "af68c8f5-40f2-441b-9ef1-1ba87383b2b2",
   "metadata": {},
   "outputs": [],
   "source": [
    "test['diag_flatten'] = test['diagnos_code'].apply(lambda x: np.concatenate(x))\n",
    "test['hypercode'] = test['diag_flatten'].apply(lambda x: True if [xx for xx in x if xx in mimichypercodes ] != [] else False)\n",
    "hypertensionpatientsMIMIC = test[(test['hypercode'] == True)]"
   ]
  },
  {
   "cell_type": "code",
   "execution_count": 516,
   "id": "531ccba2-a5bf-4193-9cb9-3a4312f7760e",
   "metadata": {},
   "outputs": [
    {
     "name": "stdout",
     "output_type": "stream",
     "text": [
      "Use diagnosis: True\n",
      "Use medications: True\n",
      "Use procedures: True\n",
      "Transforming data\n",
      "Saving data\n"
     ]
    }
   ],
   "source": [
    "folderpath = '../data/pytorch_datasets/' + dataset_name\n",
    "mimicdataset = EHRDataset(hypertensionpatientsMIMIC, max_len=train_params['max_len_seq'], run_type='Hypertension_MIMIC', save_folder=folderpath,feature_types=feature_types, conditional_files=condfiles, tokenizer=tokenizer)\n",
    "mimicloader = torch.utils.data.DataLoader(mimicdataset, batch_size=1, pin_memory=True, shuffle=True)"
   ]
  },
  {
   "cell_type": "code",
   "execution_count": 521,
   "id": "aac0f0b2-7a7a-42e5-9c02-b2f35538f8b7",
   "metadata": {},
   "outputs": [
    {
     "name": "stderr",
     "output_type": "stream",
     "text": [
      "t_total value of -1 results in schedule not being applied\n"
     ]
    }
   ],
   "source": [
    "conf = BertConfig(model_config)\n",
    "model = BertForMaskedLM(conf)\n",
    "PATH = \"../saved_models/MLM/CondBEHRT_mimic\"\n",
    "model = load_model(PATH, model)\n",
    "params = list(model.named_parameters())\n",
    "optim = adam(params, optim_param)"
   ]
  },
  {
   "cell_type": "markdown",
   "id": "df131785-4440-4725-9dde-887bcee04da6",
   "metadata": {},
   "source": [
    "##### Example"
   ]
  },
  {
   "cell_type": "code",
   "execution_count": 539,
   "id": "7d66316a-84c0-4c28-bb6c-aba755c2085c",
   "metadata": {},
   "outputs": [],
   "source": [
    "iterr = iter(mimicloader)"
   ]
  },
  {
   "cell_type": "code",
   "execution_count": 665,
   "id": "737c8e65-880c-46cb-b877-57baa8e7803f",
   "metadata": {},
   "outputs": [
    {
     "data": {
      "image/png": "[encoded data removed]",
      "text/plain": [
       "<Figure size 720x720 with 2 Axes>"
      ]
     },
     "metadata": {
      "needs_background": "light"
     },
     "output_type": "display_data"
    }
   ],
   "source": [
    "with torch.no_grad():\n",
    "    model.eval()\n",
    "    datapoint = next(iterr)\n",
    "    age, gender, code, position, segment, mask, label, prior_guide, tokens = datapoint\n",
    "\n",
    "    loss, preds, labels, attention_scores, sequence_outputs = model(code, age_ids=age, gender_ids=gender, seg_ids=segment, posi_ids=position, attention_mask=mask, labels=label, prior_guide=prior_guide)\n",
    "    sentence = tokenizer.convert_ids_to_tokens(tokens.numpy().squeeze(), 'code')\n",
    "    lastatt = attention_scores[-1]\n",
    "    averagedlastatt = ((lastatt.sum(dim=1) / lastatt.shape[1])[0]).detach().numpy()\n",
    "    sentence_conv = []\n",
    "    vistn = 1\n",
    "    for s in sentence:\n",
    "        \n",
    "        if s == '[SEP]':\n",
    "            vistn+=1\n",
    "            sentence_conv.append(s)\n",
    "            continue\n",
    "        if vistn == 3:\n",
    "            break\n",
    "            \n",
    "        if s == '[CLS]' or s == '[SEP]':\n",
    "            sentence_conv.append(s)\n",
    "            continue\n",
    "        \n",
    "        if s =='[PAD]':\n",
    "            #sentence_conv.append(s)\n",
    "            continue\n",
    "            \n",
    "        if s in mimicdiagcodesdict:\n",
    "            sentence_conv.append(mimicdiagcodesdict[s])\n",
    "            \n",
    "        elif s in mimicprocdict:\n",
    "            sentence_conv.append(mimicprocdict[s])\n",
    "            \n",
    "        elif int(s) in mimicmedsdict:\n",
    "            sentence_conv.append(mimicmedsdict[int(s)])\n",
    "        else:\n",
    "            sentence_conv.append(s)\n",
    "            \n",
    "f, ax = plt.subplots(figsize = (10,10))\n",
    "map1 = averagedlastatt #lastatt[0][1].detach().numpy() #((layer.sum(dim=1) / layer.shape[1])[0]).detach().numpy()\n",
    "map1 = map1[:len(sentence_conv), :len(sentence_conv)]\n",
    "plt.clf()\n",
    "ax = f.add_subplot(1,1,1)\n",
    "#i=ax.imshow(map1,interpolation='nearest',cmap='gray')\n",
    "sns.heatmap(map1, annot=False, linewidths=1, fmt=\"f\", ax=ax, xticklabels = sentence_conv, yticklabels = sentence_conv, vmax=map1.max(), vmin=map1.min(), cmap='gray')\n",
    "ax.set_yticks(range(len(sentence_conv)))\n",
    "ax.set_yticklabels(sentence_conv, fontsize=15)\n",
    "ax.set_xticks(range(len(sentence_conv)))\n",
    "ax.set_xticklabels(sentence_conv,rotation=90, fontsize=15)\n",
    "ax.set_xlabel('key', fontsize=15)\n",
    "ax.set_ylabel('query', fontsize=15)\n",
    "ax.grid(linewidth = 1)"
   ]
  },
  {
   "cell_type": "markdown",
   "id": "ee4e89cd-80ad-4d3e-9f27-726a3ff1382f",
   "metadata": {},
   "source": [
    "##### Average Attentions"
   ]
  },
  {
   "cell_type": "code",
   "execution_count": 405,
   "id": "c5b6f13e-a5f5-4348-9003-1abace4d9a6b",
   "metadata": {},
   "outputs": [],
   "source": [
    "token_combs = {}\n",
    "with torch.no_grad():\n",
    "    model.eval()\n",
    "    for idx, batch in enumerate(mimicloader):\n",
    "        #if idx == 5000:\n",
    "         #   break\n",
    "        age, gender, code, position, segment, mask, label, prior_guide, tokens = batch\n",
    "        loss, preds, labels, attention_scores, sequence_outputs = model(code, age_ids=age, gender_ids=gender, seg_ids=segment, posi_ids=position, attention_mask=mask, labels=label, prior_guide=prior_guide)\n",
    "        sentence = tokenizer.convert_ids_to_tokens(tokens.numpy().squeeze(), 'code')\n",
    "        seq_out = sequence_outputs[-1]\n",
    "        lastattentionscores = attention_scores[-1]\n",
    "        \n",
    "        averagedheads = (lastattentionscores.sum(dim=1) / lastattentionscores.shape[1])[0]\n",
    "        \n",
    "        dontlookattokens = set(['[CLS]', '[SEP]', '[PAD]'])\n",
    "        for idx1, token1 in enumerate(sentence):\n",
    "            if token1 in dontlookattokens:\n",
    "                continue\n",
    "            for idx2, token2 in enumerate(sentence):\n",
    "                if token2 in dontlookattokens:\n",
    "                    continue\n",
    "                comb = token1 + ',' + token2\n",
    "                prob = averagedheads[idx1, idx2]\n",
    "                if comb not in token_combs:\n",
    "                    token_combs[comb] = (prob.item(), 1)\n",
    "                else:\n",
    "                    new_prob = prob.item() + token_combs[comb][0]\n",
    "                    numtimes = token_combs[comb][1] + 1\n",
    "                    token_combs[comb] = (new_prob, numtimes)\n",
    "        #seq = torch.cat((seq, seq_out), 0)"
   ]
  },
  {
   "cell_type": "code",
   "execution_count": 411,
   "id": "b9485d75-3a7a-4261-a437-743988eed26c",
   "metadata": {},
   "outputs": [
    {
     "data": {
      "application/vnd.plotly.v1+json": {
       "config": {
        "plotlyServerURL": "https://plot.ly"
       },
       "data": [
        {
         "cells": {
          "align": "center",
          "font": {
           "color": "black",
           "size": 11
          },
          "values": [
           [
            "Carbamazepine",
            "Carbamazepine",
            "Essential hypertension",
            "Pulmonary heart disease",
            "GlyBURIDE"
           ],
           [
            "Essential hypertension",
            "Carbamazepine",
            "Carbamazepine",
            "Lisinopril",
            "Lisinopril"
           ],
           [
            0.09761913791298867,
            0.09761901050806046,
            0.09761899933218957,
            0.09090925008058548,
            0.09090925008058548
           ]
          ]
         },
         "header": {
          "align": "center",
          "fill": {
           "color": "white"
          },
          "font": {
           "color": "black",
           "size": 12
          },
          "line": {
           "color": "white"
          },
          "values": [
           "<b>Condition1</b>",
           "<b>Condition2</b>",
           "<b>Attention</b>"
          ]
         },
         "type": "table"
        }
       ],
       "layout": {
        "autosize": true,
        "template": {
         "data": {
          "bar": [
           {
            "error_x": {
             "color": "#2a3f5f"
            },
            "error_y": {
             "color": "#2a3f5f"
            },
            "marker": {
             "line": {
              "color": "#E5ECF6",
              "width": 0.5
             },
             "pattern": {
              "fillmode": "overlay",
              "size": 10,
              "solidity": 0.2
             }
            },
            "type": "bar"
           }
          ],
          "barpolar": [
           {
            "marker": {
             "line": {
              "color": "#E5ECF6",
              "width": 0.5
             },
             "pattern": {
              "fillmode": "overlay",
              "size": 10,
              "solidity": 0.2
             }
            },
            "type": "barpolar"
           }
          ],
          "carpet": [
           {
            "aaxis": {
             "endlinecolor": "#2a3f5f",
             "gridcolor": "white",
             "linecolor": "white",
             "minorgridcolor": "white",
             "startlinecolor": "#2a3f5f"
            },
            "baxis": {
             "endlinecolor": "#2a3f5f",
             "gridcolor": "white",
             "linecolor": "white",
             "minorgridcolor": "white",
             "startlinecolor": "#2a3f5f"
            },
            "type": "carpet"
           }
          ],
          "choropleth": [
           {
            "colorbar": {
             "outlinewidth": 0,
             "ticks": ""
            },
            "type": "choropleth"
           }
          ],
          "contour": [
           {
            "colorbar": {
             "outlinewidth": 0,
             "ticks": ""
            },
            "colorscale": [
             [
              0,
              "#0d0887"
             ],
             [
              0.1111111111111111,
              "#46039f"
             ],
             [
              0.2222222222222222,
              "#7201a8"
             ],
             [
              0.3333333333333333,
              "#9c179e"
             ],
             [
              0.4444444444444444,
              "#bd3786"
             ],
             [
              0.5555555555555556,
              "#d8576b"
             ],
             [
              0.6666666666666666,
              "#ed7953"
             ],
             [
              0.7777777777777778,
              "#fb9f3a"
             ],
             [
              0.8888888888888888,
              "#fdca26"
             ],
             [
              1,
              "#f0f921"
             ]
            ],
            "type": "contour"
           }
          ],
          "contourcarpet": [
           {
            "colorbar": {
             "outlinewidth": 0,
             "ticks": ""
            },
            "type": "contourcarpet"
           }
          ],
          "heatmap": [
           {
            "colorbar": {
             "outlinewidth": 0,
             "ticks": ""
            },
            "colorscale": [
             [
              0,
              "#0d0887"
             ],
             [
              0.1111111111111111,
              "#46039f"
             ],
             [
              0.2222222222222222,
              "#7201a8"
             ],
             [
              0.3333333333333333,
              "#9c179e"
             ],
             [
              0.4444444444444444,
              "#bd3786"
             ],
             [
              0.5555555555555556,
              "#d8576b"
             ],
             [
              0.6666666666666666,
              "#ed7953"
             ],
             [
              0.7777777777777778,
              "#fb9f3a"
             ],
             [
              0.8888888888888888,
              "#fdca26"
             ],
             [
              1,
              "#f0f921"
             ]
            ],
            "type": "heatmap"
           }
          ],
          "heatmapgl": [
           {
            "colorbar": {
             "outlinewidth": 0,
             "ticks": ""
            },
            "colorscale": [
             [
              0,
              "#0d0887"
             ],
             [
              0.1111111111111111,
              "#46039f"
             ],
             [
              0.2222222222222222,
              "#7201a8"
             ],
             [
              0.3333333333333333,
              "#9c179e"
             ],
             [
              0.4444444444444444,
              "#bd3786"
             ],
             [
              0.5555555555555556,
              "#d8576b"
             ],
             [
              0.6666666666666666,
              "#ed7953"
             ],
             [
              0.7777777777777778,
              "#fb9f3a"
             ],
             [
              0.8888888888888888,
              "#fdca26"
             ],
             [
              1,
              "#f0f921"
             ]
            ],
            "type": "heatmapgl"
           }
          ],
          "histogram": [
           {
            "marker": {
             "pattern": {
              "fillmode": "overlay",
              "size": 10,
              "solidity": 0.2
             }
            },
            "type": "histogram"
           }
          ],
          "histogram2d": [
           {
            "colorbar": {
             "outlinewidth": 0,
             "ticks": ""
            },
            "colorscale": [
             [
              0,
              "#0d0887"
             ],
             [
              0.1111111111111111,
              "#46039f"
             ],
             [
              0.2222222222222222,
              "#7201a8"
             ],
             [
              0.3333333333333333,
              "#9c179e"
             ],
             [
              0.4444444444444444,
              "#bd3786"
             ],
             [
              0.5555555555555556,
              "#d8576b"
             ],
             [
              0.6666666666666666,
              "#ed7953"
             ],
             [
              0.7777777777777778,
              "#fb9f3a"
             ],
             [
              0.8888888888888888,
              "#fdca26"
             ],
             [
              1,
              "#f0f921"
             ]
            ],
            "type": "histogram2d"
           }
          ],
          "histogram2dcontour": [
           {
            "colorbar": {
             "outlinewidth": 0,
             "ticks": ""
            },
            "colorscale": [
             [
              0,
              "#0d0887"
             ],
             [
              0.1111111111111111,
              "#46039f"
             ],
             [
              0.2222222222222222,
              "#7201a8"
             ],
             [
              0.3333333333333333,
              "#9c179e"
             ],
             [
              0.4444444444444444,
              "#bd3786"
             ],
             [
              0.5555555555555556,
              "#d8576b"
             ],
             [
              0.6666666666666666,
              "#ed7953"
             ],
             [
              0.7777777777777778,
              "#fb9f3a"
             ],
             [
              0.8888888888888888,
              "#fdca26"
             ],
             [
              1,
              "#f0f921"
             ]
            ],
            "type": "histogram2dcontour"
           }
          ],
          "mesh3d": [
           {
            "colorbar": {
             "outlinewidth": 0,
             "ticks": ""
            },
            "type": "mesh3d"
           }
          ],
          "parcoords": [
           {
            "line": {
             "colorbar": {
              "outlinewidth": 0,
              "ticks": ""
             }
            },
            "type": "parcoords"
           }
          ],
          "pie": [
           {
            "automargin": true,
            "type": "pie"
           }
          ],
          "scatter": [
           {
            "fillpattern": {
             "fillmode": "overlay",
             "size": 10,
             "solidity": 0.2
            },
            "type": "scatter"
           }
          ],
          "scatter3d": [
           {
            "line": {
             "colorbar": {
              "outlinewidth": 0,
              "ticks": ""
             }
            },
            "marker": {
             "colorbar": {
              "outlinewidth": 0,
              "ticks": ""
             }
            },
            "type": "scatter3d"
           }
          ],
          "scattercarpet": [
           {
            "marker": {
             "colorbar": {
              "outlinewidth": 0,
              "ticks": ""
             }
            },
            "type": "scattercarpet"
           }
          ],
          "scattergeo": [
           {
            "marker": {
             "colorbar": {
              "outlinewidth": 0,
              "ticks": ""
             }
            },
            "type": "scattergeo"
           }
          ],
          "scattergl": [
           {
            "marker": {
             "colorbar": {
              "outlinewidth": 0,
              "ticks": ""
             }
            },
            "type": "scattergl"
           }
          ],
          "scattermapbox": [
           {
            "marker": {
             "colorbar": {
              "outlinewidth": 0,
              "ticks": ""
             }
            },
            "type": "scattermapbox"
           }
          ],
          "scatterpolar": [
           {
            "marker": {
             "colorbar": {
              "outlinewidth": 0,
              "ticks": ""
             }
            },
            "type": "scatterpolar"
           }
          ],
          "scatterpolargl": [
           {
            "marker": {
             "colorbar": {
              "outlinewidth": 0,
              "ticks": ""
             }
            },
            "type": "scatterpolargl"
           }
          ],
          "scatterternary": [
           {
            "marker": {
             "colorbar": {
              "outlinewidth": 0,
              "ticks": ""
             }
            },
            "type": "scatterternary"
           }
          ],
          "surface": [
           {
            "colorbar": {
             "outlinewidth": 0,
             "ticks": ""
            },
            "colorscale": [
             [
              0,
              "#0d0887"
             ],
             [
              0.1111111111111111,
              "#46039f"
             ],
             [
              0.2222222222222222,
              "#7201a8"
             ],
             [
              0.3333333333333333,
              "#9c179e"
             ],
             [
              0.4444444444444444,
              "#bd3786"
             ],
             [
              0.5555555555555556,
              "#d8576b"
             ],
             [
              0.6666666666666666,
              "#ed7953"
             ],
             [
              0.7777777777777778,
              "#fb9f3a"
             ],
             [
              0.8888888888888888,
              "#fdca26"
             ],
             [
              1,
              "#f0f921"
             ]
            ],
            "type": "surface"
           }
          ],
          "table": [
           {
            "cells": {
             "fill": {
              "color": "#EBF0F8"
             },
             "line": {
              "color": "white"
             }
            },
            "header": {
             "fill": {
              "color": "#C8D4E3"
             },
             "line": {
              "color": "white"
             }
            },
            "type": "table"
           }
          ]
         },
         "layout": {
          "annotationdefaults": {
           "arrowcolor": "#2a3f5f",
           "arrowhead": 0,
           "arrowwidth": 1
          },
          "autotypenumbers": "strict",
          "coloraxis": {
           "colorbar": {
            "outlinewidth": 0,
            "ticks": ""
           }
          },
          "colorscale": {
           "diverging": [
            [
             0,
             "#8e0152"
            ],
            [
             0.1,
             "#c51b7d"
            ],
            [
             0.2,
             "#de77ae"
            ],
            [
             0.3,
             "#f1b6da"
            ],
            [
             0.4,
             "#fde0ef"
            ],
            [
             0.5,
             "#f7f7f7"
            ],
            [
             0.6,
             "#e6f5d0"
            ],
            [
             0.7,
             "#b8e186"
            ],
            [
             0.8,
             "#7fbc41"
            ],
            [
             0.9,
             "#4d9221"
            ],
            [
             1,
             "#276419"
            ]
           ],
           "sequential": [
            [
             0,
             "#0d0887"
            ],
            [
             0.1111111111111111,
             "#46039f"
            ],
            [
             0.2222222222222222,
             "#7201a8"
            ],
            [
             0.3333333333333333,
             "#9c179e"
            ],
            [
             0.4444444444444444,
             "#bd3786"
            ],
            [
             0.5555555555555556,
             "#d8576b"
            ],
            [
             0.6666666666666666,
             "#ed7953"
            ],
            [
             0.7777777777777778,
             "#fb9f3a"
            ],
            [
             0.8888888888888888,
             "#fdca26"
            ],
            [
             1,
             "#f0f921"
            ]
           ],
           "sequentialminus": [
            [
             0,
             "#0d0887"
            ],
            [
             0.1111111111111111,
             "#46039f"
            ],
            [
             0.2222222222222222,
             "#7201a8"
            ],
            [
             0.3333333333333333,
             "#9c179e"
            ],
            [
             0.4444444444444444,
             "#bd3786"
            ],
            [
             0.5555555555555556,
             "#d8576b"
            ],
            [
             0.6666666666666666,
             "#ed7953"
            ],
            [
             0.7777777777777778,
             "#fb9f3a"
            ],
            [
             0.8888888888888888,
             "#fdca26"
            ],
            [
             1,
             "#f0f921"
            ]
           ]
          },
          "colorway": [
           "#636efa",
           "#EF553B",
           "#00cc96",
           "#ab63fa",
           "#FFA15A",
           "#19d3f3",
           "#FF6692",
           "#B6E880",
           "#FF97FF",
           "#FECB52"
          ],
          "font": {
           "color": "#2a3f5f"
          },
          "geo": {
           "bgcolor": "white",
           "lakecolor": "white",
           "landcolor": "#E5ECF6",
           "showlakes": true,
           "showland": true,
           "subunitcolor": "white"
          },
          "hoverlabel": {
           "align": "left"
          },
          "hovermode": "closest",
          "mapbox": {
           "style": "light"
          },
          "paper_bgcolor": "white",
          "plot_bgcolor": "#E5ECF6",
          "polar": {
           "angularaxis": {
            "gridcolor": "white",
            "linecolor": "white",
            "ticks": ""
           },
           "bgcolor": "#E5ECF6",
           "radialaxis": {
            "gridcolor": "white",
            "linecolor": "white",
            "ticks": ""
           }
          },
          "scene": {
           "xaxis": {
            "backgroundcolor": "#E5ECF6",
            "gridcolor": "white",
            "gridwidth": 2,
            "linecolor": "white",
            "showbackground": true,
            "ticks": "",
            "zerolinecolor": "white"
           },
           "yaxis": {
            "backgroundcolor": "#E5ECF6",
            "gridcolor": "white",
            "gridwidth": 2,
            "linecolor": "white",
            "showbackground": true,
            "ticks": "",
            "zerolinecolor": "white"
           },
           "zaxis": {
            "backgroundcolor": "#E5ECF6",
            "gridcolor": "white",
            "gridwidth": 2,
            "linecolor": "white",
            "showbackground": true,
            "ticks": "",
            "zerolinecolor": "white"
           }
          },
          "shapedefaults": {
           "line": {
            "color": "#2a3f5f"
           }
          },
          "ternary": {
           "aaxis": {
            "gridcolor": "white",
            "linecolor": "white",
            "ticks": ""
           },
           "baxis": {
            "gridcolor": "white",
            "linecolor": "white",
            "ticks": ""
           },
           "bgcolor": "#E5ECF6",
           "caxis": {
            "gridcolor": "white",
            "linecolor": "white",
            "ticks": ""
           }
          },
          "title": {
           "x": 0.05
          },
          "xaxis": {
           "automargin": true,
           "gridcolor": "white",
           "linecolor": "white",
           "ticks": "",
           "title": {
            "standoff": 15
           },
           "zerolinecolor": "white",
           "zerolinewidth": 2
          },
          "yaxis": {
           "automargin": true,
           "gridcolor": "white",
           "linecolor": "white",
           "ticks": "",
           "title": {
            "standoff": 15
           },
           "zerolinecolor": "white",
           "zerolinewidth": 2
          }
         }
        }
       }
      },
      "image/png": "[encoded data removed]",
      "text/html": [
       "<div>                            <div id=\"f6c8b4dd-9c91-4cf8-b2fa-c0dc0f84de6c\" class=\"plotly-graph-div\" style=\"height:525px; width:100%;\"></div>            <script type=\"text/javascript\">                require([\"plotly\"], function(Plotly) {                    window.PLOTLYENV=window.PLOTLYENV || {};                                    if (document.getElementById(\"f6c8b4dd-9c91-4cf8-b2fa-c0dc0f84de6c\")) {                    Plotly.newPlot(                        \"f6c8b4dd-9c91-4cf8-b2fa-c0dc0f84de6c\",                        [{\"cells\":{\"align\":\"center\",\"font\":{\"color\":\"black\",\"size\":11},\"values\":[[\"Carbamazepine\",\"Carbamazepine\",\"Essential hypertension\",\"Pulmonary heart disease\",\"GlyBURIDE\"],[\"Essential hypertension\",\"Carbamazepine\",\"Carbamazepine\",\"Lisinopril\",\"Lisinopril\"],[0.09761913791298867,0.09761901050806046,0.09761899933218957,0.09090925008058548,0.09090925008058548]]},\"header\":{\"align\":\"center\",\"fill\":{\"color\":\"white\"},\"font\":{\"color\":\"black\",\"size\":12},\"line\":{\"color\":\"white\"},\"values\":[\"<b>Condition1</b>\",\"<b>Condition2</b>\",\"<b>Attention</b>\"]},\"type\":\"table\"}],                        {\"template\":{\"data\":{\"histogram2dcontour\":[{\"type\":\"histogram2dcontour\",\"colorbar\":{\"outlinewidth\":0,\"ticks\":\"\"},\"colorscale\":[[0.0,\"#0d0887\"],[0.1111111111111111,\"#46039f\"],[0.2222222222222222,\"#7201a8\"],[0.3333333333333333,\"#9c179e\"],[0.4444444444444444,\"#bd3786\"],[0.5555555555555556,\"#d8576b\"],[0.6666666666666666,\"#ed7953\"],[0.7777777777777778,\"#fb9f3a\"],[0.8888888888888888,\"#fdca26\"],[1.0,\"#f0f921\"]]}],\"choropleth\":[{\"type\":\"choropleth\",\"colorbar\":{\"outlinewidth\":0,\"ticks\":\"\"}}],\"histogram2d\":[{\"type\":\"histogram2d\",\"colorbar\":{\"outlinewidth\":0,\"ticks\":\"\"},\"colorscale\":[[0.0,\"#0d0887\"],[0.1111111111111111,\"#46039f\"],[0.2222222222222222,\"#7201a8\"],[0.3333333333333333,\"#9c179e\"],[0.4444444444444444,\"#bd3786\"],[0.5555555555555556,\"#d8576b\"],[0.6666666666666666,\"#ed7953\"],[0.7777777777777778,\"#fb9f3a\"],[0.8888888888888888,\"#fdca26\"],[1.0,\"#f0f921\"]]}],\"heatmap\":[{\"type\":\"heatmap\",\"colorbar\":{\"outlinewidth\":0,\"ticks\":\"\"},\"colorscale\":[[0.0,\"#0d0887\"],[0.1111111111111111,\"#46039f\"],[0.2222222222222222,\"#7201a8\"],[0.3333333333333333,\"#9c179e\"],[0.4444444444444444,\"#bd3786\"],[0.5555555555555556,\"#d8576b\"],[0.6666666666666666,\"#ed7953\"],[0.7777777777777778,\"#fb9f3a\"],[0.8888888888888888,\"#fdca26\"],[1.0,\"#f0f921\"]]}],\"heatmapgl\":[{\"type\":\"heatmapgl\",\"colorbar\":{\"outlinewidth\":0,\"ticks\":\"\"},\"colorscale\":[[0.0,\"#0d0887\"],[0.1111111111111111,\"#46039f\"],[0.2222222222222222,\"#7201a8\"],[0.3333333333333333,\"#9c179e\"],[0.4444444444444444,\"#bd3786\"],[0.5555555555555556,\"#d8576b\"],[0.6666666666666666,\"#ed7953\"],[0.7777777777777778,\"#fb9f3a\"],[0.8888888888888888,\"#fdca26\"],[1.0,\"#f0f921\"]]}],\"contourcarpet\":[{\"type\":\"contourcarpet\",\"colorbar\":{\"outlinewidth\":0,\"ticks\":\"\"}}],\"contour\":[{\"type\":\"contour\",\"colorbar\":{\"outlinewidth\":0,\"ticks\":\"\"},\"colorscale\":[[0.0,\"#0d0887\"],[0.1111111111111111,\"#46039f\"],[0.2222222222222222,\"#7201a8\"],[0.3333333333333333,\"#9c179e\"],[0.4444444444444444,\"#bd3786\"],[0.5555555555555556,\"#d8576b\"],[0.6666666666666666,\"#ed7953\"],[0.7777777777777778,\"#fb9f3a\"],[0.8888888888888888,\"#fdca26\"],[1.0,\"#f0f921\"]]}],\"surface\":[{\"type\":\"surface\",\"colorbar\":{\"outlinewidth\":0,\"ticks\":\"\"},\"colorscale\":[[0.0,\"#0d0887\"],[0.1111111111111111,\"#46039f\"],[0.2222222222222222,\"#7201a8\"],[0.3333333333333333,\"#9c179e\"],[0.4444444444444444,\"#bd3786\"],[0.5555555555555556,\"#d8576b\"],[0.6666666666666666,\"#ed7953\"],[0.7777777777777778,\"#fb9f3a\"],[0.8888888888888888,\"#fdca26\"],[1.0,\"#f0f921\"]]}],\"mesh3d\":[{\"type\":\"mesh3d\",\"colorbar\":{\"outlinewidth\":0,\"ticks\":\"\"}}],\"scatter\":[{\"fillpattern\":{\"fillmode\":\"overlay\",\"size\":10,\"solidity\":0.2},\"type\":\"scatter\"}],\"parcoords\":[{\"type\":\"parcoords\",\"line\":{\"colorbar\":{\"outlinewidth\":0,\"ticks\":\"\"}}}],\"scatterpolargl\":[{\"type\":\"scatterpolargl\",\"marker\":{\"colorbar\":{\"outlinewidth\":0,\"ticks\":\"\"}}}],\"bar\":[{\"error_x\":{\"color\":\"#2a3f5f\"},\"error_y\":{\"color\":\"#2a3f5f\"},\"marker\":{\"line\":{\"color\":\"#E5ECF6\",\"width\":0.5},\"pattern\":{\"fillmode\":\"overlay\",\"size\":10,\"solidity\":0.2}},\"type\":\"bar\"}],\"scattergeo\":[{\"type\":\"scattergeo\",\"marker\":{\"colorbar\":{\"outlinewidth\":0,\"ticks\":\"\"}}}],\"scatterpolar\":[{\"type\":\"scatterpolar\",\"marker\":{\"colorbar\":{\"outlinewidth\":0,\"ticks\":\"\"}}}],\"histogram\":[{\"marker\":{\"pattern\":{\"fillmode\":\"overlay\",\"size\":10,\"solidity\":0.2}},\"type\":\"histogram\"}],\"scattergl\":[{\"type\":\"scattergl\",\"marker\":{\"colorbar\":{\"outlinewidth\":0,\"ticks\":\"\"}}}],\"scatter3d\":[{\"type\":\"scatter3d\",\"line\":{\"colorbar\":{\"outlinewidth\":0,\"ticks\":\"\"}},\"marker\":{\"colorbar\":{\"outlinewidth\":0,\"ticks\":\"\"}}}],\"scattermapbox\":[{\"type\":\"scattermapbox\",\"marker\":{\"colorbar\":{\"outlinewidth\":0,\"ticks\":\"\"}}}],\"scatterternary\":[{\"type\":\"scatterternary\",\"marker\":{\"colorbar\":{\"outlinewidth\":0,\"ticks\":\"\"}}}],\"scattercarpet\":[{\"type\":\"scattercarpet\",\"marker\":{\"colorbar\":{\"outlinewidth\":0,\"ticks\":\"\"}}}],\"carpet\":[{\"aaxis\":{\"endlinecolor\":\"#2a3f5f\",\"gridcolor\":\"white\",\"linecolor\":\"white\",\"minorgridcolor\":\"white\",\"startlinecolor\":\"#2a3f5f\"},\"baxis\":{\"endlinecolor\":\"#2a3f5f\",\"gridcolor\":\"white\",\"linecolor\":\"white\",\"minorgridcolor\":\"white\",\"startlinecolor\":\"#2a3f5f\"},\"type\":\"carpet\"}],\"table\":[{\"cells\":{\"fill\":{\"color\":\"#EBF0F8\"},\"line\":{\"color\":\"white\"}},\"header\":{\"fill\":{\"color\":\"#C8D4E3\"},\"line\":{\"color\":\"white\"}},\"type\":\"table\"}],\"barpolar\":[{\"marker\":{\"line\":{\"color\":\"#E5ECF6\",\"width\":0.5},\"pattern\":{\"fillmode\":\"overlay\",\"size\":10,\"solidity\":0.2}},\"type\":\"barpolar\"}],\"pie\":[{\"automargin\":true,\"type\":\"pie\"}]},\"layout\":{\"autotypenumbers\":\"strict\",\"colorway\":[\"#636efa\",\"#EF553B\",\"#00cc96\",\"#ab63fa\",\"#FFA15A\",\"#19d3f3\",\"#FF6692\",\"#B6E880\",\"#FF97FF\",\"#FECB52\"],\"font\":{\"color\":\"#2a3f5f\"},\"hovermode\":\"closest\",\"hoverlabel\":{\"align\":\"left\"},\"paper_bgcolor\":\"white\",\"plot_bgcolor\":\"#E5ECF6\",\"polar\":{\"bgcolor\":\"#E5ECF6\",\"angularaxis\":{\"gridcolor\":\"white\",\"linecolor\":\"white\",\"ticks\":\"\"},\"radialaxis\":{\"gridcolor\":\"white\",\"linecolor\":\"white\",\"ticks\":\"\"}},\"ternary\":{\"bgcolor\":\"#E5ECF6\",\"aaxis\":{\"gridcolor\":\"white\",\"linecolor\":\"white\",\"ticks\":\"\"},\"baxis\":{\"gridcolor\":\"white\",\"linecolor\":\"white\",\"ticks\":\"\"},\"caxis\":{\"gridcolor\":\"white\",\"linecolor\":\"white\",\"ticks\":\"\"}},\"coloraxis\":{\"colorbar\":{\"outlinewidth\":0,\"ticks\":\"\"}},\"colorscale\":{\"sequential\":[[0.0,\"#0d0887\"],[0.1111111111111111,\"#46039f\"],[0.2222222222222222,\"#7201a8\"],[0.3333333333333333,\"#9c179e\"],[0.4444444444444444,\"#bd3786\"],[0.5555555555555556,\"#d8576b\"],[0.6666666666666666,\"#ed7953\"],[0.7777777777777778,\"#fb9f3a\"],[0.8888888888888888,\"#fdca26\"],[1.0,\"#f0f921\"]],\"sequentialminus\":[[0.0,\"#0d0887\"],[0.1111111111111111,\"#46039f\"],[0.2222222222222222,\"#7201a8\"],[0.3333333333333333,\"#9c179e\"],[0.4444444444444444,\"#bd3786\"],[0.5555555555555556,\"#d8576b\"],[0.6666666666666666,\"#ed7953\"],[0.7777777777777778,\"#fb9f3a\"],[0.8888888888888888,\"#fdca26\"],[1.0,\"#f0f921\"]],\"diverging\":[[0,\"#8e0152\"],[0.1,\"#c51b7d\"],[0.2,\"#de77ae\"],[0.3,\"#f1b6da\"],[0.4,\"#fde0ef\"],[0.5,\"#f7f7f7\"],[0.6,\"#e6f5d0\"],[0.7,\"#b8e186\"],[0.8,\"#7fbc41\"],[0.9,\"#4d9221\"],[1,\"#276419\"]]},\"xaxis\":{\"gridcolor\":\"white\",\"linecolor\":\"white\",\"ticks\":\"\",\"title\":{\"standoff\":15},\"zerolinecolor\":\"white\",\"automargin\":true,\"zerolinewidth\":2},\"yaxis\":{\"gridcolor\":\"white\",\"linecolor\":\"white\",\"ticks\":\"\",\"title\":{\"standoff\":15},\"zerolinecolor\":\"white\",\"automargin\":true,\"zerolinewidth\":2},\"scene\":{\"xaxis\":{\"backgroundcolor\":\"#E5ECF6\",\"gridcolor\":\"white\",\"linecolor\":\"white\",\"showbackground\":true,\"ticks\":\"\",\"zerolinecolor\":\"white\",\"gridwidth\":2},\"yaxis\":{\"backgroundcolor\":\"#E5ECF6\",\"gridcolor\":\"white\",\"linecolor\":\"white\",\"showbackground\":true,\"ticks\":\"\",\"zerolinecolor\":\"white\",\"gridwidth\":2},\"zaxis\":{\"backgroundcolor\":\"#E5ECF6\",\"gridcolor\":\"white\",\"linecolor\":\"white\",\"showbackground\":true,\"ticks\":\"\",\"zerolinecolor\":\"white\",\"gridwidth\":2}},\"shapedefaults\":{\"line\":{\"color\":\"#2a3f5f\"}},\"annotationdefaults\":{\"arrowcolor\":\"#2a3f5f\",\"arrowhead\":0,\"arrowwidth\":1},\"geo\":{\"bgcolor\":\"white\",\"landcolor\":\"#E5ECF6\",\"subunitcolor\":\"white\",\"showland\":true,\"showlakes\":true,\"lakecolor\":\"white\"},\"title\":{\"x\":0.05},\"mapbox\":{\"style\":\"light\"}}}},                        {\"responsive\": true}                    ).then(function(){\n",
       "                            \n",
       "var gd = document.getElementById('f6c8b4dd-9c91-4cf8-b2fa-c0dc0f84de6c');\n",
       "var x = new MutationObserver(function (mutations, observer) {{\n",
       "        var display = window.getComputedStyle(gd).display;\n",
       "        if (!display || display === 'none') {{\n",
       "            console.log([gd, 'removed!']);\n",
       "            Plotly.purge(gd);\n",
       "            observer.disconnect();\n",
       "        }}\n",
       "}});\n",
       "\n",
       "// Listen for the removal of the full notebook cells\n",
       "var notebookContainer = gd.closest('#notebook-container');\n",
       "if (notebookContainer) {{\n",
       "    x.observe(notebookContainer, {childList: true});\n",
       "}}\n",
       "\n",
       "// Listen for the clearing of the current output cell\n",
       "var outputEl = gd.closest('.output');\n",
       "if (outputEl) {{\n",
       "    x.observe(outputEl, {childList: true});\n",
       "}}\n",
       "\n",
       "                        })                };                });            </script>        </div>"
      ]
     },
     "metadata": {},
     "output_type": "display_data"
    }
   ],
   "source": [
    "from operator import itemgetter\n",
    "finalcombs = dict([(k, v / n) for k, (v, n) in token_combs.items()])\n",
    "N = 5\n",
    "res = dict(sorted(finalcombs.items(), key = itemgetter(1), reverse = True)[:N])\n",
    "\n",
    "newrep = {'Condition1':[], 'Condition2':[], 'Attention': []}\n",
    "for key, prob in res.items():\n",
    "    code1, code2 = key.split(',')\n",
    "    \n",
    "    if code1 in mimicdiagcodesdict:\n",
    "        code1desc = mimicdiagcodesdict[code1]\n",
    "    elif code1 in mimicprocdict:\n",
    "        code1desc = mimicdiagcodesdict[code1]\n",
    "    else:\n",
    "      #  print(code1)\n",
    "        code1desc = mimicmedsdict[int(code1)]\n",
    "    \n",
    "    if code2 in mimicdiagcodesdict:\n",
    "        code2desc = mimicdiagcodesdict[code2]\n",
    "    elif code2 in mimicprocdict:\n",
    "        code2desc = mimicdiagcodesdict[code2]\n",
    "    else:\n",
    "        code2desc = mimicmedsdict[int(code2)]\n",
    "        \n",
    "    newrep['Condition1'].append(code1desc)\n",
    "    newrep['Condition2'].append(code2desc)\n",
    "    newrep['Attention'].append(prob)\n",
    "df = pd.DataFrame(newrep)\n",
    "fig = go.Figure(data=[go.Table(\n",
    "  header=dict(\n",
    "    values=[\"<b>Condition1</b>\", \"<b>Condition2</b>\", \"<b>Attention</b>\"],\n",
    "    line_color='white', fill_color='white',\n",
    "    align='center', font=dict(color='black', size=12)\n",
    "  ),\n",
    "  cells=dict(\n",
    "    values=[df.Condition1, df.Condition2, df.Attention],\n",
    "    align='center', font=dict(color='black', size=11)\n",
    "  ))\n",
    "])\n",
    "\n",
    "fig.show()"
   ]
  },
  {
   "cell_type": "code",
   "execution_count": null,
   "id": "fd66d5cf-cefb-4137-88f8-77d1a92826bf",
   "metadata": {},
   "outputs": [],
   "source": []
  }
 ],
 "metadata": {
  "kernelspec": {
   "display_name": "Python 3 (ipykernel)",
   "language": "python",
   "name": "python3"
  },
  "language_info": {
   "codemirror_mode": {
    "name": "ipython",
    "version": 3
   },
   "file_extension": ".py",
   "mimetype": "text/x-python",
   "name": "python",
   "nbconvert_exporter": "python",
   "pygments_lexer": "ipython3",
   "version": "3.7.11"
  }
 },
 "nbformat": 4,
 "nbformat_minor": 5
}
