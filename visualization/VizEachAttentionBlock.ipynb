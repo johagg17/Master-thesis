{
 "cells": [
  {
   "cell_type": "code",
   "execution_count": 1,
   "id": "483bd197-049f-4ec2-a855-af0ff411ab68",
   "metadata": {},
   "outputs": [
    {
     "name": "stderr",
     "output_type": "stream",
     "text": [
      "/var/local/home/linler17/.conda/envs/masterenv/lib/python3.7/site-packages/tqdm/auto.py:22: TqdmWarning: IProgress not found. Please update jupyter and ipywidgets. See https://ipywidgets.readthedocs.io/en/stable/user_install.html\n",
      "  from .autonotebook import tqdm as notebook_tqdm\n"
     ]
    }
   ],
   "source": [
    "import matplotlib.pyplot as plt\n",
    "from sklearn.manifold import TSNE\n",
    "import seaborn as sns\n",
    "from sklearn.metrics import classification_report\n",
    "\n",
    "import sys\n",
    "sys.path.insert(1, '../')\n",
    "from utils.packages import *\n",
    "\n",
    "def load_model(path, model):\n",
    "    # load pretrained model and update weights\n",
    "    pretrained_dict = torch.load(path)\n",
    "    model_dict = model.state_dict()\n",
    "    # 1. filter out unnecessary keys\n",
    "    pretrained_dict = {k: v for k, v in pretrained_dict.items() if k in model_dict}\n",
    "    # 2. overwrite entries in the existing state dict\n",
    "    model_dict.update(pretrained_dict)\n",
    "    # 3. load the new state dict\n",
    "    model.load_state_dict(model_dict)\n",
    "    return model\n",
    "\n",
    "global_params = {\n",
    "    'max_seq_len': 64,\n",
    "    'gradient_accumulation_steps': 1\n",
    "}\n",
    "\n",
    "optim_param = {\n",
    "    'lr': 3e-5,\n",
    "    'warmup_proportion': 0.1,\n",
    "    'weight_decay': 0.01\n",
    "}\n",
    "\n",
    "train_params = {\n",
    "    'batch_size': 10,\n",
    "    'use_cuda': True,\n",
    "    'max_len_seq': global_params['max_seq_len'],\n",
    "    'device': 'cuda' #change this to run on cuda #'cuda:0'\n",
    "}\n",
    "\n",
    "dataset_name = 'Synthea/Small_cohorts/'\n",
    "\n",
    "feature_types = {'diagnosis':True, 'medications':False, 'procedures':False}\n",
    "\n",
    "if (feature_types['diagnosis'] and feature_types['medications']):\n",
    "    print(\"Do only use diagnosis\")\n",
    "    code_voc = 'MLM_diagnosmedcodes.npy'\n",
    "    age_voc = 'MLM_age.npy'\n",
    "\n",
    "elif (feature_types['diagnosis'] and not feature_types['medications']):\n",
    "    code_voc = 'MLM_diagnoscodes.npy'\n",
    "    age_voc = 'MLM_age.npy'\n",
    "\n",
    "else:\n",
    "    code_voc = 'MLM_diagnosmedproccodes.npy'\n",
    "    age_voc = 'MLM_age.npy'\n",
    "\n",
    "files = {'code':'../data/vocabularies/' + dataset_name + code_voc,\n",
    "             'age':'../data/vocabularies/' + dataset_name + age_voc,\n",
    "        }\n",
    "\n",
    "tokenizer = EHRTokenizer(task='MLM', filenames=files)\n",
    "\n",
    "model_config = {\n",
    "        'vocab_size': len(tokenizer.getVoc('code').keys()), # number of disease + symbols for word embedding\n",
    "        'hidden_size': 288, #tune.choice([100, 150, 288]), #288, # word embedding and seg embedding hidden size\n",
    "        'seg_vocab_size': 2, # number of vocab for seg embedding\n",
    "        'age_vocab_size': len(tokenizer.getVoc('age').keys()), # number of vocab for age embedding,\n",
    "        'gender_vocab_size': 3,\n",
    "        'max_position_embeddings': train_params['max_len_seq'], # maximum number of tokens\n",
    "        'hidden_dropout_prob': 0.1, # dropout rate\n",
    "        'num_hidden_layers': 6, #4, # number of multi-head attention layers required\n",
    "        'num_attention_heads': 12, # number of attention heads\n",
    "        'attention_probs_dropout_prob': 0.1, # multi-head attention dropout rate\n",
    "        'intermediate_size': 512, # the size of the \"intermediate\" layer in the transformer encoder\n",
    "        'hidden_act': 'gelu', # The non-linear activation function in the encoder and the pooler \"gelu\", 'relu', 'swish' are supported\n",
    "        'initializer_range': 0.02, # parameter weight initializer range\n",
    "        'use_prior':False,\n",
    "        'reg':0.1,\n",
    "        'age':True,\n",
    "        'gender':False,\n",
    "        'epochs':20,\n",
    "    }\n",
    "\n",
    "stats_path = '../data/datasets/Synthea/Small_cohorts/train_stats/'\n",
    "condfiles = {'dd':stats_path + 'dd_cond_probs.empirical.p', \n",
    "             'dp':stats_path + 'dp_cond_probs.empirical.p',\n",
    "             'dm':stats_path + 'dm_cond_probs.empirical.p',\n",
    "             'pp':stats_path + 'pp_cond_probs.empirical.p', \n",
    "             'pd':stats_path + 'pd_cond_probs.empirical.p',\n",
    "             'pm':stats_path + 'pd_cond_probs.empirical.p',\n",
    "             'mm':stats_path + 'mm_cond_probs.empirical.p', \n",
    "             'md':stats_path + 'md_cond_probs.empirical.p',\n",
    "             'mp':stats_path + 'mp_cond_probs.empirical.p',\n",
    "            }"
   ]
  },
  {
   "cell_type": "code",
   "execution_count": 2,
   "id": "efd2afbe-4b05-4734-825b-1883e3c7ded3",
   "metadata": {},
   "outputs": [
    {
     "data": {
      "text/plain": [
       "'../data/datasets/Synthea/Small_cohorts/'"
      ]
     },
     "execution_count": 2,
     "metadata": {},
     "output_type": "execute_result"
    }
   ],
   "source": [
    "#train, val, test = train_test_val_split(dataset, train_ratio=0.6, validation_ratio=0.2, test_ratio=0.2)\n",
    "path='../data/datasets/' + dataset_name\n",
    "path"
   ]
  },
  {
   "cell_type": "code",
   "execution_count": 4,
   "id": "e7c8e936-aa1f-49f7-9ed1-6b5a65b6d2d9",
   "metadata": {},
   "outputs": [
    {
     "name": "stdout",
     "output_type": "stream",
     "text": [
      "Loading data\n"
     ]
    },
    {
     "name": "stderr",
     "output_type": "stream",
     "text": [
      "t_total value of -1 results in schedule not being applied\n"
     ]
    }
   ],
   "source": [
    "train = pd.read_parquet(path + 'train.parquet')\n",
    "val = pd.read_parquet(path + 'val.parquet')\n",
    "test = pd.read_parquet(path + 'test.parquet')\n",
    "\n",
    "viz_data = pd.concat([train, val, test])\n",
    "folderpath = '../data/pytorch_datasets/' + dataset_name\n",
    "vizdataset = EHRDataset(viz_data, max_len=train_params['max_len_seq'], run_type='all_data', save_folder=folderpath,feature_types=feature_types, conditional_files=condfiles, tokenizer=tokenizer)\n",
    "vizloader = torch.utils.data.DataLoader(vizdataset, batch_size=1, pin_memory=True, shuffle=True)\n",
    "\n",
    "conf = BertConfig(model_config)\n",
    "model = BertForMaskedLM(conf)\n",
    "PATH = \"../saved_models/MLM/BEHRT_Synthea\"\n",
    "model = load_model(PATH, model)\n",
    "params = list(model.named_parameters())\n",
    "optim = adam(params, optim_param)"
   ]
  },
  {
   "cell_type": "code",
   "execution_count": 6,
   "id": "919482a4-307a-4bdd-81f5-74a4a3be7cfa",
   "metadata": {},
   "outputs": [],
   "source": [
    "iterr = iter(vizloader)"
   ]
  },
  {
   "cell_type": "code",
   "execution_count": 99,
   "id": "1139b0f6-bffd-4439-b59e-d430b172f9cd",
   "metadata": {},
   "outputs": [],
   "source": [
    "datapoint = next(iterr)"
   ]
  },
  {
   "cell_type": "code",
   "execution_count": 100,
   "id": "3abe85b2-1b8e-4336-8d5c-62b975316dec",
   "metadata": {},
   "outputs": [],
   "source": [
    "age, gender, code, position, segment, mask, label, prior_guide = datapoint"
   ]
  },
  {
   "cell_type": "code",
   "execution_count": 101,
   "id": "0c883b0a-b8a6-46f8-ae1d-c6a8501489f5",
   "metadata": {},
   "outputs": [],
   "source": [
    "loss, preds, labels, attention_scores, sequence_outputs = model(code, age_ids=age, gender_ids=gender, seg_ids=segment, posi_ids=position, attention_mask=mask, labels=label, prior_guide=prior_guide)"
   ]
  },
  {
   "cell_type": "code",
   "execution_count": 200,
   "id": "f213420d-db2e-4a39-b409-3385b43f69ac",
   "metadata": {},
   "outputs": [],
   "source": [
    "sentence = tokenizer.convert_ids_to_tokens(code.numpy().squeeze(), 'code')\n",
    "lastatt = attention_scores[-1]\n",
    "averagedlastatt = ((lastatt.sum(dim=1) / lastatt.shape[1])[0]).detach().numpy()"
   ]
  },
  {
   "cell_type": "code",
   "execution_count": 201,
   "id": "82a35600-62e2-4bc7-aadd-6e0f7bc04c04",
   "metadata": {},
   "outputs": [
    {
     "data": {
      "text/plain": [
       "(64, 64)"
      ]
     },
     "execution_count": 201,
     "metadata": {},
     "output_type": "execute_result"
    }
   ],
   "source": [
    "averagedlastatt.shape"
   ]
  },
  {
   "cell_type": "code",
   "execution_count": 202,
   "id": "ebf2fb8a-6770-4df9-9de1-fa9b85b327cd",
   "metadata": {},
   "outputs": [],
   "source": [
    "attindex = 43"
   ]
  },
  {
   "cell_type": "code",
   "execution_count": 203,
   "id": "c09e7516-0cc4-48a3-bedd-4f9cd21ae57c",
   "metadata": {},
   "outputs": [],
   "source": [
    "atttoken = sentence[attindex]"
   ]
  },
  {
   "cell_type": "code",
   "execution_count": 204,
   "id": "af4886d0-714e-4435-bca2-46c6b7e1de3b",
   "metadata": {},
   "outputs": [],
   "source": [
    "choseonetoken = averagedlastatt[attindex, :]"
   ]
  },
  {
   "cell_type": "code",
   "execution_count": 205,
   "id": "d4347841-d48c-4f56-8d25-e2d8da469f97",
   "metadata": {},
   "outputs": [],
   "source": [
    "mapdata = pd.read_csv('../data/mapping_data/Synthea/unique_conds.csv')\n",
    "mapdata['CODE'] = mapdata['CODE'].map(str)\n",
    "code_to_desc = dict(zip(mapdata.CODE,mapdata.DESCRIPTION))"
   ]
  },
  {
   "cell_type": "code",
   "execution_count": 206,
   "id": "ba6b12a8-07ff-4274-b59e-30e54bc1d773",
   "metadata": {},
   "outputs": [],
   "source": [
    "values = []\n",
    "word = []\n",
    "for idx, (prob, token) in enumerate(zip(choseonetoken, sentence)):\n",
    "    if token == '[PAD]':\n",
    "        continue\n",
    "    if token in code_to_desc:\n",
    "        token = code_to_desc[token]\n",
    "    #print(idx, token)    \n",
    "    word.append(token)\n",
    "    values.append(prob)"
   ]
  },
  {
   "cell_type": "code",
   "execution_count": 207,
   "id": "6f626cd9-d999-4582-ae18-5d1f9b043529",
   "metadata": {},
   "outputs": [
    {
     "name": "stderr",
     "output_type": "stream",
     "text": [
      "No artists with labels found to put in legend.  Note that artists whose label start with an underscore are ignored when legend() is called with no argument.\n"
     ]
    },
    {
     "data": {
      "image/png": "[encoded data removed]",
      "text/plain": [
       "<Figure size 720x360 with 1 Axes>"
      ]
     },
     "metadata": {},
     "output_type": "display_data"
    }
   ],
   "source": [
    "f, ax = plt.subplots(figsize = (10,5))\n",
    "plt.xlabel('Attention score')\n",
    "plt.ylabel('Tokens')\n",
    "plt.title('{} attending to the other tokens'.format(code_to_desc[atttoken]))\n",
    "sns.set_style('darkgrid')\n",
    "sns.set_palette('Set2')\n",
    "sns.barplot(x = values, y = word, color = 'b', edgecolor = 'w', ci = None)\n",
    "#ax.set_box_aspect(10/5) #change 10 to modify the y/x axis ratio\n",
    "sns.set_color_codes('muted')\n",
    "#sns.barplot(x = 'alcohol', y = 'abbrev', data = crashes,\n",
    " #           label = 'Alcohol-involved', color = 'b', edgecolor = 'w')\n",
    "ax.legend(ncol = 1, loc = 'lower right')\n",
    "sns.despine(left = True, bottom = True)\n",
    "plt.show()"
   ]
  }
 ],
 "metadata": {
  "kernelspec": {
   "display_name": "Python 3",
   "language": "python",
   "name": "python3"
  },
  "language_info": {
   "codemirror_mode": {
    "name": "ipython",
    "version": 3
   },
   "file_extension": ".py",
   "mimetype": "text/x-python",
   "name": "python",
   "nbconvert_exporter": "python",
   "pygments_lexer": "ipython3",
   "version": "3.7.11"
  }
 },
 "nbformat": 4,
 "nbformat_minor": 5
}
