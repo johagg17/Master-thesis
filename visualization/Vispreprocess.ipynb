{
 "cells": [
  {
   "cell_type": "markdown",
   "id": "4653745a-027c-46d9-813d-fd9eb3509720",
   "metadata": {
    "tags": []
   },
   "source": [
    "### This document is used to preprocess the large files we are dealing with, for visualization purposes, and to make it a bit simpler to visualize"
   ]
  },
  {
   "cell_type": "code",
   "execution_count": 31,
   "id": "5dc83230-1b82-4358-9804-a8df2840b02e",
   "metadata": {},
   "outputs": [],
   "source": [
    "import pandas as pd"
   ]
  },
  {
   "cell_type": "markdown",
   "id": "bc63e67d-682e-4ad1-b403-0bfc737d43aa",
   "metadata": {
    "tags": []
   },
   "source": [
    "#### Gather patients with admission table"
   ]
  },
  {
   "cell_type": "code",
   "execution_count": 32,
   "id": "5f666544-10ea-4b76-b2ae-5db3e3aaa3f1",
   "metadata": {},
   "outputs": [],
   "source": [
    "parent_path = 'D:\\skolaÅr5\\MasterThesis\\mimic-iv-1.0'"
   ]
  },
  {
   "cell_type": "code",
   "execution_count": 33,
   "id": "984208c6-857b-4cf5-8590-1d2392059dbb",
   "metadata": {},
   "outputs": [],
   "source": [
    "df_patients = pd.read_csv(parent_path + '\\core\\patients.csv')"
   ]
  },
  {
   "cell_type": "code",
   "execution_count": 34,
   "id": "854c2f96-b1da-49df-932c-8ab1d5330c94",
   "metadata": {},
   "outputs": [],
   "source": [
    "df_admissions = pd.read_csv(parent_path + r'\\core\\admissions.csv')"
   ]
  },
  {
   "cell_type": "code",
   "execution_count": 35,
   "id": "69b4ce37-6f13-430b-9acf-ddd8b3a3e2de",
   "metadata": {},
   "outputs": [],
   "source": [
    "df_patadm = pd.merge(df_patients, df_admissions, on='subject_id')"
   ]
  },
  {
   "cell_type": "markdown",
   "id": "f36e14e4-a93d-4ec7-a027-0964e43a75ff",
   "metadata": {
    "tags": []
   },
   "source": [
    "### Select n patients with m admissions"
   ]
  },
  {
   "cell_type": "code",
   "execution_count": 36,
   "id": "24c3f736-8b78-4a30-85fe-dc6707dc6e90",
   "metadata": {},
   "outputs": [],
   "source": [
    "n_patients = 1\n",
    "m_admissions = 5"
   ]
  },
  {
   "cell_type": "code",
   "execution_count": 37,
   "id": "4861c0e3-9d69-421c-b3a0-dd9ee7e5f61a",
   "metadata": {},
   "outputs": [],
   "source": [
    "admperpat = df_patadm.groupby(['subject_id']).size().reset_index(name='count')\n",
    "more_than_nappointments = admperpat[admperpat['count'] > m_admissions]"
   ]
  },
  {
   "cell_type": "code",
   "execution_count": 49,
   "id": "409a9ab5-6aa1-431e-94ee-03b409d99ed8",
   "metadata": {},
   "outputs": [],
   "source": [
    "npatients = more_than_nappointments.sample(n_patients)['subject_id'].tolist()"
   ]
  },
  {
   "cell_type": "code",
   "execution_count": 50,
   "id": "afadd923-9cc7-4bb5-b561-8d6135b71501",
   "metadata": {},
   "outputs": [
    {
     "data": {
      "text/plain": [
       "[18018694]"
      ]
     },
     "execution_count": 50,
     "metadata": {},
     "output_type": "execute_result"
    }
   ],
   "source": [
    "npatients"
   ]
  },
  {
   "cell_type": "markdown",
   "id": "76eb8c3c-5b0d-488b-a3f7-850f8f6a6508",
   "metadata": {
    "tags": []
   },
   "source": [
    "#### Based on the selected patients, gather diagnose data"
   ]
  },
  {
   "cell_type": "code",
   "execution_count": 40,
   "id": "2eb8a95f-1c7e-46f6-8745-5e3dc4692086",
   "metadata": {},
   "outputs": [],
   "source": [
    "codes = pd.read_csv(parent_path + r'/hosp/d_icd_diagnoses.csv')\n",
    "pat_diagnoses = pd.read_csv(parent_path + r'/hosp/diagnoses_icd.csv')"
   ]
  },
  {
   "cell_type": "code",
   "execution_count": 41,
   "id": "b678a357-5fc7-4e8d-befc-1a519b5c096d",
   "metadata": {},
   "outputs": [],
   "source": [
    "pat_diagnoses = pat_diagnoses[pat_diagnoses['subject_id'].isin(npatients)]"
   ]
  },
  {
   "cell_type": "code",
   "execution_count": null,
   "id": "0814bcef-ee92-4879-a12a-f5433f592956",
   "metadata": {},
   "outputs": [],
   "source": []
  },
  {
   "cell_type": "code",
   "execution_count": 42,
   "id": "7dd3e8ad-0113-4ada-b364-3018dccb0114",
   "metadata": {},
   "outputs": [],
   "source": [
    "dropcol = ['icd_version_x', 'icd_version_y', 'seq_num']\n",
    "df_diagpatcodes = pat_diagnoses.merge(codes, on='icd_code', how='inner').drop(columns=dropcol)"
   ]
  },
  {
   "cell_type": "code",
   "execution_count": 43,
   "id": "39dc4910-8065-4e78-9895-676393e2b44b",
   "metadata": {},
   "outputs": [
    {
     "data": {
      "text/html": [
       "<div>\n",
       "<style scoped>\n",
       "    .dataframe tbody tr th:only-of-type {\n",
       "        vertical-align: middle;\n",
       "    }\n",
       "\n",
       "    .dataframe tbody tr th {\n",
       "        vertical-align: top;\n",
       "    }\n",
       "\n",
       "    .dataframe thead th {\n",
       "        text-align: right;\n",
       "    }\n",
       "</style>\n",
       "<table border=\"1\" class=\"dataframe\">\n",
       "  <thead>\n",
       "    <tr style=\"text-align: right;\">\n",
       "      <th></th>\n",
       "      <th>subject_id</th>\n",
       "      <th>hadm_id</th>\n",
       "      <th>icd_code</th>\n",
       "      <th>long_title</th>\n",
       "    </tr>\n",
       "  </thead>\n",
       "  <tbody>\n",
       "    <tr>\n",
       "      <th>0</th>\n",
       "      <td>11521280</td>\n",
       "      <td>23926006</td>\n",
       "      <td>25000</td>\n",
       "      <td>Diabetes mellitus without mention of complicat...</td>\n",
       "    </tr>\n",
       "    <tr>\n",
       "      <th>1</th>\n",
       "      <td>11521280</td>\n",
       "      <td>28862443</td>\n",
       "      <td>25000</td>\n",
       "      <td>Diabetes mellitus without mention of complicat...</td>\n",
       "    </tr>\n",
       "    <tr>\n",
       "      <th>2</th>\n",
       "      <td>11521280</td>\n",
       "      <td>29899490</td>\n",
       "      <td>25000</td>\n",
       "      <td>Diabetes mellitus without mention of complicat...</td>\n",
       "    </tr>\n",
       "    <tr>\n",
       "      <th>3</th>\n",
       "      <td>11521280</td>\n",
       "      <td>23926006</td>\n",
       "      <td>3051</td>\n",
       "      <td>Tobacco use disorder</td>\n",
       "    </tr>\n",
       "    <tr>\n",
       "      <th>4</th>\n",
       "      <td>11521280</td>\n",
       "      <td>26057130</td>\n",
       "      <td>3051</td>\n",
       "      <td>Tobacco use disorder</td>\n",
       "    </tr>\n",
       "    <tr>\n",
       "      <th>...</th>\n",
       "      <td>...</td>\n",
       "      <td>...</td>\n",
       "      <td>...</td>\n",
       "      <td>...</td>\n",
       "    </tr>\n",
       "    <tr>\n",
       "      <th>119</th>\n",
       "      <td>11521280</td>\n",
       "      <td>21081223</td>\n",
       "      <td>E8889</td>\n",
       "      <td>Other specified metabolic disorders</td>\n",
       "    </tr>\n",
       "    <tr>\n",
       "      <th>120</th>\n",
       "      <td>11521280</td>\n",
       "      <td>21081223</td>\n",
       "      <td>E8339</td>\n",
       "      <td>Fall on stairs or ladders in water transport i...</td>\n",
       "    </tr>\n",
       "    <tr>\n",
       "      <th>121</th>\n",
       "      <td>11521280</td>\n",
       "      <td>21081223</td>\n",
       "      <td>E8339</td>\n",
       "      <td>Other disorders of phosphorus metabolism</td>\n",
       "    </tr>\n",
       "    <tr>\n",
       "      <th>122</th>\n",
       "      <td>11521280</td>\n",
       "      <td>21081223</td>\n",
       "      <td>Z8546</td>\n",
       "      <td>Personal history of malignant neoplasm of pros...</td>\n",
       "    </tr>\n",
       "    <tr>\n",
       "      <th>123</th>\n",
       "      <td>11521280</td>\n",
       "      <td>21081223</td>\n",
       "      <td>Z6826</td>\n",
       "      <td>Body mass index (BMI) 26.0-26.9, adult</td>\n",
       "    </tr>\n",
       "  </tbody>\n",
       "</table>\n",
       "<p>124 rows × 4 columns</p>\n",
       "</div>"
      ],
      "text/plain": [
       "     subject_id   hadm_id icd_code  \\\n",
       "0      11521280  23926006    25000   \n",
       "1      11521280  28862443    25000   \n",
       "2      11521280  29899490    25000   \n",
       "3      11521280  23926006     3051   \n",
       "4      11521280  26057130     3051   \n",
       "..          ...       ...      ...   \n",
       "119    11521280  21081223    E8889   \n",
       "120    11521280  21081223    E8339   \n",
       "121    11521280  21081223    E8339   \n",
       "122    11521280  21081223    Z8546   \n",
       "123    11521280  21081223    Z6826   \n",
       "\n",
       "                                            long_title  \n",
       "0    Diabetes mellitus without mention of complicat...  \n",
       "1    Diabetes mellitus without mention of complicat...  \n",
       "2    Diabetes mellitus without mention of complicat...  \n",
       "3                                 Tobacco use disorder  \n",
       "4                                 Tobacco use disorder  \n",
       "..                                                 ...  \n",
       "119                Other specified metabolic disorders  \n",
       "120  Fall on stairs or ladders in water transport i...  \n",
       "121           Other disorders of phosphorus metabolism  \n",
       "122  Personal history of malignant neoplasm of pros...  \n",
       "123             Body mass index (BMI) 26.0-26.9, adult  \n",
       "\n",
       "[124 rows x 4 columns]"
      ]
     },
     "execution_count": 43,
     "metadata": {},
     "output_type": "execute_result"
    }
   ],
   "source": [
    "df_diagpatcodes"
   ]
  },
  {
   "cell_type": "markdown",
   "id": "0a5dd111-7103-433e-a326-46319de8ffd3",
   "metadata": {
    "tags": []
   },
   "source": [
    "#### Based on the selected patients, gather chart-events"
   ]
  },
  {
   "cell_type": "markdown",
   "id": "00e42b1d-8c8b-482e-aa32-d7f0e9452dc1",
   "metadata": {},
   "source": [
    "##### Since the file is very large, we will use spark to process the data"
   ]
  },
  {
   "cell_type": "code",
   "execution_count": 44,
   "id": "76003f83-ec79-42aa-b6d2-788adc4310a5",
   "metadata": {},
   "outputs": [],
   "source": [
    "import pandas as pd\n",
    "from pyspark import SparkContext, SparkConf\n",
    "from pyspark.sql import SparkSession\n",
    "from pyspark.sql.functions import udf,col\n",
    "import pyspark.sql.functions as F\n",
    "import numpy as np"
   ]
  },
  {
   "cell_type": "code",
   "execution_count": 45,
   "id": "ca7aa2b6-a448-468e-a17c-007e500879b5",
   "metadata": {},
   "outputs": [],
   "source": [
    "spark = SparkSession \\\n",
    "            .builder \\\n",
    "            .appName(\"Python Spark SQL basic example\") \\\n",
    "            .config(\"spark.some.config.option\", \"some-value\") \\\n",
    "            .getOrCreate()"
   ]
  },
  {
   "cell_type": "code",
   "execution_count": 46,
   "id": "61a17edd-c478-4909-a5c6-877edf203ad4",
   "metadata": {},
   "outputs": [
    {
     "data": {
      "text/html": [
       "\n",
       "            <div>\n",
       "                <p><b>SparkSession - in-memory</b></p>\n",
       "                \n",
       "        <div>\n",
       "            <p><b>SparkContext</b></p>\n",
       "\n",
       "            <p><a href=\"http://192.168.0.30:4040\">Spark UI</a></p>\n",
       "\n",
       "            <dl>\n",
       "              <dt>Version</dt>\n",
       "                <dd><code>v2.4.7</code></dd>\n",
       "              <dt>Master</dt>\n",
       "                <dd><code>local[*]</code></dd>\n",
       "              <dt>AppName</dt>\n",
       "                <dd><code>Python Spark SQL basic example</code></dd>\n",
       "            </dl>\n",
       "        </div>\n",
       "        \n",
       "            </div>\n",
       "        "
      ],
      "text/plain": [
       "<pyspark.sql.session.SparkSession at 0x25e8989f208>"
      ]
     },
     "execution_count": 46,
     "metadata": {},
     "output_type": "execute_result"
    }
   ],
   "source": [
    "spark"
   ]
  },
  {
   "cell_type": "code",
   "execution_count": 19,
   "id": "07e34df3-68b7-44b7-9fae-d1a9db7a03d6",
   "metadata": {},
   "outputs": [],
   "source": [
    "path = r'C:\\Users\\Johan\\Desktop\\mimicIV'"
   ]
  },
  {
   "cell_type": "code",
   "execution_count": 22,
   "id": "96dd081a-5f7c-4cf9-a484-28d2b49f925b",
   "metadata": {},
   "outputs": [],
   "source": [
    "df_chart_events = spark.read.load(path + r'\\chartevents.csv', format=\"csv\", sep=\",\", inferSchema=\"true\", header=\"true\")"
   ]
  },
  {
   "cell_type": "code",
   "execution_count": 51,
   "id": "537dddb1-635a-43d7-b688-2b5b49f2a6a3",
   "metadata": {},
   "outputs": [],
   "source": [
    "df_chart_events_filtered = df_chart_events.filter(df_chart_events.subject_id.isin(npatients))"
   ]
  },
  {
   "cell_type": "code",
   "execution_count": 52,
   "id": "3c9cc5d8-37d9-4e62-969f-a6bb374ceb6f",
   "metadata": {},
   "outputs": [
    {
     "data": {
      "text/plain": [
       "0"
      ]
     },
     "execution_count": 52,
     "metadata": {},
     "output_type": "execute_result"
    }
   ],
   "source": [
    "df_chart_events_filtered.count()"
   ]
  },
  {
   "cell_type": "code",
   "execution_count": null,
   "id": "fd86653e-fbd6-443d-9f5d-a35e596ed818",
   "metadata": {},
   "outputs": [],
   "source": [
    "df_chart_events_filtered.show()"
   ]
  },
  {
   "cell_type": "code",
   "execution_count": 28,
   "id": "faf31829-3f60-4268-b7ef-3e814946190a",
   "metadata": {},
   "outputs": [],
   "source": [
    "columns_to_drop = ['stay_id', 'warning', 'valuenum']"
   ]
  },
  {
   "cell_type": "code",
   "execution_count": 29,
   "id": "59d10dc5-a343-47c2-8bb6-b56a98ed0d64",
   "metadata": {},
   "outputs": [],
   "source": [
    "df_chart_events_filtereddroped = df_chart_events_filtered.drop(*columns_to_drop)"
   ]
  },
  {
   "cell_type": "code",
   "execution_count": 30,
   "id": "9c98905e-a91e-4e7c-861a-9e94b3441cf0",
   "metadata": {},
   "outputs": [
    {
     "ename": "KeyboardInterrupt",
     "evalue": "",
     "output_type": "error",
     "traceback": [
      "\u001b[1;31m---------------------------------------------------------------------------\u001b[0m",
      "\u001b[1;31mKeyboardInterrupt\u001b[0m                         Traceback (most recent call last)",
      "\u001b[1;32m~\\AppData\\Local\\Temp/ipykernel_7220/3955970310.py\u001b[0m in \u001b[0;36m<module>\u001b[1;34m\u001b[0m\n\u001b[1;32m----> 1\u001b[1;33m \u001b[0mdf_pandas\u001b[0m \u001b[1;33m=\u001b[0m \u001b[0mdf_chart_events_filtereddroped\u001b[0m\u001b[1;33m.\u001b[0m\u001b[0mtoPandas\u001b[0m\u001b[1;33m(\u001b[0m\u001b[1;33m)\u001b[0m\u001b[1;33m\u001b[0m\u001b[1;33m\u001b[0m\u001b[0m\n\u001b[0m",
      "\u001b[1;32m~\\anaconda3\\envs\\spark_env\\lib\\site-packages\\pyspark\\sql\\dataframe.py\u001b[0m in \u001b[0;36mtoPandas\u001b[1;34m(self)\u001b[0m\n\u001b[0;32m   2140\u001b[0m \u001b[1;33m\u001b[0m\u001b[0m\n\u001b[0;32m   2141\u001b[0m         \u001b[1;31m# Below is toPandas without Arrow optimization.\u001b[0m\u001b[1;33m\u001b[0m\u001b[1;33m\u001b[0m\u001b[1;33m\u001b[0m\u001b[0m\n\u001b[1;32m-> 2142\u001b[1;33m         \u001b[0mpdf\u001b[0m \u001b[1;33m=\u001b[0m \u001b[0mpd\u001b[0m\u001b[1;33m.\u001b[0m\u001b[0mDataFrame\u001b[0m\u001b[1;33m.\u001b[0m\u001b[0mfrom_records\u001b[0m\u001b[1;33m(\u001b[0m\u001b[0mself\u001b[0m\u001b[1;33m.\u001b[0m\u001b[0mcollect\u001b[0m\u001b[1;33m(\u001b[0m\u001b[1;33m)\u001b[0m\u001b[1;33m,\u001b[0m \u001b[0mcolumns\u001b[0m\u001b[1;33m=\u001b[0m\u001b[0mself\u001b[0m\u001b[1;33m.\u001b[0m\u001b[0mcolumns\u001b[0m\u001b[1;33m)\u001b[0m\u001b[1;33m\u001b[0m\u001b[1;33m\u001b[0m\u001b[0m\n\u001b[0m\u001b[0;32m   2143\u001b[0m \u001b[1;33m\u001b[0m\u001b[0m\n\u001b[0;32m   2144\u001b[0m         \u001b[0mdtype\u001b[0m \u001b[1;33m=\u001b[0m \u001b[1;33m{\u001b[0m\u001b[1;33m}\u001b[0m\u001b[1;33m\u001b[0m\u001b[1;33m\u001b[0m\u001b[0m\n",
      "\u001b[1;32m~\\anaconda3\\envs\\spark_env\\lib\\site-packages\\pyspark\\sql\\dataframe.py\u001b[0m in \u001b[0;36mcollect\u001b[1;34m(self)\u001b[0m\n\u001b[0;32m    531\u001b[0m         \"\"\"\n\u001b[0;32m    532\u001b[0m         \u001b[1;32mwith\u001b[0m \u001b[0mSCCallSiteSync\u001b[0m\u001b[1;33m(\u001b[0m\u001b[0mself\u001b[0m\u001b[1;33m.\u001b[0m\u001b[0m_sc\u001b[0m\u001b[1;33m)\u001b[0m \u001b[1;32mas\u001b[0m \u001b[0mcss\u001b[0m\u001b[1;33m:\u001b[0m\u001b[1;33m\u001b[0m\u001b[1;33m\u001b[0m\u001b[0m\n\u001b[1;32m--> 533\u001b[1;33m             \u001b[0msock_info\u001b[0m \u001b[1;33m=\u001b[0m \u001b[0mself\u001b[0m\u001b[1;33m.\u001b[0m\u001b[0m_jdf\u001b[0m\u001b[1;33m.\u001b[0m\u001b[0mcollectToPython\u001b[0m\u001b[1;33m(\u001b[0m\u001b[1;33m)\u001b[0m\u001b[1;33m\u001b[0m\u001b[1;33m\u001b[0m\u001b[0m\n\u001b[0m\u001b[0;32m    534\u001b[0m         \u001b[1;32mreturn\u001b[0m \u001b[0mlist\u001b[0m\u001b[1;33m(\u001b[0m\u001b[0m_load_from_socket\u001b[0m\u001b[1;33m(\u001b[0m\u001b[0msock_info\u001b[0m\u001b[1;33m,\u001b[0m \u001b[0mBatchedSerializer\u001b[0m\u001b[1;33m(\u001b[0m\u001b[0mPickleSerializer\u001b[0m\u001b[1;33m(\u001b[0m\u001b[1;33m)\u001b[0m\u001b[1;33m)\u001b[0m\u001b[1;33m)\u001b[0m\u001b[1;33m)\u001b[0m\u001b[1;33m\u001b[0m\u001b[1;33m\u001b[0m\u001b[0m\n\u001b[0;32m    535\u001b[0m \u001b[1;33m\u001b[0m\u001b[0m\n",
      "\u001b[1;32m~\\anaconda3\\envs\\spark_env\\lib\\site-packages\\py4j\\java_gateway.py\u001b[0m in \u001b[0;36m__call__\u001b[1;34m(self, *args)\u001b[0m\n\u001b[0;32m   1253\u001b[0m             \u001b[0mproto\u001b[0m\u001b[1;33m.\u001b[0m\u001b[0mEND_COMMAND_PART\u001b[0m\u001b[1;33m\u001b[0m\u001b[1;33m\u001b[0m\u001b[0m\n\u001b[0;32m   1254\u001b[0m \u001b[1;33m\u001b[0m\u001b[0m\n\u001b[1;32m-> 1255\u001b[1;33m         \u001b[0manswer\u001b[0m \u001b[1;33m=\u001b[0m \u001b[0mself\u001b[0m\u001b[1;33m.\u001b[0m\u001b[0mgateway_client\u001b[0m\u001b[1;33m.\u001b[0m\u001b[0msend_command\u001b[0m\u001b[1;33m(\u001b[0m\u001b[0mcommand\u001b[0m\u001b[1;33m)\u001b[0m\u001b[1;33m\u001b[0m\u001b[1;33m\u001b[0m\u001b[0m\n\u001b[0m\u001b[0;32m   1256\u001b[0m         return_value = get_return_value(\n\u001b[0;32m   1257\u001b[0m             answer, self.gateway_client, self.target_id, self.name)\n",
      "\u001b[1;32m~\\anaconda3\\envs\\spark_env\\lib\\site-packages\\py4j\\java_gateway.py\u001b[0m in \u001b[0;36msend_command\u001b[1;34m(self, command, retry, binary)\u001b[0m\n\u001b[0;32m    983\u001b[0m         \u001b[0mconnection\u001b[0m \u001b[1;33m=\u001b[0m \u001b[0mself\u001b[0m\u001b[1;33m.\u001b[0m\u001b[0m_get_connection\u001b[0m\u001b[1;33m(\u001b[0m\u001b[1;33m)\u001b[0m\u001b[1;33m\u001b[0m\u001b[1;33m\u001b[0m\u001b[0m\n\u001b[0;32m    984\u001b[0m         \u001b[1;32mtry\u001b[0m\u001b[1;33m:\u001b[0m\u001b[1;33m\u001b[0m\u001b[1;33m\u001b[0m\u001b[0m\n\u001b[1;32m--> 985\u001b[1;33m             \u001b[0mresponse\u001b[0m \u001b[1;33m=\u001b[0m \u001b[0mconnection\u001b[0m\u001b[1;33m.\u001b[0m\u001b[0msend_command\u001b[0m\u001b[1;33m(\u001b[0m\u001b[0mcommand\u001b[0m\u001b[1;33m)\u001b[0m\u001b[1;33m\u001b[0m\u001b[1;33m\u001b[0m\u001b[0m\n\u001b[0m\u001b[0;32m    986\u001b[0m             \u001b[1;32mif\u001b[0m \u001b[0mbinary\u001b[0m\u001b[1;33m:\u001b[0m\u001b[1;33m\u001b[0m\u001b[1;33m\u001b[0m\u001b[0m\n\u001b[0;32m    987\u001b[0m                 \u001b[1;32mreturn\u001b[0m \u001b[0mresponse\u001b[0m\u001b[1;33m,\u001b[0m \u001b[0mself\u001b[0m\u001b[1;33m.\u001b[0m\u001b[0m_create_connection_guard\u001b[0m\u001b[1;33m(\u001b[0m\u001b[0mconnection\u001b[0m\u001b[1;33m)\u001b[0m\u001b[1;33m\u001b[0m\u001b[1;33m\u001b[0m\u001b[0m\n",
      "\u001b[1;32m~\\anaconda3\\envs\\spark_env\\lib\\site-packages\\py4j\\java_gateway.py\u001b[0m in \u001b[0;36msend_command\u001b[1;34m(self, command)\u001b[0m\n\u001b[0;32m   1150\u001b[0m \u001b[1;33m\u001b[0m\u001b[0m\n\u001b[0;32m   1151\u001b[0m         \u001b[1;32mtry\u001b[0m\u001b[1;33m:\u001b[0m\u001b[1;33m\u001b[0m\u001b[1;33m\u001b[0m\u001b[0m\n\u001b[1;32m-> 1152\u001b[1;33m             \u001b[0manswer\u001b[0m \u001b[1;33m=\u001b[0m \u001b[0msmart_decode\u001b[0m\u001b[1;33m(\u001b[0m\u001b[0mself\u001b[0m\u001b[1;33m.\u001b[0m\u001b[0mstream\u001b[0m\u001b[1;33m.\u001b[0m\u001b[0mreadline\u001b[0m\u001b[1;33m(\u001b[0m\u001b[1;33m)\u001b[0m\u001b[1;33m[\u001b[0m\u001b[1;33m:\u001b[0m\u001b[1;33m-\u001b[0m\u001b[1;36m1\u001b[0m\u001b[1;33m]\u001b[0m\u001b[1;33m)\u001b[0m\u001b[1;33m\u001b[0m\u001b[1;33m\u001b[0m\u001b[0m\n\u001b[0m\u001b[0;32m   1153\u001b[0m             \u001b[0mlogger\u001b[0m\u001b[1;33m.\u001b[0m\u001b[0mdebug\u001b[0m\u001b[1;33m(\u001b[0m\u001b[1;34m\"Answer received: {0}\"\u001b[0m\u001b[1;33m.\u001b[0m\u001b[0mformat\u001b[0m\u001b[1;33m(\u001b[0m\u001b[0manswer\u001b[0m\u001b[1;33m)\u001b[0m\u001b[1;33m)\u001b[0m\u001b[1;33m\u001b[0m\u001b[1;33m\u001b[0m\u001b[0m\n\u001b[0;32m   1154\u001b[0m             \u001b[1;32mif\u001b[0m \u001b[0manswer\u001b[0m\u001b[1;33m.\u001b[0m\u001b[0mstartswith\u001b[0m\u001b[1;33m(\u001b[0m\u001b[0mproto\u001b[0m\u001b[1;33m.\u001b[0m\u001b[0mRETURN_MESSAGE\u001b[0m\u001b[1;33m)\u001b[0m\u001b[1;33m:\u001b[0m\u001b[1;33m\u001b[0m\u001b[1;33m\u001b[0m\u001b[0m\n",
      "\u001b[1;32m~\\anaconda3\\envs\\spark_env\\lib\\socket.py\u001b[0m in \u001b[0;36mreadinto\u001b[1;34m(self, b)\u001b[0m\n\u001b[0;32m    587\u001b[0m         \u001b[1;32mwhile\u001b[0m \u001b[1;32mTrue\u001b[0m\u001b[1;33m:\u001b[0m\u001b[1;33m\u001b[0m\u001b[1;33m\u001b[0m\u001b[0m\n\u001b[0;32m    588\u001b[0m             \u001b[1;32mtry\u001b[0m\u001b[1;33m:\u001b[0m\u001b[1;33m\u001b[0m\u001b[1;33m\u001b[0m\u001b[0m\n\u001b[1;32m--> 589\u001b[1;33m                 \u001b[1;32mreturn\u001b[0m \u001b[0mself\u001b[0m\u001b[1;33m.\u001b[0m\u001b[0m_sock\u001b[0m\u001b[1;33m.\u001b[0m\u001b[0mrecv_into\u001b[0m\u001b[1;33m(\u001b[0m\u001b[0mb\u001b[0m\u001b[1;33m)\u001b[0m\u001b[1;33m\u001b[0m\u001b[1;33m\u001b[0m\u001b[0m\n\u001b[0m\u001b[0;32m    590\u001b[0m             \u001b[1;32mexcept\u001b[0m \u001b[0mtimeout\u001b[0m\u001b[1;33m:\u001b[0m\u001b[1;33m\u001b[0m\u001b[1;33m\u001b[0m\u001b[0m\n\u001b[0;32m    591\u001b[0m                 \u001b[0mself\u001b[0m\u001b[1;33m.\u001b[0m\u001b[0m_timeout_occurred\u001b[0m \u001b[1;33m=\u001b[0m \u001b[1;32mTrue\u001b[0m\u001b[1;33m\u001b[0m\u001b[1;33m\u001b[0m\u001b[0m\n",
      "\u001b[1;31mKeyboardInterrupt\u001b[0m: "
     ]
    }
   ],
   "source": [
    "df_pandas = df_chart_events_filtereddroped.toPandas()"
   ]
  },
  {
   "cell_type": "code",
   "execution_count": null,
   "id": "c65fcc24-3a3f-4df9-a92c-b84dbbfcd696",
   "metadata": {},
   "outputs": [],
   "source": []
  }
 ],
 "metadata": {
  "kernelspec": {
   "display_name": "Python 3 (ipykernel)",
   "language": "python",
   "name": "python3"
  },
  "language_info": {
   "codemirror_mode": {
    "name": "ipython",
    "version": 3
   },
   "file_extension": ".py",
   "mimetype": "text/x-python",
   "name": "python",
   "nbconvert_exporter": "python",
   "pygments_lexer": "ipython3",
   "version": "3.7.11"
  }
 },
 "nbformat": 4,
 "nbformat_minor": 5
}
