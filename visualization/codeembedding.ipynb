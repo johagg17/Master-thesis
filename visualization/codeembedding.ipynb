{
 "cells": [
  {
   "cell_type": "markdown",
   "id": "23033838-364f-46cf-a04c-a3203daf03bd",
   "metadata": {},
   "source": [
    "### Disease embedding"
   ]
  },
  {
   "cell_type": "code",
   "execution_count": 1,
   "id": "7468426e-39c5-4199-b321-016812279c57",
   "metadata": {},
   "outputs": [
    {
     "name": "stderr",
     "output_type": "stream",
     "text": [
      "/var/local/home/linler17/.conda/envs/masterenv/lib/python3.7/site-packages/tqdm/auto.py:22: TqdmWarning: IProgress not found. Please update jupyter and ipywidgets. See https://ipywidgets.readthedocs.io/en/stable/user_install.html\n",
      "  from .autonotebook import tqdm as notebook_tqdm\n"
     ]
    }
   ],
   "source": [
    "import plotly.graph_objects as go\n",
    "import pandas as pd\n",
    "import matplotlib.pyplot as plt\n",
    "from sklearn.manifold import TSNE\n",
    "import seaborn as sns\n",
    "from sklearn.metrics import classification_report\n",
    "\n",
    "import sys\n",
    "sys.path.insert(1, '../')\n",
    "from utils.packages import *\n",
    "\n",
    "def load_model(path, model):\n",
    "    # load pretrained model and update weights\n",
    "    pretrained_dict = torch.load(path)\n",
    "    model_dict = model.state_dict()\n",
    "    # 1. filter out unnecessary keys\n",
    "    pretrained_dict = {k: v for k, v in pretrained_dict.items() if k in model_dict}\n",
    "    # 2. overwrite entries in the existing state dict\n",
    "    model_dict.update(pretrained_dict)\n",
    "    # 3. load the new state dict\n",
    "    model.load_state_dict(model_dict)\n",
    "    return model\n",
    "\n",
    "global_params = {\n",
    "    'max_seq_len': 64,\n",
    "    'gradient_accumulation_steps': 1\n",
    "}\n",
    "\n",
    "optim_param = {\n",
    "    'lr': 3e-5,\n",
    "    'warmup_proportion': 0.1,\n",
    "    'weight_decay': 0.01\n",
    "}\n",
    "\n",
    "train_params = {\n",
    "    'batch_size': 10,\n",
    "    'use_cuda': True,\n",
    "    'max_len_seq': global_params['max_seq_len'],\n",
    "    'device': 'cuda' #change this to run on cuda #'cuda:0'\n",
    "}\n",
    "\n",
    "dataset_name = 'Synthea/Final_cohorts/'\n",
    "\n",
    "feature_types = {'diagnosis':True, 'medications':False, 'procedures':False}\n",
    "\n",
    "if (feature_types['diagnosis'] and feature_types['medications'] and not feature_types['diagnosis']):\n",
    "    print(\"Do only use diagnosis\")\n",
    "    code_voc = 'MLM_diagnosmedcodes.npy'\n",
    "    age_voc = 'MLM_age.npy'\n",
    "\n",
    "elif (feature_types['diagnosis'] and not feature_types['medications']):\n",
    "    code_voc = 'MLM_diagnoscodes.npy'\n",
    "    age_voc = 'MLM_age.npy'\n",
    "\n",
    "else:\n",
    "    code_voc = 'MLM_diagnosmedproccodes.npy'\n",
    "    age_voc = 'MLM_age.npy'\n",
    "\n",
    "files = {'code':'../data/vocabularies/' + dataset_name + code_voc,\n",
    "             'age':'../data/vocabularies/' + dataset_name + age_voc,\n",
    "        }\n",
    "\n",
    "tokenizer = EHRTokenizer(task='MLM', filenames=files)\n",
    "\n",
    "model_config = {\n",
    "        'vocab_size': len(tokenizer.getVoc('code').keys()), # number of disease + symbols for word embedding\n",
    "        'hidden_size': 288, #tune.choice([100, 150, 288]), #288, # word embedding and seg embedding hidden size\n",
    "        'seg_vocab_size': 2, # number of vocab for seg embedding\n",
    "        'age_vocab_size': len(tokenizer.getVoc('age').keys()), # number of vocab for age embedding,\n",
    "        'gender_vocab_size': 3,\n",
    "        'max_position_embeddings': train_params['max_len_seq'], # maximum number of tokens\n",
    "        'hidden_dropout_prob': 0.1, # dropout rate\n",
    "        'num_hidden_layers': 6, #4, # number of multi-head attention layers required\n",
    "        'num_attention_heads': 12, # number of attention heads\n",
    "        'attention_probs_dropout_prob': 0.1, # multi-head attention dropout rate\n",
    "        'intermediate_size': 512, # the size of the \"intermediate\" layer in the transformer encoder\n",
    "        'hidden_act': 'gelu', # The non-linear activation function in the encoder and the pooler \"gelu\", 'relu', 'swish' are supported\n",
    "        'initializer_range': 0.02, # parameter weight initializer range\n",
    "        'use_prior':False,\n",
    "        'reg':0.1,\n",
    "        'age':True,\n",
    "        'gender':False,\n",
    "        'epochs':20,\n",
    "    }\n",
    "\n",
    "stats_path = '../data/train_stats/Synthea/'\n",
    "condfiles = {'dd':stats_path + 'dd_cond_probs.empirical.p', \n",
    "             'dp':stats_path + 'dp_cond_probs.empirical.p',\n",
    "             'dm':stats_path + 'dm_cond_probs.empirical.p',\n",
    "             'pp':stats_path + 'pp_cond_probs.empirical.p', \n",
    "             'pd':stats_path + 'pd_cond_probs.empirical.p',\n",
    "             'pm':stats_path + 'pd_cond_probs.empirical.p',\n",
    "             'mm':stats_path + 'mm_cond_probs.empirical.p', \n",
    "             'md':stats_path + 'md_cond_probs.empirical.p',\n",
    "             'mp':stats_path + 'mp_cond_probs.empirical.p',\n",
    "            }\n",
    "\n",
    "path='../data/datasets/' + dataset_name\n",
    "path\n",
    "\n",
    "\n",
    "train = pd.read_parquet(path + 'train.parquet')\n",
    "val = pd.read_parquet(path + 'val.parquet')\n",
    "test = pd.read_parquet(path + 'test.parquet')\n",
    "all_data = pd.concat([train, val, test])\n",
    "\n",
    "mapdata = pd.read_csv('../data/mapping_data/Synthea/unique_conds.csv')\n",
    "mapdata['CODE'] = mapdata['CODE'].map(str)\n",
    "code_to_desc = dict(zip(mapdata.CODE,mapdata.DESCRIPTION))"
   ]
  },
  {
   "cell_type": "code",
   "execution_count": 2,
   "id": "e1a9a3f8-44d7-4340-b243-9e8aff667533",
   "metadata": {},
   "outputs": [
    {
     "name": "stderr",
     "output_type": "stream",
     "text": [
      "t_total value of -1 results in schedule not being applied\n"
     ]
    }
   ],
   "source": [
    "conf = BertConfig(model_config)\n",
    "model = BertForMaskedLM(conf)\n",
    "PATH = \"../saved_models/MLM/BEHRT_synthea\"\n",
    "model = load_model(PATH, model)\n",
    "params = list(model.named_parameters())\n",
    "optim = adam(params, optim_param)"
   ]
  },
  {
   "cell_type": "code",
   "execution_count": 368,
   "id": "b40fe686-90eb-44e9-ba73-db7ab15ac572",
   "metadata": {},
   "outputs": [
    {
     "name": "stdout",
     "output_type": "stream",
     "text": [
      "Use diagnosis: True\n",
      "Use medications: False\n",
      "Use procedures: False\n",
      "Loading data\n"
     ]
    }
   ],
   "source": [
    "folderpath = '../data/pytorch_datasets/' + dataset_name\n",
    "patientdataset = EHRDataset(test, max_len=train_params['max_len_seq'], run_type='test_diagnosis', save_folder=folderpath,feature_types=feature_types, conditional_files=condfiles, tokenizer=tokenizer)\n",
    "patientdataloader = torch.utils.data.DataLoader(patientdataset, batch_size=64, pin_memory=True, shuffle=True)"
   ]
  },
  {
   "cell_type": "code",
   "execution_count": 369,
   "id": "dfa902cc-49cb-4c15-ae2e-928a3ca4d764",
   "metadata": {},
   "outputs": [],
   "source": [
    "from sklearn.manifold import TSNE\n",
    "tsne = TSNE(n_components=2)"
   ]
  },
  {
   "cell_type": "code",
   "execution_count": 370,
   "id": "85509a3f-87f8-4dda-aa40-95304401b339",
   "metadata": {},
   "outputs": [],
   "source": [
    "labels = []\n",
    "patient_label = []\n",
    "out=torch.Tensor()\n",
    "with torch.no_grad():\n",
    "    for idx, batch in enumerate(patientdataloader):\n",
    "        age, gender, code, position, segment, mask, label, prior_guide, tokens = batch\n",
    "        sentence = [tokenizer.convert_ids_to_tokens(tok.numpy().squeeze(), 'code') for tok in tokens[:]]\n",
    "        #sentence = [s for s in sentence if s != '[PAD]']\n",
    "        pattemp = [[i]*batch[0].shape[1] for i in range(batch[0].shape[0])]\n",
    "        labels.extend(sentence)\n",
    "        patient_label.extend(pattemp)\n",
    "        output = model.bert.embeddings.word_embeddings(code) \n",
    "        out = torch.cat((output, out), axis=0)\n",
    "        break"
   ]
  },
  {
   "cell_type": "code",
   "execution_count": 371,
   "id": "a8c1edd9-78f5-432a-8572-78a9473423a8",
   "metadata": {},
   "outputs": [
    {
     "data": {
      "text/plain": [
       "64"
      ]
     },
     "execution_count": 371,
     "metadata": {},
     "output_type": "execute_result"
    }
   ],
   "source": [
    "len(patient_label)"
   ]
  },
  {
   "cell_type": "code",
   "execution_count": 372,
   "id": "991ee07d-1792-4132-9dc2-b33863c52780",
   "metadata": {},
   "outputs": [
    {
     "data": {
      "text/plain": [
       "64"
      ]
     },
     "execution_count": 372,
     "metadata": {},
     "output_type": "execute_result"
    }
   ],
   "source": [
    "len(labels)"
   ]
  },
  {
   "cell_type": "code",
   "execution_count": 373,
   "id": "5dc0c510-66f7-4d47-ab78-94afb6edef8b",
   "metadata": {},
   "outputs": [],
   "source": [
    "output_reshaped = output.reshape(output.shape[0]*output.shape[1], -1)"
   ]
  },
  {
   "cell_type": "code",
   "execution_count": 374,
   "id": "8affd6a0-00ca-420f-bb15-b167ed043f99",
   "metadata": {},
   "outputs": [],
   "source": [
    "output_transformed = tsne.fit_transform(output_reshaped)"
   ]
  },
  {
   "cell_type": "code",
   "execution_count": 375,
   "id": "7057cc25-aca6-437b-83dd-564ab957bf19",
   "metadata": {},
   "outputs": [
    {
     "data": {
      "text/plain": [
       "(4096, 2)"
      ]
     },
     "execution_count": 375,
     "metadata": {},
     "output_type": "execute_result"
    }
   ],
   "source": [
    "output_transformed.shape"
   ]
  },
  {
   "cell_type": "code",
   "execution_count": 376,
   "id": "473b1cec-9591-48e2-ad5b-1054e457382b",
   "metadata": {},
   "outputs": [],
   "source": [
    "labels = np.concatenate(labels, axis=0)\n",
    "patient_label = np.concatenate(patient_label, axis=0)"
   ]
  },
  {
   "cell_type": "code",
   "execution_count": 377,
   "id": "7b3d61d8-4306-4e7b-b520-ebadfec97727",
   "metadata": {},
   "outputs": [
    {
     "data": {
      "text/plain": [
       "(4096, 4096)"
      ]
     },
     "execution_count": 377,
     "metadata": {},
     "output_type": "execute_result"
    }
   ],
   "source": [
    "len(labels), len(patient_label)"
   ]
  },
  {
   "cell_type": "code",
   "execution_count": 380,
   "id": "49a4134a-d402-4b3a-b3e9-f052d5fff138",
   "metadata": {},
   "outputs": [
    {
     "data": {
      "text/plain": [
       "<matplotlib.legend.Legend at 0x7f65af5f8c10>"
      ]
     },
     "execution_count": 380,
     "metadata": {},
     "output_type": "execute_result"
    },
    {
     "data": {
      "image/png": "[encoded data removed]",
      "text/plain": [
       "<Figure size 720x720 with 1 Axes>"
      ]
     },
     "metadata": {
      "needs_background": "light"
     },
     "output_type": "display_data"
    }
   ],
   "source": [
    "fig, ax = plt.subplots(figsize=(10, 10)) #each subplot of size 6x6, each row will hold 4 plots\n",
    "df = pd.DataFrame.from_dict({'x':output_transformed[:,0],'y':output_transformed[:,1], 'labels':labels})\n",
    "df = df[~df['labels'].isin(['[CLS]', '[SEP]', '[PAD]'])]\n",
    "df['labels'] = df['labels'].apply(lambda x: code_to_desc[x])\n",
    "df = df[df['labels'].str.contains('Hypertension|Diabetes|Chronic Kidney disease|kidney|Heart disease|Alzeimerz|Heart|heart|disease')]\n",
    "sns.scatterplot(data=df,x='x',y='y',hue='labels',ax=ax, palette='colorblind')\n",
    "ax.legend(loc='upper center', bbox_to_anchor=(1.2, 0.9),ncol=1, fancybox=True, shadow=True)"
   ]
  },
  {
   "cell_type": "code",
   "execution_count": null,
   "id": "83ea37a0-1c6e-45c1-841b-514e9e000d6c",
   "metadata": {},
   "outputs": [],
   "source": []
  }
 ],
 "metadata": {
  "kernelspec": {
   "display_name": "Python 3 (ipykernel)",
   "language": "python",
   "name": "python3"
  },
  "language_info": {
   "codemirror_mode": {
    "name": "ipython",
    "version": 3
   },
   "file_extension": ".py",
   "mimetype": "text/x-python",
   "name": "python",
   "nbconvert_exporter": "python",
   "pygments_lexer": "ipython3",
   "version": "3.7.11"
  }
 },
 "nbformat": 4,
 "nbformat_minor": 5
}
