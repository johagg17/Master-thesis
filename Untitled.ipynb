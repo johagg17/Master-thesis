{
 "cells": [
  {
   "cell_type": "code",
   "execution_count": 1,
   "id": "4f9a2d36-1120-460f-817a-9434e9e660f5",
   "metadata": {},
   "outputs": [
    {
     "name": "stderr",
     "output_type": "stream",
     "text": [
      "/var/local/home/linler17/.conda/envs/masterenv/lib/python3.7/site-packages/tqdm/auto.py:22: TqdmWarning: IProgress not found. Please update jupyter and ipywidgets. See https://ipywidgets.readthedocs.io/en/stable/user_install.html\n",
      "  from .autonotebook import tqdm as notebook_tqdm\n"
     ]
    }
   ],
   "source": [
    "from utils.packages import *"
   ]
  },
  {
   "cell_type": "code",
   "execution_count": 2,
   "id": "df92f046-6233-47f4-9905-679d216cd172",
   "metadata": {},
   "outputs": [],
   "source": [
    "datapth = 'data/datasets/MIMIC/mimic_done3.parquet'"
   ]
  },
  {
   "cell_type": "code",
   "execution_count": 3,
   "id": "bf575d30-d3b7-4ddb-8e26-ea6c1b8a7e62",
   "metadata": {},
   "outputs": [],
   "source": [
    "data = pd.read_parquet(datapth)"
   ]
  },
  {
   "cell_type": "code",
   "execution_count": 4,
   "id": "24acebf9-6317-4ff5-b943-ded5dade896d",
   "metadata": {},
   "outputs": [],
   "source": [
    "data = data.rename(columns={'ccsr':'diagnos_code', 'ndc':'medication_code', 'procedure_ccsr':'procedure_code'})"
   ]
  },
  {
   "cell_type": "code",
   "execution_count": 5,
   "id": "956df969-24e2-4bf9-b242-e6645fa44d63",
   "metadata": {},
   "outputs": [],
   "source": [
    "data['age'] = data['age'].apply(lambda x: list(map(int, x)))"
   ]
  },
  {
   "cell_type": "code",
   "execution_count": 6,
   "id": "5254ca44-3af0-42bb-b3af-5cfe81f0be8a",
   "metadata": {},
   "outputs": [
    {
     "data": {
      "text/plain": [
       "0         [62, 63, 64, 64, 65, 65]\n",
       "1                             [37]\n",
       "2                         [63, 63]\n",
       "3                         [51, 57]\n",
       "4                         [73, 74]\n",
       "                    ...           \n",
       "100529                        [84]\n",
       "100530                        [80]\n",
       "100531                [46, 47, 48]\n",
       "100532                    [84, 84]\n",
       "100533                    [60, 63]\n",
       "Name: age, Length: 100534, dtype: object"
      ]
     },
     "execution_count": 6,
     "metadata": {},
     "output_type": "execute_result"
    }
   ],
   "source": [
    "data['age'] "
   ]
  },
  {
   "cell_type": "code",
   "execution_count": 7,
   "id": "5e7e251e-9d78-461d-87e7-842b859abaf2",
   "metadata": {},
   "outputs": [],
   "source": [
    "train, val, test = train_test_val_split(data)"
   ]
  },
  {
   "cell_type": "code",
   "execution_count": 8,
   "id": "e18a7301-75cf-4dab-b8d3-8648a8168e42",
   "metadata": {},
   "outputs": [],
   "source": [
    "train.to_parquet('data/datasets/MIMIC/train.parquet')\n",
    "val.to_parquet('data/datasets/MIMIC/val.parquet')\n",
    "test.to_parquet('data/datasets/MIMIC/test.parquet')"
   ]
  },
  {
   "cell_type": "code",
   "execution_count": null,
   "id": "c809046b-41cb-45fa-a5a9-0ab6da1e6073",
   "metadata": {},
   "outputs": [],
   "source": []
  },
  {
   "cell_type": "code",
   "execution_count": 22,
   "id": "56b40652-89c2-4e07-a3e3-9f5cf2f65dec",
   "metadata": {},
   "outputs": [],
   "source": [
    "readmissionlab = 1\n",
    "datapath = 'data/datasets/Synthea/Final_cohorts/'"
   ]
  },
  {
   "cell_type": "code",
   "execution_count": 23,
   "id": "12022ac3-5deb-4ae8-a9a1-9eb726cabd07",
   "metadata": {},
   "outputs": [],
   "source": [
    "train = pd.read_parquet(datapath + 'train.parquet')\n",
    "test = pd.read_parquet(datapath + 'test.parquet')\n",
    "val = pd.read_parquet(datapath + 'val.parquet')"
   ]
  },
  {
   "cell_type": "code",
   "execution_count": 24,
   "id": "e2c160fd-ea17-464a-a8a8-bb41d8f978a3",
   "metadata": {},
   "outputs": [
    {
     "data": {
      "text/plain": [
       "(458971, 57371, 57372)"
      ]
     },
     "execution_count": 24,
     "metadata": {},
     "output_type": "execute_result"
    }
   ],
   "source": [
    "len(train), len(val), len(test)"
   ]
  },
  {
   "cell_type": "code",
   "execution_count": null,
   "id": "5b2311a8-1836-422d-af3a-75a634f93bf7",
   "metadata": {},
   "outputs": [],
   "source": []
  }
 ],
 "metadata": {
  "kernelspec": {
   "display_name": "Python 3 (ipykernel)",
   "language": "python",
   "name": "python3"
  },
  "language_info": {
   "codemirror_mode": {
    "name": "ipython",
    "version": 3
   },
   "file_extension": ".py",
   "mimetype": "text/x-python",
   "name": "python",
   "nbconvert_exporter": "python",
   "pygments_lexer": "ipython3",
   "version": "3.7.11"
  }
 },
 "nbformat": 4,
 "nbformat_minor": 5
}
