{
 "cells": [
  {
   "cell_type": "code",
   "execution_count": 1,
   "id": "4f9a2d36-1120-460f-817a-9434e9e660f5",
   "metadata": {},
   "outputs": [
    {
     "name": "stderr",
     "output_type": "stream",
     "text": [
      "/var/local/home/linler17/.conda/envs/masterenv/lib/python3.7/site-packages/tqdm/auto.py:22: TqdmWarning: IProgress not found. Please update jupyter and ipywidgets. See https://ipywidgets.readthedocs.io/en/stable/user_install.html\n",
      "  from .autonotebook import tqdm as notebook_tqdm\n"
     ]
    }
   ],
   "source": [
    "from utils.packages import *"
   ]
  },
  {
   "cell_type": "code",
   "execution_count": 65,
   "id": "df92f046-6233-47f4-9905-679d216cd172",
   "metadata": {},
   "outputs": [],
   "source": [
    "datapth = 'data/datasets/MIMIC/final_mimic_processed_all_data.parquet'"
   ]
  },
  {
   "cell_type": "code",
   "execution_count": 66,
   "id": "bf575d30-d3b7-4ddb-8e26-ea6c1b8a7e62",
   "metadata": {},
   "outputs": [],
   "source": [
    "data = pd.read_parquet(datapth)"
   ]
  },
  {
   "cell_type": "code",
   "execution_count": 67,
   "id": "24acebf9-6317-4ff5-b943-ded5dade896d",
   "metadata": {},
   "outputs": [],
   "source": [
    "data = data.rename(columns={'ccsr':'diagnos_code', 'ndc':'medication_code', 'procedure_ccsr':'procedure_code'})"
   ]
  },
  {
   "cell_type": "code",
   "execution_count": 68,
   "id": "956df969-24e2-4bf9-b242-e6645fa44d63",
   "metadata": {},
   "outputs": [],
   "source": [
    "data['age'] = data['age'].apply(lambda x: list(map(int, x)))"
   ]
  },
  {
   "cell_type": "code",
   "execution_count": 69,
   "id": "5254ca44-3af0-42bb-b3af-5cfe81f0be8a",
   "metadata": {},
   "outputs": [
    {
     "data": {
      "text/plain": [
       "0                             [47]\n",
       "1         [62, 63, 64, 64, 65, 65]\n",
       "2                             [37]\n",
       "3                         [63, 63]\n",
       "4                         [51, 57]\n",
       "                    ...           \n",
       "170291                        [40]\n",
       "170292                [46, 47, 48]\n",
       "170293                    [84, 84]\n",
       "170294                    [60, 63]\n",
       "170295                        [20]\n",
       "Name: age, Length: 170296, dtype: object"
      ]
     },
     "execution_count": 69,
     "metadata": {},
     "output_type": "execute_result"
    }
   ],
   "source": [
    "data['age'] "
   ]
  },
  {
   "cell_type": "code",
   "execution_count": 70,
   "id": "5e7e251e-9d78-461d-87e7-842b859abaf2",
   "metadata": {},
   "outputs": [],
   "source": [
    "train, val, test = train_test_val_split(data)"
   ]
  },
  {
   "cell_type": "code",
   "execution_count": 71,
   "id": "e18a7301-75cf-4dab-b8d3-8648a8168e42",
   "metadata": {},
   "outputs": [],
   "source": [
    "train.to_parquet('data/datasets/MIMIC/train.parquet')\n",
    "val.to_parquet('data/datasets/MIMIC/val.parquet')\n",
    "test.to_parquet('data/datasets/MIMIC/test.parquet')"
   ]
  },
  {
   "cell_type": "code",
   "execution_count": null,
   "id": "6255499f-7787-4c2b-aa09-b29b6ff71aa4",
   "metadata": {},
   "outputs": [],
   "source": []
  }
 ],
 "metadata": {
  "kernelspec": {
   "display_name": "Python 3",
   "language": "python",
   "name": "python3"
  },
  "language_info": {
   "codemirror_mode": {
    "name": "ipython",
    "version": 3
   },
   "file_extension": ".py",
   "mimetype": "text/x-python",
   "name": "python",
   "nbconvert_exporter": "python",
   "pygments_lexer": "ipython3",
   "version": "3.7.11"
  }
 },
 "nbformat": 4,
 "nbformat_minor": 5
}
