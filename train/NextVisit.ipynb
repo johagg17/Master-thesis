{
 "cells": [
  {
   "cell_type": "code",
   "execution_count": 1,
   "id": "78144517-03fd-419d-aabf-a289a4dea791",
   "metadata": {},
   "outputs": [],
   "source": [
    "def load_model(path, model):\n",
    "    # load pretrained model and update weights\n",
    "    pretrained_dict = torch.load(path)\n",
    "    model_dict = model.state_dict()\n",
    "    # 1. filter out unnecessary keys\n",
    "    pretrained_dict = {k: v for k, v in pretrained_dict.items() if k in model_dict}\n",
    "    # 2. overwrite entries in the existing state dict\n",
    "    model_dict.update(pretrained_dict)\n",
    "    # 3. load the new state dict\n",
    "    model.load_state_dict(model_dict)\n",
    "    return model"
   ]
  },
  {
   "cell_type": "code",
   "execution_count": 2,
   "id": "399c1ee1-4b68-47f1-a981-a96a721978c0",
   "metadata": {},
   "outputs": [],
   "source": [
    "def adam(params, config=None):\n",
    "    if config is None:\n",
    "        config = {\n",
    "            'lr': 3e-5,\n",
    "            'warmup_proportion': 0.1,\n",
    "            'weight_decay': 0.01\n",
    "        }\n",
    "        \n",
    "    no_decay = ['bias', 'LayerNorm.bias', 'LayerNorm.weight']\n",
    "\n",
    "    optimizer_grouped_parameters = [\n",
    "        {'params': [p for n, p in params if not any(nd in n for nd in no_decay)], 'weight_decay': 0.01},\n",
    "        {'params': [p for n, p in params if any(nd in n for nd in no_decay)], 'weight_decay': 0}\n",
    "    ]\n",
    "\n",
    "    optim = Bert.optimization.BertAdam(optimizer_grouped_parameters,\n",
    "                                       lr=config['lr'],\n",
    "                                       warmup=config['warmup_proportion'])\n",
    "    return optim"
   ]
  },
  {
   "cell_type": "code",
   "execution_count": 3,
   "id": "030e7de5-e88e-4933-b42d-842efcdb7fec",
   "metadata": {},
   "outputs": [],
   "source": [
    "import sys"
   ]
  },
  {
   "cell_type": "code",
   "execution_count": 4,
   "id": "04e22da2-3f36-4af6-9c60-4f02da3f784d",
   "metadata": {},
   "outputs": [],
   "source": [
    "from sklearn.model_selection import train_test_split"
   ]
  },
  {
   "cell_type": "code",
   "execution_count": 5,
   "id": "3f5e8e6d-d620-4752-bd16-5386251f7372",
   "metadata": {},
   "outputs": [],
   "source": [
    "sys.path.insert(1, '../')"
   ]
  },
  {
   "cell_type": "code",
   "execution_count": 6,
   "id": "101b75ad-041f-49bb-af52-13d352fb7a1c",
   "metadata": {},
   "outputs": [],
   "source": [
    "from utils.dataset import EHRDatasetCodePrediction\n",
    "from model.tokenizer import EHRTokenizer\n",
    "import pytorch_pretrained_bert as Bert\n",
    "from torch.utils.data import DataLoader\n",
    "from model.model import *\n",
    "from utils.config import BertConfig\n",
    "from model.model2 import BertMultiLabelPrediction\n",
    "from model.trainer import PatientTrajectoryPredictor\n",
    "import pytorch_lightning as pl"
   ]
  },
  {
   "cell_type": "code",
   "execution_count": 7,
   "id": "0fc54290-1628-4ea3-911e-c2b3a8eecdf1",
   "metadata": {},
   "outputs": [],
   "source": [
    "import pandas as pd\n",
    "import warnings\n",
    "warnings.filterwarnings('ignore')"
   ]
  },
  {
   "cell_type": "code",
   "execution_count": 8,
   "id": "94c6266a-0a07-41dd-a544-d5376f5907e6",
   "metadata": {},
   "outputs": [],
   "source": [
    "path = '../processing/readmission_data_ccsr_'"
   ]
  },
  {
   "cell_type": "code",
   "execution_count": 9,
   "id": "8680de6e-dd4e-4d9e-9239-cac18dfaedf1",
   "metadata": {},
   "outputs": [],
   "source": [
    "data = pd.read_parquet(path)"
   ]
  },
  {
   "cell_type": "code",
   "execution_count": 10,
   "id": "a63e6e3b-c3b3-4e96-b030-6c9bf2104b83",
   "metadata": {},
   "outputs": [],
   "source": [
    "#data.head()"
   ]
  },
  {
   "cell_type": "code",
   "execution_count": 11,
   "id": "9d8182aa-9d7e-4756-b130-c5e6062d325a",
   "metadata": {},
   "outputs": [],
   "source": [
    "data['visit_len'] = data['hadm_id'].apply(lambda x: len(x))"
   ]
  },
  {
   "cell_type": "code",
   "execution_count": 12,
   "id": "fd0931e2-1d5a-445b-82de-4d47386a3096",
   "metadata": {},
   "outputs": [],
   "source": [
    "datamorethan1visit = data[data['visit_len'] > 1]"
   ]
  },
  {
   "cell_type": "code",
   "execution_count": 13,
   "id": "da34b31a-e593-4331-84bc-ef391b6c4469",
   "metadata": {},
   "outputs": [],
   "source": [
    "datamorethan1visit['ccsr_traincodes'] = datamorethan1visit['ccsr'].apply(lambda x: x[:-1])\n",
    "datamorethan1visit['ccsr_labels'] = datamorethan1visit['ccsr'].apply(lambda x: x[-1])"
   ]
  },
  {
   "cell_type": "code",
   "execution_count": 14,
   "id": "cc60da27-cbd1-4a45-b946-4348fb331ff0",
   "metadata": {},
   "outputs": [],
   "source": [
    "#alllabels = []"
   ]
  },
  {
   "cell_type": "code",
   "execution_count": 15,
   "id": "6a63846f-d88a-4f0a-9f0c-f380e6b659fb",
   "metadata": {},
   "outputs": [],
   "source": [
    "#ccsr = []"
   ]
  },
  {
   "cell_type": "code",
   "execution_count": 16,
   "id": "1d671537-3d14-4b18-99b9-7ea311640203",
   "metadata": {},
   "outputs": [],
   "source": [
    "#datamorethan1visit"
   ]
  },
  {
   "cell_type": "code",
   "execution_count": 17,
   "id": "d86e8f06-a419-4a71-8c15-211ede223427",
   "metadata": {},
   "outputs": [],
   "source": [
    "def getcssrvoc(array):\n",
    "    for a in array:\n",
    "        for b in a:\n",
    "            ccsr.append(b)\n",
    "            "
   ]
  },
  {
   "cell_type": "code",
   "execution_count": 18,
   "id": "82b713ac-5817-4e40-8534-77ac1ce12419",
   "metadata": {},
   "outputs": [],
   "source": [
    "def getvoc(array):\n",
    "    for a in array:\n",
    "        alllabels.append(a)"
   ]
  },
  {
   "cell_type": "code",
   "execution_count": 19,
   "id": "8b06e84a-e4aa-4f3f-bf75-36ed1ed12718",
   "metadata": {},
   "outputs": [],
   "source": [
    "#datamorethan1visit['ccsr_traincodes'].apply(lambda x: getcssrvoc(x))"
   ]
  },
  {
   "cell_type": "code",
   "execution_count": 20,
   "id": "85bf8892-6419-4778-9ea2-05cecc3306f3",
   "metadata": {},
   "outputs": [],
   "source": [
    "#datamorethan1visit['ccsr_labels'].apply(lambda x: getvoc(x))"
   ]
  },
  {
   "cell_type": "code",
   "execution_count": 21,
   "id": "58e7ade6-e5af-4c18-89dd-99602e4aba13",
   "metadata": {},
   "outputs": [],
   "source": [
    "#len(set(alllabels))"
   ]
  },
  {
   "cell_type": "code",
   "execution_count": 22,
   "id": "6c3ee0c3-2250-4d20-baa4-f4ab16e91d43",
   "metadata": {},
   "outputs": [],
   "source": [
    "#np.save('../processing/ccsr_voc.npy', np.array(ccsr))"
   ]
  },
  {
   "cell_type": "code",
   "execution_count": 23,
   "id": "7eaba7fb-e523-4518-83b4-6c0488dbfefa",
   "metadata": {},
   "outputs": [],
   "source": [
    "global_params = {\n",
    "    'max_seq_len': 32,\n",
    "    'gradient_accumulation_steps': 1\n",
    "}\n",
    "\n",
    "optim_param = {\n",
    "    'lr': 3e-5,\n",
    "    'warmup_proportion': 0.1,\n",
    "    'weight_decay': 0.01\n",
    "}\n",
    "\n",
    "train_params = {\n",
    "    'batch_size': 64,\n",
    "    'use_cuda': True,\n",
    "    'max_len_seq': global_params['max_seq_len'],\n",
    "    'device': 'cuda' #change this to run on cuda #'cuda:0'\n",
    "}"
   ]
  },
  {
   "cell_type": "code",
   "execution_count": 24,
   "id": "70cce263-fe19-474c-8848-24b5cb4075cb",
   "metadata": {},
   "outputs": [],
   "source": [
    "tokenizer = EHRTokenizer(task='ccsr')"
   ]
  },
  {
   "cell_type": "code",
   "execution_count": 45,
   "id": "c922e48d-7ea5-4127-bcc3-edaa531a08e9",
   "metadata": {},
   "outputs": [
    {
     "data": {
      "text/plain": [
       "'\\nmodel_config = {\\n    \\'vocab_size\\': len(tokenizer.getVoc(\\'code\\').keys()), # number of disease + symbols for word embedding\\n    \\'hidden_size\\': 300, # word embedding and seg embedding hidden size\\n    \\'seg_vocab_size\\': 2, # number of vocab for seg embedding\\n    \\'age_vocab_size\\': len(tokenizer.getVoc(\\'age\\').keys()), # number of vocab for age embedding,\\n    \\'gender_vocab_size\\': 3,\\n    \\'max_position_embeddings\\': train_params[\\'max_len_seq\\'], # maximum number of tokens\\n    \\'hidden_dropout_prob\\': 0.1, # dropout rate\\n    \\'num_hidden_layers\\': 6, # number of multi-head attention layers required\\n    \\'num_attention_heads\\': 12, # number of attention heads\\n    \\'attention_probs_dropout_prob\\': 0.1, # multi-head attention dropout rate\\n    \\'intermediate_size\\': 300, # the size of the \"intermediate\" layer in the transformer encoder\\n    \\'hidden_act\\': \\'gelu\\', # The non-linear activation function in the encoder and the pooler \"gelu\", \\'relu\\', \\'swish\\' are supported\\n    \\'initializer_range\\': 0.02, # parameter weight initializer range\\n}\\n'"
      ]
     },
     "execution_count": 45,
     "metadata": {},
     "output_type": "execute_result"
    }
   ],
   "source": [
    "# Shallow\n",
    "\n",
    "model_config = {\n",
    "    'vocab_size': len(tokenizer.getVoc('code').keys()), # number of disease + symbols for word embedding\n",
    "    'hidden_size': 300, # word embedding and seg embedding hidden size\n",
    "    'seg_vocab_size': 2, # number of vocab for seg embedding\n",
    "    'age_vocab_size': len(tokenizer.getVoc('age').keys()), # number of vocab for age embedding,\n",
    "    'gender_vocab_size': 3,\n",
    "    'max_position_embeddings': train_params['max_len_seq'], # maximum number of tokens\n",
    "    'hidden_dropout_prob': 0.1, # dropout rate\n",
    "    'num_hidden_layers': 2, # number of multi-head attention layers required\n",
    "    'num_attention_heads': 4, # number of attention heads\n",
    "    'attention_probs_dropout_prob': 0.1, # multi-head attention dropout rate\n",
    "    'intermediate_size': 300, # the size of the \"intermediate\" layer in the transformer encoder\n",
    "    'hidden_act': 'gelu', # The non-linear activation function in the encoder and the pooler \"gelu\", 'relu', 'swish' are supported\n",
    "    'initializer_range': 0.02, # parameter weight initializer range\n",
    "}\n",
    "\n",
    "#Deep\n",
    "'''\n",
    "model_config = {\n",
    "    'vocab_size': len(tokenizer.getVoc('code').keys()), # number of disease + symbols for word embedding\n",
    "    'hidden_size': 300, # word embedding and seg embedding hidden size\n",
    "    'seg_vocab_size': 2, # number of vocab for seg embedding\n",
    "    'age_vocab_size': len(tokenizer.getVoc('age').keys()), # number of vocab for age embedding,\n",
    "    'gender_vocab_size': 3,\n",
    "    'max_position_embeddings': train_params['max_len_seq'], # maximum number of tokens\n",
    "    'hidden_dropout_prob': 0.1, # dropout rate\n",
    "    'num_hidden_layers': 6, # number of multi-head attention layers required\n",
    "    'num_attention_heads': 12, # number of attention heads\n",
    "    'attention_probs_dropout_prob': 0.1, # multi-head attention dropout rate\n",
    "    'intermediate_size': 300, # the size of the \"intermediate\" layer in the transformer encoder\n",
    "    'hidden_act': 'gelu', # The non-linear activation function in the encoder and the pooler \"gelu\", 'relu', 'swish' are supported\n",
    "    'initializer_range': 0.02, # parameter weight initializer range\n",
    "}\n",
    "'''"
   ]
  },
  {
   "cell_type": "code",
   "execution_count": 46,
   "id": "7937fb58-2875-4e38-8376-cef95857f4d0",
   "metadata": {},
   "outputs": [],
   "source": [
    "class BertConfig(Bert.modeling.BertConfig):\n",
    "    def __init__(self, config):\n",
    "        super(BertConfig, self).__init__(\n",
    "            vocab_size_or_config_json_file=config.get('vocab_size'),\n",
    "            hidden_size=config['hidden_size'],\n",
    "            num_hidden_layers=config.get('num_hidden_layers'),\n",
    "            num_attention_heads=config.get('num_attention_heads'),\n",
    "            intermediate_size=config.get('intermediate_size'),\n",
    "            hidden_act=config.get('hidden_act'),\n",
    "            hidden_dropout_prob=config.get('hidden_dropout_prob'),\n",
    "            attention_probs_dropout_prob=config.get('attention_probs_dropout_prob'),\n",
    "            max_position_embeddings = config.get('max_position_embeddings'),\n",
    "            initializer_range=config.get('initializer_range'),\n",
    "        )\n",
    "        self.seg_vocab_size = config.get('seg_vocab_size')\n",
    "        self.age_vocab_size = config.get('age_vocab_size')\n",
    "        self.gender_vocab_size = config.get('gender_vocab_size')"
   ]
  },
  {
   "cell_type": "code",
   "execution_count": 47,
   "id": "a71e1efc-2c24-4dd2-81d4-38b80645aacd",
   "metadata": {},
   "outputs": [],
   "source": [
    "conf = BertConfig(model_config)\n",
    "tensorboarddir = '../logs/'"
   ]
  },
  {
   "cell_type": "code",
   "execution_count": 28,
   "id": "26901842-dc9e-42ea-b46f-84e233766be8",
   "metadata": {},
   "outputs": [],
   "source": [
    "voc = {}\n",
    "def get(x):\n",
    "    for a in x:\n",
    "        for b in a:\n",
    "            if b not in voc:\n",
    "                voc[b] = 1\n",
    "            else:\n",
    "                voc[b] += 1\n",
    "                \n",
    "s = datamorethan1visit['ccsr_traincodes'].apply(lambda x: get(x))"
   ]
  },
  {
   "cell_type": "code",
   "execution_count": 48,
   "id": "0a8257b5-0bbf-4730-beec-0e41c3dda106",
   "metadata": {},
   "outputs": [],
   "source": [
    "trainset, testset = train_test_split(datamorethan1visit, test_size=0.2)"
   ]
  },
  {
   "cell_type": "code",
   "execution_count": 30,
   "id": "4488a2ab-f80e-4020-a9ff-90c26d67f6ec",
   "metadata": {},
   "outputs": [],
   "source": [
    "labelvoc = tokenizer.getVoc('label')"
   ]
  },
  {
   "cell_type": "code",
   "execution_count": 49,
   "id": "dc24ce70-a4f4-46b3-807e-e607152d9624",
   "metadata": {},
   "outputs": [
    {
     "data": {
      "text/plain": [
       "MultiLabelBinarizer(classes=[0, 1, 2, 3, 4, 5, 6, 7, 8, 9, 10, 11, 12, 13, 14,\n",
       "                             15, 16, 17, 18, 19, 20, 21, 22, 23, 24, 25, 26, 27,\n",
       "                             28, 29, ...])"
      ]
     },
     "execution_count": 49,
     "metadata": {},
     "output_type": "execute_result"
    }
   ],
   "source": [
    "from sklearn.preprocessing import MultiLabelBinarizer\n",
    "mlb = MultiLabelBinarizer(classes=list(labelvoc.values()))\n",
    "mlb.fit([[each] for each in list(labelvoc.values())])"
   ]
  },
  {
   "cell_type": "code",
   "execution_count": 50,
   "id": "5f74f994-1abc-4a0a-828d-62adcbaefc66",
   "metadata": {},
   "outputs": [],
   "source": [
    "traindata = EHRDatasetCodePrediction(trainset, max_len=train_params['max_len_seq'], tokenizer=tokenizer) \n",
    "testdata = EHRDatasetCodePrediction(testset, max_len=train_params['max_len_seq'], tokenizer=tokenizer) "
   ]
  },
  {
   "cell_type": "code",
   "execution_count": 51,
   "id": "b4b98d83-8222-49d2-8767-0e3deaa8c38d",
   "metadata": {},
   "outputs": [
    {
     "name": "stderr",
     "output_type": "stream",
     "text": [
      "GPU available: True, used: True\n",
      "TPU available: False, using: 0 TPU cores\n",
      "IPU available: False, using: 0 IPUs\n"
     ]
    }
   ],
   "source": [
    "trainer = pl.Trainer(\n",
    "        max_epochs=5, \n",
    "        gpus=-1,\n",
    "        logger=pl.loggers.TensorBoardLogger(save_dir=tensorboarddir),\n",
    "        callbacks=[pl.callbacks.progress.TQDMProgressBar()], \n",
    "        progress_bar_refresh_rate=1,\n",
    "        weights_summary=None, # Can be None, top or full\n",
    "        num_sanity_val_steps=10,\n",
    "    )\n",
    "\n",
    "trainloader = torch.utils.data.DataLoader(traindata, batch_size=train_params['batch_size'], shuffle=True, num_workers=4)\n",
    "testloader = torch.utils.data.DataLoader(testdata, batch_size=train_params['batch_size'], shuffle=True, num_workers=4)"
   ]
  },
  {
   "cell_type": "code",
   "execution_count": 52,
   "id": "e2932aac-7aae-41d5-bb05-39336b7434e9",
   "metadata": {},
   "outputs": [
    {
     "name": "stderr",
     "output_type": "stream",
     "text": [
      "t_total value of -1 results in schedule not being applied\n"
     ]
    }
   ],
   "source": [
    "model = BertMultiLabelPrediction(conf, num_labels=len(labelvoc.keys())) \n",
    "PATH = \"../saved_models/MLM/shallow_notsuffled\"\n",
    "model = load_model(PATH, model)\n",
    "params = list(model.named_parameters())\n",
    "optim = adam(params, optim_param)"
   ]
  },
  {
   "cell_type": "code",
   "execution_count": 53,
   "id": "4b076db0-de24-47a0-9a20-410b1a41c338",
   "metadata": {},
   "outputs": [
    {
     "name": "stderr",
     "output_type": "stream",
     "text": [
      "LOCAL_RANK: 0 - CUDA_VISIBLE_DEVICES: [0]\n"
     ]
    },
    {
     "name": "stdout",
     "output_type": "stream",
     "text": [
      "Epoch 4: 100%|████████████████████████████████████████████████| 913/913 [01:41<00:00,  8.98it/s, loss=0.0776, v_num=188]"
     ]
    },
    {
     "name": "stderr",
     "output_type": "stream",
     "text": [
      "LOCAL_RANK: 0 - CUDA_VISIBLE_DEVICES: [0]\n"
     ]
    },
    {
     "name": "stdout",
     "output_type": "stream",
     "text": [
      "\n",
      "Predicting: 913it [00:28, ?it/s]\n"
     ]
    }
   ],
   "source": [
    "patienttrajectory = PatientTrajectoryPredictor(model, optim, optim_param, train_objective='visit', metrics=True, binarizer=mlb)\n",
    "\n",
    "trainer.fit(\n",
    "    patienttrajectory, \n",
    "    train_dataloader=trainloader,\n",
    ");\n",
    "\n",
    "predictions = trainer.predict(patienttrajectory, dataloaders=testloader)"
   ]
  },
  {
   "cell_type": "code",
   "execution_count": null,
   "id": "6874d4f8-3644-4c22-9751-3766fa7b68ff",
   "metadata": {},
   "outputs": [],
   "source": []
  },
  {
   "cell_type": "code",
   "execution_count": 56,
   "id": "a7dcbca2-844e-4b4a-b5b9-0121f7c1f52f",
   "metadata": {},
   "outputs": [],
   "source": [
    "PATH = '../saved_models/NextxVisit/shallow_notsuffled'\n",
    "torch.save(model.state_dict(), PATH)"
   ]
  },
  {
   "cell_type": "code",
   "execution_count": 54,
   "id": "29b4a3a1-8f36-4904-8336-76f1bf46f634",
   "metadata": {},
   "outputs": [
    {
     "data": {
      "text/plain": [
       "0.304247055475446"
      ]
     },
     "execution_count": 54,
     "metadata": {},
     "output_type": "execute_result"
    }
   ],
   "source": [
    "aucpr = 0\n",
    "for pred in predictions:\n",
    "    aucpr+=pred['AUCPR']\n",
    "aucpr / len(predictions)"
   ]
  },
  {
   "cell_type": "code",
   "execution_count": 55,
   "id": "b1283d10-771b-4d4f-ba1f-6d1292aff7d0",
   "metadata": {},
   "outputs": [
    {
     "data": {
      "text/plain": [
       "0.8880110274767896"
      ]
     },
     "execution_count": 55,
     "metadata": {},
     "output_type": "execute_result"
    }
   ],
   "source": [
    "auc = 0\n",
    "for pred in predictions:\n",
    "    auc+=pred['AUC']\n",
    "auc / len(predictions)"
   ]
  },
  {
   "cell_type": "code",
   "execution_count": null,
   "id": "56d572b6-3243-46a5-b834-104f489a1ecf",
   "metadata": {},
   "outputs": [],
   "source": []
  }
 ],
 "metadata": {
  "kernelspec": {
   "display_name": "Python 3 (ipykernel)",
   "language": "python",
   "name": "python3"
  },
  "language_info": {
   "codemirror_mode": {
    "name": "ipython",
    "version": 3
   },
   "file_extension": ".py",
   "mimetype": "text/x-python",
   "name": "python",
   "nbconvert_exporter": "python",
   "pygments_lexer": "ipython3",
   "version": "3.7.11"
  }
 },
 "nbformat": 4,
 "nbformat_minor": 5
}
