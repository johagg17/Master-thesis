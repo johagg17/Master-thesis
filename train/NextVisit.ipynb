{
 "cells": [
  {
   "cell_type": "code",
   "execution_count": 1,
   "id": "ab1a433d-96af-4d3a-94b2-072c1bc0db1c",
   "metadata": {},
   "outputs": [],
   "source": [
    "import sys\n",
    "sys.path.insert(1, '../')\n",
    "from utils.packages import *"
   ]
  },
  {
   "cell_type": "code",
   "execution_count": 2,
   "id": "487772a7-3c21-4109-9c20-150ef924fdbb",
   "metadata": {},
   "outputs": [],
   "source": [
    "#train, val, test = train_test_val_split(dataset, train_ratio=0.6, validation_ratio=0.2, test_ratio=0.2)\n",
    "path='../data/datasets/synthea/'\n",
    "#train.to_parquet(path + 'train')\n",
    "#val.to_parquet(path + 'val')\n",
    "#test.to_parquet(path + 'test')\n",
    "\n",
    "train = pd.read_parquet(path + 'train')\n",
    "val = pd.read_parquet(path + 'val')\n",
    "test = pd.read_parquet(path + 'test')"
   ]
  },
  {
   "cell_type": "code",
   "execution_count": 3,
   "id": "7eaba7fb-e523-4518-83b4-6c0488dbfefa",
   "metadata": {},
   "outputs": [],
   "source": [
    "global_params = {\n",
    "    'max_seq_len': 32,\n",
    "    'gradient_accumulation_steps': 1\n",
    "}\n",
    "\n",
    "optim_param = {\n",
    "    'lr': 3e-5,\n",
    "    'warmup_proportion': 0.1,\n",
    "    'weight_decay': 0.01\n",
    "}\n",
    "\n",
    "train_params = {\n",
    "    'batch_size': 32,\n",
    "    'use_cuda': True,\n",
    "    'max_len_seq': global_params['max_seq_len'],\n",
    "    'device': 'cuda' #change this to run on cuda #'cuda:0'\n",
    "}"
   ]
  },
  {
   "cell_type": "code",
   "execution_count": 4,
   "id": "baa647e3-34e7-48cc-8fcc-abd08b3b9533",
   "metadata": {},
   "outputs": [],
   "source": [
    "#diagnos_codes = dataset['diagnos_code'].tolist()\n",
    "#file_path = '../data/vocabularies/Synthea/labels'\n",
    "#write_codes_to_file(diagnos_codes, file_path)"
   ]
  },
  {
   "cell_type": "code",
   "execution_count": 5,
   "id": "fc5b056a-b2d4-4eed-ae6b-30d7495cf96a",
   "metadata": {},
   "outputs": [],
   "source": [
    "#file_path = '../data/vocabularies/Synthea/labels.npy'\n",
    "#s = np.load(file_path)"
   ]
  },
  {
   "cell_type": "code",
   "execution_count": 6,
   "id": "a56fc535-ee81-498f-a0ae-e244e0162817",
   "metadata": {},
   "outputs": [],
   "source": [
    "files = {'code':'../data/vocabularies/Synthea/snomedrxnorm.npy',\n",
    "         'age':'../data/vocabularies/Synthea/age.npy',\n",
    "         'labels':'../data/vocabularies/Synthea/labels.npy'\n",
    "        }\n",
    "tokenizer = EHRTokenizer(task='nextvisit', filenames=files)"
   ]
  },
  {
   "cell_type": "code",
   "execution_count": 7,
   "id": "c922e48d-7ea5-4127-bcc3-edaa531a08e9",
   "metadata": {},
   "outputs": [],
   "source": [
    "model_config = {\n",
    "    'vocab_size': len(tokenizer.getVoc('code').keys()), # number of disease + symbols for word embedding\n",
    "    'hidden_size': 288, # word embedding and seg embedding hidden size\n",
    "    'seg_vocab_size': 2, # number of vocab for seg embedding\n",
    "    'age_vocab_size': len(tokenizer.getVoc('age').keys()), # number of vocab for age embedding,\n",
    "    'gender_vocab_size': 3,\n",
    "    'max_position_embeddings': train_params['max_len_seq'], # maximum number of tokens\n",
    "    'hidden_dropout_prob': 0.1, # dropout rate\n",
    "    'num_hidden_layers': 4, # number of multi-head attention layers required\n",
    "    'num_attention_heads': 6, # number of attention heads\n",
    "    'attention_probs_dropout_prob': 0.1, # multi-head attention dropout rate\n",
    "    'intermediate_size': 512, # the size of the \"intermediate\" layer in the transformer encoder\n",
    "    'hidden_act': 'gelu', # The non-linear activation function in the encoder and the pooler \"gelu\", 'relu', 'swish' are supported\n",
    "    'initializer_range': 0.02, # parameter weight initializer range\n",
    "    'use_prior':True,\n",
    "}"
   ]
  },
  {
   "cell_type": "code",
   "execution_count": 8,
   "id": "a71e1efc-2c24-4dd2-81d4-38b80645aacd",
   "metadata": {},
   "outputs": [],
   "source": [
    "conf = BertConfig(model_config)\n",
    "tensorboarddir = '../logs/'"
   ]
  },
  {
   "cell_type": "code",
   "execution_count": 9,
   "id": "0a8257b5-0bbf-4730-beec-0e41c3dda106",
   "metadata": {},
   "outputs": [],
   "source": [
    "condfiles = {'dd':'../data/train_stats/dd_cond_probs.empirical.p', \n",
    "             'dp':'../data/train_stats/dp_cond_probs.empirical.p', \n",
    "             'pp':'../data/train_stats/pp_cond_probs.empirical.p' , \n",
    "             'pd':'../data/train_stats/pd_cond_probs.empirical.p'\n",
    "            }"
   ]
  },
  {
   "cell_type": "code",
   "execution_count": 10,
   "id": "dc24ce70-a4f4-46b3-807e-e607152d9624",
   "metadata": {},
   "outputs": [
    {
     "data": {
      "text/plain": [
       "MultiLabelBinarizer(classes=[0, 1, 2, 3, 4, 5, 6, 7, 8, 9, 10, 11, 12, 13, 14,\n",
       "                             15, 16, 17, 18, 19, 20, 21, 22, 23, 24, 25, 26, 27,\n",
       "                             28, 29, ...])"
      ]
     },
     "execution_count": 10,
     "metadata": {},
     "output_type": "execute_result"
    }
   ],
   "source": [
    "from sklearn.preprocessing import MultiLabelBinarizer\n",
    "mlb = MultiLabelBinarizer(classes=list(tokenizer.getVoc('label').values()))\n",
    "mlb.fit([[each] for each in list(tokenizer.getVoc('label').values())])"
   ]
  },
  {
   "cell_type": "code",
   "execution_count": 11,
   "id": "5f74f994-1abc-4a0a-828d-62adcbaefc66",
   "metadata": {},
   "outputs": [
    {
     "name": "stdout",
     "output_type": "stream",
     "text": [
      "Loading data\n",
      "Loading data\n",
      "Loading data\n"
     ]
    }
   ],
   "source": [
    "traind = EHRDatasetCodePrediction(train, max_len=train_params['max_len_seq'], conditional_files=condfiles, tokenizer=tokenizer, run_type='train') \n",
    "vald = EHRDatasetCodePrediction(val, max_len=train_params['max_len_seq'], conditional_files=condfiles,tokenizer=tokenizer, run_type='val')\n",
    "testd = EHRDatasetCodePrediction(test, max_len=train_params['max_len_seq'], conditional_files=condfiles,tokenizer=tokenizer, run_type='test') "
   ]
  },
  {
   "cell_type": "code",
   "execution_count": 12,
   "id": "4bea7670-2e51-4640-b989-c7d1dbbc9913",
   "metadata": {},
   "outputs": [],
   "source": [
    "trainloader = torch.utils.data.DataLoader(traind, batch_size=32, shuffle=True, num_workers=4)\n",
    "valloader = torch.utils.data.DataLoader(vald, batch_size=32, shuffle=True, num_workers=4)\n",
    "testloader = torch.utils.data.DataLoader(testd, batch_size=32, shuffle=True, num_workers=4)"
   ]
  },
  {
   "cell_type": "code",
   "execution_count": 13,
   "id": "b4b98d83-8222-49d2-8767-0e3deaa8c38d",
   "metadata": {},
   "outputs": [
    {
     "name": "stderr",
     "output_type": "stream",
     "text": [
      "GPU available: True, used: True\n",
      "TPU available: False, using: 0 TPU cores\n",
      "IPU available: False, using: 0 IPUs\n"
     ]
    }
   ],
   "source": [
    "trainer = pl.Trainer(\n",
    "        max_epochs=5, \n",
    "        gpus=-1,\n",
    "        logger=pl.loggers.TensorBoardLogger(save_dir=tensorboarddir),\n",
    "        callbacks=[pl.callbacks.progress.TQDMProgressBar()], \n",
    "        progress_bar_refresh_rate=1,\n",
    "        weights_summary=None, # Can be None, top or full\n",
    "        num_sanity_val_steps=10,\n",
    "    )"
   ]
  },
  {
   "cell_type": "code",
   "execution_count": 14,
   "id": "e2932aac-7aae-41d5-bb05-39336b7434e9",
   "metadata": {},
   "outputs": [
    {
     "name": "stderr",
     "output_type": "stream",
     "text": [
      "t_total value of -1 results in schedule not being applied\n"
     ]
    }
   ],
   "source": [
    "model = BertMultiLabelPrediction(conf, num_labels=len(tokenizer.getVoc('label').keys())) \n",
    "PATH = \"../saved_models/MLM/model_with_prior_82test\"\n",
    "model = load_model(PATH, model)\n",
    "params = list(model.named_parameters())\n",
    "optim = adam(params, optim_param)"
   ]
  },
  {
   "cell_type": "code",
   "execution_count": 15,
   "id": "4b076db0-de24-47a0-9a20-410b1a41c338",
   "metadata": {},
   "outputs": [
    {
     "name": "stderr",
     "output_type": "stream",
     "text": [
      "LOCAL_RANK: 0 - CUDA_VISIBLE_DEVICES: [0]\n"
     ]
    },
    {
     "data": {
      "application/vnd.jupyter.widget-view+json": {
       "model_id": "",
       "version_major": 2,
       "version_minor": 0
      },
      "text/plain": [
       "Validation sanity check: 0it [00:00, ?it/s]"
      ]
     },
     "metadata": {},
     "output_type": "display_data"
    },
    {
     "data": {
      "application/vnd.jupyter.widget-view+json": {
       "model_id": "7520c42d048a4bc4a71c8bbeb77cbbeb",
       "version_major": 2,
       "version_minor": 0
      },
      "text/plain": [
       "Training: 0it [00:00, ?it/s]"
      ]
     },
     "metadata": {},
     "output_type": "display_data"
    },
    {
     "name": "stderr",
     "output_type": "stream",
     "text": [
      "LOCAL_RANK: 0 - CUDA_VISIBLE_DEVICES: [0]\n"
     ]
    },
    {
     "data": {
      "application/vnd.jupyter.widget-view+json": {
       "model_id": "8d1699fbc7894da9bdaec0b700090cac",
       "version_major": 2,
       "version_minor": 0
      },
      "text/plain": [
       "Predicting: 136it [00:00, ?it/s]"
      ]
     },
     "metadata": {},
     "output_type": "display_data"
    },
    {
     "name": "stderr",
     "output_type": "stream",
     "text": [
      "Process Process-10:\n",
      "Exception ignored in: <function _releaseLock at 0x7f6357ee3830>\n",
      "Traceback (most recent call last):\n",
      "  File \"/home/stud/j/johagg17/.conda/envs/masterenv/lib/python3.7/logging/__init__.py\", line 221, in _releaseLock\n",
      "    def _releaseLock():\n",
      "KeyboardInterrupt\n",
      "Traceback (most recent call last):\n",
      "  File \"/home/stud/j/johagg17/.conda/envs/masterenv/lib/python3.7/multiprocessing/process.py\", line 290, in _bootstrap\n",
      "    util._run_after_forkers()\n",
      "  File \"/home/stud/j/johagg17/.conda/envs/masterenv/lib/python3.7/multiprocessing/util.py\", line 167, in _run_after_forkers\n",
      "    func(obj)\n",
      "  File \"/home/stud/j/johagg17/.conda/envs/masterenv/lib/python3.7/multiprocessing/queues.py\", line 76, in _after_fork\n",
      "    self._send_bytes = self._writer.send_bytes\n",
      "KeyboardInterrupt\n",
      "Exception ignored in: <function _MultiProcessingDataLoaderIter.__del__ at 0x7f620ab1b560>\n",
      "Traceback (most recent call last):\n",
      "  File \"/home/stud/j/johagg17/.conda/envs/masterenv/lib/python3.7/site-packages/torch/utils/data/dataloader.py\", line 1328, in __del__\n",
      "    self._shutdown_workers()\n",
      "  File \"/home/stud/j/johagg17/.conda/envs/masterenv/lib/python3.7/site-packages/torch/utils/data/dataloader.py\", line 1301, in _shutdown_workers\n",
      "    w.join(timeout=_utils.MP_STATUS_CHECK_INTERVAL)\n",
      "  File \"/home/stud/j/johagg17/.conda/envs/masterenv/lib/python3.7/multiprocessing/process.py\", line 140, in join\n",
      "    res = self._popen.wait(timeout)\n",
      "  File \"/home/stud/j/johagg17/.conda/envs/masterenv/lib/python3.7/multiprocessing/popen_fork.py\", line 45, in wait\n",
      "    if not wait([self.sentinel], timeout):\n",
      "  File \"/home/stud/j/johagg17/.conda/envs/masterenv/lib/python3.7/multiprocessing/connection.py\", line 921, in wait\n",
      "    ready = selector.select(timeout)\n",
      "  File \"/home/stud/j/johagg17/.conda/envs/masterenv/lib/python3.7/selectors.py\", line 415, in select\n",
      "    fd_event_list = self._selector.poll(timeout)\n",
      "  File \"/home/stud/j/johagg17/.conda/envs/masterenv/lib/python3.7/site-packages/torch/utils/data/_utils/signal_handling.py\", line 66, in handler\n",
      "    _error_if_any_worker_fails()\n",
      "RuntimeError: DataLoader worker (pid 3521400) exited unexpectedly with exit code 1. Details are lost due to multiprocessing. Rerunning with num_workers=0 may give better error trace.\n"
     ]
    }
   ],
   "source": [
    "patienttrajectory = TrainerCodes(model, optim, optim_param, binarizer=mlb)\n",
    "\n",
    "trainer.fit(\n",
    "    patienttrajectory, \n",
    "    train_dataloaders=trainloader,\n",
    "    val_dataloaders=valloader,\n",
    ");\n",
    "\n",
    "predictions = trainer.predict(patienttrajectory, dataloaders=testloader)"
   ]
  },
  {
   "cell_type": "code",
   "execution_count": 17,
   "id": "29b4a3a1-8f36-4904-8336-76f1bf46f634",
   "metadata": {},
   "outputs": [
    {
     "data": {
      "text/plain": [
       "0.4741216475517144"
      ]
     },
     "execution_count": 17,
     "metadata": {},
     "output_type": "execute_result"
    }
   ],
   "source": [
    "aucpr = 0\n",
    "for pred in predictions:\n",
    "    aucpr+=pred['AUCPR']\n",
    "aucpr / len(predictions)"
   ]
  },
  {
   "cell_type": "code",
   "execution_count": 19,
   "id": "b1283d10-771b-4d4f-ba1f-6d1292aff7d0",
   "metadata": {},
   "outputs": [
    {
     "data": {
      "text/plain": [
       "0.8711814074197308"
      ]
     },
     "execution_count": 19,
     "metadata": {},
     "output_type": "execute_result"
    }
   ],
   "source": [
    "auc = 0\n",
    "for pred in predictions:\n",
    "    auc+=pred['AUC']\n",
    "auc / len(predictions)"
   ]
  }
 ],
 "metadata": {
  "kernelspec": {
   "display_name": "Python 3 (ipykernel)",
   "language": "python",
   "name": "python3"
  },
  "language_info": {
   "codemirror_mode": {
    "name": "ipython",
    "version": 3
   },
   "file_extension": ".py",
   "mimetype": "text/x-python",
   "name": "python",
   "nbconvert_exporter": "python",
   "pygments_lexer": "ipython3",
   "version": "3.7.11"
  }
 },
 "nbformat": 4,
 "nbformat_minor": 5
}
