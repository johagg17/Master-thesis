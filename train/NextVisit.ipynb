{
 "cells": [
  {
   "cell_type": "code",
   "execution_count": 1,
   "id": "030e7de5-e88e-4933-b42d-842efcdb7fec",
   "metadata": {},
   "outputs": [],
   "source": [
    "import sys"
   ]
  },
  {
   "cell_type": "code",
   "execution_count": 2,
   "id": "3f5e8e6d-d620-4752-bd16-5386251f7372",
   "metadata": {},
   "outputs": [],
   "source": [
    "sys.path.insert(1, '../')"
   ]
  },
  {
   "cell_type": "code",
   "execution_count": 3,
   "id": "101b75ad-041f-49bb-af52-13d352fb7a1c",
   "metadata": {},
   "outputs": [],
   "source": [
    "from utils.dataset import EHRDataset\n",
    "from utils.dataset import EHRDatasetPredictionTask\n",
    "from model.tokenizer import EHRTokenizer\n",
    "import pytorch_pretrained_bert as Bert\n",
    "from torch.utils.data import DataLoader\n",
    "from model.model import *\n",
    "from utils.config import BertConfig\n",
    "from model.trainer import PatientTrajectoryPredictor\n",
    "import pytorch_lightning as pl"
   ]
  },
  {
   "cell_type": "code",
   "execution_count": 4,
   "id": "0fc54290-1628-4ea3-911e-c2b3a8eecdf1",
   "metadata": {},
   "outputs": [],
   "source": [
    "import pandas as pd\n",
    "import warnings\n",
    "warnings.filterwarnings('ignore')"
   ]
  },
  {
   "cell_type": "code",
   "execution_count": 5,
   "id": "94c6266a-0a07-41dd-a544-d5376f5907e6",
   "metadata": {},
   "outputs": [],
   "source": [
    "path = '../processing/next_visit'"
   ]
  },
  {
   "cell_type": "code",
   "execution_count": 6,
   "id": "8680de6e-dd4e-4d9e-9239-cac18dfaedf1",
   "metadata": {},
   "outputs": [],
   "source": [
    "data = pd.read_parquet(path)"
   ]
  },
  {
   "cell_type": "code",
   "execution_count": 7,
   "id": "a63e6e3b-c3b3-4e96-b030-6c9bf2104b83",
   "metadata": {},
   "outputs": [
    {
     "data": {
      "text/html": [
       "<div>\n",
       "<style scoped>\n",
       "    .dataframe tbody tr th:only-of-type {\n",
       "        vertical-align: middle;\n",
       "    }\n",
       "\n",
       "    .dataframe tbody tr th {\n",
       "        vertical-align: top;\n",
       "    }\n",
       "\n",
       "    .dataframe thead th {\n",
       "        text-align: right;\n",
       "    }\n",
       "</style>\n",
       "<table border=\"1\" class=\"dataframe\">\n",
       "  <thead>\n",
       "    <tr style=\"text-align: right;\">\n",
       "      <th></th>\n",
       "      <th>subject_id</th>\n",
       "      <th>icd_code</th>\n",
       "      <th>age</th>\n",
       "      <th>alcohol_abuse</th>\n",
       "      <th>tobacco_abuse</th>\n",
       "      <th>ndc</th>\n",
       "      <th>hadm_id</th>\n",
       "      <th>medication_label</th>\n",
       "      <th>gender</th>\n",
       "      <th>icd_labels</th>\n",
       "    </tr>\n",
       "  </thead>\n",
       "  <tbody>\n",
       "    <tr>\n",
       "      <th>0</th>\n",
       "      <td>10236661</td>\n",
       "      <td>[[34690, 42731, 42781, 4019, 311, V5861, V4501...</td>\n",
       "      <td>[80.0]</td>\n",
       "      <td>[0]</td>\n",
       "      <td>[0]</td>\n",
       "      <td>[[245004101, 51079082120, 56017275, 93435693, ...</td>\n",
       "      <td>[21942970]</td>\n",
       "      <td>[406055262, 63481068706, 51079007320, 51079069...</td>\n",
       "      <td>F</td>\n",
       "      <td>[4280]</td>\n",
       "    </tr>\n",
       "    <tr>\n",
       "      <th>1</th>\n",
       "      <td>10334189</td>\n",
       "      <td>[[5770, 0380, 99591, 5761, 99741, 42490, E8786...</td>\n",
       "      <td>[91.0]</td>\n",
       "      <td>[0]</td>\n",
       "      <td>[0]</td>\n",
       "      <td>[[338011704, 245004101, 409672924, 206886202, ...</td>\n",
       "      <td>[23784349]</td>\n",
       "      <td>[51079025520, 62584071301, 245004101, 61314003...</td>\n",
       "      <td>F</td>\n",
       "      <td>[4280]</td>\n",
       "    </tr>\n",
       "    <tr>\n",
       "      <th>2</th>\n",
       "      <td>10387770</td>\n",
       "      <td>[[7218, 5845, 2762, 27900, 2760, 3572, 5859, 4...</td>\n",
       "      <td>[82.0, 83.0]</td>\n",
       "      <td>[0, 0]</td>\n",
       "      <td>[0, 0]</td>\n",
       "      <td>[[904777261, 456066270, 338004903, 55390000401...</td>\n",
       "      <td>[25294592, 25124191]</td>\n",
       "      <td>[50268085415, 338004931, 54327099, 409915801, ...</td>\n",
       "      <td>M</td>\n",
       "      <td>[42832, 4280]</td>\n",
       "    </tr>\n",
       "    <tr>\n",
       "      <th>3</th>\n",
       "      <td>10627407</td>\n",
       "      <td>[[43820, 43889, 72989, 43819, 78830, 78720, 56...</td>\n",
       "      <td>[82.0, 82.0, 83.0, 84.0, 85.0, 85.0]</td>\n",
       "      <td>[0, 0, 0, 0, 0, 0]</td>\n",
       "      <td>[0, 0, 0, 0, 0, 0]</td>\n",
       "      <td>[[63323026201, 904516561, 74434113, 6473900, 9...</td>\n",
       "      <td>[25789023, 21419302, 21187686, 23697251, 26313...</td>\n",
       "      <td>[409189001, 904404073, 60505011300, 71041724, ...</td>\n",
       "      <td>F</td>\n",
       "      <td>[42822, 4280]</td>\n",
       "    </tr>\n",
       "    <tr>\n",
       "      <th>4</th>\n",
       "      <td>10661086</td>\n",
       "      <td>[[27739, 42833, 4257, 20300, 5849, 4160, 4280,...</td>\n",
       "      <td>[60.0]</td>\n",
       "      <td>[0]</td>\n",
       "      <td>[0]</td>\n",
       "      <td>[[256015201, 51079080120, 63020004901, 5107900...</td>\n",
       "      <td>[29124943]</td>\n",
       "      <td>[517571025, 338070341, 409125830, 338601048, 6...</td>\n",
       "      <td>M</td>\n",
       "      <td>[42840, 4280]</td>\n",
       "    </tr>\n",
       "  </tbody>\n",
       "</table>\n",
       "</div>"
      ],
      "text/plain": [
       "   subject_id                                           icd_code  \\\n",
       "0    10236661  [[34690, 42731, 42781, 4019, 311, V5861, V4501...   \n",
       "1    10334189  [[5770, 0380, 99591, 5761, 99741, 42490, E8786...   \n",
       "2    10387770  [[7218, 5845, 2762, 27900, 2760, 3572, 5859, 4...   \n",
       "3    10627407  [[43820, 43889, 72989, 43819, 78830, 78720, 56...   \n",
       "4    10661086  [[27739, 42833, 4257, 20300, 5849, 4160, 4280,...   \n",
       "\n",
       "                                    age       alcohol_abuse  \\\n",
       "0                                [80.0]                 [0]   \n",
       "1                                [91.0]                 [0]   \n",
       "2                          [82.0, 83.0]              [0, 0]   \n",
       "3  [82.0, 82.0, 83.0, 84.0, 85.0, 85.0]  [0, 0, 0, 0, 0, 0]   \n",
       "4                                [60.0]                 [0]   \n",
       "\n",
       "        tobacco_abuse                                                ndc  \\\n",
       "0                 [0]  [[245004101, 51079082120, 56017275, 93435693, ...   \n",
       "1                 [0]  [[338011704, 245004101, 409672924, 206886202, ...   \n",
       "2              [0, 0]  [[904777261, 456066270, 338004903, 55390000401...   \n",
       "3  [0, 0, 0, 0, 0, 0]  [[63323026201, 904516561, 74434113, 6473900, 9...   \n",
       "4                 [0]  [[256015201, 51079080120, 63020004901, 5107900...   \n",
       "\n",
       "                                             hadm_id  \\\n",
       "0                                         [21942970]   \n",
       "1                                         [23784349]   \n",
       "2                               [25294592, 25124191]   \n",
       "3  [25789023, 21419302, 21187686, 23697251, 26313...   \n",
       "4                                         [29124943]   \n",
       "\n",
       "                                    medication_label gender     icd_labels  \n",
       "0  [406055262, 63481068706, 51079007320, 51079069...      F         [4280]  \n",
       "1  [51079025520, 62584071301, 245004101, 61314003...      F         [4280]  \n",
       "2  [50268085415, 338004931, 54327099, 409915801, ...      M  [42832, 4280]  \n",
       "3  [409189001, 904404073, 60505011300, 71041724, ...      F  [42822, 4280]  \n",
       "4  [517571025, 338070341, 409125830, 338601048, 6...      M  [42840, 4280]  "
      ]
     },
     "execution_count": 7,
     "metadata": {},
     "output_type": "execute_result"
    }
   ],
   "source": [
    "data.head()"
   ]
  },
  {
   "cell_type": "code",
   "execution_count": 8,
   "id": "b209bbcb-7fd0-4991-9b0a-4a1538050afd",
   "metadata": {},
   "outputs": [],
   "source": [
    "#c=['4280', '4281', '42820', '42821', '42822', '42823', '42830', '42831' ,'42832', '42833', '42840', '42841' ,'42842', '42843', \n",
    "#'4289']"
   ]
  },
  {
   "cell_type": "code",
   "execution_count": 9,
   "id": "ab550bb5-bb73-412d-a61d-0b4383c126bc",
   "metadata": {},
   "outputs": [],
   "source": [
    "def filter_codes(codes):\n",
    "    newcodes=[]\n",
    "    for code in codes:\n",
    "        if str(code) in c:\n",
    "            newcodes.append(code)\n",
    "            \n",
    "    return newcodes"
   ]
  },
  {
   "cell_type": "code",
   "execution_count": 10,
   "id": "d6fecbe2-ff31-4d8b-a9f0-be0fd0ff8472",
   "metadata": {},
   "outputs": [],
   "source": [
    "#data['icd_labels'] = data['icd_label'].apply(lambda x: filter_codes(x))"
   ]
  },
  {
   "cell_type": "code",
   "execution_count": 11,
   "id": "a4db2292-b937-4923-ad79-b34a1c7c1a92",
   "metadata": {},
   "outputs": [],
   "source": [
    "#data"
   ]
  },
  {
   "cell_type": "code",
   "execution_count": 12,
   "id": "c61e40f0-70b9-40da-8343-65b60b7ff0b3",
   "metadata": {},
   "outputs": [],
   "source": [
    "#data.drop(columns='icd_label', inplace=True)"
   ]
  },
  {
   "cell_type": "code",
   "execution_count": 13,
   "id": "3f66e43e-3e09-42d8-a996-7faab36cdace",
   "metadata": {},
   "outputs": [],
   "source": [
    "#data.to_parquet('../processing/next_visit')"
   ]
  },
  {
   "cell_type": "code",
   "execution_count": 14,
   "id": "500331da-7159-4bd1-b251-0f4a006358a4",
   "metadata": {},
   "outputs": [],
   "source": [
    "#label_voc = {}\n",
    "\n",
    "#labels = data['icd_labels'].tolist()"
   ]
  },
  {
   "cell_type": "code",
   "execution_count": 15,
   "id": "04b6135e-182e-47a3-95a3-b4b2b57ccecd",
   "metadata": {},
   "outputs": [],
   "source": [
    "#alllabels = []"
   ]
  },
  {
   "cell_type": "code",
   "execution_count": 16,
   "id": "d13d9a6a-9c03-4cf7-b9ec-61125cd5f39c",
   "metadata": {},
   "outputs": [],
   "source": [
    "#alllabels = []\n",
    "#for labellist in labels:\n",
    "#    #print(labellist)\n",
    " #   for label in labellist:\n",
    " #       if label not in label_voc:\n",
    " #           label_voc[label] = len(label_voc)\n",
    "  #  alllabels.extend(labellist)            "
   ]
  },
  {
   "cell_type": "code",
   "execution_count": 17,
   "id": "aa1aeb13-9bd7-45a3-b3cb-79055a5ed091",
   "metadata": {},
   "outputs": [],
   "source": [
    "#np.save('../processing/label_voc.npy', np.array(alllabels))"
   ]
  },
  {
   "cell_type": "code",
   "execution_count": 18,
   "id": "271ce7ea-0451-4b6e-9fde-84d37f54c57e",
   "metadata": {},
   "outputs": [],
   "source": [
    "#len(label_voc)"
   ]
  },
  {
   "cell_type": "code",
   "execution_count": 19,
   "id": "0a7ec391-7006-4092-b587-dd9aa08c702f",
   "metadata": {},
   "outputs": [],
   "source": [
    "data.rename(columns={'icd_labels':'label'}, inplace=True)"
   ]
  },
  {
   "cell_type": "code",
   "execution_count": 52,
   "id": "7eaba7fb-e523-4518-83b4-6c0488dbfefa",
   "metadata": {},
   "outputs": [],
   "source": [
    "global_params = {\n",
    "    'max_seq_len': 32,\n",
    "    'max_age': 110,\n",
    "    'month': 1,\n",
    "    'age_symbol': None,\n",
    "    'min_visit': 5,\n",
    "    'gradient_accumulation_steps': 1\n",
    "}\n",
    "\n",
    "optim_param = {\n",
    "    'lr': 3e-5,\n",
    "    'warmup_proportion': 0.1,\n",
    "    'weight_decay': 0.01\n",
    "}\n",
    "\n",
    "train_params = {\n",
    "    'batch_size': 32,\n",
    "    'use_cuda': True,\n",
    "    'max_len_seq': global_params['max_seq_len'],\n",
    "    'device': 'cuda' #change this to run on cuda #'cuda:0'\n",
    "}"
   ]
  },
  {
   "cell_type": "code",
   "execution_count": 53,
   "id": "42df123c-9eab-4de4-bc91-0e9493762192",
   "metadata": {},
   "outputs": [],
   "source": [
    "tokenizer = EHRTokenizer()"
   ]
  },
  {
   "cell_type": "code",
   "execution_count": 54,
   "id": "c4123620-c995-4e16-8d39-77d9c2abb00f",
   "metadata": {},
   "outputs": [
    {
     "name": "stdout",
     "output_type": "stream",
     "text": [
      "Epoch 0:  57%|██████████████████████████▊                    | 1449/2543 [01:45<01:19, 13.76it/s, loss=0.186, v_num=127]\n",
      "Epoch 4:  53%|█████████████████████████                      | 1357/2543 [03:09<02:45,  7.15it/s, loss=0.174, v_num=126]\n"
     ]
    }
   ],
   "source": [
    "Dset = EHRDatasetPredictionTask(data, max_len=train_params['max_len_seq'], tokenizer=tokenizer, prediction_task='visit')\n",
    "trainload = DataLoader(dataset=Dset, batch_size=train_params['batch_size'], shuffle=True)"
   ]
  },
  {
   "cell_type": "code",
   "execution_count": null,
   "id": "1c62e296-2662-4ac1-93c0-5ee896aa771f",
   "metadata": {},
   "outputs": [],
   "source": []
  },
  {
   "cell_type": "code",
   "execution_count": 55,
   "id": "53b2ff71-dc05-46f6-91f8-92a000291978",
   "metadata": {},
   "outputs": [],
   "source": [
    "model_config = {\n",
    "    'vocab_size': len(tokenizer.getVoc('code').keys()), # number of disease + symbols for word embedding\n",
    "    'hidden_size': 200, # word embedding and seg embedding hidden size\n",
    "    'seg_vocab_size': 2, # number of vocab for seg embedding\n",
    "    'age_vocab_size': len(tokenizer.getVoc('age').keys()), # number of vocab for age embedding,\n",
    "    'gender_vocab_size': 3,\n",
    "    'max_position_embeddings': train_params['max_len_seq'], # maximum number of tokens\n",
    "    'hidden_dropout_prob': 0.1, # dropout rate\n",
    "    'num_hidden_layers': 2, # number of multi-head attention layers required\n",
    "    'num_attention_heads': 4, # number of attention heads\n",
    "    'attention_probs_dropout_prob': 0.1, # multi-head attention dropout rate\n",
    "    'intermediate_size': 300, # the size of the \"intermediate\" layer in the transformer encoder\n",
    "    'hidden_act': 'gelu', # The non-linear activation function in the encoder and the pooler \"gelu\", 'relu', 'swish' are supported\n",
    "    'initializer_range': 0.02, # parameter weight initializer range\n",
    "}"
   ]
  },
  {
   "cell_type": "code",
   "execution_count": 56,
   "id": "77330e72-d43e-412f-97cb-03c06843a4a9",
   "metadata": {},
   "outputs": [],
   "source": [
    "conf = BertConfig(**model_config)\n",
    "model = BertMultiLabelPrediction(conf, num_labels=len(tokenizer.getVoc('label').keys()))"
   ]
  },
  {
   "cell_type": "code",
   "execution_count": 57,
   "id": "fa4afa0c-054c-40bf-959a-9ec15490c1d8",
   "metadata": {},
   "outputs": [],
   "source": [
    "def load_model(path, model):\n",
    "    # load pretrained model and update weights\n",
    "    pretrained_dict = torch.load(path)\n",
    "    model_dict = model.state_dict()\n",
    "    # 1. filter out unnecessary keys\n",
    "    pretrained_dict = {k: v for k, v in pretrained_dict.items() if k in model_dict}\n",
    "    # 2. overwrite entries in the existing state dict\n",
    "    model_dict.update(pretrained_dict)\n",
    "    # 3. load the new state dict\n",
    "    model.load_state_dict(model_dict)\n",
    "    return model\n",
    "\n",
    "PATH = \"checkpoint2\"\n",
    "mode = load_model(PATH, model)"
   ]
  },
  {
   "cell_type": "code",
   "execution_count": 66,
   "id": "666effdb-4fb6-4a09-8984-1acb7751b02a",
   "metadata": {},
   "outputs": [],
   "source": [
    "optim_config = {\n",
    "    'lr': 3e-5,\n",
    "    'warmup_proportion': 0.1,\n",
    "    'weight_decay': 0.01\n",
    "}"
   ]
  },
  {
   "cell_type": "code",
   "execution_count": 67,
   "id": "f2374f46-e759-4ee8-a0f9-7998b412c312",
   "metadata": {},
   "outputs": [
    {
     "name": "stderr",
     "output_type": "stream",
     "text": [
      "t_total value of -1 results in schedule not being applied\n"
     ]
    }
   ],
   "source": [
    "no_decay = ['bias', 'LayerNorm.bias', 'LayerNorm.weight']\n",
    "params = list(model.named_parameters())\n",
    "optimizer_grouped_parameters = [\n",
    "    {'params': [p for n, p in params if not any(nd in n for nd in no_decay)], 'weight_decay': 0.01},\n",
    "    {'params': [p for n, p in params if any(nd in n for nd in no_decay)], 'weight_decay': 0.01}\n",
    "]\n",
    "\n",
    "optim = Bert.optimization.BertAdam(optimizer_grouped_parameters,\n",
    "                                   lr=optim_config['lr'],\n",
    "                                   warmup=optim_config['warmup_proportion'])"
   ]
  },
  {
   "cell_type": "code",
   "execution_count": 68,
   "id": "3e8c527b-d3f8-479e-b206-47180659f7b2",
   "metadata": {},
   "outputs": [],
   "source": [
    "voc = tokenizer.getVoc('label').values()"
   ]
  },
  {
   "cell_type": "code",
   "execution_count": 69,
   "id": "dc24ce70-a4f4-46b3-807e-e607152d9624",
   "metadata": {},
   "outputs": [
    {
     "data": {
      "text/plain": [
       "MultiLabelBinarizer(classes=[0, 1, 2, 3, 4, 5, 6, 7, 8, 9, 10, 11, 12, 13, 14])"
      ]
     },
     "execution_count": 69,
     "metadata": {},
     "output_type": "execute_result"
    }
   ],
   "source": [
    "from sklearn.preprocessing import MultiLabelBinarizer\n",
    "mlb = MultiLabelBinarizer(classes=list(voc))\n",
    "mlb.fit([[each] for each in list(voc)])"
   ]
  },
  {
   "cell_type": "code",
   "execution_count": 70,
   "id": "eeee1d0b-d4e7-4416-812d-036a38d48fdf",
   "metadata": {},
   "outputs": [],
   "source": [
    "patienttrajectory = PatientTrajectoryPredictor(model, optim, optim_param, train_objective='visit', metrics=True, binarizer=mlb)"
   ]
  },
  {
   "cell_type": "code",
   "execution_count": 71,
   "id": "7a29961c-d070-466a-9b74-58fde531e140",
   "metadata": {},
   "outputs": [],
   "source": [
    "tensorboarddir = '../logs/'"
   ]
  },
  {
   "cell_type": "code",
   "execution_count": 72,
   "id": "564f5e2f-615d-459c-a035-e86f3f885c93",
   "metadata": {},
   "outputs": [
    {
     "name": "stderr",
     "output_type": "stream",
     "text": [
      "GPU available: True, used: True\n",
      "TPU available: False, using: 0 TPU cores\n",
      "IPU available: False, using: 0 IPUs\n"
     ]
    }
   ],
   "source": [
    "trainer = pl.Trainer(\n",
    "            max_epochs=20, \n",
    "            gpus=1,\n",
    "            logger=pl.loggers.TensorBoardLogger(save_dir=tensorboarddir),\n",
    "            callbacks=[pl.callbacks.progress.TQDMProgressBar()], \n",
    "            progress_bar_refresh_rate=1,\n",
    "            weights_summary=None, # Can be None, top or full\n",
    "            num_sanity_val_steps=10,\n",
    "        )"
   ]
  },
  {
   "cell_type": "code",
   "execution_count": 73,
   "id": "8daf0c21-e30b-4fc3-a07d-5bce4420b17f",
   "metadata": {},
   "outputs": [
    {
     "name": "stderr",
     "output_type": "stream",
     "text": [
      "LOCAL_RANK: 0 - CUDA_VISIBLE_DEVICES: [0]\n"
     ]
    },
    {
     "name": "stdout",
     "output_type": "stream",
     "text": [
      "Epoch 6:  20%|██████████▏                                       | 65/318 [00:20<01:20,  3.14it/s, loss=0.183, v_num=130]"
     ]
    }
   ],
   "source": [
    "trainer.fit(\n",
    "    patienttrajectory, \n",
    "    train_dataloader=trainload,\n",
    ");"
   ]
  },
  {
   "cell_type": "code",
   "execution_count": null,
   "id": "bb2394a8-0e76-4cb0-8644-c7d60a2820d0",
   "metadata": {},
   "outputs": [],
   "source": []
  }
 ],
 "metadata": {
  "kernelspec": {
   "display_name": "Python 3 (ipykernel)",
   "language": "python",
   "name": "python3"
  },
  "language_info": {
   "codemirror_mode": {
    "name": "ipython",
    "version": 3
   },
   "file_extension": ".py",
   "mimetype": "text/x-python",
   "name": "python",
   "nbconvert_exporter": "python",
   "pygments_lexer": "ipython3",
   "version": "3.7.11"
  }
 },
 "nbformat": 4,
 "nbformat_minor": 5
}
