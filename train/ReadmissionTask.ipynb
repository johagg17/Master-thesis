{
 "cells": [
  {
   "cell_type": "code",
   "execution_count": 1,
   "id": "5efdaf2b-12aa-45c9-aed6-d496aa1e9fd6",
   "metadata": {},
   "outputs": [],
   "source": [
    "import sys\n",
    "sys.path.insert(1, '../')\n",
    "from utils.packages import *"
   ]
  },
  {
   "cell_type": "code",
   "execution_count": 2,
   "id": "4fe915a6-7339-44af-b87e-8847551dd6d6",
   "metadata": {},
   "outputs": [],
   "source": [
    "#train, val, test = train_test_val_split(dataset, train_ratio=0.6, validation_ratio=0.2, test_ratio=0.2)\n",
    "path='../data/datasets/synthea/'\n",
    "#train.to_parquet(path + 'train')\n",
    "#val.to_parquet(path + 'val')\n",
    "#test.to_parquet(path + 'test')\n",
    "\n",
    "train = pd.read_parquet(path + 'train')\n",
    "val = pd.read_parquet(path + 'val')\n",
    "test = pd.read_parquet(path + 'test')"
   ]
  },
  {
   "cell_type": "code",
   "execution_count": 20,
   "id": "7c81e8e0-82ea-4f86-9ea1-1b2da4324f95",
   "metadata": {},
   "outputs": [],
   "source": [
    "global_params = {\n",
    "    'max_seq_len': 32,\n",
    "    'gradient_accumulation_steps': 1\n",
    "}\n",
    "\n",
    "optim_param = {\n",
    "    'lr': 3e-5,\n",
    "    'warmup_proportion': 0.1,\n",
    "    'weight_decay': 0.01\n",
    "}\n",
    "\n",
    "train_params = {\n",
    "    'batch_size': 32,\n",
    "    'use_cuda': True,\n",
    "    'max_len_seq': global_params['max_seq_len'],\n",
    "    'device': 'cuda' #change this to run on cuda #'cuda:0'\n",
    "}"
   ]
  },
  {
   "cell_type": "code",
   "execution_count": 21,
   "id": "3a7b35f3-31f1-41e8-8d69-6d9f683d6ee3",
   "metadata": {},
   "outputs": [],
   "source": [
    "files = {'code':'../data/vocabularies/Synthea/snomedrxnorm.npy',\n",
    "         'age':'../data/vocabularies/Synthea/age.npy'\n",
    "        }\n",
    "tokenizer = EHRTokenizer(task='readmission', filenames=files)"
   ]
  },
  {
   "cell_type": "code",
   "execution_count": 22,
   "id": "58ad11d5-e644-4d22-8366-cbae95385f92",
   "metadata": {},
   "outputs": [],
   "source": [
    "#Shallow\n",
    "model_config = {\n",
    "    'vocab_size': len(tokenizer.getVoc('code').keys()), # number of disease + symbols for word embedding\n",
    "    'hidden_size': 288, # word embedding and seg embedding hidden size\n",
    "    'seg_vocab_size': 2, # number of vocab for seg embedding\n",
    "    'age_vocab_size': len(tokenizer.getVoc('age').keys()), # number of vocab for age embedding,\n",
    "    'gender_vocab_size': 3,\n",
    "    'max_position_embeddings': train_params['max_len_seq'], # maximum number of tokens\n",
    "    'hidden_dropout_prob': 0.1, # dropout rate\n",
    "    'num_hidden_layers': 4, # number of multi-head attention layers required\n",
    "    'num_attention_heads': 6, # number of attention heads\n",
    "    'attention_probs_dropout_prob': 0.1, # multi-head attention dropout rate\n",
    "    'intermediate_size': 512, # the size of the \"intermediate\" layer in the transformer encoder\n",
    "    'hidden_act': 'gelu', # The non-linear activation function in the encoder and the pooler \"gelu\", 'relu', 'swish' are supported\n",
    "    'initializer_range': 0.02, # parameter weight initializer range\n",
    "    'use_prior':True,\n",
    "}"
   ]
  },
  {
   "cell_type": "code",
   "execution_count": 23,
   "id": "c42ce0df-350a-4f44-814a-744d12395f8e",
   "metadata": {},
   "outputs": [],
   "source": [
    "condfiles = {'dd':'../data/train_stats/dd_cond_probs.empirical.p', \n",
    "             'dp':'../data/train_stats/dp_cond_probs.empirical.p', \n",
    "             'pp':'../data/train_stats/pp_cond_probs.empirical.p' , \n",
    "             'pd':'../data/train_stats/pd_cond_probs.empirical.p'\n",
    "            }"
   ]
  },
  {
   "cell_type": "code",
   "execution_count": 24,
   "id": "973b945d-fbd6-481b-aeb0-f95d522d9eff",
   "metadata": {},
   "outputs": [],
   "source": [
    "conf = BertConfig(model_config)"
   ]
  },
  {
   "cell_type": "code",
   "execution_count": 8,
   "id": "969db5c1-4dd7-4ffd-b92f-4b65ed3ce24a",
   "metadata": {},
   "outputs": [],
   "source": [
    "tensorboarddir = '../logs/'"
   ]
  },
  {
   "cell_type": "code",
   "execution_count": 13,
   "id": "9673f91b-62b9-4b7a-b31d-1f490fc83489",
   "metadata": {},
   "outputs": [
    {
     "name": "stderr",
     "output_type": "stream",
     "text": [
      "GPU available: True, used: True\n",
      "TPU available: False, using: 0 TPU cores\n",
      "IPU available: False, using: 0 IPUs\n"
     ]
    }
   ],
   "source": [
    "trainer = pl.Trainer(\n",
    "            max_epochs=1, \n",
    "            gpus=-1,\n",
    "            logger=pl.loggers.TensorBoardLogger(save_dir=tensorboarddir),\n",
    "            callbacks=[pl.callbacks.TQDMProgressBar()], \n",
    "            progress_bar_refresh_rate=1,\n",
    "            weights_summary=None, # Can be None, top or full\n",
    "            num_sanity_val_steps=10,\n",
    "        )"
   ]
  },
  {
   "cell_type": "code",
   "execution_count": 10,
   "id": "1e3bdd2d-c722-40a2-a4a0-d3a02aa681a7",
   "metadata": {},
   "outputs": [
    {
     "name": "stdout",
     "output_type": "stream",
     "text": [
      "Transforming data\n",
      "Saving data\n",
      "Transforming data\n",
      "Saving data\n",
      "Transforming data\n",
      "Saving data\n"
     ]
    }
   ],
   "source": [
    "traind = EHRDatasetReadmission(train, max_len=train_params['max_len_seq'], conditional_files=condfiles, tokenizer=tokenizer, run_type='train', nvisits=3)\n",
    "vald = EHRDatasetReadmission(val, max_len=train_params['max_len_seq'], tokenizer=tokenizer, conditional_files=condfiles, run_type='val', nvisits=3)\n",
    "testd = EHRDatasetReadmission(test, max_len=train_params['max_len_seq'], tokenizer=tokenizer, conditional_files=condfiles, run_type='test', nvisits=3)"
   ]
  },
  {
   "cell_type": "code",
   "execution_count": 11,
   "id": "0079142c-e4b7-44b8-baff-b803750bcbad",
   "metadata": {},
   "outputs": [],
   "source": [
    "trainloader = torch.utils.data.DataLoader(traind, batch_size=32, shuffle=True, num_workers=4)\n",
    "valloader = torch.utils.data.DataLoader(vald, batch_size=32, shuffle=True, num_workers=4)\n",
    "testloader = torch.utils.data.DataLoader(testd, batch_size=32, shuffle=True, num_workers=4)"
   ]
  },
  {
   "cell_type": "code",
   "execution_count": 14,
   "id": "09becf91-0340-40ba-a5ba-2999285dc861",
   "metadata": {},
   "outputs": [
    {
     "name": "stderr",
     "output_type": "stream",
     "text": [
      "t_total value of -1 results in schedule not being applied\n"
     ]
    }
   ],
   "source": [
    "model = BertSinglePrediction(conf, num_labels=1) \n",
    "PATH = \"../saved_models/MLM/model_with_prior_82test\"\n",
    "model = load_model(PATH, model)\n",
    "params = list(model.named_parameters())\n",
    "optim = adam(params, optim_param)"
   ]
  },
  {
   "cell_type": "code",
   "execution_count": 15,
   "id": "03578818-f497-431e-9adb-1419b6739972",
   "metadata": {},
   "outputs": [
    {
     "name": "stderr",
     "output_type": "stream",
     "text": [
      "LOCAL_RANK: 0 - CUDA_VISIBLE_DEVICES: [0]\n"
     ]
    },
    {
     "data": {
      "application/vnd.jupyter.widget-view+json": {
       "model_id": "2ade9a89b5144764a8d8e83658a77e76",
       "version_major": 2,
       "version_minor": 0
      },
      "text/plain": [
       "Training: 0it [00:00, ?it/s]"
      ]
     },
     "metadata": {},
     "output_type": "display_data"
    }
   ],
   "source": [
    "patienttrajectory = TrainerBinaryPrediction(model, optim, optim_param)\n",
    "\n",
    "trainer.fit(\n",
    "    patienttrajectory, \n",
    "    train_dataloader=trainloader,\n",
    ");"
   ]
  },
  {
   "cell_type": "code",
   "execution_count": 16,
   "id": "4a84b9c6-66c9-40a9-a462-a78cc2427488",
   "metadata": {},
   "outputs": [
    {
     "name": "stderr",
     "output_type": "stream",
     "text": [
      "LOCAL_RANK: 0 - CUDA_VISIBLE_DEVICES: [0]\n"
     ]
    },
    {
     "data": {
      "application/vnd.jupyter.widget-view+json": {
       "model_id": "c3132eced80d40928848caec064216e9",
       "version_major": 2,
       "version_minor": 0
      },
      "text/plain": [
       "Predicting: 11172it [00:00, ?it/s]"
      ]
     },
     "metadata": {},
     "output_type": "display_data"
    }
   ],
   "source": [
    "predictions = trainer.predict(patienttrajectory, dataloaders=testloader)"
   ]
  },
  {
   "cell_type": "code",
   "execution_count": 17,
   "id": "bd91a444-7f18-47b5-b6f2-aa9e3d3e59cc",
   "metadata": {},
   "outputs": [
    {
     "data": {
      "text/plain": [
       "0.0"
      ]
     },
     "execution_count": 17,
     "metadata": {},
     "output_type": "execute_result"
    }
   ],
   "source": [
    "avg_f1 = sum([ stats['f1-score'] for stats in predictions ]) / len(predictions)\n",
    "avg_f1*100"
   ]
  },
  {
   "cell_type": "code",
   "execution_count": 18,
   "id": "b98b2f02-7357-4c9e-b375-5f735e7b00af",
   "metadata": {},
   "outputs": [
    {
     "data": {
      "text/plain": [
       "nan"
      ]
     },
     "execution_count": 18,
     "metadata": {},
     "output_type": "execute_result"
    }
   ],
   "source": [
    "avg_auc = sum([ stats['AUC'] for stats in predictions ]) / len(predictions)\n",
    "avg_auc*100"
   ]
  },
  {
   "cell_type": "code",
   "execution_count": 19,
   "id": "8d9e8a45-7bd2-43e8-aae3-84ebba6fb07c",
   "metadata": {},
   "outputs": [
    {
     "data": {
      "text/plain": [
       "nan"
      ]
     },
     "execution_count": 19,
     "metadata": {},
     "output_type": "execute_result"
    }
   ],
   "source": [
    "avg_aucpr = sum([ stats['AUCPR'] for stats in predictions ]) / len(predictions)\n",
    "avg_aucpr*100"
   ]
  },
  {
   "cell_type": "code",
   "execution_count": null,
   "id": "773cf003-158e-4e11-b477-ccd539bfc1e7",
   "metadata": {},
   "outputs": [],
   "source": []
  }
 ],
 "metadata": {
  "kernelspec": {
   "display_name": "Python 3",
   "language": "python",
   "name": "python3"
  },
  "language_info": {
   "codemirror_mode": {
    "name": "ipython",
    "version": 3
   },
   "file_extension": ".py",
   "mimetype": "text/x-python",
   "name": "python",
   "nbconvert_exporter": "python",
   "pygments_lexer": "ipython3",
   "version": "3.7.11"
  }
 },
 "nbformat": 4,
 "nbformat_minor": 5
}
