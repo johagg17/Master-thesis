{
 "cells": [
  {
   "cell_type": "code",
   "execution_count": 22,
   "id": "53332b14-1e31-4143-ba5c-f3c66f1c18df",
   "metadata": {},
   "outputs": [],
   "source": [
    "def load_model(path, model):\n",
    "    # load pretrained model and update weights\n",
    "    pretrained_dict = torch.load(path)\n",
    "    model_dict = model.state_dict()\n",
    "    # 1. filter out unnecessary keys\n",
    "    pretrained_dict = {k: v for k, v in pretrained_dict.items() if k in model_dict}\n",
    "    # 2. overwrite entries in the existing state dict\n",
    "    model_dict.update(pretrained_dict)\n",
    "    # 3. load the new state dict\n",
    "    model.load_state_dict(model_dict)\n",
    "    return model"
   ]
  },
  {
   "cell_type": "code",
   "execution_count": 2,
   "id": "2cfcf726-ee22-4e18-b213-12a72ee26862",
   "metadata": {},
   "outputs": [],
   "source": [
    "def adam(params, config=None):\n",
    "    if config is None:\n",
    "        config = {\n",
    "            'lr': 3e-5,\n",
    "            'warmup_proportion': 0.1,\n",
    "            'weight_decay': 0.01\n",
    "        }\n",
    "        \n",
    "    no_decay = ['bias', 'LayerNorm.bias', 'LayerNorm.weight']\n",
    "\n",
    "    optimizer_grouped_parameters = [\n",
    "        {'params': [p for n, p in params if not any(nd in n for nd in no_decay)], 'weight_decay': 0.01},\n",
    "        {'params': [p for n, p in params if any(nd in n for nd in no_decay)], 'weight_decay': 0}\n",
    "    ]\n",
    "\n",
    "    optim = Bert.optimization.BertAdam(optimizer_grouped_parameters,\n",
    "                                       lr=config['lr'],\n",
    "                                       warmup=config['warmup_proportion'])\n",
    "    return optim"
   ]
  },
  {
   "cell_type": "code",
   "execution_count": 3,
   "id": "6009ab85-fa06-4b63-99c2-bc636ea3b89f",
   "metadata": {},
   "outputs": [],
   "source": [
    "import sys\n",
    "sys.path.insert(1, '../')\n",
    "from sklearn.model_selection import train_test_split\n",
    "from utils.dataset import EHRDatasetCodePrediction\n",
    "from model.tokenizer import EHRTokenizer\n",
    "import pytorch_pretrained_bert as Bert\n",
    "from torch.utils.data import DataLoader\n",
    "from model.model import *\n",
    "from utils.config import BertConfig\n",
    "from model.model2 import BertMultiLabelPrediction\n",
    "from model.trainer import PatientTrajectoryPredictor\n",
    "import pytorch_lightning as pl\n",
    "import pandas as pd\n",
    "import warnings\n",
    "warnings.filterwarnings('ignore')"
   ]
  },
  {
   "cell_type": "code",
   "execution_count": 4,
   "id": "c9904b2a-d124-4ad3-a77f-d94fdc2cb6c1",
   "metadata": {},
   "outputs": [],
   "source": [
    "path = '../processing/readmission_data_ccsr'"
   ]
  },
  {
   "cell_type": "code",
   "execution_count": 5,
   "id": "6220fd77-ccc1-4120-a797-afd5a57301f1",
   "metadata": {},
   "outputs": [],
   "source": [
    "data = pd.read_parquet(path)"
   ]
  },
  {
   "cell_type": "code",
   "execution_count": 6,
   "id": "dfb33e61-4e12-420b-8fae-c35ee5bd1afe",
   "metadata": {},
   "outputs": [],
   "source": [
    "data['visit_len'] = data['hadm_id'].apply(lambda x: len(x))\n",
    "datamorethan1visit = data[data['visit_len'] > 1]\n",
    "datamorethan1visit['ccsr_traincodes'] = datamorethan1visit['ccsr'].apply(lambda x: x[:-1])\n",
    "datamorethan1visit['ndc_labels'] = datamorethan1visit['ndc'].apply(lambda x: x[-1])"
   ]
  },
  {
   "cell_type": "code",
   "execution_count": 7,
   "id": "fa7457ea-1732-4eff-83b6-3697fb280861",
   "metadata": {},
   "outputs": [
    {
     "data": {
      "text/plain": [
       "'\\nlabelar = []\\n\\ndef labelvoc(labels):\\n    for a in labels:\\n        labelar.append(a)\\n'"
      ]
     },
     "execution_count": 7,
     "metadata": {},
     "output_type": "execute_result"
    }
   ],
   "source": [
    "'''\n",
    "labelar = []\n",
    "\n",
    "def labelvoc(labels):\n",
    "    for a in labels:\n",
    "        labelar.append(a)\n",
    "'''"
   ]
  },
  {
   "cell_type": "code",
   "execution_count": 8,
   "id": "089e0505-beaf-409e-8172-88c731e18392",
   "metadata": {},
   "outputs": [],
   "source": [
    "#datamorethan1visit['ndc_labels'].apply(lambda x: labelvoc(x))"
   ]
  },
  {
   "cell_type": "code",
   "execution_count": 9,
   "id": "21c66ec3-8196-4484-b914-9f72192fd299",
   "metadata": {},
   "outputs": [],
   "source": [
    "#np.save('../processing/labelsvoc_ndc.npy', np.array(labelar))"
   ]
  },
  {
   "cell_type": "code",
   "execution_count": 10,
   "id": "c68e6e8e-68b3-42cd-9a01-d27994fc341a",
   "metadata": {},
   "outputs": [],
   "source": [
    "global_params = {\n",
    "    'max_seq_len': 32,\n",
    "    'gradient_accumulation_steps': 1\n",
    "}\n",
    "\n",
    "optim_param = {\n",
    "    'lr': 3e-5,\n",
    "    'warmup_proportion': 0.1,\n",
    "    'weight_decay': 0.01\n",
    "}\n",
    "\n",
    "train_params = {\n",
    "    'batch_size': 64,\n",
    "    'use_cuda': True,\n",
    "    'max_len_seq': global_params['max_seq_len'],\n",
    "    'device': 'cuda' #change this to run on cuda #'cuda:0'\n",
    "}"
   ]
  },
  {
   "cell_type": "code",
   "execution_count": 11,
   "id": "d038dbc0-dd6c-483d-9c2c-9f61fd3546c4",
   "metadata": {},
   "outputs": [],
   "source": [
    "tokenizer = EHRTokenizer(task='ndc')"
   ]
  },
  {
   "cell_type": "code",
   "execution_count": 12,
   "id": "f579e5c0-76d4-48d2-b482-87098dd4f7a4",
   "metadata": {},
   "outputs": [],
   "source": [
    "model_config = {\n",
    "    'vocab_size': len(tokenizer.getVoc('code').keys()), # number of disease + symbols for word embedding\n",
    "    'hidden_size': 300, # word embedding and seg embedding hidden size\n",
    "    'seg_vocab_size': 2, # number of vocab for seg embedding\n",
    "    'age_vocab_size': len(tokenizer.getVoc('age').keys()), # number of vocab for age embedding,\n",
    "    'gender_vocab_size': 3,\n",
    "    'max_position_embeddings': train_params['max_len_seq'], # maximum number of tokens\n",
    "    'hidden_dropout_prob': 0.1, # dropout rate\n",
    "    'num_hidden_layers': 2, # number of multi-head attention layers required\n",
    "    'num_attention_heads': 4, # number of attention heads\n",
    "    'attention_probs_dropout_prob': 0.1, # multi-head attention dropout rate\n",
    "    'intermediate_size': 300, # the size of the \"intermediate\" layer in the transformer encoder\n",
    "    'hidden_act': 'gelu', # The non-linear activation function in the encoder and the pooler \"gelu\", 'relu', 'swish' are supported\n",
    "    'initializer_range': 0.02, # parameter weight initializer range\n",
    "}"
   ]
  },
  {
   "cell_type": "code",
   "execution_count": 13,
   "id": "5c65ef7b-49aa-435d-9e67-a28e1177bc06",
   "metadata": {},
   "outputs": [],
   "source": [
    "class BertConfig(Bert.modeling.BertConfig):\n",
    "    def __init__(self, config):\n",
    "        super(BertConfig, self).__init__(\n",
    "            vocab_size_or_config_json_file=config.get('vocab_size'),\n",
    "            hidden_size=config['hidden_size'],\n",
    "            num_hidden_layers=config.get('num_hidden_layers'),\n",
    "            num_attention_heads=config.get('num_attention_heads'),\n",
    "            intermediate_size=config.get('intermediate_size'),\n",
    "            hidden_act=config.get('hidden_act'),\n",
    "            hidden_dropout_prob=config.get('hidden_dropout_prob'),\n",
    "            attention_probs_dropout_prob=config.get('attention_probs_dropout_prob'),\n",
    "            max_position_embeddings = config.get('max_position_embeddings'),\n",
    "            initializer_range=config.get('initializer_range'),\n",
    "        )\n",
    "        self.seg_vocab_size = config.get('seg_vocab_size')\n",
    "        self.age_vocab_size = config.get('age_vocab_size')\n",
    "        self.gender_vocab_size = config.get('gender_vocab_size')"
   ]
  },
  {
   "cell_type": "code",
   "execution_count": 14,
   "id": "16b221ff-0b2c-4bdd-ba26-11174c324f3c",
   "metadata": {},
   "outputs": [],
   "source": [
    "conf = BertConfig(model_config)\n",
    "tensorboarddir = '../logs/'"
   ]
  },
  {
   "cell_type": "code",
   "execution_count": 15,
   "id": "c8a4810b-f5cc-49da-bb5e-a1bec3c73169",
   "metadata": {},
   "outputs": [],
   "source": [
    "trainset, testset = train_test_split(datamorethan1visit, test_size=0.2)"
   ]
  },
  {
   "cell_type": "code",
   "execution_count": 16,
   "id": "d98a6917-8446-415a-b850-f841080b3d9b",
   "metadata": {},
   "outputs": [],
   "source": [
    "labelvoc = tokenizer.getVoc('label')"
   ]
  },
  {
   "cell_type": "code",
   "execution_count": 17,
   "id": "4dc7dc29-5d0d-44f9-8a95-881ce4fa337b",
   "metadata": {},
   "outputs": [
    {
     "data": {
      "text/plain": [
       "MultiLabelBinarizer(classes=[0, 1, 2, 3, 4, 5, 6, 7, 8, 9, 10, 11, 12, 13, 14,\n",
       "                             15, 16, 17, 18, 19, 20, 21, 22, 23, 24, 25, 26, 27,\n",
       "                             28, 29, ...])"
      ]
     },
     "execution_count": 17,
     "metadata": {},
     "output_type": "execute_result"
    }
   ],
   "source": [
    "from sklearn.preprocessing import MultiLabelBinarizer\n",
    "mlb = MultiLabelBinarizer(classes=list(labelvoc.values()))\n",
    "mlb.fit([[each] for each in list(labelvoc.values())])"
   ]
  },
  {
   "cell_type": "code",
   "execution_count": 18,
   "id": "c1b157a9-ff72-4b97-87e5-7227134517e1",
   "metadata": {},
   "outputs": [],
   "source": [
    "traindata = EHRDatasetCodePrediction(trainset, max_len=train_params['max_len_seq'], tokenizer=tokenizer, prediction_task='ndc') \n",
    "testdata = EHRDatasetCodePrediction(testset, max_len=train_params['max_len_seq'], tokenizer=tokenizer, prediction_task='ndc') "
   ]
  },
  {
   "cell_type": "code",
   "execution_count": 19,
   "id": "ed11e287-c16b-46a5-b7fb-7cd0e230d4bd",
   "metadata": {},
   "outputs": [
    {
     "name": "stderr",
     "output_type": "stream",
     "text": [
      "GPU available: True, used: True\n",
      "TPU available: False, using: 0 TPU cores\n",
      "IPU available: False, using: 0 IPUs\n"
     ]
    }
   ],
   "source": [
    "trainer = pl.Trainer(\n",
    "        max_epochs=5, \n",
    "        gpus=-1,\n",
    "        logger=pl.loggers.TensorBoardLogger(save_dir=tensorboarddir),\n",
    "        callbacks=[pl.callbacks.progress.TQDMProgressBar()], \n",
    "        progress_bar_refresh_rate=1,\n",
    "        weights_summary=None, # Can be None, top or full\n",
    "        num_sanity_val_steps=10,\n",
    "    )\n",
    "\n",
    "trainloader = torch.utils.data.DataLoader(traindata, batch_size=train_params['batch_size'], shuffle=True, num_workers=3)\n",
    "testloader = torch.utils.data.DataLoader(testdata, batch_size=train_params['batch_size'], shuffle=True, num_workers=3)"
   ]
  },
  {
   "cell_type": "code",
   "execution_count": 20,
   "id": "8a8a1e3e-412a-4de5-b23f-c2403620a5e0",
   "metadata": {},
   "outputs": [
    {
     "name": "stderr",
     "output_type": "stream",
     "text": [
      "t_total value of -1 results in schedule not being applied\n"
     ]
    }
   ],
   "source": [
    "model = BertMultiLabelPrediction(conf, num_labels=len(labelvoc.keys())) \n",
    "PATH = \"../saved_models/Shallow_unsuffled\"\n",
    "model = load_model(PATH, model)\n",
    "params = list(model.named_parameters())\n",
    "optim = adam(params, optim_param)"
   ]
  },
  {
   "cell_type": "code",
   "execution_count": 21,
   "id": "41cacc29-b269-437a-92b4-1974d6fa774b",
   "metadata": {},
   "outputs": [
    {
     "name": "stderr",
     "output_type": "stream",
     "text": [
      "LOCAL_RANK: 0 - CUDA_VISIBLE_DEVICES: [0]\n"
     ]
    },
    {
     "name": "stdout",
     "output_type": "stream",
     "text": [
      "Epoch 0:   1%|▍                                                 | 18/1825 [00:19<31:53,  1.06s/it, loss=0.65, v_num=166]"
     ]
    },
    {
     "name": "stderr",
     "output_type": "stream",
     "text": [
      "LOCAL_RANK: 0 - CUDA_VISIBLE_DEVICES: [0]\n"
     ]
    },
    {
     "name": "stdout",
     "output_type": "stream",
     "text": [
      "Predicting: 18it [00:00, ?it/s]"
     ]
    }
   ],
   "source": [
    "patienttrajectory = PatientTrajectoryPredictor(model, optim, optim_param, train_objective='visit', metrics=True, binarizer=mlb)\n",
    "\n",
    "trainer.fit(\n",
    "    patienttrajectory, \n",
    "    train_dataloader=trainloader,\n",
    ");\n",
    "\n",
    "predictions = trainer.predict(patienttrajectory, dataloaders=testloader)"
   ]
  },
  {
   "cell_type": "code",
   "execution_count": 22,
   "id": "5390bf33-66b1-4a01-a06b-14156f998402",
   "metadata": {},
   "outputs": [
    {
     "data": {
      "text/plain": [
       "0.09521388212687404"
      ]
     },
     "execution_count": 22,
     "metadata": {},
     "output_type": "execute_result"
    }
   ],
   "source": [
    "aucpr = 0\n",
    "for pred in predictions:\n",
    "    aucpr+=pred['AUCPR']\n",
    "aucpr / len(predictions)"
   ]
  },
  {
   "cell_type": "code",
   "execution_count": 23,
   "id": "46ff49d9-ea24-48e8-ba40-af56a2f21299",
   "metadata": {},
   "outputs": [
    {
     "data": {
      "text/plain": [
       "0.5"
      ]
     },
     "execution_count": 23,
     "metadata": {},
     "output_type": "execute_result"
    }
   ],
   "source": [
    "auc = 0\n",
    "for pred in predictions:\n",
    "    auc+=pred['AUC']\n",
    "auc / len(predictions)"
   ]
  },
  {
   "cell_type": "code",
   "execution_count": null,
   "id": "4f92e857-d92b-48e0-a8e4-665d497dfab8",
   "metadata": {},
   "outputs": [],
   "source": []
  }
 ],
 "metadata": {
  "kernelspec": {
   "display_name": "Python 3 (ipykernel)",
   "language": "python",
   "name": "python3"
  },
  "language_info": {
   "codemirror_mode": {
    "name": "ipython",
    "version": 3
   },
   "file_extension": ".py",
   "mimetype": "text/x-python",
   "name": "python",
   "nbconvert_exporter": "python",
   "pygments_lexer": "ipython3",
   "version": "3.7.11"
  }
 },
 "nbformat": 4,
 "nbformat_minor": 5
}
