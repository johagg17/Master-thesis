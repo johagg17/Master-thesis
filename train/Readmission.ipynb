{
 "cells": [
  {
   "cell_type": "code",
   "execution_count": 160,
   "id": "48ac1b7d-cf6e-4d69-9dbb-6a9be2b2735f",
   "metadata": {},
   "outputs": [],
   "source": [
    "from sklearn.model_selection import train_test_split"
   ]
  },
  {
   "cell_type": "code",
   "execution_count": 161,
   "id": "60b3cb76-34be-4685-bc4e-a8a601bb1d3f",
   "metadata": {},
   "outputs": [],
   "source": [
    "def load_model(path, model):\n",
    "    # load pretrained model and update weights\n",
    "    pretrained_dict = torch.load(path)\n",
    "    model_dict = model.state_dict()\n",
    "    # 1. filter out unnecessary keys\n",
    "    pretrained_dict = {k: v for k, v in pretrained_dict.items() if k in model_dict}\n",
    "    # 2. overwrite entries in the existing state dict\n",
    "    model_dict.update(pretrained_dict)\n",
    "    # 3. load the new state dict\n",
    "    model.load_state_dict(model_dict)\n",
    "    return model"
   ]
  },
  {
   "cell_type": "code",
   "execution_count": 162,
   "id": "f4c835e0-85da-45bb-9eb9-018bc32f275a",
   "metadata": {},
   "outputs": [],
   "source": [
    "def adam(params, config=None):\n",
    "    if config is None:\n",
    "        config = {\n",
    "            'lr': 3e-5,\n",
    "            'warmup_proportion': 0.1,\n",
    "            'weight_decay': 0.01\n",
    "        }\n",
    "        \n",
    "    no_decay = ['bias', 'LayerNorm.bias', 'LayerNorm.weight']\n",
    "\n",
    "    optimizer_grouped_parameters = [\n",
    "        {'params': [p for n, p in params if not any(nd in n for nd in no_decay)], 'weight_decay': 0.01},\n",
    "        {'params': [p for n, p in params if any(nd in n for nd in no_decay)], 'weight_decay': 0}\n",
    "    ]\n",
    "\n",
    "    optim = Bert.optimization.BertAdam(optimizer_grouped_parameters,\n",
    "                                       lr=config['lr'],\n",
    "                                       warmup=config['warmup_proportion'])\n",
    "    return optim"
   ]
  },
  {
   "cell_type": "code",
   "execution_count": 163,
   "id": "b0d8cd51-31ff-4918-b44a-570ec113358c",
   "metadata": {},
   "outputs": [],
   "source": [
    "import sys"
   ]
  },
  {
   "cell_type": "code",
   "execution_count": 164,
   "id": "b9c9e973-65e0-4de9-abb5-620771f5de0f",
   "metadata": {},
   "outputs": [],
   "source": [
    "sys.path.insert(1, '../')"
   ]
  },
  {
   "cell_type": "code",
   "execution_count": 165,
   "id": "62255c74-88e4-4495-a574-0aa89eed4e48",
   "metadata": {},
   "outputs": [],
   "source": [
    "from utils.dataset import EHRDatasetReadmission\n",
    "from model.tokenizer import EHRTokenizer\n",
    "import pytorch_pretrained_bert as Bert\n",
    "from torch.utils.data import DataLoader\n",
    "from model.model2 import *\n",
    "from utils.config import BertConfig\n",
    "from model.trainer import PatientTrajectoryPredictor\n",
    "import pytorch_lightning as pl\n",
    "from sklearn.model_selection import KFold"
   ]
  },
  {
   "cell_type": "code",
   "execution_count": 166,
   "id": "859e2564-d1ec-4628-8d04-049ebdc0c344",
   "metadata": {},
   "outputs": [],
   "source": [
    "import pandas as pd\n",
    "import warnings\n",
    "warnings.filterwarnings('ignore')"
   ]
  },
  {
   "cell_type": "code",
   "execution_count": 167,
   "id": "b335a69d-9b73-45ab-86fb-943cf70283ea",
   "metadata": {},
   "outputs": [],
   "source": [
    "path = '../processing/readmission_data_ccsr_'"
   ]
  },
  {
   "cell_type": "code",
   "execution_count": 168,
   "id": "62b2e0d3-1b28-4e89-9291-be93bd35da39",
   "metadata": {},
   "outputs": [],
   "source": [
    "data = pd.read_parquet(path)"
   ]
  },
  {
   "cell_type": "code",
   "execution_count": 169,
   "id": "8cfe397b-9960-4438-86be-eaf07b1473e0",
   "metadata": {},
   "outputs": [
    {
     "data": {
      "text/plain": [
       "170296"
      ]
     },
     "execution_count": 169,
     "metadata": {},
     "output_type": "execute_result"
    }
   ],
   "source": [
    "len(data)"
   ]
  },
  {
   "cell_type": "code",
   "execution_count": 170,
   "id": "61ea3f7a-fd2d-49d9-b1c1-2aef3ea0a31b",
   "metadata": {},
   "outputs": [
    {
     "data": {
      "text/html": [
       "<div>\n",
       "<style scoped>\n",
       "    .dataframe tbody tr th:only-of-type {\n",
       "        vertical-align: middle;\n",
       "    }\n",
       "\n",
       "    .dataframe tbody tr th {\n",
       "        vertical-align: top;\n",
       "    }\n",
       "\n",
       "    .dataframe thead th {\n",
       "        text-align: right;\n",
       "    }\n",
       "</style>\n",
       "<table border=\"1\" class=\"dataframe\">\n",
       "  <thead>\n",
       "    <tr style=\"text-align: right;\">\n",
       "      <th></th>\n",
       "      <th>subject_id</th>\n",
       "      <th>label</th>\n",
       "      <th>icd_code</th>\n",
       "      <th>ccsr</th>\n",
       "      <th>age</th>\n",
       "      <th>alcohol_abuse</th>\n",
       "      <th>tobacco_abuse</th>\n",
       "      <th>ndc</th>\n",
       "      <th>hadm_id</th>\n",
       "      <th>gender</th>\n",
       "    </tr>\n",
       "  </thead>\n",
       "  <tbody>\n",
       "    <tr>\n",
       "      <th>0</th>\n",
       "      <td>10008245</td>\n",
       "      <td>[0]</td>\n",
       "      <td>[[S32391A, E870, F72, G40909, R509, J45909, M8...</td>\n",
       "      <td>[[INJ003, END011, MBD014, NVS009, SYM002, RSP0...</td>\n",
       "      <td>[47.0]</td>\n",
       "      <td>[0]</td>\n",
       "      <td>[0]</td>\n",
       "      <td>[[69543013120, 904645561, 54482014407, 6655300...</td>\n",
       "      <td>[26674944]</td>\n",
       "      <td>M</td>\n",
       "    </tr>\n",
       "  </tbody>\n",
       "</table>\n",
       "</div>"
      ],
      "text/plain": [
       "   subject_id label                                           icd_code  \\\n",
       "0    10008245   [0]  [[S32391A, E870, F72, G40909, R509, J45909, M8...   \n",
       "\n",
       "                                                ccsr     age alcohol_abuse  \\\n",
       "0  [[INJ003, END011, MBD014, NVS009, SYM002, RSP0...  [47.0]           [0]   \n",
       "\n",
       "  tobacco_abuse                                                ndc  \\\n",
       "0           [0]  [[69543013120, 904645561, 54482014407, 6655300...   \n",
       "\n",
       "      hadm_id gender  \n",
       "0  [26674944]      M  "
      ]
     },
     "execution_count": 170,
     "metadata": {},
     "output_type": "execute_result"
    }
   ],
   "source": [
    "data[data['subject_id'] == 10008245]"
   ]
  },
  {
   "cell_type": "code",
   "execution_count": 171,
   "id": "6595cb43-d73d-40fe-8ce9-f75b04b8484b",
   "metadata": {},
   "outputs": [
    {
     "data": {
      "text/html": [
       "<div>\n",
       "<style scoped>\n",
       "    .dataframe tbody tr th:only-of-type {\n",
       "        vertical-align: middle;\n",
       "    }\n",
       "\n",
       "    .dataframe tbody tr th {\n",
       "        vertical-align: top;\n",
       "    }\n",
       "\n",
       "    .dataframe thead th {\n",
       "        text-align: right;\n",
       "    }\n",
       "</style>\n",
       "<table border=\"1\" class=\"dataframe\">\n",
       "  <thead>\n",
       "    <tr style=\"text-align: right;\">\n",
       "      <th></th>\n",
       "      <th>subject_id</th>\n",
       "      <th>label</th>\n",
       "      <th>icd_code</th>\n",
       "      <th>ccsr</th>\n",
       "      <th>age</th>\n",
       "      <th>alcohol_abuse</th>\n",
       "      <th>tobacco_abuse</th>\n",
       "      <th>ndc</th>\n",
       "      <th>hadm_id</th>\n",
       "      <th>gender</th>\n",
       "    </tr>\n",
       "  </thead>\n",
       "  <tbody>\n",
       "    <tr>\n",
       "      <th>0</th>\n",
       "      <td>10008245</td>\n",
       "      <td>[0]</td>\n",
       "      <td>[[S32391A, E870, F72, G40909, R509, J45909, M8...</td>\n",
       "      <td>[[INJ003, END011, MBD014, NVS009, SYM002, RSP0...</td>\n",
       "      <td>[47.0]</td>\n",
       "      <td>[0]</td>\n",
       "      <td>[0]</td>\n",
       "      <td>[[69543013120, 904645561, 54482014407, 6655300...</td>\n",
       "      <td>[26674944]</td>\n",
       "      <td>M</td>\n",
       "    </tr>\n",
       "    <tr>\n",
       "      <th>1</th>\n",
       "      <td>10031358</td>\n",
       "      <td>[0, 0, 0, 0, 0, 0]</td>\n",
       "      <td>[[E11618, M86179, I96, E871, L97509, N179, E11...</td>\n",
       "      <td>[[END003, MUS002, CIR028, END011, SKN004, GEN0...</td>\n",
       "      <td>[62.0, 63.0, 64.0, 64.0, 65.0, 65.0]</td>\n",
       "      <td>[1, 1, 0, 0, 0, 0]</td>\n",
       "      <td>[0, 0, 0, 0, 0, 0]</td>\n",
       "      <td>[[63323026201, 71015892, 51079045420, 74706811...</td>\n",
       "      <td>[27421511, 28279098, 24522342, 29498981, 29887...</td>\n",
       "      <td>M</td>\n",
       "    </tr>\n",
       "    <tr>\n",
       "      <th>2</th>\n",
       "      <td>10034667</td>\n",
       "      <td>[0]</td>\n",
       "      <td>[[O134, K5090, O7581, O631, O76, O701, Z3A38, ...</td>\n",
       "      <td>[[CIR008, DIG011, PRG023, PRG024, PRG023, PRG0...</td>\n",
       "      <td>[37.0]</td>\n",
       "      <td>[0]</td>\n",
       "      <td>[0]</td>\n",
       "      <td>[[904198861, 63029850401, 61553073503, 1152372...</td>\n",
       "      <td>[27995369]</td>\n",
       "      <td>F</td>\n",
       "    </tr>\n",
       "    <tr>\n",
       "      <th>3</th>\n",
       "      <td>10034933</td>\n",
       "      <td>[0, 0]</td>\n",
       "      <td>[[C7951, G9519, I639, C228, C792, E871, R29702...</td>\n",
       "      <td>[[NEO070, NVS020, CIR020, NEO017, NEO070, END0...</td>\n",
       "      <td>[63.0, 63.0]</td>\n",
       "      <td>[0, 0]</td>\n",
       "      <td>[0, 0]</td>\n",
       "      <td>[[60569049501, 68084019801, 63323010605, 11523...</td>\n",
       "      <td>[29594531, 28591708]</td>\n",
       "      <td>M</td>\n",
       "    </tr>\n",
       "    <tr>\n",
       "      <th>4</th>\n",
       "      <td>10040737</td>\n",
       "      <td>[0, 0]</td>\n",
       "      <td>[[K562, I10, K219, E7439, F419, E039], [S82851...</td>\n",
       "      <td>[[DIG012, CIR007, DIG004, END016, MBD005, END0...</td>\n",
       "      <td>[51.0, 57.0]</td>\n",
       "      <td>[0, 0]</td>\n",
       "      <td>[0, 0]</td>\n",
       "      <td>[[78112001103, 60793011601, 63323026201, 90456...</td>\n",
       "      <td>[26871570, 20352299]</td>\n",
       "      <td>F</td>\n",
       "    </tr>\n",
       "  </tbody>\n",
       "</table>\n",
       "</div>"
      ],
      "text/plain": [
       "   subject_id               label  \\\n",
       "0    10008245                 [0]   \n",
       "1    10031358  [0, 0, 0, 0, 0, 0]   \n",
       "2    10034667                 [0]   \n",
       "3    10034933              [0, 0]   \n",
       "4    10040737              [0, 0]   \n",
       "\n",
       "                                            icd_code  \\\n",
       "0  [[S32391A, E870, F72, G40909, R509, J45909, M8...   \n",
       "1  [[E11618, M86179, I96, E871, L97509, N179, E11...   \n",
       "2  [[O134, K5090, O7581, O631, O76, O701, Z3A38, ...   \n",
       "3  [[C7951, G9519, I639, C228, C792, E871, R29702...   \n",
       "4  [[K562, I10, K219, E7439, F419, E039], [S82851...   \n",
       "\n",
       "                                                ccsr  \\\n",
       "0  [[INJ003, END011, MBD014, NVS009, SYM002, RSP0...   \n",
       "1  [[END003, MUS002, CIR028, END011, SKN004, GEN0...   \n",
       "2  [[CIR008, DIG011, PRG023, PRG024, PRG023, PRG0...   \n",
       "3  [[NEO070, NVS020, CIR020, NEO017, NEO070, END0...   \n",
       "4  [[DIG012, CIR007, DIG004, END016, MBD005, END0...   \n",
       "\n",
       "                                    age       alcohol_abuse  \\\n",
       "0                                [47.0]                 [0]   \n",
       "1  [62.0, 63.0, 64.0, 64.0, 65.0, 65.0]  [1, 1, 0, 0, 0, 0]   \n",
       "2                                [37.0]                 [0]   \n",
       "3                          [63.0, 63.0]              [0, 0]   \n",
       "4                          [51.0, 57.0]              [0, 0]   \n",
       "\n",
       "        tobacco_abuse                                                ndc  \\\n",
       "0                 [0]  [[69543013120, 904645561, 54482014407, 6655300...   \n",
       "1  [0, 0, 0, 0, 0, 0]  [[63323026201, 71015892, 51079045420, 74706811...   \n",
       "2                 [0]  [[904198861, 63029850401, 61553073503, 1152372...   \n",
       "3              [0, 0]  [[60569049501, 68084019801, 63323010605, 11523...   \n",
       "4              [0, 0]  [[78112001103, 60793011601, 63323026201, 90456...   \n",
       "\n",
       "                                             hadm_id gender  \n",
       "0                                         [26674944]      M  \n",
       "1  [27421511, 28279098, 24522342, 29498981, 29887...      M  \n",
       "2                                         [27995369]      F  \n",
       "3                               [29594531, 28591708]      M  \n",
       "4                               [26871570, 20352299]      F  "
      ]
     },
     "execution_count": 171,
     "metadata": {},
     "output_type": "execute_result"
    }
   ],
   "source": [
    "data.head()"
   ]
  },
  {
   "cell_type": "code",
   "execution_count": 172,
   "id": "a94ac7c3-341e-42d4-b7e7-966b05f1c20e",
   "metadata": {},
   "outputs": [],
   "source": [
    "global_params = {\n",
    "    'max_seq_len': 32,\n",
    "    'gradient_accumulation_steps': 1\n",
    "}\n",
    "\n",
    "optim_param = {\n",
    "    'lr': 3e-6,\n",
    "    'warmup_proportion': 0.1,\n",
    "    'weight_decay': 0.01\n",
    "}\n",
    "\n",
    "train_params = {\n",
    "    'batch_size': 64,\n",
    "    'use_cuda': True,\n",
    "    'max_len_seq': global_params['max_seq_len'],\n",
    "    'device': 'cuda' #change this to run on cuda #'cuda:0'\n",
    "}"
   ]
  },
  {
   "cell_type": "code",
   "execution_count": 173,
   "id": "d77fa5d6-1671-4a7c-bcbf-c0a5067f23f3",
   "metadata": {},
   "outputs": [],
   "source": [
    "tokenizer = EHRTokenizer(task='readmission')"
   ]
  },
  {
   "cell_type": "code",
   "execution_count": 174,
   "id": "7f19e533-bd30-47f2-b019-02fe2ba6f3bd",
   "metadata": {},
   "outputs": [],
   "source": [
    "#trainset = EHRDatasetPredictionTask(data, max_len=train_params['max_len_seq'], tokenizer=tokenizer, prediction_task='readmission')"
   ]
  },
  {
   "cell_type": "code",
   "execution_count": 175,
   "id": "4c3ed028-4da6-4d18-a7c9-45d454907f50",
   "metadata": {},
   "outputs": [],
   "source": [
    "#trainload = DataLoader(dataset=trainset, batch_size=train_params['batch_size'], shuffle=True)"
   ]
  },
  {
   "cell_type": "code",
   "execution_count": 200,
   "id": "8af2e48f-bf05-4677-82c6-9e86a48bcdde",
   "metadata": {},
   "outputs": [],
   "source": [
    "# Shallow\n",
    "'''\n",
    "model_config = {\n",
    "    'vocab_size': len(tokenizer.getVoc('code').keys()), # number of disease + symbols for word embedding\n",
    "    'hidden_size': 300, # word embedding and seg embedding hidden size\n",
    "    'seg_vocab_size': 2, # number of vocab for seg embedding\n",
    "    'age_vocab_size': len(tokenizer.getVoc('age').keys()), # number of vocab for age embedding,\n",
    "    'gender_vocab_size': 3,\n",
    "    'max_position_embeddings': train_params['max_len_seq'], # maximum number of tokens\n",
    "    'hidden_dropout_prob': 0.1, # dropout rate\n",
    "    'num_hidden_layers': 2, # number of multi-head attention layers required\n",
    "    'num_attention_heads': 4, # number of attention heads\n",
    "    'attention_probs_dropout_prob': 0.1, # multi-head attention dropout rate\n",
    "    'intermediate_size': 300, # the size of the \"intermediate\" layer in the transformer encoder\n",
    "    'hidden_act': 'gelu', # The non-linear activation function in the encoder and the pooler \"gelu\", 'relu', 'swish' are supported\n",
    "    'initializer_range': 0.02, # parameter weight initializer range\n",
    "}\n",
    "'''\n",
    "\n",
    "# Deep\n",
    "model_config = {\n",
    "    'vocab_size': len(tokenizer.getVoc('code').keys()), # number of disease + symbols for word embedding\n",
    "    'hidden_size': 300, # word embedding and seg embedding hidden size\n",
    "    'seg_vocab_size': 2, # number of vocab for seg embedding\n",
    "    'age_vocab_size': len(tokenizer.getVoc('age').keys()), # number of vocab for age embedding,\n",
    "    'gender_vocab_size': 3,\n",
    "    'max_position_embeddings': train_params['max_len_seq'], # maximum number of tokens\n",
    "    'hidden_dropout_prob': 0.1, # dropout rate\n",
    "    'num_hidden_layers': 6, # number of multi-head attention layers required\n",
    "    'num_attention_heads': 12, # number of attention heads\n",
    "    'attention_probs_dropout_prob': 0.1, # multi-head attention dropout rate\n",
    "    'intermediate_size': 300, # the size of the \"intermediate\" layer in the transformer encoder\n",
    "    'hidden_act': 'gelu', # The non-linear activation function in the encoder and the pooler \"gelu\", 'relu', 'swish' are supported\n",
    "    'initializer_range': 0.02, # parameter weight initializer range\n",
    "}"
   ]
  },
  {
   "cell_type": "code",
   "execution_count": 201,
   "id": "8183afde-a0c7-4934-8138-62bac331f92e",
   "metadata": {},
   "outputs": [],
   "source": [
    "class BertConfig(Bert.modeling.BertConfig):\n",
    "    def __init__(self, config):\n",
    "        super(BertConfig, self).__init__(\n",
    "            vocab_size_or_config_json_file=config.get('vocab_size'),\n",
    "            hidden_size=config['hidden_size'],\n",
    "            num_hidden_layers=config.get('num_hidden_layers'),\n",
    "            num_attention_heads=config.get('num_attention_heads'),\n",
    "            intermediate_size=config.get('intermediate_size'),\n",
    "            hidden_act=config.get('hidden_act'),\n",
    "            hidden_dropout_prob=config.get('hidden_dropout_prob'),\n",
    "            attention_probs_dropout_prob=config.get('attention_probs_dropout_prob'),\n",
    "            max_position_embeddings = config.get('max_position_embeddings'),\n",
    "            initializer_range=config.get('initializer_range'),\n",
    "        )\n",
    "        self.seg_vocab_size = config.get('seg_vocab_size')\n",
    "        self.age_vocab_size = config.get('age_vocab_size')\n",
    "        self.gender_vocab_size = config.get('gender_vocab_size')"
   ]
  },
  {
   "cell_type": "code",
   "execution_count": 202,
   "id": "8509a03f-de53-440b-b700-127db1dea907",
   "metadata": {},
   "outputs": [],
   "source": [
    "conf = BertConfig(model_config)\n",
    "tensorboarddir = '../logs/'"
   ]
  },
  {
   "cell_type": "code",
   "execution_count": 203,
   "id": "cd25e854-d68a-4d5a-b656-c39e3a9722f8",
   "metadata": {},
   "outputs": [],
   "source": [
    "#PATH = \"checkpoint2\"\n",
    "#mode = load_model(PATH, model)"
   ]
  },
  {
   "cell_type": "code",
   "execution_count": 204,
   "id": "241aca4d-2c7b-4af2-aed7-78f90bc001f1",
   "metadata": {},
   "outputs": [],
   "source": [
    "data['lenvisits'] = data['hadm_id'].apply(lambda x: len(x)) "
   ]
  },
  {
   "cell_type": "code",
   "execution_count": 205,
   "id": "f4c8c668-3165-4fc8-8aa5-342d8f3a3e8b",
   "metadata": {},
   "outputs": [],
   "source": [
    "datawithout1visit = data[data['lenvisits'] > 1]"
   ]
  },
  {
   "cell_type": "code",
   "execution_count": 206,
   "id": "090dd3cb-61ff-4ab9-90c2-cddeae0f8f92",
   "metadata": {},
   "outputs": [
    {
     "data": {
      "text/plain": [
       "170296"
      ]
     },
     "execution_count": 206,
     "metadata": {},
     "output_type": "execute_result"
    }
   ],
   "source": [
    "len(data)"
   ]
  },
  {
   "cell_type": "code",
   "execution_count": 207,
   "id": "c9d62ccb-79b9-4179-acd0-80913d6a33e7",
   "metadata": {},
   "outputs": [
    {
     "data": {
      "text/plain": [
       "72975"
      ]
     },
     "execution_count": 207,
     "metadata": {},
     "output_type": "execute_result"
    }
   ],
   "source": [
    "len(datawithout1visit)"
   ]
  },
  {
   "cell_type": "code",
   "execution_count": 208,
   "id": "17454a0f-65de-49c8-94b9-3d8c539c5883",
   "metadata": {},
   "outputs": [
    {
     "data": {
      "text/html": [
       "<div>\n",
       "<style scoped>\n",
       "    .dataframe tbody tr th:only-of-type {\n",
       "        vertical-align: middle;\n",
       "    }\n",
       "\n",
       "    .dataframe tbody tr th {\n",
       "        vertical-align: top;\n",
       "    }\n",
       "\n",
       "    .dataframe thead th {\n",
       "        text-align: right;\n",
       "    }\n",
       "</style>\n",
       "<table border=\"1\" class=\"dataframe\">\n",
       "  <thead>\n",
       "    <tr style=\"text-align: right;\">\n",
       "      <th></th>\n",
       "      <th>subject_id</th>\n",
       "      <th>label</th>\n",
       "      <th>icd_code</th>\n",
       "      <th>ccsr</th>\n",
       "      <th>age</th>\n",
       "      <th>alcohol_abuse</th>\n",
       "      <th>tobacco_abuse</th>\n",
       "      <th>ndc</th>\n",
       "      <th>hadm_id</th>\n",
       "      <th>gender</th>\n",
       "      <th>lenvisits</th>\n",
       "    </tr>\n",
       "  </thead>\n",
       "  <tbody>\n",
       "    <tr>\n",
       "      <th>1</th>\n",
       "      <td>10031358</td>\n",
       "      <td>[0, 0, 0, 0, 0, 0]</td>\n",
       "      <td>[[E11618, M86179, I96, E871, L97509, N179, E11...</td>\n",
       "      <td>[[END003, MUS002, CIR028, END011, SKN004, GEN0...</td>\n",
       "      <td>[62.0, 63.0, 64.0, 64.0, 65.0, 65.0]</td>\n",
       "      <td>[1, 1, 0, 0, 0, 0]</td>\n",
       "      <td>[0, 0, 0, 0, 0, 0]</td>\n",
       "      <td>[[63323026201, 71015892, 51079045420, 74706811...</td>\n",
       "      <td>[27421511, 28279098, 24522342, 29498981, 29887...</td>\n",
       "      <td>M</td>\n",
       "      <td>6</td>\n",
       "    </tr>\n",
       "    <tr>\n",
       "      <th>3</th>\n",
       "      <td>10034933</td>\n",
       "      <td>[0, 0]</td>\n",
       "      <td>[[C7951, G9519, I639, C228, C792, E871, R29702...</td>\n",
       "      <td>[[NEO070, NVS020, CIR020, NEO017, NEO070, END0...</td>\n",
       "      <td>[63.0, 63.0]</td>\n",
       "      <td>[0, 0]</td>\n",
       "      <td>[0, 0]</td>\n",
       "      <td>[[60569049501, 68084019801, 63323010605, 11523...</td>\n",
       "      <td>[29594531, 28591708]</td>\n",
       "      <td>M</td>\n",
       "      <td>2</td>\n",
       "    </tr>\n",
       "    <tr>\n",
       "      <th>4</th>\n",
       "      <td>10040737</td>\n",
       "      <td>[0, 0]</td>\n",
       "      <td>[[K562, I10, K219, E7439, F419, E039], [S82851...</td>\n",
       "      <td>[[DIG012, CIR007, DIG004, END016, MBD005, END0...</td>\n",
       "      <td>[51.0, 57.0]</td>\n",
       "      <td>[0, 0]</td>\n",
       "      <td>[0, 0]</td>\n",
       "      <td>[[78112001103, 60793011601, 63323026201, 90456...</td>\n",
       "      <td>[26871570, 20352299]</td>\n",
       "      <td>F</td>\n",
       "      <td>2</td>\n",
       "    </tr>\n",
       "    <tr>\n",
       "      <th>5</th>\n",
       "      <td>10046592</td>\n",
       "      <td>[0, 0]</td>\n",
       "      <td>[[I639, N390, E1165, R1310, I10, E785, B9620, ...</td>\n",
       "      <td>[[CIR020, GEN004, END003, SYM005, CIR007, END0...</td>\n",
       "      <td>[73.0, 74.0]</td>\n",
       "      <td>[0, 0]</td>\n",
       "      <td>[0, 0]</td>\n",
       "      <td>[[38396055018, 904629261, 904645561, 613140144...</td>\n",
       "      <td>[29327270, 27003299]</td>\n",
       "      <td>F</td>\n",
       "      <td>2</td>\n",
       "    </tr>\n",
       "    <tr>\n",
       "      <th>10</th>\n",
       "      <td>10082965</td>\n",
       "      <td>[0, 0]</td>\n",
       "      <td>[[M4712, D7811, I10], [C20, I214, I2699, G92, ...</td>\n",
       "      <td>[[MUS011, BLD009, CIR007], [NEO015, CIR009, CI...</td>\n",
       "      <td>[81.0, 86.0]</td>\n",
       "      <td>[0, 0]</td>\n",
       "      <td>[0, 0]</td>\n",
       "      <td>[[61553020648, 574705050, 121043130, 536338101...</td>\n",
       "      <td>[22046658, 25214863]</td>\n",
       "      <td>F</td>\n",
       "      <td>2</td>\n",
       "    </tr>\n",
       "  </tbody>\n",
       "</table>\n",
       "</div>"
      ],
      "text/plain": [
       "    subject_id               label  \\\n",
       "1     10031358  [0, 0, 0, 0, 0, 0]   \n",
       "3     10034933              [0, 0]   \n",
       "4     10040737              [0, 0]   \n",
       "5     10046592              [0, 0]   \n",
       "10    10082965              [0, 0]   \n",
       "\n",
       "                                             icd_code  \\\n",
       "1   [[E11618, M86179, I96, E871, L97509, N179, E11...   \n",
       "3   [[C7951, G9519, I639, C228, C792, E871, R29702...   \n",
       "4   [[K562, I10, K219, E7439, F419, E039], [S82851...   \n",
       "5   [[I639, N390, E1165, R1310, I10, E785, B9620, ...   \n",
       "10  [[M4712, D7811, I10], [C20, I214, I2699, G92, ...   \n",
       "\n",
       "                                                 ccsr  \\\n",
       "1   [[END003, MUS002, CIR028, END011, SKN004, GEN0...   \n",
       "3   [[NEO070, NVS020, CIR020, NEO017, NEO070, END0...   \n",
       "4   [[DIG012, CIR007, DIG004, END016, MBD005, END0...   \n",
       "5   [[CIR020, GEN004, END003, SYM005, CIR007, END0...   \n",
       "10  [[MUS011, BLD009, CIR007], [NEO015, CIR009, CI...   \n",
       "\n",
       "                                     age       alcohol_abuse  \\\n",
       "1   [62.0, 63.0, 64.0, 64.0, 65.0, 65.0]  [1, 1, 0, 0, 0, 0]   \n",
       "3                           [63.0, 63.0]              [0, 0]   \n",
       "4                           [51.0, 57.0]              [0, 0]   \n",
       "5                           [73.0, 74.0]              [0, 0]   \n",
       "10                          [81.0, 86.0]              [0, 0]   \n",
       "\n",
       "         tobacco_abuse                                                ndc  \\\n",
       "1   [0, 0, 0, 0, 0, 0]  [[63323026201, 71015892, 51079045420, 74706811...   \n",
       "3               [0, 0]  [[60569049501, 68084019801, 63323010605, 11523...   \n",
       "4               [0, 0]  [[78112001103, 60793011601, 63323026201, 90456...   \n",
       "5               [0, 0]  [[38396055018, 904629261, 904645561, 613140144...   \n",
       "10              [0, 0]  [[61553020648, 574705050, 121043130, 536338101...   \n",
       "\n",
       "                                              hadm_id gender  lenvisits  \n",
       "1   [27421511, 28279098, 24522342, 29498981, 29887...      M          6  \n",
       "3                                [29594531, 28591708]      M          2  \n",
       "4                                [26871570, 20352299]      F          2  \n",
       "5                                [29327270, 27003299]      F          2  \n",
       "10                               [22046658, 25214863]      F          2  "
      ]
     },
     "execution_count": 208,
     "metadata": {},
     "output_type": "execute_result"
    }
   ],
   "source": [
    "datawithout1visit.head()"
   ]
  },
  {
   "cell_type": "code",
   "execution_count": 209,
   "id": "49d6ca67-a7cd-4e27-8a62-ef25e54df6b8",
   "metadata": {},
   "outputs": [],
   "source": [
    "datawithout1visit['readmission_label'] = datawithout1visit['label'].apply(lambda x: x[1])"
   ]
  },
  {
   "cell_type": "code",
   "execution_count": 210,
   "id": "7b98aa14-b4b9-4d73-ad1e-ecca075d9176",
   "metadata": {},
   "outputs": [],
   "source": [
    "label1 = datawithout1visit[datawithout1visit['readmission_label'] == 1]"
   ]
  },
  {
   "cell_type": "code",
   "execution_count": 211,
   "id": "36a49551-de02-41f9-8e16-e03bb3f1c774",
   "metadata": {},
   "outputs": [],
   "source": [
    "label0 = datawithout1visit[datawithout1visit['readmission_label'] == 0].sample(len(label1))"
   ]
  },
  {
   "cell_type": "code",
   "execution_count": 212,
   "id": "b97a7172-2c8e-4cbf-97d3-2b8a9813947b",
   "metadata": {},
   "outputs": [],
   "source": [
    "finaldata = pd.concat([label1, label0])"
   ]
  },
  {
   "cell_type": "code",
   "execution_count": 213,
   "id": "74d98a1a-52ce-443c-8464-fa2470140bda",
   "metadata": {},
   "outputs": [],
   "source": [
    "trainset, testset = train_test_split(finaldata, test_size=0.2)"
   ]
  },
  {
   "cell_type": "code",
   "execution_count": 214,
   "id": "60df954c-22ff-4ae1-ac3b-b679bece615d",
   "metadata": {},
   "outputs": [],
   "source": [
    "traindata = EHRDatasetReadmission(trainset, max_len=train_params['max_len_seq'], tokenizer=tokenizer) \n",
    "testdata = EHRDatasetReadmission(testset, max_len=train_params['max_len_seq'], tokenizer=tokenizer) "
   ]
  },
  {
   "cell_type": "code",
   "execution_count": 215,
   "id": "dce63d9a-87b6-4b0d-bd48-2aadff39c43b",
   "metadata": {},
   "outputs": [
    {
     "name": "stderr",
     "output_type": "stream",
     "text": [
      "GPU available: True, used: True\n",
      "TPU available: False, using: 0 TPU cores\n",
      "IPU available: False, using: 0 IPUs\n"
     ]
    }
   ],
   "source": [
    "trainer = pl.Trainer(\n",
    "        max_epochs=20, \n",
    "        gpus=-1,\n",
    "        logger=pl.loggers.TensorBoardLogger(save_dir=tensorboarddir),\n",
    "        callbacks=[pl.callbacks.progress.TQDMProgressBar()], \n",
    "        progress_bar_refresh_rate=1,\n",
    "        weights_summary=None, # Can be None, top or full\n",
    "        num_sanity_val_steps=10,\n",
    "    )\n",
    "\n",
    "trainloader = torch.utils.data.DataLoader(traindata, batch_size=train_params['batch_size'], shuffle=True, num_workers=3)\n",
    "testloader = torch.utils.data.DataLoader(testdata, batch_size=train_params['batch_size'], shuffle=True, num_workers=3)"
   ]
  },
  {
   "cell_type": "code",
   "execution_count": 216,
   "id": "ad33f883-c8ec-4ff8-a7b3-87b8c6990dde",
   "metadata": {},
   "outputs": [
    {
     "name": "stderr",
     "output_type": "stream",
     "text": [
      "t_total value of -1 results in schedule not being applied\n"
     ]
    }
   ],
   "source": [
    "model = BertForReadmission(conf, num_labels=1) \n",
    "PATH = \"../saved_models/MLM/deep_notsuffled\"\n",
    "model = load_model(PATH, model)\n",
    "params = list(model.named_parameters())\n",
    "optim = adam(params, optim_param)"
   ]
  },
  {
   "cell_type": "code",
   "execution_count": 217,
   "id": "749af079-19ec-4f5f-bf65-c55f0b62c4fb",
   "metadata": {},
   "outputs": [
    {
     "name": "stderr",
     "output_type": "stream",
     "text": [
      "LOCAL_RANK: 0 - CUDA_VISIBLE_DEVICES: [0]\n"
     ]
    },
    {
     "name": "stdout",
     "output_type": "stream",
     "text": [
      "Epoch 19: 100%|████████████████████████████████████████████████| 315/315 [00:16<00:00, 18.70it/s, loss=0.613, v_num=182]"
     ]
    },
    {
     "name": "stderr",
     "output_type": "stream",
     "text": [
      "LOCAL_RANK: 0 - CUDA_VISIBLE_DEVICES: [0]\n"
     ]
    },
    {
     "name": "stdout",
     "output_type": "stream",
     "text": [
      "\n",
      "Predicting: 315it [00:01, ?it/s]\n"
     ]
    }
   ],
   "source": [
    "patienttrajectory = PatientTrajectoryPredictor(model, optim, optim_param, train_objective='readmission', metrics=True)\n",
    "\n",
    "trainer.fit(\n",
    "    patienttrajectory, \n",
    "    train_dataloader=trainloader,\n",
    ");\n",
    "\n",
    "predictions = trainer.predict(patienttrajectory, dataloaders=testloader)"
   ]
  },
  {
   "cell_type": "code",
   "execution_count": 218,
   "id": "e881e9be-1b3c-4948-a0ff-4dbd6e9cd061",
   "metadata": {},
   "outputs": [],
   "source": [
    "PATH = '../saved_models/Readmission/deep_unshuffled'\n",
    "torch.save(model.state_dict(), PATH)"
   ]
  },
  {
   "cell_type": "code",
   "execution_count": 95,
   "id": "4cfa82a1-7fed-4573-952a-be4da45ec572",
   "metadata": {},
   "outputs": [
    {
     "name": "stderr",
     "output_type": "stream",
     "text": [
      "LOCAL_RANK: 0 - CUDA_VISIBLE_DEVICES: [0]\n"
     ]
    },
    {
     "name": "stdout",
     "output_type": "stream",
     "text": [
      "Predicting: 4258it [00:10, ?it/s]\n"
     ]
    }
   ],
   "source": [
    "#predictions = trainer.predict(patienttrajectory, dataloaders=testloader)"
   ]
  },
  {
   "cell_type": "code",
   "execution_count": 219,
   "id": "02ab1b08-d27e-412d-a06a-6aa74d17a7b3",
   "metadata": {},
   "outputs": [],
   "source": [
    "f1 = 0"
   ]
  },
  {
   "cell_type": "code",
   "execution_count": 220,
   "id": "0b16cd90-3b75-4837-9e8b-3f911a13ec03",
   "metadata": {},
   "outputs": [],
   "source": [
    "for preds in predictions:\n",
    "    f1 += preds['F1-score']"
   ]
  },
  {
   "cell_type": "code",
   "execution_count": 221,
   "id": "588873ca-982a-429c-ad97-612eaa39ab48",
   "metadata": {},
   "outputs": [
    {
     "data": {
      "text/plain": [
       "0.6171461114435639"
      ]
     },
     "execution_count": 221,
     "metadata": {},
     "output_type": "execute_result"
    }
   ],
   "source": [
    "f1 / len(predictions)"
   ]
  },
  {
   "cell_type": "code",
   "execution_count": 222,
   "id": "fcb4282d-760f-4d13-b945-434548101707",
   "metadata": {},
   "outputs": [
    {
     "data": {
      "text/plain": [
       "0.6765966287572949"
      ]
     },
     "execution_count": 222,
     "metadata": {},
     "output_type": "execute_result"
    }
   ],
   "source": [
    "aucpr = 0\n",
    "\n",
    "for preds in predictions:\n",
    "    aucpr += preds['AUCPR']\n",
    "    \n",
    "aucpr / len(predictions)"
   ]
  },
  {
   "cell_type": "code",
   "execution_count": 223,
   "id": "c7389863-3aa2-46b9-8a9d-a41f8e7cce88",
   "metadata": {},
   "outputs": [
    {
     "data": {
      "text/plain": [
       "0.6568882132483317"
      ]
     },
     "execution_count": 223,
     "metadata": {},
     "output_type": "execute_result"
    }
   ],
   "source": [
    "auc = 0\n",
    "\n",
    "for preds in predictions:\n",
    "    auc += preds['AUROC']\n",
    "    \n",
    "auc / len(predictions)"
   ]
  },
  {
   "cell_type": "code",
   "execution_count": null,
   "id": "7d5c920b-3297-4eb7-9bd7-b5889de915e4",
   "metadata": {},
   "outputs": [],
   "source": []
  }
 ],
 "metadata": {
  "kernelspec": {
   "display_name": "Python 3 (ipykernel)",
   "language": "python",
   "name": "python3"
  },
  "language_info": {
   "codemirror_mode": {
    "name": "ipython",
    "version": 3
   },
   "file_extension": ".py",
   "mimetype": "text/x-python",
   "name": "python",
   "nbconvert_exporter": "python",
   "pygments_lexer": "ipython3",
   "version": "3.7.11"
  }
 },
 "nbformat": 4,
 "nbformat_minor": 5
}
