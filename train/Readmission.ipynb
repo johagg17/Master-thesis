{
 "cells": [
  {
   "cell_type": "code",
<<<<<<< HEAD
   "execution_count": 3,
   "id": "48743ddb-65ce-448c-a82d-bb1cf0727aab",
=======
   "execution_count": 1,
   "id": "477f1260-b14e-4b1e-abdc-bf35ad8ba9b2",
>>>>>>> a1d87a9a1421b1cb5c7ab81ef113fa4a2187ce31
   "metadata": {},
   "outputs": [],
   "source": [
    "import sys\n",
    "sys.path.insert(1, '../')\n",
    "from utils.packages import *"
   ]
  },
  {
   "cell_type": "code",
>>>>>>> a1d87a9a1421b1cb5c7ab81ef113fa4a2187ce31
   "execution_count": 3,
   "id": "b335a69d-9b73-45ab-86fb-943cf70283ea",
   "metadata": {},
   "outputs": [],
   "source": [
    "path_patients = '../data/datasets/readmission_data_synthea'\n",
    "prior1 = pd.read_parquet('../data/datasets/prior_table_1')\n",
    "prior2 = pd.read_parquet('../data/datasets/prior_table_2')"
   ]
  },
  {
   "cell_type": "code",
   "execution_count": 4,
   "id": "62b2e0d3-1b28-4e89-9291-be93bd35da39",
   "metadata": {},
   "outputs": [],
   "source": [
    "priordataset = pd.concat([prior1, prior2])\n",
    "data = pd.read_parquet(path_patients)\n",
    "dataset = data.merge(priordataset, on='subject_id', how='inner')"
   ]
  },
  {
   "cell_type": "code",
   "execution_count": 5,
   "id": "a94ac7c3-341e-42d4-b7e7-966b05f1c20e",
   "metadata": {},
   "outputs": [],
   "source": [
    "global_params = {\n",
    "    'max_seq_len': 32,\n",
    "    'gradient_accumulation_steps': 1\n",
    "}\n",
    "\n",
    "optim_param = {\n",
    "    'lr': 3e-5,\n",
    "    'warmup_proportion': 0.1,\n",
    "    'weight_decay': 0.01\n",
    "}\n",
    "\n",
    "train_params = {\n",
    "    'batch_size': 32,\n",
    "    'use_cuda': True,\n",
    "    'max_len_seq': global_params['max_seq_len'],\n",
    "    'device': 'cuda' #change this to run on cuda #'cuda:0'\n",
    "}"
   ]
  },
  {
   "cell_type": "code",
   "execution_count": 6,
   "id": "483f8c37-6aeb-4815-a7eb-063f61741024",
   "metadata": {},
   "outputs": [],
   "source": [
    "dataset['subject_id'] = dataset['subject_id'].apply(lambda x: x.replace('-', ''))"
   ]
  },
  {
   "cell_type": "code",
   "execution_count": 7,
   "id": "d77fa5d6-1671-4a7c-bcbf-c0a5067f23f3",
   "metadata": {},
   "outputs": [],
   "source": [
    "files = {'code':'../data/vocabularies/Synthea/snomedrxnorm.npy',\n",
    "         'age':'../data/vocabularies/Synthea/age.npy'\n",
    "        }\n",
    "tokenizer = EHRTokenizer(task='readmission', filenames=files)"
   ]
  },
  {
   "cell_type": "code",
   "execution_count": 26,
   "id": "8af2e48f-bf05-4677-82c6-9e86a48bcdde",
   "metadata": {},
   "outputs": [],
   "source": [
    "model_config = {\n",
    "    'vocab_size': len(tokenizer.getVoc('code').keys()), # number of disease + symbols for word embedding\n",
    "    'hidden_size': 288, # word embedding and seg embedding hidden size\n",
    "    'seg_vocab_size': 2, # number of vocab for seg embedding\n",
    "    'age_vocab_size': len(tokenizer.getVoc('age').keys()), # number of vocab for age embedding,\n",
    "    'gender_vocab_size': 3,\n",
    "    'max_position_embeddings': train_params['max_len_seq'], # maximum number of tokens\n",
    "    'hidden_dropout_prob': 0.1, # dropout rate\n",
    "    'num_hidden_layers': 4, # number of multi-head attention layers required\n",
    "    'num_attention_heads': 6, # number of attention heads\n",
    "    'attention_probs_dropout_prob': 0.1, # multi-head attention dropout rate\n",
    "    'intermediate_size': 512, # the size of the \"intermediate\" layer in the transformer encoder\n",
    "    'hidden_act': 'gelu', # The non-linear activation function in the encoder and the pooler \"gelu\", 'relu', 'swish' are supported\n",
    "    'initializer_range': 0.02, # parameter weight initializer range\n",
    "    'use_prior':False,\n",
    "}"
   ]
  },
  {
   "cell_type": "code",
   "execution_count": 27,
   "id": "8509a03f-de53-440b-b700-127db1dea907",
   "metadata": {},
   "outputs": [],
   "source": [
    "conf = BertConfig(model_config)\n",
    "tensorboarddir = '../logs/'"
   ]
  },
  {
   "cell_type": "code",
   "execution_count": 10,
   "id": "74d98a1a-52ce-443c-8464-fa2470140bda",
   "metadata": {},
   "outputs": [],
   "source": [
    "trainset, testset = train_test_split(dataset, test_size=0.2)"
   ]
  },
  {
   "cell_type": "code",
   "execution_count": 11,
   "id": "60df954c-22ff-4ae1-ac3b-b679bece615d",
   "metadata": {},
   "outputs": [],
   "source": [
    "traindata = EHRDatasetReadmission(trainset, max_len=train_params['max_len_seq'], tokenizer=tokenizer, nvisits=1) "
   ]
  },
  {
   "cell_type": "code",
   "execution_count": 12,
   "id": "8bfdd0a2-aed7-48b5-8cfe-b071d72a65fd",
   "metadata": {},
   "outputs": [],
   "source": [
    "testdata = EHRDatasetReadmission(testset, max_len=train_params['max_len_seq'], tokenizer=tokenizer, nvisits=1) "
   ]
  },
  {
   "cell_type": "code",
   "execution_count": 13,
   "id": "dce63d9a-87b6-4b0d-bd48-2aadff39c43b",
   "metadata": {},
   "outputs": [
    {
     "name": "stderr",
     "output_type": "stream",
     "text": [
      "GPU available: True, used: True\n",
      "TPU available: False, using: 0 TPU cores\n",
      "IPU available: False, using: 0 IPUs\n"
     ]
    }
   ],
   "source": [
    "trainer = pl.Trainer(\n",
    "        max_epochs=5, \n",
    "        gpus=-1,\n",
    "        logger=pl.loggers.TensorBoardLogger(save_dir=tensorboarddir),\n",
    "        callbacks=[pl.callbacks.progress.TQDMProgressBar()], \n",
    "        progress_bar_refresh_rate=1,\n",
    "        weights_summary=None, # Can be None, top or full\n",
    "        num_sanity_val_steps=10,\n",
    "    )\n",
    "\n",
    "trainloader = torch.utils.data.DataLoader(traindata, batch_size=train_params['batch_size'], shuffle=True, num_workers=4)\n",
    "testloader = torch.utils.data.DataLoader(testdata, batch_size=train_params['batch_size'], shuffle=True, num_workers=4)"
   ]
  },
  {
   "cell_type": "code",
   "execution_count": 28,
   "id": "4abc5bb4-31d8-4aac-9235-4a8c48c00dc9",
   "metadata": {},
   "outputs": [
    {
     "name": "stderr",
     "output_type": "stream",
     "text": [
      "t_total value of -1 results in schedule not being applied\n"
     ]
    }
   ],
   "source": [
    "model = BertSinglePrediction(conf, num_labels=1) \n",
    "PATH = \"../saved_models/MLM/model_with_prior_82test\"\n",
    "model = load_model(PATH, model)\n",
    "params = list(model.named_parameters())\n",
    "optim = adam(params, optim_param)"
   ]
  },
  {
   "cell_type": "code",
   "execution_count": 29,
   "id": "749af079-19ec-4f5f-bf65-c55f0b62c4fb",
   "metadata": {},
   "outputs": [
    {
     "name": "stderr",
     "output_type": "stream",
     "text": [
      "LOCAL_RANK: 0 - CUDA_VISIBLE_DEVICES: [0]\n"
     ]
    },
    {
     "data": {
      "application/vnd.jupyter.widget-view+json": {
       "model_id": "99e70606df084c3180a93e89a859436a",
       "version_major": 2,
       "version_minor": 0
      },
      "text/plain": [
       "Training: 0it [00:00, ?it/s]"
      ]
     },
     "metadata": {},
     "output_type": "display_data"
    },
    {
     "name": "stderr",
     "output_type": "stream",
     "text": [
      "LOCAL_RANK: 0 - CUDA_VISIBLE_DEVICES: [0]\n"
     ]
    },
    {
     "data": {
      "application/vnd.jupyter.widget-view+json": {
       "model_id": "90314bf9b5864f6f8dac7412d32d0a40",
       "version_major": 2,
       "version_minor": 0
      },
      "text/plain": [
       "Predicting: 835it [00:00, ?it/s]"
      ]
     },
     "metadata": {},
     "output_type": "display_data"
    },
    {
     "name": "stderr",
     "output_type": "stream",
     "text": [
      "Exception ignored in: <function _releaseLock at 0x7fe60a3a6830>\n",
      "Traceback (most recent call last):\n",
      "  File \"/home/stud/j/johagg17/.conda/envs/masterenv/lib/python3.7/logging/__init__.py\", line 221, in _releaseLock\n",
      "    def _releaseLock():\n",
      "KeyboardInterrupt\n",
      "Exception ignored in: <function _releaseLock at 0x7fe60a3a6830>\n",
      "Traceback (most recent call last):\n",
      "  File \"/home/stud/j/johagg17/.conda/envs/masterenv/lib/python3.7/logging/__init__.py\", line 221, in _releaseLock\n",
      "    def _releaseLock():\n",
      "KeyboardInterrupt\n",
      "Exception ignored in: <function _releaseLock at 0x7fe60a3a6830>\n",
      "Traceback (most recent call last):\n",
      "  File \"/home/stud/j/johagg17/.conda/envs/masterenv/lib/python3.7/logging/__init__.py\", line 221, in _releaseLock\n",
      "    def _releaseLock():\n",
      "KeyboardInterrupt\n",
      "Exception ignored in: <function _MultiProcessingDataLoaderIter.__del__ at 0x7fe4bd03cb00>\n",
      "Traceback (most recent call last):\n",
      "  File \"/home/stud/j/johagg17/.conda/envs/masterenv/lib/python3.7/site-packages/torch/utils/data/dataloader.py\", line 1328, in __del__\n",
      "    self._shutdown_workers()\n",
      "  File \"/home/stud/j/johagg17/.conda/envs/masterenv/lib/python3.7/site-packages/torch/utils/data/dataloader.py\", line 1301, in _shutdown_workers\n",
      "    w.join(timeout=_utils.MP_STATUS_CHECK_INTERVAL)\n",
      "  File \"/home/stud/j/johagg17/.conda/envs/masterenv/lib/python3.7/multiprocessing/process.py\", line 140, in join\n",
      "    res = self._popen.wait(timeout)\n",
      "  File \"/home/stud/j/johagg17/.conda/envs/masterenv/lib/python3.7/multiprocessing/popen_fork.py\", line 45, in wait\n",
      "    if not wait([self.sentinel], timeout):\n",
      "  File \"/home/stud/j/johagg17/.conda/envs/masterenv/lib/python3.7/multiprocessing/connection.py\", line 921, in wait\n",
      "    ready = selector.select(timeout)\n",
      "  File \"/home/stud/j/johagg17/.conda/envs/masterenv/lib/python3.7/selectors.py\", line 415, in select\n",
      "    fd_event_list = self._selector.poll(timeout)\n",
      "KeyboardInterrupt: \n"
     ]
    }
   ],
   "source": [
    "patienttrajectory = TrainerBinaryPrediction(model, optim, optim_param)\n",
    "\n",
    "trainer.fit(\n",
    "    patienttrajectory, \n",
    "    train_dataloader=trainloader,\n",
    ");\n",
    "\n",
    "predictions = trainer.predict(patienttrajectory, dataloaders=testloader)"
   ]
  },
  {
   "cell_type": "code",
   "execution_count": 218,
   "id": "e881e9be-1b3c-4948-a0ff-4dbd6e9cd061",
   "metadata": {},
   "outputs": [],
   "source": [
    "PATH = '../saved_models/Readmission/deep_unshuffled'\n",
    "torch.save(model.state_dict(), PATH)"
   ]
  },
  {
   "cell_type": "code",
   "execution_count": 95,
   "id": "4cfa82a1-7fed-4573-952a-be4da45ec572",
   "metadata": {},
   "outputs": [
    {
     "name": "stderr",
     "output_type": "stream",
     "text": [
      "LOCAL_RANK: 0 - CUDA_VISIBLE_DEVICES: [0]\n"
     ]
    },
    {
     "name": "stdout",
     "output_type": "stream",
     "text": [
      "Predicting: 4258it [00:10, ?it/s]\n"
     ]
    }
   ],
   "source": [
    "#predictions = trainer.predict(patienttrajectory, dataloaders=testloader)"
   ]
  },
  {
   "cell_type": "code",
   "execution_count": 30,
   "id": "02ab1b08-d27e-412d-a06a-6aa74d17a7b3",
   "metadata": {},
   "outputs": [],
   "source": [
    "f1 = 0"
   ]
  },
  {
   "cell_type": "code",
   "execution_count": 31,
   "id": "0b16cd90-3b75-4837-9e8b-3f911a13ec03",
   "metadata": {},
   "outputs": [
    {
     "ename": "TypeError",
     "evalue": "'NoneType' object is not iterable",
     "output_type": "error",
     "traceback": [
      "\u001b[0;31m---------------------------------------------------------------------------\u001b[0m",
      "\u001b[0;31mTypeError\u001b[0m                                 Traceback (most recent call last)",
      "\u001b[0;32m/tmp/ipykernel_1708254/1908524241.py\u001b[0m in \u001b[0;36m<module>\u001b[0;34m\u001b[0m\n\u001b[0;32m----> 1\u001b[0;31m \u001b[0;32mfor\u001b[0m \u001b[0mpreds\u001b[0m \u001b[0;32min\u001b[0m \u001b[0mpredictions\u001b[0m\u001b[0;34m:\u001b[0m\u001b[0;34m\u001b[0m\u001b[0;34m\u001b[0m\u001b[0m\n\u001b[0m\u001b[1;32m      2\u001b[0m     \u001b[0mf1\u001b[0m \u001b[0;34m+=\u001b[0m \u001b[0mpreds\u001b[0m\u001b[0;34m[\u001b[0m\u001b[0;34m'f1-score'\u001b[0m\u001b[0;34m]\u001b[0m\u001b[0;34m\u001b[0m\u001b[0;34m\u001b[0m\u001b[0m\n",
      "\u001b[0;31mTypeError\u001b[0m: 'NoneType' object is not iterable"
     ]
    }
   ],
   "source": [
    "for preds in predictions:\n",
    "    f1 += preds['f1-score']"
   ]
  },
  {
   "cell_type": "code",
   "execution_count": 22,
   "id": "588873ca-982a-429c-ad97-612eaa39ab48",
   "metadata": {},
   "outputs": [
    {
     "data": {
      "text/plain": [
       "0.6798975099001531"
      ]
     },
     "execution_count": 22,
     "metadata": {},
     "output_type": "execute_result"
    }
   ],
   "source": [
    "f1 / len(predictions)"
   ]
  },
  {
   "cell_type": "code",
   "execution_count": 23,
   "id": "fcb4282d-760f-4d13-b945-434548101707",
   "metadata": {},
   "outputs": [
    {
     "data": {
      "text/plain": [
       "0.5985578624251539"
      ]
     },
     "execution_count": 23,
     "metadata": {},
     "output_type": "execute_result"
    }
   ],
   "source": [
    "aucpr = 0\n",
    "\n",
    "for preds in predictions:\n",
    "    aucpr += preds['AUCPR']\n",
    "    \n",
    "aucpr / len(predictions)"
   ]
  },
  {
   "cell_type": "code",
   "execution_count": 25,
   "id": "c7389863-3aa2-46b9-8a9d-a41f8e7cce88",
   "metadata": {},
   "outputs": [
    {
     "data": {
      "text/plain": [
       "0.5574393813299494"
      ]
     },
     "execution_count": 25,
     "metadata": {},
     "output_type": "execute_result"
    }
   ],
   "source": [
    "auc = 0\n",
    "\n",
    "for preds in predictions:\n",
    "    auc += preds['AUC']\n",
    "    \n",
    "auc / len(predictions)"
   ]
  },
  {
   "cell_type": "code",
   "execution_count": null,
   "id": "7d5c920b-3297-4eb7-9bd7-b5889de915e4",
   "metadata": {},
   "outputs": [],
   "source": []
  }
 ],
 "metadata": {
  "kernelspec": {
   "display_name": "Python 3 (ipykernel)",
   "language": "python",
   "name": "python3"
  },
  "language_info": {
   "codemirror_mode": {
    "name": "ipython",
    "version": 3
   },
   "file_extension": ".py",
   "mimetype": "text/x-python",
   "name": "python",
   "nbconvert_exporter": "python",
   "pygments_lexer": "ipython3",
   "version": "3.7.11"
  }
 },
 "nbformat": 4,
 "nbformat_minor": 5
}
