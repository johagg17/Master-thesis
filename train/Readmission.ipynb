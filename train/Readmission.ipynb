{
 "cells": [
  {
   "cell_type": "code",
   "execution_count": 1,
   "id": "b0d8cd51-31ff-4918-b44a-570ec113358c",
   "metadata": {},
   "outputs": [],
   "source": [
    "import sys"
   ]
  },
  {
   "cell_type": "code",
   "execution_count": 2,
   "id": "b9c9e973-65e0-4de9-abb5-620771f5de0f",
   "metadata": {},
   "outputs": [],
   "source": [
    "sys.path.insert(1, '../')"
   ]
  },
  {
   "cell_type": "code",
   "execution_count": 3,
   "id": "62255c74-88e4-4495-a574-0aa89eed4e48",
   "metadata": {},
   "outputs": [],
   "source": [
    "from utils.dataset import EHRDatasetPredictionTask\n",
    "from model.tokenizer import EHRTokenizer\n",
    "import pytorch_pretrained_bert as Bert\n",
    "from torch.utils.data import DataLoader\n",
    "from model.model import *\n",
    "from utils.config import BertConfig\n",
    "from model.trainer import PatientTrajectoryPredictor\n",
    "import pytorch_lightning as pl"
   ]
  },
  {
   "cell_type": "code",
   "execution_count": 4,
   "id": "859e2564-d1ec-4628-8d04-049ebdc0c344",
   "metadata": {},
   "outputs": [],
   "source": [
    "import pandas as pd\n",
    "import warnings\n",
    "warnings.filterwarnings('ignore')"
   ]
  },
  {
   "cell_type": "code",
   "execution_count": 5,
   "id": "b335a69d-9b73-45ab-86fb-943cf70283ea",
   "metadata": {},
   "outputs": [],
   "source": [
    "path = '../processing/readmission_data'"
   ]
  },
  {
   "cell_type": "code",
   "execution_count": 6,
   "id": "62b2e0d3-1b28-4e89-9291-be93bd35da39",
   "metadata": {},
   "outputs": [],
   "source": [
    "data = pd.read_parquet(path)"
   ]
  },
  {
   "cell_type": "code",
   "execution_count": 7,
   "id": "6595cb43-d73d-40fe-8ce9-f75b04b8484b",
   "metadata": {},
   "outputs": [
    {
     "data": {
      "text/html": [
       "<div>\n",
       "<style scoped>\n",
       "    .dataframe tbody tr th:only-of-type {\n",
       "        vertical-align: middle;\n",
       "    }\n",
       "\n",
       "    .dataframe tbody tr th {\n",
       "        vertical-align: top;\n",
       "    }\n",
       "\n",
       "    .dataframe thead th {\n",
       "        text-align: right;\n",
       "    }\n",
       "</style>\n",
       "<table border=\"1\" class=\"dataframe\">\n",
       "  <thead>\n",
       "    <tr style=\"text-align: right;\">\n",
       "      <th></th>\n",
       "      <th>subject_id</th>\n",
       "      <th>label</th>\n",
       "      <th>icd_code</th>\n",
       "      <th>age</th>\n",
       "      <th>alcohol_abuse</th>\n",
       "      <th>tobacco_abuse</th>\n",
       "      <th>ndc</th>\n",
       "      <th>hadm_id</th>\n",
       "      <th>gender</th>\n",
       "    </tr>\n",
       "  </thead>\n",
       "  <tbody>\n",
       "    <tr>\n",
       "      <th>0</th>\n",
       "      <td>10031358</td>\n",
       "      <td>[0, 0, 0]</td>\n",
       "      <td>[[25080, 73007, 7854, 2761, 70715, 5849, 25060...</td>\n",
       "      <td>[62.0, 63.0, 64.0]</td>\n",
       "      <td>[1, 1, 0]</td>\n",
       "      <td>[0, 0, 0]</td>\n",
       "      <td>[[63323026201, 71015892, 51079045420, 74706811...</td>\n",
       "      <td>[27421511, 28279098, 24522342]</td>\n",
       "      <td>M</td>\n",
       "    </tr>\n",
       "    <tr>\n",
       "      <th>1</th>\n",
       "      <td>10040737</td>\n",
       "      <td>[0]</td>\n",
       "      <td>[[5602, 4019, 53081, 2713, 30000, 2449]]</td>\n",
       "      <td>[51.0]</td>\n",
       "      <td>[0]</td>\n",
       "      <td>[0]</td>\n",
       "      <td>[[78112001103, 60793011601, 63323026201, 90456...</td>\n",
       "      <td>[26871570]</td>\n",
       "      <td>F</td>\n",
       "    </tr>\n",
       "    <tr>\n",
       "      <th>2</th>\n",
       "      <td>10047088</td>\n",
       "      <td>[0]</td>\n",
       "      <td>[[78659, 30500, 41400, 4139, 4019, 25000, 3000...</td>\n",
       "      <td>[48.0]</td>\n",
       "      <td>[1]</td>\n",
       "      <td>[0]</td>\n",
       "      <td>[[55390000401, 182050789, 904578561, 904404073...</td>\n",
       "      <td>[29486018]</td>\n",
       "      <td>M</td>\n",
       "    </tr>\n",
       "    <tr>\n",
       "      <th>3</th>\n",
       "      <td>10051825</td>\n",
       "      <td>[0]</td>\n",
       "      <td>[[1963, 1725, 78702, 30390]]</td>\n",
       "      <td>[50.0]</td>\n",
       "      <td>[0]</td>\n",
       "      <td>[0]</td>\n",
       "      <td>[[904198861, 338011704, 33332001201, 510790759...</td>\n",
       "      <td>[29436824]</td>\n",
       "      <td>M</td>\n",
       "    </tr>\n",
       "    <tr>\n",
       "      <th>4</th>\n",
       "      <td>10082965</td>\n",
       "      <td>[0]</td>\n",
       "      <td>[[7211, 9982, E8708, 4019]]</td>\n",
       "      <td>[81.0]</td>\n",
       "      <td>[0]</td>\n",
       "      <td>[0]</td>\n",
       "      <td>[[61553020648, 574705050, 121043130, 536338101...</td>\n",
       "      <td>[22046658]</td>\n",
       "      <td>F</td>\n",
       "    </tr>\n",
       "  </tbody>\n",
       "</table>\n",
       "</div>"
      ],
      "text/plain": [
       "   subject_id      label                                           icd_code  \\\n",
       "0    10031358  [0, 0, 0]  [[25080, 73007, 7854, 2761, 70715, 5849, 25060...   \n",
       "1    10040737        [0]           [[5602, 4019, 53081, 2713, 30000, 2449]]   \n",
       "2    10047088        [0]  [[78659, 30500, 41400, 4139, 4019, 25000, 3000...   \n",
       "3    10051825        [0]                       [[1963, 1725, 78702, 30390]]   \n",
       "4    10082965        [0]                        [[7211, 9982, E8708, 4019]]   \n",
       "\n",
       "                  age alcohol_abuse tobacco_abuse  \\\n",
       "0  [62.0, 63.0, 64.0]     [1, 1, 0]     [0, 0, 0]   \n",
       "1              [51.0]           [0]           [0]   \n",
       "2              [48.0]           [1]           [0]   \n",
       "3              [50.0]           [0]           [0]   \n",
       "4              [81.0]           [0]           [0]   \n",
       "\n",
       "                                                 ndc  \\\n",
       "0  [[63323026201, 71015892, 51079045420, 74706811...   \n",
       "1  [[78112001103, 60793011601, 63323026201, 90456...   \n",
       "2  [[55390000401, 182050789, 904578561, 904404073...   \n",
       "3  [[904198861, 338011704, 33332001201, 510790759...   \n",
       "4  [[61553020648, 574705050, 121043130, 536338101...   \n",
       "\n",
       "                          hadm_id gender  \n",
       "0  [27421511, 28279098, 24522342]      M  \n",
       "1                      [26871570]      F  \n",
       "2                      [29486018]      M  \n",
       "3                      [29436824]      M  \n",
       "4                      [22046658]      F  "
      ]
     },
     "execution_count": 7,
     "metadata": {},
     "output_type": "execute_result"
    }
   ],
   "source": [
    "data.head()"
   ]
  },
  {
   "cell_type": "code",
   "execution_count": 8,
   "id": "a94ac7c3-341e-42d4-b7e7-966b05f1c20e",
   "metadata": {},
   "outputs": [],
   "source": [
    "global_params = {\n",
    "    'max_seq_len': 32,\n",
    "    'max_age': 110,\n",
    "    'month': 1,\n",
    "    'age_symbol': None,\n",
    "    'min_visit': 5,\n",
    "    'gradient_accumulation_steps': 1\n",
    "}\n",
    "\n",
    "optim_param = {\n",
    "    'lr': 3e-5,\n",
    "    'warmup_proportion': 0.1,\n",
    "    'weight_decay': 0.01\n",
    "}\n",
    "\n",
    "train_params = {\n",
    "    'batch_size': 32,\n",
    "    'use_cuda': True,\n",
    "    'max_len_seq': global_params['max_seq_len'],\n",
    "    'device': 'cuda' #change this to run on cuda #'cuda:0'\n",
    "}"
   ]
  },
  {
   "cell_type": "code",
   "execution_count": 9,
   "id": "d77fa5d6-1671-4a7c-bcbf-c0a5067f23f3",
   "metadata": {},
   "outputs": [],
   "source": [
    "tokenizer = EHRTokenizer()"
   ]
  },
  {
   "cell_type": "code",
   "execution_count": 10,
   "id": "7f19e533-bd30-47f2-b019-02fe2ba6f3bd",
   "metadata": {},
   "outputs": [],
   "source": [
    "trainset = EHRDatasetPredictionTask(data, max_len=train_params['max_len_seq'], tokenizer=tokenizer, prediction_task='readmission')"
   ]
  },
  {
   "cell_type": "code",
   "execution_count": 11,
   "id": "4c3ed028-4da6-4d18-a7c9-45d454907f50",
   "metadata": {},
   "outputs": [],
   "source": [
    "trainload = DataLoader(dataset=trainset, batch_size=train_params['batch_size'], shuffle=True)"
   ]
  },
  {
   "cell_type": "code",
   "execution_count": 12,
   "id": "8af2e48f-bf05-4677-82c6-9e86a48bcdde",
   "metadata": {},
   "outputs": [],
   "source": [
    "model_config = {\n",
    "    'vocab_size': len(tokenizer.getVoc('code').keys()), # number of disease + symbols for word embedding\n",
    "    'hidden_size': 200, # word embedding and seg embedding hidden size\n",
    "    'seg_vocab_size': 2, # number of vocab for seg embedding\n",
    "    'age_vocab_size': len(tokenizer.getVoc('age').keys()), # number of vocab for age embedding,\n",
    "    'gender_vocab_size': 3,\n",
    "    'max_position_embeddings': train_params['max_len_seq'], # maximum number of tokens\n",
    "    'hidden_dropout_prob': 0.1, # dropout rate\n",
    "    'num_hidden_layers': 2, # number of multi-head attention layers required\n",
    "    'num_attention_heads': 4, # number of attention heads\n",
    "    'attention_probs_dropout_prob': 0.1, # multi-head attention dropout rate\n",
    "    'intermediate_size': 300, # the size of the \"intermediate\" layer in the transformer encoder\n",
    "    'hidden_act': 'gelu', # The non-linear activation function in the encoder and the pooler \"gelu\", 'relu', 'swish' are supported\n",
    "    'initializer_range': 0.02, # parameter weight initializer range\n",
    "}"
   ]
  },
  {
   "cell_type": "code",
   "execution_count": 13,
   "id": "8509a03f-de53-440b-b700-127db1dea907",
   "metadata": {},
   "outputs": [],
   "source": [
    "conf = BertConfig(**model_config)"
   ]
  },
  {
   "cell_type": "code",
   "execution_count": 14,
   "id": "90200416-9226-4a10-86c3-70843c2dfd55",
   "metadata": {},
   "outputs": [],
   "source": [
    "model = BertSinglePrediction(conf, num_labels=1)"
   ]
  },
  {
   "cell_type": "code",
   "execution_count": 15,
   "id": "cd25e854-d68a-4d5a-b656-c39e3a9722f8",
   "metadata": {},
   "outputs": [],
   "source": [
    "def load_model(path, model):\n",
    "    # load pretrained model and update weights\n",
    "    pretrained_dict = torch.load(path)\n",
    "    model_dict = model.state_dict()\n",
    "    # 1. filter out unnecessary keys\n",
    "    pretrained_dict = {k: v for k, v in pretrained_dict.items() if k in model_dict}\n",
    "    # 2. overwrite entries in the existing state dict\n",
    "    model_dict.update(pretrained_dict)\n",
    "    # 3. load the new state dict\n",
    "    model.load_state_dict(model_dict)\n",
    "    return model\n",
    "\n",
    "PATH = \"checkpoint2\"\n",
    "mode = load_model(PATH, model)"
   ]
  },
  {
   "cell_type": "code",
   "execution_count": 16,
   "id": "990cd0fa-707e-4f43-87db-cd6aff889715",
   "metadata": {},
   "outputs": [
    {
     "name": "stderr",
     "output_type": "stream",
     "text": [
      "t_total value of -1 results in schedule not being applied\n"
     ]
    }
   ],
   "source": [
    "no_decay = ['bias', 'LayerNorm.bias', 'LayerNorm.weight']\n",
    "params = list(model.named_parameters())\n",
    "optimizer_grouped_parameters = [\n",
    "    {'params': [p for n, p in params if not any(nd in n for nd in no_decay)], 'weight_decay': 0.01},\n",
    "    {'params': [p for n, p in params if any(nd in n for nd in no_decay)], 'weight_decay': 0}\n",
    "]\n",
    "\n",
    "optim = Bert.optimization.BertAdam(optimizer_grouped_parameters,\n",
    "                                   lr=optim_param['lr'],\n",
    "                                   warmup=optim_param['warmup_proportion'])"
   ]
  },
  {
   "cell_type": "code",
   "execution_count": 17,
   "id": "7f9fa81c-4768-4da3-8fe6-668eabcf21c3",
   "metadata": {},
   "outputs": [],
   "source": [
    "model = model.to('cuda') "
   ]
  },
  {
   "cell_type": "code",
   "execution_count": 18,
   "id": "fabf4bd8-0205-4d01-8ff2-bb0cdd80d561",
   "metadata": {},
   "outputs": [],
   "source": [
    "patienttrajectory = PatientTrajectoryPredictor(model, optim, optim_param, train_objective='readmission', metrics=True)"
   ]
  },
  {
   "cell_type": "code",
   "execution_count": 19,
   "id": "51b46a61-2b16-48e0-b016-06282f258221",
   "metadata": {},
   "outputs": [],
   "source": [
    "tensorboarddir = '../logs/'"
   ]
  },
  {
   "cell_type": "code",
   "execution_count": 20,
   "id": "50a8d5c4-521b-4e62-b4d4-c00f205d1894",
   "metadata": {},
   "outputs": [
    {
     "name": "stderr",
     "output_type": "stream",
     "text": [
      "GPU available: True, used: True\n",
      "TPU available: False, using: 0 TPU cores\n",
      "IPU available: False, using: 0 IPUs\n"
     ]
    }
   ],
   "source": [
    "trainer = pl.Trainer(\n",
    "            max_epochs=20, \n",
    "            gpus=1,\n",
    "            logger=pl.loggers.TensorBoardLogger(save_dir=tensorboarddir),\n",
    "            callbacks=[pl.callbacks.progress.TQDMProgressBar()], \n",
    "            progress_bar_refresh_rate=1,\n",
    "            weights_summary=None, # Can be None, top or full\n",
    "            num_sanity_val_steps=10,\n",
    "        )"
   ]
  },
  {
   "cell_type": "code",
   "execution_count": 21,
   "id": "6781df04-1129-4e91-930d-717b71fb8832",
   "metadata": {},
   "outputs": [
    {
     "name": "stderr",
     "output_type": "stream",
     "text": [
      "LOCAL_RANK: 0 - CUDA_VISIBLE_DEVICES: [0]\n"
     ]
    },
    {
     "name": "stdout",
     "output_type": "stream",
     "text": [
      "Epoch 2:  83%|███████████████████████████████████████        | 3051/3672 [01:33<00:19, 32.57it/s, loss=0.232, v_num=131]"
     ]
    }
   ],
   "source": [
    "trainer.fit(\n",
    "    patienttrajectory, \n",
    "    train_dataloader=trainload,\n",
    ");"
   ]
  },
  {
   "cell_type": "code",
   "execution_count": null,
   "id": "eee7d29e-fb51-41f1-b556-8252759e5052",
   "metadata": {},
   "outputs": [],
   "source": []
  },
  {
   "cell_type": "code",
   "execution_count": null,
   "id": "60df954c-22ff-4ae1-ac3b-b679bece615d",
   "metadata": {},
   "outputs": [],
   "source": []
  }
 ],
 "metadata": {
  "kernelspec": {
   "display_name": "Python 3 (ipykernel)",
   "language": "python",
   "name": "python3"
  },
  "language_info": {
   "codemirror_mode": {
    "name": "ipython",
    "version": 3
   },
   "file_extension": ".py",
   "mimetype": "text/x-python",
   "name": "python",
   "nbconvert_exporter": "python",
   "pygments_lexer": "ipython3",
   "version": "3.7.11"
  }
 },
 "nbformat": 4,
 "nbformat_minor": 5
}
