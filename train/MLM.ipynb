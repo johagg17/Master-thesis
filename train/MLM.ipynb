{
 "cells": [
  {
   "cell_type": "code",
   "execution_count": 1,
   "id": "6b5e6d03-c6a6-4c47-89c7-8238e87237ba",
   "metadata": {},
   "outputs": [],
   "source": [
    "import sys"
   ]
  },
  {
   "cell_type": "code",
   "execution_count": 2,
   "id": "bba6d229-2037-43e0-8551-fdf1d53e7ea4",
   "metadata": {},
   "outputs": [],
   "source": [
    "sys.path.insert(1, '../')"
   ]
  },
  {
   "cell_type": "code",
   "execution_count": 3,
   "id": "59a27ea4",
   "metadata": {},
   "outputs": [],
   "source": [
    "from utils.dataset import EHRDataset\n",
    "from model.tokenizer import EHRTokenizer\n",
    "import pytorch_pretrained_bert as Bert\n",
    "from torch.utils.data import DataLoader\n",
    "from model.model import *\n",
    "from utils.config import *\n",
    "from utils.optimizer import adam\n",
    "from model.trainers import TrainerMLM\n",
    "import pytorch_lightning as pl\n",
    "from sklearn.model_selection import KFold\n",
    "import pandas as pd\n",
    "import warnings\n",
    "from sklearn.model_selection import train_test_split\n",
    "import pytorch_lightning as pl\n",
    "#from pytorch_lightning.strategies import DeepSpeedStrategy\n",
    "warnings.filterwarnings('ignore')\n",
    "\n",
    "from utils.vocabulary import *"
   ]
  },
  {
   "cell_type": "code",
   "execution_count": 4,
   "id": "347e301a-72ae-4b39-826c-4dffec8fe557",
   "metadata": {},
   "outputs": [
    {
     "data": {
      "text/plain": [
       "'1.5.10'"
      ]
     },
     "execution_count": 4,
     "metadata": {},
     "output_type": "execute_result"
    }
   ],
   "source": [
    "pl.__version__"
   ]
  },
  {
   "cell_type": "code",
   "execution_count": 5,
   "id": "c177dd4f",
   "metadata": {},
   "outputs": [],
   "source": [
    "#path = 'C:/Users/Johan/Documents/Skola/MasterThesis/Master-thesis/pre-processing/combined-csv-files.csv'\n",
    "path_patients = '../data/datasets/readmission_data_synthea'\n",
    "path_prior = '../data/datasets/prior_table'"
   ]
  },
  {
   "cell_type": "code",
   "execution_count": 6,
   "id": "5e1014c1-ab64-4a05-8fbc-9b4aacae2aef",
   "metadata": {},
   "outputs": [],
   "source": [
    "datapat = pd.read_parquet(path_patients)\n",
    "dataprior = pd.read_parquet(path_prior)"
   ]
  },
  {
   "cell_type": "code",
   "execution_count": 7,
   "id": "2b8544aa-e596-4017-b1e1-a4f7c72c36f4",
   "metadata": {},
   "outputs": [],
   "source": [
    "dataset = datapat.merge(dataprior, on='subject_id', how='inner')"
   ]
  },
  {
   "cell_type": "code",
   "execution_count": 8,
   "id": "880b20dc-058f-470b-b12a-db6de69a72a8",
   "metadata": {},
   "outputs": [
    {
     "data": {
      "text/html": [
       "<div>\n",
       "<style scoped>\n",
       "    .dataframe tbody tr th:only-of-type {\n",
       "        vertical-align: middle;\n",
       "    }\n",
       "\n",
       "    .dataframe tbody tr th {\n",
       "        vertical-align: top;\n",
       "    }\n",
       "\n",
       "    .dataframe thead th {\n",
       "        text-align: right;\n",
       "    }\n",
       "</style>\n",
       "<table border=\"1\" class=\"dataframe\">\n",
       "  <thead>\n",
       "    <tr style=\"text-align: right;\">\n",
       "      <th></th>\n",
       "      <th>subject_id</th>\n",
       "      <th>label</th>\n",
       "      <th>gender</th>\n",
       "      <th>diagnos_code</th>\n",
       "      <th>medication_code</th>\n",
       "      <th>age</th>\n",
       "      <th>hadm_id</th>\n",
       "      <th>prior_values</th>\n",
       "      <th>prior_indicies</th>\n",
       "    </tr>\n",
       "  </thead>\n",
       "  <tbody>\n",
       "    <tr>\n",
       "      <th>0</th>\n",
       "      <td>001b1739-594d-5546-df1a-31b45f21df14</td>\n",
       "      <td>[True, False, True, False, False, False, False...</td>\n",
       "      <td>F</td>\n",
       "      <td>[[59621000], [160903007], [160903007, 73595000...</td>\n",
       "      <td>[[895994, 2123111, 308136], [895994, 2123111, ...</td>\n",
       "      <td>[18, 19, 20, 21, 22, 23, 24, 25, 26, 27, 27, 2...</td>\n",
       "      <td>[c6a1d752-8c9d-881e-7364-638199b36886, 12ffc33...</td>\n",
       "      <td>[[0.05721096694469452, 0.2824791371822357, 0.0...</td>\n",
       "      <td>[[59621000,2123111, 59621000,308136, 59621000,...</td>\n",
       "    </tr>\n",
       "    <tr>\n",
       "      <th>1</th>\n",
       "      <td>0021064f-1f2d-c10d-cd67-61355163e451</td>\n",
       "      <td>[True, False]</td>\n",
       "      <td>M</td>\n",
       "      <td>[[59621000, 224299000, 160903007, 423315002, 7...</td>\n",
       "      <td>[[308136], [310798, 308136], [310798, 308136]]</td>\n",
       "      <td>[18, 19, 20]</td>\n",
       "      <td>[fd9765ce-323b-788d-e718-b12d381221ae, 183786f...</td>\n",
       "      <td>[[0.2824791371822357, 0.43951985239982605, 0.2...</td>\n",
       "      <td>[[59621000,308136, 423315002,308136, 224299000...</td>\n",
       "    </tr>\n",
       "    <tr>\n",
       "      <th>2</th>\n",
       "      <td>00321cbc-4a3c-74db-2647-227bb48c9030</td>\n",
       "      <td>[True, False, True, False, False, True, False,...</td>\n",
       "      <td>F</td>\n",
       "      <td>[[59621000, 5251000175109, 713458007, 73595000...</td>\n",
       "      <td>[[314076], [314076, 308136], [314076, 308136],...</td>\n",
       "      <td>[19, 20, 21, 22, 23, 23, 23, 24, 25, 26, 27, 2...</td>\n",
       "      <td>[bd7bfe04-d279-4619-20d5-a8e1ed60706e, 280ff45...</td>\n",
       "      <td>[[0.576877236366272, 0.6760563254356384, 0.638...</td>\n",
       "      <td>[[59621000,314076, 713458007,314076, 73595000,...</td>\n",
       "    </tr>\n",
       "    <tr>\n",
       "      <th>3</th>\n",
       "      <td>00357297-ebcc-09ad-ff09-44ce4edb2903</td>\n",
       "      <td>[False, False, False, False, False, False, Fal...</td>\n",
       "      <td>F</td>\n",
       "      <td>[[59621000, 105531004, 224299000], [706893006]...</td>\n",
       "      <td>[[314076], [314076], [314076], [314076], [3140...</td>\n",
       "      <td>[18, 19, 23, 24, 26, 27, 30, 44, 45, 48, 49, 5...</td>\n",
       "      <td>[3586f8d3-eb86-34b4-5126-f9de2b738144, 9c93df7...</td>\n",
       "      <td>[[0.576877236366272, 0.5573770403862, 0.572481...</td>\n",
       "      <td>[[59621000,314076, 105531004,314076, 224299000...</td>\n",
       "    </tr>\n",
       "    <tr>\n",
       "      <th>4</th>\n",
       "      <td>005c8e32-1655-350c-4ee0-421e1f5bd9f5</td>\n",
       "      <td>[True, False, False, False, True]</td>\n",
       "      <td>F</td>\n",
       "      <td>[[59621000, 5251000175109, 73438004], [4085120...</td>\n",
       "      <td>[[310798], [310798, 314076], [310798, 314076],...</td>\n",
       "      <td>[18, 19, 56, 58, 59]</td>\n",
       "      <td>[93b22e64-503e-36d7-73c9-e1e7c6bde553, bf89c08...</td>\n",
       "      <td>[[0.4481525719165802, 0.4363636374473572, 0.46...</td>\n",
       "      <td>[[59621000,310798, 73438004,310798, 5251000175...</td>\n",
       "    </tr>\n",
       "    <tr>\n",
       "      <th>...</th>\n",
       "      <td>...</td>\n",
       "      <td>...</td>\n",
       "      <td>...</td>\n",
       "      <td>...</td>\n",
       "      <td>...</td>\n",
       "      <td>...</td>\n",
       "      <td>...</td>\n",
       "      <td>...</td>\n",
       "      <td>...</td>\n",
       "    </tr>\n",
       "    <tr>\n",
       "      <th>903</th>\n",
       "      <td>5678bdb0-e556-b3c4-ea2b-ca4e841326ec</td>\n",
       "      <td>[True, True, True]</td>\n",
       "      <td>M</td>\n",
       "      <td>[[10509002], [160904001], [160903007, 706893006]]</td>\n",
       "      <td>[[313782], [200033, 313988, 314077], [200033, ...</td>\n",
       "      <td>[52, 52, 54]</td>\n",
       "      <td>[9d6b74e3-8080-5455-11ed-2ff202d31ef5, 77c8934...</td>\n",
       "      <td>[[0.7518796920776367, 0.6944444179534912], [0....</td>\n",
       "      <td>[[10509002,313782, 313782,10509002], [16090400...</td>\n",
       "    </tr>\n",
       "    <tr>\n",
       "      <th>904</th>\n",
       "      <td>56963914-5b48-1103-2313-a21e76a27ba7</td>\n",
       "      <td>[True, False, False, False, False, False, Fals...</td>\n",
       "      <td>M</td>\n",
       "      <td>[[59621000, 224299000], [73595000], [706893006...</td>\n",
       "      <td>[[310798], [310798, 314076], [310798, 314076],...</td>\n",
       "      <td>[18, 19, 20, 21, 22, 27, 29, 31, 33, 37, 39, 4...</td>\n",
       "      <td>[d64182c8-8650-2a3c-d621-4091b5489f35, 76ba365...</td>\n",
       "      <td>[[0.4481525719165802, 0.4422604441642761, 0.02...</td>\n",
       "      <td>[[59621000,310798, 224299000,310798, 310798,59...</td>\n",
       "    </tr>\n",
       "    <tr>\n",
       "      <th>905</th>\n",
       "      <td>56f6c873-86fc-869b-f314-d9c63e6f180a</td>\n",
       "      <td>[False, False, False, False, False, False, Fal...</td>\n",
       "      <td>M</td>\n",
       "      <td>[[59621000, 5251000175109], [160903007, 735950...</td>\n",
       "      <td>[[310798, 314076], [310798, 314076], [310798, ...</td>\n",
       "      <td>[18, 19, 21, 22, 23, 24, 25, 27, 28, 29, 30, 3...</td>\n",
       "      <td>[1fe98dd3-727c-3524-d021-db3565721970, fb6b0dd...</td>\n",
       "      <td>[[0.576877236366272, 0.4481525719165802, 0.563...</td>\n",
       "      <td>[[59621000,314076, 59621000,310798, 5251000175...</td>\n",
       "    </tr>\n",
       "    <tr>\n",
       "      <th>906</th>\n",
       "      <td>5710b35c-5e42-d52b-e0de-df001aa6dadf</td>\n",
       "      <td>[False, False, False, False, False, False, Fal...</td>\n",
       "      <td>M</td>\n",
       "      <td>[[160968000], [59621000, 224299000, 160903007]...</td>\n",
       "      <td>[[895994, 2123111], [895994, 2123111, 314076],...</td>\n",
       "      <td>[17, 18, 20, 21, 22, 23, 24, 25, 26, 29, 30, 3...</td>\n",
       "      <td>[55b65f82-750a-13ab-6d94-4ab5835df1a5, df90e2f...</td>\n",
       "      <td>[[0.8333333134651184, 0.8333333134651184, 0.01...</td>\n",
       "      <td>[[160968000,2123111, 160968000,895994, 2123111...</td>\n",
       "    </tr>\n",
       "    <tr>\n",
       "      <th>907</th>\n",
       "      <td>572e0c12-8149-ca1d-ff2d-7c434dfc67c5</td>\n",
       "      <td>[False, False, True, False, False, False, True]</td>\n",
       "      <td>F</td>\n",
       "      <td>[[162864005], [160968000], [59621000, 52510001...</td>\n",
       "      <td>[[895994, 2123111], [895994, 2123111], [895994...</td>\n",
       "      <td>[16, 16, 18, 20, 21, 22, 23]</td>\n",
       "      <td>[35e32dd7-7426-cd35-cc4e-dc2056eea945, 8d0b6ec...</td>\n",
       "      <td>[[0.0714285746216774, 0.0714285746216774, 0.01...</td>\n",
       "      <td>[[162864005,2123111, 162864005,895994, 2123111...</td>\n",
       "    </tr>\n",
       "  </tbody>\n",
       "</table>\n",
       "<p>908 rows × 9 columns</p>\n",
       "</div>"
      ],
      "text/plain": [
       "                               subject_id  \\\n",
       "0    001b1739-594d-5546-df1a-31b45f21df14   \n",
       "1    0021064f-1f2d-c10d-cd67-61355163e451   \n",
       "2    00321cbc-4a3c-74db-2647-227bb48c9030   \n",
       "3    00357297-ebcc-09ad-ff09-44ce4edb2903   \n",
       "4    005c8e32-1655-350c-4ee0-421e1f5bd9f5   \n",
       "..                                    ...   \n",
       "903  5678bdb0-e556-b3c4-ea2b-ca4e841326ec   \n",
       "904  56963914-5b48-1103-2313-a21e76a27ba7   \n",
       "905  56f6c873-86fc-869b-f314-d9c63e6f180a   \n",
       "906  5710b35c-5e42-d52b-e0de-df001aa6dadf   \n",
       "907  572e0c12-8149-ca1d-ff2d-7c434dfc67c5   \n",
       "\n",
       "                                                 label gender  \\\n",
       "0    [True, False, True, False, False, False, False...      F   \n",
       "1                                        [True, False]      M   \n",
       "2    [True, False, True, False, False, True, False,...      F   \n",
       "3    [False, False, False, False, False, False, Fal...      F   \n",
       "4                    [True, False, False, False, True]      F   \n",
       "..                                                 ...    ...   \n",
       "903                                 [True, True, True]      M   \n",
       "904  [True, False, False, False, False, False, Fals...      M   \n",
       "905  [False, False, False, False, False, False, Fal...      M   \n",
       "906  [False, False, False, False, False, False, Fal...      M   \n",
       "907    [False, False, True, False, False, False, True]      F   \n",
       "\n",
       "                                          diagnos_code  \\\n",
       "0    [[59621000], [160903007], [160903007, 73595000...   \n",
       "1    [[59621000, 224299000, 160903007, 423315002, 7...   \n",
       "2    [[59621000, 5251000175109, 713458007, 73595000...   \n",
       "3    [[59621000, 105531004, 224299000], [706893006]...   \n",
       "4    [[59621000, 5251000175109, 73438004], [4085120...   \n",
       "..                                                 ...   \n",
       "903  [[10509002], [160904001], [160903007, 706893006]]   \n",
       "904  [[59621000, 224299000], [73595000], [706893006...   \n",
       "905  [[59621000, 5251000175109], [160903007, 735950...   \n",
       "906  [[160968000], [59621000, 224299000, 160903007]...   \n",
       "907  [[162864005], [160968000], [59621000, 52510001...   \n",
       "\n",
       "                                       medication_code  \\\n",
       "0    [[895994, 2123111, 308136], [895994, 2123111, ...   \n",
       "1       [[308136], [310798, 308136], [310798, 308136]]   \n",
       "2    [[314076], [314076, 308136], [314076, 308136],...   \n",
       "3    [[314076], [314076], [314076], [314076], [3140...   \n",
       "4    [[310798], [310798, 314076], [310798, 314076],...   \n",
       "..                                                 ...   \n",
       "903  [[313782], [200033, 313988, 314077], [200033, ...   \n",
       "904  [[310798], [310798, 314076], [310798, 314076],...   \n",
       "905  [[310798, 314076], [310798, 314076], [310798, ...   \n",
       "906  [[895994, 2123111], [895994, 2123111, 314076],...   \n",
       "907  [[895994, 2123111], [895994, 2123111], [895994...   \n",
       "\n",
       "                                                   age  \\\n",
       "0    [18, 19, 20, 21, 22, 23, 24, 25, 26, 27, 27, 2...   \n",
       "1                                         [18, 19, 20]   \n",
       "2    [19, 20, 21, 22, 23, 23, 23, 24, 25, 26, 27, 2...   \n",
       "3    [18, 19, 23, 24, 26, 27, 30, 44, 45, 48, 49, 5...   \n",
       "4                                 [18, 19, 56, 58, 59]   \n",
       "..                                                 ...   \n",
       "903                                       [52, 52, 54]   \n",
       "904  [18, 19, 20, 21, 22, 27, 29, 31, 33, 37, 39, 4...   \n",
       "905  [18, 19, 21, 22, 23, 24, 25, 27, 28, 29, 30, 3...   \n",
       "906  [17, 18, 20, 21, 22, 23, 24, 25, 26, 29, 30, 3...   \n",
       "907                       [16, 16, 18, 20, 21, 22, 23]   \n",
       "\n",
       "                                               hadm_id  \\\n",
       "0    [c6a1d752-8c9d-881e-7364-638199b36886, 12ffc33...   \n",
       "1    [fd9765ce-323b-788d-e718-b12d381221ae, 183786f...   \n",
       "2    [bd7bfe04-d279-4619-20d5-a8e1ed60706e, 280ff45...   \n",
       "3    [3586f8d3-eb86-34b4-5126-f9de2b738144, 9c93df7...   \n",
       "4    [93b22e64-503e-36d7-73c9-e1e7c6bde553, bf89c08...   \n",
       "..                                                 ...   \n",
       "903  [9d6b74e3-8080-5455-11ed-2ff202d31ef5, 77c8934...   \n",
       "904  [d64182c8-8650-2a3c-d621-4091b5489f35, 76ba365...   \n",
       "905  [1fe98dd3-727c-3524-d021-db3565721970, fb6b0dd...   \n",
       "906  [55b65f82-750a-13ab-6d94-4ab5835df1a5, df90e2f...   \n",
       "907  [35e32dd7-7426-cd35-cc4e-dc2056eea945, 8d0b6ec...   \n",
       "\n",
       "                                          prior_values  \\\n",
       "0    [[0.05721096694469452, 0.2824791371822357, 0.0...   \n",
       "1    [[0.2824791371822357, 0.43951985239982605, 0.2...   \n",
       "2    [[0.576877236366272, 0.6760563254356384, 0.638...   \n",
       "3    [[0.576877236366272, 0.5573770403862, 0.572481...   \n",
       "4    [[0.4481525719165802, 0.4363636374473572, 0.46...   \n",
       "..                                                 ...   \n",
       "903  [[0.7518796920776367, 0.6944444179534912], [0....   \n",
       "904  [[0.4481525719165802, 0.4422604441642761, 0.02...   \n",
       "905  [[0.576877236366272, 0.4481525719165802, 0.563...   \n",
       "906  [[0.8333333134651184, 0.8333333134651184, 0.01...   \n",
       "907  [[0.0714285746216774, 0.0714285746216774, 0.01...   \n",
       "\n",
       "                                        prior_indicies  \n",
       "0    [[59621000,2123111, 59621000,308136, 59621000,...  \n",
       "1    [[59621000,308136, 423315002,308136, 224299000...  \n",
       "2    [[59621000,314076, 713458007,314076, 73595000,...  \n",
       "3    [[59621000,314076, 105531004,314076, 224299000...  \n",
       "4    [[59621000,310798, 73438004,310798, 5251000175...  \n",
       "..                                                 ...  \n",
       "903  [[10509002,313782, 313782,10509002], [16090400...  \n",
       "904  [[59621000,310798, 224299000,310798, 310798,59...  \n",
       "905  [[59621000,314076, 59621000,310798, 5251000175...  \n",
       "906  [[160968000,2123111, 160968000,895994, 2123111...  \n",
       "907  [[162864005,2123111, 162864005,895994, 2123111...  \n",
       "\n",
       "[908 rows x 9 columns]"
      ]
     },
     "execution_count": 8,
     "metadata": {},
     "output_type": "execute_result"
    }
   ],
   "source": [
    "dataset"
   ]
  },
  {
   "cell_type": "code",
   "execution_count": 9,
   "id": "732f78aa",
   "metadata": {},
   "outputs": [],
   "source": [
    "global_params = {\n",
    "    'max_seq_len': 256,\n",
    "    'gradient_accumulation_steps': 1\n",
    "}\n",
    "\n",
    "optim_param = {\n",
    "    'lr': 3e-5,\n",
    "    'warmup_proportion': 0.1,\n",
    "    'weight_decay': 0.01\n",
    "}\n",
    "\n",
    "train_params = {\n",
    "    'batch_size': 32,\n",
    "    'use_cuda': True,\n",
    "    'max_len_seq': global_params['max_seq_len'],\n",
    "    'device': 'cuda' #change this to run on cuda #'cuda:0'\n",
    "}"
   ]
  },
  {
   "cell_type": "code",
   "execution_count": 10,
   "id": "2dc4ee4e-922b-4bae-896b-a5f608e3f056",
   "metadata": {},
   "outputs": [],
   "source": [
    "dataset['subject_id'] = dataset['subject_id'].apply(lambda x: x.replace('-', ''))"
   ]
  },
  {
   "cell_type": "code",
   "execution_count": 11,
   "id": "fa54f757-ec70-4da7-914d-2829c27761fa",
   "metadata": {},
   "outputs": [],
   "source": [
    "cand1 = '03b2c53316751658bec6774dac0420e8'\n",
    "cand2 = '530721d8beaad75b132645f864310ac5'\n",
    "cand3 = '3c8ea5fab1efb6c3d7fb6b5e90d006db'"
   ]
  },
  {
   "cell_type": "code",
   "execution_count": 12,
   "id": "e28271e8-4e4b-43c2-bedd-53834dd2feee",
   "metadata": {},
   "outputs": [
    {
     "data": {
      "text/plain": [
       "[array([array([ 59621000, 224299000, 160903007, 424393004]),\n",
       "        array([160903007,  73595000]), array([160903007]),\n",
       "        array([38822007])], dtype=object)]"
      ]
     },
     "execution_count": 12,
     "metadata": {},
     "output_type": "execute_result"
    }
   ],
   "source": [
    "dataset[dataset['subject_id'] == cand1]['diagnos_code'].tolist()"
   ]
  },
  {
   "cell_type": "code",
   "execution_count": 13,
   "id": "467c06be-7b9a-4304-a938-10682febfa33",
   "metadata": {},
   "outputs": [
    {
     "data": {
      "text/plain": [
       "[59621000, 224299000, 160903007, 424393004, 310798, 'SEP']"
      ]
     },
     "execution_count": 13,
     "metadata": {},
     "output_type": "execute_result"
    }
   ],
   "source": [
    "[ 59621000, 224299000, 160903007, 424393004, 310798, 'SEP', 160903007,  73595000, 310798, 'SEP', 160903007, 310798, 'SEP', 38822007, 311989, 1094107, 'SEP'][:6]"
   ]
  },
  {
   "cell_type": "code",
   "execution_count": 14,
   "id": "3ac967d2-e27d-4f7c-a6a8-b9d31788f894",
   "metadata": {},
   "outputs": [],
   "source": [
    "sequence = [20, 21, 22, 22, 'SEP', 25, 25, 25, 'SEP', 28, 28, 28, 'SEP', 29, 29, 'SEP'][:10]"
   ]
  },
  {
   "cell_type": "code",
   "execution_count": 15,
   "id": "847ac311-c46d-4de1-ab86-94e5e17f4ccd",
   "metadata": {},
   "outputs": [
    {
     "data": {
      "text/plain": [
       "9"
      ]
     },
     "execution_count": 15,
     "metadata": {},
     "output_type": "execute_result"
    }
   ],
   "source": [
    "len(sequence) - sequence[::-1].index('SEP')"
   ]
  },
  {
   "cell_type": "code",
   "execution_count": 16,
   "id": "054a88e9-a192-42a9-b9d6-1cbd7463b46d",
   "metadata": {},
   "outputs": [
    {
     "data": {
      "text/plain": [
       "[array([array([310798], dtype=int32), array([310798], dtype=int32),\n",
       "        array([310798], dtype=int32),\n",
       "        array([ 311989, 1094107], dtype=int32)], dtype=object)]"
      ]
     },
     "execution_count": 16,
     "metadata": {},
     "output_type": "execute_result"
    }
   ],
   "source": [
    "dataset[dataset['subject_id'] == cand1]['medication_code'].tolist()"
   ]
  },
  {
   "cell_type": "code",
   "execution_count": 17,
   "id": "1c3a1954-0a6b-44a9-b23a-f97b16d10389",
   "metadata": {},
   "outputs": [
    {
     "data": {
      "text/plain": [
       "[array([array([0.44815257, 0.60892391, 0.57646614, 0.44226044, 0.02893866,\n",
       "               0.01785577, 0.70207036, 0.01385361])                       ,\n",
       "        array([0.57646614, 0.57566994, 0.70207036, 0.22981605]),\n",
       "        array([0.57646614, 0.70207036]),\n",
       "        array([1.        , 1.        , 0.23529412, 0.23529412])],\n",
       "       dtype=object)]"
      ]
     },
     "execution_count": 17,
     "metadata": {},
     "output_type": "execute_result"
    }
   ],
   "source": [
    "dataset[dataset['subject_id'] == cand1]['prior_values'].tolist()"
   ]
  },
  {
   "cell_type": "code",
   "execution_count": 18,
   "id": "0643b245-6a5c-496d-a8a3-91d692663f93",
   "metadata": {},
   "outputs": [
    {
     "data": {
      "text/plain": [
       "[array([array(['59621000,310798', '424393004,310798', '160903007,310798',\n",
       "               '224299000,310798', '310798,59621000', '310798,424393004',\n",
       "               '310798,160903007', '310798,224299000'], dtype=object)    ,\n",
       "        array(['160903007,310798', '73595000,310798', '310798,160903007',\n",
       "               '310798,73595000'], dtype=object)                         ,\n",
       "        array(['160903007,310798', '310798,160903007'], dtype=object),\n",
       "        array(['38822007,1094107', '38822007,311989', '1094107,38822007',\n",
       "               '311989,38822007'], dtype=object)                         ],\n",
       "       dtype=object)]"
      ]
     },
     "execution_count": 18,
     "metadata": {},
     "output_type": "execute_result"
    }
   ],
   "source": [
    "dataset[dataset['subject_id'] == cand1]['prior_indicies'].tolist()"
   ]
  },
  {
   "cell_type": "code",
   "execution_count": 19,
   "id": "e07e623b-c285-4ab2-8e76-a17334aa3e22",
   "metadata": {},
   "outputs": [],
   "source": [
    "#diagnos_codes = dataset['diagnos_code'].tolist()\n",
    "#med_codes = dataset['medication_code'].tolist()\n",
    "#diagnos_codes.extend(med_codes)\n",
    "#file_path = '../data/vocabularies/Synthea/snomedrxnorm'\n",
    "#write_codes_to_file(diagnos_codes, file_path)"
   ]
  },
  {
   "cell_type": "code",
   "execution_count": 20,
   "id": "7246e1f0-6d9e-4b6f-8775-fa46537ba62c",
   "metadata": {},
   "outputs": [],
   "source": [
    "#ages = dataset['age'].tolist()\n",
    "#file_path = '../data/vocabularies/Synthea/age'\n",
    "#write_age_to_file(ages, file_path)"
   ]
  },
  {
   "cell_type": "code",
   "execution_count": 21,
   "id": "be625ee3",
   "metadata": {},
   "outputs": [],
   "source": [
    "files = {'code':'../data/vocabularies/Synthea/snomedrxnorm.npy',\n",
    "         'age':'../data/vocabularies/Synthea/age.npy'\n",
    "        }\n",
    "tokenizer = EHRTokenizer(task='MLM', filenames=files)"
   ]
  },
  {
   "cell_type": "code",
   "execution_count": 22,
   "id": "2d869c1d-64fb-4731-a693-a91a6aceb9b7",
   "metadata": {},
   "outputs": [
    {
     "data": {
      "text/plain": [
       "258"
      ]
     },
     "execution_count": 22,
     "metadata": {},
     "output_type": "execute_result"
    }
   ],
   "source": [
    "len(tokenizer.getVoc('code').keys())"
   ]
  },
  {
   "cell_type": "code",
   "execution_count": 23,
   "id": "ec6d8921-f627-4e78-85c6-7ae56f9d3f1a",
   "metadata": {},
   "outputs": [
    {
     "data": {
      "text/plain": [
       "104"
      ]
     },
     "execution_count": 23,
     "metadata": {},
     "output_type": "execute_result"
    }
   ],
   "source": [
    "len(tokenizer.getVoc('age').keys())"
   ]
  },
  {
   "cell_type": "code",
   "execution_count": 24,
   "id": "1f01e1b9",
   "metadata": {},
   "outputs": [],
   "source": [
    "#Shallow\n",
    "model_config = {\n",
    "    'vocab_size': len(tokenizer.getVoc('code').keys()), # number of disease + symbols for word embedding\n",
    "    'hidden_size': 288, # word embedding and seg embedding hidden size\n",
    "    'seg_vocab_size': 2, # number of vocab for seg embedding\n",
    "    'age_vocab_size': len(tokenizer.getVoc('age').keys()), # number of vocab for age embedding,\n",
    "    'gender_vocab_size': 3,\n",
    "    'max_position_embeddings': train_params['max_len_seq'], # maximum number of tokens\n",
    "    'hidden_dropout_prob': 0.1, # dropout rate\n",
    "    'num_hidden_layers': 4, # number of multi-head attention layers required\n",
    "    'num_attention_heads': 6, # number of attention heads\n",
    "    'attention_probs_dropout_prob': 0.1, # multi-head attention dropout rate\n",
    "    'intermediate_size': 512, # the size of the \"intermediate\" layer in the transformer encoder\n",
    "    'hidden_act': 'gelu', # The non-linear activation function in the encoder and the pooler \"gelu\", 'relu', 'swish' are supported\n",
    "    'initializer_range': 0.02, # parameter weight initializer range\n",
    "}"
   ]
  },
  {
   "cell_type": "code",
   "execution_count": 25,
   "id": "914c04d4",
   "metadata": {},
   "outputs": [],
   "source": [
    "conf = BertConfig(model_config)"
   ]
  },
  {
   "cell_type": "code",
   "execution_count": 26,
   "id": "dcd16dcb-5eaf-4a46-8db9-445f4dce0180",
   "metadata": {},
   "outputs": [],
   "source": [
    "tensorboarddir = '../logs/'"
   ]
  },
  {
   "cell_type": "code",
   "execution_count": 27,
   "id": "3f0a7a73-ec91-4ba5-aff2-b6eeb13dd363",
   "metadata": {},
   "outputs": [],
   "source": [
    "#kfold=KFold(n_splits=5,shuffle=True)"
   ]
  },
  {
   "cell_type": "code",
   "execution_count": 28,
   "id": "232b963e-bdc8-4498-80a8-837d84a149b5",
   "metadata": {},
   "outputs": [
    {
     "name": "stderr",
     "output_type": "stream",
     "text": [
      "GPU available: True, used: True\n",
      "TPU available: False, using: 0 TPU cores\n",
      "IPU available: False, using: 0 IPUs\n"
     ]
    }
   ],
   "source": [
    "trainer = pl.Trainer(\n",
    "            max_epochs=5, \n",
    "            gpus=-1,\n",
    "            logger=pl.loggers.TensorBoardLogger(save_dir=tensorboarddir),\n",
    "            callbacks=[pl.callbacks.TQDMProgressBar()], \n",
    "            progress_bar_refresh_rate=1,\n",
    "            weights_summary=None, # Can be None, top or full\n",
    "            num_sanity_val_steps=10,\n",
    "        )"
   ]
  },
  {
   "cell_type": "code",
   "execution_count": 29,
   "id": "2146eeb6-710c-47b6-ba79-9468f097a8f1",
   "metadata": {},
   "outputs": [],
   "source": [
    "trainset, testset = train_test_split(dataset, test_size=0.2)"
   ]
  },
  {
   "cell_type": "code",
   "execution_count": 30,
   "id": "640e02e2-16db-4499-9c36-c55fbb58ec67",
   "metadata": {},
   "outputs": [
    {
     "data": {
      "text/plain": [
       "'1.10.2'"
      ]
     },
     "execution_count": 30,
     "metadata": {},
     "output_type": "execute_result"
    }
   ],
   "source": [
    "torch.__version__"
   ]
  },
  {
   "cell_type": "code",
   "execution_count": 31,
   "id": "26515286-8335-4de3-8835-bfb0698aa1a7",
   "metadata": {},
   "outputs": [],
   "source": [
    "traind = EHRDataset(trainset, max_len=train_params['max_len_seq'], tokenizer=tokenizer)\n",
    "testd = EHRDataset(testset, max_len=train_params['max_len_seq'], tokenizer=tokenizer)"
   ]
  },
  {
   "cell_type": "code",
   "execution_count": 32,
   "id": "eec11dba-0dc8-45e3-a8b9-12c03d93005c",
   "metadata": {},
   "outputs": [],
   "source": [
    "trainloader = torch.utils.data.DataLoader(traind, batch_size=32, shuffle=True, num_workers=4)\n",
    "testloader = torch.utils.data.DataLoader(testd, batch_size=32, shuffle=True, num_workers=4)"
   ]
  },
  {
   "cell_type": "code",
   "execution_count": 33,
   "id": "37c49eb7-f13b-46d6-99f3-6550c22e64d7",
   "metadata": {},
   "outputs": [
    {
     "ename": "RuntimeError",
     "evalue": "Caught RuntimeError in DataLoader worker process 0.\nOriginal Traceback (most recent call last):\n  File \"/home/stud/j/johagg17/.conda/envs/masterenv/lib/python3.7/site-packages/torch/utils/data/_utils/worker.py\", line 287, in _worker_loop\n    data = fetcher.fetch(index)\n  File \"/home/stud/j/johagg17/.conda/envs/masterenv/lib/python3.7/site-packages/torch/utils/data/_utils/fetch.py\", line 52, in fetch\n    return self.collate_fn(data)\n  File \"/home/stud/j/johagg17/.conda/envs/masterenv/lib/python3.7/site-packages/torch/utils/data/_utils/collate.py\", line 84, in default_collate\n    return [default_collate(samples) for samples in transposed]\n  File \"/home/stud/j/johagg17/.conda/envs/masterenv/lib/python3.7/site-packages/torch/utils/data/_utils/collate.py\", line 84, in <listcomp>\n    return [default_collate(samples) for samples in transposed]\n  File \"/home/stud/j/johagg17/.conda/envs/masterenv/lib/python3.7/site-packages/torch/utils/data/_utils/collate.py\", line 56, in default_collate\n    return torch.stack(batch, 0, out=out)\nRuntimeError: stack expects each tensor to be equal size, but got [1, 94] at entry 0 and [1, 182] at entry 1\n",
     "output_type": "error",
     "traceback": [
      "\u001b[0;31m---------------------------------------------------------------------------\u001b[0m",
      "\u001b[0;31mRuntimeError\u001b[0m                              Traceback (most recent call last)",
      "\u001b[0;32m/tmp/ipykernel_3993051/735135863.py\u001b[0m in \u001b[0;36m<module>\u001b[0;34m\u001b[0m\n\u001b[0;32m----> 1\u001b[0;31m \u001b[0mtest\u001b[0m \u001b[0;34m=\u001b[0m \u001b[0mnext\u001b[0m\u001b[0;34m(\u001b[0m\u001b[0miter\u001b[0m\u001b[0;34m(\u001b[0m\u001b[0mtrainloader\u001b[0m\u001b[0;34m)\u001b[0m\u001b[0;34m)\u001b[0m\u001b[0;34m\u001b[0m\u001b[0;34m\u001b[0m\u001b[0m\n\u001b[0m",
      "\u001b[0;32m~/.conda/envs/masterenv/lib/python3.7/site-packages/torch/utils/data/dataloader.py\u001b[0m in \u001b[0;36m__next__\u001b[0;34m(self)\u001b[0m\n\u001b[1;32m    519\u001b[0m             \u001b[0;32mif\u001b[0m \u001b[0mself\u001b[0m\u001b[0;34m.\u001b[0m\u001b[0m_sampler_iter\u001b[0m \u001b[0;32mis\u001b[0m \u001b[0;32mNone\u001b[0m\u001b[0;34m:\u001b[0m\u001b[0;34m\u001b[0m\u001b[0;34m\u001b[0m\u001b[0m\n\u001b[1;32m    520\u001b[0m                 \u001b[0mself\u001b[0m\u001b[0;34m.\u001b[0m\u001b[0m_reset\u001b[0m\u001b[0;34m(\u001b[0m\u001b[0;34m)\u001b[0m\u001b[0;34m\u001b[0m\u001b[0;34m\u001b[0m\u001b[0m\n\u001b[0;32m--> 521\u001b[0;31m             \u001b[0mdata\u001b[0m \u001b[0;34m=\u001b[0m \u001b[0mself\u001b[0m\u001b[0;34m.\u001b[0m\u001b[0m_next_data\u001b[0m\u001b[0;34m(\u001b[0m\u001b[0;34m)\u001b[0m\u001b[0;34m\u001b[0m\u001b[0;34m\u001b[0m\u001b[0m\n\u001b[0m\u001b[1;32m    522\u001b[0m             \u001b[0mself\u001b[0m\u001b[0;34m.\u001b[0m\u001b[0m_num_yielded\u001b[0m \u001b[0;34m+=\u001b[0m \u001b[0;36m1\u001b[0m\u001b[0;34m\u001b[0m\u001b[0;34m\u001b[0m\u001b[0m\n\u001b[1;32m    523\u001b[0m             \u001b[0;32mif\u001b[0m \u001b[0mself\u001b[0m\u001b[0;34m.\u001b[0m\u001b[0m_dataset_kind\u001b[0m \u001b[0;34m==\u001b[0m \u001b[0m_DatasetKind\u001b[0m\u001b[0;34m.\u001b[0m\u001b[0mIterable\u001b[0m \u001b[0;32mand\u001b[0m\u001b[0;31m \u001b[0m\u001b[0;31m\\\u001b[0m\u001b[0;34m\u001b[0m\u001b[0;34m\u001b[0m\u001b[0m\n",
      "\u001b[0;32m~/.conda/envs/masterenv/lib/python3.7/site-packages/torch/utils/data/dataloader.py\u001b[0m in \u001b[0;36m_next_data\u001b[0;34m(self)\u001b[0m\n\u001b[1;32m   1201\u001b[0m             \u001b[0;32melse\u001b[0m\u001b[0;34m:\u001b[0m\u001b[0;34m\u001b[0m\u001b[0;34m\u001b[0m\u001b[0m\n\u001b[1;32m   1202\u001b[0m                 \u001b[0;32mdel\u001b[0m \u001b[0mself\u001b[0m\u001b[0;34m.\u001b[0m\u001b[0m_task_info\u001b[0m\u001b[0;34m[\u001b[0m\u001b[0midx\u001b[0m\u001b[0;34m]\u001b[0m\u001b[0;34m\u001b[0m\u001b[0;34m\u001b[0m\u001b[0m\n\u001b[0;32m-> 1203\u001b[0;31m                 \u001b[0;32mreturn\u001b[0m \u001b[0mself\u001b[0m\u001b[0;34m.\u001b[0m\u001b[0m_process_data\u001b[0m\u001b[0;34m(\u001b[0m\u001b[0mdata\u001b[0m\u001b[0;34m)\u001b[0m\u001b[0;34m\u001b[0m\u001b[0;34m\u001b[0m\u001b[0m\n\u001b[0m\u001b[1;32m   1204\u001b[0m \u001b[0;34m\u001b[0m\u001b[0m\n\u001b[1;32m   1205\u001b[0m     \u001b[0;32mdef\u001b[0m \u001b[0m_try_put_index\u001b[0m\u001b[0;34m(\u001b[0m\u001b[0mself\u001b[0m\u001b[0;34m)\u001b[0m\u001b[0;34m:\u001b[0m\u001b[0;34m\u001b[0m\u001b[0;34m\u001b[0m\u001b[0m\n",
      "\u001b[0;32m~/.conda/envs/masterenv/lib/python3.7/site-packages/torch/utils/data/dataloader.py\u001b[0m in \u001b[0;36m_process_data\u001b[0;34m(self, data)\u001b[0m\n\u001b[1;32m   1227\u001b[0m         \u001b[0mself\u001b[0m\u001b[0;34m.\u001b[0m\u001b[0m_try_put_index\u001b[0m\u001b[0;34m(\u001b[0m\u001b[0;34m)\u001b[0m\u001b[0;34m\u001b[0m\u001b[0;34m\u001b[0m\u001b[0m\n\u001b[1;32m   1228\u001b[0m         \u001b[0;32mif\u001b[0m \u001b[0misinstance\u001b[0m\u001b[0;34m(\u001b[0m\u001b[0mdata\u001b[0m\u001b[0;34m,\u001b[0m \u001b[0mExceptionWrapper\u001b[0m\u001b[0;34m)\u001b[0m\u001b[0;34m:\u001b[0m\u001b[0;34m\u001b[0m\u001b[0;34m\u001b[0m\u001b[0m\n\u001b[0;32m-> 1229\u001b[0;31m             \u001b[0mdata\u001b[0m\u001b[0;34m.\u001b[0m\u001b[0mreraise\u001b[0m\u001b[0;34m(\u001b[0m\u001b[0;34m)\u001b[0m\u001b[0;34m\u001b[0m\u001b[0;34m\u001b[0m\u001b[0m\n\u001b[0m\u001b[1;32m   1230\u001b[0m         \u001b[0;32mreturn\u001b[0m \u001b[0mdata\u001b[0m\u001b[0;34m\u001b[0m\u001b[0;34m\u001b[0m\u001b[0m\n\u001b[1;32m   1231\u001b[0m \u001b[0;34m\u001b[0m\u001b[0m\n",
      "\u001b[0;32m~/.conda/envs/masterenv/lib/python3.7/site-packages/torch/_utils.py\u001b[0m in \u001b[0;36mreraise\u001b[0;34m(self)\u001b[0m\n\u001b[1;32m    432\u001b[0m             \u001b[0;31m# instantiate since we don't know how to\u001b[0m\u001b[0;34m\u001b[0m\u001b[0;34m\u001b[0m\u001b[0;34m\u001b[0m\u001b[0m\n\u001b[1;32m    433\u001b[0m             \u001b[0;32mraise\u001b[0m \u001b[0mRuntimeError\u001b[0m\u001b[0;34m(\u001b[0m\u001b[0mmsg\u001b[0m\u001b[0;34m)\u001b[0m \u001b[0;32mfrom\u001b[0m \u001b[0;32mNone\u001b[0m\u001b[0;34m\u001b[0m\u001b[0;34m\u001b[0m\u001b[0m\n\u001b[0;32m--> 434\u001b[0;31m         \u001b[0;32mraise\u001b[0m \u001b[0mexception\u001b[0m\u001b[0;34m\u001b[0m\u001b[0;34m\u001b[0m\u001b[0m\n\u001b[0m\u001b[1;32m    435\u001b[0m \u001b[0;34m\u001b[0m\u001b[0m\n\u001b[1;32m    436\u001b[0m \u001b[0;34m\u001b[0m\u001b[0m\n",
      "\u001b[0;31mRuntimeError\u001b[0m: Caught RuntimeError in DataLoader worker process 0.\nOriginal Traceback (most recent call last):\n  File \"/home/stud/j/johagg17/.conda/envs/masterenv/lib/python3.7/site-packages/torch/utils/data/_utils/worker.py\", line 287, in _worker_loop\n    data = fetcher.fetch(index)\n  File \"/home/stud/j/johagg17/.conda/envs/masterenv/lib/python3.7/site-packages/torch/utils/data/_utils/fetch.py\", line 52, in fetch\n    return self.collate_fn(data)\n  File \"/home/stud/j/johagg17/.conda/envs/masterenv/lib/python3.7/site-packages/torch/utils/data/_utils/collate.py\", line 84, in default_collate\n    return [default_collate(samples) for samples in transposed]\n  File \"/home/stud/j/johagg17/.conda/envs/masterenv/lib/python3.7/site-packages/torch/utils/data/_utils/collate.py\", line 84, in <listcomp>\n    return [default_collate(samples) for samples in transposed]\n  File \"/home/stud/j/johagg17/.conda/envs/masterenv/lib/python3.7/site-packages/torch/utils/data/_utils/collate.py\", line 56, in default_collate\n    return torch.stack(batch, 0, out=out)\nRuntimeError: stack expects each tensor to be equal size, but got [1, 94] at entry 0 and [1, 182] at entry 1\n"
     ]
    }
   ],
   "source": [
    "test = next(iter(trainloader))"
   ]
  },
  {
   "cell_type": "code",
   "execution_count": null,
   "id": "25663a9f-d2ca-4ac6-8ec8-e366846e4f49",
   "metadata": {},
   "outputs": [],
   "source": [
    "model = BertForMaskedLM(conf) #BertForMaskedLM(conf)\n",
    "params = list(model.named_parameters())\n",
    "optim = adam(params, optim_param)"
   ]
  },
  {
   "cell_type": "code",
   "execution_count": null,
   "id": "1727d416-ced6-440c-8064-2386a282f483",
   "metadata": {},
   "outputs": [],
   "source": [
    "patienttrajectory = TrainerMLM(model, optim, optim_param)\n",
    "\n",
    "trainer.fit(\n",
    "    patienttrajectory, \n",
    "    train_dataloaders=trainloader,\n",
    ");\n",
    "\n",
    "predictions = trainer.predict(patienttrajectory, dataloaders=testloader)"
   ]
  },
  {
   "cell_type": "code",
   "execution_count": null,
   "id": "5bf4cc3b-d8b9-42cb-834a-85be31a046e3",
   "metadata": {},
   "outputs": [],
   "source": [
    "avg_acc = sum([ stats['precision'] for stats in predictions ]) / len(predictions)\n",
    "avg_acc*100"
   ]
  },
  {
   "cell_type": "code",
   "execution_count": null,
   "id": "cca3d866-9443-4e10-8c15-f2e90206a48f",
   "metadata": {},
   "outputs": [],
   "source": [
    "PATH = '../saved_models/MLM/deep_notsuffled'\n",
    "torch.save(model.state_dict(), PATH)"
   ]
  },
  {
   "cell_type": "code",
   "execution_count": null,
   "id": "c4a0b4a3-d2f2-4eca-aab3-f0dc183f358a",
   "metadata": {
    "tags": []
   },
   "outputs": [],
   "source": [
    "# This is for the crossval, might not be runnable since we have done some debugging\n",
    "\n",
    "'''\n",
    "for fold,(train_idx,test_idx) in enumerate(kfold.split(data)):\n",
    "    print('------------fold no---------{}----------------------'.format(fold))\n",
    "    \n",
    "    trainer = pl.Trainer(\n",
    "            max_epochs=5, \n",
    "            gpus=-1,\n",
    "            logger=pl.loggers.TensorBoardLogger(save_dir=tensorboarddir),\n",
    "            callbacks=[pl.callbacks.progress.TQDMProgressBar()], \n",
    "            progress_bar_refresh_rate=1,\n",
    "            weights_summary=None, # Can be None, top or full\n",
    "            num_sanity_val_steps=10,\n",
    "        )\n",
    "    \n",
    "    train_subsampler = torch.utils.data.SubsetRandomSampler(train_idx)\n",
    "    test_subsampler = torch.utils.data.SubsetRandomSampler(test_idx)\n",
    "    \n",
    "    trainloader = torch.utils.data.DataLoader(dataset, batch_size=train_params['batch_size'], sampler=train_subsampler)\n",
    "    testloader = torch.utils.data.DataLoader(dataset, batch_size=train_params['batch_size'], sampler=test_subsampler)\n",
    "    \n",
    "    model = BertForMaskedLM(conf) #BertForMaskedLM(conf)\n",
    "    params = list(model.named_parameters())\n",
    "    optim = adam(params, optim_param)\n",
    "    \n",
    "    patienttrajectory = PatientTrajectoryPredictor(model, optim, optim_param, metrics=True)\n",
    "    \n",
    "    trainer.fit(\n",
    "        patienttrajectory, \n",
    "        train_dataloader=trainloader,\n",
    "    );\n",
    "  \n",
    "    predictions = trainer.predict(patienttrajectory, dataloaders=testloader)\n",
    "    avg_acc = sum([ stats['Precision'] for stats in predictions ]) / len(predictions)\n",
    "    \n",
    "    if avg_acc > best_test:\n",
    "        PATH = '../saved_models/Shallow_unsuffled{}'.format(fold)\n",
    "        torch.save(model.state_dict(), PATH)\n",
    "        best_test = avg_acc\n",
    "        \n",
    "    print(\"Average Test precision for fold {}: {} \".format(fold, avg_acc))\n",
    "'''"
   ]
  },
  {
   "cell_type": "code",
   "execution_count": null,
   "id": "63661910-f1aa-439e-947a-8f0764ef5be7",
   "metadata": {},
   "outputs": [],
   "source": [
    "PATH = '../saved_models/Shallow_unsuffled{}'.format(fold)\n",
    "torch.save(model.state_dict(), PATH)"
   ]
  },
  {
   "cell_type": "code",
   "execution_count": null,
   "id": "d98a7d25-622a-4ae1-98d8-608ce46df233",
   "metadata": {},
   "outputs": [],
   "source": [
    "avg_acc"
   ]
  },
  {
   "cell_type": "code",
   "execution_count": null,
   "id": "50b162a1-fbff-4588-93b6-4e6d2d0d5c65",
   "metadata": {},
   "outputs": [],
   "source": [
    "np.mean(allacc)"
   ]
  },
  {
   "cell_type": "markdown",
   "id": "89c02ae1-a2db-4688-a280-7349eed0e58d",
   "metadata": {
    "tags": []
   },
   "source": [
    "### Testing with BEHRTs training approach (without pytorch lightning)"
   ]
  },
  {
   "cell_type": "code",
   "execution_count": null,
   "id": "07bedfb1-7994-4e69-8f7b-9592a03fc6eb",
   "metadata": {},
   "outputs": [],
   "source": [
    "#import sklearn.metrics as skm"
   ]
  },
  {
   "cell_type": "code",
   "execution_count": null,
   "id": "db35e7f0-59bd-47c4-907f-a1cdea876acb",
   "metadata": {},
   "outputs": [],
   "source": [
    "'''\n",
    "def cal_acc(label, pred):\n",
    "    logs = nn.LogSoftmax()\n",
    "    label=label.cpu().numpy()\n",
    "    ind = np.where(label!=-1)[0]\n",
    "    truepred = pred.detach().cpu().numpy()\n",
    "    truepred = truepred[ind]\n",
    "    truelabel = label[ind]\n",
    "    truepred = logs(torch.tensor(truepred))\n",
    "    outs = [np.argmax(pred_x) for pred_x in truepred.numpy()]\n",
    "    \n",
    "   # print(\"Truelabel:\")\n",
    "   # print(truelabel)\n",
    "    \n",
    "   # print(\"Output:\")\n",
    "   # print(outs)\n",
    "    precision = skm.precision_score(truelabel, outs, average='micro')\n",
    "    return precision\n",
    "'''"
   ]
  },
  {
   "cell_type": "code",
   "execution_count": null,
   "id": "ea42dc98-e930-4cfc-9fa3-02685e197ec9",
   "metadata": {},
   "outputs": [],
   "source": [
    "#conf = BertConfig(model_config)\n",
    "#model = BertForMaskedLM(conf) \n",
    "#model = model.to('cuda')"
   ]
  },
  {
   "cell_type": "code",
   "execution_count": null,
   "id": "455eeada-6cfe-4898-a14f-f5f91badfc1d",
   "metadata": {},
   "outputs": [],
   "source": [
    "#params = list(model.named_parameters())\n",
    "#optim = adam(params, optim_param)"
   ]
  },
  {
   "cell_type": "code",
   "execution_count": null,
   "id": "f036d132-371f-452b-8d0b-8c7a9a433a75",
   "metadata": {},
   "outputs": [],
   "source": [
    "'''\n",
    "def train(e, loader):\n",
    "    tr_loss = 0\n",
    "    temp_loss = 0\n",
    "    nb_tr_examples, nb_tr_steps = 0, 0\n",
    "    cnt= 0\n",
    "    start = time.time()\n",
    "\n",
    "    for step, batch in enumerate(loader):\n",
    "        cnt +=1\n",
    "        batch = tuple(t.to(train_params['device']) for t in batch)\n",
    "        age_ids, gender_ids, input_ids, posi_ids, segment_ids, attMask, masked_label, _ = batch\n",
    "        #print()\n",
    "        loss, pred, label = model(input_ids, age_ids, gender_ids, segment_ids, posi_ids,attention_mask=attMask, labels=masked_label)\n",
    "        if global_params['gradient_accumulation_steps'] >1:\n",
    "            loss = loss/global_params['gradient_accumulation_steps']\n",
    "        loss.backward()\n",
    "        \n",
    "        temp_loss += loss.item()\n",
    "        tr_loss += loss.item()\n",
    "        \n",
    "        nb_tr_examples += input_ids.size(0)\n",
    "        nb_tr_steps += 1\n",
    "        \n",
    "        if step % 200==0:\n",
    "            print(\"epoch: {}\\t| cnt: {}\\t|Loss: {}\\t| precision: {:.4f}\\t| time: {:.2f}\".format(e, cnt, temp_loss/2000, cal_acc(label, pred), time.time()-start))\n",
    "            temp_loss = 0\n",
    "            start = time.time()\n",
    "            \n",
    "        if (step + 1) % global_params['gradient_accumulation_steps'] == 0:\n",
    "            optim.step()\n",
    "            optim.zero_grad()\n",
    "\n",
    "   #print(\"** ** * Saving fine - tuned model ** ** * \")\n",
    "    #model_to_save = model.module if hasattr(model, 'module') else model  # Only save the model it-self\n",
    "    #create_folder(file_config['model_path'])\n",
    "    #output_model_file = os.path.join(file_config['model_path'], file_config['model_name'])\n",
    "\n",
    "    #torch.save(model_to_save.state_dict(), output_model_file)\n",
    "        \n",
    "    cost = time.time() - start\n",
    "    return tr_loss, cost\n",
    "    \n",
    "'''"
   ]
  },
  {
   "cell_type": "code",
   "execution_count": null,
   "id": "6bab456b-d788-49db-94a5-d906169605d8",
   "metadata": {},
   "outputs": [],
   "source": [
    "trainset, testset = train_test_split(data, test_size=0.2)"
   ]
  },
  {
   "cell_type": "code",
   "execution_count": null,
   "id": "4e1198cf-4a54-407c-982e-857be9056627",
   "metadata": {},
   "outputs": [],
   "source": [
    "trainset = EHRDataset(trainset, max_len=train_params['max_len_seq'], tokenizer=tokenizer)\n",
    "trainload = DataLoader(dataset=trainset, batch_size=train_params['batch_size'], shuffle=True, num_workers=2)"
   ]
  },
  {
   "cell_type": "code",
   "execution_count": null,
   "id": "359c5a5f-7142-44d5-b376-3eac2d9b2aa4",
   "metadata": {},
   "outputs": [],
   "source": [
    "import time"
   ]
  },
  {
   "cell_type": "code",
   "execution_count": null,
   "id": "1e17cb07-a7e5-4685-9553-ae8473d74c3c",
   "metadata": {},
   "outputs": [],
   "source": [
    "for e in range(100):\n",
    "    loss, timecost = train(e, trainload)\n",
    "    loss = loss / len(trainload)\n",
    "    \n",
    "    print(\"Loss after epoch {}: {}\".format(e, loss))\n",
    "    \n",
    "    "
   ]
  },
  {
   "cell_type": "code",
   "execution_count": null,
   "id": "e8e98b64-99d9-47cd-b236-a4b5f7a0f40f",
   "metadata": {},
   "outputs": [],
   "source": []
  },
  {
   "cell_type": "code",
   "execution_count": null,
   "id": "abfc6c58-2a60-4890-83c3-e16e70d4a337",
   "metadata": {},
   "outputs": [],
   "source": []
  }
 ],
 "metadata": {
  "kernelspec": {
   "display_name": "Python 3 (ipykernel)",
   "language": "python",
   "name": "python3"
  },
  "language_info": {
   "codemirror_mode": {
    "name": "ipython",
    "version": 3
   },
   "file_extension": ".py",
   "mimetype": "text/x-python",
   "name": "python",
   "nbconvert_exporter": "python",
   "pygments_lexer": "ipython3",
   "version": "3.7.11"
  }
 },
 "nbformat": 4,
 "nbformat_minor": 5
}
